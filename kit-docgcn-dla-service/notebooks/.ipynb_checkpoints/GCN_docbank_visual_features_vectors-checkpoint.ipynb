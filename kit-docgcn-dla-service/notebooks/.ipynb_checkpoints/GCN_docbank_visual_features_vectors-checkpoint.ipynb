{
 "cells": [
  {
   "cell_type": "code",
   "execution_count": 1,
   "id": "8cf1e32e-169e-4777-8eda-c2515d7c5749",
   "metadata": {},
   "outputs": [
    {
     "name": "stdout",
     "output_type": "stream",
     "text": [
      "/Users/shashanksahoo/Documents/KIT_Projects_2022/ICA_project_2023/kit-docgcn-dla-service/notebooks\n"
     ]
    }
   ],
   "source": [
    "!pwd"
   ]
  },
  {
   "cell_type": "code",
   "execution_count": 2,
   "id": "715f378d-8430-4a1e-8028-2a3631debdd0",
   "metadata": {
    "tags": []
   },
   "outputs": [],
   "source": [
    "import os\n",
    "os.chdir('../py-bottom-up-attention') "
   ]
  },
  {
   "cell_type": "code",
   "execution_count": 3,
   "id": "6df3ae66-b307-437d-a8b3-ec77d99f20b6",
   "metadata": {
    "tags": []
   },
   "outputs": [
    {
     "name": "stdout",
     "output_type": "stream",
     "text": [
      "GETTING_STARTED.md    \u001b[1m\u001b[36mdemo\u001b[m\u001b[m                  \u001b[1m\u001b[36mprojects\u001b[m\u001b[m\n",
      "INSTALL.md            \u001b[1m\u001b[36mdetectron2\u001b[m\u001b[m            requirements.txt\n",
      "LICENSE               \u001b[1m\u001b[36mdetectron2.egg-info\u001b[m\u001b[m   sample_inderence.json\n",
      "MODEL_ZOO.md          \u001b[1m\u001b[36mdev\u001b[m\u001b[m                   setup.cfg\n",
      "README.md             \u001b[1m\u001b[36mdocker\u001b[m\u001b[m                setup.py\n",
      "\u001b[1m\u001b[36mbuild\u001b[m\u001b[m                 \u001b[1m\u001b[36mdocs\u001b[m\u001b[m                  \u001b[1m\u001b[36mtests\u001b[m\u001b[m\n",
      "\u001b[1m\u001b[36mconfigs\u001b[m\u001b[m               original_README.md    \u001b[1m\u001b[36mtools\u001b[m\u001b[m\n",
      "\u001b[1m\u001b[36mdatasets\u001b[m\u001b[m              \u001b[1m\u001b[36moriginal_demo\u001b[m\u001b[m\n"
     ]
    }
   ],
   "source": [
    "!pwd | ls"
   ]
  },
  {
   "cell_type": "code",
   "execution_count": 4,
   "id": "d84f58db-7eb6-4175-9a67-339e6d9aec08",
   "metadata": {
    "tags": []
   },
   "outputs": [],
   "source": [
    "# IMPORTING Bottom-up Attention with Detectron2 - PYTORCH \n",
    "import os\n",
    "import io\n",
    "\n",
    "import detectron2\n",
    "\n",
    "# import some common detectron2 utilities\n",
    "from detectron2.engine import DefaultPredictor\n",
    "from detectron2.config import get_cfg\n",
    "from detectron2.utils.visualizer import Visualizer\n",
    "from detectron2.data import MetadataCatalog\n",
    "\n",
    "# import some common libraries\n",
    "import numpy as np\n",
    "import cv2\n",
    "import torch\n",
    "\n",
    "# Show the image in ipynb\n",
    "from IPython.display import clear_output, Image, display\n",
    "import PIL.Image\n",
    "def showarray(a, fmt='jpg'):\n",
    "    a = np.uint8(np.clip(a, 0, 255))\n",
    "    f = io.BytesIO()\n",
    "    PIL.Image.fromarray(a).save(f, fmt)\n",
    "    display(Image(data=f.getvalue()))"
   ]
  },
  {
   "cell_type": "code",
   "execution_count": 7,
   "id": "af811c6c-37f8-4f71-b3e5-4bddc4e758a1",
   "metadata": {
    "tags": []
   },
   "outputs": [
    {
     "name": "stderr",
     "output_type": "stream",
     "text": [
      "Config 'configs/VG-Detection/faster_rcnn_R_101_C4_caffe.yaml' has no VERSION. Assuming it to be compatible with latest v2.\n"
     ]
    },
    {
     "name": "stdout",
     "output_type": "stream",
     "text": [
      "Modifications for VG in RPN (modeling/proposal_generator/rpn.py):\n",
      "\tUse hidden dim 512 instead fo the same dim as Res4 (1024).\n",
      "\n",
      "Modifications for VG in RoI heads (modeling/roi_heads/roi_heads.py):\n",
      "\t1. Change the stride of conv1 and shortcut in Res5.Block1 from 2 to 1.\n",
      "\t2. Modifying all conv2 with (padding: 1 --> 2) and (dilation: 1 --> 2).\n",
      "\tFor more details, please check 'https://github.com/peteanderson80/bottom-up-attention/blob/master/models/vg/ResNet-101/faster_rcnn_end2end_final/test.prototxt'.\n",
      "\n"
     ]
    },
    {
     "name": "stderr",
     "output_type": "stream",
     "text": [
      "/Users/shashanksahoo/.torch/iopath_cache is not accessible! Using /var/folders/rq/73_t64xn2zxf07vggynh53800000gq/T/iopath_cache instead!\n"
     ]
    }
   ],
   "source": [
    "cfg = get_cfg()\n",
    "cfg.merge_from_file(\"configs/VG-Detection/faster_rcnn_R_101_C4_caffe.yaml\")\n",
    "cfg.MODEL.RPN.POST_NMS_TOPK_TEST = 300\n",
    "cfg.MODEL.ROI_HEADS.NMS_THRESH_TEST = 0.6\n",
    "cfg.MODEL.ROI_HEADS.SCORE_THRESH_TEST = 0.2\n",
    "# VG Weight\n",
    "cfg.MODEL.WEIGHTS = \"http://nlp.cs.unc.edu/models/faster_rcnn_from_caffe.pkl\"\n",
    "cfg.MODEL.DEVICE = \"cpu\"\n",
    "predictor = DefaultPredictor(cfg)"
   ]
  },
  {
   "cell_type": "code",
   "execution_count": 19,
   "id": "d275e460-a1b2-4858-ab84-8465ffc2ed1a",
   "metadata": {
    "tags": []
   },
   "outputs": [],
   "source": [
    "#NUM_OBJECTS = 36\n",
    "\n",
    "from torch import nn\n",
    "\n",
    "from detectron2.modeling.postprocessing import detector_postprocess\n",
    "from detectron2.modeling.roi_heads.fast_rcnn import FastRCNNOutputLayers, FastRCNNOutputs, fast_rcnn_inference_single_image\n",
    "from detectron2.structures.boxes import Boxes\n",
    "from detectron2.structures.instances import Instances\n",
    "\n",
    "def doit(raw_image, raw_boxes):\n",
    "        # Process Boxes\n",
    "    raw_boxes = Boxes(torch.from_numpy(raw_boxes))\n",
    "    # raw_boxes = Boxes(torch.from_numpy(raw_boxes).cuda())\n",
    "    \n",
    "    with torch.no_grad():\n",
    "        raw_height, raw_width = raw_image.shape[:2]\n",
    "        # print(\"Original image size: \", (raw_height, raw_width))\n",
    "        \n",
    "        # Preprocessing\n",
    "        image = predictor.transform_gen.get_transform(raw_image).apply_image(raw_image)\n",
    "        # print(\"Transformed image size: \", image.shape[:2])\n",
    "        \n",
    "        # Scale the box\n",
    "        new_height, new_width = image.shape[:2]\n",
    "        scale_x = 1. * new_width / raw_width\n",
    "        scale_y = 1. * new_height / raw_height\n",
    "        #print(scale_x, scale_y)\n",
    "        boxes = raw_boxes.clone()\n",
    "        boxes.scale(scale_x=scale_x, scale_y=scale_y)\n",
    "        \n",
    "        # ----\n",
    "        image = torch.as_tensor(image.astype(\"float32\").transpose(2, 0, 1))\n",
    "        inputs = [{\"image\": image, \"height\": raw_height, \"width\": raw_width}]\n",
    "        images = predictor.model.preprocess_image(inputs)\n",
    "        \n",
    "        # Run Backbone Res1-Res4\n",
    "        features = predictor.model.backbone(images.tensor)\n",
    "        \n",
    "        # Run RoI head for each proposal (RoI Pooling + Res5)\n",
    "        proposal_boxes = [boxes]\n",
    "        features = [features[f] for f in predictor.model.roi_heads.in_features]\n",
    "        box_features = predictor.model.roi_heads._shared_roi_transform(\n",
    "            features, proposal_boxes\n",
    "        )\n",
    "        feature_pooled = box_features.mean(dim=[2, 3])  # pooled to 1x1\n",
    "        # print('Pooled features size:', feature_pooled.shape)\n",
    "        \n",
    "        # Predict classes and boxes for each proposal.\n",
    "        pred_class_logits, pred_proposal_deltas = predictor.model.roi_heads.box_predictor(feature_pooled)\n",
    "        # print(pred_class_logits.shape)\n",
    "        pred_class_prob = nn.functional.softmax(pred_class_logits, -1)\n",
    "        pred_scores, pred_classes = pred_class_prob[..., :-1].max(-1)\n",
    "        \n",
    "        # Detectron2 Formatting (for visualization only)\n",
    "        roi_features = feature_pooled\n",
    "        instances = Instances(\n",
    "            image_size=(raw_height, raw_width),\n",
    "            pred_boxes=raw_boxes,\n",
    "            scores=pred_scores,\n",
    "            pred_classes=pred_classes\n",
    "        )\n",
    "        \n",
    "        return instances, roi_features"
   ]
  },
  {
   "cell_type": "code",
   "execution_count": 20,
   "id": "d1b742cf-6b09-4c1c-ac29-654808124b7c",
   "metadata": {
    "tags": []
   },
   "outputs": [
    {
     "data": {
      "text/plain": [
       "100096"
      ]
     },
     "execution_count": 20,
     "metadata": {},
     "output_type": "execute_result"
    }
   ],
   "source": [
    "import os\n",
    "train_json_path = '../docbank_data/docbank_training_data/annotations/'\n",
    "train_json_ls = sorted(os.listdir(train_json_path))\n",
    "len(train_json_ls)"
   ]
  },
  {
   "cell_type": "code",
   "execution_count": 22,
   "id": "24b8e582-69cc-4a22-870d-b0bdd59102f8",
   "metadata": {
    "tags": []
   },
   "outputs": [
    {
     "data": {
      "text/plain": [
       "('111.tar_1507.05116.gz_orientations_level_9.json',\n",
       " '141.tar_1706.09493.gz_be11_10.json')"
      ]
     },
     "execution_count": 22,
     "metadata": {},
     "output_type": "execute_result"
    }
   ],
   "source": [
    "os.listdir(train_json_path)[-1], sorted(os.listdir(train_json_path))[-1]"
   ]
  },
  {
   "cell_type": "code",
   "execution_count": 23,
   "id": "0fbc94af-4703-4ee5-b021-8bbe0c3bce8d",
   "metadata": {
    "tags": []
   },
   "outputs": [
    {
     "name": "stderr",
     "output_type": "stream",
     "text": [
      "100%|████████████████████████████████████████████████████████████████████████████████████████████████████████████████████████████████████████████████████████████████████████████| 20/20 [00:00<00:00, 119.70it/s]\n"
     ]
    }
   ],
   "source": [
    "from tqdm import tqdm\n",
    "# Generating the bbox \n",
    "tr_img_bbox_list = {}\n",
    "import json\n",
    "for i,name in enumerate(tqdm(train_json_ls[:20])):\n",
    "      tr_img_bbox_list[name[:-5]] = []\n",
    "      path = train_json_path+name\n",
    "      with open(path) as f:\n",
    "            json_list = json.load(f)\n",
    "      # json_list = json_list['form']\n",
    "      for j in range(len(json_list)):\n",
    "        tr_img_bbox_list[name[:-5]].append(json_list[j]['box'])\n",
    "# print(tr_img_bbox_list)"
   ]
  },
  {
   "cell_type": "code",
   "execution_count": 24,
   "id": "dc6858d7-d210-45e3-9606-36461e7a3e04",
   "metadata": {},
   "outputs": [
    {
     "data": {
      "text/plain": [
       "20"
      ]
     },
     "execution_count": 24,
     "metadata": {},
     "output_type": "execute_result"
    }
   ],
   "source": [
    "len(tr_img_bbox_list)"
   ]
  },
  {
   "cell_type": "code",
   "execution_count": 25,
   "id": "7f849c80-936b-4811-abce-4f350b653330",
   "metadata": {
    "tags": []
   },
   "outputs": [],
   "source": [
    "train_image_path = '../docbank_data/docbank_training_data/images/'\n",
    "train_image_ls = sorted(os.listdir(train_image_path))"
   ]
  },
  {
   "cell_type": "code",
   "execution_count": 26,
   "id": "933a04fa-c080-472e-b80b-c23915eee178",
   "metadata": {
    "tags": []
   },
   "outputs": [
    {
     "data": {
      "text/plain": [
       "'1.tar_1401.0001.gz_infoingames_without_metric_arxiv_0_ori.jpg'"
      ]
     },
     "execution_count": 26,
     "metadata": {},
     "output_type": "execute_result"
    }
   ],
   "source": [
    "train_image_ls[0]"
   ]
  },
  {
   "cell_type": "code",
   "execution_count": 27,
   "id": "398f24e3-e44c-4e6d-9d29-9ee1e3bdbbb0",
   "metadata": {
    "tags": []
   },
   "outputs": [
    {
     "name": "stderr",
     "output_type": "stream",
     "text": [
      "100%|█████████████████████████████████████████████████████████████████████████████████████████████████████████████████████████████████████████████████████████████████████████████| 20/20 [05:45<00:00, 17.28s/it]\n"
     ]
    }
   ],
   "source": [
    "import os\n",
    "img_ls = sorted(os.listdir(train_image_path))\n",
    "# print(len(img_ls))\n",
    "# visual_features_train_carry = {}\n",
    "file_name_list = []\n",
    "for i in tqdm(range(len(img_ls[:20])), position=0, leave=True):\n",
    "      path = train_image_path+img_ls[i]\n",
    "      im = cv2.imread(path)\n",
    "      instances, features = doit(im, np.array(tr_img_bbox_list[img_ls[i][:-8]]))\n",
    "      visual_features = features.tolist()\n",
    "\n",
    "      # print(len(visual_features))\n",
    "      # visual_features_train_carry[img_ls[i][:-4]]=visual_features\n",
    "\n",
    "      file_name = img_ls[i][:-4]\n",
    "      file_name_list.append(file_name)\n",
    "      path = '../docbank_data/visual_features/object_train2/'+file_name+'.json'\n",
    "      with open(path,'w') as file_object:\n",
    "        json.dump(visual_features,file_object)"
   ]
  },
  {
   "cell_type": "code",
   "execution_count": null,
   "id": "8abf0a7e-722d-4fdd-8ae2-16ce0f2569e6",
   "metadata": {},
   "outputs": [],
   "source": []
  },
  {
   "cell_type": "code",
   "execution_count": null,
   "id": "d403d132-f1e9-4d32-82ef-2c9678e13839",
   "metadata": {},
   "outputs": [],
   "source": []
  },
  {
   "cell_type": "code",
   "execution_count": 42,
   "id": "23747fa4-bbfd-4886-a5e9-4e69a85266fa",
   "metadata": {
    "tags": []
   },
   "outputs": [],
   "source": [
    "import os\n",
    "test_json_path = '../docbank_data/docbank_testing_data/annotations/'\n",
    "test_json_ls = sorted(os.listdir(test_json_path))"
   ]
  },
  {
   "cell_type": "code",
   "execution_count": 43,
   "id": "9d829235-ff93-41d7-b10c-68ff2bbaf874",
   "metadata": {
    "tags": []
   },
   "outputs": [
    {
     "name": "stderr",
     "output_type": "stream",
     "text": [
      "20it [00:00, 296.41it/s]\n"
     ]
    }
   ],
   "source": [
    "# Generating the bbox \n",
    "te_img_bbox_list = {}\n",
    "import json\n",
    "for i,name in tqdm(enumerate(test_json_ls[:20])):\n",
    "  te_img_bbox_list[name[:-5]] = []\n",
    "  path = test_json_path+name\n",
    "  with open(path) as f:\n",
    "    json_list = json.load(f)\n",
    "  # json_list = json_list['form']\n",
    "  for j in range(len(json_list)):\n",
    "    te_img_bbox_list[name[:-5]].append(json_list[j]['box'])\n",
    "# print(te_img_bbox_list)"
   ]
  },
  {
   "cell_type": "code",
   "execution_count": null,
   "id": "9ffacada-0d32-4f9d-bdf3-9bf60233bc47",
   "metadata": {},
   "outputs": [],
   "source": []
  },
  {
   "cell_type": "code",
   "execution_count": 44,
   "id": "ff3c32c8-b753-4543-b359-44a87d55ed9d",
   "metadata": {
    "tags": []
   },
   "outputs": [],
   "source": [
    "test_image_path = '../docbank_data/docbank_testing_data/images/'\n",
    "test_image_ls = sorted(os.listdir(test_image_path))"
   ]
  },
  {
   "cell_type": "code",
   "execution_count": 45,
   "id": "26e83c2d-3eca-4614-8d1f-2d8e64dde435",
   "metadata": {
    "collapsed": true,
    "jupyter": {
     "outputs_hidden": true
    },
    "tags": []
   },
   "outputs": [
    {
     "name": "stderr",
     "output_type": "stream",
     "text": [
      "  0%|                                                                                                                                                                                      | 0/20 [00:00<?, ?it/s]"
     ]
    },
    {
     "name": "stdout",
     "output_type": "stream",
     "text": [
      "195.tar_1610.03346.gz_hj_19\n"
     ]
    },
    {
     "name": "stderr",
     "output_type": "stream",
     "text": [
      "  5%|████████▋                                                                                                                                                                     | 1/20 [00:14<04:33, 14.39s/it]"
     ]
    },
    {
     "name": "stdout",
     "output_type": "stream",
     "text": [
      "195.tar_1610.03346.gz_hj_35\n"
     ]
    },
    {
     "name": "stderr",
     "output_type": "stream",
     "text": [
      " 10%|█████████████████▍                                                                                                                                                            | 2/20 [00:23<03:27, 11.54s/it]"
     ]
    },
    {
     "name": "stdout",
     "output_type": "stream",
     "text": [
      "195.tar_1610.03346.gz_hj_36\n"
     ]
    },
    {
     "name": "stderr",
     "output_type": "stream",
     "text": [
      " 15%|██████████████████████████                                                                                                                                                    | 3/20 [00:38<03:42, 13.08s/it]"
     ]
    },
    {
     "name": "stdout",
     "output_type": "stream",
     "text": [
      "195.tar_1610.03347.gz_GAMMA2016_Oakes_0\n"
     ]
    },
    {
     "name": "stderr",
     "output_type": "stream",
     "text": [
      " 20%|██████████████████████████████████▊                                                                                                                                           | 4/20 [00:55<03:48, 14.30s/it]"
     ]
    },
    {
     "name": "stdout",
     "output_type": "stream",
     "text": [
      "195.tar_1610.03347.gz_GAMMA2016_Oakes_4\n"
     ]
    },
    {
     "name": "stderr",
     "output_type": "stream",
     "text": [
      " 25%|███████████████████████████████████████████▌                                                                                                                                  | 5/20 [01:02<02:58, 11.89s/it]"
     ]
    },
    {
     "name": "stdout",
     "output_type": "stream",
     "text": [
      "195.tar_1610.03350.gz_Shadowing_0\n"
     ]
    },
    {
     "name": "stderr",
     "output_type": "stream",
     "text": [
      " 30%|████████████████████████████████████████████████████▏                                                                                                                         | 6/20 [01:22<03:25, 14.71s/it]"
     ]
    },
    {
     "name": "stdout",
     "output_type": "stream",
     "text": [
      "195.tar_1610.03350.gz_Shadowing_3\n"
     ]
    },
    {
     "name": "stderr",
     "output_type": "stream",
     "text": [
      " 35%|████████████████████████████████████████████████████████████▉                                                                                                                 | 7/20 [01:40<03:22, 15.59s/it]"
     ]
    },
    {
     "name": "stdout",
     "output_type": "stream",
     "text": [
      "195.tar_1610.03352.gz_Latticepxpy_0\n"
     ]
    },
    {
     "name": "stderr",
     "output_type": "stream",
     "text": [
      " 40%|█████████████████████████████████████████████████████████████████████▌                                                                                                        | 8/20 [02:03<03:35, 17.99s/it]"
     ]
    },
    {
     "name": "stdout",
     "output_type": "stream",
     "text": [
      "195.tar_1610.03352.gz_Latticepxpy_1\n"
     ]
    },
    {
     "name": "stderr",
     "output_type": "stream",
     "text": [
      " 45%|██████████████████████████████████████████████████████████████████████████████▎                                                                                               | 9/20 [02:26<03:36, 19.67s/it]"
     ]
    },
    {
     "name": "stdout",
     "output_type": "stream",
     "text": [
      "195.tar_1610.03353.gz_S3xR_arxiv_revision_0\n"
     ]
    },
    {
     "name": "stderr",
     "output_type": "stream",
     "text": [
      " 50%|██████████████████████████████████████████████████████████████████████████████████████▌                                                                                      | 10/20 [02:40<02:58, 17.88s/it]"
     ]
    },
    {
     "name": "stdout",
     "output_type": "stream",
     "text": [
      "195.tar_1610.03353.gz_S3xR_arxiv_revision_10\n"
     ]
    },
    {
     "name": "stderr",
     "output_type": "stream",
     "text": [
      " 55%|███████████████████████████████████████████████████████████████████████████████████████████████▏                                                                             | 11/20 [02:56<02:35, 17.29s/it]"
     ]
    },
    {
     "name": "stdout",
     "output_type": "stream",
     "text": [
      "195.tar_1610.03353.gz_S3xR_arxiv_revision_12\n"
     ]
    },
    {
     "name": "stderr",
     "output_type": "stream",
     "text": [
      " 60%|███████████████████████████████████████████████████████████████████████████████████████████████████████▊                                                                     | 12/20 [03:10<02:09, 16.22s/it]"
     ]
    },
    {
     "name": "stdout",
     "output_type": "stream",
     "text": [
      "195.tar_1610.03353.gz_S3xR_arxiv_revision_17\n"
     ]
    },
    {
     "name": "stderr",
     "output_type": "stream",
     "text": [
      " 65%|████████████████████████████████████████████████████████████████████████████████████████████████████████████████▍                                                            | 13/20 [03:24<01:48, 15.54s/it]"
     ]
    },
    {
     "name": "stdout",
     "output_type": "stream",
     "text": [
      "195.tar_1610.03353.gz_S3xR_arxiv_revision_20\n"
     ]
    },
    {
     "name": "stderr",
     "output_type": "stream",
     "text": [
      " 70%|█████████████████████████████████████████████████████████████████████████████████████████████████████████████████████████                                                    | 14/20 [03:35<01:25, 14.32s/it]"
     ]
    },
    {
     "name": "stdout",
     "output_type": "stream",
     "text": [
      "195.tar_1610.03353.gz_S3xR_arxiv_revision_27\n"
     ]
    },
    {
     "name": "stderr",
     "output_type": "stream",
     "text": [
      " 75%|█████████████████████████████████████████████████████████████████████████████████████████████████████████████████████████████████▊                                           | 15/20 [03:49<01:11, 14.26s/it]"
     ]
    },
    {
     "name": "stdout",
     "output_type": "stream",
     "text": [
      "195.tar_1610.03353.gz_S3xR_arxiv_revision_28\n"
     ]
    },
    {
     "name": "stderr",
     "output_type": "stream",
     "text": [
      " 80%|██████████████████████████████████████████████████████████████████████████████████████████████████████████████████████████████████████████▍                                  | 16/20 [04:02<00:55, 13.84s/it]"
     ]
    },
    {
     "name": "stdout",
     "output_type": "stream",
     "text": [
      "195.tar_1610.03353.gz_S3xR_arxiv_revision_37\n"
     ]
    },
    {
     "name": "stderr",
     "output_type": "stream",
     "text": [
      " 85%|███████████████████████████████████████████████████████████████████████████████████████████████████████████████████████████████████████████████████                          | 17/20 [04:15<00:40, 13.62s/it]"
     ]
    },
    {
     "name": "stdout",
     "output_type": "stream",
     "text": [
      "195.tar_1610.03353.gz_S3xR_arxiv_revision_38\n"
     ]
    },
    {
     "name": "stderr",
     "output_type": "stream",
     "text": [
      " 90%|███████████████████████████████████████████████████████████████████████████████████████████████████████████████████████████████████████████████████████████▋                 | 18/20 [04:17<00:20, 10.03s/it]"
     ]
    },
    {
     "name": "stdout",
     "output_type": "stream",
     "text": [
      "195.tar_1610.03355.gz_Slow10_4\n"
     ]
    },
    {
     "name": "stderr",
     "output_type": "stream",
     "text": [
      " 95%|████████████████████████████████████████████████████████████████████████████████████████████████████████████████████████████████████████████████████████████████████▎        | 19/20 [04:37<00:12, 12.88s/it]"
     ]
    },
    {
     "name": "stdout",
     "output_type": "stream",
     "text": [
      "195.tar_1610.03355.gz_Slow10_7\n"
     ]
    },
    {
     "name": "stderr",
     "output_type": "stream",
     "text": [
      "100%|█████████████████████████████████████████████████████████████████████████████████████████████████████████████████████████████████████████████████████████████████████████████| 20/20 [04:53<00:00, 14.66s/it]\n"
     ]
    }
   ],
   "source": [
    "img_ls = sorted(os.listdir(test_image_path))\n",
    "visual_features_test_carry = {}\n",
    "for i in tqdm(range(len(img_ls[:20])),position=0, leave=True):\n",
    "  path = test_image_path+img_ls[i]\n",
    "  im = cv2.imread(path)\n",
    "  print(img_ls[i][:-8])\n",
    "  instances, features = doit(im, np.array(te_img_bbox_list[img_ls[i][:-8]]))\n",
    "  visual_features = features.tolist()\n",
    "    \n",
    "  # print(len(visual_features))\n",
    "  visual_features_test_carry[img_ls[i][:-4]]=visual_features\n",
    "  file_name = img_ls[i][:-4]\n",
    "  path = '../docbank_data/visual_features/object_test2/'+file_name+'.json'\n",
    "  with open(path,'w') as file_object:\n",
    "    json.dump(visual_features,file_object)"
   ]
  },
  {
   "cell_type": "code",
   "execution_count": null,
   "id": "db65ee70-e440-4227-8462-75b2189400ff",
   "metadata": {},
   "outputs": [],
   "source": []
  }
 ],
 "metadata": {
  "kernelspec": {
   "display_name": "Python 3 (ipykernel)",
   "language": "python",
   "name": "python3"
  },
  "language_info": {
   "codemirror_mode": {
    "name": "ipython",
    "version": 3
   },
   "file_extension": ".py",
   "mimetype": "text/x-python",
   "name": "python",
   "nbconvert_exporter": "python",
   "pygments_lexer": "ipython3",
   "version": "3.9.16"
  }
 },
 "nbformat": 4,
 "nbformat_minor": 5
}
