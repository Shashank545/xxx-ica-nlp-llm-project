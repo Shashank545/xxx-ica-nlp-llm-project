{
 "cells": [
  {
   "cell_type": "markdown",
   "metadata": {
    "id": "eQpJTV7RSVZW",
    "tags": []
   },
   "source": [
    "## Environment Setup\n",
    "Import key libraries and working envorinments. "
   ]
  },
  {
   "cell_type": "code",
   "execution_count": null,
   "metadata": {
    "id": "a-GlywkSFegL"
   },
   "outputs": [],
   "source": [
    "!pip install transformers==4.2.2"
   ]
  },
  {
   "cell_type": "code",
   "execution_count": 1,
   "metadata": {
    "id": "979OUro5Eac3",
    "tags": []
   },
   "outputs": [],
   "source": [
    "# Importing the libraries needed\n",
    "import pandas as pd\n",
    "import numpy as np\n",
    "from sklearn.model_selection import train_test_split\n",
    "import torch\n",
    "import seaborn as sns\n",
    "import transformers\n",
    "import json\n",
    "from tqdm import tqdm\n",
    "from torch.utils.data import Dataset, DataLoader\n",
    "from transformers import AutoTokenizer, AutoModel\n",
    "#from transformers.configuration_bert import BertConfig\n",
    "import logging\n",
    "logging.basicConfig(level=logging.ERROR)"
   ]
  },
  {
   "cell_type": "code",
   "execution_count": null,
   "metadata": {
    "id": "I9sVem7yb4MN"
   },
   "outputs": [],
   "source": [
    "# !pip install -U -q PyDrive\n",
    "# from pydrive.auth import GoogleAuth\n",
    "# from pydrive.drive import GoogleDrive\n",
    "# from google.colab import auth\n",
    "# from oauth2client.client import GoogleCredentials\n",
    "# import pandas as pd\n",
    "\n",
    "# # Authenticate\n",
    "# drive = None\n",
    "# def authenticate():\n",
    "#   global drive\n",
    "  \n",
    "#   auth.authenticate_user()\n",
    "#   gauth = GoogleAuth()\n",
    "#   gauth.credentials = GoogleCredentials.get_application_default()\n",
    "#   drive = GoogleDrive(gauth)\n",
    "\n",
    "# #Download files\n",
    "# def downloadFiles(fileIds):\n",
    "#   authenticate()\n",
    "  \n",
    "#   for fileId in fileIds:    \n",
    "    \n",
    "#     downloaded = drive.CreateFile({\"id\": fileId[1]})\n",
    "#     downloaded.GetContentFile(fileId[0])"
   ]
  },
  {
   "cell_type": "code",
   "execution_count": null,
   "metadata": {
    "id": "Sd2-rgBQp269"
   },
   "outputs": [],
   "source": [
    "# from google.colab import drive\n",
    "# drive.mount('/content/drive')"
   ]
  },
  {
   "cell_type": "markdown",
   "metadata": {
    "id": "B7TWqvbTppX_"
   },
   "source": [
    "##Get Training and Validation Dataset"
   ]
  },
  {
   "cell_type": "code",
   "execution_count": null,
   "metadata": {
    "id": "pb5R9jPabbKD"
   },
   "outputs": [],
   "source": [
    "# #Do not downloading training and validation dataset at same time \n",
    "# try:\n",
    "#   _ = open(\"testing_dataset.pkl\", \"r\")\n",
    "# except:\n",
    "#   downloadFiles([[\"testing_dataset.pkl\", \"1fktW64hxcjCXreMTv_2pAxSe4Nt083z3\"]])\n",
    "\n",
    "# try:\n",
    "#   _ = open(\"training_dataset.pkl\", \"r\")\n",
    "# except:\n",
    "#   downloadFiles([[\"training_dataset.pkl\", \"1td4mF-QxrwKF125xR5DWflGqcwn0z1LP\"]])"
   ]
  },
  {
   "cell_type": "code",
   "execution_count": null,
   "metadata": {
    "id": "t_0-NGiEViK1"
   },
   "outputs": [],
   "source": [
    "# #Download file if not existing\n",
    "# try:\n",
    "#   _ = open(\"visual_train.pkl\", \"r\")\n",
    "# except:\n",
    "#   downloadFiles([[\"visual_train.pkl\", \"1-1iI14bgFX8QbhA1uPjI7VA6kfIhPhxM\"]])\n",
    "\n",
    "# try:\n",
    "#   _ = open(\"visual_test.pkl\", \"r\")\n",
    "# except:\n",
    "#   downloadFiles([[\"visual_test.pkl\", \"1sEVX0nd09MfvgwrPc4KxWrClDIJpQOoz\"]])"
   ]
  },
  {
   "cell_type": "code",
   "execution_count": 2,
   "metadata": {
    "tags": []
   },
   "outputs": [],
   "source": [
    "import pickle\n",
    "\n",
    "with open(\"training_dataset_pc_relation.pkl\", \"rb\") as fp:\n",
    "    train_pc_dict = pickle.load(fp) \n",
    " \n",
    "with open(\"testing_dataset_pc_relation.pkl\", \"rb\") as fp:\n",
    "    test_pc_dict = pickle.load(fp)"
   ]
  },
  {
   "cell_type": "code",
   "execution_count": 5,
   "metadata": {
    "tags": []
   },
   "outputs": [
    {
     "data": {
      "text/plain": [
       "(149, 149)"
      ]
     },
     "execution_count": 5,
     "metadata": {},
     "output_type": "execute_result"
    }
   ],
   "source": [
    "len(train_pc_dict.keys()), len(train_dw_dict.keys()),"
   ]
  },
  {
   "cell_type": "code",
   "execution_count": 6,
   "metadata": {
    "tags": []
   },
   "outputs": [
    {
     "data": {
      "text/plain": [
       "dict_keys(['id', 'box', 'category', 'text', 'relations', 'bert_large_emb', 'gcn_bert_large'])"
      ]
     },
     "execution_count": 6,
     "metadata": {},
     "output_type": "execute_result"
    }
   ],
   "source": [
    "train_pc_dict['92091873']['objects']['0'].keys()"
   ]
  },
  {
   "cell_type": "code",
   "execution_count": 29,
   "metadata": {
    "tags": []
   },
   "outputs": [
    {
     "data": {
      "text/plain": [
       "768"
      ]
     },
     "execution_count": 29,
     "metadata": {},
     "output_type": "execute_result"
    }
   ],
   "source": [
    "len(train_pc_dict['92091873']['objects']['0']['bert_large_emb'])"
   ]
  },
  {
   "cell_type": "code",
   "execution_count": 30,
   "metadata": {
    "tags": []
   },
   "outputs": [
    {
     "data": {
      "text/plain": [
       "1024"
      ]
     },
     "execution_count": 30,
     "metadata": {},
     "output_type": "execute_result"
    }
   ],
   "source": [
    "len(train_pc_dict['92091873']['objects']['0']['gcn_bert_large'])"
   ]
  },
  {
   "cell_type": "code",
   "execution_count": null,
   "metadata": {},
   "outputs": [],
   "source": []
  },
  {
   "cell_type": "code",
   "execution_count": 4,
   "metadata": {
    "tags": []
   },
   "outputs": [],
   "source": [
    "import pickle\n",
    "\n",
    "with open(\"training_dataset.pkl\", \"rb\") as fp:\n",
    "    train_dw_dict = pickle.load(fp) \n",
    " \n",
    "with open(\"testing_dataset.pkl\", \"rb\") as fp:\n",
    "    test_dw_dict = pickle.load(fp)"
   ]
  },
  {
   "cell_type": "code",
   "execution_count": 7,
   "metadata": {
    "tags": []
   },
   "outputs": [
    {
     "data": {
      "text/plain": [
       "dict_keys(['id', 'box', 'category', 'text', 'relations', 'gap', 'text_density', 'text_number', 'char_density', 'char_number', 'parsing_level1', 'parsing_level2', 'near_gap', 'gcn_token_number'])"
      ]
     },
     "execution_count": 7,
     "metadata": {},
     "output_type": "execute_result"
    }
   ],
   "source": [
    "train_dw_dict['92091873']['objects']['0'].keys()"
   ]
  },
  {
   "cell_type": "code",
   "execution_count": null,
   "metadata": {},
   "outputs": [],
   "source": []
  },
  {
   "cell_type": "code",
   "execution_count": null,
   "metadata": {},
   "outputs": [],
   "source": []
  },
  {
   "cell_type": "code",
   "execution_count": 8,
   "metadata": {
    "tags": []
   },
   "outputs": [],
   "source": [
    "import os, json\n",
    "img_ls = os.listdir('../data/training_data/images')\n",
    "visual_features_train_list = []\n",
    "for i in range(len(img_ls)):\n",
    "      file_name = img_ls[i][:-4]\n",
    "      path = '../funsd/visual_feature/object_train/'+file_name+'.json'\n",
    "      # print(path)\n",
    "      with open(path,'r') as file_object:\n",
    "        visual_features = json.load(file_object)\n",
    "        visual_features_train_list.append(visual_features)        "
   ]
  },
  {
   "cell_type": "code",
   "execution_count": 10,
   "metadata": {
    "tags": []
   },
   "outputs": [
    {
     "name": "stdout",
     "output_type": "stream",
     "text": [
      "149 2048\n"
     ]
    }
   ],
   "source": [
    "print(len(visual_features_train_list), len(visual_features_train_list[1][0]))"
   ]
  },
  {
   "cell_type": "code",
   "execution_count": 11,
   "metadata": {
    "tags": []
   },
   "outputs": [
    {
     "data": {
      "text/plain": [
       "2048"
      ]
     },
     "execution_count": 11,
     "metadata": {},
     "output_type": "execute_result"
    }
   ],
   "source": [
    "len(visual_features_train_list[0][0])"
   ]
  },
  {
   "cell_type": "code",
   "execution_count": null,
   "metadata": {},
   "outputs": [],
   "source": []
  },
  {
   "cell_type": "code",
   "execution_count": 12,
   "metadata": {
    "tags": []
   },
   "outputs": [],
   "source": [
    "import os, json\n",
    "img_ls = os.listdir('../data/testing_data/images')\n",
    "visual_features_test_list = []\n",
    "for i in range(len(img_ls)):\n",
    "      file_name = img_ls[i][:-4]\n",
    "      path = '../funsd/visual_feature/object_test/'+file_name+'.json'\n",
    "      # print(path)\n",
    "      with open(path,'r') as file_object:\n",
    "        visual_features = json.load(file_object)\n",
    "        visual_features_test_list.append(visual_features)        \n",
    "    \n",
    "    "
   ]
  },
  {
   "cell_type": "code",
   "execution_count": 13,
   "metadata": {
    "tags": []
   },
   "outputs": [
    {
     "name": "stdout",
     "output_type": "stream",
     "text": [
      "50 2048\n"
     ]
    }
   ],
   "source": [
    "print(len(visual_features_test_list), len(visual_features_test_list[1][0]))"
   ]
  },
  {
   "cell_type": "code",
   "execution_count": 14,
   "metadata": {
    "tags": []
   },
   "outputs": [
    {
     "data": {
      "text/plain": [
       "2048"
      ]
     },
     "execution_count": 14,
     "metadata": {},
     "output_type": "execute_result"
    }
   ],
   "source": [
    "len(visual_features_test_list[0][0])"
   ]
  },
  {
   "cell_type": "code",
   "execution_count": null,
   "metadata": {},
   "outputs": [],
   "source": []
  },
  {
   "cell_type": "code",
   "execution_count": null,
   "metadata": {},
   "outputs": [],
   "source": []
  },
  {
   "cell_type": "code",
   "execution_count": null,
   "metadata": {},
   "outputs": [],
   "source": []
  },
  {
   "cell_type": "code",
   "execution_count": 15,
   "metadata": {
    "tags": []
   },
   "outputs": [],
   "source": [
    "for k,p in enumerate(train_dw_dict):\n",
    "    for i, j in enumerate(train_dw_dict[p]['objects']):\n",
    "        train_dw_dict[p]['objects'][j]['visual_embeddings'] = visual_features_train_list[k][i]"
   ]
  },
  {
   "cell_type": "code",
   "execution_count": 16,
   "metadata": {
    "tags": []
   },
   "outputs": [
    {
     "data": {
      "text/plain": [
       "dict_keys(['id', 'box', 'category', 'text', 'relations', 'gap', 'text_density', 'text_number', 'char_density', 'char_number', 'parsing_level1', 'parsing_level2', 'near_gap', 'gcn_token_number', 'visual_embeddings'])"
      ]
     },
     "execution_count": 16,
     "metadata": {},
     "output_type": "execute_result"
    }
   ],
   "source": [
    "train_dw_dict['92091873']['objects']['0'].keys()"
   ]
  },
  {
   "cell_type": "code",
   "execution_count": 17,
   "metadata": {
    "tags": []
   },
   "outputs": [
    {
     "data": {
      "text/plain": [
       "2048"
      ]
     },
     "execution_count": 17,
     "metadata": {},
     "output_type": "execute_result"
    }
   ],
   "source": [
    "len(train_dw_dict['92091873']['objects']['0']['visual_embeddings'])"
   ]
  },
  {
   "cell_type": "code",
   "execution_count": 31,
   "metadata": {
    "tags": []
   },
   "outputs": [],
   "source": [
    "for k,p in enumerate(test_dw_dict):\n",
    "    for i, j in enumerate(test_dw_dict[p]['objects']):\n",
    "        test_dw_dict[p]['objects'][j]['visual_embeddings'] = visual_features_test_list[k][i]"
   ]
  },
  {
   "cell_type": "code",
   "execution_count": 32,
   "metadata": {
    "tags": []
   },
   "outputs": [
    {
     "data": {
      "text/plain": [
       "dict_keys(['id', 'box', 'category', 'text', 'relations', 'gap', 'text_density', 'text_number', 'char_density', 'char_number', 'parsing_level1', 'parsing_level2', 'near_gap', 'gcn_token_number', 'visual_embeddings'])"
      ]
     },
     "execution_count": 32,
     "metadata": {},
     "output_type": "execute_result"
    }
   ],
   "source": [
    "test_dw_dict['82837252']['objects']['0'].keys()"
   ]
  },
  {
   "cell_type": "code",
   "execution_count": 33,
   "metadata": {
    "tags": []
   },
   "outputs": [
    {
     "data": {
      "text/plain": [
       "2048"
      ]
     },
     "execution_count": 33,
     "metadata": {},
     "output_type": "execute_result"
    }
   ],
   "source": [
    "len(test_dw_dict['82837252']['objects']['0']['visual_embeddings'])"
   ]
  },
  {
   "cell_type": "code",
   "execution_count": 34,
   "metadata": {
    "tags": []
   },
   "outputs": [
    {
     "data": {
      "text/plain": [
       "dict_keys(['id', 'box', 'category', 'text', 'relations', 'gap', 'text_density', 'text_number', 'char_density', 'char_number', 'parsing_level1', 'parsing_level2', 'near_gap', 'gcn_token_number', 'visual_embeddings'])"
      ]
     },
     "execution_count": 34,
     "metadata": {},
     "output_type": "execute_result"
    }
   ],
   "source": [
    "test_dw_dict['82837252']['objects']['0'].keys()"
   ]
  },
  {
   "cell_type": "code",
   "execution_count": 35,
   "metadata": {},
   "outputs": [
    {
     "data": {
      "text/plain": [
       "768"
      ]
     },
     "execution_count": 35,
     "metadata": {},
     "output_type": "execute_result"
    }
   ],
   "source": [
    "len(test_dw_dict['82837252']['objects']['0']['gcn_token_number'].tolist())"
   ]
  },
  {
   "cell_type": "code",
   "execution_count": 36,
   "metadata": {
    "tags": []
   },
   "outputs": [
    {
     "data": {
      "text/plain": [
       "2048"
      ]
     },
     "execution_count": 36,
     "metadata": {},
     "output_type": "execute_result"
    }
   ],
   "source": [
    "len(test_dw_dict['82837252']['objects']['0']['visual_embeddings'])"
   ]
  },
  {
   "cell_type": "code",
   "execution_count": null,
   "metadata": {},
   "outputs": [],
   "source": []
  },
  {
   "cell_type": "code",
   "execution_count": null,
   "metadata": {},
   "outputs": [],
   "source": []
  },
  {
   "cell_type": "code",
   "execution_count": null,
   "metadata": {
    "id": "7qiF6LKqVuje"
   },
   "outputs": [],
   "source": [
    "# train_visual = pd.read_pickle('visual_train.pkl')\n",
    "# test_visual = pd.read_pickle('visual_test.pkl')"
   ]
  },
  {
   "cell_type": "code",
   "execution_count": null,
   "metadata": {
    "id": "c4bGVgzk-HT-"
   },
   "outputs": [],
   "source": [
    "# print(train_visual.shape)\n",
    "# print(test_visual.shape)"
   ]
  },
  {
   "cell_type": "code",
   "execution_count": null,
   "metadata": {
    "id": "xY7KOu_6Dtzh"
   },
   "outputs": [],
   "source": [
    "# df_train = pd.read_pickle('training_dataset.pkl')\n",
    "# df_test = pd.read_pickle('testing_dataset.pkl')"
   ]
  },
  {
   "cell_type": "code",
   "execution_count": null,
   "metadata": {
    "id": "4k5hCBUG-O1x"
   },
   "outputs": [],
   "source": [
    "# print(df_train.shape)"
   ]
  },
  {
   "cell_type": "code",
   "execution_count": null,
   "metadata": {
    "id": "SzwacY0IH7ef"
   },
   "outputs": [],
   "source": [
    "# df_train['visual_embedding'] = test_visual['visual_embedding']\n",
    "# df_test['visual_embedding'] = train_visual['visual_embedding']"
   ]
  },
  {
   "cell_type": "code",
   "execution_count": null,
   "metadata": {
    "id": "HNZW1muhZXBL"
   },
   "outputs": [],
   "source": [
    "# print(test_visual.shape)\n",
    "# print(df_train.shape)"
   ]
  },
  {
   "cell_type": "code",
   "execution_count": null,
   "metadata": {
    "id": "3DkpX4X0YxgK"
   },
   "outputs": [],
   "source": [
    "# test_visual.shape"
   ]
  },
  {
   "cell_type": "markdown",
   "metadata": {
    "id": "e2EV5VAOH93J"
   },
   "source": []
  },
  {
   "cell_type": "code",
   "execution_count": null,
   "metadata": {
    "id": "MdJi7AxkpQFr"
   },
   "outputs": [],
   "source": [
    "'''\n",
    "df_train.head()\n",
    "density_emb_train = df_train['char_density_emb'].tolist()\n",
    "density_emb_test = df_test['char_density_emb'].tolist()\n",
    "number_emb_train = df_train['char_number_emb'].tolist()\n",
    "number_emb_test = df_test['char_number_emb'].tolist()\n",
    "'''"
   ]
  },
  {
   "cell_type": "code",
   "execution_count": null,
   "metadata": {
    "id": "4GljdlwFo-IF"
   },
   "outputs": [],
   "source": [
    "'''\n",
    "df_train = pd.read_pickle('/content/drive/MyDrive/funsd/funsd_object_gcn_visual_density_train.pkl')\n",
    "df_test = pd.read_pickle('/content/drive/MyDrive/funsd/funsd_object_gcn_visual_density_test.pkl')\n",
    "'''"
   ]
  },
  {
   "cell_type": "code",
   "execution_count": null,
   "metadata": {
    "id": "wH2iQ_QspxiY"
   },
   "outputs": [],
   "source": [
    "'''\n",
    "df_train['char_density_emb'] = density_emb_train\n",
    "df_train['char_number_emb'] = number_emb_train\n",
    "df_test['char_density_emb'] = density_emb_test\n",
    "df_test['char_number_emb'] = number_emb_test\n",
    "'''"
   ]
  },
  {
   "cell_type": "code",
   "execution_count": 37,
   "metadata": {
    "id": "sb1Q5N6LGK7z",
    "tags": []
   },
   "outputs": [
    {
     "name": "stdout",
     "output_type": "stream",
     "text": [
      "cpu\n"
     ]
    }
   ],
   "source": [
    "# Setting up the device for GPU usage\n",
    "from torch import cuda\n",
    "device = 'cuda' if cuda.is_available() else 'cpu'\n",
    "print(device)"
   ]
  },
  {
   "cell_type": "code",
   "execution_count": null,
   "metadata": {},
   "outputs": [],
   "source": []
  },
  {
   "cell_type": "code",
   "execution_count": 38,
   "metadata": {
    "tags": []
   },
   "outputs": [],
   "source": [
    "training_dw_list = []\n",
    "for file in train_dw_dict:\n",
    "    for x in train_dw_dict[file]['objects']:\n",
    "      training_dw_list.append(train_dw_dict[file]['objects'][x])"
   ]
  },
  {
   "cell_type": "code",
   "execution_count": 39,
   "metadata": {
    "tags": []
   },
   "outputs": [
    {
     "data": {
      "text/plain": [
       "7411"
      ]
     },
     "execution_count": 39,
     "metadata": {},
     "output_type": "execute_result"
    }
   ],
   "source": [
    "len(training_dw_list)"
   ]
  },
  {
   "cell_type": "code",
   "execution_count": 40,
   "metadata": {
    "tags": []
   },
   "outputs": [],
   "source": [
    "testing_dw_list = []\n",
    "for file in test_dw_dict:\n",
    "    for x in test_dw_dict[file]['objects']:\n",
    "      testing_dw_list.append(test_dw_dict[file]['objects'][x])"
   ]
  },
  {
   "cell_type": "code",
   "execution_count": 41,
   "metadata": {
    "tags": []
   },
   "outputs": [
    {
     "data": {
      "text/plain": [
       "2332"
      ]
     },
     "execution_count": 41,
     "metadata": {},
     "output_type": "execute_result"
    }
   ],
   "source": [
    "len(testing_dw_list)"
   ]
  },
  {
   "cell_type": "code",
   "execution_count": 42,
   "metadata": {
    "tags": []
   },
   "outputs": [],
   "source": [
    "training_pc_list = []\n",
    "for file in train_pc_dict:\n",
    "    for x in train_pc_dict[file]['objects']:\n",
    "      training_pc_list.append(train_pc_dict[file]['objects'][x])"
   ]
  },
  {
   "cell_type": "code",
   "execution_count": 43,
   "metadata": {
    "tags": []
   },
   "outputs": [
    {
     "data": {
      "text/plain": [
       "7411"
      ]
     },
     "execution_count": 43,
     "metadata": {},
     "output_type": "execute_result"
    }
   ],
   "source": [
    "len(training_pc_list)"
   ]
  },
  {
   "cell_type": "code",
   "execution_count": 44,
   "metadata": {
    "tags": []
   },
   "outputs": [],
   "source": [
    "testing_pc_list = []\n",
    "for file in test_pc_dict:\n",
    "    for x in test_pc_dict[file]['objects']:\n",
    "      testing_pc_list.append(test_pc_dict[file]['objects'][x])"
   ]
  },
  {
   "cell_type": "code",
   "execution_count": 45,
   "metadata": {
    "tags": []
   },
   "outputs": [
    {
     "data": {
      "text/plain": [
       "2332"
      ]
     },
     "execution_count": 45,
     "metadata": {},
     "output_type": "execute_result"
    }
   ],
   "source": [
    "len(testing_pc_list)"
   ]
  },
  {
   "cell_type": "code",
   "execution_count": 46,
   "metadata": {
    "tags": []
   },
   "outputs": [],
   "source": [
    "from pandas import DataFrame\n",
    "import pandas as pd\n",
    "df_dw_train = DataFrame(training_dw_list)\n",
    "df_dw_test = DataFrame(testing_dw_list)\n",
    "df_pc_train = DataFrame(training_pc_list)\n",
    "df_pc_test = DataFrame(testing_pc_list)\n",
    "\n",
    "# df_dw_train.head(100)"
   ]
  },
  {
   "cell_type": "code",
   "execution_count": 47,
   "metadata": {
    "tags": []
   },
   "outputs": [
    {
     "data": {
      "text/plain": [
       "((7411, 15), (7411, 7))"
      ]
     },
     "execution_count": 47,
     "metadata": {},
     "output_type": "execute_result"
    }
   ],
   "source": [
    "df_dw_train.shape, df_pc_train.shape"
   ]
  },
  {
   "cell_type": "code",
   "execution_count": 48,
   "metadata": {
    "tags": []
   },
   "outputs": [
    {
     "data": {
      "text/plain": [
       "((2332, 15), (2332, 7))"
      ]
     },
     "execution_count": 48,
     "metadata": {},
     "output_type": "execute_result"
    }
   ],
   "source": [
    "df_dw_test.shape, df_pc_test.shape"
   ]
  },
  {
   "cell_type": "code",
   "execution_count": 49,
   "metadata": {
    "tags": []
   },
   "outputs": [
    {
     "data": {
      "text/plain": [
       "Index(['id', 'box', 'category', 'text', 'relations', 'gap', 'text_density',\n",
       "       'text_number', 'char_density', 'char_number', 'parsing_level1',\n",
       "       'parsing_level2', 'near_gap', 'gcn_token_number', 'visual_embeddings'],\n",
       "      dtype='object')"
      ]
     },
     "execution_count": 49,
     "metadata": {},
     "output_type": "execute_result"
    }
   ],
   "source": [
    "df_dw_train.columns"
   ]
  },
  {
   "cell_type": "code",
   "execution_count": 50,
   "metadata": {
    "tags": []
   },
   "outputs": [
    {
     "data": {
      "text/plain": [
       "Index(['id', 'box', 'category', 'text', 'relations', 'bert_large_emb',\n",
       "       'gcn_bert_large'],\n",
       "      dtype='object')"
      ]
     },
     "execution_count": 50,
     "metadata": {},
     "output_type": "execute_result"
    }
   ],
   "source": [
    "df_pc_test.columns"
   ]
  },
  {
   "cell_type": "code",
   "execution_count": 144,
   "metadata": {
    "tags": []
   },
   "outputs": [
    {
     "data": {
      "text/plain": [
       "((7411, 15), (7411, 3))"
      ]
     },
     "execution_count": 144,
     "metadata": {},
     "output_type": "execute_result"
    }
   ],
   "source": [
    "df_dw_train.shape, df_pc_train[['text','bert_large_emb','gcn_bert_large']].shape"
   ]
  },
  {
   "cell_type": "code",
   "execution_count": 159,
   "metadata": {
    "tags": []
   },
   "outputs": [
    {
     "data": {
      "text/html": [
       "<div>\n",
       "<style scoped>\n",
       "    .dataframe tbody tr th:only-of-type {\n",
       "        vertical-align: middle;\n",
       "    }\n",
       "\n",
       "    .dataframe tbody tr th {\n",
       "        vertical-align: top;\n",
       "    }\n",
       "\n",
       "    .dataframe thead th {\n",
       "        text-align: right;\n",
       "    }\n",
       "</style>\n",
       "<table border=\"1\" class=\"dataframe\">\n",
       "  <thead>\n",
       "    <tr style=\"text-align: right;\">\n",
       "      <th></th>\n",
       "      <th>id</th>\n",
       "      <th>box</th>\n",
       "      <th>category</th>\n",
       "      <th>text</th>\n",
       "      <th>relations</th>\n",
       "      <th>bert_large_emb</th>\n",
       "      <th>gcn_bert_large</th>\n",
       "    </tr>\n",
       "  </thead>\n",
       "  <tbody>\n",
       "    <tr>\n",
       "      <th>0</th>\n",
       "      <td>0</td>\n",
       "      <td>[105, 134, 158, 149]</td>\n",
       "      <td>question</td>\n",
       "      <td>Location</td>\n",
       "      <td>{'0': {'id': 0, 'object': 1}, '1': {'id': 1, '...</td>\n",
       "      <td>[-0.6775245666503906, -0.5909585952758789, -0....</td>\n",
       "      <td>[-0.00082297134, -0.00088567723, 0.046493772, ...</td>\n",
       "    </tr>\n",
       "    <tr>\n",
       "      <th>1</th>\n",
       "      <td>1</td>\n",
       "      <td>[425, 130, 475, 145]</td>\n",
       "      <td>question</td>\n",
       "      <td>Division</td>\n",
       "      <td>{'0': {'id': 70, 'object': 0}, '1': {'id': 71,...</td>\n",
       "      <td>[-0.24348104000091553, 0.060652412474155426, -...</td>\n",
       "      <td>[-0.00082297134, -0.00088567723, 0.046493772, ...</td>\n",
       "    </tr>\n",
       "    <tr>\n",
       "      <th>2</th>\n",
       "      <td>2</td>\n",
       "      <td>[432, 226, 502, 243]</td>\n",
       "      <td>header</td>\n",
       "      <td>Invitations:</td>\n",
       "      <td>{'0': {'id': 140, 'object': 0}, '1': {'id': 14...</td>\n",
       "      <td>[-0.5478321313858032, 0.030162598937749863, 0....</td>\n",
       "      <td>[-0.00082297134, -0.00088567723, 0.046493772, ...</td>\n",
       "    </tr>\n",
       "    <tr>\n",
       "      <th>3</th>\n",
       "      <td>3</td>\n",
       "      <td>[103, 254, 139, 269]</td>\n",
       "      <td>question</td>\n",
       "      <td>Mugs</td>\n",
       "      <td>{'0': {'id': 210, 'object': 0}, '1': {'id': 21...</td>\n",
       "      <td>[-0.26809656620025635, 0.20610269904136658, -0...</td>\n",
       "      <td>[-0.00082297134, -0.00088567723, 0.046493772, ...</td>\n",
       "    </tr>\n",
       "    <tr>\n",
       "      <th>4</th>\n",
       "      <td>4</td>\n",
       "      <td>[105, 300, 157, 315]</td>\n",
       "      <td>question</td>\n",
       "      <td>Posters</td>\n",
       "      <td>{'0': {'id': 280, 'object': 0}, '1': {'id': 28...</td>\n",
       "      <td>[-0.26464468240737915, -0.2642456889152527, -0...</td>\n",
       "      <td>[-0.00082297134, -0.00088567723, 0.046493772, ...</td>\n",
       "    </tr>\n",
       "  </tbody>\n",
       "</table>\n",
       "</div>"
      ],
      "text/plain": [
       "   id                   box  category          text  \\\n",
       "0   0  [105, 134, 158, 149]  question      Location   \n",
       "1   1  [425, 130, 475, 145]  question      Division   \n",
       "2   2  [432, 226, 502, 243]    header  Invitations:   \n",
       "3   3  [103, 254, 139, 269]  question          Mugs   \n",
       "4   4  [105, 300, 157, 315]  question       Posters   \n",
       "\n",
       "                                           relations  \\\n",
       "0  {'0': {'id': 0, 'object': 1}, '1': {'id': 1, '...   \n",
       "1  {'0': {'id': 70, 'object': 0}, '1': {'id': 71,...   \n",
       "2  {'0': {'id': 140, 'object': 0}, '1': {'id': 14...   \n",
       "3  {'0': {'id': 210, 'object': 0}, '1': {'id': 21...   \n",
       "4  {'0': {'id': 280, 'object': 0}, '1': {'id': 28...   \n",
       "\n",
       "                                      bert_large_emb  \\\n",
       "0  [-0.6775245666503906, -0.5909585952758789, -0....   \n",
       "1  [-0.24348104000091553, 0.060652412474155426, -...   \n",
       "2  [-0.5478321313858032, 0.030162598937749863, 0....   \n",
       "3  [-0.26809656620025635, 0.20610269904136658, -0...   \n",
       "4  [-0.26464468240737915, -0.2642456889152527, -0...   \n",
       "\n",
       "                                      gcn_bert_large  \n",
       "0  [-0.00082297134, -0.00088567723, 0.046493772, ...  \n",
       "1  [-0.00082297134, -0.00088567723, 0.046493772, ...  \n",
       "2  [-0.00082297134, -0.00088567723, 0.046493772, ...  \n",
       "3  [-0.00082297134, -0.00088567723, 0.046493772, ...  \n",
       "4  [-0.00082297134, -0.00088567723, 0.046493772, ...  "
      ]
     },
     "execution_count": 159,
     "metadata": {},
     "output_type": "execute_result"
    }
   ],
   "source": [
    "df_pc_train.head()"
   ]
  },
  {
   "cell_type": "code",
   "execution_count": null,
   "metadata": {},
   "outputs": [],
   "source": []
  },
  {
   "cell_type": "code",
   "execution_count": 169,
   "metadata": {
    "tags": []
   },
   "outputs": [],
   "source": [
    "df_train = pd.merge(df_dw_train, df_pc_train[['id','bert_large_emb','gcn_bert_large']]\\\n",
    "                    , on=['id','id'], how='left') "
   ]
  },
  {
   "cell_type": "code",
   "execution_count": 170,
   "metadata": {
    "tags": []
   },
   "outputs": [
    {
     "data": {
      "text/plain": [
       "(7411, 17)"
      ]
     },
     "execution_count": 170,
     "metadata": {},
     "output_type": "execute_result"
    }
   ],
   "source": [
    "df_train.shape"
   ]
  },
  {
   "cell_type": "code",
   "execution_count": 171,
   "metadata": {
    "collapsed": true,
    "jupyter": {
     "outputs_hidden": true
    },
    "tags": []
   },
   "outputs": [
    {
     "data": {
      "text/html": [
       "<div>\n",
       "<style scoped>\n",
       "    .dataframe tbody tr th:only-of-type {\n",
       "        vertical-align: middle;\n",
       "    }\n",
       "\n",
       "    .dataframe tbody tr th {\n",
       "        vertical-align: top;\n",
       "    }\n",
       "\n",
       "    .dataframe thead th {\n",
       "        text-align: right;\n",
       "    }\n",
       "</style>\n",
       "<table border=\"1\" class=\"dataframe\">\n",
       "  <thead>\n",
       "    <tr style=\"text-align: right;\">\n",
       "      <th></th>\n",
       "      <th>id</th>\n",
       "      <th>box</th>\n",
       "      <th>category</th>\n",
       "      <th>text</th>\n",
       "      <th>relations</th>\n",
       "      <th>gap</th>\n",
       "      <th>text_density</th>\n",
       "      <th>text_number</th>\n",
       "      <th>char_density</th>\n",
       "      <th>char_number</th>\n",
       "      <th>parsing_level1</th>\n",
       "      <th>parsing_level2</th>\n",
       "      <th>near_gap</th>\n",
       "      <th>gcn_token_number</th>\n",
       "      <th>visual_embeddings</th>\n",
       "      <th>bert_large_emb</th>\n",
       "      <th>gcn_bert_large</th>\n",
       "    </tr>\n",
       "  </thead>\n",
       "  <tbody>\n",
       "    <tr>\n",
       "      <th>0</th>\n",
       "      <td>0</td>\n",
       "      <td>[105, 134, 158, 149]</td>\n",
       "      <td>question</td>\n",
       "      <td>Location</td>\n",
       "      <td>{'0': {'id': 0, 'object': 1}, '1': {'id': 1, '...</td>\n",
       "      <td>{'1': 267, '2': 274, '3': 105, '4': 151, '5': ...</td>\n",
       "      <td>0.001258</td>\n",
       "      <td>1</td>\n",
       "      <td>0.010063</td>\n",
       "      <td>8</td>\n",
       "      <td>[]</td>\n",
       "      <td>[]</td>\n",
       "      <td>{'26': 17, '42': 12}</td>\n",
       "      <td>[-0.03008558, -0.041219972, -0.21079858, -0.04...</td>\n",
       "      <td>[0.0, 0.5288188457489014, 3.1429412364959717, ...</td>\n",
       "      <td>[-0.6775245666503906, -0.5909585952758789, -0....</td>\n",
       "      <td>[-0.00082297134, -0.00088567723, 0.046493772, ...</td>\n",
       "    </tr>\n",
       "    <tr>\n",
       "      <th>1</th>\n",
       "      <td>1</td>\n",
       "      <td>[425, 130, 475, 145]</td>\n",
       "      <td>question</td>\n",
       "      <td>Division</td>\n",
       "      <td>{'0': {'id': 70, 'object': 0}, '1': {'id': 71,...</td>\n",
       "      <td>{'0': 267, '2': 81, '3': 286, '4': 268, '5': 2...</td>\n",
       "      <td>0.001333</td>\n",
       "      <td>1</td>\n",
       "      <td>0.010667</td>\n",
       "      <td>8</td>\n",
       "      <td>[]</td>\n",
       "      <td>[]</td>\n",
       "      <td>{'38': 13, '44': 13}</td>\n",
       "      <td>[-0.030569917, -0.041657943, -0.20294446, -0.0...</td>\n",
       "      <td>[0.0, 0.40805140137672424, 3.3653852939605713,...</td>\n",
       "      <td>[-0.24348104000091553, 0.060652412474155426, -...</td>\n",
       "      <td>[-0.00082297134, -0.00088567723, 0.046493772, ...</td>\n",
       "    </tr>\n",
       "    <tr>\n",
       "      <th>2</th>\n",
       "      <td>2</td>\n",
       "      <td>[432, 226, 502, 243]</td>\n",
       "      <td>header</td>\n",
       "      <td>Invitations:</td>\n",
       "      <td>{'0': {'id': 140, 'object': 0}, '1': {'id': 14...</td>\n",
       "      <td>{'0': 274, '1': 81, '3': 293, '4': 275, '5': 2...</td>\n",
       "      <td>0.001681</td>\n",
       "      <td>2</td>\n",
       "      <td>0.010084</td>\n",
       "      <td>12</td>\n",
       "      <td>[]</td>\n",
       "      <td>[]</td>\n",
       "      <td>{'11': 10, '47': 5}</td>\n",
       "      <td>[-0.03380406, -0.044938385, -0.16522531, -0.04...</td>\n",
       "      <td>[0.0, 0.1519727110862732, 0.8420601487159729, ...</td>\n",
       "      <td>[-0.5478321313858032, 0.030162598937749863, 0....</td>\n",
       "      <td>[-0.00082297134, -0.00088567723, 0.046493772, ...</td>\n",
       "    </tr>\n",
       "    <tr>\n",
       "      <th>3</th>\n",
       "      <td>3</td>\n",
       "      <td>[103, 254, 139, 269]</td>\n",
       "      <td>question</td>\n",
       "      <td>Mugs</td>\n",
       "      <td>{'0': {'id': 210, 'object': 0}, '1': {'id': 21...</td>\n",
       "      <td>{'0': 105, '1': 286, '2': 293, '4': 31, '5': 3...</td>\n",
       "      <td>0.001852</td>\n",
       "      <td>1</td>\n",
       "      <td>0.007407</td>\n",
       "      <td>4</td>\n",
       "      <td>[]</td>\n",
       "      <td>[]</td>\n",
       "      <td>{'48': 9, '49': 0, '69': 9}</td>\n",
       "      <td>[-0.028979465, -0.040293574, -0.20505819, -0.0...</td>\n",
       "      <td>[0.0, 0.07907691597938538, 3.944286823272705, ...</td>\n",
       "      <td>[-0.26809656620025635, 0.20610269904136658, -0...</td>\n",
       "      <td>[-0.00082297134, -0.00088567723, 0.046493772, ...</td>\n",
       "    </tr>\n",
       "    <tr>\n",
       "      <th>4</th>\n",
       "      <td>4</td>\n",
       "      <td>[105, 300, 157, 315]</td>\n",
       "      <td>question</td>\n",
       "      <td>Posters</td>\n",
       "      <td>{'0': {'id': 280, 'object': 0}, '1': {'id': 28...</td>\n",
       "      <td>{'0': 151, '1': 268, '2': 275, '3': 31, '5': 2...</td>\n",
       "      <td>0.001282</td>\n",
       "      <td>1</td>\n",
       "      <td>0.008974</td>\n",
       "      <td>7</td>\n",
       "      <td>[]</td>\n",
       "      <td>[]</td>\n",
       "      <td>{'13': 9, '50': 1}</td>\n",
       "      <td>[-0.023589646, -0.038782388, -0.20685978, -0.0...</td>\n",
       "      <td>[0.0, 0.07378455251455307, 2.7909140586853027,...</td>\n",
       "      <td>[-0.26464468240737915, -0.2642456889152527, -0...</td>\n",
       "      <td>[-0.00082297134, -0.00088567723, 0.046493772, ...</td>\n",
       "    </tr>\n",
       "  </tbody>\n",
       "</table>\n",
       "</div>"
      ],
      "text/plain": [
       "   id                   box  category          text  \\\n",
       "0   0  [105, 134, 158, 149]  question      Location   \n",
       "1   1  [425, 130, 475, 145]  question      Division   \n",
       "2   2  [432, 226, 502, 243]    header  Invitations:   \n",
       "3   3  [103, 254, 139, 269]  question          Mugs   \n",
       "4   4  [105, 300, 157, 315]  question       Posters   \n",
       "\n",
       "                                           relations  \\\n",
       "0  {'0': {'id': 0, 'object': 1}, '1': {'id': 1, '...   \n",
       "1  {'0': {'id': 70, 'object': 0}, '1': {'id': 71,...   \n",
       "2  {'0': {'id': 140, 'object': 0}, '1': {'id': 14...   \n",
       "3  {'0': {'id': 210, 'object': 0}, '1': {'id': 21...   \n",
       "4  {'0': {'id': 280, 'object': 0}, '1': {'id': 28...   \n",
       "\n",
       "                                                 gap  text_density  \\\n",
       "0  {'1': 267, '2': 274, '3': 105, '4': 151, '5': ...      0.001258   \n",
       "1  {'0': 267, '2': 81, '3': 286, '4': 268, '5': 2...      0.001333   \n",
       "2  {'0': 274, '1': 81, '3': 293, '4': 275, '5': 2...      0.001681   \n",
       "3  {'0': 105, '1': 286, '2': 293, '4': 31, '5': 3...      0.001852   \n",
       "4  {'0': 151, '1': 268, '2': 275, '3': 31, '5': 2...      0.001282   \n",
       "\n",
       "   text_number  char_density  char_number parsing_level1 parsing_level2  \\\n",
       "0            1      0.010063            8             []             []   \n",
       "1            1      0.010667            8             []             []   \n",
       "2            2      0.010084           12             []             []   \n",
       "3            1      0.007407            4             []             []   \n",
       "4            1      0.008974            7             []             []   \n",
       "\n",
       "                      near_gap  \\\n",
       "0         {'26': 17, '42': 12}   \n",
       "1         {'38': 13, '44': 13}   \n",
       "2          {'11': 10, '47': 5}   \n",
       "3  {'48': 9, '49': 0, '69': 9}   \n",
       "4           {'13': 9, '50': 1}   \n",
       "\n",
       "                                    gcn_token_number  \\\n",
       "0  [-0.03008558, -0.041219972, -0.21079858, -0.04...   \n",
       "1  [-0.030569917, -0.041657943, -0.20294446, -0.0...   \n",
       "2  [-0.03380406, -0.044938385, -0.16522531, -0.04...   \n",
       "3  [-0.028979465, -0.040293574, -0.20505819, -0.0...   \n",
       "4  [-0.023589646, -0.038782388, -0.20685978, -0.0...   \n",
       "\n",
       "                                   visual_embeddings  \\\n",
       "0  [0.0, 0.5288188457489014, 3.1429412364959717, ...   \n",
       "1  [0.0, 0.40805140137672424, 3.3653852939605713,...   \n",
       "2  [0.0, 0.1519727110862732, 0.8420601487159729, ...   \n",
       "3  [0.0, 0.07907691597938538, 3.944286823272705, ...   \n",
       "4  [0.0, 0.07378455251455307, 2.7909140586853027,...   \n",
       "\n",
       "                                      bert_large_emb  \\\n",
       "0  [-0.6775245666503906, -0.5909585952758789, -0....   \n",
       "1  [-0.24348104000091553, 0.060652412474155426, -...   \n",
       "2  [-0.5478321313858032, 0.030162598937749863, 0....   \n",
       "3  [-0.26809656620025635, 0.20610269904136658, -0...   \n",
       "4  [-0.26464468240737915, -0.2642456889152527, -0...   \n",
       "\n",
       "                                      gcn_bert_large  \n",
       "0  [-0.00082297134, -0.00088567723, 0.046493772, ...  \n",
       "1  [-0.00082297134, -0.00088567723, 0.046493772, ...  \n",
       "2  [-0.00082297134, -0.00088567723, 0.046493772, ...  \n",
       "3  [-0.00082297134, -0.00088567723, 0.046493772, ...  \n",
       "4  [-0.00082297134, -0.00088567723, 0.046493772, ...  "
      ]
     },
     "execution_count": 171,
     "metadata": {},
     "output_type": "execute_result"
    }
   ],
   "source": [
    "df_train.head()"
   ]
  },
  {
   "cell_type": "code",
   "execution_count": 164,
   "metadata": {
    "tags": []
   },
   "outputs": [
    {
     "data": {
      "text/plain": [
       "id                   0\n",
       "box                  0\n",
       "category             0\n",
       "text_x               0\n",
       "relations            0\n",
       "gap                  0\n",
       "text_density         0\n",
       "text_number          0\n",
       "char_density         0\n",
       "char_number          0\n",
       "parsing_level1       0\n",
       "parsing_level2       0\n",
       "near_gap             0\n",
       "gcn_token_number     0\n",
       "visual_embeddings    0\n",
       "text_y               0\n",
       "bert_large_emb       0\n",
       "gcn_bert_large       0\n",
       "dtype: int64"
      ]
     },
     "execution_count": 164,
     "metadata": {},
     "output_type": "execute_result"
    }
   ],
   "source": [
    "df_train.isna().sum()"
   ]
  },
  {
   "cell_type": "code",
   "execution_count": 60,
   "metadata": {
    "tags": []
   },
   "outputs": [
    {
     "data": {
      "text/plain": [
       "id                     int64\n",
       "box                   object\n",
       "category              object\n",
       "text                  object\n",
       "relations             object\n",
       "gap                   object\n",
       "text_density         float64\n",
       "text_number            int64\n",
       "char_density         float64\n",
       "char_number            int64\n",
       "parsing_level1        object\n",
       "parsing_level2        object\n",
       "near_gap              object\n",
       "gcn_token_number      object\n",
       "visual_embeddings     object\n",
       "bert_large_emb        object\n",
       "gcn_bert_large        object\n",
       "dtype: object"
      ]
     },
     "execution_count": 60,
     "metadata": {},
     "output_type": "execute_result"
    }
   ],
   "source": [
    "df_train.dtypes"
   ]
  },
  {
   "cell_type": "code",
   "execution_count": 86,
   "metadata": {
    "tags": []
   },
   "outputs": [
    {
     "data": {
      "text/plain": [
       "id                                                                   0\n",
       "box                                               [105, 134, 158, 149]\n",
       "category                                                      question\n",
       "text                                                          Location\n",
       "relations            {'0': {'id': 0, 'object': 1}, '1': {'id': 1, '...\n",
       "gap                  {'1': 267, '2': 274, '3': 105, '4': 151, '5': ...\n",
       "text_density                                                  0.001258\n",
       "text_number                                                          1\n",
       "char_density                                                  0.010063\n",
       "char_number                                                          8\n",
       "parsing_level1                                                      []\n",
       "parsing_level2                                                      []\n",
       "near_gap                                          {'26': 17, '42': 12}\n",
       "gcn_token_number     [-0.03008558, -0.041219972, -0.21079858, -0.04...\n",
       "visual_embeddings    [0.0, 0.5288188457489014, 3.1429412364959717, ...\n",
       "bert_large_emb       [-0.6775245666503906, -0.5909585952758789, -0....\n",
       "gcn_bert_large       [-0.00082297134, -0.00088567723, 0.046493772, ...\n",
       "Name: 0, dtype: object"
      ]
     },
     "execution_count": 86,
     "metadata": {},
     "output_type": "execute_result"
    }
   ],
   "source": [
    "df_train.loc[0]"
   ]
  },
  {
   "cell_type": "code",
   "execution_count": 88,
   "metadata": {
    "tags": []
   },
   "outputs": [
    {
     "data": {
      "text/plain": [
       "768"
      ]
     },
     "execution_count": 88,
     "metadata": {},
     "output_type": "execute_result"
    }
   ],
   "source": [
    "len(df_train['gcn_token_number'].loc[0])"
   ]
  },
  {
   "cell_type": "code",
   "execution_count": 89,
   "metadata": {
    "tags": []
   },
   "outputs": [
    {
     "data": {
      "text/plain": [
       "2048"
      ]
     },
     "execution_count": 89,
     "metadata": {},
     "output_type": "execute_result"
    }
   ],
   "source": [
    "len(df_train['visual_embeddings'].loc[0])"
   ]
  },
  {
   "cell_type": "code",
   "execution_count": 90,
   "metadata": {
    "tags": []
   },
   "outputs": [
    {
     "data": {
      "text/plain": [
       "768"
      ]
     },
     "execution_count": 90,
     "metadata": {},
     "output_type": "execute_result"
    }
   ],
   "source": [
    "len(df_train['bert_large_emb'].loc[0])"
   ]
  },
  {
   "cell_type": "code",
   "execution_count": 91,
   "metadata": {
    "tags": []
   },
   "outputs": [
    {
     "data": {
      "text/plain": [
       "1024"
      ]
     },
     "execution_count": 91,
     "metadata": {},
     "output_type": "execute_result"
    }
   ],
   "source": [
    "len(df_train['gcn_bert_large'].loc[0])"
   ]
  },
  {
   "cell_type": "code",
   "execution_count": null,
   "metadata": {},
   "outputs": [],
   "source": []
  },
  {
   "cell_type": "code",
   "execution_count": 92,
   "metadata": {
    "tags": []
   },
   "outputs": [],
   "source": [
    "# df_train['bert_large_emb'] = np.asarray(df_train['bert_large_emb'])"
   ]
  },
  {
   "cell_type": "code",
   "execution_count": null,
   "metadata": {
    "tags": []
   },
   "outputs": [],
   "source": []
  },
  {
   "cell_type": "code",
   "execution_count": null,
   "metadata": {},
   "outputs": [],
   "source": []
  },
  {
   "cell_type": "code",
   "execution_count": 172,
   "metadata": {
    "tags": []
   },
   "outputs": [],
   "source": [
    "# df_test = pd.merge(df_dw_test, df_pc_test[['text','bert_large_emb','gcn_bert_large']], on='text', how='inner') \n",
    "\n",
    "\n",
    "df_test = pd.merge(df_dw_test, df_pc_test[['id','bert_large_emb','gcn_bert_large']]\\\n",
    "                    , on=['id','id'], how='left') "
   ]
  },
  {
   "cell_type": "code",
   "execution_count": 173,
   "metadata": {
    "tags": []
   },
   "outputs": [
    {
     "data": {
      "text/plain": [
       "(2332, 17)"
      ]
     },
     "execution_count": 173,
     "metadata": {},
     "output_type": "execute_result"
    }
   ],
   "source": [
    "df_test.shape"
   ]
  },
  {
   "cell_type": "code",
   "execution_count": 174,
   "metadata": {},
   "outputs": [
    {
     "data": {
      "text/html": [
       "<div>\n",
       "<style scoped>\n",
       "    .dataframe tbody tr th:only-of-type {\n",
       "        vertical-align: middle;\n",
       "    }\n",
       "\n",
       "    .dataframe tbody tr th {\n",
       "        vertical-align: top;\n",
       "    }\n",
       "\n",
       "    .dataframe thead th {\n",
       "        text-align: right;\n",
       "    }\n",
       "</style>\n",
       "<table border=\"1\" class=\"dataframe\">\n",
       "  <thead>\n",
       "    <tr style=\"text-align: right;\">\n",
       "      <th></th>\n",
       "      <th>id</th>\n",
       "      <th>box</th>\n",
       "      <th>category</th>\n",
       "      <th>text</th>\n",
       "      <th>relations</th>\n",
       "      <th>gap</th>\n",
       "      <th>text_density</th>\n",
       "      <th>text_number</th>\n",
       "      <th>char_density</th>\n",
       "      <th>char_number</th>\n",
       "      <th>parsing_level1</th>\n",
       "      <th>parsing_level2</th>\n",
       "      <th>near_gap</th>\n",
       "      <th>gcn_token_number</th>\n",
       "      <th>visual_embeddings</th>\n",
       "      <th>bert_large_emb</th>\n",
       "      <th>gcn_bert_large</th>\n",
       "    </tr>\n",
       "  </thead>\n",
       "  <tbody>\n",
       "    <tr>\n",
       "      <th>0</th>\n",
       "      <td>7412</td>\n",
       "      <td>[140, 186, 179, 200]</td>\n",
       "      <td>question</td>\n",
       "      <td>DATE:</td>\n",
       "      <td>{'0': {'id': 0, 'object': 7413}, '1': {'id': 1...</td>\n",
       "      <td>{'1': 77, '2': 402, '3': 88, '4': 26, '5': 493...</td>\n",
       "      <td>0.003663</td>\n",
       "      <td>2</td>\n",
       "      <td>0.009158</td>\n",
       "      <td>5</td>\n",
       "      <td>[]</td>\n",
       "      <td>[]</td>\n",
       "      <td>{'9': 10, '13': 15}</td>\n",
       "      <td>[-0.026612815, -0.042800277, -0.17022753, -0.0...</td>\n",
       "      <td>[0.0, 1.0358710289001465, 4.277202606201172, 0...</td>\n",
       "      <td>[-0.8346639275550842, -0.044609859585762024, 0...</td>\n",
       "      <td>[-0.0009340879, -0.000552057, 0.047308944, -0....</td>\n",
       "    </tr>\n",
       "    <tr>\n",
       "      <th>1</th>\n",
       "      <td>7413</td>\n",
       "      <td>[256, 186, 292, 201]</td>\n",
       "      <td>question</td>\n",
       "      <td>TIME:</td>\n",
       "      <td>{'0': {'id': 23, 'object': 7412}, '1': {'id': ...</td>\n",
       "      <td>{'0': 77, '2': 289, '3': 52, '4': 142, '5': 38...</td>\n",
       "      <td>0.003704</td>\n",
       "      <td>2</td>\n",
       "      <td>0.009259</td>\n",
       "      <td>5</td>\n",
       "      <td>[]</td>\n",
       "      <td>[]</td>\n",
       "      <td>{'6': 10, '9': 16}</td>\n",
       "      <td>[-0.029045926, -0.044880282, -0.12462776, -0.0...</td>\n",
       "      <td>[0.0, 3.991218328475952, 4.932686805725098, 0....</td>\n",
       "      <td>[-0.12230616807937622, 0.20142650604248047, 0....</td>\n",
       "      <td>[-0.0009340879, -0.000552057, 0.047308944, -0....</td>\n",
       "    </tr>\n",
       "    <tr>\n",
       "      <th>2</th>\n",
       "      <td>7414</td>\n",
       "      <td>[581, 91, 638, 123]</td>\n",
       "      <td>other</td>\n",
       "      <td>MRA</td>\n",
       "      <td>{'0': {'id': 46, 'object': 7412}, '1': {'id': ...</td>\n",
       "      <td>{'0': 402, '1': 289, '3': 377, '4': 467, '5': ...</td>\n",
       "      <td>0.000548</td>\n",
       "      <td>1</td>\n",
       "      <td>0.001645</td>\n",
       "      <td>3</td>\n",
       "      <td>[]</td>\n",
       "      <td>[]</td>\n",
       "      <td>{'5': 34, '8': 3}</td>\n",
       "      <td>[-0.023476912, -0.039044738, -0.17681217, -0.0...</td>\n",
       "      <td>[0.0, 0.9673323631286621, 9.246628761291504, 0...</td>\n",
       "      <td>[-0.2084798663854599, -0.2435063123703003, -0....</td>\n",
       "      <td>[-0.0009340879, -0.000552057, 0.047308944, -0....</td>\n",
       "    </tr>\n",
       "    <tr>\n",
       "      <th>3</th>\n",
       "      <td>7415</td>\n",
       "      <td>[91, 288, 204, 302]</td>\n",
       "      <td>question</td>\n",
       "      <td>MANUFACTURER:</td>\n",
       "      <td>{'0': {'id': 69, 'object': 7412}, '1': {'id': ...</td>\n",
       "      <td>{'0': 88, '1': 52, '2': 377, '4': 469, '5': 46...</td>\n",
       "      <td>0.001264</td>\n",
       "      <td>2</td>\n",
       "      <td>0.008217</td>\n",
       "      <td>13</td>\n",
       "      <td>[]</td>\n",
       "      <td>[]</td>\n",
       "      <td>{'13': 22, '21': 28}</td>\n",
       "      <td>[-0.035383455, -0.04307928, -0.17305261, -0.04...</td>\n",
       "      <td>[0.0, 1.8845555782318115, 1.7339874505996704, ...</td>\n",
       "      <td>[0.07169141620397568, 0.34372690320014954, 0.1...</td>\n",
       "      <td>[-0.0009340879, -0.000552057, 0.047308944, -0....</td>\n",
       "    </tr>\n",
       "    <tr>\n",
       "      <th>4</th>\n",
       "      <td>7416</td>\n",
       "      <td>[94, 771, 114, 781]</td>\n",
       "      <td>question</td>\n",
       "      <td>cc:</td>\n",
       "      <td>{'0': {'id': 92, 'object': 7412}, '1': {'id': ...</td>\n",
       "      <td>{'0': 26, '1': 142, '2': 467, '3': 469, '5': 5...</td>\n",
       "      <td>0.010000</td>\n",
       "      <td>2</td>\n",
       "      <td>0.015000</td>\n",
       "      <td>3</td>\n",
       "      <td>[]</td>\n",
       "      <td>[]</td>\n",
       "      <td>{'0': 26, '23': 1}</td>\n",
       "      <td>[-0.028614875, -0.044609457, -0.1418788, -0.04...</td>\n",
       "      <td>[0.0, 0.8069549798965454, 3.126600503921509, 0...</td>\n",
       "      <td>[-0.1986543983221054, -0.05733171105384827, 0....</td>\n",
       "      <td>[-0.0009340879, -0.000552057, 0.047308944, -0....</td>\n",
       "    </tr>\n",
       "  </tbody>\n",
       "</table>\n",
       "</div>"
      ],
      "text/plain": [
       "     id                   box  category           text  \\\n",
       "0  7412  [140, 186, 179, 200]  question          DATE:   \n",
       "1  7413  [256, 186, 292, 201]  question          TIME:   \n",
       "2  7414   [581, 91, 638, 123]     other            MRA   \n",
       "3  7415   [91, 288, 204, 302]  question  MANUFACTURER:   \n",
       "4  7416   [94, 771, 114, 781]  question            cc:   \n",
       "\n",
       "                                           relations  \\\n",
       "0  {'0': {'id': 0, 'object': 7413}, '1': {'id': 1...   \n",
       "1  {'0': {'id': 23, 'object': 7412}, '1': {'id': ...   \n",
       "2  {'0': {'id': 46, 'object': 7412}, '1': {'id': ...   \n",
       "3  {'0': {'id': 69, 'object': 7412}, '1': {'id': ...   \n",
       "4  {'0': {'id': 92, 'object': 7412}, '1': {'id': ...   \n",
       "\n",
       "                                                 gap  text_density  \\\n",
       "0  {'1': 77, '2': 402, '3': 88, '4': 26, '5': 493...      0.003663   \n",
       "1  {'0': 77, '2': 289, '3': 52, '4': 142, '5': 38...      0.003704   \n",
       "2  {'0': 402, '1': 289, '3': 377, '4': 467, '5': ...      0.000548   \n",
       "3  {'0': 88, '1': 52, '2': 377, '4': 469, '5': 46...      0.001264   \n",
       "4  {'0': 26, '1': 142, '2': 467, '3': 469, '5': 5...      0.010000   \n",
       "\n",
       "   text_number  char_density  char_number parsing_level1 parsing_level2  \\\n",
       "0            2      0.009158            5             []             []   \n",
       "1            2      0.009259            5             []             []   \n",
       "2            1      0.001645            3             []             []   \n",
       "3            2      0.008217           13             []             []   \n",
       "4            2      0.015000            3             []             []   \n",
       "\n",
       "               near_gap                                   gcn_token_number  \\\n",
       "0   {'9': 10, '13': 15}  [-0.026612815, -0.042800277, -0.17022753, -0.0...   \n",
       "1    {'6': 10, '9': 16}  [-0.029045926, -0.044880282, -0.12462776, -0.0...   \n",
       "2     {'5': 34, '8': 3}  [-0.023476912, -0.039044738, -0.17681217, -0.0...   \n",
       "3  {'13': 22, '21': 28}  [-0.035383455, -0.04307928, -0.17305261, -0.04...   \n",
       "4    {'0': 26, '23': 1}  [-0.028614875, -0.044609457, -0.1418788, -0.04...   \n",
       "\n",
       "                                   visual_embeddings  \\\n",
       "0  [0.0, 1.0358710289001465, 4.277202606201172, 0...   \n",
       "1  [0.0, 3.991218328475952, 4.932686805725098, 0....   \n",
       "2  [0.0, 0.9673323631286621, 9.246628761291504, 0...   \n",
       "3  [0.0, 1.8845555782318115, 1.7339874505996704, ...   \n",
       "4  [0.0, 0.8069549798965454, 3.126600503921509, 0...   \n",
       "\n",
       "                                      bert_large_emb  \\\n",
       "0  [-0.8346639275550842, -0.044609859585762024, 0...   \n",
       "1  [-0.12230616807937622, 0.20142650604248047, 0....   \n",
       "2  [-0.2084798663854599, -0.2435063123703003, -0....   \n",
       "3  [0.07169141620397568, 0.34372690320014954, 0.1...   \n",
       "4  [-0.1986543983221054, -0.05733171105384827, 0....   \n",
       "\n",
       "                                      gcn_bert_large  \n",
       "0  [-0.0009340879, -0.000552057, 0.047308944, -0....  \n",
       "1  [-0.0009340879, -0.000552057, 0.047308944, -0....  \n",
       "2  [-0.0009340879, -0.000552057, 0.047308944, -0....  \n",
       "3  [-0.0009340879, -0.000552057, 0.047308944, -0....  \n",
       "4  [-0.0009340879, -0.000552057, 0.047308944, -0....  "
      ]
     },
     "execution_count": 174,
     "metadata": {},
     "output_type": "execute_result"
    }
   ],
   "source": [
    "df_test.head()"
   ]
  },
  {
   "cell_type": "code",
   "execution_count": null,
   "metadata": {},
   "outputs": [],
   "source": []
  },
  {
   "cell_type": "code",
   "execution_count": null,
   "metadata": {},
   "outputs": [],
   "source": []
  },
  {
   "cell_type": "code",
   "execution_count": 175,
   "metadata": {
    "tags": []
   },
   "outputs": [
    {
     "data": {
      "text/plain": [
       "Index(['id', 'box', 'category', 'text', 'relations', 'gap', 'text_density',\n",
       "       'text_number', 'char_density', 'char_number', 'parsing_level1',\n",
       "       'parsing_level2', 'near_gap', 'gcn_token_number', 'visual_embeddings',\n",
       "       'bert_large_emb', 'gcn_bert_large'],\n",
       "      dtype='object')"
      ]
     },
     "execution_count": 175,
     "metadata": {},
     "output_type": "execute_result"
    }
   ],
   "source": [
    "df_train.columns"
   ]
  },
  {
   "cell_type": "code",
   "execution_count": 176,
   "metadata": {
    "tags": []
   },
   "outputs": [
    {
     "data": {
      "text/plain": [
       "Index(['id', 'box', 'category', 'text', 'relations', 'gap', 'text_density',\n",
       "       'text_number', 'char_density', 'char_number', 'parsing_level1',\n",
       "       'parsing_level2', 'near_gap', 'gcn_token_number', 'visual_embeddings',\n",
       "       'bert_large_emb', 'gcn_bert_large'],\n",
       "      dtype='object')"
      ]
     },
     "execution_count": 176,
     "metadata": {},
     "output_type": "execute_result"
    }
   ],
   "source": [
    "df_test.columns"
   ]
  },
  {
   "cell_type": "code",
   "execution_count": null,
   "metadata": {},
   "outputs": [],
   "source": []
  },
  {
   "cell_type": "code",
   "execution_count": null,
   "metadata": {},
   "outputs": [],
   "source": []
  },
  {
   "cell_type": "code",
   "execution_count": 177,
   "metadata": {
    "tags": []
   },
   "outputs": [],
   "source": [
    "# Added extra code here - DO NOT RUN\n",
    "from sklearn.preprocessing import LabelEncoder\n",
    "labelencoder = LabelEncoder()\n",
    "\n",
    "df_train['label'] = labelencoder.fit_transform(df_train['category'])\n",
    "df_test['label'] = labelencoder.fit_transform(df_test['category'])"
   ]
  },
  {
   "cell_type": "code",
   "execution_count": 178,
   "metadata": {
    "tags": []
   },
   "outputs": [
    {
     "data": {
      "text/plain": [
       "3    3266\n",
       "0    2802\n",
       "2     902\n",
       "1     441\n",
       "Name: label, dtype: int64"
      ]
     },
     "execution_count": 178,
     "metadata": {},
     "output_type": "execute_result"
    }
   ],
   "source": [
    "df_train['label'].value_counts()"
   ]
  },
  {
   "cell_type": "code",
   "execution_count": 179,
   "metadata": {
    "tags": []
   },
   "outputs": [
    {
     "data": {
      "text/plain": [
       "3    1077\n",
       "0     821\n",
       "2     312\n",
       "1     122\n",
       "Name: label, dtype: int64"
      ]
     },
     "execution_count": 179,
     "metadata": {},
     "output_type": "execute_result"
    }
   ],
   "source": [
    "df_test['label'].value_counts()"
   ]
  },
  {
   "cell_type": "code",
   "execution_count": 99,
   "metadata": {
    "tags": []
   },
   "outputs": [],
   "source": [
    "# import pandas as pd\n",
    "# new_df = pd.DataFrame()\n",
    "# new_df_test = pd.DataFrame()\n",
    "\n",
    "# cols_left  = ['text', 'label','near_visual_feature','gcn_near_char_density',\\\n",
    "#                    'gcn_near_char_number','gcn_parsing1','gcn_parsing2',\\\n",
    "#                    'gcn_pos_emb','visual_embedding','gcn_bert_large']\n",
    "# cols_right = ['text', 'label', 'text_density', 'char_density',\\\n",
    "#                     'char_number', 'parsing_level1', 'parsing_level2',\\\n",
    "#                     'gcn_token_number', 'visual_embeddings', 'bert_large_emb']\n",
    "\n",
    "\n",
    "# new_df[cols_left] = df_train[cols_right]\n",
    "# new_df_test[cols_left] = df_test[cols_right]\n",
    "\n",
    "                    "
   ]
  },
  {
   "cell_type": "code",
   "execution_count": null,
   "metadata": {},
   "outputs": [],
   "source": [
    "['text', \n",
    " 'label',\n",
    " 'near_visual_feature',\t\n",
    " 'gcn_near_char_density',\t\n",
    " 'gcn_near_char_number',              \n",
    " 'level1_parse_emb',\n",
    " 'level2_parse_emb',\n",
    " 'gcn_near_token_density',\n",
    " 'density',\n",
    " 'visual_feature',\n",
    " 'gcn_bert_predicted']\n",
    "\n",
    "\n",
    "Index(['id', 'box', 'category', 'text', 'relations', 'gap', 'text_density',\n",
    "       'text_number', 'char_density', 'char_number', 'parsing_level1',\n",
    "       'parsing_level2', 'near_gap', 'gcn_token_number', 'visual_embeddings',\n",
    "       'bert_large_emb', 'gcn_bert_large'],\n",
    "      dtype='object')"
   ]
  },
  {
   "cell_type": "code",
   "execution_count": 180,
   "metadata": {
    "tags": []
   },
   "outputs": [],
   "source": [
    "import pandas as pd\n",
    "new_df = pd.DataFrame()\n",
    "new_df_test = pd.DataFrame()\n",
    "\n",
    "cols_left  = ['text', 'label','near_visual_feature','gcn_near_char_density',\\\n",
    "                   'gcn_near_char_number','level1_parse_emb','level2_parse_emb',\\\n",
    "                   'density','visual_feature','gcn_bert_predicted']\n",
    "\n",
    "cols_right = ['text', 'label', 'gcn_token_number', 'char_density',\\\n",
    "                    'char_number', 'parsing_level1', 'parsing_level2',\\\n",
    "                    'text_density', 'visual_embeddings', 'bert_large_emb']\n",
    "\n",
    "\n",
    "new_df[cols_left] = df_train[cols_right]\n",
    "new_df_test[cols_left] = df_test[cols_right]\n",
    "\n",
    "                    "
   ]
  },
  {
   "cell_type": "code",
   "execution_count": null,
   "metadata": {},
   "outputs": [],
   "source": []
  },
  {
   "cell_type": "code",
   "execution_count": null,
   "metadata": {},
   "outputs": [],
   "source": []
  },
  {
   "cell_type": "code",
   "execution_count": null,
   "metadata": {},
   "outputs": [],
   "source": []
  },
  {
   "cell_type": "code",
   "execution_count": null,
   "metadata": {},
   "outputs": [],
   "source": []
  },
  {
   "cell_type": "code",
   "execution_count": null,
   "metadata": {
    "tags": []
   },
   "outputs": [],
   "source": []
  },
  {
   "cell_type": "code",
   "execution_count": 309,
   "metadata": {
    "id": "baSmeDdIEadM",
    "tags": []
   },
   "outputs": [],
   "source": [
    "# new_df = df_train[['text', 'label','near_visual_feature','gcn_near_char_density',\\\n",
    "#                    'gcn_near_char_number','gcn_parsing1','gcn_parsing2',\\\n",
    "#                    'gcn_bert_base','gcn_pos_emb','visual_embedding','gcn_bert_large']]"
   ]
  },
  {
   "cell_type": "code",
   "execution_count": 310,
   "metadata": {
    "id": "cLrlbfWr-VE_",
    "tags": []
   },
   "outputs": [],
   "source": [
    "# print(new_df.shape)"
   ]
  },
  {
   "cell_type": "code",
   "execution_count": 311,
   "metadata": {
    "id": "RXgrBoaeQIaX",
    "tags": []
   },
   "outputs": [],
   "source": [
    "# new_df.head(50)"
   ]
  },
  {
   "cell_type": "code",
   "execution_count": 312,
   "metadata": {
    "id": "qX1g2eqC0s4I",
    "tags": []
   },
   "outputs": [],
   "source": [
    "# new_df_test = df_test[['text', 'label','near_visual_feature','gcn_near_char_density',\\\n",
    "#                        'gcn_near_char_number','gcn_parsing1','gcn_parsing2',\\\n",
    "#                        'gcn_bert_base','gcn_pos_emb','visual_embedding','gcn_bert_large']]"
   ]
  },
  {
   "cell_type": "code",
   "execution_count": 313,
   "metadata": {
    "id": "tKXr_-Fh-Y5z",
    "tags": []
   },
   "outputs": [],
   "source": [
    "# print(new_df_test.shape)"
   ]
  },
  {
   "cell_type": "markdown",
   "metadata": {
    "id": "RbiQjAgdSqhn",
    "jp-MarkdownHeadingCollapsed": true,
    "tags": []
   },
   "source": [
    "## Data Preprocessing"
   ]
  },
  {
   "cell_type": "code",
   "execution_count": 181,
   "metadata": {
    "id": "nvXxpfNCGER2",
    "tags": []
   },
   "outputs": [],
   "source": [
    "from transformers import BertTokenizer\n",
    "import torch\n",
    "\n",
    "tokenizer = BertTokenizer.from_pretrained('bert-base-uncased')\n",
    "# Defining some key variables that will be used later on in the training\n",
    "MAX_LEN = 100\n",
    "TRAIN_BATCH_SIZE = 16\n",
    "VALID_BATCH_SIZE = TRAIN_BATCH_SIZE*2\n",
    "# EPOCHS = 1\n",
    "LEARNING_RATE = 2e-05\n",
    "# Change the pre-trained bert model\n",
    "#tokenizer = BertTokenizer.from_pretrained('roberta-base') #Cased "
   ]
  },
  {
   "cell_type": "code",
   "execution_count": 182,
   "metadata": {
    "id": "3vWRDemOGxJD",
    "tags": []
   },
   "outputs": [],
   "source": [
    "class SentimentData(Dataset):\n",
    "    def __init__(self, dataframe, tokenizer, max_len):\n",
    "        self.tokenizer = tokenizer\n",
    "        self.data = dataframe\n",
    "        self.text = dataframe.text\n",
    "        self.targets = self.data.label\n",
    "        self.gcn_visual_feature = dataframe.near_visual_feature\n",
    "        self.visual_feature = dataframe.visual_feature\n",
    "        self.gcn_bert_base = dataframe.gcn_bert_predicted\n",
    "        self.parsing1 = dataframe.level1_parse_emb\n",
    "        self.parsing2 = dataframe.level2_parse_emb\n",
    "        self.char_density = dataframe.gcn_near_char_density\n",
    "        self.char_number = dataframe.gcn_near_char_number\n",
    "        self.density = dataframe.density\n",
    "        self.max_len = max_len\n",
    "\n",
    "    def __len__(self):\n",
    "        return len(self.text)\n",
    "\n",
    "    def __getitem__(self, index):\n",
    "        text = str(self.text[index])\n",
    "        text = \" \".join(text.split())\n",
    "\n",
    "        inputs = self.tokenizer.encode_plus(\n",
    "            text,\n",
    "            None,\n",
    "            add_special_tokens=True,\n",
    "            max_length=self.max_len,\n",
    "            pad_to_max_length=True,\n",
    "            return_token_type_ids=True\n",
    "        )\n",
    "        ids = inputs['input_ids']\n",
    "        mask = inputs['attention_mask']\n",
    "        token_type_ids = inputs[\"token_type_ids\"]\n",
    "\n",
    "        return {\n",
    "            'ids': torch.tensor(ids, dtype=torch.long),\n",
    "            'mask': torch.tensor(mask, dtype=torch.long),\n",
    "            'token_type_ids': torch.tensor(token_type_ids, dtype=torch.long),\n",
    "            'targets': torch.tensor(self.targets[index], dtype=torch.float),\n",
    "            'density': torch.tensor(self.density[index],dtype=torch.float),\n",
    "            'gcn_bert_base': torch.tensor(self.gcn_bert_base[index],dtype=torch.float),\n",
    "            'char_density': torch.tensor(self.char_density[index],dtype=torch.float),\n",
    "            'char_number': torch.tensor(self.char_number[index],dtype=torch.float),\n",
    "            'visual_feature': torch.tensor(self.visual_feature[index],dtype=torch.float),\n",
    "            'parsing1': torch.tensor(self.parsing1[index],dtype=torch.float),\n",
    "            'parsing2': torch.tensor(self.parsing2[index],dtype=torch.float),\n",
    "            'gcn_visual_feature': torch.tensor(self.gcn_visual_feature[index],dtype=torch.float),\n",
    "        }"
   ]
  },
  {
   "cell_type": "code",
   "execution_count": 183,
   "metadata": {
    "id": "7Gpe9D1QHoCd",
    "tags": []
   },
   "outputs": [
    {
     "name": "stdout",
     "output_type": "stream",
     "text": [
      "FULL Dataset: (7411, 10)\n",
      "TRAIN Dataset: (7411, 10)\n",
      "TEST Dataset: (2332, 10)\n"
     ]
    }
   ],
   "source": [
    "train_size = 1\n",
    "train_data=new_df.sample(frac=train_size,random_state=200)\n",
    "#test_data=new_df.drop(train_data.index).reset_index(drop=True)\n",
    "train_data = train_data.reset_index(drop=True)\n",
    "\n",
    "\n",
    "print(\"FULL Dataset: {}\".format(new_df.shape))\n",
    "print(\"TRAIN Dataset: {}\".format(train_data.shape))\n",
    "print(\"TEST Dataset: {}\".format(new_df_test.shape))\n",
    "\n",
    "training_set = SentimentData(train_data, tokenizer, MAX_LEN)\n",
    "#testing_set = SentimentData(test_data, tokenizer, MAX_LEN)\n",
    "test_set = SentimentData(new_df_test,tokenizer,MAX_LEN)"
   ]
  },
  {
   "cell_type": "code",
   "execution_count": 184,
   "metadata": {
    "id": "c1tInLk2Eadt",
    "tags": []
   },
   "outputs": [],
   "source": [
    "train_params = {'batch_size': TRAIN_BATCH_SIZE,\n",
    "                'shuffle': True,\n",
    "                'num_workers': 0\n",
    "                }\n",
    "\n",
    "test_params = {'batch_size': VALID_BATCH_SIZE,\n",
    "                'shuffle': False,\n",
    "                'num_workers': 0\n",
    "                }\n",
    "\n",
    "training_loader = DataLoader(training_set, **train_params)\n",
    "#testing_loader = DataLoader(testing_set, **test_params)\n",
    "vali_loader = DataLoader(test_set, **test_params)"
   ]
  },
  {
   "cell_type": "markdown",
   "metadata": {
    "id": "jF12YgfxSwEr",
    "tags": []
   },
   "source": [
    "## Define the proposed classifiers"
   ]
  },
  {
   "cell_type": "code",
   "execution_count": null,
   "metadata": {
    "id": "ipKk-m3pynW6"
   },
   "outputs": [],
   "source": []
  },
  {
   "cell_type": "code",
   "execution_count": 297,
   "metadata": {
    "id": "HMqQTafXEaei",
    "tags": []
   },
   "outputs": [],
   "source": [
    "# class RobertaClass(torch.nn.Module):\n",
    "#     def __init__(self):\n",
    "#         super(RobertaClass, self).__init__()\n",
    "#         #bert-base-cased 768\n",
    "#         #bert-large-cased bert-large-uncased 1024\n",
    "#         #roberta-base-cased 768\n",
    "#         #biobert\n",
    "\n",
    "#         self.l1 = AutoModel.from_pretrained('bert-base-uncased')# BERT large\n",
    "#         self.pre_classifier = torch.nn.Linear(768, 768)\n",
    "#         self.dropout = torch.nn.Dropout(0.1)\n",
    "#         self.h1 = torch.nn.Linear(768,768)\n",
    "#         self.h2 = torch.nn.Linear(768,768)\n",
    "#         self.h3 = torch.nn.Linear(768,768)\n",
    "#         self.h4 = torch.nn.Linear(768,768)\n",
    "#         self.hidden0 = torch.nn.Linear(2304,256)\n",
    "#         self.hidden1 = torch.nn.Linear(2048,768)\n",
    "#         self.hidden2 = torch.nn.Linear(3072,512)\n",
    "\n",
    "#         self.hidden3 = torch.nn.Linear(3072,3072)\n",
    "#         self.hidden4 = torch.nn.Linear(1024,768)\n",
    "#         self.classifier = torch.nn.Linear(512, 4)\n",
    "#         self.pooling = torch.nn.MaxPool2d((2,1), stride=None)\n",
    "\n",
    "#     def forward(self,input_ids,attention_mask,token_type_ids,char_density,char_number, visual_feature,\\\n",
    "#                 gcn_bert_base,parsing1,parsing2,pos_emb,visual):\n",
    "\n",
    "#         output_1 = self.l1(input_ids=input_ids, attention_mask=attention_mask, token_type_ids=token_type_ids)\n",
    "#         hidden_state = output_1[0]\n",
    "#         pooler = hidden_state[:, 0]\n",
    "#         # BERT 768 BERT / large 1024\n",
    "        \n",
    "#         # set different hidden layer, number of hidden units, regularization methods including bn and dropout\n",
    "#         pooler = self.pre_classifier(pooler)\n",
    "#         pooler = torch.nn.Tanh()(pooler)\n",
    "#         pooler = self.dropout(pooler)\n",
    "\n",
    "#         other = torch.cat((pooler.unsqueeze(1),gcn_bert_base.unsqueeze(1)),1)\n",
    "#         other = self.pooling(other).squeeze(1)\n",
    "#         other = self.h1(other)\n",
    "#         other = torch.nn.Tanh()(other)\n",
    "#         other = self.dropout(other)\n",
    "#         pooler = other\n",
    "\n",
    "\n",
    "#         parsing = torch.cat((parsing1.unsqueeze(1),parsing2.unsqueeze(1)),1)\n",
    "#         parsing = self.pooling(parsing).squeeze(1)\n",
    "#         parsing = self.h2(parsing)\n",
    "#         parsing = torch.nn.Tanh()(parsing)\n",
    "#         parsing = self.dropout(parsing)\n",
    "\n",
    "#         density = torch.cat((char_density.unsqueeze(1),char_number.unsqueeze(1)),1)\n",
    "#         density = self.pooling(density).squeeze(1)\n",
    "#         density = self.h3(density)\n",
    "#         density = torch.nn.Tanh()(density)\n",
    "#         density = self.dropout(density)\n",
    "\n",
    "#         visual = self.hidden1(visual)\n",
    "#         visual = torch.nn.Tanh()(visual)\n",
    "#         visual = self.dropout(visual)\n",
    "\n",
    "#         other = torch.cat((visual.unsqueeze(1),visual_feature.unsqueeze(1)),1)\n",
    "#         other = self.pooling(other).squeeze(1)\n",
    "#         other = self.h4(other)\n",
    "#         other = torch.nn.Tanh()(other)\n",
    "#         other = self.dropout(other)\n",
    "#         visual = other\n",
    "\n",
    "#         pooler = torch.cat((pooler,visual,parsing,char_density),1)\n",
    "#         pooler = self.hidden3(pooler)\n",
    "#         pooler = torch.nn.Tanh()(pooler)\n",
    "#         pooler = self.dropout(pooler)\n",
    "\n",
    "#         pooler = self.hidden2(pooler)\n",
    "#         pooler = torch.nn.Tanh()(pooler)\n",
    "#         pooler = self.dropout(pooler)\n",
    "\n",
    "#         output = self.classifier(pooler)\n",
    "#         return output"
   ]
  },
  {
   "cell_type": "code",
   "execution_count": 185,
   "metadata": {
    "tags": []
   },
   "outputs": [],
   "source": [
    "class RobertaClass(torch.nn.Module):\n",
    "    def __init__(self):\n",
    "        super(RobertaClass, self).__init__()\n",
    "        #bert-base-cased 768\n",
    "        #bert-large-cased bert-large-uncased 1024\n",
    "        #roberta-base-cased 768\n",
    "        #biobert\n",
    "\n",
    "        self.l1 = AutoModel.from_pretrained(\"bert-base-uncased\")# BERT large\n",
    "        self.pre_classifier = torch.nn.Linear(768, 768)\n",
    "        self.dropout = torch.nn.Dropout(0.1)\n",
    "        self.hidden_cls = torch.nn.Linear(768,768)\n",
    "        self.hidden_parsing = torch.nn.Linear(768,768)\n",
    "        self.hidden_den = torch.nn.Linear(768,768)\n",
    "        self.hidden_vis = torch.nn.Linear(768,768)\n",
    "        self.hidden_vis_pro = torch.nn.Linear(2048,768)\n",
    "        self.hidden_all = torch.nn.Linear(768*2,768*2)\n",
    "        self.before_classifier = torch.nn.Linear(768*2,128)\n",
    "        self.pooling = torch.nn.MaxPool2d((2,1), stride=None)\n",
    "        self.classifier = torch.nn.Linear(128, 4)\n",
    "\n",
    "    def forward(self, input_ids, attention_mask, token_type_ids, char_density,char_number,visual_feature,bert_cls,parsing1,parsing2,visual):\n",
    "        output_1 = self.l1(input_ids=input_ids, attention_mask=attention_mask, token_type_ids=token_type_ids)\n",
    "        hidden_state = output_1[0]\n",
    "        pooler = hidden_state[:, 0]\n",
    "\n",
    "        # BERT 768 BERT / large 1024\n",
    "        \n",
    "        # set different hidden layer, number of hidden units, regularization methods including bn and dropout\n",
    "        \n",
    "        pooler = self.pre_classifier(pooler)\n",
    "        pooler = torch.nn.Tanh()(pooler)\n",
    "        pooler = self.dropout(pooler)\n",
    "\n",
    "        pooler = torch.cat((pooler.unsqueeze(1),bert_cls.unsqueeze(1)),1)\n",
    "        pooler = self.pooling(pooler).squeeze(1)\n",
    "        pooler = self.hidden_cls(pooler)\n",
    "        pooler = torch.nn.Tanh()(pooler)\n",
    "        pooler = self.dropout(pooler)\n",
    "\n",
    "        visual = self.hidden_vis_pro(visual)\n",
    "        visual = torch.nn.Tanh()(visual)\n",
    "        visual = self.dropout(visual)\n",
    "\n",
    "        visual = torch.cat((visual.unsqueeze(1),visual_feature.unsqueeze(1)),1)\n",
    "        visual = self.pooling(visual).squeeze(1)\n",
    "        visual = self.hidden_vis(visual)\n",
    "        visual = torch.nn.Tanh()(visual)\n",
    "        visual = self.dropout(visual)\n",
    "\n",
    "        pooler = torch.cat((pooler,visual),1)\n",
    "        pooler = self.hidden_all(pooler)\n",
    "        pooler = torch.nn.Tanh()(pooler)\n",
    "        pooler = self.dropout(pooler)\n",
    "\n",
    "        pooler = self.before_classifier(pooler)\n",
    "        pooler = torch.nn.Tanh()(pooler)\n",
    "        pooler = self.dropout(pooler)\n",
    "\n",
    "        output = self.classifier(pooler)\n",
    "        return output"
   ]
  },
  {
   "cell_type": "code",
   "execution_count": 186,
   "metadata": {
    "id": "sZ55mIPZIkp_",
    "tags": []
   },
   "outputs": [
    {
     "data": {
      "text/plain": [
       "RobertaClass(\n",
       "  (l1): BertModel(\n",
       "    (embeddings): BertEmbeddings(\n",
       "      (word_embeddings): Embedding(30522, 768, padding_idx=0)\n",
       "      (position_embeddings): Embedding(512, 768)\n",
       "      (token_type_embeddings): Embedding(2, 768)\n",
       "      (LayerNorm): LayerNorm((768,), eps=1e-12, elementwise_affine=True)\n",
       "      (dropout): Dropout(p=0.1, inplace=False)\n",
       "    )\n",
       "    (encoder): BertEncoder(\n",
       "      (layer): ModuleList(\n",
       "        (0-11): 12 x BertLayer(\n",
       "          (attention): BertAttention(\n",
       "            (self): BertSelfAttention(\n",
       "              (query): Linear(in_features=768, out_features=768, bias=True)\n",
       "              (key): Linear(in_features=768, out_features=768, bias=True)\n",
       "              (value): Linear(in_features=768, out_features=768, bias=True)\n",
       "              (dropout): Dropout(p=0.1, inplace=False)\n",
       "            )\n",
       "            (output): BertSelfOutput(\n",
       "              (dense): Linear(in_features=768, out_features=768, bias=True)\n",
       "              (LayerNorm): LayerNorm((768,), eps=1e-12, elementwise_affine=True)\n",
       "              (dropout): Dropout(p=0.1, inplace=False)\n",
       "            )\n",
       "          )\n",
       "          (intermediate): BertIntermediate(\n",
       "            (dense): Linear(in_features=768, out_features=3072, bias=True)\n",
       "          )\n",
       "          (output): BertOutput(\n",
       "            (dense): Linear(in_features=3072, out_features=768, bias=True)\n",
       "            (LayerNorm): LayerNorm((768,), eps=1e-12, elementwise_affine=True)\n",
       "            (dropout): Dropout(p=0.1, inplace=False)\n",
       "          )\n",
       "        )\n",
       "      )\n",
       "    )\n",
       "    (pooler): BertPooler(\n",
       "      (dense): Linear(in_features=768, out_features=768, bias=True)\n",
       "      (activation): Tanh()\n",
       "    )\n",
       "  )\n",
       "  (pre_classifier): Linear(in_features=768, out_features=768, bias=True)\n",
       "  (dropout): Dropout(p=0.1, inplace=False)\n",
       "  (hidden_cls): Linear(in_features=768, out_features=768, bias=True)\n",
       "  (hidden_parsing): Linear(in_features=768, out_features=768, bias=True)\n",
       "  (hidden_den): Linear(in_features=768, out_features=768, bias=True)\n",
       "  (hidden_vis): Linear(in_features=768, out_features=768, bias=True)\n",
       "  (hidden_vis_pro): Linear(in_features=2048, out_features=768, bias=True)\n",
       "  (hidden_all): Linear(in_features=1536, out_features=1536, bias=True)\n",
       "  (before_classifier): Linear(in_features=1536, out_features=128, bias=True)\n",
       "  (pooling): MaxPool2d(kernel_size=(2, 1), stride=(2, 1), padding=0, dilation=1, ceil_mode=False)\n",
       "  (classifier): Linear(in_features=128, out_features=4, bias=True)\n",
       ")"
      ]
     },
     "execution_count": 186,
     "metadata": {},
     "output_type": "execute_result"
    }
   ],
   "source": [
    "model = RobertaClass()\n",
    "model.to(device)"
   ]
  },
  {
   "cell_type": "markdown",
   "metadata": {
    "id": "_XBJjGKdS2b8",
    "tags": []
   },
   "source": [
    "## Training "
   ]
  },
  {
   "cell_type": "code",
   "execution_count": 187,
   "metadata": {
    "id": "XYZ7YuJ5InOS",
    "tags": []
   },
   "outputs": [],
   "source": [
    "# Creating the loss function and optimizer\n",
    "loss_function = torch.nn.CrossEntropyLoss()\n",
    "optimizer = torch.optim.Adam(params =  model.parameters(), lr=1e-05) # change learning rate"
   ]
  },
  {
   "cell_type": "code",
   "execution_count": 188,
   "metadata": {
    "id": "yPhA2V3iIpzN",
    "tags": []
   },
   "outputs": [],
   "source": [
    "def calcuate_accuracy(preds, targets):\n",
    "    n_correct = (preds==targets).sum().item()\n",
    "    return n_correct"
   ]
  },
  {
   "cell_type": "code",
   "execution_count": 193,
   "metadata": {
    "id": "mhqvtY2SIup7",
    "tags": []
   },
   "outputs": [],
   "source": [
    "# Defining the training function on the 80% of the dataset for tuning the distilbert model\n",
    "\n",
    "def train(epoch):\n",
    "    tr_loss = 0\n",
    "    n_correct = 0\n",
    "    nb_tr_steps = 0\n",
    "    nb_tr_examples = 0\n",
    "    output = []\n",
    "    model.train()\n",
    "    for _,data in tqdm(enumerate(training_loader, 0)):\n",
    "        ids = data['ids'].to(device, dtype = torch.long)\n",
    "        mask = data['mask'].to(device, dtype = torch.long)\n",
    "        token_type_ids = data['token_type_ids'].to(device, dtype = torch.long)\n",
    "        targets = data['targets'].to(device, dtype = torch.long)\n",
    "        visual_feature = data['visual_feature'].to(device, dtype = torch.float)\n",
    "        gcn_visual_feature = data['gcn_visual_feature'].to(device, dtype = torch.float)\n",
    "        gcn_bert_base = data['gcn_bert_base'].to(device, dtype = torch.float)\n",
    "        parsing1 = data['parsing1'].to(device, dtype = torch.float)\n",
    "        parsing2 = data['parsing2'].to(device, dtype = torch.float)\n",
    "        char_density = data['char_density'].to(device, dtype = torch.float)\n",
    "        char_number = data['char_number'].to(device, dtype = torch.float)\n",
    "\n",
    "        outputs = model(ids, mask, token_type_ids,char_density,char_number,gcn_visual_feature,gcn_bert_base,parsing1,parsing2,visual_feature)\n",
    "\n",
    "        loss = loss_function(outputs, targets)\n",
    "        tr_loss += loss.item()\n",
    "        # print(tr_loss)\n",
    "        big_val, big_idx = torch.max(outputs.data, dim=1)\n",
    "        n_correct += calcuate_accuracy(big_idx, targets)\n",
    "        # print(n_correct)\n",
    "\n",
    "        nb_tr_steps += 1\n",
    "        nb_tr_examples+=targets.size(0)\n",
    "        \n",
    "        if _%5000==0:\n",
    "            loss_step = tr_loss/nb_tr_steps\n",
    "            accu_step = (n_correct*100)/nb_tr_examples \n",
    "\n",
    "        optimizer.zero_grad()\n",
    "        loss.backward()\n",
    "        # # When using GPU\n",
    "        optimizer.step()\n",
    "\n",
    "    print(f'The Total Accuracy for Epoch {epoch}: {(n_correct*100)/nb_tr_examples}')\n",
    "    epoch_loss = tr_loss/nb_tr_steps\n",
    "    epoch_accu = (n_correct*100)/nb_tr_examples\n",
    "    print(f\"Training Loss Epoch: {epoch_loss}\")\n",
    "    print(f\"Training Accuracy Epoch: {epoch_accu}\")\n",
    "\n",
    "    return"
   ]
  },
  {
   "cell_type": "code",
   "execution_count": 195,
   "metadata": {
    "id": "WHAgCduAIQRI",
    "tags": []
   },
   "outputs": [
    {
     "name": "stderr",
     "output_type": "stream",
     "text": [
      "464it [34:54,  4.51s/it]\n"
     ]
    },
    {
     "name": "stdout",
     "output_type": "stream",
     "text": [
      "The Total Accuracy for Epoch 0: 82.72837673728242\n",
      "Training Loss Epoch: 0.5232149163453743\n",
      "Training Accuracy Epoch: 82.72837673728242\n"
     ]
    },
    {
     "name": "stderr",
     "output_type": "stream",
     "text": [
      "464it [34:06,  4.41s/it]\n"
     ]
    },
    {
     "name": "stdout",
     "output_type": "stream",
     "text": [
      "The Total Accuracy for Epoch 1: 86.70894616111185\n",
      "Training Loss Epoch: 0.4143055050698077\n",
      "Training Accuracy Epoch: 86.70894616111185\n"
     ]
    },
    {
     "name": "stderr",
     "output_type": "stream",
     "text": [
      "464it [31:31,  4.08s/it]\n"
     ]
    },
    {
     "name": "stdout",
     "output_type": "stream",
     "text": [
      "The Total Accuracy for Epoch 2: 88.84091215760357\n",
      "Training Loss Epoch: 0.35153056573572344\n",
      "Training Accuracy Epoch: 88.84091215760357\n"
     ]
    },
    {
     "name": "stderr",
     "output_type": "stream",
     "text": [
      "464it [32:34,  4.21s/it]"
     ]
    },
    {
     "name": "stdout",
     "output_type": "stream",
     "text": [
      "The Total Accuracy for Epoch 3: 90.7569828633113\n",
      "Training Loss Epoch: 0.29264461455449203\n",
      "Training Accuracy Epoch: 90.7569828633113\n"
     ]
    },
    {
     "name": "stderr",
     "output_type": "stream",
     "text": [
      "\n"
     ]
    }
   ],
   "source": [
    "EPOCHS = 4\n",
    "for epoch in range(EPOCHS):\n",
    "  train(epoch)"
   ]
  },
  {
   "cell_type": "markdown",
   "metadata": {
    "id": "_ecydbX_S6Lg",
    "tags": []
   },
   "source": [
    "## Validation "
   ]
  },
  {
   "cell_type": "code",
   "execution_count": 206,
   "metadata": {
    "id": "bFiNcy16JLwt"
   },
   "outputs": [],
   "source": [
    "def valid(model, testing_loader):\n",
    "    model.eval()\n",
    "    n_correct = 0; n_wrong = 0; total = 0; tr_loss=0; nb_tr_steps=0; nb_tr_examples=0\n",
    "    output_list = []\n",
    "    with torch.no_grad():\n",
    "        for _, data in tqdm(enumerate(testing_loader, 0)):\n",
    "            ids = data['ids'].to(device, dtype = torch.long)\n",
    "            mask = data['mask'].to(device, dtype = torch.long)\n",
    "            token_type_ids = data['token_type_ids'].to(device, dtype=torch.long)\n",
    "            targets = data['targets'].to(device, dtype = torch.long)\n",
    "            char_den = data['char_density'].to(device, dtype = torch.float)\n",
    "            density = data['density'].to(device, dtype = torch.float)\n",
    "            visual_feature = data['visual_feature'].to(device, dtype = torch.float)\n",
    "            gcn_visual_feature = data['gcn_visual_feature'].to(device, dtype = torch.float)\n",
    "            gcn_bert_base = data['gcn_bert_base'].to(device, dtype = torch.float)\n",
    "            parsing1 = data['parsing1'].to(device, dtype = torch.float)\n",
    "            parsing2 = data['parsing2'].to(device, dtype = torch.float)\n",
    "            char_density = data['char_density'].to(device, dtype = torch.float)\n",
    "            char_number = data['char_number'].to(device, dtype = torch.float)\n",
    "            # token_density = data['token_density'].to(device, dtype = torch.float)\n",
    "            # token_number = data['token_number'].to(device, dtype = torch.float)\n",
    "\n",
    "\n",
    "            outputs = model(ids, mask, token_type_ids,char_density,char_number, gcn_visual_feature,gcn_bert_base,parsing1,parsing2,visual_feature).squeeze()\n",
    "            loss = loss_function(outputs, targets)\n",
    "            tr_loss += loss.item()\n",
    "            big_val, big_idx = torch.max(outputs.data, dim=1)\n",
    "            output_list = output_list + list(big_idx)\n",
    "            n_correct += calcuate_accuracy(big_idx, targets)\n",
    "\n",
    "            nb_tr_steps += 1\n",
    "            nb_tr_examples+=targets.size(0)\n",
    "            \n",
    "            \n",
    "    epoch_loss = tr_loss/nb_tr_steps\n",
    "    epoch_accu = (n_correct*100)/nb_tr_examples\n",
    "    print(f\"Validation Loss Epoch: {epoch_loss}\")\n",
    "    print(f\"Validation Accuracy Epoch: {epoch_accu}\")\n",
    "    \n",
    "    return epoch_accu,output_list\n"
   ]
  },
  {
   "cell_type": "code",
   "execution_count": 207,
   "metadata": {
    "id": "V6Yx1waSv6iF"
   },
   "outputs": [
    {
     "name": "stderr",
     "output_type": "stream",
     "text": [
      "73it [03:05,  2.54s/it]"
     ]
    },
    {
     "name": "stdout",
     "output_type": "stream",
     "text": [
      "Validation Loss Epoch: 0.5002057993759031\n",
      "Validation Accuracy Epoch: 82.97598627787308\n"
     ]
    },
    {
     "name": "stderr",
     "output_type": "stream",
     "text": [
      "\n"
     ]
    }
   ],
   "source": [
    "acc,pre_list = valid(model, vali_loader)"
   ]
  },
  {
   "cell_type": "code",
   "execution_count": null,
   "metadata": {
    "id": "CKMELmeFUaH5"
   },
   "outputs": [],
   "source": [
    "acc,hidden_list = valid(model, vali_loader)"
   ]
  },
  {
   "cell_type": "code",
   "execution_count": 210,
   "metadata": {
    "tags": []
   },
   "outputs": [],
   "source": [
    "torch.save(model, '../models/funsd_docgcn_bert_layout_segment_classifier.bin')"
   ]
  },
  {
   "cell_type": "code",
   "execution_count": 211,
   "metadata": {
    "id": "LDxgkeaILFQ9"
   },
   "outputs": [],
   "source": [
    "model_test = torch.load('../models/funsd_docgcn_bert_layout_segment_classifier.bin')"
   ]
  },
  {
   "cell_type": "markdown",
   "metadata": {
    "id": "E_8lSc-jf7bU",
    "tags": []
   },
   "source": [
    "## Testing"
   ]
  },
  {
   "cell_type": "code",
   "execution_count": 236,
   "metadata": {
    "id": "_qD3e22vE7My"
   },
   "outputs": [],
   "source": [
    "class SentimentData_test(Dataset):\n",
    "    def __init__(self, dataframe, tokenizer, max_len):\n",
    "        self.tokenizer = tokenizer\n",
    "        self.data = dataframe\n",
    "        self.text = dataframe.text\n",
    "        self.max_len = max_len\n",
    "        self.visual_feature = dataframe.near_visual_feature\n",
    "        self.gcn_bert_base = dataframe.gcn_bert_predicted\n",
    "        self.parsing1 = dataframe.level1_parse_emb\n",
    "        self.parsing2 = dataframe.level2_parse_emb\n",
    "        self.char_density = dataframe.gcn_near_char_density\n",
    "        self.char_number = dataframe.gcn_near_char_number\n",
    "        # self.pos_emb = dataframe.gcn_pos_emb\n",
    "        self.visual = dataframe.visual_feature\n",
    "\n",
    "    def __len__(self):\n",
    "        return len(self.text)\n",
    "\n",
    "    def __getitem__(self, index):\n",
    "        text = str(self.text[index])\n",
    "        text = \" \".join(text.split())\n",
    "\n",
    "        inputs = self.tokenizer.encode_plus(\n",
    "            text,\n",
    "            None,\n",
    "            add_special_tokens=True,\n",
    "            max_length=self.max_len,\n",
    "            pad_to_max_length=True,\n",
    "            return_token_type_ids=True\n",
    "        )\n",
    "        ids = inputs['input_ids']\n",
    "        mask = inputs['attention_mask']\n",
    "        token_type_ids = inputs[\"token_type_ids\"]\n",
    "\n",
    "\n",
    "        return {\n",
    "            'ids': torch.tensor(ids, dtype=torch.long),\n",
    "            'mask': torch.tensor(mask, dtype=torch.long),\n",
    "            'token_type_ids': torch.tensor(token_type_ids, dtype=torch.long),\n",
    "            'gcn_bert_base': torch.tensor(self.gcn_bert_base[index],dtype=torch.float),\n",
    "            'char_density': torch.tensor(self.char_density[index],dtype=torch.float),\n",
    "            'char_number': torch.tensor(self.char_number[index],dtype=torch.float),\n",
    "            'visual_feature': torch.tensor(self.visual_feature[index],dtype=torch.float),\n",
    "            'parsing1': torch.tensor(self.parsing1[index],dtype=torch.float),\n",
    "            'parsing2': torch.tensor(self.parsing2[index],dtype=torch.float),\n",
    "            # 'pos_emb': torch.tensor(self.pos_emb[index],dtype=torch.float),\n",
    "            'visual': torch.tensor(self.visual[index],dtype=torch.float),\n",
    "        }"
   ]
  },
  {
   "cell_type": "markdown",
   "metadata": {
    "id": "mMRN5w3RXjqB",
    "tags": []
   },
   "source": [
    "### load the test datasets"
   ]
  },
  {
   "cell_type": "code",
   "execution_count": 237,
   "metadata": {
    "tags": []
   },
   "outputs": [],
   "source": [
    "cols_left  = ['text', 'label','near_visual_feature','gcn_near_char_density',\\\n",
    "                   'gcn_near_char_number','level1_parse_emb','level2_parse_emb',\\\n",
    "                   'density','visual_feature','gcn_bert_predicted']\n",
    "\n",
    "cols_right = ['text', 'label', 'gcn_token_number', 'char_density',\\\n",
    "                    'char_number', 'parsing_level1', 'parsing_level2',\\\n",
    "                    'text_density', 'visual_embeddings', 'bert_large_emb']"
   ]
  },
  {
   "cell_type": "code",
   "execution_count": null,
   "metadata": {},
   "outputs": [],
   "source": []
  },
  {
   "cell_type": "code",
   "execution_count": 238,
   "metadata": {
    "id": "Zaw4D5UKFe-Z"
   },
   "outputs": [],
   "source": [
    "# new_df_true_test = new_df_test[['text', 'label','near_visual_feature','gcn_near_char_density',\\\n",
    "#                        'gcn_near_char_number','gcn_parsing1','gcn_parsing2',\\\n",
    "#                        'gcn_bert_base','gcn_pos_emb','visual_embedding','gcn_bert_large']]\n",
    "\n",
    "new_df_true_test = new_df_test[cols_left]"
   ]
  },
  {
   "cell_type": "code",
   "execution_count": 247,
   "metadata": {
    "id": "B0kUqjR1Fhb6"
   },
   "outputs": [],
   "source": [
    "test = SentimentData_test(new_df_true_test,tokenizer, MAX_LEN)\n",
    "testing_loader = DataLoader(test, **test_params)"
   ]
  },
  {
   "cell_type": "code",
   "execution_count": 250,
   "metadata": {
    "id": "IetKrn_SY-OT"
   },
   "outputs": [],
   "source": [
    "def test_label_generator(model, testing_loader):\n",
    "    model.eval()\n",
    "    n_correct = 0; n_wrong = 0; total = 0; tr_loss=0; nb_tr_steps=0; nb_tr_examples=0\n",
    "    output_list = []\n",
    "    with torch.no_grad():\n",
    "        for _, data in tqdm(enumerate(testing_loader, 0)):\n",
    "            ids = data['ids'].to(device, dtype = torch.long)\n",
    "            mask = data['mask'].to(device, dtype = torch.long)\n",
    "            token_type_ids = data['token_type_ids'].to(device, dtype=torch.long)\n",
    "            visual_feature = data['visual_feature'].to(device, dtype = torch.float)\n",
    "            gcn_bert_base = data['gcn_bert_base'].to(device, dtype = torch.float)\n",
    "            parsing1 = data['parsing1'].to(device, dtype = torch.float)\n",
    "            parsing2 = data['parsing2'].to(device, dtype = torch.float)\n",
    "            char_density = data['char_density'].to(device, dtype = torch.float)\n",
    "            char_number = data['char_number'].to(device, dtype = torch.float)\n",
    "            # pos_emb = data['pos_emb'].to(device, dtype = torch.float)\n",
    "            visual = data['visual'].to(device, dtype = torch.float)\n",
    "\n",
    "            # outputs = model(ids, mask, token_type_ids,visual_feature,char_density,char_number,parsing1,parsing2,gcn_bert_base,visual).squeeze()\n",
    "            outputs = model(ids, mask, token_type_ids,char_density,char_number, visual_feature,gcn_bert_base,parsing1,parsing2,visual).squeeze()\n",
    "            \n",
    "            big_val, big_idx = torch.max(outputs.data, dim=1)\n",
    "            output_list = output_list + list(big_idx)\n",
    "\n",
    "            nb_tr_steps += 1\n",
    "            \n",
    "    return output_list\n"
   ]
  },
  {
   "cell_type": "code",
   "execution_count": 251,
   "metadata": {
    "id": "qQ_noXfKBHmn"
   },
   "outputs": [
    {
     "name": "stderr",
     "output_type": "stream",
     "text": [
      "73it [02:51,  2.34s/it]\n"
     ]
    }
   ],
   "source": [
    "output = test_label_generator(model, testing_loader)"
   ]
  },
  {
   "cell_type": "code",
   "execution_count": 252,
   "metadata": {
    "collapsed": true,
    "id": "EtOYJuQh9dy0",
    "jupyter": {
     "outputs_hidden": true
    },
    "tags": []
   },
   "outputs": [
    {
     "name": "stdout",
     "output_type": "stream",
     "text": [
      "[3, 3, 2, 3, 3, 2, 1, 3, 0, 0, 3, 0, 0, 0, 3, 3, 3, 3, 3, 0, 3, 0, 0, 0, 3, 3, 3, 3, 3, 3, 2, 2, 2, 3, 2, 0, 1, 3, 3, 3, 3, 3, 3, 3, 3, 2, 3, 3, 3, 3, 3, 3, 3, 3, 0, 2, 0, 2, 0, 2, 1, 3, 0, 3, 1, 0, 3, 0, 0, 1, 1, 0, 0, 1, 1, 0, 0, 0, 3, 3, 3, 3, 3, 0, 0, 3, 3, 2, 2, 2, 2, 2, 2, 1, 3, 3, 3, 3, 0, 0, 3, 3, 3, 3, 3, 3, 3, 1, 3, 0, 0, 0, 0, 3, 0, 3, 0, 3, 2, 3, 3, 3, 3, 3, 3, 0, 3, 3, 3, 3, 0, 3, 2, 3, 2, 3, 1, 2, 0, 0, 2, 0, 3, 0, 2, 3, 2, 0, 0, 2, 3, 0, 3, 2, 3, 0, 2, 0, 2, 2, 3, 3, 0, 3, 2, 0, 2, 2, 3, 3, 3, 3, 3, 1, 2, 2, 2, 0, 0, 2, 2, 2, 2, 0, 0, 3, 3, 3, 3, 3, 3, 3, 3, 3, 0, 3, 3, 3, 3, 2, 3, 3, 3, 3, 3, 3, 3, 3, 3, 3, 3, 3, 3, 3, 2, 0, 0, 2, 2, 0, 0, 0, 0, 0, 3, 3, 3, 2, 3, 3, 3, 3, 3, 3, 3, 3, 3, 3, 0, 2, 2, 2, 0, 0, 2, 0, 1, 0, 3, 0, 3, 2, 0, 0, 3, 3, 3, 0, 3, 3, 3, 2, 3, 3, 0, 0, 3, 2, 3, 3, 3, 3, 0, 3, 3, 3, 3, 3, 3, 2, 0, 1, 0, 0, 3, 0, 0, 3, 2, 0, 3, 0, 3, 0, 2, 3, 0, 2, 1, 1, 2, 2, 3, 3, 3, 3, 3, 3, 3, 3, 3, 0, 3, 3, 2, 3, 2, 2, 2, 2, 0, 0, 0, 0, 0, 0, 3, 3, 3, 2, 2, 2, 2, 0, 3, 3, 3, 0, 3, 0, 3, 0, 0, 0, 0, 0, 0, 0, 0, 0, 0, 0, 0, 0, 3, 2, 0, 0, 1, 3, 3, 3, 3, 1, 1, 2, 0, 0, 3, 0, 0, 3, 0, 0, 1, 3, 3, 3, 3, 3, 3, 0, 3, 0, 3, 0, 0, 0, 0, 1, 3, 3, 3, 3, 3, 3, 3, 0, 0, 0, 0, 0, 2, 2, 3, 3, 3, 3, 3, 3, 1, 3, 3, 3, 3, 3, 3, 3, 3, 3, 3, 0, 0, 0, 0, 0, 0, 0, 0, 2, 0, 0, 0, 0, 0, 0, 3, 3, 3, 3, 3, 3, 3, 3, 3, 3, 3, 2, 0, 0, 3, 0, 3, 0, 0, 3, 2, 3, 0, 3, 0, 0, 0, 0, 0, 0, 0, 0, 3, 3, 3, 3, 3, 3, 3, 3, 0, 3, 3, 0, 0, 3, 0, 0, 0, 0, 0, 0, 0, 3, 3, 3, 3, 3, 3, 3, 3, 3, 3, 0, 3, 0, 3, 3, 0, 3, 0, 3, 3, 3, 3, 3, 3, 3, 3, 0, 0, 2, 2, 2, 2, 1, 0, 2, 0, 1, 0, 0, 0, 0, 3, 3, 3, 3, 0, 2, 2, 2, 2, 2, 3, 3, 3, 3, 3, 3, 3, 3, 3, 3, 3, 3, 3, 3, 3, 3, 3, 3, 2, 3, 3, 3, 1, 2, 3, 3, 3, 0, 0, 3, 0, 3, 2, 3, 3, 0, 0, 0, 3, 3, 2, 3, 3, 2, 3, 2, 0, 0, 2, 1, 3, 0, 3, 3, 3, 3, 3, 3, 3, 0, 0, 0, 3, 3, 2, 3, 3, 3, 0, 2, 0, 0, 1, 2, 3, 0, 0, 3, 2, 2, 3, 0, 0, 3, 3, 0, 0, 0, 3, 3, 3, 3, 0, 0, 0, 0, 3, 3, 3, 3, 0, 0, 3, 3, 3, 2, 2, 2, 0, 2, 2, 2, 0, 0, 0, 2, 3, 0, 2, 3, 3, 3, 3, 3, 3, 3, 3, 3, 0, 0, 2, 1, 0, 0, 3, 3, 0, 0, 1, 3, 0, 3, 3, 2, 3, 0, 3, 0, 1, 0, 3, 0, 3, 0, 2, 3, 3, 0, 3, 0, 2, 3, 3, 3, 3, 2, 3, 3, 3, 3, 0, 0, 0, 0, 0, 0, 0, 2, 2, 1, 2, 0, 0, 0, 3, 0, 3, 3, 2, 3, 3, 3, 3, 3, 3, 1, 3, 3, 3, 3, 3, 3, 0, 0, 0, 0, 3, 0, 0, 0, 0, 0, 0, 0, 0, 0, 0, 2, 2, 3, 3, 3, 3, 3, 0, 2, 3, 0, 3, 3, 3, 0, 3, 3, 3, 2, 3, 0, 2, 2, 2, 2, 0, 3, 3, 3, 0, 2, 3, 3, 2, 1, 1, 0, 0, 0, 2, 2, 0, 3, 3, 3, 0, 2, 1, 3, 0, 3, 0, 3, 3, 3, 3, 3, 0, 3, 3, 3, 3, 3, 0, 0, 3, 3, 0, 0, 3, 3, 3, 3, 0, 0, 1, 0, 3, 3, 0, 3, 0, 2, 3, 0, 3, 3, 2, 0, 0, 0, 0, 3, 3, 1, 2, 1, 3, 0, 1, 0, 1, 0, 1, 0, 1, 3, 0, 3, 3, 3, 1, 3, 3, 3, 3, 3, 3, 3, 3, 2, 0, 0, 1, 2, 0, 2, 2, 3, 3, 2, 2, 1, 3, 3, 3, 3, 3, 2, 2, 3, 3, 2, 3, 3, 3, 3, 3, 3, 2, 2, 3, 1, 3, 3, 3, 3, 3, 3, 0, 3, 3, 2, 0, 2, 2, 3, 3, 0, 3, 3, 3, 3, 2, 3, 3, 2, 0, 2, 3, 2, 0, 0, 1, 3, 3, 0, 0, 3, 0, 3, 3, 0, 3, 0, 0, 2, 2, 3, 3, 3, 3, 0, 3, 2, 0, 2, 2, 2, 2, 1, 0, 2, 3, 0, 3, 2, 2, 0, 2, 1, 3, 3, 3, 3, 3, 3, 3, 3, 3, 0, 3, 3, 3, 3, 3, 2, 3, 3, 3, 3, 3, 0, 0, 0, 0, 0, 0, 0, 3, 3, 3, 3, 3, 0, 0, 2, 0, 3, 0, 2, 3, 0, 2, 2, 0, 0, 1, 2, 0, 0, 3, 2, 0, 0, 0, 3, 2, 0, 0, 0, 0, 3, 3, 0, 3, 0, 3, 3, 3, 3, 3, 3, 3, 3, 3, 3, 3, 3, 2, 3, 3, 0, 0, 0, 0, 0, 3, 0, 0, 3, 3, 3, 0, 3, 3, 0, 3, 3, 2, 2, 0, 0, 2, 3, 2, 2, 3, 3, 3, 3, 3, 3, 3, 3, 0, 2, 2, 1, 0, 0, 0, 0, 3, 3, 0, 0, 3, 2, 2, 2, 3, 2, 3, 3, 3, 2, 3, 0, 2, 2, 0, 3, 0, 2, 0, 2, 2, 1, 0, 0, 3, 2, 3, 3, 2, 3, 3, 2, 2, 3, 3, 3, 3, 3, 3, 2, 2, 2, 3, 2, 3, 3, 0, 0, 2, 2, 1, 3, 3, 1, 2, 2, 0, 0, 3, 2, 0, 0, 0, 3, 3, 0, 0, 0, 3, 3, 3, 3, 3, 0, 3, 3, 3, 0, 3, 3, 3, 3, 2, 0, 3, 3, 3, 2, 2, 3, 1, 0, 0, 0, 1, 0, 0, 2, 3, 3, 3, 0, 0, 3, 3, 3, 3, 3, 3, 1, 3, 3, 3, 3, 3, 3, 2, 0, 0, 0, 0, 0, 0, 0, 0, 0, 0, 0, 0, 0, 0, 0, 0, 0, 0, 0, 3, 3, 3, 3, 0, 0, 3, 3, 3, 0, 0, 0, 0, 0, 0, 3, 3, 3, 3, 0, 0, 0, 0, 0, 0, 0, 0, 0, 0, 0, 2, 0, 0, 3, 1, 3, 3, 0, 2, 3, 3, 3, 0, 0, 0, 3, 3, 3, 0, 0, 3, 3, 3, 1, 3, 3, 3, 3, 3, 3, 0, 3, 3, 0, 3, 3, 0, 3, 0, 0, 2, 3, 3, 3, 3, 3, 3, 0, 0, 0, 0, 0, 0, 2, 2, 2, 1, 3, 3, 3, 3, 3, 3, 3, 3, 3, 0, 2, 2, 2, 1, 1, 0, 0, 3, 0, 3, 0, 0, 1, 2, 3, 0, 3, 0, 0, 0, 3, 3, 0, 3, 0, 1, 0, 0, 0, 0, 2, 2, 2, 1, 3, 3, 3, 3, 2, 2, 1, 3, 0, 3, 2, 3, 0, 3, 0, 3, 2, 3, 2, 3, 0, 0, 0, 3, 3, 2, 3, 3, 3, 3, 3, 3, 3, 3, 0, 2, 2, 3, 2, 2, 1, 0, 2, 0, 1, 0, 0, 0, 0, 3, 3, 3, 3, 3, 2, 2, 2, 2, 2, 0, 3, 3, 3, 1, 3, 3, 3, 3, 3, 3, 3, 3, 2, 2, 0, 1, 2, 0, 3, 3, 3, 3, 3, 3, 3, 3, 3, 3, 3, 3, 3, 3, 0, 3, 3, 0, 3, 3, 3, 3, 0, 2, 2, 2, 2, 2, 3, 2, 3, 3, 3, 3, 3, 3, 3, 3, 3, 3, 3, 3, 3, 3, 3, 3, 3, 3, 3, 0, 2, 0, 0, 0, 0, 0, 0, 0, 0, 0, 2, 0, 0, 0, 0, 0, 0, 0, 0, 0, 0, 0, 2, 0, 0, 0, 0, 0, 0, 0, 0, 0, 0, 2, 3, 3, 0, 0, 0, 0, 0, 3, 2, 2, 2, 2, 0, 0, 0, 3, 0, 2, 3, 1, 3, 3, 0, 0, 0, 3, 3, 3, 3, 3, 3, 1, 3, 3, 3, 3, 3, 3, 3, 3, 3, 3, 3, 2, 3, 3, 2, 1, 3, 3, 3, 3, 1, 3, 2, 1, 3, 3, 0, 3, 3, 3, 3, 3, 3, 3, 1, 1, 1, 1, 2, 2, 2, 2, 2, 3, 3, 3, 3, 3, 3, 3, 3, 3, 3, 3, 3, 3, 3, 3, 3, 3, 3, 0, 0, 0, 0, 3, 2, 2, 0, 2, 0, 3, 2, 0, 3, 3, 2, 0, 0, 3, 0, 2, 3, 3, 3, 0, 0, 0, 0, 2, 0, 0, 0, 0, 0, 0, 0, 0, 0, 0, 0, 0, 0, 0, 0, 3, 2, 2, 3, 3, 3, 3, 3, 3, 2, 3, 0, 3, 2, 0, 1, 2, 2, 1, 0, 3, 0, 0, 3, 1, 0, 3, 3, 0, 0, 0, 0, 0, 0, 0, 0, 0, 0, 0, 0, 0, 3, 3, 3, 0, 0, 0, 0, 0, 0, 0, 0, 2, 3, 2, 2, 2, 2, 3, 3, 3, 3, 3, 2, 3, 2, 0, 0, 0, 0, 2, 1, 3, 3, 3, 3, 3, 3, 3, 0, 3, 3, 3, 2, 3, 0, 2, 3, 3, 0, 3, 0, 3, 0, 3, 0, 3, 3, 3, 3, 2, 3, 3, 3, 3, 2, 3, 1, 3, 3, 3, 0, 0, 3, 0, 2, 0, 0, 3, 2, 3, 0, 3, 3, 3, 3, 3, 3, 0, 0, 2, 2, 2, 3, 3, 3, 0, 3, 3, 3, 3, 3, 0, 3, 3, 1, 0, 0, 3, 0, 0, 0, 0, 0, 0, 0, 0, 3, 0, 2, 0, 0, 0, 0, 0, 0, 0, 2, 2, 2, 2, 2, 2, 1, 2, 2, 0, 0, 0, 1, 3, 3, 3, 3, 2, 3, 3, 3, 3, 3, 3, 3, 3, 3, 1, 3, 3, 3, 3, 0, 0, 0, 0, 0, 0, 0, 0, 0, 3, 0, 2, 2, 0, 2, 0, 0, 0, 0, 0, 2, 0, 0, 0, 0, 0, 0, 2, 1, 2, 3, 0, 0, 0, 0, 0, 0, 3, 0, 3, 0, 3, 0, 0, 2, 3, 2, 3, 2, 2, 3, 0, 0, 0, 3, 2, 0, 3, 0, 3, 3, 3, 3, 3, 3, 3, 3, 3, 3, 3, 3, 3, 3, 3, 3, 3, 3, 3, 3, 2, 0, 0, 0, 3, 2, 3, 0, 0, 3, 0, 3, 3, 2, 0, 3, 2, 3, 3, 1, 3, 2, 1, 3, 2, 3, 3, 3, 0, 3, 3, 3, 3, 0, 0, 0, 3, 0, 2, 3, 3, 2, 2, 2, 3, 3, 0, 2, 0, 3, 2, 3, 0, 3, 3, 3, 1, 3, 0, 0, 0, 0, 0, 0, 0, 0, 0, 0, 2, 2, 3, 3, 3, 0, 0, 2, 3, 3, 3, 2, 3, 2, 2, 2, 2, 2, 2, 2, 2, 2, 2, 2, 2, 2, 2, 3, 2, 3, 0, 0, 0, 0, 0, 0, 3, 3, 3, 3, 3, 3, 3, 3, 3, 3, 3, 3, 3, 3, 0, 0, 3, 0, 0, 2, 0, 0, 3, 3, 3, 3, 0, 0, 2, 3, 0, 3, 3, 3, 3, 3, 3, 0, 2, 3, 0, 0, 3, 2, 2, 2, 1, 1, 0, 1, 2, 0, 3, 0, 2, 2, 3, 3, 0, 0, 2, 2, 2, 2, 3, 3, 3, 3, 3, 0, 3, 3, 3, 0, 3, 3, 3, 3, 3, 0, 0, 0, 0, 0, 0, 0, 0, 0, 0, 0, 0, 3, 0, 0, 0, 0, 0, 0, 0, 0, 0, 0, 0, 0, 0, 0, 0, 0, 2, 2, 0, 1, 3, 3, 3, 3, 0, 0, 2, 3, 3, 3, 3, 3, 3, 3, 3, 3, 1, 3, 3, 3, 3, 3, 3, 0, 0, 0, 0, 0, 0, 0, 0, 0, 0, 0, 0, 0, 0, 0, 0, 3, 0, 0, 0, 0, 3, 0, 0, 1, 3, 3, 3, 3, 3, 3, 0, 0, 0, 0, 2, 3, 3, 3, 3, 2, 1, 3, 3, 3, 2, 3, 3, 3, 3, 3, 3, 3, 3, 3, 3, 3, 3, 1, 3, 3, 3, 3, 3, 1, 3, 3, 3, 3, 3, 3, 3, 3, 3, 2, 3, 3, 0, 3, 3, 2, 0, 2, 3, 2, 1, 0, 3, 0, 0, 3, 3, 0, 3, 0, 3, 3, 2, 2, 0, 2, 0, 3, 3, 3, 0, 3, 0, 3, 2, 0, 0, 2, 2, 1, 0, 0, 0, 3, 0, 0, 3, 3, 3, 3, 0, 0, 3, 3, 3, 3, 3, 3, 0, 0, 1, 0, 0, 0, 3, 3, 3, 1, 3, 3]\n"
     ]
    }
   ],
   "source": [
    "# Get the predicted category id for selected test dataset.\n",
    "q = []\n",
    "for p in output:\n",
    "  q.append(p.cpu().numpy().tolist())\n",
    "print(q)"
   ]
  },
  {
   "cell_type": "code",
   "execution_count": 253,
   "metadata": {
    "id": "vnJiHq5Lm5u5"
   },
   "outputs": [],
   "source": [
    "p = new_df_test['label'].tolist()"
   ]
  },
  {
   "cell_type": "code",
   "execution_count": 254,
   "metadata": {
    "id": "lqrt7A_W8miu"
   },
   "outputs": [
    {
     "name": "stdout",
     "output_type": "stream",
     "text": [
      "              precision    recall  f1-score   support\n",
      "\n",
      "           0     0.8818    0.8270    0.8536       821\n",
      "           1     0.5905    0.5082    0.5463       122\n",
      "           2     0.6175    0.7244    0.6667       312\n",
      "           3     0.8873    0.8988    0.8930      1077\n",
      "\n",
      "    accuracy                         0.8298      2332\n",
      "   macro avg     0.7443    0.7396    0.7399      2332\n",
      "weighted avg     0.8337    0.8298    0.8307      2332\n",
      "\n"
     ]
    }
   ],
   "source": [
    "from sklearn.metrics import classification_report, confusion_matrix\n",
    "report = classification_report(p,q, digits=4)\n",
    "matrix = confusion_matrix(p,q)\n",
    "print(report)"
   ]
  },
  {
   "cell_type": "code",
   "execution_count": null,
   "metadata": {},
   "outputs": [],
   "source": []
  }
 ],
 "metadata": {
  "accelerator": "GPU",
  "colab": {
   "collapsed_sections": [
    "eQpJTV7RSVZW",
    "cJjfftEpSkfm",
    "B7TWqvbTppX_",
    "RbiQjAgdSqhn"
   ],
   "machine_shape": "hm",
   "name": "Funsd_Object_Detection_bert_large.ipynb",
   "private_outputs": true,
   "provenance": [],
   "toc_visible": true
  },
  "kernelspec": {
   "display_name": "Python 3 (ipykernel)",
   "language": "python",
   "name": "python3"
  },
  "language_info": {
   "codemirror_mode": {
    "name": "ipython",
    "version": 3
   },
   "file_extension": ".py",
   "mimetype": "text/x-python",
   "name": "python",
   "nbconvert_exporter": "python",
   "pygments_lexer": "ipython3",
   "version": "3.9.16"
  }
 },
 "nbformat": 4,
 "nbformat_minor": 4
}
