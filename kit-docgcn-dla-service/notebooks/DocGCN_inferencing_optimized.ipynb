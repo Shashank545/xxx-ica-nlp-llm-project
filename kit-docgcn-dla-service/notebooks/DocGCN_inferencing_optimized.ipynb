{
 "cells": [
  {
   "cell_type": "code",
   "execution_count": 145,
   "id": "51119549-3701-4191-8b6d-c86a6a82c1f3",
   "metadata": {
    "tags": []
   },
   "outputs": [],
   "source": [
    "# !brew install tesseract-ocr\n",
    "# !pip install pytesseract"
   ]
  },
  {
   "cell_type": "markdown",
   "id": "28e0d6a3-6875-4131-9bb5-a403e3834867",
   "metadata": {
    "tags": []
   },
   "source": [
    "# Inference Dataset Analysis"
   ]
  },
  {
   "cell_type": "code",
   "execution_count": 146,
   "id": "efdcaf4e-bda2-4ec6-9c27-d0c351f8cd71",
   "metadata": {
    "tags": []
   },
   "outputs": [],
   "source": [
    "import pytesseract\n",
    "from PIL import Image, ImageDraw, ImageFont\n",
    "\n",
    "#image = Image.open('/content/form_example.jpg')\n",
    "inf_image = Image.open(\"../data/testing_data/images/83443897.png\")\n",
    "inf_image = inf_image.convert(\"RGB\")\n",
    "# inf_image"
   ]
  },
  {
   "cell_type": "code",
   "execution_count": 147,
   "id": "76de63d9-37f6-4035-ae3a-8e94a7152dbb",
   "metadata": {
    "tags": []
   },
   "outputs": [
    {
     "name": "stdout",
     "output_type": "stream",
     "text": [
      "huggingface/tokenizers: The current process just got forked, after parallelism has already been used. Disabling parallelism to avoid deadlocks...\n",
      "To disable this warning, you can either:\n",
      "\t- Avoid using `tokenizers` before the fork if possible\n",
      "\t- Explicitly set the environment variable TOKENIZERS_PARALLELISM=(true | false)\n"
     ]
    }
   ],
   "source": [
    "import numpy as np\n",
    "\n",
    "width, height = inf_image.size\n",
    "w_scale = 1000/width\n",
    "h_scale = 1000/height\n",
    "\n",
    "ocr_df = pytesseract.image_to_data(inf_image, output_type='data.frame') \\\n",
    "            \n",
    "ocr_df = ocr_df.dropna() \\\n",
    "               .assign(left_scaled = ocr_df.left*w_scale,\n",
    "                       width_scaled = ocr_df.width*w_scale,\n",
    "                       top_scaled = ocr_df.top*h_scale,\n",
    "                       height_scaled = ocr_df.height*h_scale,\n",
    "                       right_scaled = lambda x: x.left_scaled + x.width_scaled,\n",
    "                       bottom_scaled = lambda x: x.top_scaled + x.height_scaled)\n",
    "\n",
    "float_cols = ocr_df.select_dtypes('float').columns\n",
    "ocr_df[float_cols] = ocr_df[float_cols].round(0).astype(int)\n",
    "ocr_df = ocr_df.replace(r'^\\s*$', np.nan, regex=True)\n",
    "ocr_df = ocr_df.dropna().reset_index(drop=True)\n",
    "# ocr_df[:20]"
   ]
  },
  {
   "cell_type": "code",
   "execution_count": 148,
   "id": "5ec58257-7dbd-4bc3-b605-53d74d35e15d",
   "metadata": {
    "tags": []
   },
   "outputs": [],
   "source": [
    "inf_words = list(ocr_df.text)\n",
    "coordinates = ocr_df[['left', 'top', 'width', 'height']]\n",
    "actual_boxes = []\n",
    "for idx, row in coordinates.iterrows():\n",
    "  x, y, w, h = tuple(row) # the row comes in (left, top, width, height) format\n",
    "  actual_box = [x, y, x+w, y+h] # we turn it into (left, top, left+widght, top+height) to get the actual box \n",
    "  actual_boxes.append(actual_box)\n",
    "\n",
    "def normalize_box(box, width, height):\n",
    "    return [\n",
    "        int(1000 * (box[0] / width)),\n",
    "        int(1000 * (box[1] / height)),\n",
    "        int(1000 * (box[2] / width)),\n",
    "        int(1000 * (box[3] / height)),\n",
    "    ]\n",
    "\n",
    "inf_boxes = []\n",
    "for box in actual_boxes:\n",
    "  inf_boxes.append(normalize_box(box, width, height))\n",
    "# inf_boxes"
   ]
  },
  {
   "cell_type": "markdown",
   "id": "aa4e9a94-4e70-410a-aeef-4182f65cb745",
   "metadata": {
    "jp-MarkdownHeadingCollapsed": true,
    "tags": []
   },
   "source": [
    "# Image Features"
   ]
  },
  {
   "cell_type": "code",
   "execution_count": 149,
   "id": "1a5b9977-c9a7-46d4-a195-3e6e5f67c83a",
   "metadata": {
    "tags": []
   },
   "outputs": [],
   "source": [
    "import os\n",
    "# !git clone https://github.com/airsplay/py-bottom-up-attention.git\n",
    "\n",
    "os.chdir('../py-bottom-up-attention') \n"
   ]
  },
  {
   "cell_type": "code",
   "execution_count": 150,
   "id": "0712fedd-e4e2-42d0-819e-9752483e6f37",
   "metadata": {
    "tags": []
   },
   "outputs": [],
   "source": [
    "# IMPORTING Bottom-up Attention with Detectron2 - PYTORCH \n",
    "import os\n",
    "import io\n",
    "\n",
    "import detectron2\n",
    "\n",
    "# import some common detectron2 utilities\n",
    "from detectron2.engine import DefaultPredictor\n",
    "from detectron2.config import get_cfg\n",
    "from detectron2.utils.visualizer import Visualizer\n",
    "from detectron2.data import MetadataCatalog\n",
    "\n",
    "from torch import nn\n",
    "\n",
    "from detectron2.modeling.postprocessing import detector_postprocess\n",
    "from detectron2.modeling.roi_heads.fast_rcnn import FastRCNNOutputLayers, FastRCNNOutputs, fast_rcnn_inference_single_image\n",
    "from detectron2.structures.boxes import Boxes\n",
    "from detectron2.structures.instances import Instances\n",
    "\n",
    "# import some common libraries\n",
    "import numpy as np\n",
    "import cv2\n",
    "import torch\n",
    "\n",
    "# Show the image in ipynb\n",
    "from IPython.display import clear_output, Image, display\n",
    "import PIL.Image\n",
    "\n",
    "\n",
    "\n",
    "\n",
    "def showarray(a, fmt='jpg'):\n",
    "    a = np.uint8(np.clip(a, 0, 255))\n",
    "    f = io.BytesIO()\n",
    "    PIL.Image.fromarray(a).save(f, fmt)\n",
    "    display(Image(data=f.getvalue()))"
   ]
  },
  {
   "cell_type": "code",
   "execution_count": 151,
   "id": "8380891b-0dc8-4160-89f5-f7e180d07a0f",
   "metadata": {
    "tags": []
   },
   "outputs": [
    {
     "name": "stdout",
     "output_type": "stream",
     "text": [
      "Modifications for VG in RPN (modeling/proposal_generator/rpn.py):\n",
      "\tUse hidden dim 512 instead fo the same dim as Res4 (1024).\n",
      "\n",
      "Modifications for VG in RoI heads (modeling/roi_heads/roi_heads.py):\n",
      "\t1. Change the stride of conv1 and shortcut in Res5.Block1 from 2 to 1.\n",
      "\t2. Modifying all conv2 with (padding: 1 --> 2) and (dilation: 1 --> 2).\n",
      "\tFor more details, please check 'https://github.com/peteanderson80/bottom-up-attention/blob/master/models/vg/ResNet-101/faster_rcnn_end2end_final/test.prototxt'.\n",
      "\n"
     ]
    }
   ],
   "source": [
    "cfg = get_cfg()\n",
    "cfg.OUTPUT_DIR = \"../models\"\n",
    "cfg.merge_from_file(\"configs/VG-Detection/faster_rcnn_R_101_C4_caffe.yaml\")\n",
    "cfg.MODEL.RPN.POST_NMS_TOPK_TEST = 300\n",
    "cfg.MODEL.ROI_HEADS.NMS_THRESH_TEST = 0.6\n",
    "cfg.MODEL.ROI_HEADS.SCORE_THRESH_TEST = 0.2\n",
    "# VG Weight\n",
    "cfg.MODEL.WEIGHTS = \"http://nlp.cs.unc.edu/models/faster_rcnn_from_caffe.pkl\"\n",
    "cfg.MODEL.DEVICE = \"cpu\"\n",
    "predictor = DefaultPredictor(cfg)"
   ]
  },
  {
   "cell_type": "code",
   "execution_count": 152,
   "id": "408edb8c-4ad1-4db1-af9a-376106333b5c",
   "metadata": {
    "tags": []
   },
   "outputs": [],
   "source": [
    "def doit(raw_image, raw_boxes):\n",
    "        # Process Boxes\n",
    "    raw_boxes = Boxes(torch.from_numpy(raw_boxes))\n",
    "    # raw_boxes = Boxes(torch.from_numpy(raw_boxes).cuda())\n",
    "    \n",
    "    with torch.no_grad():\n",
    "        raw_height, raw_width = raw_image.shape[:2]\n",
    "        print(\"Original image size: \", (raw_height, raw_width))\n",
    "        \n",
    "        # Preprocessing\n",
    "        image = predictor.transform_gen.get_transform(raw_image).apply_image(raw_image)\n",
    "        print(\"Transformed image size: \", image.shape[:2])\n",
    "        \n",
    "        # Scale the box\n",
    "        new_height, new_width = image.shape[:2]\n",
    "        scale_x = 1. * new_width / raw_width\n",
    "        scale_y = 1. * new_height / raw_height\n",
    "        #print(scale_x, scale_y)\n",
    "        boxes = raw_boxes.clone()\n",
    "        boxes.scale(scale_x=scale_x, scale_y=scale_y)\n",
    "        \n",
    "        # ----\n",
    "        image = torch.as_tensor(image.astype(\"float32\").transpose(2, 0, 1))\n",
    "        inputs = [{\"image\": image, \"height\": raw_height, \"width\": raw_width}]\n",
    "        images = predictor.model.preprocess_image(inputs)\n",
    "        \n",
    "        # Run Backbone Res1-Res4\n",
    "        features = predictor.model.backbone(images.tensor)\n",
    "        \n",
    "        # Run RoI head for each proposal (RoI Pooling + Res5)\n",
    "        proposal_boxes = [boxes]\n",
    "        features = [features[f] for f in predictor.model.roi_heads.in_features]\n",
    "        box_features = predictor.model.roi_heads._shared_roi_transform(\n",
    "            features, proposal_boxes\n",
    "        )\n",
    "        feature_pooled = box_features.mean(dim=[2, 3])  # pooled to 1x1\n",
    "        print('Pooled features size:', feature_pooled.shape)\n",
    "        \n",
    "        # Predict classes and boxes for each proposal.\n",
    "        pred_class_logits, pred_proposal_deltas = predictor.model.roi_heads.box_predictor(feature_pooled)\n",
    "        print(pred_class_logits.shape)\n",
    "        pred_class_prob = nn.functional.softmax(pred_class_logits, -1)\n",
    "        pred_scores, pred_classes = pred_class_prob[..., :-1].max(-1)\n",
    "        \n",
    "        # Detectron2 Formatting (for visualization only)\n",
    "        roi_features = feature_pooled\n",
    "        instances = Instances(\n",
    "            image_size=(raw_height, raw_width),\n",
    "            pred_boxes=raw_boxes,\n",
    "            scores=pred_scores,\n",
    "            pred_classes=pred_classes\n",
    "        )\n",
    "        \n",
    "        return instances, roi_features"
   ]
  },
  {
   "cell_type": "code",
   "execution_count": 153,
   "id": "f9b90ac1-fc19-46d2-8730-6160e34118e4",
   "metadata": {
    "tags": []
   },
   "outputs": [],
   "source": [
    "# Generating the bbox \n",
    "inf_img_bbox_list = {}\n",
    "inf_img_bbox_list[\"texts\"] = inf_words\n",
    "inf_img_bbox_list[\"bboxes\"] = inf_boxes"
   ]
  },
  {
   "cell_type": "code",
   "execution_count": 154,
   "id": "aa453d64-70db-41d1-b63c-cb635683982f",
   "metadata": {
    "tags": []
   },
   "outputs": [
    {
     "name": "stdout",
     "output_type": "stream",
     "text": [
      "Original image size:  (1000, 754)\n",
      "Transformed image size:  (1061, 800)\n",
      "Pooled features size: torch.Size([165, 2048])\n",
      "torch.Size([165, 1601])\n",
      "165\n"
     ]
    }
   ],
   "source": [
    "path = \"../data/testing_data/images/83443897.png\"\n",
    "im = cv2.imread(path)\n",
    "    \n",
    "instances, features = doit(im, np.array(inf_img_bbox_list[\"bboxes\"]))\n",
    "\n",
    "visual_features = features.tolist()\n",
    "\n",
    "print(len(visual_features))"
   ]
  },
  {
   "cell_type": "markdown",
   "id": "5b790651-a7ab-4adf-96e8-a7debddc9fbe",
   "metadata": {
    "tags": []
   },
   "source": [
    "# Text Features"
   ]
  },
  {
   "cell_type": "code",
   "execution_count": 155,
   "id": "21d0775e-0481-4520-8c1d-d2a41ec47779",
   "metadata": {
    "tags": []
   },
   "outputs": [],
   "source": [
    "# Importing the libraries needed\n",
    "import pandas as pd\n",
    "import numpy as np\n",
    "from sklearn.model_selection import train_test_split\n",
    "import torch\n",
    "import seaborn as sns\n",
    "import transformers\n",
    "import json\n",
    "from tqdm import tqdm\n",
    "from torch.utils.data import Dataset, DataLoader\n",
    "from transformers import AutoTokenizer, AutoModel\n",
    "from transformers import BertTokenizer\n",
    "#from transformers.configuration_bert import BertConfig\n",
    "import logging\n",
    "logging.basicConfig(level=logging.ERROR)\n",
    "\n",
    "\n",
    "tokenizer = BertTokenizer.from_pretrained('bert-base-uncased')\n"
   ]
  },
  {
   "cell_type": "code",
   "execution_count": 156,
   "id": "4808c793-fb4d-49ed-b1a0-e3b191f9b931",
   "metadata": {
    "tags": []
   },
   "outputs": [],
   "source": [
    "inf_df = pd.DataFrame.from_dict({\"text\":inf_words, \"box\":inf_boxes})"
   ]
  },
  {
   "cell_type": "code",
   "execution_count": 157,
   "id": "b32a39d3-8d33-49c4-bae5-4178b04a92f6",
   "metadata": {
    "tags": []
   },
   "outputs": [],
   "source": [
    "inf_df[\"id\"] = [i for i in range(inf_df.shape[0])]"
   ]
  },
  {
   "cell_type": "code",
   "execution_count": 158,
   "id": "6b4e9800-bf41-4c33-b345-8a3156256958",
   "metadata": {
    "tags": []
   },
   "outputs": [
    {
     "name": "stdout",
     "output_type": "stream",
     "text": [
      "cpu\n"
     ]
    }
   ],
   "source": [
    "# Setting up the device for GPU usage\n",
    "from torch import cuda\n",
    "device = 'cuda' if cuda.is_available() else 'cpu'\n",
    "print(device)"
   ]
  },
  {
   "cell_type": "code",
   "execution_count": 159,
   "id": "60c39d6b-dfc3-4edd-9435-2b38ac8e73f4",
   "metadata": {
    "tags": []
   },
   "outputs": [],
   "source": [
    "class SentimentData(Dataset):\n",
    "    def __init__(self, dataframe, tokenizer, max_len):\n",
    "        self.tokenizer = tokenizer\n",
    "        self.data = dataframe\n",
    "        self.text = dataframe.text\n",
    "        # self.targets = self.data.label\n",
    "        self.max_len = max_len\n",
    "\n",
    "    def __len__(self):\n",
    "        return len(self.text)\n",
    "\n",
    "    def __getitem__(self, index):\n",
    "        text = str(self.text[index])\n",
    "        text = \" \".join(text.split())\n",
    "\n",
    "        inputs = self.tokenizer.encode_plus(\n",
    "            text,\n",
    "            None,\n",
    "            add_special_tokens=True,\n",
    "            max_length=self.max_len,\n",
    "            pad_to_max_length=True,\n",
    "            return_token_type_ids=True\n",
    "        )\n",
    "        ids = inputs['input_ids']\n",
    "        mask = inputs['attention_mask']\n",
    "        token_type_ids = inputs[\"token_type_ids\"]\n",
    "\n",
    "        return {\n",
    "            'ids': torch.tensor(ids, dtype=torch.long),\n",
    "            'mask': torch.tensor(mask, dtype=torch.long),\n",
    "            'token_type_ids': torch.tensor(token_type_ids, dtype=torch.long),\n",
    "            # 'targets': torch.tensor(self.targets[index], dtype=torch.float),\n",
    "        }"
   ]
  },
  {
   "cell_type": "code",
   "execution_count": 160,
   "id": "0d68bbb7-d2ba-4758-9887-2ab1331081f4",
   "metadata": {
    "tags": []
   },
   "outputs": [
    {
     "data": {
      "text/plain": [
       "(165, 3)"
      ]
     },
     "execution_count": 160,
     "metadata": {},
     "output_type": "execute_result"
    }
   ],
   "source": [
    "sample_size = 1\n",
    "inf_data=inf_df.sample(frac=sample_size,random_state=200)\n",
    "inf_data = inf_data.reset_index(drop=True)\n",
    "inf_data.shape"
   ]
  },
  {
   "cell_type": "code",
   "execution_count": 161,
   "id": "089ccf63-af92-4cca-9dab-7b2264d78724",
   "metadata": {
    "tags": []
   },
   "outputs": [],
   "source": [
    "from transformers import BertTokenizer\n",
    "import torch\n",
    "\n",
    "\n",
    "tokenizer = BertTokenizer.from_pretrained('bert-base-uncased')\n",
    "# Defining some key variables that will be used later on in the training\n",
    "MAX_LEN = 100\n",
    "INF_BATCH_SIZE = 1\n"
   ]
  },
  {
   "cell_type": "code",
   "execution_count": 162,
   "id": "48c69273-75a2-45fa-aced-52564052e190",
   "metadata": {
    "tags": []
   },
   "outputs": [],
   "source": [
    "inference_set = SentimentData(inf_data, tokenizer, MAX_LEN)"
   ]
  },
  {
   "cell_type": "code",
   "execution_count": 163,
   "id": "301c32f8-deab-4294-b3b1-dbc00e368d06",
   "metadata": {
    "tags": []
   },
   "outputs": [],
   "source": [
    "inference_params = {'batch_size': INF_BATCH_SIZE,\n",
    "                'shuffle': False,\n",
    "                'num_workers': 0\n",
    "                }\n",
    "inference_loader = DataLoader(inference_set, **inference_params)"
   ]
  },
  {
   "cell_type": "code",
   "execution_count": 164,
   "id": "6279978a-739c-4a48-9c80-5ac9e6fd007d",
   "metadata": {
    "tags": []
   },
   "outputs": [],
   "source": [
    "class Feature_Extractor(torch.nn.Module):\n",
    "    def __init__(self):\n",
    "        super(Feature_Extractor, self).__init__()\n",
    "        #bert-base-cased 768\n",
    "        #bert-large-cased bert-large-uncased 1024\n",
    "        #roberta-base-cased 768\n",
    "        #biobert\n",
    "\n",
    "        self.l1 = AutoModel.from_pretrained('bert-base-uncased')# BERT large\n",
    "        self.pre_classifier = torch.nn.Linear(768, 768)\n",
    "\n",
    "    def forward(self,input_ids,attention_mask,token_type_ids):\n",
    "        output_1 = self.l1(input_ids=input_ids, attention_mask=attention_mask, token_type_ids=token_type_ids)\n",
    "        hidden_state = output_1[0]\n",
    "        pooler = hidden_state[:, 0]\n",
    "        \n",
    "        return pooler"
   ]
  },
  {
   "cell_type": "code",
   "execution_count": 165,
   "id": "75aa1d0c-46e9-4985-81fe-4a9ea3e66146",
   "metadata": {
    "tags": []
   },
   "outputs": [],
   "source": [
    "model_bert = torch.load('../models/funsd_bert_embedder_v2.bin')\n",
    "\n",
    "model_bert.to(device)# Defining the training function on the 80% of the dataset for tuning the distilbert model\n",
    "\n",
    "def extracing(data_loader):\n",
    "    output = []\n",
    "    model_bert.eval()\n",
    "    for _,data in tqdm(enumerate(data_loader, 0)):\n",
    "        ids = data['ids'].to(device, dtype = torch.long)\n",
    "        mask = data['mask'].to(device, dtype = torch.long)\n",
    "        token_type_ids = data['token_type_ids'].to(device, dtype = torch.long)\n",
    "        # targets = data['targets'].to(device, dtype = torch.long)\n",
    "        outputs = model_bert(ids, mask,token_type_ids)\n",
    "        output.extend(outputs.tolist())\n",
    "    return output"
   ]
  },
  {
   "cell_type": "code",
   "execution_count": 166,
   "id": "7bb34bc8-9864-4c67-92ee-b0eafb75c23e",
   "metadata": {
    "tags": []
   },
   "outputs": [
    {
     "name": "stderr",
     "output_type": "stream",
     "text": [
      "0it [00:00, ?it/s]Truncation was not explicitly activated but `max_length` is provided a specific value, please use `truncation=True` to explicitly truncate examples to max length. Defaulting to 'longest_first' truncation strategy. If you encode pairs of sequences (GLUE-style) with the tokenizer you can select this strategy more precisely by providing a specific strategy to `truncation`.\n",
      "/Users/shashanksahoo/miniconda3/envs/gpt-LLM/lib/python3.9/site-packages/transformers/tokenization_utils_base.py:2137: FutureWarning: The `pad_to_max_length` argument is deprecated and will be removed in a future version, use `padding=True` or `padding='longest'` to pad to the longest sequence in the batch, or use `padding='max_length'` to pad to a max length. In this case, you can give a specific length with `max_length` (e.g. `max_length=45`) or leave max_length to None to pad to the maximal input size of the model (e.g. 512 for Bert).\n",
      "  warnings.warn(\n",
      "165it [00:20,  7.86it/s]\n"
     ]
    }
   ],
   "source": [
    "text_embeddings = extracing(inference_loader)"
   ]
  },
  {
   "cell_type": "code",
   "execution_count": 167,
   "id": "4ed26d22-9775-461c-b2e4-b06617025cbc",
   "metadata": {
    "tags": []
   },
   "outputs": [],
   "source": [
    "inf_df[\"visual_embeddings\"] = visual_features\n",
    "inf_df[\"bert_large_emb\"] = text_embeddings"
   ]
  },
  {
   "cell_type": "markdown",
   "id": "0e78d50d-9bdc-4bd2-ba82-4f55111d7c17",
   "metadata": {},
   "source": [
    "# Scene Graph Generation"
   ]
  },
  {
   "cell_type": "code",
   "execution_count": 168,
   "id": "2c84bdf9-6412-4fbe-a7c0-82b99cb1fb34",
   "metadata": {
    "tags": []
   },
   "outputs": [],
   "source": [
    "from PIL import Image\n",
    "def funsd_scene_graph_generator(input_path, type):\n",
    "\n",
    "  # There are two types scene graphs one is position based global scene graph\n",
    "  # Another one is document components structural relationship based binary scene graph\n",
    "  # Type 1 means global relationship which will return reletively globally positional relationship \n",
    "  # Type 2 will return binary structure or logical relationship between components\n",
    "\n",
    "  json_path = input_path\n",
    "  img_path = input_path\n",
    "  img_list = os.listdir(img_path)\n",
    "  # for training dataset bbox_id = 0 setting this to order all trainind and validation dataset\n",
    "  # bbox_id = 7412 \n",
    "  bbox_id = 0\n",
    "  relation_id = 0\n",
    "  bi_relation = 8473\n",
    "  scene_graph = {}\n",
    "  for index in range(len(img_list)):\n",
    "    print(index)\n",
    "    name = img_list[index][:-4]\n",
    "    print(name)\n",
    "    image = Image.open(img_path+'/'+name+'.png')\n",
    "    # info_path = json_path+name+'.json'\n",
    "    # with open(info_path) as f:\n",
    "    #   info_list = json.load(f)\n",
    "    # info_list = info_list['form']\n",
    "    scene_graph[name] = {}\n",
    "    scene_graph[name]['file_name'] = name\n",
    "    scene_graph[name]['width'] = image.size[0]\n",
    "    scene_graph[name]['height'] = image.size[1]\n",
    "    scene_graph[name]['objects'] = {}\n",
    "    for i, row in inf_df.iterrows():\n",
    "      scene_graph[name]['objects'][str(i)] = {}\n",
    "      scene_graph[name]['objects'][str(i)]['id'] = bbox_id\n",
    "      bbox_id += 1\n",
    "      scene_graph[name]['objects'][str(i)]['box'] = row['box']\n",
    "      # scene_graph[name]['objects'][str(i)]['category'] = info_list[i]['label']\n",
    "      scene_graph[name]['objects'][str(i)]['text'] = row['text']\n",
    "      scene_graph[name]['objects'][str(i)]['relations'] = {}\n",
    "\n",
    "    # returning scene graph is position based global scene graph\n",
    "    if type == 1:\n",
    "      for i in scene_graph[name]['objects']:\n",
    "        current_box = scene_graph[name]['objects'][i]\n",
    "        box1 = current_box['box']\n",
    "        c_relation = 0\n",
    "        for j in scene_graph[name]['objects']:\n",
    "          if i != j:\n",
    "            box2 = scene_graph[name]['objects'][j]['box']\n",
    "            current_box['relations'][str(c_relation)] = {}\n",
    "            current_box['relations'][str(c_relation)]['id'] = relation_id\n",
    "            current_box['relations'][str(c_relation)]['object'] = scene_graph[name]['objects'][j]['id']\n",
    "            # be cautious of ignoring this\n",
    "            # current_box['relations'][str(c_relation)]['name'] = relative_position(box1,box2)\n",
    "            relation_id += 1\n",
    "            c_relation += 1\n",
    "\n",
    "\n",
    "    # type 0 will return binary relationships between bounding box\n",
    "    # for funsd dataset, it will represent the question and corresponding answer relationships\n",
    "    # if current node is a question, the relation will be annotated as 'answer' to its answer\n",
    "    # if current node is a answer, the relation will be annotated as 'question' \n",
    "    elif type == 0:\n",
    "      for i in scene_graph[name]['objects']:\n",
    "        current_box = scene_graph[name]['objects'][i]\n",
    "        k = int(i)\n",
    "        if len(info_list[k]['linking']) != 0:\n",
    "          for n in range(len(info_list[k]['linking'])):\n",
    "            linking_node = info_list[k]['linking'][n]\n",
    "            current_box['relations'][str(n)] = {}\n",
    "            node1 = linking_node[0]\n",
    "            node2 = linking_node[1]\n",
    "            if node1 == k:\n",
    "              current_box['relations'][str(n)]['name'] = info_list[node2]['label']\n",
    "              current_box['relations'][str(n)]['id'] = bi_relation\n",
    "              current_box['relations'][str(n)]['object'] = scene_graph[name]['objects'][str(node2)]['id']\n",
    "              bi_relation += 1\n",
    "            elif node2 == k:\n",
    "              current_box['relations'][str(n)]['name'] = info_list[node1]['label']\n",
    "              current_box['relations'][str(n)]['id'] = bi_relation\n",
    "              current_box['relations'][str(n)]['object'] = scene_graph[name]['objects'][str(node1)]['id']\n",
    "              bi_relation += 1\n",
    "\n",
    "  if type == 1:\n",
    "    return scene_graph\n",
    "  if type == 0:\n",
    "    print(bbox_id,bi_relation)\n",
    "    return scene_graph"
   ]
  },
  {
   "cell_type": "code",
   "execution_count": 169,
   "id": "6ddda858-2788-4ad2-9936-2f1f7354a0aa",
   "metadata": {
    "tags": []
   },
   "outputs": [
    {
     "name": "stdout",
     "output_type": "stream",
     "text": [
      "0\n",
      "83443897\n"
     ]
    }
   ],
   "source": [
    "inference_scenegraph_positional = funsd_scene_graph_generator('../data/inference_data/', 1)"
   ]
  },
  {
   "cell_type": "code",
   "execution_count": 170,
   "id": "0fe4c67e-ccf4-4746-800b-2c2afe33ad29",
   "metadata": {
    "tags": []
   },
   "outputs": [],
   "source": [
    "# inference_scenegraph_positional"
   ]
  },
  {
   "cell_type": "code",
   "execution_count": 171,
   "id": "559f8064-b16d-46a8-9a93-594c25ae7b93",
   "metadata": {
    "tags": []
   },
   "outputs": [],
   "source": [
    "# # directly return the gap distance bewteen bounding boxes\n",
    "# def gap_distance(bbox1, bbox2):\n",
    "#   x1, y1, x12, y12 = bbox1\n",
    "#   x2, y2, x22, y22 = bbox2\n",
    "#   w1 = abs(x12-x1)\n",
    "#   h1 = abs(y12-y1)\n",
    "#   w2 = abs(x22-x2)\n",
    "#   h2 = abs(y22-y2)\n",
    "#   dist = 0\n",
    "#   if x2>x1 and abs(x2-x1)>w1:\n",
    "#     dist = abs(x2-x1)-w1\n",
    "#   elif x2<x1 and abs(x2-x1)>w2:\n",
    "#     dist = abs(x2-x1)-w2\n",
    "#   elif y1>y2 and abs(y1-y2)>h2:\n",
    "#     dist = abs(y2-y1)-h2\n",
    "#   elif y2>y1 and abs(y1-y2)>h1:\n",
    "#     dist = abs(y2-y1)-h1\n",
    "#   return dist\n",
    "\n",
    "# directly return the gap distance bewteen bounding boxes\n",
    "def gap_distance(bbox1, bbox2):\n",
    "  x1, y1, x12, y12 = bbox1\n",
    "  x2, y2, x22, y22 = bbox2\n",
    "  w1 = abs(x12-x1)\n",
    "  h1 = abs(y12-y1)\n",
    "  w2 = abs(x22-x2)\n",
    "  h2 = abs(y22-y2)\n",
    "  dist = 0\n",
    "  if x2>x1 and abs(x2-x1)>w1:\n",
    "    dist = abs(x2-x1)-w1\n",
    "  elif x2<x1 and abs(x2-x1)>w2:\n",
    "    dist = abs(x2-x1)-w2\n",
    "  elif y1>y2 and abs(y1-y2)>h2:\n",
    "    dist = abs(y2-y1)-h2\n",
    "  elif y2>y1 and abs(y1-y2)>h1:\n",
    "    dist = abs(y2-y1)-h1\n",
    "  return dist"
   ]
  },
  {
   "cell_type": "code",
   "execution_count": 172,
   "id": "a91da354-7fe8-448b-a042-409382b05449",
   "metadata": {
    "tags": []
   },
   "outputs": [],
   "source": [
    "for l in inference_scenegraph_positional:\n",
    "  obj = inference_scenegraph_positional[l]['objects']\n",
    "  for obj1 in obj:\n",
    "    obj[obj1]['gap'] = {}\n",
    "    for obj2 in obj:\n",
    "      if obj1 != obj2:\n",
    "        dist = gap_distance(obj[obj1]['box'],obj[obj2]['box'])\n",
    "        obj[obj1]['gap'][obj2] = dist"
   ]
  },
  {
   "cell_type": "code",
   "execution_count": 173,
   "id": "0470f630-61f8-44f4-8c28-c168e3cbb6fe",
   "metadata": {
    "tags": []
   },
   "outputs": [
    {
     "name": "stderr",
     "output_type": "stream",
     "text": [
      "[nltk_data] Error loading punkt: <urlopen error [SSL:\n",
      "[nltk_data]     CERTIFICATE_VERIFY_FAILED] certificate verify failed\n",
      "[nltk_data]     (_ssl.c:1129)>\n"
     ]
    }
   ],
   "source": [
    "import nltk\n",
    "nltk.download('punkt')\n",
    "\n",
    "# number of characters / bounding box size\n",
    "def char_density(obj):\n",
    "  text = obj['text']\n",
    "  x1,y1,x2,y2 = obj['box']\n",
    "  size = abs(x2-x1)*abs(y2-y1)\n",
    "  density = len(text)/size\n",
    "  obj['char_density'] = density\n",
    "\n",
    "\n",
    "# number of characters\n",
    "def char_number(obj):\n",
    "  text = obj['text']\n",
    "  char_num = len(text)\n",
    "  obj['char_number'] = char_num\n",
    "\n",
    "\n",
    "# number of tokens / bounding box size\n",
    "def token_density(obj):\n",
    "  text = obj['text']\n",
    "  x1,y1,x2,y2 = obj['box']\n",
    "  tokenized_text = nltk.word_tokenize(text)\n",
    "  size = abs(x2-x1)*abs(y2-y1)\n",
    "  density = len(tokenized_text)/size\n",
    "  obj['text_density'] = density\n",
    "    \n",
    "\n",
    "# number of tokens\n",
    "def token_number(obj):\n",
    "  text = obj['text']\n",
    "  tokenized_text = nltk.word_tokenize(text)\n",
    "  token_num = len(tokenized_text)\n",
    "  obj['text_number'] = token_num"
   ]
  },
  {
   "cell_type": "code",
   "execution_count": 174,
   "id": "3617edf6-77f3-4fc5-8b1b-59a4ee66fe61",
   "metadata": {
    "tags": []
   },
   "outputs": [],
   "source": [
    "for l in inference_scenegraph_positional:\n",
    "  for obj in inference_scenegraph_positional[l]['objects']:\n",
    "    token_density(inference_scenegraph_positional[l]['objects'][obj])\n",
    "    token_number(inference_scenegraph_positional[l]['objects'][obj])\n",
    "    char_density(inference_scenegraph_positional[l]['objects'][obj])\n",
    "    char_number(inference_scenegraph_positional[l]['objects'][obj])"
   ]
  },
  {
   "cell_type": "code",
   "execution_count": 175,
   "id": "81728a62-2177-4630-a0a8-ecee7eca85fc",
   "metadata": {
    "tags": []
   },
   "outputs": [],
   "source": [
    "# inference_scenegraph_positional['83443897']"
   ]
  },
  {
   "cell_type": "code",
   "execution_count": 176,
   "id": "b03420f2-9dc2-4237-a9ac-7ccc26987fe6",
   "metadata": {
    "tags": []
   },
   "outputs": [
    {
     "name": "stderr",
     "output_type": "stream",
     "text": [
      "[nltk_data] Error loading benepar_en3: <urlopen error [SSL:\n",
      "[nltk_data]     CERTIFICATE_VERIFY_FAILED] certificate verify failed\n",
      "[nltk_data]     (_ssl.c:1129)>\n"
     ]
    },
    {
     "data": {
      "text/plain": [
       "False"
      ]
     },
     "execution_count": 176,
     "metadata": {},
     "output_type": "execute_result"
    }
   ],
   "source": [
    "import nltk\n",
    "import benepar\n",
    "import spacy\n",
    "from benepar.spacy_plugin import BeneparComponent\n",
    "import benepar\n",
    "benepar.download('benepar_en3')\n"
   ]
  },
  {
   "cell_type": "code",
   "execution_count": 177,
   "id": "698cf5dc-dda1-4468-b8bd-f433fb768eea",
   "metadata": {
    "tags": []
   },
   "outputs": [
    {
     "name": "stdout",
     "output_type": "stream",
     "text": [
      "83443897\n"
     ]
    },
    {
     "name": "stderr",
     "output_type": "stream",
     "text": [
      "/Users/shashanksahoo/miniconda3/envs/gpt-LLM/lib/python3.9/site-packages/torch/distributions/distribution.py:51: UserWarning: <class 'torch_struct.distributions.TreeCRF'> does not define `arg_constraints`. Please set `arg_constraints = {}` or initialize the distribution with `validate_args=False` to turn off validation.\n",
      "  warnings.warn(f'{self.__class__} does not define `arg_constraints`. ' +\n"
     ]
    }
   ],
   "source": [
    "nlp = spacy.load('en_core_web_sm')\n",
    "# nlp.add_pipe(BeneparComponent('benepar_en3')) \n",
    "\n",
    "if spacy.__version__.startswith('2'):\n",
    "        nlp.add_pipe(benepar.BeneparComponent(\"benepar_en3\"))\n",
    "else:\n",
    "    nlp.add_pipe(\"benepar\", config={\"model\": \"benepar_en3\"})\n",
    "\n",
    "\n",
    "for img in inference_scenegraph_positional:\n",
    "  print(img)\n",
    "  if img not in ['92314414']:\n",
    "      for i in inference_scenegraph_positional[img]['objects']:\n",
    "        box = inference_scenegraph_positional[img]['objects'][i]\n",
    "        text = box['text']\n",
    "        doc = nlp(text)\n",
    "        try:\n",
    "          sent = list(doc.sents)[0]\n",
    "          parse = sent._.parse_string\n",
    "          _,level1,level2 = constituency_parsing_extractor(parse)\n",
    "          box['parsing_level1'] = level1\n",
    "          box['parsing_level2'] = level2\n",
    "        except:\n",
    "          box['parsing_level1'] = []\n",
    "          box['parsing_level2'] = []\n",
    "  else:\n",
    "      for x in inference_scenegraph_positional[img]['objects']:\n",
    "          box = inference_scenegraph_positional[img]['objects'][x]\n",
    "          box['parsing_level1'] = []\n",
    "          box['parsing_level2'] = []\n",
    "    "
   ]
  },
  {
   "cell_type": "code",
   "execution_count": 178,
   "id": "127be088-bc9e-4d49-ba89-d1b7e6f50d6f",
   "metadata": {
    "tags": []
   },
   "outputs": [],
   "source": [
    "# inference_scenegraph_positional['83443897']"
   ]
  },
  {
   "cell_type": "code",
   "execution_count": 179,
   "id": "3ab8141b-be25-482f-9bd2-903ab8737273",
   "metadata": {
    "tags": []
   },
   "outputs": [],
   "source": [
    "# import tensorflow.compat.v1 as tf\n",
    "\n",
    "# tf.compat.v1.disable_eager_execution()\n",
    "\n",
    "# session_conf = tf.ConfigProto(gpu_options=tf.GPUOptions(allow_growth=True))\n",
    "# sess = tf.Session(config=session_conf)\n",
    "\n",
    "# path = \"../models/distance_weighted_tf_model\"\n",
    "# path2 = \"tmp/gcn.ckpt\"\n",
    "\n",
    "# imported = tf.saved_model.load(sess,export_dir=path, tags=None, options=None)\n"
   ]
  },
  {
   "cell_type": "code",
   "execution_count": 180,
   "id": "4717c791-62e8-4be6-a5f2-8523953e56ff",
   "metadata": {
    "tags": []
   },
   "outputs": [],
   "source": [
    "# with tf.compat.v1.Session(graph=tf.Graph()) as sess:\n",
    "#   tf.compat.v1.saved_model.loader.load(sess, [\"foo-tag\"], export_dir=path)"
   ]
  },
  {
   "cell_type": "code",
   "execution_count": 181,
   "id": "03e81091-04a4-4ab0-a8cf-60f21be01811",
   "metadata": {
    "tags": []
   },
   "outputs": [],
   "source": [
    "class RobertaClass(torch.nn.Module):\n",
    "    def __init__(self):\n",
    "        super(RobertaClass, self).__init__()\n",
    "        #bert-base-cased 768\n",
    "        #bert-large-cased bert-large-uncased 1024\n",
    "        #roberta-base-cased 768\n",
    "        #biobert\n",
    "\n",
    "        self.l1 = AutoModel.from_pretrained(\"bert-base-uncased\")# BERT large\n",
    "        self.pre_classifier = torch.nn.Linear(768, 768)\n",
    "        self.dropout = torch.nn.Dropout(0.1)\n",
    "        self.hidden_cls = torch.nn.Linear(768,768)\n",
    "        self.hidden_parsing = torch.nn.Linear(768,768)\n",
    "        self.hidden_den = torch.nn.Linear(768,768)\n",
    "        self.hidden_vis = torch.nn.Linear(768,768)\n",
    "        self.hidden_vis_pro = torch.nn.Linear(2048,768)\n",
    "        self.hidden_all = torch.nn.Linear(768*2,768*2)\n",
    "        self.before_classifier = torch.nn.Linear(768*2,128)\n",
    "        self.pooling = torch.nn.MaxPool2d((2,1), stride=None)\n",
    "        self.classifier = torch.nn.Linear(128, 4)\n",
    "\n",
    "    def forward(self, input_ids, attention_mask, token_type_ids, char_density,char_number,visual_feature,bert_cls,parsing1,parsing2,visual):\n",
    "        output_1 = self.l1(input_ids=input_ids, attention_mask=attention_mask, token_type_ids=token_type_ids)\n",
    "        hidden_state = output_1[0]\n",
    "        pooler = hidden_state[:, 0]\n",
    "\n",
    "        # BERT 768 BERT / large 1024\n",
    "        \n",
    "        # set different hidden layer, number of hidden units, regularization methods including bn and dropout\n",
    "        \n",
    "        pooler = self.pre_classifier(pooler)\n",
    "        pooler = torch.nn.Tanh()(pooler)\n",
    "        pooler = self.dropout(pooler)\n",
    "\n",
    "        pooler = torch.cat((pooler.unsqueeze(1),bert_cls.unsqueeze(1)),1)\n",
    "        pooler = self.pooling(pooler).squeeze(1)\n",
    "        pooler = self.hidden_cls(pooler)\n",
    "        pooler = torch.nn.Tanh()(pooler)\n",
    "        pooler = self.dropout(pooler)\n",
    "\n",
    "        visual = self.hidden_vis_pro(visual)\n",
    "        visual = torch.nn.Tanh()(visual)\n",
    "        visual = self.dropout(visual)\n",
    "\n",
    "        visual = torch.cat((visual.unsqueeze(1),visual_feature.unsqueeze(1)),1)\n",
    "        visual = self.pooling(visual).squeeze(1)\n",
    "        visual = self.hidden_vis(visual)\n",
    "        visual = torch.nn.Tanh()(visual)\n",
    "        visual = self.dropout(visual)\n",
    "\n",
    "        pooler = torch.cat((pooler,visual),1)\n",
    "        pooler = self.hidden_all(pooler)\n",
    "        pooler = torch.nn.Tanh()(pooler)\n",
    "        pooler = self.dropout(pooler)\n",
    "\n",
    "        pooler = self.before_classifier(pooler)\n",
    "        pooler = torch.nn.Tanh()(pooler)\n",
    "        pooler = self.dropout(pooler)\n",
    "\n",
    "        output = self.classifier(pooler)\n",
    "        return output"
   ]
  },
  {
   "cell_type": "code",
   "execution_count": 182,
   "id": "13d14d8f-2c50-4421-939e-48963b288869",
   "metadata": {
    "tags": []
   },
   "outputs": [],
   "source": [
    "model_test = torch.load('../models/funsd_docgcn_bert_layout_segment_classifier.pt')"
   ]
  },
  {
   "cell_type": "code",
   "execution_count": 183,
   "id": "9dab2cc2-a9c1-489a-9d19-8662bcf999ff",
   "metadata": {
    "tags": []
   },
   "outputs": [],
   "source": [
    "# # Print model's state_dict\n",
    "# print(\"Model's state_dict:\")\n",
    "# for param_tensor in model_test.state_dict():\n",
    "#     print(param_tensor, \"\\t\", model_test.state_dict()[param_tensor].size())"
   ]
  },
  {
   "cell_type": "code",
   "execution_count": 184,
   "id": "3b6876a7-c489-4936-a1f5-4e4c50086129",
   "metadata": {
    "tags": []
   },
   "outputs": [],
   "source": [
    "# inference_scenegraph_positional['83443897']['objects'].keys()"
   ]
  },
  {
   "cell_type": "code",
   "execution_count": 185,
   "id": "ba9bcbde-6759-41fa-815f-a9c07c77c3fa",
   "metadata": {
    "tags": []
   },
   "outputs": [],
   "source": [
    "# inf_df2 = pd.DataFrame.from_records(inference_scenegraph_positional['83443897'])\n",
    "# inf_df2\n",
    "\n",
    "\n",
    "inference_list = []\n",
    "for file in inference_scenegraph_positional:\n",
    "    for x in inference_scenegraph_positional[file]['objects']:\n",
    "      inference_list.append(inference_scenegraph_positional[file]['objects'][x])"
   ]
  },
  {
   "cell_type": "code",
   "execution_count": 186,
   "id": "326c8c49-e7d9-44f4-9b43-5bb84db5ac20",
   "metadata": {
    "tags": []
   },
   "outputs": [],
   "source": [
    "df_infer = pd.DataFrame(inference_list)\n",
    "# df_infer"
   ]
  },
  {
   "cell_type": "code",
   "execution_count": 187,
   "id": "cb82e6e4-8cbb-4daa-88f9-1de634841ecd",
   "metadata": {
    "tags": []
   },
   "outputs": [],
   "source": [
    "# df_infer.head(3)"
   ]
  },
  {
   "cell_type": "code",
   "execution_count": 188,
   "id": "ccab552f-ad8b-43d4-80cd-2edf1f678483",
   "metadata": {
    "tags": []
   },
   "outputs": [],
   "source": [
    "# inf_df.head(3)"
   ]
  },
  {
   "cell_type": "code",
   "execution_count": 189,
   "id": "d1cc0863-6c9a-4821-ac01-b4da01561abc",
   "metadata": {
    "tags": []
   },
   "outputs": [],
   "source": [
    "df_merged = pd.merge(df_infer, inf_df[['id','visual_embeddings','bert_large_emb']]\\\n",
    "                    , on=['id','id'], how='left') \n",
    "\n",
    "# df_merged.head()"
   ]
  },
  {
   "cell_type": "code",
   "execution_count": 190,
   "id": "5b83844f-33b6-44b0-a94d-ecf03e8da5fe",
   "metadata": {
    "tags": []
   },
   "outputs": [
    {
     "data": {
      "text/plain": [
       "Index(['id', 'box', 'text', 'relations', 'gap', 'text_density', 'text_number',\n",
       "       'char_density', 'char_number', 'parsing_level1', 'parsing_level2',\n",
       "       'visual_embeddings', 'bert_large_emb'],\n",
       "      dtype='object')"
      ]
     },
     "execution_count": 190,
     "metadata": {},
     "output_type": "execute_result"
    }
   ],
   "source": [
    "df_merged.columns"
   ]
  },
  {
   "cell_type": "code",
   "execution_count": 191,
   "id": "69ebcc35-aa35-4c0b-8a1b-a590e2450f50",
   "metadata": {
    "tags": []
   },
   "outputs": [
    {
     "data": {
      "text/plain": [
       "list"
      ]
     },
     "execution_count": 191,
     "metadata": {},
     "output_type": "execute_result"
    }
   ],
   "source": [
    "type(df_merged['visual_embeddings'].loc[0])"
   ]
  },
  {
   "cell_type": "code",
   "execution_count": 192,
   "id": "d92a6671-3ad7-42dc-a818-3e7903239bde",
   "metadata": {
    "tags": []
   },
   "outputs": [
    {
     "data": {
      "text/plain": [
       "list"
      ]
     },
     "execution_count": 192,
     "metadata": {},
     "output_type": "execute_result"
    }
   ],
   "source": [
    "type(df_merged['bert_large_emb'].loc[0])"
   ]
  },
  {
   "cell_type": "code",
   "execution_count": 193,
   "id": "6c519db0-f936-4573-8f4b-ff1a7570ccad",
   "metadata": {
    "tags": []
   },
   "outputs": [
    {
     "data": {
      "text/plain": [
       "id                     int64\n",
       "box                   object\n",
       "text                  object\n",
       "relations             object\n",
       "gap                   object\n",
       "text_density         float64\n",
       "text_number            int64\n",
       "char_density         float64\n",
       "char_number            int64\n",
       "parsing_level1        object\n",
       "parsing_level2        object\n",
       "visual_embeddings     object\n",
       "bert_large_emb        object\n",
       "dtype: object"
      ]
     },
     "execution_count": 193,
     "metadata": {},
     "output_type": "execute_result"
    }
   ],
   "source": [
    "df_merged.dtypes"
   ]
  },
  {
   "cell_type": "code",
   "execution_count": 194,
   "id": "5141d5bc-b5ae-4a11-887f-c68fcaf7da84",
   "metadata": {
    "tags": []
   },
   "outputs": [],
   "source": [
    "df_sample = pd.read_csv(\"../funsd/df_train_docgcn_final.csv\")"
   ]
  },
  {
   "cell_type": "code",
   "execution_count": 195,
   "id": "760cdeda-bbee-410e-8236-86d77d6c13e6",
   "metadata": {
    "tags": []
   },
   "outputs": [],
   "source": [
    "# df_sample[\"gcn_token_number\"].loc[0]"
   ]
  },
  {
   "cell_type": "code",
   "execution_count": 196,
   "id": "210a50bb-fe96-4f7b-b8fe-6110bf65ec16",
   "metadata": {
    "tags": []
   },
   "outputs": [],
   "source": [
    "# type(df_sample[\"gcn_token_number\"].loc[0])"
   ]
  },
  {
   "cell_type": "code",
   "execution_count": 197,
   "id": "2fd654ad-e3a8-46e8-96c0-272e1a255eed",
   "metadata": {
    "tags": []
   },
   "outputs": [],
   "source": [
    "# len(df_sample[\"gcn_token_number\"].loc[0])"
   ]
  },
  {
   "cell_type": "code",
   "execution_count": 198,
   "id": "d9afae04-cce5-49db-9fa1-8aad0c637561",
   "metadata": {
    "tags": []
   },
   "outputs": [],
   "source": [
    "# len(re.findall(r\"[-+]?(?:\\d*\\.*\\d+)\", df_sample[\"gcn_token_number\"].loc[0]))"
   ]
  },
  {
   "cell_type": "code",
   "execution_count": 199,
   "id": "d88f899c-694c-46f1-b7a8-12623d231471",
   "metadata": {
    "tags": []
   },
   "outputs": [],
   "source": [
    "import re\n",
    "\n",
    "df_sample['gcn_token_number'] = df_sample['gcn_token_number'].apply(lambda x: re.findall(r\"[-+]?(?:\\d*\\.*\\d+)\", x))\n",
    "df_sample['gcn_token_number'] = df_sample['gcn_token_number'].apply(lambda x: list(map(float, x)))"
   ]
  },
  {
   "cell_type": "code",
   "execution_count": 200,
   "id": "339640f1-53b7-4d8d-b9f2-b02d21f33e5f",
   "metadata": {
    "tags": []
   },
   "outputs": [
    {
     "data": {
      "text/plain": [
       "list"
      ]
     },
     "execution_count": 200,
     "metadata": {},
     "output_type": "execute_result"
    }
   ],
   "source": [
    "type(df_sample[\"gcn_token_number\"].loc[0])"
   ]
  },
  {
   "cell_type": "code",
   "execution_count": 201,
   "id": "617cf87c-ae43-461b-9051-4ca1194a9139",
   "metadata": {
    "tags": []
   },
   "outputs": [],
   "source": [
    "df_merged[\"gcn_token_number\"]=[df_sample[\"gcn_token_number\"].loc[5]]*len(df_merged)"
   ]
  },
  {
   "cell_type": "code",
   "execution_count": 202,
   "id": "7f2cccb5-9b3e-4e4e-a324-5c6b2cb41808",
   "metadata": {
    "tags": []
   },
   "outputs": [],
   "source": [
    "# type(df_merged[\"gcn_token_number\"][0][0])"
   ]
  },
  {
   "cell_type": "code",
   "execution_count": 203,
   "id": "95beae76-02b7-47a1-95e2-2fe382cfc8ae",
   "metadata": {
    "tags": []
   },
   "outputs": [],
   "source": [
    "# float(df_merged[\"gcn_token_number\"][0][0])"
   ]
  },
  {
   "cell_type": "code",
   "execution_count": 204,
   "id": "b39647f3-3a2e-4fbc-af8a-f3a7301c5d8f",
   "metadata": {
    "tags": []
   },
   "outputs": [],
   "source": [
    "# df_merged[\"gcn_token_number\"][0]"
   ]
  },
  {
   "cell_type": "markdown",
   "id": "da4a82f0-9052-420e-96fc-df9aba3e9751",
   "metadata": {},
   "source": [
    "# Inferencing"
   ]
  },
  {
   "cell_type": "code",
   "execution_count": 205,
   "id": "b5fcee03-9f23-4b15-8b55-1f7632535f97",
   "metadata": {
    "tags": []
   },
   "outputs": [],
   "source": [
    "class SentimentData_test(Dataset):\n",
    "    def __init__(self, dataframe, tokenizer, max_len):\n",
    "        self.tokenizer = tokenizer\n",
    "        self.data = dataframe\n",
    "        self.text = dataframe.text\n",
    "        self.max_len = max_len\n",
    "        self.visual_feature = dataframe.near_visual_feature\n",
    "        self.gcn_bert_base = dataframe.gcn_bert_predicted\n",
    "        self.parsing1 = dataframe.level1_parse_emb\n",
    "        self.parsing2 = dataframe.level2_parse_emb\n",
    "        self.char_density = dataframe.gcn_near_char_density\n",
    "        self.char_number = dataframe.gcn_near_char_number\n",
    "        # self.pos_emb = dataframe.gcn_pos_emb\n",
    "        self.visual = dataframe.visual_feature\n",
    "\n",
    "    def __len__(self):\n",
    "        return len(self.text)\n",
    "\n",
    "    def __getitem__(self, index):\n",
    "        text = str(self.text[index])\n",
    "        text = \" \".join(text.split())\n",
    "\n",
    "        inputs = self.tokenizer.encode_plus(\n",
    "            text,\n",
    "            None,\n",
    "            add_special_tokens=True,\n",
    "            max_length=self.max_len,\n",
    "            pad_to_max_length=True,\n",
    "            return_token_type_ids=True\n",
    "        )\n",
    "        ids = inputs['input_ids']\n",
    "        mask = inputs['attention_mask']\n",
    "        token_type_ids = inputs[\"token_type_ids\"]\n",
    "\n",
    "\n",
    "        return {\n",
    "            'ids': torch.tensor(ids, dtype=torch.long),\n",
    "            'mask': torch.tensor(mask, dtype=torch.long),\n",
    "            'token_type_ids': torch.tensor(token_type_ids, dtype=torch.long),\n",
    "            'gcn_bert_base': torch.tensor(self.gcn_bert_base[index],dtype=torch.float),\n",
    "            'char_density': torch.tensor(self.char_density[index],dtype=torch.float),\n",
    "            'char_number': torch.tensor(self.char_number[index],dtype=torch.float),\n",
    "            'visual_feature': torch.tensor(self.visual_feature[index],dtype=torch.float),\n",
    "            'parsing1': torch.tensor(self.parsing1[index],dtype=torch.float),\n",
    "            'parsing2': torch.tensor(self.parsing2[index],dtype=torch.float),\n",
    "            # 'pos_emb': torch.tensor(self.pos_emb[index],dtype=torch.float),\n",
    "            'visual': torch.tensor(self.visual[index],dtype=torch.float),\n",
    "        }"
   ]
  },
  {
   "cell_type": "code",
   "execution_count": 206,
   "id": "3e3dde97-d471-465d-b967-f669e2901a81",
   "metadata": {
    "tags": []
   },
   "outputs": [],
   "source": [
    "cols_left  = ['text','near_visual_feature','gcn_near_char_density',\\\n",
    "                   'gcn_near_char_number','level1_parse_emb','level2_parse_emb',\\\n",
    "                   'density','visual_feature','gcn_bert_predicted']\n",
    "\n",
    "cols_right = ['text', 'gcn_token_number', 'char_density',\\\n",
    "                    'char_number', 'parsing_level1', 'parsing_level2',\\\n",
    "                    'text_density', 'visual_embeddings', 'bert_large_emb']"
   ]
  },
  {
   "cell_type": "code",
   "execution_count": 207,
   "id": "1558ff4f-7cd6-42f8-bb43-0875e77713f1",
   "metadata": {
    "tags": []
   },
   "outputs": [],
   "source": [
    "new_df_true_test = pd.DataFrame()\n",
    "new_df_true_test[cols_left] = df_merged[cols_right]"
   ]
  },
  {
   "cell_type": "code",
   "execution_count": 208,
   "id": "d16e0cbc-0c2c-496d-bd0a-0b8c3c5ee7c7",
   "metadata": {
    "tags": []
   },
   "outputs": [],
   "source": [
    "# new_df_true_test[cols_left]"
   ]
  },
  {
   "cell_type": "code",
   "execution_count": 209,
   "id": "8b749d27-c787-4272-bea0-ef41e962482c",
   "metadata": {
    "tags": []
   },
   "outputs": [],
   "source": [
    "test_params = {'batch_size': INF_BATCH_SIZE,\n",
    "                'shuffle': False,\n",
    "                'num_workers': 0\n",
    "                }\n",
    "\n",
    "test = SentimentData_test(new_df_true_test, tokenizer, MAX_LEN)\n",
    "testing_loader = DataLoader(test, **test_params)"
   ]
  },
  {
   "cell_type": "code",
   "execution_count": 210,
   "id": "0a5c0817-552a-4d95-a07f-cfaef17f82d3",
   "metadata": {
    "tags": []
   },
   "outputs": [],
   "source": [
    "def test_label_generator(model, testing_loader):\n",
    "    model.eval()\n",
    "    n_correct = 0; n_wrong = 0; total = 0; tr_loss=0; nb_tr_steps=0; nb_tr_examples=0\n",
    "    output_list = []\n",
    "    with torch.no_grad():\n",
    "        for _, data in tqdm(enumerate(testing_loader, 0)):\n",
    "            ids = data['ids'].to(device, dtype = torch.long)\n",
    "            mask = data['mask'].to(device, dtype = torch.long)\n",
    "            token_type_ids = data['token_type_ids'].to(device, dtype=torch.long)\n",
    "            visual_feature = data['visual_feature'].to(device, dtype = torch.float)\n",
    "            gcn_bert_base = data['gcn_bert_base'].to(device, dtype = torch.float)\n",
    "            parsing1 = data['parsing1'].to(device, dtype = torch.float)\n",
    "            parsing2 = data['parsing2'].to(device, dtype = torch.float)\n",
    "            char_density = data['char_density'].to(device, dtype = torch.float)\n",
    "            char_number = data['char_number'].to(device, dtype = torch.float)\n",
    "            # pos_emb = data['pos_emb'].to(device, dtype = torch.float)\n",
    "            visual = data['visual'].to(device, dtype = torch.float)\n",
    "\n",
    "            # outputs = model(ids, mask, token_type_ids,visual_feature,char_density,char_number,parsing1,parsing2,gcn_bert_base,visual).squeeze()\n",
    "            outputs = model(ids, mask, token_type_ids,char_density,char_number, visual_feature,gcn_bert_base,parsing1,parsing2,visual)\n",
    "            \n",
    "            big_val, big_idx = torch.max(outputs.data, dim=1)\n",
    "            output_list = output_list + list(big_idx)\n",
    "\n",
    "            nb_tr_steps += 1\n",
    "            \n",
    "    return output_list\n"
   ]
  },
  {
   "cell_type": "code",
   "execution_count": 211,
   "id": "f3fb8fcd-a2ea-4140-8588-61efb2230b48",
   "metadata": {
    "tags": []
   },
   "outputs": [
    {
     "name": "stderr",
     "output_type": "stream",
     "text": [
      "0it [00:00, ?it/s]/Users/shashanksahoo/miniconda3/envs/gpt-LLM/lib/python3.9/site-packages/transformers/tokenization_utils_base.py:2137: FutureWarning: The `pad_to_max_length` argument is deprecated and will be removed in a future version, use `padding=True` or `padding='longest'` to pad to the longest sequence in the batch, or use `padding='max_length'` to pad to a max length. In this case, you can give a specific length with `max_length` (e.g. `max_length=45`) or leave max_length to None to pad to the maximal input size of the model (e.g. 512 for Bert).\n",
      "  warnings.warn(\n",
      "165it [00:15, 10.50it/s]\n"
     ]
    }
   ],
   "source": [
    "output = test_label_generator(model_test, testing_loader)"
   ]
  },
  {
   "cell_type": "code",
   "execution_count": 212,
   "id": "de8601cf-82c2-428c-ad30-5df92554592d",
   "metadata": {
    "tags": []
   },
   "outputs": [
    {
     "name": "stdout",
     "output_type": "stream",
     "text": [
      "[2, 0, 0, 2, 2, 2, 3, 1, 3, 0, 2, 2, 3, 2, 2, 2, 3, 2, 2, 2, 2, 3, 3, 3, 0, 0, 3, 3, 0, 0, 3, 0, 3, 0, 3, 0, 0, 2, 2, 2, 3, 0, 2, 0, 3, 2, 3, 3, 0, 0, 3, 3, 3, 3, 2, 3, 2, 2, 2, 2, 3, 2, 2, 3, 3, 2, 3, 2, 3, 2, 2, 2, 2, 2, 3, 2, 2, 2, 2, 1, 3, 2, 0, 2, 2, 2, 2, 2, 3, 2, 2, 3, 3, 3, 2, 2, 3, 2, 2, 3, 2, 2, 2, 2, 2, 2, 2, 3, 2, 3, 2, 2, 3, 2, 2, 2, 3, 2, 0, 2, 2, 2, 2, 3, 2, 2, 3, 3, 2, 2, 2, 2, 3, 2, 3, 0, 3, 2, 3, 3, 2, 3, 2, 2, 2, 2, 2, 2, 2, 3, 2, 2, 2, 3, 2, 2, 2, 0, 2, 0, 2, 2, 3, 0, 2]\n"
     ]
    }
   ],
   "source": [
    "# Get the predicted category id for selected test dataset.\n",
    "q = []\n",
    "for p in output:\n",
    "  q.append(p.cpu().numpy().tolist())\n",
    "print(q)"
   ]
  },
  {
   "cell_type": "code",
   "execution_count": 213,
   "id": "d4eb663b-9f09-4b24-80cc-a6155e28ad93",
   "metadata": {},
   "outputs": [],
   "source": [
    "# # getting the actual labels\n",
    "# p = new_df_test['label'].tolist()"
   ]
  },
  {
   "cell_type": "code",
   "execution_count": null,
   "id": "21ebdc37-a94c-4148-8ba5-1ae0a99023be",
   "metadata": {},
   "outputs": [],
   "source": []
  },
  {
   "cell_type": "code",
   "execution_count": 214,
   "id": "fbaeb3d5-2034-4d94-b8c4-c92ae6f3b966",
   "metadata": {
    "tags": []
   },
   "outputs": [
    {
     "data": {
      "image/png": "[encoded data removed]",
      "text/plain": [
       "<PIL.Image.Image image mode=RGB size=754x1000>"
      ]
     },
     "execution_count": 214,
     "metadata": {},
     "output_type": "execute_result"
    }
   ],
   "source": [
    "from PIL import ImageDraw, ImageFont\n",
    "\n",
    "draw = ImageDraw.Draw(inf_image)\n",
    "\n",
    "font = ImageFont.load_default()\n",
    "\n",
    "iob_to_label = {3:'question', 0: 'answer', 2: 'other', 1: 'header'}\n",
    "label2color = {'question':'blue', 'answer':'green', 'header':'orange', 'other':'violet'}\n",
    "\n",
    "for prediction, box in zip(q, actual_boxes):\n",
    "    predicted_label = iob_to_label[prediction]\n",
    "    draw.rectangle(box, outline=label2color[predicted_label])\n",
    "    draw.text((box[0] + 10, box[1] - 10), text=predicted_label, fill=label2color[predicted_label], font=font)\n",
    "\n",
    "inf_image"
   ]
  },
  {
   "cell_type": "code",
   "execution_count": null,
   "id": "10c3339e-5720-4436-b126-548831a26062",
   "metadata": {},
   "outputs": [],
   "source": []
  }
 ],
 "metadata": {
  "kernelspec": {
   "display_name": "Python 3 (ipykernel)",
   "language": "python",
   "name": "python3"
  },
  "language_info": {
   "codemirror_mode": {
    "name": "ipython",
    "version": 3
   },
   "file_extension": ".py",
   "mimetype": "text/x-python",
   "name": "python",
   "nbconvert_exporter": "python",
   "pygments_lexer": "ipython3",
   "version": "3.9.16"
  }
 },
 "nbformat": 4,
 "nbformat_minor": 5
}
