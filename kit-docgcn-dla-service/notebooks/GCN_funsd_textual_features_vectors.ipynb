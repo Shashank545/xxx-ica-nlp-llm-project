{
 "cells": [
  {
   "cell_type": "code",
   "execution_count": 1,
   "id": "401d1b88-8c83-435c-a294-e0790bdc687b",
   "metadata": {
    "tags": []
   },
   "outputs": [],
   "source": [
    "# Importing the libraries needed\n",
    "import pandas as pd\n",
    "import numpy as np\n",
    "from sklearn.model_selection import train_test_split\n",
    "import torch\n",
    "import seaborn as sns\n",
    "import transformers\n",
    "import json\n",
    "from tqdm import tqdm\n",
    "from torch.utils.data import Dataset, DataLoader\n",
    "from transformers import AutoTokenizer, AutoModel\n",
    "#from transformers.configuration_bert import BertConfig\n",
    "import logging\n",
    "logging.basicConfig(level=logging.ERROR)"
   ]
  },
  {
   "cell_type": "code",
   "execution_count": 2,
   "id": "ff702179-8880-48da-95d8-7379126ebf2c",
   "metadata": {
    "tags": []
   },
   "outputs": [
    {
     "name": "stdout",
     "output_type": "stream",
     "text": [
      "/Users/shashanksahoo/Documents/KIT_Projects_2022/ICA_project_2023/kit-docgcn-dla-service/notebooks\n"
     ]
    }
   ],
   "source": [
    "!pwd"
   ]
  },
  {
   "cell_type": "code",
   "execution_count": 4,
   "id": "5a8fa4b3-ba2f-4a2d-806e-29ecbd7612ec",
   "metadata": {
    "tags": []
   },
   "outputs": [],
   "source": [
    "import os\n",
    "os.chdir('../py-bottom-up-attention')"
   ]
  },
  {
   "cell_type": "code",
   "execution_count": 5,
   "id": "bbdb7b49-2b6e-46c1-b2bc-f318e9840c44",
   "metadata": {
    "tags": []
   },
   "outputs": [
    {
     "name": "stdout",
     "output_type": "stream",
     "text": [
      "149\n"
     ]
    }
   ],
   "source": [
    "import os\n",
    "train_file_list = os.listdir('../data/training_data/annotations')\n",
    "print(len(train_file_list))\n",
    "training_list = []\n",
    "for i in train_file_list:\n",
    "  path = '../data/training_data/annotations/'+i\n",
    "  with open(path) as f:\n",
    "    d = json.load(f)\n",
    "    for x in d['form']:\n",
    "      training_list.append(x)"
   ]
  },
  {
   "cell_type": "code",
   "execution_count": 6,
   "id": "53226f63-cb14-4ba5-927b-89e9db509391",
   "metadata": {
    "tags": []
   },
   "outputs": [
    {
     "name": "stdout",
     "output_type": "stream",
     "text": [
      "50\n"
     ]
    }
   ],
   "source": [
    "import os\n",
    "test_file_list = os.listdir('../data/testing_data/annotations')\n",
    "print(len(test_file_list))\n",
    "test_list = []\n",
    "for i in test_file_list:\n",
    "  path = '../data/testing_data/annotations/'+i\n",
    "  with open(path) as f:\n",
    "    d = json.load(f)\n",
    "    for x in d['form']:\n",
    "      test_list.append(x)"
   ]
  },
  {
   "cell_type": "code",
   "execution_count": 40,
   "id": "9e87e620-c26d-4ea4-aff4-c1bd4caa201e",
   "metadata": {
    "tags": []
   },
   "outputs": [
    {
     "data": {
      "text/plain": [
       "[{'box': [394, 145, 433, 162],\n",
       "  'text': 'ITEM:',\n",
       "  'label': 'question',\n",
       "  'words': [{'box': [394, 145, 433, 162], 'text': 'ITEM:'}],\n",
       "  'linking': [[0, 15]],\n",
       "  'id': 0},\n",
       " {'box': [109, 112, 151, 129],\n",
       "  'text': 'DATE:',\n",
       "  'label': 'question',\n",
       "  'words': [{'box': [109, 112, 151, 129], 'text': 'DATE:'}],\n",
       "  'linking': [[1, 13]],\n",
       "  'id': 1},\n",
       " {'box': [110, 140, 159, 155],\n",
       "  'text': 'BRAND:',\n",
       "  'label': 'question',\n",
       "  'words': [{'box': [110, 140, 159, 155], 'text': 'BRAND:'}],\n",
       "  'linking': [[2, 14]],\n",
       "  'id': 2},\n",
       " {'box': [109, 183, 168, 198],\n",
       "  'text': 'SUMMARY',\n",
       "  'label': 'question',\n",
       "  'words': [{'box': [109, 183, 168, 198], 'text': 'SUMMARY'}],\n",
       "  'linking': [],\n",
       "  'id': 3},\n",
       " {'box': [175, 184, 193, 195],\n",
       "  'text': 'OF',\n",
       "  'label': 'question',\n",
       "  'words': [{'box': [175, 184, 193, 195], 'text': 'OF'}],\n",
       "  'linking': [],\n",
       "  'id': 4}]"
      ]
     },
     "execution_count": 40,
     "metadata": {},
     "output_type": "execute_result"
    }
   ],
   "source": [
    "training_list[:5]"
   ]
  },
  {
   "cell_type": "code",
   "execution_count": 8,
   "id": "e98b8924-e404-4780-bb07-b68fcc07157c",
   "metadata": {
    "tags": []
   },
   "outputs": [
    {
     "data": {
      "text/plain": [
       "[{'box': [103, 268, 131, 282],\n",
       "  'text': 'Date:',\n",
       "  'label': 'question',\n",
       "  'words': [{'box': [103, 268, 131, 282], 'text': 'Date:'}],\n",
       "  'linking': [[0, 20]],\n",
       "  'id': 0},\n",
       " {'box': [102, 297, 120, 311],\n",
       "  'text': 'To:',\n",
       "  'label': 'question',\n",
       "  'words': [{'box': [102, 297, 120, 311], 'text': 'To:'}],\n",
       "  'linking': [[1, 13]],\n",
       "  'id': 1},\n",
       " {'box': [103, 328, 159, 345],\n",
       "  'text': 'Company:',\n",
       "  'label': 'question',\n",
       "  'words': [{'box': [103, 328, 159, 345], 'text': 'Company:'}],\n",
       "  'linking': [[2, 5]],\n",
       "  'id': 2},\n",
       " {'box': [381, 297, 416, 314],\n",
       "  'text': 'From:',\n",
       "  'label': 'question',\n",
       "  'words': [{'box': [381, 297, 416, 314], 'text': 'From:'}],\n",
       "  'linking': [[3, 16]],\n",
       "  'id': 3},\n",
       " {'box': [563, 360, 574, 373],\n",
       "  'text': '3',\n",
       "  'label': 'answer',\n",
       "  'words': [{'box': [563, 360, 574, 373], 'text': '3'}],\n",
       "  'linking': [[15, 4]],\n",
       "  'id': 4}]"
      ]
     },
     "execution_count": 8,
     "metadata": {},
     "output_type": "execute_result"
    }
   ],
   "source": [
    "test_list[:5]"
   ]
  },
  {
   "cell_type": "code",
   "execution_count": 9,
   "id": "d6a89f8e-866b-427f-a0dc-2dceb7a57ae6",
   "metadata": {
    "tags": []
   },
   "outputs": [
    {
     "data": {
      "text/html": [
       "<div>\n",
       "<style scoped>\n",
       "    .dataframe tbody tr th:only-of-type {\n",
       "        vertical-align: middle;\n",
       "    }\n",
       "\n",
       "    .dataframe tbody tr th {\n",
       "        vertical-align: top;\n",
       "    }\n",
       "\n",
       "    .dataframe thead th {\n",
       "        text-align: right;\n",
       "    }\n",
       "</style>\n",
       "<table border=\"1\" class=\"dataframe\">\n",
       "  <thead>\n",
       "    <tr style=\"text-align: right;\">\n",
       "      <th></th>\n",
       "      <th>box</th>\n",
       "      <th>text</th>\n",
       "      <th>label</th>\n",
       "      <th>words</th>\n",
       "      <th>linking</th>\n",
       "      <th>id</th>\n",
       "    </tr>\n",
       "  </thead>\n",
       "  <tbody>\n",
       "    <tr>\n",
       "      <th>0</th>\n",
       "      <td>[394, 145, 433, 162]</td>\n",
       "      <td>ITEM:</td>\n",
       "      <td>question</td>\n",
       "      <td>[{'box': [394, 145, 433, 162], 'text': 'ITEM:'}]</td>\n",
       "      <td>[[0, 15]]</td>\n",
       "      <td>0</td>\n",
       "    </tr>\n",
       "    <tr>\n",
       "      <th>1</th>\n",
       "      <td>[109, 112, 151, 129]</td>\n",
       "      <td>DATE:</td>\n",
       "      <td>question</td>\n",
       "      <td>[{'box': [109, 112, 151, 129], 'text': 'DATE:'}]</td>\n",
       "      <td>[[1, 13]]</td>\n",
       "      <td>1</td>\n",
       "    </tr>\n",
       "    <tr>\n",
       "      <th>2</th>\n",
       "      <td>[110, 140, 159, 155]</td>\n",
       "      <td>BRAND:</td>\n",
       "      <td>question</td>\n",
       "      <td>[{'box': [110, 140, 159, 155], 'text': 'BRAND:'}]</td>\n",
       "      <td>[[2, 14]]</td>\n",
       "      <td>2</td>\n",
       "    </tr>\n",
       "    <tr>\n",
       "      <th>3</th>\n",
       "      <td>[109, 183, 168, 198]</td>\n",
       "      <td>SUMMARY</td>\n",
       "      <td>question</td>\n",
       "      <td>[{'box': [109, 183, 168, 198], 'text': 'SUMMAR...</td>\n",
       "      <td>[]</td>\n",
       "      <td>3</td>\n",
       "    </tr>\n",
       "    <tr>\n",
       "      <th>4</th>\n",
       "      <td>[175, 184, 193, 195]</td>\n",
       "      <td>OF</td>\n",
       "      <td>question</td>\n",
       "      <td>[{'box': [175, 184, 193, 195], 'text': 'OF'}]</td>\n",
       "      <td>[]</td>\n",
       "      <td>4</td>\n",
       "    </tr>\n",
       "    <tr>\n",
       "      <th>...</th>\n",
       "      <td>...</td>\n",
       "      <td>...</td>\n",
       "      <td>...</td>\n",
       "      <td>...</td>\n",
       "      <td>...</td>\n",
       "      <td>...</td>\n",
       "    </tr>\n",
       "    <tr>\n",
       "      <th>95</th>\n",
       "      <td>[84, 214, 143, 232]</td>\n",
       "      <td>Company</td>\n",
       "      <td>question</td>\n",
       "      <td>[{'box': [84, 214, 143, 232], 'text': 'Company'}]</td>\n",
       "      <td>[[1, 22]]</td>\n",
       "      <td>1</td>\n",
       "    </tr>\n",
       "    <tr>\n",
       "      <th>96</th>\n",
       "      <td>[601, 397, 640, 412]</td>\n",
       "      <td>DATE</td>\n",
       "      <td>question</td>\n",
       "      <td>[{'box': [601, 397, 640, 412], 'text': 'DATE'}]</td>\n",
       "      <td>[[2, 13]]</td>\n",
       "      <td>2</td>\n",
       "    </tr>\n",
       "    <tr>\n",
       "      <th>97</th>\n",
       "      <td>[412, 395, 493, 409]</td>\n",
       "      <td>SIGNATURE</td>\n",
       "      <td>question</td>\n",
       "      <td>[{'box': [412, 395, 493, 409], 'text': 'SIGNAT...</td>\n",
       "      <td>[[3, 34]]</td>\n",
       "      <td>3</td>\n",
       "    </tr>\n",
       "    <tr>\n",
       "      <th>98</th>\n",
       "      <td>[223, 395, 265, 410]</td>\n",
       "      <td>NAME</td>\n",
       "      <td>question</td>\n",
       "      <td>[{'box': [223, 395, 265, 410], 'text': 'NAME'}]</td>\n",
       "      <td>[[4, 32], [4, 33]]</td>\n",
       "      <td>4</td>\n",
       "    </tr>\n",
       "    <tr>\n",
       "      <th>99</th>\n",
       "      <td>[84, 429, 144, 444]</td>\n",
       "      <td>Originator</td>\n",
       "      <td>question</td>\n",
       "      <td>[{'box': [84, 429, 144, 444], 'text': 'Origina...</td>\n",
       "      <td>[[5, 32]]</td>\n",
       "      <td>5</td>\n",
       "    </tr>\n",
       "  </tbody>\n",
       "</table>\n",
       "<p>100 rows × 6 columns</p>\n",
       "</div>"
      ],
      "text/plain": [
       "                     box        text     label  \\\n",
       "0   [394, 145, 433, 162]       ITEM:  question   \n",
       "1   [109, 112, 151, 129]       DATE:  question   \n",
       "2   [110, 140, 159, 155]      BRAND:  question   \n",
       "3   [109, 183, 168, 198]     SUMMARY  question   \n",
       "4   [175, 184, 193, 195]          OF  question   \n",
       "..                   ...         ...       ...   \n",
       "95   [84, 214, 143, 232]     Company  question   \n",
       "96  [601, 397, 640, 412]        DATE  question   \n",
       "97  [412, 395, 493, 409]   SIGNATURE  question   \n",
       "98  [223, 395, 265, 410]        NAME  question   \n",
       "99   [84, 429, 144, 444]  Originator  question   \n",
       "\n",
       "                                                words             linking  id  \n",
       "0    [{'box': [394, 145, 433, 162], 'text': 'ITEM:'}]           [[0, 15]]   0  \n",
       "1    [{'box': [109, 112, 151, 129], 'text': 'DATE:'}]           [[1, 13]]   1  \n",
       "2   [{'box': [110, 140, 159, 155], 'text': 'BRAND:'}]           [[2, 14]]   2  \n",
       "3   [{'box': [109, 183, 168, 198], 'text': 'SUMMAR...                  []   3  \n",
       "4       [{'box': [175, 184, 193, 195], 'text': 'OF'}]                  []   4  \n",
       "..                                                ...                 ...  ..  \n",
       "95  [{'box': [84, 214, 143, 232], 'text': 'Company'}]           [[1, 22]]   1  \n",
       "96    [{'box': [601, 397, 640, 412], 'text': 'DATE'}]           [[2, 13]]   2  \n",
       "97  [{'box': [412, 395, 493, 409], 'text': 'SIGNAT...           [[3, 34]]   3  \n",
       "98    [{'box': [223, 395, 265, 410], 'text': 'NAME'}]  [[4, 32], [4, 33]]   4  \n",
       "99  [{'box': [84, 429, 144, 444], 'text': 'Origina...           [[5, 32]]   5  \n",
       "\n",
       "[100 rows x 6 columns]"
      ]
     },
     "execution_count": 9,
     "metadata": {},
     "output_type": "execute_result"
    }
   ],
   "source": [
    "from pandas import DataFrame\n",
    "df_train = DataFrame(training_list)\n",
    "df_train.head(100)"
   ]
  },
  {
   "cell_type": "code",
   "execution_count": 10,
   "id": "133e4126-9546-4a9f-a773-4dd419392ae6",
   "metadata": {
    "tags": []
   },
   "outputs": [
    {
     "data": {
      "text/plain": [
       "question    3266\n",
       "answer      2802\n",
       "other        902\n",
       "header       441\n",
       "Name: label, dtype: int64"
      ]
     },
     "execution_count": 10,
     "metadata": {},
     "output_type": "execute_result"
    }
   ],
   "source": [
    "df_train.label.value_counts()"
   ]
  },
  {
   "cell_type": "code",
   "execution_count": 11,
   "id": "dc5e280a-48cd-4c8d-a826-669327356e43",
   "metadata": {
    "tags": []
   },
   "outputs": [
    {
     "data": {
      "text/plain": [
       "0                                                ITEM:\n",
       "1                                                DATE:\n",
       "2                                               BRAND:\n",
       "3                                              SUMMARY\n",
       "4                                                   OF\n",
       "                             ...                      \n",
       "7406    Topline w/o 12 /18 /95 Final Report 12/ 31/ 95\n",
       "7407                                          $100 600\n",
       "7408                            Revised Costs (if any)\n",
       "7409                               Fieldwork Schedule:\n",
       "7410                                    A & G Research\n",
       "Name: text, Length: 7411, dtype: object"
      ]
     },
     "execution_count": 11,
     "metadata": {},
     "output_type": "execute_result"
    }
   ],
   "source": [
    "df_train.text"
   ]
  },
  {
   "cell_type": "code",
   "execution_count": 12,
   "id": "45dfe21e-5ac4-497b-abfb-e1a7bd861874",
   "metadata": {
    "tags": []
   },
   "outputs": [
    {
     "data": {
      "text/plain": [
       "box        0\n",
       "text       0\n",
       "label      0\n",
       "words      0\n",
       "linking    0\n",
       "id         0\n",
       "dtype: int64"
      ]
     },
     "execution_count": 12,
     "metadata": {},
     "output_type": "execute_result"
    }
   ],
   "source": [
    "df_train.isna().sum()"
   ]
  },
  {
   "cell_type": "code",
   "execution_count": 13,
   "id": "20616adc-a82e-4b11-9a16-0248c3fbc79c",
   "metadata": {
    "tags": []
   },
   "outputs": [
    {
     "data": {
      "text/html": [
       "<div>\n",
       "<style scoped>\n",
       "    .dataframe tbody tr th:only-of-type {\n",
       "        vertical-align: middle;\n",
       "    }\n",
       "\n",
       "    .dataframe tbody tr th {\n",
       "        vertical-align: top;\n",
       "    }\n",
       "\n",
       "    .dataframe thead th {\n",
       "        text-align: right;\n",
       "    }\n",
       "</style>\n",
       "<table border=\"1\" class=\"dataframe\">\n",
       "  <thead>\n",
       "    <tr style=\"text-align: right;\">\n",
       "      <th></th>\n",
       "      <th>box</th>\n",
       "      <th>text</th>\n",
       "      <th>label</th>\n",
       "      <th>words</th>\n",
       "      <th>linking</th>\n",
       "      <th>id</th>\n",
       "    </tr>\n",
       "  </thead>\n",
       "  <tbody>\n",
       "    <tr>\n",
       "      <th>0</th>\n",
       "      <td>[103, 268, 131, 282]</td>\n",
       "      <td>Date:</td>\n",
       "      <td>question</td>\n",
       "      <td>[{'box': [103, 268, 131, 282], 'text': 'Date:'}]</td>\n",
       "      <td>[[0, 20]]</td>\n",
       "      <td>0</td>\n",
       "    </tr>\n",
       "    <tr>\n",
       "      <th>1</th>\n",
       "      <td>[102, 297, 120, 311]</td>\n",
       "      <td>To:</td>\n",
       "      <td>question</td>\n",
       "      <td>[{'box': [102, 297, 120, 311], 'text': 'To:'}]</td>\n",
       "      <td>[[1, 13]]</td>\n",
       "      <td>1</td>\n",
       "    </tr>\n",
       "    <tr>\n",
       "      <th>2</th>\n",
       "      <td>[103, 328, 159, 345]</td>\n",
       "      <td>Company:</td>\n",
       "      <td>question</td>\n",
       "      <td>[{'box': [103, 328, 159, 345], 'text': 'Compan...</td>\n",
       "      <td>[[2, 5]]</td>\n",
       "      <td>2</td>\n",
       "    </tr>\n",
       "    <tr>\n",
       "      <th>3</th>\n",
       "      <td>[381, 297, 416, 314]</td>\n",
       "      <td>From:</td>\n",
       "      <td>question</td>\n",
       "      <td>[{'box': [381, 297, 416, 314], 'text': 'From:'}]</td>\n",
       "      <td>[[3, 16]]</td>\n",
       "      <td>3</td>\n",
       "    </tr>\n",
       "    <tr>\n",
       "      <th>4</th>\n",
       "      <td>[563, 360, 574, 373]</td>\n",
       "      <td>3</td>\n",
       "      <td>answer</td>\n",
       "      <td>[{'box': [563, 360, 574, 373], 'text': '3'}]</td>\n",
       "      <td>[[15, 4]]</td>\n",
       "      <td>4</td>\n",
       "    </tr>\n",
       "  </tbody>\n",
       "</table>\n",
       "</div>"
      ],
      "text/plain": [
       "                    box      text     label  \\\n",
       "0  [103, 268, 131, 282]     Date:  question   \n",
       "1  [102, 297, 120, 311]       To:  question   \n",
       "2  [103, 328, 159, 345]  Company:  question   \n",
       "3  [381, 297, 416, 314]     From:  question   \n",
       "4  [563, 360, 574, 373]         3    answer   \n",
       "\n",
       "                                               words    linking  id  \n",
       "0   [{'box': [103, 268, 131, 282], 'text': 'Date:'}]  [[0, 20]]   0  \n",
       "1     [{'box': [102, 297, 120, 311], 'text': 'To:'}]  [[1, 13]]   1  \n",
       "2  [{'box': [103, 328, 159, 345], 'text': 'Compan...   [[2, 5]]   2  \n",
       "3   [{'box': [381, 297, 416, 314], 'text': 'From:'}]  [[3, 16]]   3  \n",
       "4       [{'box': [563, 360, 574, 373], 'text': '3'}]  [[15, 4]]   4  "
      ]
     },
     "execution_count": 13,
     "metadata": {},
     "output_type": "execute_result"
    }
   ],
   "source": [
    "from pandas import DataFrame\n",
    "df_test = DataFrame(test_list)\n",
    "df_test.head()"
   ]
  },
  {
   "cell_type": "code",
   "execution_count": 14,
   "id": "6312ca2d-913b-480a-aa47-e5b218ca3335",
   "metadata": {
    "tags": []
   },
   "outputs": [
    {
     "data": {
      "text/plain": [
       "question    1077\n",
       "answer       821\n",
       "other        312\n",
       "header       122\n",
       "Name: label, dtype: int64"
      ]
     },
     "execution_count": 14,
     "metadata": {},
     "output_type": "execute_result"
    }
   ],
   "source": [
    "df_test.label.value_counts()"
   ]
  },
  {
   "cell_type": "code",
   "execution_count": 15,
   "id": "d1e91582-3c2a-40f0-8cf9-dc6460faac3f",
   "metadata": {
    "tags": []
   },
   "outputs": [
    {
     "data": {
      "text/plain": [
       "box        0\n",
       "text       0\n",
       "label      0\n",
       "words      0\n",
       "linking    0\n",
       "id         0\n",
       "dtype: int64"
      ]
     },
     "execution_count": 15,
     "metadata": {},
     "output_type": "execute_result"
    }
   ],
   "source": [
    "df_test.isna().sum()"
   ]
  },
  {
   "cell_type": "code",
   "execution_count": 16,
   "id": "3632140a-8b86-4fc0-bda1-044673c4f75b",
   "metadata": {
    "tags": []
   },
   "outputs": [],
   "source": [
    "text_list_train = df_train['text'].tolist()\n",
    "text_list_test = df_test['text'].tolist()"
   ]
  },
  {
   "cell_type": "code",
   "execution_count": 17,
   "id": "b372e1da-d581-45fc-a7fa-3311d743744e",
   "metadata": {
    "tags": []
   },
   "outputs": [
    {
     "data": {
      "text/plain": [
       "((7411, 6), (2332, 6))"
      ]
     },
     "execution_count": 17,
     "metadata": {},
     "output_type": "execute_result"
    }
   ],
   "source": [
    "df_train.shape, df_test.shape"
   ]
  },
  {
   "cell_type": "code",
   "execution_count": null,
   "id": "df5681e7-bf0f-491d-a2de-30ca7b20d15a",
   "metadata": {},
   "outputs": [],
   "source": []
  },
  {
   "cell_type": "code",
   "execution_count": 18,
   "id": "9a6d3fc4-3c88-486d-9c3c-9fd1330af542",
   "metadata": {
    "tags": []
   },
   "outputs": [],
   "source": [
    "# Added extra code here - DO NOT RUN\n",
    "from sklearn.preprocessing import LabelEncoder\n",
    "labelencoder = LabelEncoder()\n",
    "\n",
    "df_train['label'] = labelencoder.fit_transform(df_train['label'])\n",
    "df_test['label'] = labelencoder.fit_transform(df_test['label'])"
   ]
  },
  {
   "cell_type": "code",
   "execution_count": 19,
   "id": "a2a16971-772e-4d0c-988a-dc043fa7b807",
   "metadata": {
    "tags": []
   },
   "outputs": [
    {
     "data": {
      "text/plain": [
       "3    1077\n",
       "0     821\n",
       "2     312\n",
       "1     122\n",
       "Name: label, dtype: int64"
      ]
     },
     "execution_count": 19,
     "metadata": {},
     "output_type": "execute_result"
    }
   ],
   "source": [
    "# Added extra code here - DO NOT RUN\n",
    "df_test.label.value_counts()"
   ]
  },
  {
   "cell_type": "code",
   "execution_count": 20,
   "id": "c530b5ff-b3ea-4512-b043-5d93054f45b2",
   "metadata": {
    "tags": []
   },
   "outputs": [
    {
     "data": {
      "text/plain": [
       "3    3266\n",
       "0    2802\n",
       "2     902\n",
       "1     441\n",
       "Name: label, dtype: int64"
      ]
     },
     "execution_count": 20,
     "metadata": {},
     "output_type": "execute_result"
    }
   ],
   "source": [
    "# Added extra code here - DO NOT RUN\n",
    "df_train.label.value_counts()"
   ]
  },
  {
   "cell_type": "code",
   "execution_count": null,
   "id": "cca984c4-32c5-4393-9442-3e36dea0090f",
   "metadata": {},
   "outputs": [],
   "source": []
  },
  {
   "cell_type": "code",
   "execution_count": 21,
   "id": "744550a3-80e1-42c2-a17c-fa9b74f4c0a1",
   "metadata": {
    "tags": []
   },
   "outputs": [
    {
     "name": "stdout",
     "output_type": "stream",
     "text": [
      "cpu\n"
     ]
    }
   ],
   "source": [
    "# Setting up the device for GPU usage\n",
    "from torch import cuda\n",
    "device = 'cuda' if cuda.is_available() else 'cpu'\n",
    "print(device)"
   ]
  },
  {
   "cell_type": "code",
   "execution_count": 22,
   "id": "e2ba818e-00b9-4c2c-becc-bb918fa44dc0",
   "metadata": {
    "tags": []
   },
   "outputs": [],
   "source": [
    "from transformers import BertTokenizer\n",
    "import torch\n",
    "\n",
    "\n",
    "tokenizer = BertTokenizer.from_pretrained('bert-base-uncased')\n",
    "# Defining some key variables that will be used later on in the training\n",
    "MAX_LEN = 100\n",
    "TRAIN_BATCH_SIZE = 16\n",
    "VALID_BATCH_SIZE = TRAIN_BATCH_SIZE*2\n",
    "# EPOCHS = 1\n",
    "LEARNING_RATE = 2e-05\n",
    "# Change the pre-trained bert model\n",
    "#tokenizer = BertTokenizer.from_pretrained('roberta-base') #Cased "
   ]
  },
  {
   "cell_type": "code",
   "execution_count": 23,
   "id": "0f52e6cb-62b9-406a-a53f-9a82201edbc3",
   "metadata": {
    "tags": []
   },
   "outputs": [],
   "source": [
    "class SentimentData(Dataset):\n",
    "    def __init__(self, dataframe, tokenizer, max_len):\n",
    "        self.tokenizer = tokenizer\n",
    "        self.data = dataframe\n",
    "        self.text = dataframe.text\n",
    "        self.targets = self.data.label\n",
    "        self.max_len = max_len\n",
    "\n",
    "    def __len__(self):\n",
    "        return len(self.text)\n",
    "\n",
    "    def __getitem__(self, index):\n",
    "        text = str(self.text[index])\n",
    "        text = \" \".join(text.split())\n",
    "\n",
    "        inputs = self.tokenizer.encode_plus(\n",
    "            text,\n",
    "            None,\n",
    "            add_special_tokens=True,\n",
    "            max_length=self.max_len,\n",
    "            pad_to_max_length=True,\n",
    "            return_token_type_ids=True\n",
    "        )\n",
    "        ids = inputs['input_ids']\n",
    "        mask = inputs['attention_mask']\n",
    "        token_type_ids = inputs[\"token_type_ids\"]\n",
    "\n",
    "        return {\n",
    "            'ids': torch.tensor(ids, dtype=torch.long),\n",
    "            'mask': torch.tensor(mask, dtype=torch.long),\n",
    "            'token_type_ids': torch.tensor(token_type_ids, dtype=torch.long),\n",
    "            'targets': torch.tensor(self.targets[index], dtype=torch.float),\n",
    "        }"
   ]
  },
  {
   "cell_type": "code",
   "execution_count": 24,
   "id": "2cc2665c-d386-4afa-8e0e-c6685cebac4a",
   "metadata": {
    "tags": []
   },
   "outputs": [
    {
     "name": "stdout",
     "output_type": "stream",
     "text": [
      "FULL Dataset: (7411, 6)\n",
      "TRAIN Dataset: (7411, 6)\n",
      "TEST Dataset: (2332, 6)\n"
     ]
    }
   ],
   "source": [
    "train_size = 1\n",
    "train_data=df_train.sample(frac=train_size,random_state=200)\n",
    "train_data = train_data.reset_index(drop=True)\n",
    "\n",
    "test_size = 1\n",
    "test_data=df_test.sample(frac=test_size,random_state=200)\n",
    "test_data = test_data.reset_index(drop=True)\n",
    "\n",
    "\n",
    "print(\"FULL Dataset: {}\".format(df_train.shape))\n",
    "print(\"TRAIN Dataset: {}\".format(train_data.shape))\n",
    "print(\"TEST Dataset: {}\".format(test_data.shape))\n",
    "\n",
    "training_set = SentimentData(train_data, tokenizer, MAX_LEN)\n",
    "test_set = SentimentData(test_data, tokenizer, MAX_LEN)"
   ]
  },
  {
   "cell_type": "code",
   "execution_count": 25,
   "id": "91a55553-d4f7-425d-b4d6-bb4f10763be0",
   "metadata": {
    "tags": []
   },
   "outputs": [],
   "source": [
    "train_params = {'batch_size': TRAIN_BATCH_SIZE,\n",
    "                'shuffle': False,\n",
    "                'num_workers': 0\n",
    "                }\n",
    "training_loader = DataLoader(training_set, **train_params)\n",
    "\n",
    "\n",
    "test_params = {'batch_size': VALID_BATCH_SIZE,\n",
    "                'shuffle': False,\n",
    "                'num_workers': 0\n",
    "                }\n",
    "\n",
    "testing_loader = DataLoader(test_set, **test_params)"
   ]
  },
  {
   "cell_type": "code",
   "execution_count": 26,
   "id": "20afc951-2021-4fd0-b948-40f9a64ed684",
   "metadata": {
    "tags": []
   },
   "outputs": [],
   "source": [
    "class Feature_Extractor(torch.nn.Module):\n",
    "    def __init__(self):\n",
    "        super(Feature_Extractor, self).__init__()\n",
    "        #bert-base-cased 768\n",
    "        #bert-large-cased bert-large-uncased 1024\n",
    "        #roberta-base-cased 768\n",
    "        #biobert\n",
    "\n",
    "        self.l1 = AutoModel.from_pretrained('bert-base-uncased')# BERT large\n",
    "        self.pre_classifier = torch.nn.Linear(768, 768)\n",
    "\n",
    "    def forward(self,input_ids,attention_mask,token_type_ids):\n",
    "        output_1 = self.l1(input_ids=input_ids, attention_mask=attention_mask, token_type_ids=token_type_ids)\n",
    "        hidden_state = output_1[0]\n",
    "        pooler = hidden_state[:, 0]\n",
    "        \n",
    "        return pooler"
   ]
  },
  {
   "cell_type": "code",
   "execution_count": 27,
   "id": "4d196179-4510-4100-be41-066bc96e4730",
   "metadata": {
    "tags": []
   },
   "outputs": [],
   "source": [
    "model = Feature_Extractor()\n",
    "model.to(device)# Defining the training function on the 80% of the dataset for tuning the distilbert model\n",
    "\n",
    "def extracing(data_loader):\n",
    "    output = []\n",
    "    model.eval()\n",
    "    for _,data in tqdm(enumerate(data_loader, 0)):\n",
    "        ids = data['ids'].to(device, dtype = torch.long)\n",
    "        mask = data['mask'].to(device, dtype = torch.long)\n",
    "        token_type_ids = data['token_type_ids'].to(device, dtype = torch.long)\n",
    "        targets = data['targets'].to(device, dtype = torch.long)\n",
    "        outputs = model(ids, mask,token_type_ids)\n",
    "        output.extend(outputs.tolist())\n",
    "    return output\n"
   ]
  },
  {
   "cell_type": "code",
   "execution_count": 28,
   "id": "803ddd15-e9ea-4732-bc57-ddc7fe439e5f",
   "metadata": {
    "tags": []
   },
   "outputs": [
    {
     "name": "stderr",
     "output_type": "stream",
     "text": [
      "0it [00:00, ?it/s]Truncation was not explicitly activated but `max_length` is provided a specific value, please use `truncation=True` to explicitly truncate examples to max length. Defaulting to 'longest_first' truncation strategy. If you encode pairs of sequences (GLUE-style) with the tokenizer you can select this strategy more precisely by providing a specific strategy to `truncation`.\n",
      "/Users/shashanksahoo/miniconda3/envs/gpt-LLM/lib/python3.9/site-packages/transformers/tokenization_utils_base.py:2137: FutureWarning: The `pad_to_max_length` argument is deprecated and will be removed in a future version, use `padding=True` or `padding='longest'` to pad to the longest sequence in the batch, or use `padding='max_length'` to pad to a max length. In this case, you can give a specific length with `max_length` (e.g. `max_length=45`) or leave max_length to None to pad to the maximal input size of the model (e.g. 512 for Bert).\n",
      "  warnings.warn(\n",
      "464it [09:56,  1.29s/it]\n"
     ]
    }
   ],
   "source": [
    "train = extracing(training_loader)\n"
   ]
  },
  {
   "cell_type": "code",
   "execution_count": 30,
   "id": "811e2845-3fb1-4085-9f38-4a2e17e84763",
   "metadata": {
    "tags": []
   },
   "outputs": [
    {
     "name": "stderr",
     "output_type": "stream",
     "text": [
      "73it [03:12,  2.63s/it]\n"
     ]
    }
   ],
   "source": [
    "test = extracing(testing_loader)"
   ]
  },
  {
   "cell_type": "code",
   "execution_count": 31,
   "id": "6979a28f-e82d-4a45-846f-85a21ecfa124",
   "metadata": {
    "tags": []
   },
   "outputs": [
    {
     "data": {
      "text/plain": [
       "(7411, 2332)"
      ]
     },
     "execution_count": 31,
     "metadata": {},
     "output_type": "execute_result"
    }
   ],
   "source": [
    "len(train), len(test)"
   ]
  },
  {
   "cell_type": "code",
   "execution_count": 35,
   "id": "6c894380-95cc-4527-96a6-866c446a1360",
   "metadata": {
    "tags": []
   },
   "outputs": [
    {
     "data": {
      "text/plain": [
       "(768, 768)"
      ]
     },
     "execution_count": 35,
     "metadata": {},
     "output_type": "execute_result"
    }
   ],
   "source": [
    "len(train[0]), len(test[0])"
   ]
  },
  {
   "cell_type": "code",
   "execution_count": 38,
   "id": "f22cb57c-b661-45ba-adea-cb3f2e912e88",
   "metadata": {
    "tags": []
   },
   "outputs": [
    {
     "data": {
      "text/plain": [
       "'2.0.0'"
      ]
     },
     "execution_count": 38,
     "metadata": {},
     "output_type": "execute_result"
    }
   ],
   "source": [
    "torch.__version__"
   ]
  },
  {
   "cell_type": "code",
   "execution_count": 36,
   "id": "a0144c68-b905-4bf1-b0ed-41c9a912faa2",
   "metadata": {
    "tags": []
   },
   "outputs": [],
   "source": [
    "torch.save(model, '../models/funsd_bert_embedder_v3.pt')"
   ]
  },
  {
   "cell_type": "code",
   "execution_count": 37,
   "id": "145ee88d-d98d-4954-a781-ad97b07fde16",
   "metadata": {
    "collapsed": true,
    "jupyter": {
     "outputs_hidden": true
    },
    "tags": []
   },
   "outputs": [
    {
     "ename": "UnsupportedNodeError",
     "evalue": "try blocks aren't supported:\n  File \"/Users/shashanksahoo/miniconda3/envs/gpt-LLM/lib/python3.9/site-packages/transformers/modeling_utils.py\", line 148\n        device).\n        \"\"\"\n        try:\n        ~~~ <--- HERE\n            return next(self.parameters()).device\n        except StopIteration:\n",
     "output_type": "error",
     "traceback": [
      "\u001b[0;31m---------------------------------------------------------------------------\u001b[0m",
      "\u001b[0;31mUnsupportedNodeError\u001b[0m                      Traceback (most recent call last)",
      "Cell \u001b[0;32mIn[37], line 1\u001b[0m\n\u001b[0;32m----> 1\u001b[0m model_scripted \u001b[38;5;241m=\u001b[39m \u001b[43mtorch\u001b[49m\u001b[38;5;241;43m.\u001b[39;49m\u001b[43mjit\u001b[49m\u001b[38;5;241;43m.\u001b[39;49m\u001b[43mscript\u001b[49m\u001b[43m(\u001b[49m\u001b[43mmodel\u001b[49m\u001b[43m)\u001b[49m \u001b[38;5;66;03m# Export to TorchScript\u001b[39;00m\n\u001b[1;32m      2\u001b[0m model_scripted\u001b[38;5;241m.\u001b[39msave(\u001b[38;5;124m'\u001b[39m\u001b[38;5;124m../models/funsd_bert_embedder_v4.pt\u001b[39m\u001b[38;5;124m'\u001b[39m) \u001b[38;5;66;03m# Save\u001b[39;00m\n",
      "File \u001b[0;32m~/miniconda3/envs/gpt-LLM/lib/python3.9/site-packages/torch/jit/_script.py:1284\u001b[0m, in \u001b[0;36mscript\u001b[0;34m(obj, optimize, _frames_up, _rcb, example_inputs)\u001b[0m\n\u001b[1;32m   1282\u001b[0m \u001b[38;5;28;01mif\u001b[39;00m \u001b[38;5;28misinstance\u001b[39m(obj, torch\u001b[38;5;241m.\u001b[39mnn\u001b[38;5;241m.\u001b[39mModule):\n\u001b[1;32m   1283\u001b[0m     obj \u001b[38;5;241m=\u001b[39m call_prepare_scriptable_func(obj)\n\u001b[0;32m-> 1284\u001b[0m     \u001b[38;5;28;01mreturn\u001b[39;00m \u001b[43mtorch\u001b[49m\u001b[38;5;241;43m.\u001b[39;49m\u001b[43mjit\u001b[49m\u001b[38;5;241;43m.\u001b[39;49m\u001b[43m_recursive\u001b[49m\u001b[38;5;241;43m.\u001b[39;49m\u001b[43mcreate_script_module\u001b[49m\u001b[43m(\u001b[49m\n\u001b[1;32m   1285\u001b[0m \u001b[43m        \u001b[49m\u001b[43mobj\u001b[49m\u001b[43m,\u001b[49m\u001b[43m \u001b[49m\u001b[43mtorch\u001b[49m\u001b[38;5;241;43m.\u001b[39;49m\u001b[43mjit\u001b[49m\u001b[38;5;241;43m.\u001b[39;49m\u001b[43m_recursive\u001b[49m\u001b[38;5;241;43m.\u001b[39;49m\u001b[43minfer_methods_to_compile\u001b[49m\n\u001b[1;32m   1286\u001b[0m \u001b[43m    \u001b[49m\u001b[43m)\u001b[49m\n\u001b[1;32m   1288\u001b[0m \u001b[38;5;28;01mif\u001b[39;00m \u001b[38;5;28misinstance\u001b[39m(obj, \u001b[38;5;28mdict\u001b[39m):\n\u001b[1;32m   1289\u001b[0m     \u001b[38;5;28;01mreturn\u001b[39;00m create_script_dict(obj)\n",
      "File \u001b[0;32m~/miniconda3/envs/gpt-LLM/lib/python3.9/site-packages/torch/jit/_recursive.py:480\u001b[0m, in \u001b[0;36mcreate_script_module\u001b[0;34m(nn_module, stubs_fn, share_types, is_tracing)\u001b[0m\n\u001b[1;32m    478\u001b[0m \u001b[38;5;28;01mif\u001b[39;00m \u001b[38;5;129;01mnot\u001b[39;00m is_tracing:\n\u001b[1;32m    479\u001b[0m     AttributeTypeIsSupportedChecker()\u001b[38;5;241m.\u001b[39mcheck(nn_module)\n\u001b[0;32m--> 480\u001b[0m \u001b[38;5;28;01mreturn\u001b[39;00m \u001b[43mcreate_script_module_impl\u001b[49m\u001b[43m(\u001b[49m\u001b[43mnn_module\u001b[49m\u001b[43m,\u001b[49m\u001b[43m \u001b[49m\u001b[43mconcrete_type\u001b[49m\u001b[43m,\u001b[49m\u001b[43m \u001b[49m\u001b[43mstubs_fn\u001b[49m\u001b[43m)\u001b[49m\n",
      "File \u001b[0;32m~/miniconda3/envs/gpt-LLM/lib/python3.9/site-packages/torch/jit/_recursive.py:542\u001b[0m, in \u001b[0;36mcreate_script_module_impl\u001b[0;34m(nn_module, concrete_type, stubs_fn)\u001b[0m\n\u001b[1;32m    539\u001b[0m     script_module\u001b[38;5;241m.\u001b[39m_concrete_type \u001b[38;5;241m=\u001b[39m concrete_type\n\u001b[1;32m    541\u001b[0m \u001b[38;5;66;03m# Actually create the ScriptModule, initializing it with the function we just defined\u001b[39;00m\n\u001b[0;32m--> 542\u001b[0m script_module \u001b[38;5;241m=\u001b[39m \u001b[43mtorch\u001b[49m\u001b[38;5;241;43m.\u001b[39;49m\u001b[43mjit\u001b[49m\u001b[38;5;241;43m.\u001b[39;49m\u001b[43mRecursiveScriptModule\u001b[49m\u001b[38;5;241;43m.\u001b[39;49m\u001b[43m_construct\u001b[49m\u001b[43m(\u001b[49m\u001b[43mcpp_module\u001b[49m\u001b[43m,\u001b[49m\u001b[43m \u001b[49m\u001b[43minit_fn\u001b[49m\u001b[43m)\u001b[49m\n\u001b[1;32m    544\u001b[0m \u001b[38;5;66;03m# Compile methods if necessary\u001b[39;00m\n\u001b[1;32m    545\u001b[0m \u001b[38;5;28;01mif\u001b[39;00m concrete_type \u001b[38;5;129;01mnot\u001b[39;00m \u001b[38;5;129;01min\u001b[39;00m concrete_type_store\u001b[38;5;241m.\u001b[39mmethods_compiled:\n",
      "File \u001b[0;32m~/miniconda3/envs/gpt-LLM/lib/python3.9/site-packages/torch/jit/_script.py:614\u001b[0m, in \u001b[0;36mRecursiveScriptModule._construct\u001b[0;34m(cpp_module, init_fn)\u001b[0m\n\u001b[1;32m    601\u001b[0m \u001b[38;5;250m\u001b[39m\u001b[38;5;124;03m\"\"\"\u001b[39;00m\n\u001b[1;32m    602\u001b[0m \u001b[38;5;124;03mConstruct a RecursiveScriptModule that's ready for use. PyTorch\u001b[39;00m\n\u001b[1;32m    603\u001b[0m \u001b[38;5;124;03mcode should use this to construct a RecursiveScriptModule instead\u001b[39;00m\n\u001b[0;32m   (...)\u001b[0m\n\u001b[1;32m    611\u001b[0m \u001b[38;5;124;03m    init_fn:  Lambda that initializes the RecursiveScriptModule passed to it.\u001b[39;00m\n\u001b[1;32m    612\u001b[0m \u001b[38;5;124;03m\"\"\"\u001b[39;00m\n\u001b[1;32m    613\u001b[0m script_module \u001b[38;5;241m=\u001b[39m RecursiveScriptModule(cpp_module)\n\u001b[0;32m--> 614\u001b[0m \u001b[43minit_fn\u001b[49m\u001b[43m(\u001b[49m\u001b[43mscript_module\u001b[49m\u001b[43m)\u001b[49m\n\u001b[1;32m    616\u001b[0m \u001b[38;5;66;03m# Finalize the ScriptModule: replace the nn.Module state with our\u001b[39;00m\n\u001b[1;32m    617\u001b[0m \u001b[38;5;66;03m# custom implementations and flip the _initializing bit.\u001b[39;00m\n\u001b[1;32m    618\u001b[0m RecursiveScriptModule\u001b[38;5;241m.\u001b[39m_finalize_scriptmodule(script_module)\n",
      "File \u001b[0;32m~/miniconda3/envs/gpt-LLM/lib/python3.9/site-packages/torch/jit/_recursive.py:520\u001b[0m, in \u001b[0;36mcreate_script_module_impl.<locals>.init_fn\u001b[0;34m(script_module)\u001b[0m\n\u001b[1;32m    517\u001b[0m     scripted \u001b[38;5;241m=\u001b[39m orig_value\n\u001b[1;32m    518\u001b[0m \u001b[38;5;28;01melse\u001b[39;00m:\n\u001b[1;32m    519\u001b[0m     \u001b[38;5;66;03m# always reuse the provided stubs_fn to infer the methods to compile\u001b[39;00m\n\u001b[0;32m--> 520\u001b[0m     scripted \u001b[38;5;241m=\u001b[39m \u001b[43mcreate_script_module_impl\u001b[49m\u001b[43m(\u001b[49m\u001b[43morig_value\u001b[49m\u001b[43m,\u001b[49m\u001b[43m \u001b[49m\u001b[43msub_concrete_type\u001b[49m\u001b[43m,\u001b[49m\u001b[43m \u001b[49m\u001b[43mstubs_fn\u001b[49m\u001b[43m)\u001b[49m\n\u001b[1;32m    522\u001b[0m cpp_module\u001b[38;5;241m.\u001b[39msetattr(name, scripted)\n\u001b[1;32m    523\u001b[0m script_module\u001b[38;5;241m.\u001b[39m_modules[name] \u001b[38;5;241m=\u001b[39m scripted\n",
      "File \u001b[0;32m~/miniconda3/envs/gpt-LLM/lib/python3.9/site-packages/torch/jit/_recursive.py:493\u001b[0m, in \u001b[0;36mcreate_script_module_impl\u001b[0;34m(nn_module, concrete_type, stubs_fn)\u001b[0m\n\u001b[1;32m    491\u001b[0m cpp_module \u001b[38;5;241m=\u001b[39m torch\u001b[38;5;241m.\u001b[39m_C\u001b[38;5;241m.\u001b[39m_create_module_with_type(concrete_type\u001b[38;5;241m.\u001b[39mjit_type)\n\u001b[1;32m    492\u001b[0m method_stubs \u001b[38;5;241m=\u001b[39m stubs_fn(nn_module)\n\u001b[0;32m--> 493\u001b[0m property_stubs \u001b[38;5;241m=\u001b[39m \u001b[43mget_property_stubs\u001b[49m\u001b[43m(\u001b[49m\u001b[43mnn_module\u001b[49m\u001b[43m)\u001b[49m\n\u001b[1;32m    494\u001b[0m hook_stubs, pre_hook_stubs \u001b[38;5;241m=\u001b[39m get_hook_stubs(nn_module)\n\u001b[1;32m    496\u001b[0m user_annotated_ignored_attributes \u001b[38;5;241m=\u001b[39m \u001b[38;5;28mgetattr\u001b[39m(nn_module, \u001b[38;5;124m\"\u001b[39m\u001b[38;5;124m__jit_ignored_attributes__\u001b[39m\u001b[38;5;124m\"\u001b[39m, \u001b[38;5;28mlist\u001b[39m())\n",
      "File \u001b[0;32m~/miniconda3/envs/gpt-LLM/lib/python3.9/site-packages/torch/jit/_recursive.py:807\u001b[0m, in \u001b[0;36mget_property_stubs\u001b[0;34m(nn_module)\u001b[0m\n\u001b[1;32m    802\u001b[0m \u001b[38;5;250m\u001b[39m\u001b[38;5;124;03m\"\"\"\u001b[39;00m\n\u001b[1;32m    803\u001b[0m \u001b[38;5;124;03mCreate property stubs for the properties of the module by creating method\u001b[39;00m\n\u001b[1;32m    804\u001b[0m \u001b[38;5;124;03mstubs for the getter and setter.\u001b[39;00m\n\u001b[1;32m    805\u001b[0m \u001b[38;5;124;03m\"\"\"\u001b[39;00m\n\u001b[1;32m    806\u001b[0m module_ty \u001b[38;5;241m=\u001b[39m \u001b[38;5;28mtype\u001b[39m(nn_module)\n\u001b[0;32m--> 807\u001b[0m properties_asts \u001b[38;5;241m=\u001b[39m \u001b[43mget_class_properties\u001b[49m\u001b[43m(\u001b[49m\u001b[43mmodule_ty\u001b[49m\u001b[43m,\u001b[49m\u001b[43m \u001b[49m\u001b[43mself_name\u001b[49m\u001b[38;5;241;43m=\u001b[39;49m\u001b[38;5;124;43m\"\u001b[39;49m\u001b[38;5;124;43mRecursiveScriptModule\u001b[39;49m\u001b[38;5;124;43m\"\u001b[39;49m\u001b[43m)\u001b[49m\n\u001b[1;32m    808\u001b[0m rcbs \u001b[38;5;241m=\u001b[39m {}\n\u001b[1;32m    810\u001b[0m \u001b[38;5;28;01mfor\u001b[39;00m name \u001b[38;5;129;01min\u001b[39;00m \u001b[38;5;28mdir\u001b[39m(module_ty):\n",
      "File \u001b[0;32m~/miniconda3/envs/gpt-LLM/lib/python3.9/site-packages/torch/jit/frontend.py:165\u001b[0m, in \u001b[0;36mget_class_properties\u001b[0;34m(cls, self_name)\u001b[0m\n\u001b[1;32m    163\u001b[0m \u001b[38;5;28;01mfor\u001b[39;00m prop \u001b[38;5;129;01min\u001b[39;00m props:\n\u001b[1;32m    164\u001b[0m     \u001b[38;5;28;01mif\u001b[39;00m prop[\u001b[38;5;241m0\u001b[39m] \u001b[38;5;129;01mnot\u001b[39;00m \u001b[38;5;129;01min\u001b[39;00m unused_properties \u001b[38;5;129;01mand\u001b[39;00m \u001b[38;5;129;01mnot\u001b[39;00m should_drop(prop[\u001b[38;5;241m1\u001b[39m]\u001b[38;5;241m.\u001b[39mfget):\n\u001b[0;32m--> 165\u001b[0m         getter \u001b[38;5;241m=\u001b[39m \u001b[43mget_jit_def\u001b[49m\u001b[43m(\u001b[49m\u001b[43mprop\u001b[49m\u001b[43m[\u001b[49m\u001b[38;5;241;43m1\u001b[39;49m\u001b[43m]\u001b[49m\u001b[38;5;241;43m.\u001b[39;49m\u001b[43mfget\u001b[49m\u001b[43m,\u001b[49m\u001b[43m \u001b[49m\u001b[38;5;124;43mf\u001b[39;49m\u001b[38;5;124;43m\"\u001b[39;49m\u001b[38;5;124;43m__\u001b[39;49m\u001b[38;5;132;43;01m{\u001b[39;49;00m\u001b[43mprop\u001b[49m\u001b[43m[\u001b[49m\u001b[38;5;241;43m0\u001b[39;49m\u001b[43m]\u001b[49m\u001b[38;5;132;43;01m}\u001b[39;49;00m\u001b[38;5;124;43m_getter\u001b[39;49m\u001b[38;5;124;43m\"\u001b[39;49m\u001b[43m,\u001b[49m\u001b[43m \u001b[49m\u001b[43mself_name\u001b[49m\u001b[38;5;241;43m=\u001b[39;49m\u001b[43mself_name\u001b[49m\u001b[43m)\u001b[49m\n\u001b[1;32m    166\u001b[0m         setter \u001b[38;5;241m=\u001b[39m get_jit_def(prop[\u001b[38;5;241m1\u001b[39m]\u001b[38;5;241m.\u001b[39mfset, \u001b[38;5;124mf\u001b[39m\u001b[38;5;124m\"\u001b[39m\u001b[38;5;124m__\u001b[39m\u001b[38;5;132;01m{\u001b[39;00mprop[\u001b[38;5;241m0\u001b[39m]\u001b[38;5;132;01m}\u001b[39;00m\u001b[38;5;124m_setter\u001b[39m\u001b[38;5;124m\"\u001b[39m, self_name\u001b[38;5;241m=\u001b[39mself_name) \u001b[38;5;28;01mif\u001b[39;00m prop[\u001b[38;5;241m1\u001b[39m]\u001b[38;5;241m.\u001b[39mfset \u001b[38;5;28;01melse\u001b[39;00m \u001b[38;5;28;01mNone\u001b[39;00m\n\u001b[1;32m    167\u001b[0m         properties\u001b[38;5;241m.\u001b[39mappend(Property(getter\u001b[38;5;241m.\u001b[39mrange(), Ident(getter\u001b[38;5;241m.\u001b[39mrange(), prop[\u001b[38;5;241m0\u001b[39m]), getter, setter))\n",
      "File \u001b[0;32m~/miniconda3/envs/gpt-LLM/lib/python3.9/site-packages/torch/jit/frontend.py:297\u001b[0m, in \u001b[0;36mget_jit_def\u001b[0;34m(fn, def_name, self_name, is_classmethod)\u001b[0m\n\u001b[1;32m    294\u001b[0m     qualname \u001b[38;5;241m=\u001b[39m get_qualified_name(fn)\n\u001b[1;32m    295\u001b[0m     pdt_arg_types \u001b[38;5;241m=\u001b[39m type_trace_db\u001b[38;5;241m.\u001b[39mget_args_types(qualname)\n\u001b[0;32m--> 297\u001b[0m \u001b[38;5;28;01mreturn\u001b[39;00m \u001b[43mbuild_def\u001b[49m\u001b[43m(\u001b[49m\u001b[43mparsed_def\u001b[49m\u001b[38;5;241;43m.\u001b[39;49m\u001b[43mctx\u001b[49m\u001b[43m,\u001b[49m\u001b[43m \u001b[49m\u001b[43mfn_def\u001b[49m\u001b[43m,\u001b[49m\u001b[43m \u001b[49m\u001b[43mtype_line\u001b[49m\u001b[43m,\u001b[49m\u001b[43m \u001b[49m\u001b[43mdef_name\u001b[49m\u001b[43m,\u001b[49m\u001b[43m \u001b[49m\u001b[43mself_name\u001b[49m\u001b[38;5;241;43m=\u001b[39;49m\u001b[43mself_name\u001b[49m\u001b[43m,\u001b[49m\u001b[43m \u001b[49m\u001b[43mpdt_arg_types\u001b[49m\u001b[38;5;241;43m=\u001b[39;49m\u001b[43mpdt_arg_types\u001b[49m\u001b[43m)\u001b[49m\n",
      "File \u001b[0;32m~/miniconda3/envs/gpt-LLM/lib/python3.9/site-packages/torch/jit/frontend.py:348\u001b[0m, in \u001b[0;36mbuild_def\u001b[0;34m(ctx, py_def, type_line, def_name, self_name, pdt_arg_types)\u001b[0m\n\u001b[1;32m    343\u001b[0m     type_comment_decl \u001b[38;5;241m=\u001b[39m torch\u001b[38;5;241m.\u001b[39m_C\u001b[38;5;241m.\u001b[39mparse_type_comment(type_line)\n\u001b[1;32m    344\u001b[0m     decl \u001b[38;5;241m=\u001b[39m torch\u001b[38;5;241m.\u001b[39m_C\u001b[38;5;241m.\u001b[39mmerge_type_from_type_comment(decl, type_comment_decl, is_method)\n\u001b[1;32m    346\u001b[0m \u001b[38;5;28;01mreturn\u001b[39;00m Def(Ident(r, def_name),\n\u001b[1;32m    347\u001b[0m            decl,\n\u001b[0;32m--> 348\u001b[0m            \u001b[43mbuild_stmts\u001b[49m\u001b[43m(\u001b[49m\u001b[43mctx\u001b[49m\u001b[43m,\u001b[49m\u001b[43m \u001b[49m\u001b[43mbody\u001b[49m\u001b[43m)\u001b[49m)\n",
      "File \u001b[0;32m~/miniconda3/envs/gpt-LLM/lib/python3.9/site-packages/torch/jit/frontend.py:141\u001b[0m, in \u001b[0;36mbuild_stmts\u001b[0;34m(ctx, stmts)\u001b[0m\n\u001b[1;32m    140\u001b[0m \u001b[38;5;28;01mdef\u001b[39;00m \u001b[38;5;21mbuild_stmts\u001b[39m(ctx, stmts):\n\u001b[0;32m--> 141\u001b[0m     stmts \u001b[38;5;241m=\u001b[39m [build_stmt(ctx, s) \u001b[38;5;28;01mfor\u001b[39;00m s \u001b[38;5;129;01min\u001b[39;00m stmts]\n\u001b[1;32m    142\u001b[0m     \u001b[38;5;28;01mreturn\u001b[39;00m \u001b[38;5;28mlist\u001b[39m(\u001b[38;5;28mfilter\u001b[39m(\u001b[38;5;28;01mNone\u001b[39;00m, stmts))\n",
      "File \u001b[0;32m~/miniconda3/envs/gpt-LLM/lib/python3.9/site-packages/torch/jit/frontend.py:141\u001b[0m, in \u001b[0;36m<listcomp>\u001b[0;34m(.0)\u001b[0m\n\u001b[1;32m    140\u001b[0m \u001b[38;5;28;01mdef\u001b[39;00m \u001b[38;5;21mbuild_stmts\u001b[39m(ctx, stmts):\n\u001b[0;32m--> 141\u001b[0m     stmts \u001b[38;5;241m=\u001b[39m [\u001b[43mbuild_stmt\u001b[49m\u001b[43m(\u001b[49m\u001b[43mctx\u001b[49m\u001b[43m,\u001b[49m\u001b[43m \u001b[49m\u001b[43ms\u001b[49m\u001b[43m)\u001b[49m \u001b[38;5;28;01mfor\u001b[39;00m s \u001b[38;5;129;01min\u001b[39;00m stmts]\n\u001b[1;32m    142\u001b[0m     \u001b[38;5;28;01mreturn\u001b[39;00m \u001b[38;5;28mlist\u001b[39m(\u001b[38;5;28mfilter\u001b[39m(\u001b[38;5;28;01mNone\u001b[39;00m, stmts))\n",
      "File \u001b[0;32m~/miniconda3/envs/gpt-LLM/lib/python3.9/site-packages/torch/jit/frontend.py:319\u001b[0m, in \u001b[0;36mBuilder.__call__\u001b[0;34m(self, ctx, node)\u001b[0m\n\u001b[1;32m    317\u001b[0m method \u001b[38;5;241m=\u001b[39m \u001b[38;5;28mgetattr\u001b[39m(\u001b[38;5;28mself\u001b[39m, \u001b[38;5;124m'\u001b[39m\u001b[38;5;124mbuild_\u001b[39m\u001b[38;5;124m'\u001b[39m \u001b[38;5;241m+\u001b[39m node\u001b[38;5;241m.\u001b[39m\u001b[38;5;18m__class__\u001b[39m\u001b[38;5;241m.\u001b[39m\u001b[38;5;18m__name__\u001b[39m, \u001b[38;5;28;01mNone\u001b[39;00m)\n\u001b[1;32m    318\u001b[0m \u001b[38;5;28;01mif\u001b[39;00m method \u001b[38;5;129;01mis\u001b[39;00m \u001b[38;5;28;01mNone\u001b[39;00m:\n\u001b[0;32m--> 319\u001b[0m     \u001b[38;5;28;01mraise\u001b[39;00m UnsupportedNodeError(ctx, node)\n\u001b[1;32m    320\u001b[0m \u001b[38;5;28;01mreturn\u001b[39;00m method(ctx, node)\n",
      "\u001b[0;31mUnsupportedNodeError\u001b[0m: try blocks aren't supported:\n  File \"/Users/shashanksahoo/miniconda3/envs/gpt-LLM/lib/python3.9/site-packages/transformers/modeling_utils.py\", line 148\n        device).\n        \"\"\"\n        try:\n        ~~~ <--- HERE\n            return next(self.parameters()).device\n        except StopIteration:\n"
     ]
    }
   ],
   "source": [
    "model_scripted = torch.jit.script(model) # Export to TorchScript\n",
    "model_scripted.save('../models/funsd_bert_embedder_v4.pt') # Save"
   ]
  },
  {
   "cell_type": "code",
   "execution_count": 39,
   "id": "7db321bf-dd9f-4511-8893-8917c46cb2b2",
   "metadata": {
    "tags": []
   },
   "outputs": [],
   "source": [
    "torch.save(model.state_dict(), '../models/funsd_bert_embedder_v4.pt')"
   ]
  },
  {
   "cell_type": "code",
   "execution_count": 45,
   "id": "77ee050d-90f2-4b30-8413-1c055de83c67",
   "metadata": {
    "tags": []
   },
   "outputs": [],
   "source": [
    "import pickle\n",
    "with open('../funsd/textual_feature/funsd_train_bert_cls_emb.pkl','wb') as f:\n",
    "  pickle.dump(train,f)"
   ]
  },
  {
   "cell_type": "code",
   "execution_count": 46,
   "id": "d217fea4-9c6d-4cfa-897d-7c02dc6fb600",
   "metadata": {
    "tags": []
   },
   "outputs": [],
   "source": [
    "import pickle\n",
    "with open('../funsd/textual_feature/funsd_test_bert_cls_emb.pkl','wb') as f:\n",
    "  pickle.dump(test,f)"
   ]
  },
  {
   "cell_type": "code",
   "execution_count": 65,
   "id": "27590388-d2f4-4d9b-8910-7f0e0c3b6bd5",
   "metadata": {
    "tags": []
   },
   "outputs": [
    {
     "data": {
      "text/plain": [
       "Index(['box', 'text', 'label', 'words', 'linking', 'id'], dtype='object')"
      ]
     },
     "execution_count": 65,
     "metadata": {},
     "output_type": "execute_result"
    }
   ],
   "source": [
    "df_train.columns"
   ]
  },
  {
   "cell_type": "code",
   "execution_count": 66,
   "id": "6c60dc89-ce84-4287-9d76-c55d9352bf3d",
   "metadata": {
    "tags": []
   },
   "outputs": [
    {
     "data": {
      "text/plain": [
       "Index(['box', 'text', 'label', 'words', 'linking', 'id'], dtype='object')"
      ]
     },
     "execution_count": 66,
     "metadata": {},
     "output_type": "execute_result"
    }
   ],
   "source": [
    "df_test.columns"
   ]
  },
  {
   "cell_type": "code",
   "execution_count": 67,
   "id": "4c3abbfc-3c39-466b-bc41-9533ff987fb2",
   "metadata": {
    "tags": []
   },
   "outputs": [],
   "source": [
    "df_train['bert_large_emb'] = train"
   ]
  },
  {
   "cell_type": "code",
   "execution_count": 68,
   "id": "59ba62fa-a303-4936-9c2f-bc59deb771cf",
   "metadata": {
    "tags": []
   },
   "outputs": [],
   "source": [
    "df_test['bert_large_emb'] = test"
   ]
  },
  {
   "cell_type": "code",
   "execution_count": null,
   "id": "13f45625-cec1-47c8-99aa-f88aef248b32",
   "metadata": {},
   "outputs": [],
   "source": []
  },
  {
   "cell_type": "code",
   "execution_count": 69,
   "id": "062c6f46-8685-40e0-b0cb-b37d49bdaba6",
   "metadata": {
    "tags": []
   },
   "outputs": [],
   "source": [
    "import json \n",
    "with open(\"../data/funsd_full_feature_sg_train_positional_1.json\", \"r\") as fp:\n",
    "    train_list_dict = json.load(fp)\n",
    "    \n",
    "with open(\"../data/funsd_full_feature_sg_test_positional_1.json\", \"r\") as fp:\n",
    "    eval_list_dict = json.load(fp)"
   ]
  },
  {
   "cell_type": "code",
   "execution_count": 70,
   "id": "5dbf98ee-43ae-4e6b-8280-5ec360ec2142",
   "metadata": {
    "tags": []
   },
   "outputs": [
    {
     "data": {
      "text/plain": [
       "dict_keys(['92091873', '91939637', '87533049', '01073843', '92586242', '0012529284', '71341634', '0001477983', '91315069_91315070', '0060207528', '91161344_91161347', '71366499', '00922237', '91355841', '93380187', '01150773_01150774', '0060165115', '91914407', '92081358_1359', '660978', '0011974919', '81749056_9057', '00093726', '0000999294', '81186212', '0060077689', '87672097', '11875011', '00851772_1780', '0011859695', '81619511_9513', '0001456787', '81310636', '0060080406', '0011973451', '91104867', '00836244', '0001476912', '12052385', '0060255888', '71206427', '0012199830', '0001463448', '0000990274', '716552', '00920222', '0012529295', '80728670', '93213298', '71108371', '0001209043', '88057519', '01191071_1072', '00836816', '91361993', '92298125', '00040534', '0011838621', '0060029036', '0000989556', '0060024314', '0001129658', '0071032790', '00838511_00838525', '87682908', '0060214859', '00070353', '93351929_93351931', '0001438955', '81619486_9488', '00920294', '0000971160', '0012947358', '00865872', '91391286', '01122115', '01408099_01408101', '80310840a', '0012602424', '0071032807', '0060308251', '92094746', '0060302201', '0060094595', '71190280', '92433599_92433601', '0060091229', '89386032', '91974562', '92094751', '89817999_8002', '71601299', '00851879', '92039708_9710', '92657391', '80718412_8413', '00860012_00860014', '93329540', '0060068489', '12603270', '0060308461', '0060270727', '00837285', '91356315', '0011899960', '82254638', '0001118259', '0011906503', '91391310', '01197604', '80707440_7443', '11508234', '0011845203', '0060262650', '0060173256', '88547278_88547279', '0001123541', '81574683', '0001239897', '0011856542', '0060025670', '89867723', '0012178355', '91856041_6049', '93455715', '0011976929', '0060007216', '0001485288', '0001463282', '0030041455', '71202511', '92327794', '0060136394', '89368010', '92314414', '92657311_7313', '13149651', '91903177', '71563825', '00283813', '00866042', '0060036622', '0011505151', '0013255595', '0030031163', '91581919', '91372360', '12825369', '0060000813'])"
      ]
     },
     "execution_count": 70,
     "metadata": {},
     "output_type": "execute_result"
    }
   ],
   "source": [
    "train_list_dict.keys()"
   ]
  },
  {
   "cell_type": "code",
   "execution_count": 71,
   "id": "c5671c31-1df6-4e53-8bd3-77da147bf411",
   "metadata": {
    "tags": []
   },
   "outputs": [],
   "source": [
    "for l in train_list_dict:\n",
    "  for i, obj in enumerate(train_list_dict[l]['objects']):\n",
    "    train_list_dict[l]['objects'][obj]['bert_large_emb'] = train[i]\n",
    "    "
   ]
  },
  {
   "cell_type": "code",
   "execution_count": 72,
   "id": "9037b9c6-80f5-4780-8f9b-35cdce4a6516",
   "metadata": {
    "tags": []
   },
   "outputs": [],
   "source": [
    "for l in eval_list_dict:\n",
    "  for i, obj in enumerate(eval_list_dict[l]['objects']):\n",
    "    eval_list_dict[l]['objects'][obj]['bert_large_emb'] = test[i]\n",
    "    "
   ]
  },
  {
   "cell_type": "code",
   "execution_count": 73,
   "id": "f02af9f3-51ff-49b9-b928-dea4d8906bb3",
   "metadata": {
    "collapsed": true,
    "jupyter": {
     "outputs_hidden": true
    },
    "tags": []
   },
   "outputs": [
    {
     "data": {
      "text/plain": [
       "{'id': 1,\n",
       " 'box': [425, 130, 475, 145],\n",
       " 'category': 'question',\n",
       " 'text': 'Division',\n",
       " 'relations': {'0': {'id': 70, 'object': 0},\n",
       "  '1': {'id': 71, 'object': 2},\n",
       "  '2': {'id': 72, 'object': 3},\n",
       "  '3': {'id': 73, 'object': 4},\n",
       "  '4': {'id': 74, 'object': 5},\n",
       "  '5': {'id': 75, 'object': 6},\n",
       "  '6': {'id': 76, 'object': 7},\n",
       "  '7': {'id': 77, 'object': 8},\n",
       "  '8': {'id': 78, 'object': 9},\n",
       "  '9': {'id': 79, 'object': 10},\n",
       "  '10': {'id': 80, 'object': 11},\n",
       "  '11': {'id': 81, 'object': 12},\n",
       "  '12': {'id': 82, 'object': 13},\n",
       "  '13': {'id': 83, 'object': 14},\n",
       "  '14': {'id': 84, 'object': 15},\n",
       "  '15': {'id': 85, 'object': 16},\n",
       "  '16': {'id': 86, 'object': 17},\n",
       "  '17': {'id': 87, 'object': 18},\n",
       "  '18': {'id': 88, 'object': 19},\n",
       "  '19': {'id': 89, 'object': 20},\n",
       "  '20': {'id': 90, 'object': 21},\n",
       "  '21': {'id': 91, 'object': 22},\n",
       "  '22': {'id': 92, 'object': 23},\n",
       "  '23': {'id': 93, 'object': 24},\n",
       "  '24': {'id': 94, 'object': 25},\n",
       "  '25': {'id': 95, 'object': 26},\n",
       "  '26': {'id': 96, 'object': 27},\n",
       "  '27': {'id': 97, 'object': 28},\n",
       "  '28': {'id': 98, 'object': 29},\n",
       "  '29': {'id': 99, 'object': 30},\n",
       "  '30': {'id': 100, 'object': 31},\n",
       "  '31': {'id': 101, 'object': 32},\n",
       "  '32': {'id': 102, 'object': 33},\n",
       "  '33': {'id': 103, 'object': 34},\n",
       "  '34': {'id': 104, 'object': 35},\n",
       "  '35': {'id': 105, 'object': 36},\n",
       "  '36': {'id': 106, 'object': 37},\n",
       "  '37': {'id': 107, 'object': 38},\n",
       "  '38': {'id': 108, 'object': 39},\n",
       "  '39': {'id': 109, 'object': 40},\n",
       "  '40': {'id': 110, 'object': 41},\n",
       "  '41': {'id': 111, 'object': 42},\n",
       "  '42': {'id': 112, 'object': 43},\n",
       "  '43': {'id': 113, 'object': 44},\n",
       "  '44': {'id': 114, 'object': 45},\n",
       "  '45': {'id': 115, 'object': 46},\n",
       "  '46': {'id': 116, 'object': 47},\n",
       "  '47': {'id': 117, 'object': 48},\n",
       "  '48': {'id': 118, 'object': 49},\n",
       "  '49': {'id': 119, 'object': 50},\n",
       "  '50': {'id': 120, 'object': 51},\n",
       "  '51': {'id': 121, 'object': 52},\n",
       "  '52': {'id': 122, 'object': 53},\n",
       "  '53': {'id': 123, 'object': 54},\n",
       "  '54': {'id': 124, 'object': 55},\n",
       "  '55': {'id': 125, 'object': 56},\n",
       "  '56': {'id': 126, 'object': 57},\n",
       "  '57': {'id': 127, 'object': 58},\n",
       "  '58': {'id': 128, 'object': 59},\n",
       "  '59': {'id': 129, 'object': 60},\n",
       "  '60': {'id': 130, 'object': 61},\n",
       "  '61': {'id': 131, 'object': 62},\n",
       "  '62': {'id': 132, 'object': 63},\n",
       "  '63': {'id': 133, 'object': 64},\n",
       "  '64': {'id': 134, 'object': 65},\n",
       "  '65': {'id': 135, 'object': 66},\n",
       "  '66': {'id': 136, 'object': 67},\n",
       "  '67': {'id': 137, 'object': 68},\n",
       "  '68': {'id': 138, 'object': 69},\n",
       "  '69': {'id': 139, 'object': 70}},\n",
       " 'bert_large_emb': [-0.24348104000091553,\n",
       "  0.060652412474155426,\n",
       "  -0.1538461297750473,\n",
       "  -0.10082654654979706,\n",
       "  -0.3944999873638153,\n",
       "  -0.2516603171825409,\n",
       "  0.4892842769622803,\n",
       "  0.3337963819503784,\n",
       "  -0.22565513849258423,\n",
       "  -0.02277490869164467,\n",
       "  0.005371972918510437,\n",
       "  0.08948766440153122,\n",
       "  0.03797374293208122,\n",
       "  0.13598830997943878,\n",
       "  -0.023090291768312454,\n",
       "  0.07159943133592606,\n",
       "  -0.5244103670120239,\n",
       "  0.49461832642555237,\n",
       "  0.16569219529628754,\n",
       "  0.09390994161367416,\n",
       "  0.18408086895942688,\n",
       "  -0.4495895504951477,\n",
       "  -0.04392658919095993,\n",
       "  -0.47933706641197205,\n",
       "  -0.2010495364665985,\n",
       "  -0.12201658636331558,\n",
       "  0.05443990230560303,\n",
       "  -0.26827308535575867,\n",
       "  0.037418968975543976,\n",
       "  0.05867966264486313,\n",
       "  0.21050214767456055,\n",
       "  0.025479402393102646,\n",
       "  -0.2246895134449005,\n",
       "  0.07138655334711075,\n",
       "  0.43364405632019043,\n",
       "  -0.2584168314933777,\n",
       "  0.11467614769935608,\n",
       "  0.10896936058998108,\n",
       "  0.6392492055892944,\n",
       "  0.23499290645122528,\n",
       "  0.23299776017665863,\n",
       "  -0.06169237196445465,\n",
       "  0.557000458240509,\n",
       "  -0.12893818318843842,\n",
       "  0.0824936032295227,\n",
       "  -0.5798584222793579,\n",
       "  -2.1915547847747803,\n",
       "  0.07910826057195663,\n",
       "  -0.531749963760376,\n",
       "  -0.17302781343460083,\n",
       "  0.16959446668624878,\n",
       "  -0.1560361087322235,\n",
       "  0.20680932700634003,\n",
       "  0.38719555735588074,\n",
       "  -0.17278367280960083,\n",
       "  0.5411897301673889,\n",
       "  -0.29484814405441284,\n",
       "  0.518562912940979,\n",
       "  0.014903266914188862,\n",
       "  -0.0024637356400489807,\n",
       "  -0.06906171143054962,\n",
       "  0.13147446513175964,\n",
       "  -0.23041056096553802,\n",
       "  0.38846534490585327,\n",
       "  0.35420364141464233,\n",
       "  0.48477041721343994,\n",
       "  -0.20946048200130463,\n",
       "  0.29825443029403687,\n",
       "  -0.23039299249649048,\n",
       "  0.7270514369010925,\n",
       "  -0.3047623336315155,\n",
       "  -0.0882350504398346,\n",
       "  0.7492551803588867,\n",
       "  -0.004920467734336853,\n",
       "  0.09268315136432648,\n",
       "  -0.12276620417833328,\n",
       "  -0.04959268122911453,\n",
       "  0.1220373883843422,\n",
       "  0.008228976279497147,\n",
       "  -0.11065515875816345,\n",
       "  0.29395854473114014,\n",
       "  0.2441469430923462,\n",
       "  0.11576595157384872,\n",
       "  0.17559686303138733,\n",
       "  0.26952698826789856,\n",
       "  0.5931928753852844,\n",
       "  -0.3786391615867615,\n",
       "  -0.7152326107025146,\n",
       "  0.21339985728263855,\n",
       "  0.7158012390136719,\n",
       "  -0.16448424756526947,\n",
       "  -0.0675843209028244,\n",
       "  -0.05979771539568901,\n",
       "  0.3247090280056,\n",
       "  0.375644326210022,\n",
       "  -0.17767144739627838,\n",
       "  -0.004309576004743576,\n",
       "  0.12559257447719574,\n",
       "  0.2098464071750641,\n",
       "  0.07256285846233368,\n",
       "  0.2619840204715729,\n",
       "  0.20272845029830933,\n",
       "  -0.009522974491119385,\n",
       "  -0.3303890526294708,\n",
       "  -0.008265204727649689,\n",
       "  -0.09088203310966492,\n",
       "  -0.09886041283607483,\n",
       "  -0.2858395278453827,\n",
       "  0.12059289216995239,\n",
       "  -2.641603469848633,\n",
       "  0.34721431136131287,\n",
       "  0.15191274881362915,\n",
       "  -0.15019218623638153,\n",
       "  -0.16251064836978912,\n",
       "  -0.2757038176059723,\n",
       "  0.34011703729629517,\n",
       "  0.30078670382499695,\n",
       "  0.1048569530248642,\n",
       "  -0.05191487446427345,\n",
       "  0.45184096693992615,\n",
       "  -0.5707752704620361,\n",
       "  0.4845596253871918,\n",
       "  -0.5963819026947021,\n",
       "  -0.5040259957313538,\n",
       "  -0.103882797062397,\n",
       "  0.5300558805465698,\n",
       "  0.3762373924255371,\n",
       "  -0.16386470198631287,\n",
       "  0.6846982836723328,\n",
       "  0.24405914545059204,\n",
       "  0.17487969994544983,\n",
       "  0.43488311767578125,\n",
       "  -0.07505077123641968,\n",
       "  -0.30222299695014954,\n",
       "  -0.20708778500556946,\n",
       "  -0.02353714406490326,\n",
       "  0.5886937975883484,\n",
       "  0.276121586561203,\n",
       "  -0.2380422055721283,\n",
       "  -0.13695767521858215,\n",
       "  -0.5392518639564514,\n",
       "  -0.5314599871635437,\n",
       "  -3.607943534851074,\n",
       "  0.20903825759887695,\n",
       "  0.5147896409034729,\n",
       "  -0.07828187942504883,\n",
       "  0.000487741082906723,\n",
       "  0.1313779652118683,\n",
       "  0.19281330704689026,\n",
       "  -0.07131193578243256,\n",
       "  0.299980491399765,\n",
       "  -0.31018757820129395,\n",
       "  0.09226258844137192,\n",
       "  0.34584999084472656,\n",
       "  -0.5797023773193359,\n",
       "  0.10216133296489716,\n",
       "  -0.11662378907203674,\n",
       "  -0.1808793544769287,\n",
       "  0.21254956722259521,\n",
       "  0.15356570482254028,\n",
       "  0.2962550222873688,\n",
       "  -0.302810400724411,\n",
       "  0.13257595896720886,\n",
       "  -0.20649930834770203,\n",
       "  -0.18985916674137115,\n",
       "  0.13721591234207153,\n",
       "  -0.042093675583601,\n",
       "  0.3372766673564911,\n",
       "  -0.008584346622228622,\n",
       "  0.06084330752491951,\n",
       "  -0.290088951587677,\n",
       "  -0.11125436425209045,\n",
       "  -0.046328842639923096,\n",
       "  0.21496345102787018,\n",
       "  0.21911321580410004,\n",
       "  -0.08975112438201904,\n",
       "  -0.2604745328426361,\n",
       "  0.5449798703193665,\n",
       "  -0.05428418517112732,\n",
       "  0.1560966968536377,\n",
       "  0.19527468085289001,\n",
       "  0.24300682544708252,\n",
       "  0.128270223736763,\n",
       "  0.17544327676296234,\n",
       "  0.352792352437973,\n",
       "  -0.13463807106018066,\n",
       "  0.4758857786655426,\n",
       "  -0.03361007571220398,\n",
       "  0.03557433560490608,\n",
       "  0.193756103515625,\n",
       "  -0.34994077682495117,\n",
       "  -0.03459332883358002,\n",
       "  0.21546262502670288,\n",
       "  0.307826429605484,\n",
       "  0.24748732149600983,\n",
       "  0.2681059241294861,\n",
       "  0.016094693914055824,\n",
       "  -0.4464274048805237,\n",
       "  0.17123542726039886,\n",
       "  0.6576676368713379,\n",
       "  0.11093519628047943,\n",
       "  -0.2257116138935089,\n",
       "  -0.18376211822032928,\n",
       "  0.09951071441173553,\n",
       "  -0.46341589093208313,\n",
       "  3.632331609725952,\n",
       "  0.14697125554084778,\n",
       "  -0.24103783071041107,\n",
       "  0.4692930579185486,\n",
       "  0.0011380687355995178,\n",
       "  -0.0067014326341450214,\n",
       "  0.026059940457344055,\n",
       "  -0.1593039333820343,\n",
       "  -0.09831191599369049,\n",
       "  0.19804993271827698,\n",
       "  -0.14993363618850708,\n",
       "  0.354301393032074,\n",
       "  0.2175886332988739,\n",
       "  -0.2661379873752594,\n",
       "  0.21251502633094788,\n",
       "  0.14278489351272583,\n",
       "  0.11007669568061829,\n",
       "  -0.010617323219776154,\n",
       "  0.5067072510719299,\n",
       "  -0.16354884207248688,\n",
       "  -0.17918337881565094,\n",
       "  0.010713649913668633,\n",
       "  0.3612211048603058,\n",
       "  -0.2516160011291504,\n",
       "  -1.2146973609924316,\n",
       "  0.11981899291276932,\n",
       "  -0.02884376235306263,\n",
       "  -0.5254916548728943,\n",
       "  0.33982473611831665,\n",
       "  -0.4278377592563629,\n",
       "  -0.1584426760673523,\n",
       "  -0.0909927636384964,\n",
       "  -0.21891887485980988,\n",
       "  0.35457777976989746,\n",
       "  -0.049447618424892426,\n",
       "  0.22723929584026337,\n",
       "  0.31235694885253906,\n",
       "  -0.1173512265086174,\n",
       "  -0.2961413264274597,\n",
       "  -0.3593585193157196,\n",
       "  0.293813019990921,\n",
       "  0.25254887342453003,\n",
       "  -0.00471862405538559,\n",
       "  0.13290363550186157,\n",
       "  -0.3048684597015381,\n",
       "  0.4083554744720459,\n",
       "  0.031330518424510956,\n",
       "  0.1195409744977951,\n",
       "  -0.3872239887714386,\n",
       "  -0.12173470854759216,\n",
       "  0.10723165422677994,\n",
       "  0.3639710545539856,\n",
       "  0.3061891198158264,\n",
       "  -0.2494310587644577,\n",
       "  -0.020039964467287064,\n",
       "  -0.46408915519714355,\n",
       "  -0.11937666684389114,\n",
       "  0.4153403639793396,\n",
       "  -0.07228607684373856,\n",
       "  -0.40666112303733826,\n",
       "  -0.3588179349899292,\n",
       "  0.030302613973617554,\n",
       "  -0.21017897129058838,\n",
       "  0.057859547436237335,\n",
       "  -0.24098291993141174,\n",
       "  -0.25117743015289307,\n",
       "  0.1652822494506836,\n",
       "  -0.3329206705093384,\n",
       "  -4.229703903198242,\n",
       "  0.30951398611068726,\n",
       "  0.29058584570884705,\n",
       "  0.32037922739982605,\n",
       "  0.15739749372005463,\n",
       "  0.03196984529495239,\n",
       "  0.2890479564666748,\n",
       "  0.11875160038471222,\n",
       "  0.10962611436843872,\n",
       "  -0.18614566326141357,\n",
       "  0.34513431787490845,\n",
       "  0.07486765831708908,\n",
       "  -0.05962476134300232,\n",
       "  0.1215217337012291,\n",
       "  -0.32652607560157776,\n",
       "  0.23323756456375122,\n",
       "  0.03923660144209862,\n",
       "  -0.08710595965385437,\n",
       "  -0.22586825489997864,\n",
       "  -0.360536128282547,\n",
       "  0.4247959554195404,\n",
       "  0.3116483688354492,\n",
       "  -0.14737415313720703,\n",
       "  -0.228804811835289,\n",
       "  -0.20815104246139526,\n",
       "  -0.2967613935470581,\n",
       "  -0.6469575762748718,\n",
       "  -0.06420664489269257,\n",
       "  0.35023024678230286,\n",
       "  -0.20992565155029297,\n",
       "  -0.05002095550298691,\n",
       "  -0.31684014201164246,\n",
       "  0.32092300057411194,\n",
       "  -0.06765568256378174,\n",
       "  0.16788534820079803,\n",
       "  -2.2274580001831055,\n",
       "  0.16132664680480957,\n",
       "  -0.2358565777540207,\n",
       "  0.03330860286951065,\n",
       "  0.017345169559121132,\n",
       "  -0.3472040891647339,\n",
       "  0.2487240433692932,\n",
       "  -0.1583833545446396,\n",
       "  -0.09907722473144531,\n",
       "  0.04472486674785614,\n",
       "  0.06270091980695724,\n",
       "  0.07896667718887329,\n",
       "  -0.1419963836669922,\n",
       "  0.519540548324585,\n",
       "  0.17009606957435608,\n",
       "  0.6061487197875977,\n",
       "  0.2833603322505951,\n",
       "  0.2603864073753357,\n",
       "  0.192294180393219,\n",
       "  0.06813488900661469,\n",
       "  0.12312044203281403,\n",
       "  0.3467153012752533,\n",
       "  0.04636470228433609,\n",
       "  -0.409851998090744,\n",
       "  0.28526994585990906,\n",
       "  0.3461606800556183,\n",
       "  -0.28076615929603577,\n",
       "  -0.20428858697414398,\n",
       "  -0.5103060007095337,\n",
       "  -0.18239176273345947,\n",
       "  -0.014879528433084488,\n",
       "  0.08924662321805954,\n",
       "  0.03957730904221535,\n",
       "  -0.04963303729891777,\n",
       "  -0.5420534610748291,\n",
       "  -0.4996396005153656,\n",
       "  0.35113221406936646,\n",
       "  0.35804882645606995,\n",
       "  0.2873746156692505,\n",
       "  0.05029209330677986,\n",
       "  -0.14893575012683868,\n",
       "  0.8997393846511841,\n",
       "  0.053290970623493195,\n",
       "  0.4609111249446869,\n",
       "  0.3355320990085602,\n",
       "  -0.0981629490852356,\n",
       "  0.004645712673664093,\n",
       "  -0.43921542167663574,\n",
       "  0.13187050819396973,\n",
       "  0.07418188452720642,\n",
       "  -0.2998233437538147,\n",
       "  -0.4383389353752136,\n",
       "  0.9340664148330688,\n",
       "  0.025598015636205673,\n",
       "  0.1722731739282608,\n",
       "  -0.23641863465309143,\n",
       "  0.5001803040504456,\n",
       "  -0.10391919314861298,\n",
       "  0.5013219714164734,\n",
       "  0.0991658940911293,\n",
       "  0.6970422267913818,\n",
       "  -0.2986671030521393,\n",
       "  0.22245308756828308,\n",
       "  -0.2244383692741394,\n",
       "  0.32297050952911377,\n",
       "  -0.41096529364585876,\n",
       "  0.3490524888038635,\n",
       "  -0.5621762871742249,\n",
       "  -0.46068277955055237,\n",
       "  -0.05909845978021622,\n",
       "  0.06163276731967926,\n",
       "  0.0953761488199234,\n",
       "  -0.13833266496658325,\n",
       "  -0.6285802721977234,\n",
       "  -0.1121695414185524,\n",
       "  0.13259640336036682,\n",
       "  -0.27533283829689026,\n",
       "  0.22196611762046814,\n",
       "  0.2271738499403,\n",
       "  -0.18620595335960388,\n",
       "  0.19213777780532837,\n",
       "  0.2562878429889679,\n",
       "  -0.23811137676239014,\n",
       "  0.5268300771713257,\n",
       "  -0.4314115643501282,\n",
       "  0.20105114579200745,\n",
       "  0.08580048382282257,\n",
       "  0.26747146248817444,\n",
       "  -0.8004487156867981,\n",
       "  0.2998100519180298,\n",
       "  -0.20898106694221497,\n",
       "  0.1604788601398468,\n",
       "  -0.08789166063070297,\n",
       "  0.03917573019862175,\n",
       "  -0.3960241377353668,\n",
       "  -0.11707258224487305,\n",
       "  0.5463456511497498,\n",
       "  -1.238510251045227,\n",
       "  0.20088833570480347,\n",
       "  -0.6536957025527954,\n",
       "  -0.2970782220363617,\n",
       "  -0.39131665229797363,\n",
       "  -0.2003420740365982,\n",
       "  0.05949524790048599,\n",
       "  -0.35694295167922974,\n",
       "  -0.06254564225673676,\n",
       "  -0.13071247935295105,\n",
       "  0.43475693464279175,\n",
       "  -0.15281960368156433,\n",
       "  0.044820308685302734,\n",
       "  0.057694658637046814,\n",
       "  -0.010755995288491249,\n",
       "  -0.19449706375598907,\n",
       "  0.18106107413768768,\n",
       "  0.7658044695854187,\n",
       "  -0.2672716975212097,\n",
       "  -0.12866522371768951,\n",
       "  0.6910756230354309,\n",
       "  0.2164035141468048,\n",
       "  0.1372159868478775,\n",
       "  0.42922428250312805,\n",
       "  0.3673798739910126,\n",
       "  0.1099802702665329,\n",
       "  -0.3789938688278198,\n",
       "  -0.40398460626602173,\n",
       "  0.13832880556583405,\n",
       "  0.1977342963218689,\n",
       "  -0.4453645348548889,\n",
       "  -0.4879454970359802,\n",
       "  -0.009165026247501373,\n",
       "  -0.16243486106395721,\n",
       "  0.16532020270824432,\n",
       "  0.027935950085520744,\n",
       "  -0.7828283905982971,\n",
       "  0.01562642864882946,\n",
       "  -0.011345510371029377,\n",
       "  -0.19897505640983582,\n",
       "  0.26346898078918457,\n",
       "  0.31188151240348816,\n",
       "  -0.34450477361679077,\n",
       "  0.1682376116514206,\n",
       "  -0.1921723484992981,\n",
       "  -0.32752224802970886,\n",
       "  0.37171685695648193,\n",
       "  -0.32774630188941956,\n",
       "  0.462706595659256,\n",
       "  0.4603781998157501,\n",
       "  -0.084500253200531,\n",
       "  -0.18709683418273926,\n",
       "  0.29539042711257935,\n",
       "  0.13241872191429138,\n",
       "  -0.52250075340271,\n",
       "  0.02025618776679039,\n",
       "  -0.17319685220718384,\n",
       "  -0.03323221951723099,\n",
       "  -0.06238813325762749,\n",
       "  -0.3056088387966156,\n",
       "  -0.06323092430830002,\n",
       "  0.009859602898359299,\n",
       "  0.08225112408399582,\n",
       "  0.027089349925518036,\n",
       "  0.023813866078853607,\n",
       "  -1.3680379390716553,\n",
       "  0.3387986421585083,\n",
       "  0.26734277606010437,\n",
       "  -0.2154635488986969,\n",
       "  0.25398266315460205,\n",
       "  -0.11110565066337585,\n",
       "  -0.7892653346061707,\n",
       "  0.5621805787086487,\n",
       "  -0.03366377204656601,\n",
       "  0.35906705260276794,\n",
       "  -0.4226427674293518,\n",
       "  -0.11886745691299438,\n",
       "  0.05748235806822777,\n",
       "  -0.134563148021698,\n",
       "  0.18791790306568146,\n",
       "  0.2085379958152771,\n",
       "  0.24381804466247559,\n",
       "  -0.2766512334346771,\n",
       "  -0.15793435275554657,\n",
       "  -0.0006137620657682419,\n",
       "  -0.01663154549896717,\n",
       "  0.36760130524635315,\n",
       "  -0.018396364524960518,\n",
       "  -0.07482512295246124,\n",
       "  -0.15334464609622955,\n",
       "  -0.03602803498506546,\n",
       "  -0.1875133216381073,\n",
       "  0.506891131401062,\n",
       "  0.4089265465736389,\n",
       "  0.3417362570762634,\n",
       "  0.14088821411132812,\n",
       "  -0.42936569452285767,\n",
       "  -0.3924412727355957,\n",
       "  -0.0686020702123642,\n",
       "  0.06096635013818741,\n",
       "  0.46561098098754883,\n",
       "  0.09937383234500885,\n",
       "  -0.1620786339044571,\n",
       "  0.2605316638946533,\n",
       "  0.43505892157554626,\n",
       "  -0.07305625081062317,\n",
       "  0.4633326232433319,\n",
       "  0.28502944111824036,\n",
       "  -0.09135210514068604,\n",
       "  0.4758756756782532,\n",
       "  0.37719589471817017,\n",
       "  -0.3463466167449951,\n",
       "  0.24489332735538483,\n",
       "  0.26066821813583374,\n",
       "  -0.6219606995582581,\n",
       "  -0.33165526390075684,\n",
       "  -0.3343968391418457,\n",
       "  -0.43138065934181213,\n",
       "  -0.2802897095680237,\n",
       "  0.15540306270122528,\n",
       "  -0.16674932837486267,\n",
       "  0.08045142889022827,\n",
       "  -0.3210599720478058,\n",
       "  -0.1404930055141449,\n",
       "  -0.14696179330348969,\n",
       "  -0.07244781404733658,\n",
       "  0.0010490529239177704,\n",
       "  -0.20306386053562164,\n",
       "  0.38841283321380615,\n",
       "  -0.2269730567932129,\n",
       "  -0.4147285223007202,\n",
       "  0.05490871146321297,\n",
       "  0.04768531396985054,\n",
       "  -0.17474190890789032,\n",
       "  0.3027591109275818,\n",
       "  0.36933404207229614,\n",
       "  -0.04587522894144058,\n",
       "  -0.344825804233551,\n",
       "  0.2197096198797226,\n",
       "  -0.6670058965682983,\n",
       "  0.18409860134124756,\n",
       "  0.017176970839500427,\n",
       "  0.00017716269940137863,\n",
       "  0.420146644115448,\n",
       "  -0.31146249175071716,\n",
       "  0.06561607122421265,\n",
       "  -0.2467537224292755,\n",
       "  -0.48238351941108704,\n",
       "  0.2841607630252838,\n",
       "  0.2947821319103241,\n",
       "  -0.1450119912624359,\n",
       "  -0.014773348346352577,\n",
       "  -0.1777181625366211,\n",
       "  -0.265764057636261,\n",
       "  0.024658970534801483,\n",
       "  -0.570897102355957,\n",
       "  -0.4707501232624054,\n",
       "  0.42992380261421204,\n",
       "  -0.07690716534852982,\n",
       "  0.42774638533592224,\n",
       "  0.15184958279132843,\n",
       "  0.21949031949043274,\n",
       "  0.26412826776504517,\n",
       "  -0.15708966553211212,\n",
       "  0.006795038469135761,\n",
       "  -0.05135032534599304,\n",
       "  0.3015385568141937,\n",
       "  0.21931076049804688,\n",
       "  0.3915060758590698,\n",
       "  -0.020062381401658058,\n",
       "  0.3461188077926636,\n",
       "  0.490409791469574,\n",
       "  0.16964170336723328,\n",
       "  -0.4318726360797882,\n",
       "  -0.11100946366786957,\n",
       "  0.04316594824194908,\n",
       "  -0.027391351759433746,\n",
       "  -0.2183663249015808,\n",
       "  -0.17868870496749878,\n",
       "  0.2601132094860077,\n",
       "  -0.17550376057624817,\n",
       "  -0.03522356599569321,\n",
       "  -0.21465235948562622,\n",
       "  2.372983694076538,\n",
       "  0.6099708676338196,\n",
       "  -0.05441638082265854,\n",
       "  0.034973736852407455,\n",
       "  0.25083184242248535,\n",
       "  0.032943010330200195,\n",
       "  0.073072150349617,\n",
       "  0.1925249695777893,\n",
       "  -0.4203728139400482,\n",
       "  0.1877402514219284,\n",
       "  0.028507601469755173,\n",
       "  0.20019935071468353,\n",
       "  0.04905552417039871,\n",
       "  0.49252986907958984,\n",
       "  0.328479528427124,\n",
       "  0.3328417241573334,\n",
       "  -0.6067113876342773,\n",
       "  -0.41002777218818665,\n",
       "  -0.6392568945884705,\n",
       "  -0.08955544233322144,\n",
       "  -0.8658145666122437,\n",
       "  0.31105324625968933,\n",
       "  0.004030846059322357,\n",
       "  0.08264556527137756,\n",
       "  0.43491968512535095,\n",
       "  0.11532420665025711,\n",
       "  -0.1165408194065094,\n",
       "  -0.16845792531967163,\n",
       "  0.17564308643341064,\n",
       "  0.04401272162795067,\n",
       "  -0.05342605337500572,\n",
       "  0.22546978294849396,\n",
       "  0.062121275812387466,\n",
       "  0.10054528713226318,\n",
       "  -0.028698749840259552,\n",
       "  0.13340897858142853,\n",
       "  0.07851167023181915,\n",
       "  -0.4714537262916565,\n",
       "  -0.031376928091049194,\n",
       "  0.14616940915584564,\n",
       "  -0.031092576682567596,\n",
       "  -0.5990164875984192,\n",
       "  0.4517640471458435,\n",
       "  0.09511677175760269,\n",
       "  0.10594905912876129,\n",
       "  0.7082589864730835,\n",
       "  -0.12757816910743713,\n",
       "  -0.19486497342586517,\n",
       "  0.33263644576072693,\n",
       "  0.057755712419748306,\n",
       "  -0.13978064060211182,\n",
       "  -0.2564222514629364,\n",
       "  -0.3551996946334839,\n",
       "  0.15205030143260956,\n",
       "  -0.4026956260204315,\n",
       "  -0.18053960800170898,\n",
       "  0.12938973307609558,\n",
       "  0.18765296041965485,\n",
       "  0.0017149895429611206,\n",
       "  0.26530635356903076,\n",
       "  0.11894366890192032,\n",
       "  0.2831081449985504,\n",
       "  0.2610527575016022,\n",
       "  -0.5406509637832642,\n",
       "  -0.1350918412208557,\n",
       "  -0.1768335998058319,\n",
       "  -0.5759432315826416,\n",
       "  0.20099982619285583,\n",
       "  -0.031859494745731354,\n",
       "  -0.5109219551086426,\n",
       "  -0.005312718451023102,\n",
       "  -0.012650389224290848,\n",
       "  0.14914125204086304,\n",
       "  0.2190176546573639,\n",
       "  0.3229134678840637,\n",
       "  -0.4361766278743744,\n",
       "  0.00038392841815948486,\n",
       "  -0.11106046289205551,\n",
       "  -0.18446092307567596,\n",
       "  -3.3777215480804443,\n",
       "  0.17732025682926178,\n",
       "  -0.15012061595916748,\n",
       "  -0.008093034848570824,\n",
       "  0.17352159321308136,\n",
       "  -0.07695656269788742,\n",
       "  0.3525988757610321,\n",
       "  -0.13663581013679504,\n",
       "  0.26096993684768677,\n",
       "  -0.19704625010490417,\n",
       "  0.43789342045783997,\n",
       "  0.20924018323421478,\n",
       "  -0.019537683576345444,\n",
       "  0.21336975693702698,\n",
       "  0.18212011456489563,\n",
       "  0.2754688858985901,\n",
       "  -0.027394386008381844,\n",
       "  0.05923740193247795,\n",
       "  -0.0013409703969955444,\n",
       "  -0.3044474720954895,\n",
       "  -0.1509665846824646,\n",
       "  -0.033084601163864136,\n",
       "  -0.15979644656181335,\n",
       "  0.14150962233543396,\n",
       "  -0.41969043016433716,\n",
       "  0.28323495388031006,\n",
       "  0.18158569931983948,\n",
       "  -0.2977180480957031,\n",
       "  0.15492740273475647,\n",
       "  0.26224154233932495,\n",
       "  -0.12713831663131714,\n",
       "  0.25147297978401184,\n",
       "  0.15233753621578217,\n",
       "  0.2911679148674011,\n",
       "  0.2657492458820343,\n",
       "  -0.32400748133659363,\n",
       "  0.015461236238479614,\n",
       "  -0.058514028787612915,\n",
       "  0.43558457493782043,\n",
       "  0.17855337262153625,\n",
       "  -0.28714513778686523,\n",
       "  0.31570005416870117,\n",
       "  0.09726031124591827,\n",
       "  0.15645679831504822,\n",
       "  -0.0999082624912262,\n",
       "  0.1410466730594635,\n",
       "  0.31485801935195923,\n",
       "  -0.048011451959609985,\n",
       "  0.5322979092597961,\n",
       "  -0.3361051678657532,\n",
       "  -0.42820340394973755,\n",
       "  -0.038357023149728775,\n",
       "  -0.23274755477905273,\n",
       "  0.18801134824752808,\n",
       "  0.2095879465341568,\n",
       "  0.048858314752578735,\n",
       "  -0.04613813757896423,\n",
       "  0.14941272139549255,\n",
       "  -0.1678013652563095,\n",
       "  -0.19573909044265747,\n",
       "  -0.047314807772636414,\n",
       "  0.26562386751174927,\n",
       "  0.10386089980602264,\n",
       "  0.275954931974411,\n",
       "  0.3281955420970917,\n",
       "  -0.33833664655685425,\n",
       "  0.11352324485778809,\n",
       "  0.05987229198217392,\n",
       "  -0.23185120522975922,\n",
       "  0.19136974215507507,\n",
       "  -0.24432674050331116,\n",
       "  -0.19385388493537903,\n",
       "  0.4084203839302063,\n",
       "  0.1776554137468338,\n",
       "  -0.21724355220794678,\n",
       "  0.1341346651315689,\n",
       "  0.4920841157436371,\n",
       "  0.2745799422264099,\n",
       "  0.402457058429718,\n",
       "  0.04324629157781601,\n",
       "  0.08617313206195831,\n",
       "  -0.15240347385406494,\n",
       "  -0.17797139286994934,\n",
       "  0.2281174659729004,\n",
       "  0.3272967040538788,\n",
       "  -8.418959617614746,\n",
       "  -0.3384409248828888,\n",
       "  -0.5390532612800598,\n",
       "  -0.0625518187880516,\n",
       "  0.3102125823497772,\n",
       "  0.011163713410496712,\n",
       "  0.33246126770973206,\n",
       "  -0.00561898946762085,\n",
       "  0.30442675948143005,\n",
       "  -0.17042966187000275,\n",
       "  -0.09025989472866058,\n",
       "  -0.06585425138473511,\n",
       "  0.06489329040050507,\n",
       "  -0.3939228057861328,\n",
       "  0.15764139592647552,\n",
       "  0.6478383541107178]}"
      ]
     },
     "execution_count": 73,
     "metadata": {},
     "output_type": "execute_result"
    }
   ],
   "source": [
    "train_list_dict['92091873']['objects']['1']"
   ]
  },
  {
   "cell_type": "code",
   "execution_count": 74,
   "id": "9c652e92-8e3b-4ae4-80a2-9a914d05d7f1",
   "metadata": {
    "tags": []
   },
   "outputs": [],
   "source": [
    "import json \n",
    "with open(\"../data/funsd_full_feature_sg_train_positional_1_edited.json\", \"w\") as fp:\n",
    "    json.dump(train_list_dict, fp)\n",
    "    \n",
    "with open(\"../data/funsd_full_feature_sg_test_positional_1_edited.json\", \"w\") as fp:\n",
    "    json.dump(eval_list_dict, fp)"
   ]
  },
  {
   "cell_type": "code",
   "execution_count": null,
   "id": "8cf1e32e-169e-4777-8eda-c2515d7c5749",
   "metadata": {},
   "outputs": [],
   "source": []
  }
 ],
 "metadata": {
  "kernelspec": {
   "display_name": "Python 3 (ipykernel)",
   "language": "python",
   "name": "python3"
  },
  "language_info": {
   "codemirror_mode": {
    "name": "ipython",
    "version": 3
   },
   "file_extension": ".py",
   "mimetype": "text/x-python",
   "name": "python",
   "nbconvert_exporter": "python",
   "pygments_lexer": "ipython3",
   "version": "3.9.16"
  }
 },
 "nbformat": 4,
 "nbformat_minor": 5
}
