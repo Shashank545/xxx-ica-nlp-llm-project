{
 "cells": [
  {
   "cell_type": "code",
   "execution_count": 16,
   "id": "401d1b88-8c83-435c-a294-e0790bdc687b",
   "metadata": {
    "tags": []
   },
   "outputs": [],
   "source": [
    "# Importing the libraries needed\n",
    "import pandas as pd\n",
    "import numpy as np\n",
    "from sklearn.model_selection import train_test_split\n",
    "import torch\n",
    "import seaborn as sns\n",
    "import transformers\n",
    "import json\n",
    "from tqdm import tqdm\n",
    "from torch.utils.data import Dataset, DataLoader\n",
    "from transformers import AutoTokenizer, AutoModel\n",
    "#from transformers.configuration_bert import BertConfig\n",
    "import logging\n",
    "logging.basicConfig(level=logging.ERROR)"
   ]
  },
  {
   "cell_type": "code",
   "execution_count": 17,
   "id": "ff702179-8880-48da-95d8-7379126ebf2c",
   "metadata": {
    "tags": []
   },
   "outputs": [
    {
     "name": "stdout",
     "output_type": "stream",
     "text": [
      "/Users/shashanksahoo/Documents/KIT_Projects_2022/ICA_project_2023/kit-docgcn-dla-service/py-bottom-up-attention\n"
     ]
    }
   ],
   "source": [
    "!pwd"
   ]
  },
  {
   "cell_type": "code",
   "execution_count": 18,
   "id": "5a8fa4b3-ba2f-4a2d-806e-29ecbd7612ec",
   "metadata": {
    "tags": []
   },
   "outputs": [],
   "source": [
    "import os\n",
    "os.chdir('../py-bottom-up-attention')"
   ]
  },
  {
   "cell_type": "code",
   "execution_count": 19,
   "id": "961aee59-7ec5-4c67-9eec-b67f22e4e626",
   "metadata": {
    "tags": []
   },
   "outputs": [
    {
     "data": {
      "text/plain": [
       "'1.tar_1401.0001.gz_infoingames_without_metric_arxiv_0.json'"
      ]
     },
     "execution_count": 19,
     "metadata": {},
     "output_type": "execute_result"
    }
   ],
   "source": [
    "sorted(os.listdir('../docbank_data/docbank_training_data/annotations/'))[0]"
   ]
  },
  {
   "cell_type": "code",
   "execution_count": 10,
   "id": "f54e6463-0000-4b86-8069-e89d03238f05",
   "metadata": {
    "tags": []
   },
   "outputs": [
    {
     "data": {
      "text/plain": [
       "'120.tar_1805.00315.gz_HoI_aph_17.json'"
      ]
     },
     "execution_count": 10,
     "metadata": {},
     "output_type": "execute_result"
    }
   ],
   "source": [
    "os.listdir('../docbank_data/docbank_training_data/annotations/')[0]"
   ]
  },
  {
   "cell_type": "code",
   "execution_count": 21,
   "id": "bbdb7b49-2b6e-46c1-b2bc-f318e9840c44",
   "metadata": {
    "tags": []
   },
   "outputs": [
    {
     "name": "stdout",
     "output_type": "stream",
     "text": [
      "100096\n"
     ]
    },
    {
     "name": "stderr",
     "output_type": "stream",
     "text": [
      "100%|█████████████████████████████████████████████████████████████████████████████████████████████████████████████████████████████████████████████████████████████████████████████| 20/20 [00:00<00:00, 68.84it/s]\n"
     ]
    }
   ],
   "source": [
    "import os\n",
    "train_file_list = sorted(os.listdir('../docbank_data/docbank_training_data/annotations/'))\n",
    "print(len(train_file_list))\n",
    "training_list = []\n",
    "for i in tqdm(train_file_list[:20]):\n",
    "  path = '../docbank_data/docbank_training_data/annotations/'+i\n",
    "  with open(path) as f:\n",
    "    d = json.load(f)\n",
    "    for x in d:\n",
    "      training_list.append(x)"
   ]
  },
  {
   "cell_type": "code",
   "execution_count": 22,
   "id": "53226f63-cb14-4ba5-927b-89e9db509391",
   "metadata": {
    "tags": []
   },
   "outputs": [
    {
     "name": "stdout",
     "output_type": "stream",
     "text": [
      "26396\n"
     ]
    },
    {
     "name": "stderr",
     "output_type": "stream",
     "text": [
      "100%|████████████████████████████████████████████████████████████████████████████████████████████████████████████████████████████████████████████████████████████████████████████| 20/20 [00:00<00:00, 173.58it/s]\n"
     ]
    }
   ],
   "source": [
    "import os\n",
    "test_file_list = sorted(os.listdir('../docbank_data/docbank_testing_data/annotations/'))\n",
    "print(len(test_file_list))\n",
    "test_list = []\n",
    "for i in tqdm(test_file_list[:20]):\n",
    "  path = '../docbank_data/docbank_testing_data/annotations/'+i\n",
    "  with open(path) as f:\n",
    "    d = json.load(f)\n",
    "    for x in d:\n",
    "      test_list.append(x)"
   ]
  },
  {
   "cell_type": "code",
   "execution_count": 23,
   "id": "9e87e620-c26d-4ea4-aff4-c1bd4caa201e",
   "metadata": {
    "tags": []
   },
   "outputs": [
    {
     "data": {
      "text/plain": [
       "(12867, 10508)"
      ]
     },
     "execution_count": 23,
     "metadata": {},
     "output_type": "execute_result"
    }
   ],
   "source": [
    "len(training_list), len(test_list)"
   ]
  },
  {
   "cell_type": "code",
   "execution_count": 24,
   "id": "d6a89f8e-866b-427f-a0dc-2dceb7a57ae6",
   "metadata": {
    "tags": []
   },
   "outputs": [
    {
     "data": {
      "text/html": [
       "<div>\n",
       "<style scoped>\n",
       "    .dataframe tbody tr th:only-of-type {\n",
       "        vertical-align: middle;\n",
       "    }\n",
       "\n",
       "    .dataframe tbody tr th {\n",
       "        vertical-align: top;\n",
       "    }\n",
       "\n",
       "    .dataframe thead th {\n",
       "        text-align: right;\n",
       "    }\n",
       "</style>\n",
       "<table border=\"1\" class=\"dataframe\">\n",
       "  <thead>\n",
       "    <tr style=\"text-align: right;\">\n",
       "      <th></th>\n",
       "      <th>text</th>\n",
       "      <th>x0</th>\n",
       "      <th>y0</th>\n",
       "      <th>x1</th>\n",
       "      <th>y1</th>\n",
       "      <th>r</th>\n",
       "      <th>g</th>\n",
       "      <th>b</th>\n",
       "      <th>font_name</th>\n",
       "      <th>label</th>\n",
       "      <th>box</th>\n",
       "    </tr>\n",
       "  </thead>\n",
       "  <tbody>\n",
       "    <tr>\n",
       "      <th>0</th>\n",
       "      <td>Value</td>\n",
       "      <td>237</td>\n",
       "      <td>211</td>\n",
       "      <td>301</td>\n",
       "      <td>237</td>\n",
       "      <td>0</td>\n",
       "      <td>0</td>\n",
       "      <td>0</td>\n",
       "      <td>GJAZDJ+NimbusRomNo9L-Regu</td>\n",
       "      <td>title</td>\n",
       "      <td>[237, 211, 301, 237]</td>\n",
       "    </tr>\n",
       "    <tr>\n",
       "      <th>1</th>\n",
       "      <td>of</td>\n",
       "      <td>308</td>\n",
       "      <td>211</td>\n",
       "      <td>332</td>\n",
       "      <td>237</td>\n",
       "      <td>0</td>\n",
       "      <td>0</td>\n",
       "      <td>0</td>\n",
       "      <td>GJAZDJ+NimbusRomNo9L-Regu</td>\n",
       "      <td>title</td>\n",
       "      <td>[308, 211, 332, 237]</td>\n",
       "    </tr>\n",
       "    <tr>\n",
       "      <th>2</th>\n",
       "      <td>information</td>\n",
       "      <td>339</td>\n",
       "      <td>211</td>\n",
       "      <td>472</td>\n",
       "      <td>237</td>\n",
       "      <td>0</td>\n",
       "      <td>0</td>\n",
       "      <td>0</td>\n",
       "      <td>GJAZDJ+NimbusRomNo9L-Regu</td>\n",
       "      <td>title</td>\n",
       "      <td>[339, 211, 472, 237]</td>\n",
       "    </tr>\n",
       "    <tr>\n",
       "      <th>3</th>\n",
       "      <td>in</td>\n",
       "      <td>479</td>\n",
       "      <td>211</td>\n",
       "      <td>501</td>\n",
       "      <td>237</td>\n",
       "      <td>0</td>\n",
       "      <td>0</td>\n",
       "      <td>0</td>\n",
       "      <td>GJAZDJ+NimbusRomNo9L-Regu</td>\n",
       "      <td>title</td>\n",
       "      <td>[479, 211, 501, 237]</td>\n",
       "    </tr>\n",
       "    <tr>\n",
       "      <th>4</th>\n",
       "      <td>noncooperative</td>\n",
       "      <td>508</td>\n",
       "      <td>211</td>\n",
       "      <td>680</td>\n",
       "      <td>237</td>\n",
       "      <td>0</td>\n",
       "      <td>0</td>\n",
       "      <td>0</td>\n",
       "      <td>GJAZDJ+NimbusRomNo9L-Regu</td>\n",
       "      <td>title</td>\n",
       "      <td>[508, 211, 680, 237]</td>\n",
       "    </tr>\n",
       "    <tr>\n",
       "      <th>...</th>\n",
       "      <td>...</td>\n",
       "      <td>...</td>\n",
       "      <td>...</td>\n",
       "      <td>...</td>\n",
       "      <td>...</td>\n",
       "      <td>...</td>\n",
       "      <td>...</td>\n",
       "      <td>...</td>\n",
       "      <td>...</td>\n",
       "      <td>...</td>\n",
       "      <td>...</td>\n",
       "    </tr>\n",
       "    <tr>\n",
       "      <th>95</th>\n",
       "      <td>a</td>\n",
       "      <td>603</td>\n",
       "      <td>524</td>\n",
       "      <td>610</td>\n",
       "      <td>539</td>\n",
       "      <td>0</td>\n",
       "      <td>0</td>\n",
       "      <td>0</td>\n",
       "      <td>GJAZDJ+NimbusRomNo9L-Regu</td>\n",
       "      <td>abstract</td>\n",
       "      <td>[603, 524, 610, 539]</td>\n",
       "    </tr>\n",
       "    <tr>\n",
       "      <th>96</th>\n",
       "      <td>game</td>\n",
       "      <td>615</td>\n",
       "      <td>524</td>\n",
       "      <td>651</td>\n",
       "      <td>539</td>\n",
       "      <td>0</td>\n",
       "      <td>0</td>\n",
       "      <td>0</td>\n",
       "      <td>GJAZDJ+NimbusRomNo9L-Regu</td>\n",
       "      <td>abstract</td>\n",
       "      <td>[615, 524, 651, 539]</td>\n",
       "    </tr>\n",
       "    <tr>\n",
       "      <th>97</th>\n",
       "      <td>have</td>\n",
       "      <td>656</td>\n",
       "      <td>524</td>\n",
       "      <td>687</td>\n",
       "      <td>539</td>\n",
       "      <td>0</td>\n",
       "      <td>0</td>\n",
       "      <td>0</td>\n",
       "      <td>GJAZDJ+NimbusRomNo9L-Regu</td>\n",
       "      <td>abstract</td>\n",
       "      <td>[656, 524, 687, 539]</td>\n",
       "    </tr>\n",
       "    <tr>\n",
       "      <th>98</th>\n",
       "      <td>negative</td>\n",
       "      <td>692</td>\n",
       "      <td>524</td>\n",
       "      <td>747</td>\n",
       "      <td>539</td>\n",
       "      <td>0</td>\n",
       "      <td>0</td>\n",
       "      <td>0</td>\n",
       "      <td>GJAZDJ+NimbusRomNo9L-Regu</td>\n",
       "      <td>abstract</td>\n",
       "      <td>[692, 524, 747, 539]</td>\n",
       "    </tr>\n",
       "    <tr>\n",
       "      <th>99</th>\n",
       "      <td>value</td>\n",
       "      <td>250</td>\n",
       "      <td>539</td>\n",
       "      <td>284</td>\n",
       "      <td>554</td>\n",
       "      <td>0</td>\n",
       "      <td>0</td>\n",
       "      <td>0</td>\n",
       "      <td>GJAZDJ+NimbusRomNo9L-Regu</td>\n",
       "      <td>abstract</td>\n",
       "      <td>[250, 539, 284, 554]</td>\n",
       "    </tr>\n",
       "  </tbody>\n",
       "</table>\n",
       "<p>100 rows × 11 columns</p>\n",
       "</div>"
      ],
      "text/plain": [
       "              text   x0   y0   x1   y1  r  g  b                  font_name  \\\n",
       "0            Value  237  211  301  237  0  0  0  GJAZDJ+NimbusRomNo9L-Regu   \n",
       "1               of  308  211  332  237  0  0  0  GJAZDJ+NimbusRomNo9L-Regu   \n",
       "2      information  339  211  472  237  0  0  0  GJAZDJ+NimbusRomNo9L-Regu   \n",
       "3               in  479  211  501  237  0  0  0  GJAZDJ+NimbusRomNo9L-Regu   \n",
       "4   noncooperative  508  211  680  237  0  0  0  GJAZDJ+NimbusRomNo9L-Regu   \n",
       "..             ...  ...  ...  ...  ... .. .. ..                        ...   \n",
       "95               a  603  524  610  539  0  0  0  GJAZDJ+NimbusRomNo9L-Regu   \n",
       "96            game  615  524  651  539  0  0  0  GJAZDJ+NimbusRomNo9L-Regu   \n",
       "97            have  656  524  687  539  0  0  0  GJAZDJ+NimbusRomNo9L-Regu   \n",
       "98        negative  692  524  747  539  0  0  0  GJAZDJ+NimbusRomNo9L-Regu   \n",
       "99           value  250  539  284  554  0  0  0  GJAZDJ+NimbusRomNo9L-Regu   \n",
       "\n",
       "       label                   box  \n",
       "0      title  [237, 211, 301, 237]  \n",
       "1      title  [308, 211, 332, 237]  \n",
       "2      title  [339, 211, 472, 237]  \n",
       "3      title  [479, 211, 501, 237]  \n",
       "4      title  [508, 211, 680, 237]  \n",
       "..       ...                   ...  \n",
       "95  abstract  [603, 524, 610, 539]  \n",
       "96  abstract  [615, 524, 651, 539]  \n",
       "97  abstract  [656, 524, 687, 539]  \n",
       "98  abstract  [692, 524, 747, 539]  \n",
       "99  abstract  [250, 539, 284, 554]  \n",
       "\n",
       "[100 rows x 11 columns]"
      ]
     },
     "execution_count": 24,
     "metadata": {},
     "output_type": "execute_result"
    }
   ],
   "source": [
    "from pandas import DataFrame\n",
    "df_train = DataFrame(training_list)\n",
    "df_train.head(100)"
   ]
  },
  {
   "cell_type": "code",
   "execution_count": 25,
   "id": "133e4126-9546-4a9f-a773-4dd419392ae6",
   "metadata": {
    "tags": []
   },
   "outputs": [
    {
     "data": {
      "text/plain": [
       "paragraph    9334\n",
       "caption       708\n",
       "table         603\n",
       "footer        594\n",
       "equation      501\n",
       "reference     469\n",
       "abstract      399\n",
       "author        118\n",
       "section        81\n",
       "title          36\n",
       "figure         18\n",
       "date            6\n",
       "Name: label, dtype: int64"
      ]
     },
     "execution_count": 25,
     "metadata": {},
     "output_type": "execute_result"
    }
   ],
   "source": [
    "df_train.label.value_counts()"
   ]
  },
  {
   "cell_type": "code",
   "execution_count": 26,
   "id": "dc5e280a-48cd-4c8d-a826-669327356e43",
   "metadata": {
    "tags": []
   },
   "outputs": [
    {
     "data": {
      "text/plain": [
       "0                 Value\n",
       "1                    of\n",
       "2           information\n",
       "3                    in\n",
       "4        noncooperative\n",
       "              ...      \n",
       "12862        ##LTLine##\n",
       "12863        ##LTLine##\n",
       "12864        ##LTLine##\n",
       "12865        ##LTLine##\n",
       "12866        ##LTLine##\n",
       "Name: text, Length: 12867, dtype: object"
      ]
     },
     "execution_count": 26,
     "metadata": {},
     "output_type": "execute_result"
    }
   ],
   "source": [
    "df_train.text"
   ]
  },
  {
   "cell_type": "code",
   "execution_count": 27,
   "id": "45dfe21e-5ac4-497b-abfb-e1a7bd861874",
   "metadata": {
    "tags": []
   },
   "outputs": [
    {
     "data": {
      "text/plain": [
       "text         0\n",
       "x0           0\n",
       "y0           0\n",
       "x1           0\n",
       "y1           0\n",
       "r            0\n",
       "g            0\n",
       "b            0\n",
       "font_name    0\n",
       "label        0\n",
       "box          0\n",
       "dtype: int64"
      ]
     },
     "execution_count": 27,
     "metadata": {},
     "output_type": "execute_result"
    }
   ],
   "source": [
    "df_train.isna().sum()"
   ]
  },
  {
   "cell_type": "code",
   "execution_count": 28,
   "id": "20616adc-a82e-4b11-9a16-0248c3fbc79c",
   "metadata": {
    "tags": []
   },
   "outputs": [
    {
     "data": {
      "text/html": [
       "<div>\n",
       "<style scoped>\n",
       "    .dataframe tbody tr th:only-of-type {\n",
       "        vertical-align: middle;\n",
       "    }\n",
       "\n",
       "    .dataframe tbody tr th {\n",
       "        vertical-align: top;\n",
       "    }\n",
       "\n",
       "    .dataframe thead th {\n",
       "        text-align: right;\n",
       "    }\n",
       "</style>\n",
       "<table border=\"1\" class=\"dataframe\">\n",
       "  <thead>\n",
       "    <tr style=\"text-align: right;\">\n",
       "      <th></th>\n",
       "      <th>text</th>\n",
       "      <th>x0</th>\n",
       "      <th>y0</th>\n",
       "      <th>x1</th>\n",
       "      <th>y1</th>\n",
       "      <th>r</th>\n",
       "      <th>g</th>\n",
       "      <th>b</th>\n",
       "      <th>font_name</th>\n",
       "      <th>label</th>\n",
       "      <th>box</th>\n",
       "    </tr>\n",
       "  </thead>\n",
       "  <tbody>\n",
       "    <tr>\n",
       "      <th>0</th>\n",
       "      <td>20</td>\n",
       "      <td>147</td>\n",
       "      <td>95</td>\n",
       "      <td>160</td>\n",
       "      <td>105</td>\n",
       "      <td>0</td>\n",
       "      <td>0</td>\n",
       "      <td>0</td>\n",
       "      <td>KLMNWR+CMR8</td>\n",
       "      <td>paragraph</td>\n",
       "      <td>[147, 95, 160, 105]</td>\n",
       "    </tr>\n",
       "    <tr>\n",
       "      <th>1</th>\n",
       "      <td>N.</td>\n",
       "      <td>288</td>\n",
       "      <td>95</td>\n",
       "      <td>302</td>\n",
       "      <td>105</td>\n",
       "      <td>0</td>\n",
       "      <td>0</td>\n",
       "      <td>0</td>\n",
       "      <td>KLMNWR+CMR8</td>\n",
       "      <td>paragraph</td>\n",
       "      <td>[288, 95, 302, 105]</td>\n",
       "    </tr>\n",
       "    <tr>\n",
       "      <th>2</th>\n",
       "      <td>KRAUS,</td>\n",
       "      <td>307</td>\n",
       "      <td>95</td>\n",
       "      <td>360</td>\n",
       "      <td>105</td>\n",
       "      <td>0</td>\n",
       "      <td>0</td>\n",
       "      <td>0</td>\n",
       "      <td>KLMNWR+CMR8</td>\n",
       "      <td>paragraph</td>\n",
       "      <td>[307, 95, 360, 105]</td>\n",
       "    </tr>\n",
       "    <tr>\n",
       "      <th>3</th>\n",
       "      <td>M.</td>\n",
       "      <td>364</td>\n",
       "      <td>95</td>\n",
       "      <td>381</td>\n",
       "      <td>105</td>\n",
       "      <td>0</td>\n",
       "      <td>0</td>\n",
       "      <td>0</td>\n",
       "      <td>KLMNWR+CMR8</td>\n",
       "      <td>paragraph</td>\n",
       "      <td>[364, 95, 381, 105]</td>\n",
       "    </tr>\n",
       "    <tr>\n",
       "      <th>4</th>\n",
       "      <td>ESCARDO´,</td>\n",
       "      <td>385</td>\n",
       "      <td>93</td>\n",
       "      <td>458</td>\n",
       "      <td>105</td>\n",
       "      <td>0</td>\n",
       "      <td>0</td>\n",
       "      <td>0</td>\n",
       "      <td>KLMNWR+CMR8</td>\n",
       "      <td>paragraph</td>\n",
       "      <td>[385, 93, 458, 105]</td>\n",
       "    </tr>\n",
       "  </tbody>\n",
       "</table>\n",
       "</div>"
      ],
      "text/plain": [
       "        text   x0  y0   x1   y1  r  g  b    font_name      label  \\\n",
       "0         20  147  95  160  105  0  0  0  KLMNWR+CMR8  paragraph   \n",
       "1         N.  288  95  302  105  0  0  0  KLMNWR+CMR8  paragraph   \n",
       "2     KRAUS,  307  95  360  105  0  0  0  KLMNWR+CMR8  paragraph   \n",
       "3         M.  364  95  381  105  0  0  0  KLMNWR+CMR8  paragraph   \n",
       "4  ESCARDO´,  385  93  458  105  0  0  0  KLMNWR+CMR8  paragraph   \n",
       "\n",
       "                   box  \n",
       "0  [147, 95, 160, 105]  \n",
       "1  [288, 95, 302, 105]  \n",
       "2  [307, 95, 360, 105]  \n",
       "3  [364, 95, 381, 105]  \n",
       "4  [385, 93, 458, 105]  "
      ]
     },
     "execution_count": 28,
     "metadata": {},
     "output_type": "execute_result"
    }
   ],
   "source": [
    "from pandas import DataFrame\n",
    "df_test = DataFrame(test_list)\n",
    "df_test.head()"
   ]
  },
  {
   "cell_type": "code",
   "execution_count": 29,
   "id": "6312ca2d-913b-480a-aa47-e5b218ca3335",
   "metadata": {
    "tags": []
   },
   "outputs": [
    {
     "data": {
      "text/plain": [
       "paragraph    7965\n",
       "equation     1136\n",
       "reference     581\n",
       "abstract      508\n",
       "caption       137\n",
       "author         55\n",
       "section        50\n",
       "title          43\n",
       "footer         18\n",
       "date            9\n",
       "figure          6\n",
       "Name: label, dtype: int64"
      ]
     },
     "execution_count": 29,
     "metadata": {},
     "output_type": "execute_result"
    }
   ],
   "source": [
    "df_test.label.value_counts()"
   ]
  },
  {
   "cell_type": "code",
   "execution_count": 30,
   "id": "d1e91582-3c2a-40f0-8cf9-dc6460faac3f",
   "metadata": {
    "tags": []
   },
   "outputs": [
    {
     "data": {
      "text/plain": [
       "text         0\n",
       "x0           0\n",
       "y0           0\n",
       "x1           0\n",
       "y1           0\n",
       "r            0\n",
       "g            0\n",
       "b            0\n",
       "font_name    0\n",
       "label        0\n",
       "box          0\n",
       "dtype: int64"
      ]
     },
     "execution_count": 30,
     "metadata": {},
     "output_type": "execute_result"
    }
   ],
   "source": [
    "df_test.isna().sum()"
   ]
  },
  {
   "cell_type": "code",
   "execution_count": 31,
   "id": "3632140a-8b86-4fc0-bda1-044673c4f75b",
   "metadata": {
    "tags": []
   },
   "outputs": [],
   "source": [
    "text_list_train = df_train['text'].tolist()\n",
    "text_list_test = df_test['text'].tolist()"
   ]
  },
  {
   "cell_type": "code",
   "execution_count": 32,
   "id": "b372e1da-d581-45fc-a7fa-3311d743744e",
   "metadata": {
    "tags": []
   },
   "outputs": [
    {
     "data": {
      "text/plain": [
       "((12867, 11), (10508, 11))"
      ]
     },
     "execution_count": 32,
     "metadata": {},
     "output_type": "execute_result"
    }
   ],
   "source": [
    "df_train.shape, df_test.shape"
   ]
  },
  {
   "cell_type": "code",
   "execution_count": null,
   "id": "df5681e7-bf0f-491d-a2de-30ca7b20d15a",
   "metadata": {},
   "outputs": [],
   "source": []
  },
  {
   "cell_type": "code",
   "execution_count": 33,
   "id": "9a6d3fc4-3c88-486d-9c3c-9fd1330af542",
   "metadata": {
    "tags": []
   },
   "outputs": [],
   "source": [
    "# Added extra code here - DO NOT RUN\n",
    "from sklearn.preprocessing import LabelEncoder\n",
    "labelencoder = LabelEncoder()\n",
    "\n",
    "df_train['label'] = labelencoder.fit_transform(df_train['label'])\n",
    "df_test['label'] = labelencoder.fit_transform(df_test['label'])"
   ]
  },
  {
   "cell_type": "code",
   "execution_count": 34,
   "id": "a2a16971-772e-4d0c-988a-dc043fa7b807",
   "metadata": {
    "tags": []
   },
   "outputs": [
    {
     "data": {
      "text/plain": [
       "7     7965\n",
       "4     1136\n",
       "8      581\n",
       "0      508\n",
       "2      137\n",
       "1       55\n",
       "9       50\n",
       "10      43\n",
       "6       18\n",
       "3        9\n",
       "5        6\n",
       "Name: label, dtype: int64"
      ]
     },
     "execution_count": 34,
     "metadata": {},
     "output_type": "execute_result"
    }
   ],
   "source": [
    "# Added extra code here - DO NOT RUN\n",
    "df_test.label.value_counts()"
   ]
  },
  {
   "cell_type": "code",
   "execution_count": 35,
   "id": "c530b5ff-b3ea-4512-b043-5d93054f45b2",
   "metadata": {
    "tags": []
   },
   "outputs": [
    {
     "data": {
      "text/plain": [
       "7     9334\n",
       "2      708\n",
       "10     603\n",
       "6      594\n",
       "4      501\n",
       "8      469\n",
       "0      399\n",
       "1      118\n",
       "9       81\n",
       "11      36\n",
       "5       18\n",
       "3        6\n",
       "Name: label, dtype: int64"
      ]
     },
     "execution_count": 35,
     "metadata": {},
     "output_type": "execute_result"
    }
   ],
   "source": [
    "# Added extra code here - DO NOT RUN\n",
    "df_train.label.value_counts()"
   ]
  },
  {
   "cell_type": "code",
   "execution_count": null,
   "id": "cca984c4-32c5-4393-9442-3e36dea0090f",
   "metadata": {},
   "outputs": [],
   "source": []
  },
  {
   "cell_type": "code",
   "execution_count": 36,
   "id": "744550a3-80e1-42c2-a17c-fa9b74f4c0a1",
   "metadata": {
    "tags": []
   },
   "outputs": [
    {
     "name": "stdout",
     "output_type": "stream",
     "text": [
      "cpu\n"
     ]
    }
   ],
   "source": [
    "# Setting up the device for GPU usage\n",
    "from torch import cuda\n",
    "device = 'cuda' if cuda.is_available() else 'cpu'\n",
    "print(device)"
   ]
  },
  {
   "cell_type": "code",
   "execution_count": 37,
   "id": "e2ba818e-00b9-4c2c-becc-bb918fa44dc0",
   "metadata": {
    "tags": []
   },
   "outputs": [],
   "source": [
    "from transformers import BertTokenizer\n",
    "import torch\n",
    "\n",
    "\n",
    "tokenizer = BertTokenizer.from_pretrained('bert-base-uncased')\n",
    "# Defining some key variables that will be used later on in the training\n",
    "MAX_LEN = 100\n",
    "TRAIN_BATCH_SIZE = 16\n",
    "VALID_BATCH_SIZE = TRAIN_BATCH_SIZE*2\n",
    "# EPOCHS = 1\n",
    "LEARNING_RATE = 2e-05\n",
    "# Change the pre-trained bert model\n",
    "#tokenizer = BertTokenizer.from_pretrained('roberta-base') #Cased "
   ]
  },
  {
   "cell_type": "code",
   "execution_count": 38,
   "id": "0f52e6cb-62b9-406a-a53f-9a82201edbc3",
   "metadata": {
    "tags": []
   },
   "outputs": [],
   "source": [
    "class SentimentData(Dataset):\n",
    "    def __init__(self, dataframe, tokenizer, max_len):\n",
    "        self.tokenizer = tokenizer\n",
    "        self.data = dataframe\n",
    "        self.text = dataframe.text\n",
    "        self.targets = self.data.label\n",
    "        self.max_len = max_len\n",
    "\n",
    "    def __len__(self):\n",
    "        return len(self.text)\n",
    "\n",
    "    def __getitem__(self, index):\n",
    "        text = str(self.text[index])\n",
    "        text = \" \".join(text.split())\n",
    "\n",
    "        inputs = self.tokenizer.encode_plus(\n",
    "            text,\n",
    "            None,\n",
    "            add_special_tokens=True,\n",
    "            max_length=self.max_len,\n",
    "            pad_to_max_length=True,\n",
    "            return_token_type_ids=True\n",
    "        )\n",
    "        ids = inputs['input_ids']\n",
    "        mask = inputs['attention_mask']\n",
    "        token_type_ids = inputs[\"token_type_ids\"]\n",
    "\n",
    "        return {\n",
    "            'ids': torch.tensor(ids, dtype=torch.long),\n",
    "            'mask': torch.tensor(mask, dtype=torch.long),\n",
    "            'token_type_ids': torch.tensor(token_type_ids, dtype=torch.long),\n",
    "            'targets': torch.tensor(self.targets[index], dtype=torch.float),\n",
    "        }"
   ]
  },
  {
   "cell_type": "code",
   "execution_count": 39,
   "id": "2cc2665c-d386-4afa-8e0e-c6685cebac4a",
   "metadata": {
    "tags": []
   },
   "outputs": [
    {
     "name": "stdout",
     "output_type": "stream",
     "text": [
      "FULL Dataset: (12867, 11)\n",
      "TRAIN Dataset: (12867, 11)\n",
      "TEST Dataset: (10508, 11)\n"
     ]
    }
   ],
   "source": [
    "train_size = 1\n",
    "train_data=df_train.sample(frac=train_size,random_state=200)\n",
    "train_data = train_data.reset_index(drop=True)\n",
    "\n",
    "test_size = 1\n",
    "test_data=df_test.sample(frac=test_size,random_state=200)\n",
    "test_data = test_data.reset_index(drop=True)\n",
    "\n",
    "\n",
    "print(\"FULL Dataset: {}\".format(df_train.shape))\n",
    "print(\"TRAIN Dataset: {}\".format(train_data.shape))\n",
    "print(\"TEST Dataset: {}\".format(test_data.shape))\n",
    "\n",
    "training_set = SentimentData(train_data, tokenizer, MAX_LEN)\n",
    "test_set = SentimentData(test_data, tokenizer, MAX_LEN)"
   ]
  },
  {
   "cell_type": "code",
   "execution_count": 40,
   "id": "91a55553-d4f7-425d-b4d6-bb4f10763be0",
   "metadata": {
    "tags": []
   },
   "outputs": [],
   "source": [
    "train_params = {'batch_size': TRAIN_BATCH_SIZE,\n",
    "                'shuffle': False,\n",
    "                'num_workers': 0\n",
    "                }\n",
    "training_loader = DataLoader(training_set, **train_params)\n",
    "\n",
    "\n",
    "test_params = {'batch_size': VALID_BATCH_SIZE,\n",
    "                'shuffle': False,\n",
    "                'num_workers': 0\n",
    "                }\n",
    "\n",
    "testing_loader = DataLoader(test_set, **test_params)"
   ]
  },
  {
   "cell_type": "code",
   "execution_count": 41,
   "id": "20afc951-2021-4fd0-b948-40f9a64ed684",
   "metadata": {
    "tags": []
   },
   "outputs": [],
   "source": [
    "class Feature_Extractor(torch.nn.Module):\n",
    "    def __init__(self):\n",
    "        super(Feature_Extractor, self).__init__()\n",
    "        #bert-base-cased 768\n",
    "        #bert-large-cased bert-large-uncased 1024\n",
    "        #roberta-base-cased 768\n",
    "        #biobert\n",
    "\n",
    "        self.l1 = AutoModel.from_pretrained('bert-base-uncased')# BERT large\n",
    "        self.pre_classifier = torch.nn.Linear(768, 768)\n",
    "\n",
    "    def forward(self,input_ids,attention_mask,token_type_ids):\n",
    "        output_1 = self.l1(input_ids=input_ids, attention_mask=attention_mask, token_type_ids=token_type_ids)\n",
    "        hidden_state = output_1[0]\n",
    "        pooler = hidden_state[:, 0]\n",
    "        \n",
    "        return pooler"
   ]
  },
  {
   "cell_type": "code",
   "execution_count": 45,
   "id": "4d196179-4510-4100-be41-066bc96e4730",
   "metadata": {
    "tags": []
   },
   "outputs": [],
   "source": [
    "model = Feature_Extractor()\n",
    "model.to(device)# Defining the training function on the 80% of the dataset for tuning the distilbert model\n",
    "\n",
    "def extracing(data_loader):\n",
    "    output = []\n",
    "    model.eval()\n",
    "    for _,data in tqdm(enumerate(data_loader, 0)):\n",
    "        ids = data['ids'].to(device, dtype = torch.long)\n",
    "        mask = data['mask'].to(device, dtype = torch.long)\n",
    "        token_type_ids = data['token_type_ids'].to(device, dtype = torch.long)\n",
    "        targets = data['targets'].to(device, dtype = torch.long)\n",
    "        outputs = model(ids, mask,token_type_ids)\n",
    "        output.extend(outputs.tolist())\n",
    "    return output\n"
   ]
  },
  {
   "cell_type": "code",
   "execution_count": 46,
   "id": "236cd31c-bcbc-4b65-af16-b42055c2a186",
   "metadata": {
    "tags": []
   },
   "outputs": [
    {
     "data": {
      "text/plain": [
       "805"
      ]
     },
     "execution_count": 46,
     "metadata": {},
     "output_type": "execute_result"
    }
   ],
   "source": [
    "len(training_loader)"
   ]
  },
  {
   "cell_type": "code",
   "execution_count": 47,
   "id": "803ddd15-e9ea-4732-bc57-ddc7fe439e5f",
   "metadata": {
    "tags": []
   },
   "outputs": [
    {
     "name": "stderr",
     "output_type": "stream",
     "text": [
      "805it [17:57,  1.34s/it]\n"
     ]
    }
   ],
   "source": [
    "train = extracing(training_loader)"
   ]
  },
  {
   "cell_type": "code",
   "execution_count": 48,
   "id": "dd06bb95-6ee2-4979-86a3-5e0b68335144",
   "metadata": {
    "tags": []
   },
   "outputs": [
    {
     "data": {
      "text/plain": [
       "329"
      ]
     },
     "execution_count": 48,
     "metadata": {},
     "output_type": "execute_result"
    }
   ],
   "source": [
    "len(testing_loader)"
   ]
  },
  {
   "cell_type": "code",
   "execution_count": 49,
   "id": "811e2845-3fb1-4085-9f38-4a2e17e84763",
   "metadata": {
    "tags": []
   },
   "outputs": [
    {
     "name": "stderr",
     "output_type": "stream",
     "text": [
      "329it [16:16,  2.97s/it]\n"
     ]
    }
   ],
   "source": [
    "test = extracing(testing_loader)"
   ]
  },
  {
   "cell_type": "code",
   "execution_count": null,
   "id": "80e3f94a-b6a9-4b0f-b794-3ee3db5c3b8e",
   "metadata": {},
   "outputs": [],
   "source": []
  },
  {
   "cell_type": "code",
   "execution_count": null,
   "id": "3cd165f8-0eda-49fe-9658-0f5e04843e45",
   "metadata": {},
   "outputs": [],
   "source": []
  },
  {
   "cell_type": "code",
   "execution_count": 50,
   "id": "6979a28f-e82d-4a45-846f-85a21ecfa124",
   "metadata": {
    "tags": []
   },
   "outputs": [
    {
     "data": {
      "text/plain": [
       "(12867, 10508)"
      ]
     },
     "execution_count": 50,
     "metadata": {},
     "output_type": "execute_result"
    }
   ],
   "source": [
    "len(train), len(test)"
   ]
  },
  {
   "cell_type": "code",
   "execution_count": 51,
   "id": "6c894380-95cc-4527-96a6-866c446a1360",
   "metadata": {
    "tags": []
   },
   "outputs": [
    {
     "data": {
      "text/plain": [
       "(768, 768)"
      ]
     },
     "execution_count": 51,
     "metadata": {},
     "output_type": "execute_result"
    }
   ],
   "source": [
    "len(train[0]), len(test[0])"
   ]
  },
  {
   "cell_type": "code",
   "execution_count": 52,
   "id": "f22cb57c-b661-45ba-adea-cb3f2e912e88",
   "metadata": {
    "tags": []
   },
   "outputs": [
    {
     "data": {
      "text/plain": [
       "'2.0.0'"
      ]
     },
     "execution_count": 52,
     "metadata": {},
     "output_type": "execute_result"
    }
   ],
   "source": [
    "torch.__version__"
   ]
  },
  {
   "cell_type": "code",
   "execution_count": 53,
   "id": "a0144c68-b905-4bf1-b0ed-41c9a912faa2",
   "metadata": {
    "tags": []
   },
   "outputs": [],
   "source": [
    "torch.save(model, '../models/docbank_bert_embedder_v3.pt')"
   ]
  },
  {
   "cell_type": "code",
   "execution_count": 54,
   "id": "145ee88d-d98d-4954-a781-ad97b07fde16",
   "metadata": {
    "collapsed": true,
    "jupyter": {
     "outputs_hidden": true
    },
    "tags": []
   },
   "outputs": [
    {
     "ename": "UnsupportedNodeError",
     "evalue": "try blocks aren't supported:\n  File \"/Users/shashanksahoo/miniconda3/envs/gpt-LLM/lib/python3.9/site-packages/transformers/modeling_utils.py\", line 148\n        device).\n        \"\"\"\n        try:\n        ~~~ <--- HERE\n            return next(self.parameters()).device\n        except StopIteration:\n",
     "output_type": "error",
     "traceback": [
      "\u001b[0;31m---------------------------------------------------------------------------\u001b[0m",
      "\u001b[0;31mUnsupportedNodeError\u001b[0m                      Traceback (most recent call last)",
      "Cell \u001b[0;32mIn[54], line 1\u001b[0m\n\u001b[0;32m----> 1\u001b[0m model_scripted \u001b[38;5;241m=\u001b[39m \u001b[43mtorch\u001b[49m\u001b[38;5;241;43m.\u001b[39;49m\u001b[43mjit\u001b[49m\u001b[38;5;241;43m.\u001b[39;49m\u001b[43mscript\u001b[49m\u001b[43m(\u001b[49m\u001b[43mmodel\u001b[49m\u001b[43m)\u001b[49m \u001b[38;5;66;03m# Export to TorchScript\u001b[39;00m\n\u001b[1;32m      2\u001b[0m model_scripted\u001b[38;5;241m.\u001b[39msave(\u001b[38;5;124m'\u001b[39m\u001b[38;5;124m../models/docbank_bert_embedder_v4.pt\u001b[39m\u001b[38;5;124m'\u001b[39m) \u001b[38;5;66;03m# Save\u001b[39;00m\n",
      "File \u001b[0;32m~/miniconda3/envs/gpt-LLM/lib/python3.9/site-packages/torch/jit/_script.py:1284\u001b[0m, in \u001b[0;36mscript\u001b[0;34m(obj, optimize, _frames_up, _rcb, example_inputs)\u001b[0m\n\u001b[1;32m   1282\u001b[0m \u001b[38;5;28;01mif\u001b[39;00m \u001b[38;5;28misinstance\u001b[39m(obj, torch\u001b[38;5;241m.\u001b[39mnn\u001b[38;5;241m.\u001b[39mModule):\n\u001b[1;32m   1283\u001b[0m     obj \u001b[38;5;241m=\u001b[39m call_prepare_scriptable_func(obj)\n\u001b[0;32m-> 1284\u001b[0m     \u001b[38;5;28;01mreturn\u001b[39;00m \u001b[43mtorch\u001b[49m\u001b[38;5;241;43m.\u001b[39;49m\u001b[43mjit\u001b[49m\u001b[38;5;241;43m.\u001b[39;49m\u001b[43m_recursive\u001b[49m\u001b[38;5;241;43m.\u001b[39;49m\u001b[43mcreate_script_module\u001b[49m\u001b[43m(\u001b[49m\n\u001b[1;32m   1285\u001b[0m \u001b[43m        \u001b[49m\u001b[43mobj\u001b[49m\u001b[43m,\u001b[49m\u001b[43m \u001b[49m\u001b[43mtorch\u001b[49m\u001b[38;5;241;43m.\u001b[39;49m\u001b[43mjit\u001b[49m\u001b[38;5;241;43m.\u001b[39;49m\u001b[43m_recursive\u001b[49m\u001b[38;5;241;43m.\u001b[39;49m\u001b[43minfer_methods_to_compile\u001b[49m\n\u001b[1;32m   1286\u001b[0m \u001b[43m    \u001b[49m\u001b[43m)\u001b[49m\n\u001b[1;32m   1288\u001b[0m \u001b[38;5;28;01mif\u001b[39;00m \u001b[38;5;28misinstance\u001b[39m(obj, \u001b[38;5;28mdict\u001b[39m):\n\u001b[1;32m   1289\u001b[0m     \u001b[38;5;28;01mreturn\u001b[39;00m create_script_dict(obj)\n",
      "File \u001b[0;32m~/miniconda3/envs/gpt-LLM/lib/python3.9/site-packages/torch/jit/_recursive.py:480\u001b[0m, in \u001b[0;36mcreate_script_module\u001b[0;34m(nn_module, stubs_fn, share_types, is_tracing)\u001b[0m\n\u001b[1;32m    478\u001b[0m \u001b[38;5;28;01mif\u001b[39;00m \u001b[38;5;129;01mnot\u001b[39;00m is_tracing:\n\u001b[1;32m    479\u001b[0m     AttributeTypeIsSupportedChecker()\u001b[38;5;241m.\u001b[39mcheck(nn_module)\n\u001b[0;32m--> 480\u001b[0m \u001b[38;5;28;01mreturn\u001b[39;00m \u001b[43mcreate_script_module_impl\u001b[49m\u001b[43m(\u001b[49m\u001b[43mnn_module\u001b[49m\u001b[43m,\u001b[49m\u001b[43m \u001b[49m\u001b[43mconcrete_type\u001b[49m\u001b[43m,\u001b[49m\u001b[43m \u001b[49m\u001b[43mstubs_fn\u001b[49m\u001b[43m)\u001b[49m\n",
      "File \u001b[0;32m~/miniconda3/envs/gpt-LLM/lib/python3.9/site-packages/torch/jit/_recursive.py:542\u001b[0m, in \u001b[0;36mcreate_script_module_impl\u001b[0;34m(nn_module, concrete_type, stubs_fn)\u001b[0m\n\u001b[1;32m    539\u001b[0m     script_module\u001b[38;5;241m.\u001b[39m_concrete_type \u001b[38;5;241m=\u001b[39m concrete_type\n\u001b[1;32m    541\u001b[0m \u001b[38;5;66;03m# Actually create the ScriptModule, initializing it with the function we just defined\u001b[39;00m\n\u001b[0;32m--> 542\u001b[0m script_module \u001b[38;5;241m=\u001b[39m \u001b[43mtorch\u001b[49m\u001b[38;5;241;43m.\u001b[39;49m\u001b[43mjit\u001b[49m\u001b[38;5;241;43m.\u001b[39;49m\u001b[43mRecursiveScriptModule\u001b[49m\u001b[38;5;241;43m.\u001b[39;49m\u001b[43m_construct\u001b[49m\u001b[43m(\u001b[49m\u001b[43mcpp_module\u001b[49m\u001b[43m,\u001b[49m\u001b[43m \u001b[49m\u001b[43minit_fn\u001b[49m\u001b[43m)\u001b[49m\n\u001b[1;32m    544\u001b[0m \u001b[38;5;66;03m# Compile methods if necessary\u001b[39;00m\n\u001b[1;32m    545\u001b[0m \u001b[38;5;28;01mif\u001b[39;00m concrete_type \u001b[38;5;129;01mnot\u001b[39;00m \u001b[38;5;129;01min\u001b[39;00m concrete_type_store\u001b[38;5;241m.\u001b[39mmethods_compiled:\n",
      "File \u001b[0;32m~/miniconda3/envs/gpt-LLM/lib/python3.9/site-packages/torch/jit/_script.py:614\u001b[0m, in \u001b[0;36mRecursiveScriptModule._construct\u001b[0;34m(cpp_module, init_fn)\u001b[0m\n\u001b[1;32m    601\u001b[0m \u001b[38;5;250m\u001b[39m\u001b[38;5;124;03m\"\"\"\u001b[39;00m\n\u001b[1;32m    602\u001b[0m \u001b[38;5;124;03mConstruct a RecursiveScriptModule that's ready for use. PyTorch\u001b[39;00m\n\u001b[1;32m    603\u001b[0m \u001b[38;5;124;03mcode should use this to construct a RecursiveScriptModule instead\u001b[39;00m\n\u001b[0;32m   (...)\u001b[0m\n\u001b[1;32m    611\u001b[0m \u001b[38;5;124;03m    init_fn:  Lambda that initializes the RecursiveScriptModule passed to it.\u001b[39;00m\n\u001b[1;32m    612\u001b[0m \u001b[38;5;124;03m\"\"\"\u001b[39;00m\n\u001b[1;32m    613\u001b[0m script_module \u001b[38;5;241m=\u001b[39m RecursiveScriptModule(cpp_module)\n\u001b[0;32m--> 614\u001b[0m \u001b[43minit_fn\u001b[49m\u001b[43m(\u001b[49m\u001b[43mscript_module\u001b[49m\u001b[43m)\u001b[49m\n\u001b[1;32m    616\u001b[0m \u001b[38;5;66;03m# Finalize the ScriptModule: replace the nn.Module state with our\u001b[39;00m\n\u001b[1;32m    617\u001b[0m \u001b[38;5;66;03m# custom implementations and flip the _initializing bit.\u001b[39;00m\n\u001b[1;32m    618\u001b[0m RecursiveScriptModule\u001b[38;5;241m.\u001b[39m_finalize_scriptmodule(script_module)\n",
      "File \u001b[0;32m~/miniconda3/envs/gpt-LLM/lib/python3.9/site-packages/torch/jit/_recursive.py:520\u001b[0m, in \u001b[0;36mcreate_script_module_impl.<locals>.init_fn\u001b[0;34m(script_module)\u001b[0m\n\u001b[1;32m    517\u001b[0m     scripted \u001b[38;5;241m=\u001b[39m orig_value\n\u001b[1;32m    518\u001b[0m \u001b[38;5;28;01melse\u001b[39;00m:\n\u001b[1;32m    519\u001b[0m     \u001b[38;5;66;03m# always reuse the provided stubs_fn to infer the methods to compile\u001b[39;00m\n\u001b[0;32m--> 520\u001b[0m     scripted \u001b[38;5;241m=\u001b[39m \u001b[43mcreate_script_module_impl\u001b[49m\u001b[43m(\u001b[49m\u001b[43morig_value\u001b[49m\u001b[43m,\u001b[49m\u001b[43m \u001b[49m\u001b[43msub_concrete_type\u001b[49m\u001b[43m,\u001b[49m\u001b[43m \u001b[49m\u001b[43mstubs_fn\u001b[49m\u001b[43m)\u001b[49m\n\u001b[1;32m    522\u001b[0m cpp_module\u001b[38;5;241m.\u001b[39msetattr(name, scripted)\n\u001b[1;32m    523\u001b[0m script_module\u001b[38;5;241m.\u001b[39m_modules[name] \u001b[38;5;241m=\u001b[39m scripted\n",
      "File \u001b[0;32m~/miniconda3/envs/gpt-LLM/lib/python3.9/site-packages/torch/jit/_recursive.py:493\u001b[0m, in \u001b[0;36mcreate_script_module_impl\u001b[0;34m(nn_module, concrete_type, stubs_fn)\u001b[0m\n\u001b[1;32m    491\u001b[0m cpp_module \u001b[38;5;241m=\u001b[39m torch\u001b[38;5;241m.\u001b[39m_C\u001b[38;5;241m.\u001b[39m_create_module_with_type(concrete_type\u001b[38;5;241m.\u001b[39mjit_type)\n\u001b[1;32m    492\u001b[0m method_stubs \u001b[38;5;241m=\u001b[39m stubs_fn(nn_module)\n\u001b[0;32m--> 493\u001b[0m property_stubs \u001b[38;5;241m=\u001b[39m \u001b[43mget_property_stubs\u001b[49m\u001b[43m(\u001b[49m\u001b[43mnn_module\u001b[49m\u001b[43m)\u001b[49m\n\u001b[1;32m    494\u001b[0m hook_stubs, pre_hook_stubs \u001b[38;5;241m=\u001b[39m get_hook_stubs(nn_module)\n\u001b[1;32m    496\u001b[0m user_annotated_ignored_attributes \u001b[38;5;241m=\u001b[39m \u001b[38;5;28mgetattr\u001b[39m(nn_module, \u001b[38;5;124m\"\u001b[39m\u001b[38;5;124m__jit_ignored_attributes__\u001b[39m\u001b[38;5;124m\"\u001b[39m, \u001b[38;5;28mlist\u001b[39m())\n",
      "File \u001b[0;32m~/miniconda3/envs/gpt-LLM/lib/python3.9/site-packages/torch/jit/_recursive.py:807\u001b[0m, in \u001b[0;36mget_property_stubs\u001b[0;34m(nn_module)\u001b[0m\n\u001b[1;32m    802\u001b[0m \u001b[38;5;250m\u001b[39m\u001b[38;5;124;03m\"\"\"\u001b[39;00m\n\u001b[1;32m    803\u001b[0m \u001b[38;5;124;03mCreate property stubs for the properties of the module by creating method\u001b[39;00m\n\u001b[1;32m    804\u001b[0m \u001b[38;5;124;03mstubs for the getter and setter.\u001b[39;00m\n\u001b[1;32m    805\u001b[0m \u001b[38;5;124;03m\"\"\"\u001b[39;00m\n\u001b[1;32m    806\u001b[0m module_ty \u001b[38;5;241m=\u001b[39m \u001b[38;5;28mtype\u001b[39m(nn_module)\n\u001b[0;32m--> 807\u001b[0m properties_asts \u001b[38;5;241m=\u001b[39m \u001b[43mget_class_properties\u001b[49m\u001b[43m(\u001b[49m\u001b[43mmodule_ty\u001b[49m\u001b[43m,\u001b[49m\u001b[43m \u001b[49m\u001b[43mself_name\u001b[49m\u001b[38;5;241;43m=\u001b[39;49m\u001b[38;5;124;43m\"\u001b[39;49m\u001b[38;5;124;43mRecursiveScriptModule\u001b[39;49m\u001b[38;5;124;43m\"\u001b[39;49m\u001b[43m)\u001b[49m\n\u001b[1;32m    808\u001b[0m rcbs \u001b[38;5;241m=\u001b[39m {}\n\u001b[1;32m    810\u001b[0m \u001b[38;5;28;01mfor\u001b[39;00m name \u001b[38;5;129;01min\u001b[39;00m \u001b[38;5;28mdir\u001b[39m(module_ty):\n",
      "File \u001b[0;32m~/miniconda3/envs/gpt-LLM/lib/python3.9/site-packages/torch/jit/frontend.py:165\u001b[0m, in \u001b[0;36mget_class_properties\u001b[0;34m(cls, self_name)\u001b[0m\n\u001b[1;32m    163\u001b[0m \u001b[38;5;28;01mfor\u001b[39;00m prop \u001b[38;5;129;01min\u001b[39;00m props:\n\u001b[1;32m    164\u001b[0m     \u001b[38;5;28;01mif\u001b[39;00m prop[\u001b[38;5;241m0\u001b[39m] \u001b[38;5;129;01mnot\u001b[39;00m \u001b[38;5;129;01min\u001b[39;00m unused_properties \u001b[38;5;129;01mand\u001b[39;00m \u001b[38;5;129;01mnot\u001b[39;00m should_drop(prop[\u001b[38;5;241m1\u001b[39m]\u001b[38;5;241m.\u001b[39mfget):\n\u001b[0;32m--> 165\u001b[0m         getter \u001b[38;5;241m=\u001b[39m \u001b[43mget_jit_def\u001b[49m\u001b[43m(\u001b[49m\u001b[43mprop\u001b[49m\u001b[43m[\u001b[49m\u001b[38;5;241;43m1\u001b[39;49m\u001b[43m]\u001b[49m\u001b[38;5;241;43m.\u001b[39;49m\u001b[43mfget\u001b[49m\u001b[43m,\u001b[49m\u001b[43m \u001b[49m\u001b[38;5;124;43mf\u001b[39;49m\u001b[38;5;124;43m\"\u001b[39;49m\u001b[38;5;124;43m__\u001b[39;49m\u001b[38;5;132;43;01m{\u001b[39;49;00m\u001b[43mprop\u001b[49m\u001b[43m[\u001b[49m\u001b[38;5;241;43m0\u001b[39;49m\u001b[43m]\u001b[49m\u001b[38;5;132;43;01m}\u001b[39;49;00m\u001b[38;5;124;43m_getter\u001b[39;49m\u001b[38;5;124;43m\"\u001b[39;49m\u001b[43m,\u001b[49m\u001b[43m \u001b[49m\u001b[43mself_name\u001b[49m\u001b[38;5;241;43m=\u001b[39;49m\u001b[43mself_name\u001b[49m\u001b[43m)\u001b[49m\n\u001b[1;32m    166\u001b[0m         setter \u001b[38;5;241m=\u001b[39m get_jit_def(prop[\u001b[38;5;241m1\u001b[39m]\u001b[38;5;241m.\u001b[39mfset, \u001b[38;5;124mf\u001b[39m\u001b[38;5;124m\"\u001b[39m\u001b[38;5;124m__\u001b[39m\u001b[38;5;132;01m{\u001b[39;00mprop[\u001b[38;5;241m0\u001b[39m]\u001b[38;5;132;01m}\u001b[39;00m\u001b[38;5;124m_setter\u001b[39m\u001b[38;5;124m\"\u001b[39m, self_name\u001b[38;5;241m=\u001b[39mself_name) \u001b[38;5;28;01mif\u001b[39;00m prop[\u001b[38;5;241m1\u001b[39m]\u001b[38;5;241m.\u001b[39mfset \u001b[38;5;28;01melse\u001b[39;00m \u001b[38;5;28;01mNone\u001b[39;00m\n\u001b[1;32m    167\u001b[0m         properties\u001b[38;5;241m.\u001b[39mappend(Property(getter\u001b[38;5;241m.\u001b[39mrange(), Ident(getter\u001b[38;5;241m.\u001b[39mrange(), prop[\u001b[38;5;241m0\u001b[39m]), getter, setter))\n",
      "File \u001b[0;32m~/miniconda3/envs/gpt-LLM/lib/python3.9/site-packages/torch/jit/frontend.py:297\u001b[0m, in \u001b[0;36mget_jit_def\u001b[0;34m(fn, def_name, self_name, is_classmethod)\u001b[0m\n\u001b[1;32m    294\u001b[0m     qualname \u001b[38;5;241m=\u001b[39m get_qualified_name(fn)\n\u001b[1;32m    295\u001b[0m     pdt_arg_types \u001b[38;5;241m=\u001b[39m type_trace_db\u001b[38;5;241m.\u001b[39mget_args_types(qualname)\n\u001b[0;32m--> 297\u001b[0m \u001b[38;5;28;01mreturn\u001b[39;00m \u001b[43mbuild_def\u001b[49m\u001b[43m(\u001b[49m\u001b[43mparsed_def\u001b[49m\u001b[38;5;241;43m.\u001b[39;49m\u001b[43mctx\u001b[49m\u001b[43m,\u001b[49m\u001b[43m \u001b[49m\u001b[43mfn_def\u001b[49m\u001b[43m,\u001b[49m\u001b[43m \u001b[49m\u001b[43mtype_line\u001b[49m\u001b[43m,\u001b[49m\u001b[43m \u001b[49m\u001b[43mdef_name\u001b[49m\u001b[43m,\u001b[49m\u001b[43m \u001b[49m\u001b[43mself_name\u001b[49m\u001b[38;5;241;43m=\u001b[39;49m\u001b[43mself_name\u001b[49m\u001b[43m,\u001b[49m\u001b[43m \u001b[49m\u001b[43mpdt_arg_types\u001b[49m\u001b[38;5;241;43m=\u001b[39;49m\u001b[43mpdt_arg_types\u001b[49m\u001b[43m)\u001b[49m\n",
      "File \u001b[0;32m~/miniconda3/envs/gpt-LLM/lib/python3.9/site-packages/torch/jit/frontend.py:348\u001b[0m, in \u001b[0;36mbuild_def\u001b[0;34m(ctx, py_def, type_line, def_name, self_name, pdt_arg_types)\u001b[0m\n\u001b[1;32m    343\u001b[0m     type_comment_decl \u001b[38;5;241m=\u001b[39m torch\u001b[38;5;241m.\u001b[39m_C\u001b[38;5;241m.\u001b[39mparse_type_comment(type_line)\n\u001b[1;32m    344\u001b[0m     decl \u001b[38;5;241m=\u001b[39m torch\u001b[38;5;241m.\u001b[39m_C\u001b[38;5;241m.\u001b[39mmerge_type_from_type_comment(decl, type_comment_decl, is_method)\n\u001b[1;32m    346\u001b[0m \u001b[38;5;28;01mreturn\u001b[39;00m Def(Ident(r, def_name),\n\u001b[1;32m    347\u001b[0m            decl,\n\u001b[0;32m--> 348\u001b[0m            \u001b[43mbuild_stmts\u001b[49m\u001b[43m(\u001b[49m\u001b[43mctx\u001b[49m\u001b[43m,\u001b[49m\u001b[43m \u001b[49m\u001b[43mbody\u001b[49m\u001b[43m)\u001b[49m)\n",
      "File \u001b[0;32m~/miniconda3/envs/gpt-LLM/lib/python3.9/site-packages/torch/jit/frontend.py:141\u001b[0m, in \u001b[0;36mbuild_stmts\u001b[0;34m(ctx, stmts)\u001b[0m\n\u001b[1;32m    140\u001b[0m \u001b[38;5;28;01mdef\u001b[39;00m \u001b[38;5;21mbuild_stmts\u001b[39m(ctx, stmts):\n\u001b[0;32m--> 141\u001b[0m     stmts \u001b[38;5;241m=\u001b[39m [build_stmt(ctx, s) \u001b[38;5;28;01mfor\u001b[39;00m s \u001b[38;5;129;01min\u001b[39;00m stmts]\n\u001b[1;32m    142\u001b[0m     \u001b[38;5;28;01mreturn\u001b[39;00m \u001b[38;5;28mlist\u001b[39m(\u001b[38;5;28mfilter\u001b[39m(\u001b[38;5;28;01mNone\u001b[39;00m, stmts))\n",
      "File \u001b[0;32m~/miniconda3/envs/gpt-LLM/lib/python3.9/site-packages/torch/jit/frontend.py:141\u001b[0m, in \u001b[0;36m<listcomp>\u001b[0;34m(.0)\u001b[0m\n\u001b[1;32m    140\u001b[0m \u001b[38;5;28;01mdef\u001b[39;00m \u001b[38;5;21mbuild_stmts\u001b[39m(ctx, stmts):\n\u001b[0;32m--> 141\u001b[0m     stmts \u001b[38;5;241m=\u001b[39m [\u001b[43mbuild_stmt\u001b[49m\u001b[43m(\u001b[49m\u001b[43mctx\u001b[49m\u001b[43m,\u001b[49m\u001b[43m \u001b[49m\u001b[43ms\u001b[49m\u001b[43m)\u001b[49m \u001b[38;5;28;01mfor\u001b[39;00m s \u001b[38;5;129;01min\u001b[39;00m stmts]\n\u001b[1;32m    142\u001b[0m     \u001b[38;5;28;01mreturn\u001b[39;00m \u001b[38;5;28mlist\u001b[39m(\u001b[38;5;28mfilter\u001b[39m(\u001b[38;5;28;01mNone\u001b[39;00m, stmts))\n",
      "File \u001b[0;32m~/miniconda3/envs/gpt-LLM/lib/python3.9/site-packages/torch/jit/frontend.py:319\u001b[0m, in \u001b[0;36mBuilder.__call__\u001b[0;34m(self, ctx, node)\u001b[0m\n\u001b[1;32m    317\u001b[0m method \u001b[38;5;241m=\u001b[39m \u001b[38;5;28mgetattr\u001b[39m(\u001b[38;5;28mself\u001b[39m, \u001b[38;5;124m'\u001b[39m\u001b[38;5;124mbuild_\u001b[39m\u001b[38;5;124m'\u001b[39m \u001b[38;5;241m+\u001b[39m node\u001b[38;5;241m.\u001b[39m\u001b[38;5;18m__class__\u001b[39m\u001b[38;5;241m.\u001b[39m\u001b[38;5;18m__name__\u001b[39m, \u001b[38;5;28;01mNone\u001b[39;00m)\n\u001b[1;32m    318\u001b[0m \u001b[38;5;28;01mif\u001b[39;00m method \u001b[38;5;129;01mis\u001b[39;00m \u001b[38;5;28;01mNone\u001b[39;00m:\n\u001b[0;32m--> 319\u001b[0m     \u001b[38;5;28;01mraise\u001b[39;00m UnsupportedNodeError(ctx, node)\n\u001b[1;32m    320\u001b[0m \u001b[38;5;28;01mreturn\u001b[39;00m method(ctx, node)\n",
      "\u001b[0;31mUnsupportedNodeError\u001b[0m: try blocks aren't supported:\n  File \"/Users/shashanksahoo/miniconda3/envs/gpt-LLM/lib/python3.9/site-packages/transformers/modeling_utils.py\", line 148\n        device).\n        \"\"\"\n        try:\n        ~~~ <--- HERE\n            return next(self.parameters()).device\n        except StopIteration:\n"
     ]
    }
   ],
   "source": [
    "model_scripted = torch.jit.script(model) # Export to TorchScript\n",
    "model_scripted.save('../models/docbank_bert_embedder_v4.pt') # Save"
   ]
  },
  {
   "cell_type": "code",
   "execution_count": 55,
   "id": "7db321bf-dd9f-4511-8893-8917c46cb2b2",
   "metadata": {
    "tags": []
   },
   "outputs": [],
   "source": [
    "torch.save(model.state_dict(), '../models/docbank_bert_embedder_v4.pt')"
   ]
  },
  {
   "cell_type": "code",
   "execution_count": 57,
   "id": "77ee050d-90f2-4b30-8413-1c055de83c67",
   "metadata": {
    "tags": []
   },
   "outputs": [],
   "source": [
    "import pickle\n",
    "with open('../docbank_data/textual_features/docbank_train_bert_cls_emb.pkl','wb') as f:\n",
    "  pickle.dump(train,f)"
   ]
  },
  {
   "cell_type": "code",
   "execution_count": 58,
   "id": "d217fea4-9c6d-4cfa-897d-7c02dc6fb600",
   "metadata": {
    "tags": []
   },
   "outputs": [],
   "source": [
    "import pickle\n",
    "with open('../docbank_data/textual_features/docbank_test_bert_cls_emb.pkl','wb') as f:\n",
    "  pickle.dump(test,f)"
   ]
  },
  {
   "cell_type": "code",
   "execution_count": 59,
   "id": "27590388-d2f4-4d9b-8910-7f0e0c3b6bd5",
   "metadata": {
    "tags": []
   },
   "outputs": [
    {
     "data": {
      "text/plain": [
       "Index(['text', 'x0', 'y0', 'x1', 'y1', 'r', 'g', 'b', 'font_name', 'label',\n",
       "       'box'],\n",
       "      dtype='object')"
      ]
     },
     "execution_count": 59,
     "metadata": {},
     "output_type": "execute_result"
    }
   ],
   "source": [
    "df_train.columns"
   ]
  },
  {
   "cell_type": "code",
   "execution_count": 60,
   "id": "6c60dc89-ce84-4287-9d76-c55d9352bf3d",
   "metadata": {
    "tags": []
   },
   "outputs": [
    {
     "data": {
      "text/plain": [
       "Index(['text', 'x0', 'y0', 'x1', 'y1', 'r', 'g', 'b', 'font_name', 'label',\n",
       "       'box'],\n",
       "      dtype='object')"
      ]
     },
     "execution_count": 60,
     "metadata": {},
     "output_type": "execute_result"
    }
   ],
   "source": [
    "df_test.columns"
   ]
  },
  {
   "cell_type": "code",
   "execution_count": 61,
   "id": "4c3abbfc-3c39-466b-bc41-9533ff987fb2",
   "metadata": {
    "tags": []
   },
   "outputs": [],
   "source": [
    "df_train['bert_large_emb'] = train"
   ]
  },
  {
   "cell_type": "code",
   "execution_count": 62,
   "id": "59ba62fa-a303-4936-9c2f-bc59deb771cf",
   "metadata": {
    "tags": []
   },
   "outputs": [],
   "source": [
    "df_test['bert_large_emb'] = test"
   ]
  },
  {
   "cell_type": "code",
   "execution_count": null,
   "id": "13f45625-cec1-47c8-99aa-f88aef248b32",
   "metadata": {},
   "outputs": [],
   "source": []
  },
  {
   "cell_type": "code",
   "execution_count": 63,
   "id": "062c6f46-8685-40e0-b0cb-b37d49bdaba6",
   "metadata": {
    "tags": []
   },
   "outputs": [],
   "source": [
    "import json \n",
    "with open(\"../docbank_data/docbank_full_feature_sg_train_positional_1.json\", \"r\") as fp:\n",
    "    train_list_dict = json.load(fp)\n",
    "    \n",
    "with open(\"../docbank_data/docbank_full_feature_sg_test_positional_1.json\", \"r\") as fp:\n",
    "    eval_list_dict = json.load(fp)"
   ]
  },
  {
   "cell_type": "code",
   "execution_count": 64,
   "id": "5dbf98ee-43ae-4e6b-8280-5ec360ec2142",
   "metadata": {
    "tags": []
   },
   "outputs": [
    {
     "data": {
      "text/plain": [
       "dict_keys(['1.tar_1401.0001.gz_infoingames_without_metric_arxiv_0_ori', '1.tar_1401.0001.gz_infoingames_without_metric_arxiv_24_ori', '1.tar_1401.0001.gz_infoingames_without_metric_arxiv_26_ori', '1.tar_1401.0001.gz_infoingames_without_metric_arxiv_27_ori', '1.tar_1401.0001.gz_infoingames_without_metric_arxiv_31_ori', '1.tar_1401.0001.gz_infoingames_without_metric_arxiv_32_ori', '1.tar_1401.0001.gz_infoingames_without_metric_arxiv_47_ori', '1.tar_1401.0001.gz_infoingames_without_metric_arxiv_5_ori', '1.tar_1401.0001.gz_infoingames_without_metric_arxiv_8_ori', '1.tar_1401.0007.gz_hhmerge_3_ori', '1.tar_1401.0009.gz_TMO111DMFT5_0_ori', '1.tar_1401.0011.gz_dispersion_MNRAS_V2_6_ori', '1.tar_1401.0016.gz_PRB_SM_0_ori', '1.tar_1401.0016.gz_PRB_SM_3_ori', '1.tar_1401.0016.gz_PRB_SM_6_ori', '1.tar_1401.0019.gz_sup-set-finalversion_1_ori', '1.tar_1401.0019.gz_sup-set-finalversion_6_ori', '1.tar_1401.0020.gz_main_5_ori', '1.tar_1401.0020.gz_main_6_ori', '1.tar_1401.0023.gz_abramson2013-emulateapj-12-30_11_ori'])"
      ]
     },
     "execution_count": 64,
     "metadata": {},
     "output_type": "execute_result"
    }
   ],
   "source": [
    "train_list_dict.keys()"
   ]
  },
  {
   "cell_type": "code",
   "execution_count": 65,
   "id": "c5671c31-1df6-4e53-8bd3-77da147bf411",
   "metadata": {
    "tags": []
   },
   "outputs": [],
   "source": [
    "for l in train_list_dict:\n",
    "  for i, obj in enumerate(train_list_dict[l]['objects']):\n",
    "    train_list_dict[l]['objects'][obj]['bert_large_emb'] = train[i]\n",
    "    "
   ]
  },
  {
   "cell_type": "code",
   "execution_count": 66,
   "id": "9037b9c6-80f5-4780-8f9b-35cdce4a6516",
   "metadata": {
    "tags": []
   },
   "outputs": [],
   "source": [
    "for l in eval_list_dict:\n",
    "  for i, obj in enumerate(eval_list_dict[l]['objects']):\n",
    "    eval_list_dict[l]['objects'][obj]['bert_large_emb'] = test[i]\n",
    "    "
   ]
  },
  {
   "cell_type": "code",
   "execution_count": 68,
   "id": "f02af9f3-51ff-49b9-b928-dea4d8906bb3",
   "metadata": {
    "collapsed": true,
    "jupyter": {
     "outputs_hidden": true
    },
    "tags": []
   },
   "outputs": [
    {
     "data": {
      "text/plain": [
       "{'id': 1,\n",
       " 'box': [308, 211, 332, 237],\n",
       " 'category': 'title',\n",
       " 'text': 'of',\n",
       " 'relations': {'0': {'id': 243, 'object': 0},\n",
       "  '1': {'id': 244, 'object': 2},\n",
       "  '2': {'id': 245, 'object': 3},\n",
       "  '3': {'id': 246, 'object': 4},\n",
       "  '4': {'id': 247, 'object': 5},\n",
       "  '5': {'id': 248, 'object': 6},\n",
       "  '6': {'id': 249, 'object': 7},\n",
       "  '7': {'id': 250, 'object': 8},\n",
       "  '8': {'id': 251, 'object': 9},\n",
       "  '9': {'id': 252, 'object': 10},\n",
       "  '10': {'id': 253, 'object': 11},\n",
       "  '11': {'id': 254, 'object': 12},\n",
       "  '12': {'id': 255, 'object': 13},\n",
       "  '13': {'id': 256, 'object': 14},\n",
       "  '14': {'id': 257, 'object': 15},\n",
       "  '15': {'id': 258, 'object': 16},\n",
       "  '16': {'id': 259, 'object': 17},\n",
       "  '17': {'id': 260, 'object': 18},\n",
       "  '18': {'id': 261, 'object': 19},\n",
       "  '19': {'id': 262, 'object': 20},\n",
       "  '20': {'id': 263, 'object': 21},\n",
       "  '21': {'id': 264, 'object': 22},\n",
       "  '22': {'id': 265, 'object': 23},\n",
       "  '23': {'id': 266, 'object': 24},\n",
       "  '24': {'id': 267, 'object': 25},\n",
       "  '25': {'id': 268, 'object': 26},\n",
       "  '26': {'id': 269, 'object': 27},\n",
       "  '27': {'id': 270, 'object': 28},\n",
       "  '28': {'id': 271, 'object': 29},\n",
       "  '29': {'id': 272, 'object': 30},\n",
       "  '30': {'id': 273, 'object': 31},\n",
       "  '31': {'id': 274, 'object': 32},\n",
       "  '32': {'id': 275, 'object': 33},\n",
       "  '33': {'id': 276, 'object': 34},\n",
       "  '34': {'id': 277, 'object': 35},\n",
       "  '35': {'id': 278, 'object': 36},\n",
       "  '36': {'id': 279, 'object': 37},\n",
       "  '37': {'id': 280, 'object': 38},\n",
       "  '38': {'id': 281, 'object': 39},\n",
       "  '39': {'id': 282, 'object': 40},\n",
       "  '40': {'id': 283, 'object': 41},\n",
       "  '41': {'id': 284, 'object': 42},\n",
       "  '42': {'id': 285, 'object': 43},\n",
       "  '43': {'id': 286, 'object': 44},\n",
       "  '44': {'id': 287, 'object': 45},\n",
       "  '45': {'id': 288, 'object': 46},\n",
       "  '46': {'id': 289, 'object': 47},\n",
       "  '47': {'id': 290, 'object': 48},\n",
       "  '48': {'id': 291, 'object': 49},\n",
       "  '49': {'id': 292, 'object': 50},\n",
       "  '50': {'id': 293, 'object': 51},\n",
       "  '51': {'id': 294, 'object': 52},\n",
       "  '52': {'id': 295, 'object': 53},\n",
       "  '53': {'id': 296, 'object': 54},\n",
       "  '54': {'id': 297, 'object': 55},\n",
       "  '55': {'id': 298, 'object': 56},\n",
       "  '56': {'id': 299, 'object': 57},\n",
       "  '57': {'id': 300, 'object': 58},\n",
       "  '58': {'id': 301, 'object': 59},\n",
       "  '59': {'id': 302, 'object': 60},\n",
       "  '60': {'id': 303, 'object': 61},\n",
       "  '61': {'id': 304, 'object': 62},\n",
       "  '62': {'id': 305, 'object': 63},\n",
       "  '63': {'id': 306, 'object': 64},\n",
       "  '64': {'id': 307, 'object': 65},\n",
       "  '65': {'id': 308, 'object': 66},\n",
       "  '66': {'id': 309, 'object': 67},\n",
       "  '67': {'id': 310, 'object': 68},\n",
       "  '68': {'id': 311, 'object': 69},\n",
       "  '69': {'id': 312, 'object': 70},\n",
       "  '70': {'id': 313, 'object': 71},\n",
       "  '71': {'id': 314, 'object': 72},\n",
       "  '72': {'id': 315, 'object': 73},\n",
       "  '73': {'id': 316, 'object': 74},\n",
       "  '74': {'id': 317, 'object': 75},\n",
       "  '75': {'id': 318, 'object': 76},\n",
       "  '76': {'id': 319, 'object': 77},\n",
       "  '77': {'id': 320, 'object': 78},\n",
       "  '78': {'id': 321, 'object': 79},\n",
       "  '79': {'id': 322, 'object': 80},\n",
       "  '80': {'id': 323, 'object': 81},\n",
       "  '81': {'id': 324, 'object': 82},\n",
       "  '82': {'id': 325, 'object': 83},\n",
       "  '83': {'id': 326, 'object': 84},\n",
       "  '84': {'id': 327, 'object': 85},\n",
       "  '85': {'id': 328, 'object': 86},\n",
       "  '86': {'id': 329, 'object': 87},\n",
       "  '87': {'id': 330, 'object': 88},\n",
       "  '88': {'id': 331, 'object': 89},\n",
       "  '89': {'id': 332, 'object': 90},\n",
       "  '90': {'id': 333, 'object': 91},\n",
       "  '91': {'id': 334, 'object': 92},\n",
       "  '92': {'id': 335, 'object': 93},\n",
       "  '93': {'id': 336, 'object': 94},\n",
       "  '94': {'id': 337, 'object': 95},\n",
       "  '95': {'id': 338, 'object': 96},\n",
       "  '96': {'id': 339, 'object': 97},\n",
       "  '97': {'id': 340, 'object': 98},\n",
       "  '98': {'id': 341, 'object': 99},\n",
       "  '99': {'id': 342, 'object': 100},\n",
       "  '100': {'id': 343, 'object': 101},\n",
       "  '101': {'id': 344, 'object': 102},\n",
       "  '102': {'id': 345, 'object': 103},\n",
       "  '103': {'id': 346, 'object': 104},\n",
       "  '104': {'id': 347, 'object': 105},\n",
       "  '105': {'id': 348, 'object': 106},\n",
       "  '106': {'id': 349, 'object': 107},\n",
       "  '107': {'id': 350, 'object': 108},\n",
       "  '108': {'id': 351, 'object': 109},\n",
       "  '109': {'id': 352, 'object': 110},\n",
       "  '110': {'id': 353, 'object': 111},\n",
       "  '111': {'id': 354, 'object': 112},\n",
       "  '112': {'id': 355, 'object': 113},\n",
       "  '113': {'id': 356, 'object': 114},\n",
       "  '114': {'id': 357, 'object': 115},\n",
       "  '115': {'id': 358, 'object': 116},\n",
       "  '116': {'id': 359, 'object': 117},\n",
       "  '117': {'id': 360, 'object': 118},\n",
       "  '118': {'id': 361, 'object': 119},\n",
       "  '119': {'id': 362, 'object': 120},\n",
       "  '120': {'id': 363, 'object': 121},\n",
       "  '121': {'id': 364, 'object': 122},\n",
       "  '122': {'id': 365, 'object': 123},\n",
       "  '123': {'id': 366, 'object': 124},\n",
       "  '124': {'id': 367, 'object': 125},\n",
       "  '125': {'id': 368, 'object': 126},\n",
       "  '126': {'id': 369, 'object': 127},\n",
       "  '127': {'id': 370, 'object': 128},\n",
       "  '128': {'id': 371, 'object': 129},\n",
       "  '129': {'id': 372, 'object': 130},\n",
       "  '130': {'id': 373, 'object': 131},\n",
       "  '131': {'id': 374, 'object': 132},\n",
       "  '132': {'id': 375, 'object': 133},\n",
       "  '133': {'id': 376, 'object': 134},\n",
       "  '134': {'id': 377, 'object': 135},\n",
       "  '135': {'id': 378, 'object': 136},\n",
       "  '136': {'id': 379, 'object': 137},\n",
       "  '137': {'id': 380, 'object': 138},\n",
       "  '138': {'id': 381, 'object': 139},\n",
       "  '139': {'id': 382, 'object': 140},\n",
       "  '140': {'id': 383, 'object': 141},\n",
       "  '141': {'id': 384, 'object': 142},\n",
       "  '142': {'id': 385, 'object': 143},\n",
       "  '143': {'id': 386, 'object': 144},\n",
       "  '144': {'id': 387, 'object': 145},\n",
       "  '145': {'id': 388, 'object': 146},\n",
       "  '146': {'id': 389, 'object': 147},\n",
       "  '147': {'id': 390, 'object': 148},\n",
       "  '148': {'id': 391, 'object': 149},\n",
       "  '149': {'id': 392, 'object': 150},\n",
       "  '150': {'id': 393, 'object': 151},\n",
       "  '151': {'id': 394, 'object': 152},\n",
       "  '152': {'id': 395, 'object': 153},\n",
       "  '153': {'id': 396, 'object': 154},\n",
       "  '154': {'id': 397, 'object': 155},\n",
       "  '155': {'id': 398, 'object': 156},\n",
       "  '156': {'id': 399, 'object': 157},\n",
       "  '157': {'id': 400, 'object': 158},\n",
       "  '158': {'id': 401, 'object': 159},\n",
       "  '159': {'id': 402, 'object': 160},\n",
       "  '160': {'id': 403, 'object': 161},\n",
       "  '161': {'id': 404, 'object': 162},\n",
       "  '162': {'id': 405, 'object': 163},\n",
       "  '163': {'id': 406, 'object': 164},\n",
       "  '164': {'id': 407, 'object': 165},\n",
       "  '165': {'id': 408, 'object': 166},\n",
       "  '166': {'id': 409, 'object': 167},\n",
       "  '167': {'id': 410, 'object': 168},\n",
       "  '168': {'id': 411, 'object': 169},\n",
       "  '169': {'id': 412, 'object': 170},\n",
       "  '170': {'id': 413, 'object': 171},\n",
       "  '171': {'id': 414, 'object': 172},\n",
       "  '172': {'id': 415, 'object': 173},\n",
       "  '173': {'id': 416, 'object': 174},\n",
       "  '174': {'id': 417, 'object': 175},\n",
       "  '175': {'id': 418, 'object': 176},\n",
       "  '176': {'id': 419, 'object': 177},\n",
       "  '177': {'id': 420, 'object': 178},\n",
       "  '178': {'id': 421, 'object': 179},\n",
       "  '179': {'id': 422, 'object': 180},\n",
       "  '180': {'id': 423, 'object': 181},\n",
       "  '181': {'id': 424, 'object': 182},\n",
       "  '182': {'id': 425, 'object': 183},\n",
       "  '183': {'id': 426, 'object': 184},\n",
       "  '184': {'id': 427, 'object': 185},\n",
       "  '185': {'id': 428, 'object': 186},\n",
       "  '186': {'id': 429, 'object': 187},\n",
       "  '187': {'id': 430, 'object': 188},\n",
       "  '188': {'id': 431, 'object': 189},\n",
       "  '189': {'id': 432, 'object': 190},\n",
       "  '190': {'id': 433, 'object': 191},\n",
       "  '191': {'id': 434, 'object': 192},\n",
       "  '192': {'id': 435, 'object': 193},\n",
       "  '193': {'id': 436, 'object': 194},\n",
       "  '194': {'id': 437, 'object': 195},\n",
       "  '195': {'id': 438, 'object': 196},\n",
       "  '196': {'id': 439, 'object': 197},\n",
       "  '197': {'id': 440, 'object': 198},\n",
       "  '198': {'id': 441, 'object': 199},\n",
       "  '199': {'id': 442, 'object': 200},\n",
       "  '200': {'id': 443, 'object': 201},\n",
       "  '201': {'id': 444, 'object': 202},\n",
       "  '202': {'id': 445, 'object': 203},\n",
       "  '203': {'id': 446, 'object': 204},\n",
       "  '204': {'id': 447, 'object': 205},\n",
       "  '205': {'id': 448, 'object': 206},\n",
       "  '206': {'id': 449, 'object': 207},\n",
       "  '207': {'id': 450, 'object': 208},\n",
       "  '208': {'id': 451, 'object': 209},\n",
       "  '209': {'id': 452, 'object': 210},\n",
       "  '210': {'id': 453, 'object': 211},\n",
       "  '211': {'id': 454, 'object': 212},\n",
       "  '212': {'id': 455, 'object': 213},\n",
       "  '213': {'id': 456, 'object': 214},\n",
       "  '214': {'id': 457, 'object': 215},\n",
       "  '215': {'id': 458, 'object': 216},\n",
       "  '216': {'id': 459, 'object': 217},\n",
       "  '217': {'id': 460, 'object': 218},\n",
       "  '218': {'id': 461, 'object': 219},\n",
       "  '219': {'id': 462, 'object': 220},\n",
       "  '220': {'id': 463, 'object': 221},\n",
       "  '221': {'id': 464, 'object': 222},\n",
       "  '222': {'id': 465, 'object': 223},\n",
       "  '223': {'id': 466, 'object': 224},\n",
       "  '224': {'id': 467, 'object': 225},\n",
       "  '225': {'id': 468, 'object': 226},\n",
       "  '226': {'id': 469, 'object': 227},\n",
       "  '227': {'id': 470, 'object': 228},\n",
       "  '228': {'id': 471, 'object': 229},\n",
       "  '229': {'id': 472, 'object': 230},\n",
       "  '230': {'id': 473, 'object': 231},\n",
       "  '231': {'id': 474, 'object': 232},\n",
       "  '232': {'id': 475, 'object': 233},\n",
       "  '233': {'id': 476, 'object': 234},\n",
       "  '234': {'id': 477, 'object': 235},\n",
       "  '235': {'id': 478, 'object': 236},\n",
       "  '236': {'id': 479, 'object': 237},\n",
       "  '237': {'id': 480, 'object': 238},\n",
       "  '238': {'id': 481, 'object': 239},\n",
       "  '239': {'id': 482, 'object': 240},\n",
       "  '240': {'id': 483, 'object': 241},\n",
       "  '241': {'id': 484, 'object': 242},\n",
       "  '242': {'id': 485, 'object': 243}},\n",
       " 'bert_large_emb': [-0.26809656620025635,\n",
       "  0.20610269904136658,\n",
       "  -0.13645592331886292,\n",
       "  -0.1477135419845581,\n",
       "  -0.2489522099494934,\n",
       "  -0.10066515952348709,\n",
       "  0.23401480913162231,\n",
       "  0.7040711641311646,\n",
       "  -0.22719645500183105,\n",
       "  -0.07104270905256271,\n",
       "  -0.18471719324588776,\n",
       "  0.021292170509696007,\n",
       "  -0.013468844816088676,\n",
       "  0.6949904561042786,\n",
       "  0.30712974071502686,\n",
       "  -0.19900605082511902,\n",
       "  -0.21871531009674072,\n",
       "  0.3254474699497223,\n",
       "  -0.020185640081763268,\n",
       "  -0.29264014959335327,\n",
       "  0.04673575609922409,\n",
       "  -0.28393933176994324,\n",
       "  -0.1555798500776291,\n",
       "  -0.25056192278862,\n",
       "  -0.20351660251617432,\n",
       "  -0.12861686944961548,\n",
       "  0.1577463150024414,\n",
       "  -0.3261164724826813,\n",
       "  0.07227057963609695,\n",
       "  0.10653211921453476,\n",
       "  0.167634055018425,\n",
       "  0.13245199620723724,\n",
       "  -0.41185393929481506,\n",
       "  0.07091131061315536,\n",
       "  -0.10580471158027649,\n",
       "  0.12438565492630005,\n",
       "  -0.06096436828374863,\n",
       "  0.0838356614112854,\n",
       "  0.030798450112342834,\n",
       "  0.14132459461688995,\n",
       "  0.017644908279180527,\n",
       "  -0.09376717358827591,\n",
       "  -0.019128702580928802,\n",
       "  0.11795677989721298,\n",
       "  0.060856059193611145,\n",
       "  -0.09019292891025543,\n",
       "  -2.2545087337493896,\n",
       "  -0.35125523805618286,\n",
       "  -0.16335457563400269,\n",
       "  -0.418302983045578,\n",
       "  0.1074473112821579,\n",
       "  0.09635555744171143,\n",
       "  0.15852606296539307,\n",
       "  -0.09394825994968414,\n",
       "  0.10501433163881302,\n",
       "  0.2537393569946289,\n",
       "  -0.36042118072509766,\n",
       "  0.4139631986618042,\n",
       "  0.05632955953478813,\n",
       "  -0.013221602886915207,\n",
       "  0.44535863399505615,\n",
       "  -0.23998591303825378,\n",
       "  -0.04328768327832222,\n",
       "  0.2892645299434662,\n",
       "  0.06549356132745743,\n",
       "  -0.10600896179676056,\n",
       "  -0.11277212202548981,\n",
       "  0.4991990923881531,\n",
       "  -0.15875814855098724,\n",
       "  0.4776868224143982,\n",
       "  -0.35489946603775024,\n",
       "  -0.08129478991031647,\n",
       "  0.5397757291793823,\n",
       "  0.2746191918849945,\n",
       "  0.04688860476016998,\n",
       "  -0.32868367433547974,\n",
       "  0.1063518151640892,\n",
       "  0.13451185822486877,\n",
       "  -0.1468583345413208,\n",
       "  -0.2742924988269806,\n",
       "  0.25253209471702576,\n",
       "  0.09982811659574509,\n",
       "  0.2567638158798218,\n",
       "  0.14241376519203186,\n",
       "  0.1436593234539032,\n",
       "  0.3811355233192444,\n",
       "  -0.21982336044311523,\n",
       "  -0.2783813178539276,\n",
       "  0.5252984762191772,\n",
       "  0.5925706028938293,\n",
       "  -0.037564150989055634,\n",
       "  0.004057355225086212,\n",
       "  0.01683739200234413,\n",
       "  0.24314124882221222,\n",
       "  0.022718023508787155,\n",
       "  -0.09911078959703445,\n",
       "  0.2076549381017685,\n",
       "  0.08777417242527008,\n",
       "  -0.17935755848884583,\n",
       "  -0.168616384267807,\n",
       "  -0.05672639235854149,\n",
       "  -0.05037976801395416,\n",
       "  0.36782413721084595,\n",
       "  -0.35347673296928406,\n",
       "  0.12539610266685486,\n",
       "  0.16248819231987,\n",
       "  -0.3121873438358307,\n",
       "  0.01180950552225113,\n",
       "  -0.02574855089187622,\n",
       "  -2.7282135486602783,\n",
       "  0.24035120010375977,\n",
       "  0.40703970193862915,\n",
       "  -0.2992589771747589,\n",
       "  -0.20510593056678772,\n",
       "  -0.16017067432403564,\n",
       "  0.7125304341316223,\n",
       "  0.4179520010948181,\n",
       "  -0.24187657237052917,\n",
       "  -0.13493025302886963,\n",
       "  0.1181202381849289,\n",
       "  0.14972162246704102,\n",
       "  0.09442956745624542,\n",
       "  -0.050969578325748444,\n",
       "  -0.11314938962459564,\n",
       "  0.2641672194004059,\n",
       "  0.3343838155269623,\n",
       "  0.24849115312099457,\n",
       "  -0.17709490656852722,\n",
       "  0.15743820369243622,\n",
       "  0.2232094705104828,\n",
       "  -0.029986636713147163,\n",
       "  0.4709826707839966,\n",
       "  0.06962425261735916,\n",
       "  -0.441649854183197,\n",
       "  -0.038516394793987274,\n",
       "  -0.04939224198460579,\n",
       "  0.2944726049900055,\n",
       "  -0.24132715165615082,\n",
       "  -0.08112497627735138,\n",
       "  -0.24135638773441315,\n",
       "  -0.4291534423828125,\n",
       "  -0.02396799996495247,\n",
       "  -3.443528175354004,\n",
       "  0.2353799045085907,\n",
       "  0.7228074669837952,\n",
       "  -0.16377222537994385,\n",
       "  -0.4255560040473938,\n",
       "  0.23736679553985596,\n",
       "  0.15977677702903748,\n",
       "  0.1945848912000656,\n",
       "  -0.17701606452465057,\n",
       "  -0.2699328064918518,\n",
       "  0.13544318079948425,\n",
       "  -0.1722036749124527,\n",
       "  -0.4614802598953247,\n",
       "  -0.23169755935668945,\n",
       "  0.0194251649081707,\n",
       "  -0.03546934947371483,\n",
       "  0.28974148631095886,\n",
       "  0.3383222818374634,\n",
       "  0.011335276067256927,\n",
       "  -0.21660837531089783,\n",
       "  0.037214502692222595,\n",
       "  -0.023301292210817337,\n",
       "  -0.17619827389717102,\n",
       "  -0.17089417576789856,\n",
       "  0.3095703721046448,\n",
       "  0.3365699052810669,\n",
       "  0.3267746865749359,\n",
       "  -0.10017776489257812,\n",
       "  -0.12526871263980865,\n",
       "  -0.3054839074611664,\n",
       "  0.4748944640159607,\n",
       "  0.19327566027641296,\n",
       "  0.044901564717292786,\n",
       "  -0.532401442527771,\n",
       "  0.3678304851055145,\n",
       "  0.1018977016210556,\n",
       "  0.4416852295398712,\n",
       "  0.16224709153175354,\n",
       "  -0.024261847138404846,\n",
       "  0.4527577757835388,\n",
       "  -0.013595402240753174,\n",
       "  -0.11826050281524658,\n",
       "  0.08779960870742798,\n",
       "  -0.08082284033298492,\n",
       "  0.4297829866409302,\n",
       "  -0.4242142140865326,\n",
       "  -0.14384661614894867,\n",
       "  0.638168454170227,\n",
       "  -0.2524843215942383,\n",
       "  0.10482823103666306,\n",
       "  0.20767751336097717,\n",
       "  0.2311357855796814,\n",
       "  0.15940028429031372,\n",
       "  -0.021447034552693367,\n",
       "  0.13421748578548431,\n",
       "  -0.30335724353790283,\n",
       "  0.3354269564151764,\n",
       "  0.4990159571170807,\n",
       "  0.05169789865612984,\n",
       "  0.11911523342132568,\n",
       "  0.0012118443846702576,\n",
       "  0.10705023258924484,\n",
       "  0.33728092908859253,\n",
       "  4.341188430786133,\n",
       "  0.20403599739074707,\n",
       "  -0.06410198658704758,\n",
       "  0.2340151071548462,\n",
       "  0.15133607387542725,\n",
       "  0.04703574255108833,\n",
       "  0.46200501918792725,\n",
       "  0.05299310386180878,\n",
       "  -0.2249235361814499,\n",
       "  0.1936732828617096,\n",
       "  -0.15166430175304413,\n",
       "  0.602890133857727,\n",
       "  -0.23929165303707123,\n",
       "  -0.14213776588439941,\n",
       "  -0.09419424831867218,\n",
       "  0.48353731632232666,\n",
       "  0.004733957350254059,\n",
       "  -0.006423491053283215,\n",
       "  -0.04682382941246033,\n",
       "  -0.23235979676246643,\n",
       "  0.10623227804899216,\n",
       "  -0.04553718864917755,\n",
       "  0.36671945452690125,\n",
       "  -0.3207630217075348,\n",
       "  -1.1615006923675537,\n",
       "  0.12309374660253525,\n",
       "  0.19259610772132874,\n",
       "  -0.46644049882888794,\n",
       "  0.5850465893745422,\n",
       "  -0.22156287729740143,\n",
       "  0.004373911768198013,\n",
       "  -0.06559382379055023,\n",
       "  -0.3411482870578766,\n",
       "  0.10878440737724304,\n",
       "  0.23134393990039825,\n",
       "  -0.06165224313735962,\n",
       "  0.3697779178619385,\n",
       "  0.060410767793655396,\n",
       "  -0.006314242258667946,\n",
       "  -0.4544726014137268,\n",
       "  0.17229704558849335,\n",
       "  0.4584560990333557,\n",
       "  -0.23122523725032806,\n",
       "  0.5227336287498474,\n",
       "  -0.044318657368421555,\n",
       "  0.40905553102493286,\n",
       "  -0.09496059268712997,\n",
       "  -0.16284140944480896,\n",
       "  -0.20665600895881653,\n",
       "  -0.2142631709575653,\n",
       "  -0.03701195865869522,\n",
       "  0.09672664105892181,\n",
       "  0.08624155819416046,\n",
       "  -0.4507359266281128,\n",
       "  -0.2500527501106262,\n",
       "  -0.12509724497795105,\n",
       "  -0.1016027107834816,\n",
       "  0.4020884037017822,\n",
       "  -0.13618598878383636,\n",
       "  -0.4862648844718933,\n",
       "  -0.02931009978055954,\n",
       "  0.0972689837217331,\n",
       "  -0.20733773708343506,\n",
       "  -0.0415985994040966,\n",
       "  -0.2698509097099304,\n",
       "  0.02491404488682747,\n",
       "  -0.07247548550367355,\n",
       "  -0.0842849463224411,\n",
       "  -4.09079122543335,\n",
       "  0.12737463414669037,\n",
       "  0.4423578977584839,\n",
       "  0.33869248628616333,\n",
       "  0.18422427773475647,\n",
       "  -0.147504985332489,\n",
       "  -0.10800991952419281,\n",
       "  0.23801663517951965,\n",
       "  0.42539647221565247,\n",
       "  -0.4855651557445526,\n",
       "  0.19149184226989746,\n",
       "  0.2522141933441162,\n",
       "  -0.24323996901512146,\n",
       "  0.1743597388267517,\n",
       "  -0.4190731942653656,\n",
       "  0.36906856298446655,\n",
       "  -0.14726611971855164,\n",
       "  -0.1728089153766632,\n",
       "  -0.22314059734344482,\n",
       "  -0.06265049427747726,\n",
       "  0.06659355759620667,\n",
       "  0.27506834268569946,\n",
       "  -0.4625222086906433,\n",
       "  0.14683467149734497,\n",
       "  0.20237436890602112,\n",
       "  -0.09946183115243912,\n",
       "  -0.008165075443685055,\n",
       "  -0.38899704813957214,\n",
       "  0.5473449230194092,\n",
       "  -0.1271294504404068,\n",
       "  0.0663469061255455,\n",
       "  -0.4328131377696991,\n",
       "  0.3399587869644165,\n",
       "  0.21061649918556213,\n",
       "  -0.2586619555950165,\n",
       "  -2.3287973403930664,\n",
       "  -0.023350346833467484,\n",
       "  -0.08509337902069092,\n",
       "  -0.6458987593650818,\n",
       "  0.3467444181442261,\n",
       "  -0.10438749194145203,\n",
       "  0.5211740136146545,\n",
       "  -0.10806210339069366,\n",
       "  -0.10092975944280624,\n",
       "  0.2940313518047333,\n",
       "  0.28383710980415344,\n",
       "  -0.41025638580322266,\n",
       "  -0.17127037048339844,\n",
       "  0.620390772819519,\n",
       "  0.16037370264530182,\n",
       "  -0.06844393908977509,\n",
       "  0.24764138460159302,\n",
       "  0.38800984621047974,\n",
       "  0.122194305062294,\n",
       "  0.1621924638748169,\n",
       "  0.1047622412443161,\n",
       "  0.2512984871864319,\n",
       "  0.20674657821655273,\n",
       "  0.0028732754290103912,\n",
       "  0.37358754873275757,\n",
       "  0.7988922595977783,\n",
       "  -0.2560656666755676,\n",
       "  -0.41423162817955017,\n",
       "  -0.13949528336524963,\n",
       "  0.02363531105220318,\n",
       "  -0.17446836829185486,\n",
       "  -0.13549482822418213,\n",
       "  -0.0745205357670784,\n",
       "  0.05572492629289627,\n",
       "  -0.4380362033843994,\n",
       "  -0.17368027567863464,\n",
       "  0.6759291291236877,\n",
       "  0.4240512549877167,\n",
       "  0.43553847074508667,\n",
       "  0.17646346986293793,\n",
       "  -0.2706511616706848,\n",
       "  0.4445740878582001,\n",
       "  0.24741587042808533,\n",
       "  0.6778054237365723,\n",
       "  0.43767204880714417,\n",
       "  0.13661804795265198,\n",
       "  -0.28462639451026917,\n",
       "  -0.32836997509002686,\n",
       "  0.21071413159370422,\n",
       "  -0.14323469996452332,\n",
       "  -0.32436603307724,\n",
       "  -0.21397973597049713,\n",
       "  1.1621971130371094,\n",
       "  -0.03933902457356453,\n",
       "  0.2557404041290283,\n",
       "  0.06071333587169647,\n",
       "  0.08052755892276764,\n",
       "  0.05417533591389656,\n",
       "  0.3311609923839569,\n",
       "  0.1546311378479004,\n",
       "  0.6111679077148438,\n",
       "  0.3284660577774048,\n",
       "  0.3105141818523407,\n",
       "  -0.12906339764595032,\n",
       "  -0.055946946144104004,\n",
       "  -0.5213303565979004,\n",
       "  0.0892350822687149,\n",
       "  -0.30681222677230835,\n",
       "  0.20083482563495636,\n",
       "  0.3384212255477905,\n",
       "  -0.039402589201927185,\n",
       "  0.06424859166145325,\n",
       "  -0.10945193469524384,\n",
       "  -0.7635575532913208,\n",
       "  -0.07482165098190308,\n",
       "  0.36556386947631836,\n",
       "  -0.0406712144613266,\n",
       "  0.005816437304019928,\n",
       "  0.252543181180954,\n",
       "  -0.3133421540260315,\n",
       "  -0.10762889683246613,\n",
       "  -0.030614664778113365,\n",
       "  -0.1631307601928711,\n",
       "  0.5555083751678467,\n",
       "  -0.1704043745994568,\n",
       "  0.17306911945343018,\n",
       "  0.13072526454925537,\n",
       "  0.12904487550258636,\n",
       "  -0.29777950048446655,\n",
       "  -0.21657758951187134,\n",
       "  -0.3270697593688965,\n",
       "  0.3013785481452942,\n",
       "  0.23351353406906128,\n",
       "  -0.07319535315036774,\n",
       "  -0.12797512114048004,\n",
       "  0.17190256714820862,\n",
       "  0.6300613880157471,\n",
       "  -0.9543010592460632,\n",
       "  -0.038207828998565674,\n",
       "  -0.04402510076761246,\n",
       "  -0.32226359844207764,\n",
       "  -0.6747331023216248,\n",
       "  -0.45464035868644714,\n",
       "  0.05979492515325546,\n",
       "  -0.35145992040634155,\n",
       "  0.20520387589931488,\n",
       "  -0.3722759485244751,\n",
       "  0.33470749855041504,\n",
       "  -0.024828340858221054,\n",
       "  0.4781230092048645,\n",
       "  -0.06322319805622101,\n",
       "  0.15535813570022583,\n",
       "  0.2614469826221466,\n",
       "  0.16653214395046234,\n",
       "  0.6730896830558777,\n",
       "  -0.05498138815164566,\n",
       "  0.08548211306333542,\n",
       "  0.35111579298973083,\n",
       "  -0.012187851592898369,\n",
       "  0.2729252874851227,\n",
       "  0.41456642746925354,\n",
       "  0.06230730563402176,\n",
       "  0.15275707840919495,\n",
       "  0.021590424701571465,\n",
       "  0.1012856513261795,\n",
       "  -0.06988805532455444,\n",
       "  0.03142544999718666,\n",
       "  -0.2827511429786682,\n",
       "  -0.6549333333969116,\n",
       "  -0.4451129734516144,\n",
       "  -0.2393878549337387,\n",
       "  -0.03462500870227814,\n",
       "  -0.4207284450531006,\n",
       "  -0.6414130330085754,\n",
       "  -0.11667731404304504,\n",
       "  -0.21132268011569977,\n",
       "  -0.45357397198677063,\n",
       "  0.3707874119281769,\n",
       "  0.2387460470199585,\n",
       "  0.31867462396621704,\n",
       "  -0.010405749082565308,\n",
       "  -0.17284004390239716,\n",
       "  -0.3185344636440277,\n",
       "  0.45116257667541504,\n",
       "  -0.009571473114192486,\n",
       "  0.48682212829589844,\n",
       "  0.08189290761947632,\n",
       "  -0.17844200134277344,\n",
       "  -0.17787104845046997,\n",
       "  0.6774635910987854,\n",
       "  -0.13323219120502472,\n",
       "  -0.8449097871780396,\n",
       "  0.47154462337493896,\n",
       "  -0.08721169084310532,\n",
       "  0.12679420411586761,\n",
       "  0.12617167830467224,\n",
       "  0.12531940639019012,\n",
       "  -0.1330190896987915,\n",
       "  -0.2036217749118805,\n",
       "  -0.022250905632972717,\n",
       "  0.051456794142723083,\n",
       "  0.14960092306137085,\n",
       "  -1.3492567539215088,\n",
       "  0.5806447267532349,\n",
       "  0.088015615940094,\n",
       "  -0.24042463302612305,\n",
       "  0.39235320687294006,\n",
       "  0.06615784764289856,\n",
       "  -0.6732112765312195,\n",
       "  0.7035154104232788,\n",
       "  0.04567663371562958,\n",
       "  -0.029981903731822968,\n",
       "  0.06472432613372803,\n",
       "  0.13353680074214935,\n",
       "  0.07485054433345795,\n",
       "  0.19247598946094513,\n",
       "  -0.317376047372818,\n",
       "  0.03322460502386093,\n",
       "  0.19806000590324402,\n",
       "  -0.36775803565979004,\n",
       "  -0.03278706595301628,\n",
       "  0.09294088929891586,\n",
       "  0.06054407358169556,\n",
       "  0.4582451581954956,\n",
       "  0.1698903888463974,\n",
       "  -0.24940498173236847,\n",
       "  -0.16992121934890747,\n",
       "  -0.21734735369682312,\n",
       "  0.19050723314285278,\n",
       "  0.37534064054489136,\n",
       "  -0.18462641537189484,\n",
       "  0.10995064675807953,\n",
       "  0.06738701462745667,\n",
       "  -0.6050187349319458,\n",
       "  -0.7798112630844116,\n",
       "  -0.23588822782039642,\n",
       "  0.34126949310302734,\n",
       "  -0.2070329338312149,\n",
       "  -0.036288484930992126,\n",
       "  0.1780097931623459,\n",
       "  0.4674014151096344,\n",
       "  0.2631409466266632,\n",
       "  -0.10236536711454391,\n",
       "  0.43976256251335144,\n",
       "  0.07256884127855301,\n",
       "  -0.32891589403152466,\n",
       "  0.23747262358665466,\n",
       "  0.30133992433547974,\n",
       "  -0.3733135461807251,\n",
       "  0.30413326621055603,\n",
       "  0.29862672090530396,\n",
       "  -0.3381666839122772,\n",
       "  -0.1170739084482193,\n",
       "  -0.02941298857331276,\n",
       "  -0.10638364404439926,\n",
       "  -0.1780204474925995,\n",
       "  0.22602179646492004,\n",
       "  -0.10372589528560638,\n",
       "  0.09975661337375641,\n",
       "  0.1816280484199524,\n",
       "  -0.6094874143600464,\n",
       "  -0.1050337627530098,\n",
       "  0.15692247450351715,\n",
       "  -0.20556683838367462,\n",
       "  -0.26478075981140137,\n",
       "  0.16199080646038055,\n",
       "  -0.35681673884391785,\n",
       "  -0.30811548233032227,\n",
       "  0.4094544053077698,\n",
       "  -0.16753000020980835,\n",
       "  -0.2891613841056824,\n",
       "  -0.08051122725009918,\n",
       "  0.3342408239841461,\n",
       "  -0.16984154284000397,\n",
       "  -0.006063133478164673,\n",
       "  0.2639995217323303,\n",
       "  -0.2151983231306076,\n",
       "  0.1574665755033493,\n",
       "  -0.03285645321011543,\n",
       "  0.006005721166729927,\n",
       "  -0.035391636192798615,\n",
       "  -0.23238025605678558,\n",
       "  0.04871630296111107,\n",
       "  -0.5783004760742188,\n",
       "  -0.16848352551460266,\n",
       "  0.40416017174720764,\n",
       "  -0.02323085442185402,\n",
       "  0.03184488043189049,\n",
       "  0.16143453121185303,\n",
       "  0.2168492078781128,\n",
       "  -0.21426889300346375,\n",
       "  -0.11898200213909149,\n",
       "  -0.4516257643699646,\n",
       "  -0.4759472608566284,\n",
       "  0.4268169701099396,\n",
       "  0.052453428506851196,\n",
       "  0.16500355303287506,\n",
       "  0.1772204488515854,\n",
       "  0.05001912638545036,\n",
       "  -0.334726482629776,\n",
       "  -0.28526559472084045,\n",
       "  -0.008441265672445297,\n",
       "  -0.23866400122642517,\n",
       "  0.4378209412097931,\n",
       "  0.1819075644016266,\n",
       "  0.16659018397331238,\n",
       "  0.4512868821620941,\n",
       "  0.31386637687683105,\n",
       "  0.47191107273101807,\n",
       "  0.37036991119384766,\n",
       "  -0.2176443636417389,\n",
       "  0.007622893899679184,\n",
       "  -0.0952654778957367,\n",
       "  0.22950713336467743,\n",
       "  -0.18087786436080933,\n",
       "  -0.1545998901128769,\n",
       "  -0.005350768566131592,\n",
       "  -0.29007479548454285,\n",
       "  0.028431903570890427,\n",
       "  -0.13613323867321014,\n",
       "  2.2626078128814697,\n",
       "  0.5608294606208801,\n",
       "  0.2682727575302124,\n",
       "  -0.03198075294494629,\n",
       "  0.325515478849411,\n",
       "  0.02980550192296505,\n",
       "  0.037829235196113586,\n",
       "  -0.200235977768898,\n",
       "  -0.47439518570899963,\n",
       "  0.4006636142730713,\n",
       "  -0.26910635828971863,\n",
       "  0.16372090578079224,\n",
       "  -0.031607240438461304,\n",
       "  0.2652532458305359,\n",
       "  0.34528082609176636,\n",
       "  0.34107324481010437,\n",
       "  -0.5505403876304626,\n",
       "  -0.17273762822151184,\n",
       "  -0.7280497550964355,\n",
       "  -0.31177976727485657,\n",
       "  -0.2540871500968933,\n",
       "  0.19652779400348663,\n",
       "  0.2637133002281189,\n",
       "  -0.2050313651561737,\n",
       "  0.34659844636917114,\n",
       "  0.2774824798107147,\n",
       "  -0.2795352339744568,\n",
       "  -0.10610450804233551,\n",
       "  -0.061706751585006714,\n",
       "  -0.16172190010547638,\n",
       "  -0.19810406863689423,\n",
       "  -0.0011683311313390732,\n",
       "  0.003304567188024521,\n",
       "  -0.04929569736123085,\n",
       "  -0.15192104876041412,\n",
       "  0.1554139405488968,\n",
       "  -0.10935698449611664,\n",
       "  -0.26510411500930786,\n",
       "  -0.16838018596172333,\n",
       "  0.09990628063678741,\n",
       "  -0.1715089976787567,\n",
       "  -0.14471812546253204,\n",
       "  0.46502363681793213,\n",
       "  0.17155054211616516,\n",
       "  0.20592334866523743,\n",
       "  0.4985513389110565,\n",
       "  -0.12750756740570068,\n",
       "  -0.11887647211551666,\n",
       "  0.5210210680961609,\n",
       "  -0.1512726992368698,\n",
       "  -0.0776032954454422,\n",
       "  -0.22920778393745422,\n",
       "  -0.5370847582817078,\n",
       "  0.1178022176027298,\n",
       "  -0.5310039520263672,\n",
       "  -0.4117882549762726,\n",
       "  0.10488393902778625,\n",
       "  -0.011316748335957527,\n",
       "  -0.32878437638282776,\n",
       "  0.2576346695423126,\n",
       "  -0.1045805960893631,\n",
       "  0.11452088505029678,\n",
       "  0.31954988837242126,\n",
       "  -0.5033648014068604,\n",
       "  -0.23086722195148468,\n",
       "  -0.03160552680492401,\n",
       "  0.014656664803624153,\n",
       "  -0.04971235245466232,\n",
       "  -0.02476232685148716,\n",
       "  -0.39403223991394043,\n",
       "  -0.24018651247024536,\n",
       "  0.22342312335968018,\n",
       "  0.32426464557647705,\n",
       "  -0.10817988961935043,\n",
       "  0.1340342015028,\n",
       "  0.028334802016615868,\n",
       "  -0.018626734614372253,\n",
       "  -0.13104629516601562,\n",
       "  -0.2967228293418884,\n",
       "  -3.151698350906372,\n",
       "  0.06427045911550522,\n",
       "  0.10928983986377716,\n",
       "  0.34425783157348633,\n",
       "  0.024884801357984543,\n",
       "  0.3441413938999176,\n",
       "  0.2110038548707962,\n",
       "  -0.16369886696338654,\n",
       "  0.12060032784938812,\n",
       "  -0.16036298871040344,\n",
       "  0.3014087677001953,\n",
       "  0.21640761196613312,\n",
       "  -0.08070538192987442,\n",
       "  0.05533105880022049,\n",
       "  0.01983620412647724,\n",
       "  0.14072376489639282,\n",
       "  0.1509879231452942,\n",
       "  -0.4218728542327881,\n",
       "  -0.1057279109954834,\n",
       "  -0.3009406626224518,\n",
       "  -0.12409160286188126,\n",
       "  -0.018493130803108215,\n",
       "  -0.15925556421279907,\n",
       "  0.09182967245578766,\n",
       "  -0.5923380255699158,\n",
       "  0.6202608346939087,\n",
       "  -0.1751478910446167,\n",
       "  -0.2767093777656555,\n",
       "  -0.008115045726299286,\n",
       "  0.2811042070388794,\n",
       "  -0.08030207455158234,\n",
       "  0.38033753633499146,\n",
       "  0.07007394731044769,\n",
       "  0.27228617668151855,\n",
       "  0.15640386939048767,\n",
       "  -0.2455674111843109,\n",
       "  -0.2271607220172882,\n",
       "  0.09650780260562897,\n",
       "  0.08606988936662674,\n",
       "  -0.11472097039222717,\n",
       "  0.1357635110616684,\n",
       "  0.6659031510353088,\n",
       "  0.23323208093643188,\n",
       "  -0.029715169221162796,\n",
       "  -0.2733294665813446,\n",
       "  -0.23783054947853088,\n",
       "  0.49964067339897156,\n",
       "  -0.19753889739513397,\n",
       "  0.48203542828559875,\n",
       "  -0.06289386749267578,\n",
       "  0.013269253075122833,\n",
       "  -0.19476458430290222,\n",
       "  0.1438167542219162,\n",
       "  0.058084018528461456,\n",
       "  0.6327348351478577,\n",
       "  0.028198901563882828,\n",
       "  -0.39989936351776123,\n",
       "  -0.04360713064670563,\n",
       "  0.011654745787382126,\n",
       "  -0.2992631793022156,\n",
       "  0.3274727165699005,\n",
       "  0.0493888333439827,\n",
       "  -0.11270706355571747,\n",
       "  -0.08591709285974503,\n",
       "  0.3734228014945984,\n",
       "  -0.42488837242126465,\n",
       "  -0.37145566940307617,\n",
       "  -0.1384090930223465,\n",
       "  -0.004803622141480446,\n",
       "  0.18507471680641174,\n",
       "  -0.032066959887742996,\n",
       "  -0.04636620357632637,\n",
       "  0.38313084840774536,\n",
       "  -0.1689458042383194,\n",
       "  -0.17930874228477478,\n",
       "  0.32545018196105957,\n",
       "  0.37929266691207886,\n",
       "  0.19229047000408173,\n",
       "  -0.10009931027889252,\n",
       "  0.04899462312459946,\n",
       "  -0.03274751454591751,\n",
       "  0.1364554911851883,\n",
       "  -0.0020426511764526367,\n",
       "  -0.15544092655181885,\n",
       "  0.2533043324947357,\n",
       "  -8.408259391784668,\n",
       "  -0.44088199734687805,\n",
       "  -0.31385231018066406,\n",
       "  -0.5166236758232117,\n",
       "  0.2627730667591095,\n",
       "  -0.3071211576461792,\n",
       "  0.35318639874458313,\n",
       "  0.0832204520702362,\n",
       "  0.07415934652090073,\n",
       "  0.06431545317173004,\n",
       "  -0.0015427544713020325,\n",
       "  -0.1552153378725052,\n",
       "  -0.05809813365340233,\n",
       "  -0.16825531423091888,\n",
       "  0.39161986112594604,\n",
       "  0.4483214318752289]}"
      ]
     },
     "execution_count": 68,
     "metadata": {},
     "output_type": "execute_result"
    }
   ],
   "source": [
    "train_list_dict['1.tar_1401.0001.gz_infoingames_without_metric_arxiv_0_ori']['objects']['1']"
   ]
  },
  {
   "cell_type": "code",
   "execution_count": 69,
   "id": "9c652e92-8e3b-4ae4-80a2-9a914d05d7f1",
   "metadata": {
    "tags": []
   },
   "outputs": [],
   "source": [
    "import json \n",
    "with open(\"../docbank_data/docbank_full_feature_sg_train_positional_1_edited.json\", \"w\") as fp:\n",
    "    json.dump(train_list_dict, fp)\n",
    "    \n",
    "with open(\"../docbank_data/docbank_full_feature_sg_test_positional_1_edited.json\", \"w\") as fp:\n",
    "    json.dump(eval_list_dict, fp)"
   ]
  },
  {
   "cell_type": "code",
   "execution_count": null,
   "id": "8cf1e32e-169e-4777-8eda-c2515d7c5749",
   "metadata": {},
   "outputs": [],
   "source": []
  }
 ],
 "metadata": {
  "kernelspec": {
   "display_name": "Python 3 (ipykernel)",
   "language": "python",
   "name": "python3"
  },
  "language_info": {
   "codemirror_mode": {
    "name": "ipython",
    "version": 3
   },
   "file_extension": ".py",
   "mimetype": "text/x-python",
   "name": "python",
   "nbconvert_exporter": "python",
   "pygments_lexer": "ipython3",
   "version": "3.9.16"
  }
 },
 "nbformat": 4,
 "nbformat_minor": 5
}
