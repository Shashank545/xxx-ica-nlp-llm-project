{
 "cells": [
  {
   "cell_type": "markdown",
   "id": "c0e0c93d-c1c5-4d43-8777-197d9a4101e1",
   "metadata": {},
   "source": [
    "## Basic Installations"
   ]
  },
  {
   "cell_type": "code",
   "execution_count": 14,
   "id": "e69a9387-072c-4202-80d5-bf908b525382",
   "metadata": {
    "collapsed": true,
    "jupyter": {
     "outputs_hidden": true
    }
   },
   "outputs": [
    {
     "name": "stdout",
     "output_type": "stream",
     "text": [
      "Collecting python-pptx\n",
      "  Using cached python_pptx-0.6.21-py3-none-any.whl\n",
      "Requirement already satisfied: lxml>=3.1.0 in /Users/shashanksahoo/miniconda3/envs/openai-doctrans/lib/python3.9/site-packages (from python-pptx) (4.9.3)\n",
      "Collecting Pillow>=3.3.2 (from python-pptx)\n",
      "  Obtaining dependency information for Pillow>=3.3.2 from https://files.pythonhosted.org/packages/ce/e1/861a5508b9fd82b39c05e4d49c0979a9c8ccab07dae39d0ce72bd5f2299d/Pillow-10.0.0-cp39-cp39-macosx_10_10_x86_64.whl.metadata\n",
      "  Using cached Pillow-10.0.0-cp39-cp39-macosx_10_10_x86_64.whl.metadata (9.5 kB)\n",
      "Collecting XlsxWriter>=0.5.7 (from python-pptx)\n",
      "  Obtaining dependency information for XlsxWriter>=0.5.7 from https://files.pythonhosted.org/packages/37/94/25d3ec8587974de7ebd790232aa3155abfe44ed23df7ccaa4645977a1cbe/XlsxWriter-3.1.2-py3-none-any.whl.metadata\n",
      "  Downloading XlsxWriter-3.1.2-py3-none-any.whl.metadata (2.5 kB)\n",
      "Using cached Pillow-10.0.0-cp39-cp39-macosx_10_10_x86_64.whl (3.4 MB)\n",
      "Using cached XlsxWriter-3.1.2-py3-none-any.whl (153 kB)\n",
      "Installing collected packages: XlsxWriter, Pillow, python-pptx\n",
      "Successfully installed Pillow-10.0.0 XlsxWriter-3.1.2 python-pptx-0.6.21\n"
     ]
    }
   ],
   "source": [
    "# !pip install openai\n",
    "# !pip install fastapi\n",
    "# !pip install pydantic\n",
    "# !pip install docx2txt\n",
    "# !pip install tiktoken\n",
    "# !pip install langchain==0.0.224\n",
    "# !pip install python-dotenv\n",
    "# !pip install python-docx\n",
    "# !pip install python-pptx"
   ]
  },
  {
   "cell_type": "markdown",
   "id": "ab27b54d-b5e6-42da-b1fc-fe270eab840c",
   "metadata": {},
   "source": [
    "## Azure OpenAI Basic Credential, Parameter & Response Check"
   ]
  },
  {
   "cell_type": "code",
   "execution_count": 13,
   "id": "5cd93a3e-c172-46e6-8011-df9cac493125",
   "metadata": {},
   "outputs": [
    {
     "name": "stdout",
     "output_type": "stream",
     "text": [
      "The dotenv extension is already loaded. To reload it, use:\n",
      "  %reload_ext dotenv\n"
     ]
    }
   ],
   "source": [
    "import os\n",
    "import openai\n",
    "openai.api_type = \"azure\"\n",
    "openai.api_base = \"https://icaopenaidev.openai.azure.com/\"\n",
    "openai.api_version = \"2023-03-15-preview\"\n",
    "openai.api_key = os.getenv(\"OPENAI_API_KEY\")\n",
    "\n",
    "%load_ext dotenv\n",
    "%dotenv"
   ]
  },
  {
   "cell_type": "markdown",
   "id": "e4e3176b-738a-4d39-a37d-073c7893c81c",
   "metadata": {
    "jp-MarkdownHeadingCollapsed": true
   },
   "source": [
    "#### GPT 3.5 Model : Freezing Deterministic behaviour generating parameters"
   ]
  },
  {
   "cell_type": "code",
   "execution_count": 26,
   "id": "39eb1efb-b7ed-4fa4-bf74-e548066d93fb",
   "metadata": {},
   "outputs": [],
   "source": [
    "# Tried to iterate 3 times with same parameter settings and comparing the \n",
    "# exactness, coherence and consistently in all generated completions for a given system message\n",
    "\n",
    "gpt3_sample_response3 = openai.ChatCompletion.create(\n",
    "  engine=\"gpt-35-turbo\",\n",
    "  messages = [{\"role\":\"system\",\n",
    "               \"content\":\"You are an AI assistant that helps people find information.\"},\n",
    "              {\"role\":\"user\",\"content\":\"How are you?\"},\n",
    "              {\"role\":\"assistant\",\"content\":\"As an AI language model, I don't have feelings, but I'm functioning well. Thank you for asking! How may I assist you today?\"},\n",
    "              {\"role\":\"user\",\"content\":\"What is the history and family background of president of USA?\"}],\n",
    "  temperature=0.0,\n",
    "  max_tokens=100,\n",
    "  top_p=1,\n",
    "  frequency_penalty=0,\n",
    "  presence_penalty=0,\n",
    "  stop=None)"
   ]
  },
  {
   "cell_type": "code",
   "execution_count": 25,
   "id": "daa0c61f-8201-4f75-8141-9316120359f3",
   "metadata": {},
   "outputs": [
    {
     "data": {
      "text/plain": [
       "<OpenAIObject chat.completion id=chatcmpl-7kZ0EbYuP3kaVBluogcCMHkGI4oJF at 0x10dff6c70> JSON: {\n",
       "  \"id\": \"chatcmpl-7kZ0EbYuP3kaVBluogcCMHkGI4oJF\",\n",
       "  \"object\": \"chat.completion\",\n",
       "  \"created\": 1691331994,\n",
       "  \"model\": \"gpt-35-turbo\",\n",
       "  \"usage\": {\n",
       "    \"prompt_tokens\": 80,\n",
       "    \"completion_tokens\": 20,\n",
       "    \"total_tokens\": 100\n",
       "  },\n",
       "  \"choices\": [\n",
       "    {\n",
       "      \"message\": {\n",
       "        \"role\": \"assistant\",\n",
       "        \"content\": \"The history and family background of each US president varies. Which president are you interested in learning about?\"\n",
       "      },\n",
       "      \"finish_reason\": \"stop\",\n",
       "      \"index\": 0\n",
       "    }\n",
       "  ]\n",
       "}"
      ]
     },
     "execution_count": 25,
     "metadata": {},
     "output_type": "execute_result"
    }
   ],
   "source": [
    "gpt3_sample_response1"
   ]
  },
  {
   "cell_type": "code",
   "execution_count": 23,
   "id": "9183d365-eaa5-4ece-b2df-090652bc1ca9",
   "metadata": {},
   "outputs": [
    {
     "data": {
      "text/plain": [
       "<OpenAIObject chat.completion id=chatcmpl-7kZ00UGWHz1SrmU2gQLG2jpXrfpAq at 0x10de5b310> JSON: {\n",
       "  \"id\": \"chatcmpl-7kZ00UGWHz1SrmU2gQLG2jpXrfpAq\",\n",
       "  \"object\": \"chat.completion\",\n",
       "  \"created\": 1691331980,\n",
       "  \"model\": \"gpt-35-turbo\",\n",
       "  \"usage\": {\n",
       "    \"prompt_tokens\": 80,\n",
       "    \"completion_tokens\": 20,\n",
       "    \"total_tokens\": 100\n",
       "  },\n",
       "  \"choices\": [\n",
       "    {\n",
       "      \"message\": {\n",
       "        \"role\": \"assistant\",\n",
       "        \"content\": \"The history and family background of each US president varies. Which president are you interested in learning about?\"\n",
       "      },\n",
       "      \"finish_reason\": \"stop\",\n",
       "      \"index\": 0\n",
       "    }\n",
       "  ]\n",
       "}"
      ]
     },
     "execution_count": 23,
     "metadata": {},
     "output_type": "execute_result"
    }
   ],
   "source": [
    "gpt3_sample_response2"
   ]
  },
  {
   "cell_type": "code",
   "execution_count": 27,
   "id": "c184f9be-82ba-407e-92f2-db1e91bf1946",
   "metadata": {},
   "outputs": [
    {
     "data": {
      "text/plain": [
       "<OpenAIObject chat.completion id=chatcmpl-7kZ0lyZA5CXWnfQMTwq5saJSHSx3O at 0x10dff0f40> JSON: {\n",
       "  \"id\": \"chatcmpl-7kZ0lyZA5CXWnfQMTwq5saJSHSx3O\",\n",
       "  \"object\": \"chat.completion\",\n",
       "  \"created\": 1691332027,\n",
       "  \"model\": \"gpt-35-turbo\",\n",
       "  \"usage\": {\n",
       "    \"prompt_tokens\": 80,\n",
       "    \"completion_tokens\": 20,\n",
       "    \"total_tokens\": 100\n",
       "  },\n",
       "  \"choices\": [\n",
       "    {\n",
       "      \"message\": {\n",
       "        \"role\": \"assistant\",\n",
       "        \"content\": \"The history and family background of each US president varies. Which president are you interested in learning about?\"\n",
       "      },\n",
       "      \"finish_reason\": \"stop\",\n",
       "      \"index\": 0\n",
       "    }\n",
       "  ]\n",
       "}"
      ]
     },
     "execution_count": 27,
     "metadata": {},
     "output_type": "execute_result"
    }
   ],
   "source": [
    "gpt3_sample_response3"
   ]
  },
  {
   "cell_type": "markdown",
   "id": "58b27098-3e05-4d8a-88e4-2025e2708b6d",
   "metadata": {
    "jp-MarkdownHeadingCollapsed": true
   },
   "source": [
    "#### GPT 4 Model : Freezing Deterministic behaviour generating parameters"
   ]
  },
  {
   "cell_type": "code",
   "execution_count": 36,
   "id": "8539ba78-5f57-4de6-a3dc-a71f9e296dc1",
   "metadata": {},
   "outputs": [],
   "source": [
    "# Tried to iterate 3 times with same parameter settings and comparing the \n",
    "# exactness, coherence and consistently in all generated completions for a given system message\n",
    "\n",
    "gpt4_sample_response3 = openai.ChatCompletion.create(\n",
    "  engine=\"gpt-4\",\n",
    "  messages = [{\"role\":\"system\",\n",
    "               \"content\":\"You are an AI assistant that helps people find information.\"},\n",
    "              {\"role\":\"user\",\"content\":\"How are you?\"},\n",
    "              {\"role\":\"assistant\",\"content\":\"As an AI language model, I don't have feelings, but I'm functioning well. Thank you for asking! How may I assist you today?\"},\n",
    "              {\"role\":\"user\",\"content\":\"Is our universe expanding?\"}],\n",
    "  temperature=0.0,\n",
    "  max_tokens=100,\n",
    "  top_p=0.95,\n",
    "  frequency_penalty=0,\n",
    "  presence_penalty=0,\n",
    "  stop=None)"
   ]
  },
  {
   "cell_type": "code",
   "execution_count": 33,
   "id": "6a7f7907-4424-45b4-981f-cac247c6be8b",
   "metadata": {},
   "outputs": [
    {
     "data": {
      "text/plain": [
       "<OpenAIObject chat.completion id=chatcmpl-7kZ2uanDWNj57AliJ4LfPN7qCbCN9 at 0x10dff6bd0> JSON: {\n",
       "  \"id\": \"chatcmpl-7kZ2uanDWNj57AliJ4LfPN7qCbCN9\",\n",
       "  \"object\": \"chat.completion\",\n",
       "  \"created\": 1691332160,\n",
       "  \"model\": \"gpt-4\",\n",
       "  \"usage\": {\n",
       "    \"prompt_tokens\": 69,\n",
       "    \"completion_tokens\": 100,\n",
       "    \"total_tokens\": 169\n",
       "  },\n",
       "  \"choices\": [\n",
       "    {\n",
       "      \"message\": {\n",
       "        \"role\": \"assistant\",\n",
       "        \"content\": \"Yes, our universe is expanding. This idea is supported by the observation of the redshift of light from distant galaxies, which indicates that they are moving away from us. The expansion of the universe was first proposed by Belgian astronomer Georges Lema\\u00eetre and later confirmed by American astronomer Edwin Hubble. The current understanding is that the universe has been expanding since the Big Bang, which occurred approximately 13.8 billion years ago. The rate of expansion is described by the Hubble constant, and\"\n",
       "      },\n",
       "      \"finish_reason\": \"length\",\n",
       "      \"index\": 0\n",
       "    }\n",
       "  ]\n",
       "}"
      ]
     },
     "execution_count": 33,
     "metadata": {},
     "output_type": "execute_result"
    }
   ],
   "source": [
    "gpt4_sample_response1"
   ]
  },
  {
   "cell_type": "code",
   "execution_count": 35,
   "id": "fa151684-4a43-49d7-868f-db906a692a59",
   "metadata": {},
   "outputs": [
    {
     "data": {
      "text/plain": [
       "<OpenAIObject chat.completion id=chatcmpl-7kZ39Ynn27A4g8CD0siXOrfeJZH05 at 0x10e000900> JSON: {\n",
       "  \"id\": \"chatcmpl-7kZ39Ynn27A4g8CD0siXOrfeJZH05\",\n",
       "  \"object\": \"chat.completion\",\n",
       "  \"created\": 1691332175,\n",
       "  \"model\": \"gpt-4\",\n",
       "  \"usage\": {\n",
       "    \"prompt_tokens\": 69,\n",
       "    \"completion_tokens\": 100,\n",
       "    \"total_tokens\": 169\n",
       "  },\n",
       "  \"choices\": [\n",
       "    {\n",
       "      \"message\": {\n",
       "        \"role\": \"assistant\",\n",
       "        \"content\": \"Yes, our universe is expanding. This idea is supported by the observation of the redshift of light from distant galaxies, which indicates that they are moving away from us. The expansion of the universe was first proposed by Belgian astronomer Georges Lema\\u00eetre and later confirmed by American astronomer Edwin Hubble. The current understanding is that the universe has been expanding since the Big Bang, which occurred around 13.8 billion years ago. The rate of expansion is described by the Hubble constant, and\"\n",
       "      },\n",
       "      \"finish_reason\": \"length\",\n",
       "      \"index\": 0\n",
       "    }\n",
       "  ]\n",
       "}"
      ]
     },
     "execution_count": 35,
     "metadata": {},
     "output_type": "execute_result"
    }
   ],
   "source": [
    "gpt4_sample_response2"
   ]
  },
  {
   "cell_type": "code",
   "execution_count": 37,
   "id": "238a5594-20ab-4b21-bf24-198bc707724d",
   "metadata": {},
   "outputs": [
    {
     "data": {
      "text/plain": [
       "<OpenAIObject chat.completion id=chatcmpl-7kZA441CL5YTXy4epfcDZ9st1awZA at 0x10dfec220> JSON: {\n",
       "  \"id\": \"chatcmpl-7kZA441CL5YTXy4epfcDZ9st1awZA\",\n",
       "  \"object\": \"chat.completion\",\n",
       "  \"created\": 1691332604,\n",
       "  \"model\": \"gpt-4\",\n",
       "  \"usage\": {\n",
       "    \"prompt_tokens\": 69,\n",
       "    \"completion_tokens\": 100,\n",
       "    \"total_tokens\": 169\n",
       "  },\n",
       "  \"choices\": [\n",
       "    {\n",
       "      \"message\": {\n",
       "        \"role\": \"assistant\",\n",
       "        \"content\": \"Yes, our universe is expanding. This idea is supported by the observation of the redshift of light from distant galaxies, which indicates that they are moving away from us. The expansion of the universe was first proposed by Belgian astronomer Georges Lema\\u00eetre and later confirmed by American astronomer Edwin Hubble. The current understanding is that the universe has been expanding since the Big Bang, which occurred around 13.8 billion years ago. The rate of expansion is described by the Hubble constant, and\"\n",
       "      },\n",
       "      \"finish_reason\": \"length\",\n",
       "      \"index\": 0\n",
       "    }\n",
       "  ]\n",
       "}"
      ]
     },
     "execution_count": 37,
     "metadata": {},
     "output_type": "execute_result"
    }
   ],
   "source": [
    "gpt4_sample_response3"
   ]
  },
  {
   "cell_type": "markdown",
   "id": "7c4d32ad-4bc9-44af-80ed-bf3148c39679",
   "metadata": {},
   "source": [
    "## Prompt Tuning: English to Japanese translator on sample"
   ]
  },
  {
   "cell_type": "code",
   "execution_count": 2,
   "id": "a32499fc-9b50-46e4-9414-6a31d133264d",
   "metadata": {},
   "outputs": [],
   "source": [
    "import tiktoken\n",
    "tokenizer = tiktoken.get_encoding('cl100k_base')\n",
    "# create the length function\n",
    "def tiktoken_len(text):\n",
    "    tokens = tokenizer.encode(\n",
    "        text,\n",
    "        disallowed_special=()\n",
    "    )\n",
    "    return len(tokens)\n"
   ]
  },
  {
   "cell_type": "code",
   "execution_count": 38,
   "id": "b63b7eb9-2ca6-49c4-b058-5c6ad89230f2",
   "metadata": {},
   "outputs": [],
   "source": [
    "EN_JP_prompt1 = \"\"\"Convert the given English content to Japanese without adding any \n",
    "extra information to solve, answer, elaborate or explain anything related to content. \n",
    "Simply translate the content from English to Japanese. You must always correct spellings \n",
    "and reply in gramatically correct format in Japanese\"\"\"\n",
    "\n",
    "\n",
    "user_content1 = \"\"\"In the middle of the night, the narrator is awoken by the sound of \n",
    "footsteps on creaking floorboards. Her heart racing, the narrator strains to hear if the \n",
    "footsteps are approaching her bedroom.\"\"\"\n"
   ]
  },
  {
   "cell_type": "code",
   "execution_count": 39,
   "id": "71961f19-7c76-40ae-bf39-35069b33e95a",
   "metadata": {},
   "outputs": [],
   "source": [
    "prompt1_response = openai.ChatCompletion.create(\n",
    "  engine=\"gpt-4\",\n",
    "  messages = [{\"role\":\"system\",\n",
    "               \"content\":EN_JP_prompt1},\n",
    "              {\"role\":\"user\",\"content\":user_content1}],\n",
    "\n",
    "  temperature=0.0,\n",
    "  max_tokens=800,\n",
    "  top_p=0.95,\n",
    "  frequency_penalty=0,\n",
    "  presence_penalty=0,\n",
    "  stop=None)"
   ]
  },
  {
   "cell_type": "code",
   "execution_count": 43,
   "id": "203a919d-8cc2-4dc8-8b57-83947012e713",
   "metadata": {},
   "outputs": [],
   "source": [
    "prompt1_response_content = prompt1_response[\"choices\"][0][\"message\"][\"content\"]"
   ]
  },
  {
   "cell_type": "code",
   "execution_count": 46,
   "id": "a094b6e1-6f3d-46ba-a38c-49c0ae97a9ce",
   "metadata": {},
   "outputs": [
    {
     "data": {
      "text/plain": [
       "'真夜中に、語り手はきしむ床板の足音で目を覚まします。心臓が高鳴る中、語り手は足音が自分の寝室に近づいているかどうかを聞き分けようと努力します。'"
      ]
     },
     "execution_count": 46,
     "metadata": {},
     "output_type": "execute_result"
    }
   ],
   "source": [
    "prompt1_response_content"
   ]
  },
  {
   "cell_type": "code",
   "execution_count": 56,
   "id": "14ffaaf8-98d4-4454-ac69-94a322e2d0de",
   "metadata": {},
   "outputs": [
    {
     "name": "stdout",
     "output_type": "stream",
     "text": [
      "Total Length of Tokens Consumed : \n",
      " \n",
      " \n",
      "          # Tokens in System Message - 52 \n",
      "          # Tokens in User Message - 45\n",
      "          # Tokens in AI Message - 83\n",
      "          # Overall - 180\n"
     ]
    }
   ],
   "source": [
    "print(f\"\"\"Total Length of Tokens Consumed : \\n \\n \n",
    "          # Tokens in System Message - {tiktoken_len(EN_JP_prompt1)} \n",
    "          # Tokens in User Message - {tiktoken_len(user_content1)}\n",
    "          # Tokens in AI Message - {tiktoken_len(prompt1_response_content)}\n",
    "          # Overall - {tiktoken_len(EN_JP_prompt1)+tiktoken_len(user_content1)+tiktoken_len(prompt1_response_content)}\"\"\")"
   ]
  },
  {
   "cell_type": "code",
   "execution_count": 52,
   "id": "eef974d5-deac-435e-af91-170c4eec33d9",
   "metadata": {},
   "outputs": [],
   "source": [
    "EN_JP_prompt2 = \"\"\"Simply translate the given English content to Japanese format by \n",
    "correcting all grammatical and spelling mistakes.\"\"\"\n",
    "\n",
    "user_content2 = \"\"\"In the middle of the night, the narrator is awoken by the sound of \n",
    "footsteps on creaking floorboards. Her heart racing, the narrator strains to hear if \n",
    "the footsteps are approaching her bedroom.\"\"\"\n"
   ]
  },
  {
   "cell_type": "code",
   "execution_count": 53,
   "id": "61069c43-2a63-460c-ac41-ad702f4068d8",
   "metadata": {},
   "outputs": [],
   "source": [
    "prompt2_response = openai.ChatCompletion.create(\n",
    "  engine=\"gpt-4\",\n",
    "  messages = [{\"role\":\"system\",\n",
    "               \"content\":EN_JP_prompt2},\n",
    "              {\"role\":\"user\",\"content\":user_content2}],\n",
    "\n",
    "  temperature=0.0,\n",
    "  max_tokens=800,\n",
    "  top_p=0.95,\n",
    "  frequency_penalty=0,\n",
    "  presence_penalty=0,\n",
    "  stop=None)"
   ]
  },
  {
   "cell_type": "code",
   "execution_count": 55,
   "id": "0119aa09-21fa-45f4-9e85-7e4be729958c",
   "metadata": {},
   "outputs": [],
   "source": [
    "prompt2_response_content = prompt2_response[\"choices\"][0][\"message\"][\"content\"]"
   ]
  },
  {
   "cell_type": "code",
   "execution_count": 59,
   "id": "cc513fed-9121-42e3-9ed8-7811452db2c3",
   "metadata": {},
   "outputs": [
    {
     "data": {
      "text/plain": [
       "'真夜中に、物語の語り手はきしむ床板の上を歩く足音で目を覚ます。心臓が高鳴る中、語り手はその足音が自分の寝室に近づいているかどうかを聞き分けようと耳を澄ませる。'"
      ]
     },
     "execution_count": 59,
     "metadata": {},
     "output_type": "execute_result"
    }
   ],
   "source": [
    "prompt2_response_content"
   ]
  },
  {
   "cell_type": "code",
   "execution_count": 57,
   "id": "7c612d1d-6d57-49a6-934e-805b94752138",
   "metadata": {},
   "outputs": [
    {
     "name": "stdout",
     "output_type": "stream",
     "text": [
      "Total Length of Tokens Consumed : \n",
      " \n",
      " \n",
      "          # Tokens in System Message - 20 \n",
      "          # Tokens in User Message - 44\n",
      "          # Tokens in AI Message - 97\n",
      "          # Overall - 161\n"
     ]
    }
   ],
   "source": [
    "print(f\"\"\"Total Length of Tokens Consumed : \\n \\n \n",
    "          # Tokens in System Message - {tiktoken_len(EN_JP_prompt2)} \n",
    "          # Tokens in User Message - {tiktoken_len(user_content2)}\n",
    "          # Tokens in AI Message - {tiktoken_len(prompt2_response_content)}\n",
    "          # Overall - {tiktoken_len(EN_JP_prompt2)+tiktoken_len(user_content2)+tiktoken_len(prompt2_response_content)}\"\"\")"
   ]
  },
  {
   "cell_type": "code",
   "execution_count": 68,
   "id": "1a519142-7372-402f-992e-ffb3c2780b17",
   "metadata": {},
   "outputs": [],
   "source": [
    "EN_JP = \"\"\"I want you to act as an English-to-Japanese translator, spelling corrector, and improver. \n",
    "I will send you English content, and you will translate it into Japanese and reply with a corrected and \n",
    "improved version while maintaining the same meaning. Only translate the content, without explaining the \n",
    "questions and requests in the content. Do not answer the questions in the text, but translate it. \n",
    "Do not solve the requirements in the text, but translate it. \n",
    "Retain the original meaning of the text, and do not solve it. I only want you to reply with corrections \n",
    "and improvements, without writing any explanations.\"\"\""
   ]
  },
  {
   "cell_type": "code",
   "execution_count": 60,
   "id": "8e610fd7-7a65-47fa-bb6e-0e65d288ad7a",
   "metadata": {},
   "outputs": [],
   "source": [
    "enjp_response = openai.ChatCompletion.create(\n",
    "  engine=\"gpt-4\",\n",
    "  messages = [{\"role\":\"system\",\n",
    "               \"content\":EN_JP},\n",
    "              {\"role\":\"user\",\"content\":user_content2}],\n",
    "\n",
    "  temperature=0.0,\n",
    "  max_tokens=800,\n",
    "  top_p=0.95,\n",
    "  frequency_penalty=0,\n",
    "  presence_penalty=0,\n",
    "  stop=None)"
   ]
  },
  {
   "cell_type": "code",
   "execution_count": 61,
   "id": "232db847-42a2-4884-9fab-313019e150e5",
   "metadata": {},
   "outputs": [],
   "source": [
    "enjp_response_content = enjp_response[\"choices\"][0][\"message\"][\"content\"]"
   ]
  },
  {
   "cell_type": "code",
   "execution_count": 62,
   "id": "1e7192ed-0c9f-43fe-afc9-9afb8d31e47c",
   "metadata": {},
   "outputs": [
    {
     "data": {
      "text/plain": [
       "'真夜中に、物語の語り手はきしむ床板の上を歩く足音によって目を覚まします。心臓が高鳴る中、語り手はその足音が自分の寝室に近づいているかどうかを聞き分けようと努力します。'"
      ]
     },
     "execution_count": 62,
     "metadata": {},
     "output_type": "execute_result"
    }
   ],
   "source": [
    "enjp_response_content"
   ]
  },
  {
   "cell_type": "code",
   "execution_count": 63,
   "id": "39018959-98a2-4913-bcc5-e47c1c016266",
   "metadata": {},
   "outputs": [
    {
     "name": "stdout",
     "output_type": "stream",
     "text": [
      "Total Length of Tokens Consumed : \n",
      " \n",
      " \n",
      "          # Tokens in System Message - 128 \n",
      "          # Tokens in User Message - 44\n",
      "          # Tokens in AI Message - 95\n",
      "          # Overall - 267\n"
     ]
    }
   ],
   "source": [
    "print(f\"\"\"Total Length of Tokens Consumed : \\n \\n \n",
    "          # Tokens in System Message - {tiktoken_len(EN_JP)} \n",
    "          # Tokens in User Message - {tiktoken_len(user_content2)}\n",
    "          # Tokens in AI Message - {tiktoken_len(enjp_response_content)}\n",
    "          # Overall - {tiktoken_len(EN_JP)+tiktoken_len(user_content2)+tiktoken_len(enjp_response_content)}\"\"\")"
   ]
  },
  {
   "cell_type": "markdown",
   "id": "9e6ae6c5-a1e6-4057-a4b4-746589cecbf2",
   "metadata": {
    "jp-MarkdownHeadingCollapsed": true
   },
   "source": [
    "## Import DOCX file and extract text"
   ]
  },
  {
   "cell_type": "code",
   "execution_count": 63,
   "id": "c8791e95-8187-4237-9a2d-83a6ec4cd7ea",
   "metadata": {},
   "outputs": [],
   "source": [
    "import os\n",
    "from fastapi import HTTPException\n",
    "from io import BufferedReader\n",
    "from typing import Optional\n",
    "from fastapi import UploadFile\n",
    "import mimetypes\n",
    "# from PyPDF2 import PdfReader\n",
    "import hashlib\n",
    "import docx2txt\n",
    "import csv\n",
    "# import pptx\n",
    "from pydantic import BaseModel\n",
    "from typing import List, Optional\n",
    "from enum import Enum\n",
    "\n",
    "\n",
    "class TranslateResult(BaseModel):\n",
    "    original_content: str\n",
    "    translated_content: str\n",
    "    \n",
    "class Document(BaseModel):\n",
    "    id: Optional[str] = None\n",
    "    text: str\n",
    "    \n",
    "class ApiType(str, Enum):\n",
    "    open_ai = 'open_ai'\n",
    "    azure = 'azure'\n",
    "\n",
    "class TranslateType(str, Enum):\n",
    "    ZH_EN = 'zh_en'\n",
    "    EN_JP = 'en_jp'\n",
    "\n",
    "\n",
    "async def get_document_from_file(file: UploadFile) -> Document:\n",
    "    extracted_text = await extract_text_from_form_file(file)\n",
    "    doc = Document(text=extracted_text)\n",
    "\n",
    "    return doc\n",
    "\n",
    "\n",
    "def extract_text_from_filepath(filepath: str, mimetype: Optional[str] = None) -> str:\n",
    "    \"\"\"Return the text content of a file given its filepath.\"\"\"\n",
    "\n",
    "    if mimetype is None:\n",
    "        # Get the mimetype of the file based on its extension\n",
    "        mimetype, _ = mimetypes.guess_type(filepath)\n",
    "\n",
    "    if not mimetype:\n",
    "        if filepath.endswith(\".md\"):\n",
    "            mimetype = \"text/markdown\"\n",
    "        else:\n",
    "            raise Exception(\"Unsupported file type\")\n",
    "\n",
    "    # Open the file in binary mode\n",
    "    file = open(filepath, \"rb\")\n",
    "    extracted_text = extract_text_from_file(file, mimetype)\n",
    "\n",
    "    return extracted_text\n",
    "\n",
    "\n",
    "def extract_text_from_file(file: BufferedReader, mimetype: str) -> str:\n",
    "    if mimetype == \"application/pdf\":\n",
    "        # Extract text from pdf using PyPDF2\n",
    "        reader = PdfReader(file)\n",
    "        extracted_text = \"\"\n",
    "        for page in reader.pages:\n",
    "            extracted_text += page.extract_text()\n",
    "    elif mimetype == \"text/plain\" or mimetype == \"text/markdown\":\n",
    "        # Read text from plain text file\n",
    "        extracted_text = file.read().decode(\"utf-8\")\n",
    "    elif (\n",
    "        mimetype\n",
    "        == \"application/vnd.openxmlformats-officedocument.wordprocessingml.document\"\n",
    "    ):\n",
    "        # Extract text from docx using docx2txt\n",
    "        extracted_text = docx2txt.process(file, \"./imgs/\")\n",
    "    elif mimetype == \"text/csv\":\n",
    "        # Extract text from csv using csv module\n",
    "        extracted_text = \"\"\n",
    "        decoded_buffer = (line.decode(\"utf-8\") for line in file)\n",
    "        reader = csv.reader(decoded_buffer)\n",
    "        for row in reader:\n",
    "            extracted_text += \" \".join(row) + \"\\n\"\n",
    "    elif (\n",
    "        mimetype\n",
    "        == \"application/vnd.openxmlformats-officedocument.presentationml.presentation\"\n",
    "    ):\n",
    "        # Extract text from pptx using python-pptx\n",
    "        extracted_text = \"\"\n",
    "        presentation = pptx.Presentation(file)\n",
    "        for slide in presentation.slides:\n",
    "            for shape in slide.shapes:\n",
    "                if shape.has_text_frame:\n",
    "                    for paragraph in shape.text_frame.paragraphs:\n",
    "                        for run in paragraph.runs:\n",
    "                            extracted_text += run.text + \" \"\n",
    "                    extracted_text += \"\\n\"\n",
    "    else:\n",
    "        # Unsupported file type\n",
    "        file.close()\n",
    "        raise ValueError(\"Unsupported file type: {}\".format(mimetype))\n",
    "\n",
    "    file.close()\n",
    "    return extracted_text\n",
    "\n",
    "\n",
    "# Extract text from a file based on its mimetype\n",
    "async def extract_text_from_form_file(file: UploadFile):\n",
    "    \"\"\"Return the text content of a file.\"\"\"\n",
    "    # get the file body from the upload file object\n",
    "    mimetype = file.content_type\n",
    "    print(f\"mimetype: {mimetype}\")\n",
    "\n",
    "    file_stream = await file.read()\n",
    "\n",
    "    hash_code = hashlib.sha256(file_stream).hexdigest()\n",
    "    \n",
    "    if not os.path.exists(\"./temp_files/\"):\n",
    "        os.makedirs(\"./temp_files/\")\n",
    "        print(\"Temporary Folder created successfully!\")\n",
    "        \n",
    "    temp_file_path = f\"./temp_files/{hash_code}\"\n",
    "    \n",
    "    try:\n",
    "        with open(temp_file_path, \"wb\") as f:\n",
    "            f.write(file_stream)\n",
    "        extracted_text = extract_text_from_filepath(temp_file_path, mimetype)\n",
    "        \n",
    "    except Exception as e:\n",
    "        raise e\n",
    "\n",
    "    os.remove(temp_file_path)\n",
    "\n",
    "    return extracted_text"
   ]
  },
  {
   "cell_type": "code",
   "execution_count": 64,
   "id": "9b29d276-a444-49ec-a34d-5e7e21cdaf6b",
   "metadata": {},
   "outputs": [],
   "source": [
    "extracted_doctext = extract_text_from_filepath(\"131条通知記載事項_EN_201907.docx\")"
   ]
  },
  {
   "cell_type": "code",
   "execution_count": 5,
   "id": "841983c1-1dce-45cb-9df8-cc16f5993e27",
   "metadata": {
    "collapsed": true,
    "jupyter": {
     "outputs_hidden": true
    }
   },
   "outputs": [
    {
     "data": {
      "text/plain": [
       "\"ABCD\\n\\n○○○○株式会社御中\\n\\n有限責任 あずさ監査法人の品質管理システム\\n\\nJune 2012\\n\\n\\n\\n\\n\\n\\n\\nEnglish Translation-Reference Purpose Only\\n\\nThis is an unofficial translation of the Japanese original version prepared solely for the convenience of readers outside Japan.  If there is any discrepancy between the Japanese original and this translation, the Japanese original will prevail.\\n\\n\\n\\n\\n\\nNotification of the matters reported to the corporate auditors, etc. in accordance with Article 131 of the Corporate Calculation Regulations\\n\\n\\n\\n\\n\\nXX  2019\\n\\nKPMG AZSA LLC\\n\\nTable of Contents\\n\\n1. System of quality control\\t1\\n\\n2. Tone at the top\\t3\\n\\n(1)\\tLeadership responsibilities for quality and risk management\\t4\\n\\n3. Association with the right clients\\t5\\n\\n(1)\\tAcceptance and continuance of clients and engagements\\t5\\n\\n(2)\\tProspective client and engagement acceptance process\\t5\\n\\n(3)\\tContinuance process\\t6\\n\\n(4)\\tWithdrawal\\t6\\n\\n(5)\\tClient portfolio management\\t6\\n\\n4. Clear standards and robust audit tools\\t7\\n\\n(1)\\tOur approach to audit\\t7\\n\\n(2)\\tIndependence, integrity, ethics and objectivity\\t9\\n\\n5. Recruitment, development and assignment of appropriately qualified personnel\\t13\\n\\n(1)\\tRecruitment\\t14\\n\\n(2)\\tPersonal development\\t14\\n\\n(3)\\tInclusion and Diversity programs\\t14\\n\\n(4)\\tEvaluation process including quality and compliance metrics\\t15\\n\\n(5)\\tPartner admissions\\t15\\n\\n(6)\\tAssignment of professionals\\t15\\n\\n(7)\\tfrom our people - Global People Survey (GPS)\\t16\\n\\n6. Commitment to technical excellence and quality service delivery\\t17\\n\\n(1)\\tLifetime learning strategy\\t17\\n\\n(2)\\tLicensing and mandatory requirements for IFRS and U.S. GAAP engagements\\t17\\n\\n(3)\\tAccess to specialist networks\\t18\\n\\n(4)\\tCulture of Consultation\\t18\\n\\n(5)\\tDeveloping business understanding and industry knowledge\\t19\\n\\n7. Performance of effective and efficient audits\\t19\\n\\n(1)\\tOngoing mentoring, supervision and review\\t19\\n\\n(2)\\tTimely engagement quality control (EQC) reviewers\\t20\\n\\n(3)\\tReporting\\t20\\n\\n(4)\\tInsightful, open and honest two-way communication\\t21\\n\\n(5)\\tCommunications between predecessor auditor and successor auditor\\t21\\n\\n(6)\\tClient confidentiality, information security and data privacy\\t21\\n\\n(7)\\tRisk associated information\\t21\\n\\n8. Commitment to continuous improvement\\t22\\n\\n(1)\\tInternal monitoring and compliance programs\\t22\\n\\n(2)\\tExternal feedback and dialogue\\t24\\n\\n\\n\\n\\n\\n\\n\\n\\n System of quality control \\n\\nOverview\\n\\nKPMG AZSA implements KPMG International policies and procedures as well as adopts additional policies and procedures that are designed to address rules and standards issued by the Business Accounting Council of the Financial Service Agency, Japanese Government and the Japanese Institute of Certified Public Accountants (JICPA), and other regulators as well as local laws, such as the Certified Public Accountants Law, Companies Act, Financial Instruments and Exchange Law, other applicable related regulations, the Auditing Standards and Quality Control Standards related auditing by laws of the JICPA, and the Code of Ethics and practical guidance on auditing from the JICPA. \\n\\n\\n\\nA robust and consistent system of quality control is an essential requirement in performing high-quality services. Accordingly, KPMG International has quality control policies that apply to all member firms. These are included in KPMG’s Global Quality & Risk Management Manual (Global Q&RM Manual) available to all KPMG personnel. \\n\\n\\n\\nThese policies and associated procedures are designed to assist member firms in complying with relevant professional standards, regulatory and legal requirements, and in issuing reports that are appropriate in the circumstances, as well as help member firm personnel act with integrity and objectivity and perform their work with diligence. These policies and procedures are based on the International Standard on Quality Control 1 (ISQC 1) issued by the International Auditing and Assurance Standards Board (IAASB), and on the Code of Ethics for Professional Accountants issued by the International Ethics Standards Board for Accountants (IESBA). Both of these are relevant to member firms that perform statutory audits and other assurance and related services engagements.\\n\\n\\n\\nKPMG AZSA is required to implement KPMG International policies and procedures and also adopts additional policies and procedures that are designed to address rules and standards issued by the Financial Services Agency and JICPA, and other relevant regulators as well as applicable legal and regulatory requirements. Amendments to risk and quality policies, including ethics and independence policies, are included in quality and risk management alerts and are communicated by email.\\n\\nKPMG AZSA is required to implement changes specified in the email alerts and this is checked through internal monitoring.\\n\\nQuality control and risk management are the responsibility of all KPMG AZSA personnel. This responsibility includes the need to understand and adhere to firm policies and associated procedures in carrying out their day-to-day activities. The system of quality control applies to all KPMG personnel wherever they are based.\\n\\nWhile many KPMG’s quality control processes are cross-functional and apply equally to advisory work, the remainder of this section focuses on the delivery of quality audits.  \\n\\n\\n\\nAudit quality framework\\n\\nAt KPMG AZSA, audit quality is not just about reaching the right opinion but how that opinion is reached. It is about the processes, thought, and integrity behind the auditors’ report. The outcome of a quality audit is the delivery of an appropriate and independent opinion in compliance with relevant professional standards and applicable legal and regulatory requirements.\\n\\nTo help all audit professionals concentrate on the fundamental skills and behaviors required to deliver a quality audit, KPMG International has developed the Audit Quality Framework. This framework uses a common language that is adopted by all KPMG member firms, including KPMG AZSA, to describe what the KPMG network believes drives audit quality, and to highlight how every audit professional at each KPMG member firm contributes to the delivery of audit quality. \\n\\n\\n\\nTone at the top sits at the core of the Audit Quality Framework’s seven drivers of audit quality and helps ensure that the right behaviors permeate across the entire KPMG network. All of the other drivers create a virtuous circle because each driver is intended to reinforce the others. Each of the seven drivers is described in more detail in the following sections of this report.\\n\\n\\n\\n \\n\\n\\n\\n\\n\\n\\n\\n\\n\\n\\n\\n\\n\\n\\n\\n\\n\\n\\n\\n\\n\\n\\n\\n\\n\\n\\n\\n\\n\\n\\n\\n\\n\\n\\n\\n\\n\\n\\n\\n Tone at the top\\n\\nThe culture of KPMG International and KPMG member firms is underpinned by a strong set of values and supporting policies and processes, which enable the right attitudes and behaviors to permeate throughout the KPMG network. \\n\\nOur global leadership, working with regional and member firm leaderships, plays a critical role in establishing our commitment to quality and the highest standards of professional excellence. A culture based on quality, integrity and ethics is essential in an organization that carries out audits and other services on which stakeholders and investors rely. \\n\\nAt KPMG AZSA, we promote a culture in which consultation is encouraged and recognized as a strength.\\n\\n\\n\\nTone at the top means that KPMG AZSA leadership demonstrates commitment to quality, ethics, and integrity as well as communicates its commitment to clients, stakeholders, and society at large. Integrity is a critical characteristic that stakeholders expect and rely on. It is also the key KPMG value — “Above all, we act with integrity”. Integrity means constantly striving to uphold the highest professional standards, providing sound good-quality advice, and rigorously maintaining our independence. \\n\\nThe KPMG values, which have been explicitly codified for a number of years, are embedded into working practices and compliance culture at KPMG AZSA. \\n\\nThe KPMG values form the foundation of our culture and set the tone at the top. They also form the foundation of the KPMG approach to audit and shape how we work together. We communicate the KPMG values clearly to our people and embed them into our people processes — induction, performance development, and reward.\\n\\n\\n\\nKPMG Global Code of Conduct \\n\\nKPMG’s commitment to integrity and quality is enshrined in the KPMG values that lie at the heart of the way we do things. They define KPMG’s diverse and inclusive culture and our commitment to the right personal and professional conduct. The KPMG values emphasize that, above all, KPMG personnel act with integrity, uphold the highest professional standards, and provide sound advice while rigorously maintaining independence and complying with laws, regulations, and professional standards. The KPMG values are communicated clearly to all people and are embedded into member firms’ people processes — induction, performance development, and reward.\\n\\nBuilding on the KPMG values is the KPMG Global Code of Conduct.\\n\\nMember firms, including KPMG AZSA, are required to adopt, as a minimum, the Global Code of Conduct.  \\n\\n\\n\\nKPMG AZSA Code of Conduct \\n\\nThe KPMG AZSA Code of Conduct lays out the expectations of ethical behavior for all partners and employees at KPMG AZSA and is built on the foundation of the KPMG values, the shared set of beliefs and principles at KPMG. In addition, the KPMG AZSA Code of Conduct emphasizes that each partner and employee is personally responsible for following the legal, professional, and ethical standards that apply to his or her job function and level of responsibility. The KPMG AZSA Code of Conduct sets out our commitments and includes provisions that require KPMG personnel, in summary, to:\\n\\ncomply with all applicable laws, regulations, professional standards, and KPMG AZSA policies;\\n\\nwork with the right clients and third parties;\\n\\nfocus on quality;\\n\\nnot tolerate any illegal or unethical acts, committed within KPMG AZSA, by clients or suppliers, or public officials with whom we deal;\\n\\nprotect information;\\n\\ncompete fairly;\\n\\nhelp our people to be extraordinary;\\n\\nbe responsible corporate citizens;\\n\\nbuild public trust.\\n\\n\\n\\nAll KPMG AZSA personnel are required to:\\n\\ncomply with both the Global Code of Conduct and the KPMG AZSA Code of Conduct and confirm their compliance with the Code of Conduct upon joining the firm and annually thereafter; \\n\\ncomplete regular training covering the Code of Conduct upon joining the firm and annually thereafter. \\n\\nIndividuals are encouraged to speak up when they see something that makes them uncomfortable or that is inconsistent with the KPMG values. Moreover, everyone at KPMG is responsible for reporting, and is required to report, any activity that could potentially be illegal or in violation of the KPMG values, KPMG policies, applicable laws, regulations, or professional standards.\\n\\nWe have procedures and established channels of communication so that our personnel can report ethical and quality issues. Retaliation is prohibited against individuals who ‘raise their hand’ and speak up in good faith. Also, all the information, including that related to fraud risk ( i.e., risks of material misstatements due to fraud) posted from KPMG internal and external parties are communicated with relating engagement partners, and their audit response is to be reported to head office. \\n\\nIn addition, the KPMG International hotline is a mechanism for all KPMG partners, employees, clients, and other external parties to confidentially report their concerns related to certain areas of activity by KPMG International itself, KPMG member firms or the senior leadership or employees of a KPMG member firm. At KPMG AZSA, we regularly monitor the extent to which our people feel we live the KPMG values through the Global People Survey (GPS) (refer to section 5. (7)).\\u3000\\n\\n\\nLeadership responsibilities for quality and risk management\\n\\nKPMG AZSA demonstrates commitment to quality, ethics, and integrity as well as communicates our focus on quality to clients, stakeholders, and society. Our leadership plays a critical role in setting the right tone and leading by example demonstrating an unwavering commitment to the highest standards of professional excellence and championing and supporting major initiatives.  \\n\\nOur leadership team is committed to building a culture based on quality, integrity, and ethics, demonstrated through their actions — written and video communications, presentations to teams, and one-to-one discussions. \\n\\nThe following individuals have leadership responsibilities for quality and risk management at KPMG AZSA.\\n\\n\\n\\nManaging partner\\n\\nIn accordance with the principles in ISQC1, our Managing Partner has assumed ultimate responsibility for KPMG AZSA’s system of quality control including audit response to fraud risk. \\n\\n\\n\\nThe Executive Board member in charge of Quality\\n\\nOperational responsibility for the system of quality control, risk management, and compliance in KPMG AZSA has been delegated to the Executive Board member in charge of Quality who is responsible for setting overall professional risk management and quality control policies and monitoring compliance for the firm. \\n\\nManaging Partner and the Executive Board member in charge of Quality communicate our internal policy about our system of quality control, and behavior and message prioritizing audit quality to professionals, through internal meetings and newsletters. \\n\\nEngagement partner is responsible for quality and risk management of each engagement involved.\\n\\n\\n\\n Association with the right clients\\n\\nAcceptance and continuance of clients and engagements\\n\\nOne of the keys to managing audit quality is to understand the nature of our clients and the issues they face and build a robust audit response to the identified risks.\\n\\nWe understand our clients are linked to the quality of our work and our reputation. \\n\\nRigorous client and engagement acceptance and continuance policies and processes help protect KPMG’s reputation, support the KPMG brand and are an important part to our ability to provide high-quality professional services. Accordingly, KPMG International has established policies and procedures which all member firms are required to implement in order to decide whether to accept or continue a client relationship, and whether to perform a specific engagement for that client.\\n\\n\\n\\nProspective client and engagement acceptance process  \\n\\nKPMG AZSA undertakes an evaluation of every prospective client.  \\n\\nThis involves background checks on the prospective client, its key management, and significant beneficial owners and then properly analyzing the information to be able to make an informed acceptance decision. This evaluation includes the completion of a questionnaire to assess the client’s risk profile and obtaining background information on the client, its key management, directors, and owners. We also obtain additional information required to satisfy our local legal and/or regulatory requirements.  \\n\\nA second partner, as well as the evaluating partner, approves each prospective client evaluation. Where the client is considered to be ‘high risk’, additional approvals by the Risk Management Partner and, in some cases, the office managing partner, or the Executive Board member in charge of Quality, are required.\\n\\n\\n\\nEngagement evaluation \\n\\nEach prospective engagement is also evaluated to identify potential risks in relation to the engagement. A range of factors are considered as part of this evaluation, including potential independence and conflict of interest issues (using Sentinel™, KPMG’s conflicts and independence checking system), intended purpose and use of engagement deliverables, as well as factors specific to the type of engagement. For audit services, these include the competence of the client’s financial management team, the skills and experience of personnel assigned to staff the engagement and fraud risk. The evaluation is made in consultation with other senior KPMG AZSA personnel and includes review by quality and risk management leadership as required.\\n\\nWhere audit services are to be provided for the first time, the prospective engagement team is required to perform additional independence evaluation procedures including a review of any non-audit services provided to the client and of other relevant business and personal relationships. \\n\\nSimilar independence evaluations are performed when an existing audit client becomes a public interest entity or additional independence restrictions apply following a change in the circumstances of the client. We follow specific procedures (detailed further in section 4.(2) ⑦) to identify and evaluate threats to independence for prospective audit clients that are public interest entities. \\n\\nDepending on the overall risk assessment of the prospective client and engagement, additional safeguards may be introduced to help mitigate the identified risks. Any potential independence or conflict of interest issues are required to be documented and resolved prior to acceptance.\\u3000\\n\\nA prospective client or engagement will be declined if a potential independence or conflict issue cannot be resolved satisfactorily in accordance with professional standards and our policies, or if there are other quality and risk issues that cannot be appropriately mitigated.\\n\\n\\n\\nContinuance process\\n\\nKPMG AZSA undertakes an annual re-evaluation of all its audit clients. The re-evaluation identifies any issues in relation to continuing association and any mitigating procedures that need to be put in place. \\n\\nRecurring or long-running non-audit engagements are also subject to the re-evaluation. In addition, clients and engagements are required to be re-evaluated if there is an indication that there may be a change in their risk profile. \\n\\n\\n\\nWithdrawal\\n\\nWhere we obtain information that indicates that we should withdraw from an engagement or from a client relationship, we consult internally and identify any required legal, professional, and regulatory responsibilities. We also communicate as necessary with those charged with governance and appropriate authority.\\n\\n\\n\\nClient portfolio management\\n\\nOur leadership appoints engagement partners who have the appropriate competence, capabilities, time and authority to perform the role for each engagement. \\n\\nWe review each audit partner’s client portfolio at least annually in individual discussions with the audit partner. The reviews consider the industry, nature, and risk of the client portfolio as a whole along with the competence, capabilities, and capacity of the partner to deliver a quality audit for every client.\\n\\n\\n\\n\\n\\n\\n\\n\\n\\n\\n\\n\\n\\n\\n\\n\\n\\n\\n\\n\\n\\n\\n\\n\\n\\n\\n\\n\\n\\n\\n\\n\\n\\n\\n\\n\\n\\n\\n\\n Clear standards and robust audit tools\\n\\nAll KPMG AZSA professionals are expected to adhere to KPMG International and KPMG AZSA policies and procedures, including independence policies. They are provided with a range of tools and guidance in order to meet these expectations. \\n\\nThe policies and procedures set for audit engagements incorporate the relevant requirements of accounting, auditing, ethical, and quality control standards, as well as other relevant laws and regulations.\\n\\n\\n\\nOur approach to audit\\n\\nKPMG has been investing significantly in evolving the network’s audit capabilities and will continue to do so in the coming years including a new global electronic audit workflow delivered through KPMG Clara platform — KPMG’s smart, modular audit platform — capable of continually integrating new and emerging technologies, with advanced capabilities embedded that leverage data, automation, and visualization. Data & Analytics (D&A) is integral to the way how KPMG member firms obtain audit evidence and interact with clients in the digital era. \\n\\nKPMG’s high-quality audit process will continue to include: \\n\\ntimely partner and manager involvement throughout the engagement;\\n\\naccess to the right knowledge including involvement of specialists, training and experience requirements, and relevant industry expertise;\\n\\ncritical assessment of all audit evidence obtained during the audit, exercising appropriate professional judgment;\\n\\nongoing mentoring, supervision, and review of the engagement team.\\n\\n\\n\\nConsistent audit methodology and tools\\n\\nSignificant resources are dedicated to keeping KPMG’s standards and tools complete and up to date. The KPMG audit methodology, developed by the Global Service Centre (GSC), is based on the requirements of the International Standards on Auditing (ISAs). The KPMG audit methodology is set out in KPMG Audit Manual (KAM) and includes additional requirements that go beyond the ISAs, which KPMG International believes enhance the audit quality. The methodology emphasizes applying appropriate professional skepticism in the execution of audit procedures and requires compliance with relevant ethical requirements, including independence. Enhancements to the audit methodology, guidance, and tools are made regularly to be in compliance with standards, emerging auditing areas of focus, and audit quality results (internal and external). Key topics include accounting estimates, internal control, revenue recognition, group audits, audit sampling and risk assessment.\\n\\n\\n\\nKPMG member firms may add local requirements and/or guidance in KAM to comply with additional professional, legal, or regulatory requirements. \\n\\nKAM contains examples and guidance for, among other things, procedures intended to identify and assess the risk of material misstatement and procedures to respond to those assessed risks. \\n\\nThe KPMG audit methodology encourages the use of specialists when appropriate, and also requires the involvement of relevant specialists in the core audit engagement team when certain criteria are met or where the audit team considers it appropriate or necessary. \\n\\nThe policies and procedures set out in KAM are specific to audits and supplement the policies and procedures set out in the Global Q&RM Manual that is applicable to all KPMG member firms, functions, and personnel. \\n\\nThe KPMG audit workflow is enabled through eAudIT, an activity-based workflow and electronic audit file. eAudIT is KPMG’s audit documentation workflow that allows 75,000+ professionals to complete high-quality and consistent audits. eAudIT integrates KPMG’s audit methodology, guidance, and industry knowledge as well as the tools needed to execute and document the audit work performed. \\n\\neAudIT can be “scaled” to present the relevant requirements and guidance, depending on the nature of the entity to be audited and in accordance with professional standards and applicable legal and regulatory requirements. It provides direct access to our audit guidance, professional standards, and documentation templates. \\n\\nSignificant investments are underway to revise and enhance the KPMG audit methodology (KAM) and workflow tool (eAudIT), with the deployment of KPMG Clara Workflow which was piloted in 2018 and is planned for initial deployment globally in 2019 and full deployment beginning in 2020..\\n\\n\\n\\nKPMG Clara, KPMG Clara Workflow and Audit Data & Analytics (D&A) \\n\\nKPMG International is making significant investments to improve audit quality, drive consistency in the execution of audits, and strengthen both the member firm and global monitoring of engagements. \\n\\n\\n\\nKPMG Clara\\n\\nIn 2017, KPMG International commenced the global launch of KPMG Clara — KPMG’s Smart Audit Platform — bringing together KPMG’s Audit Data & Analytics (D&A) capabilities, innovative new technologies, collaboration capabilities, and audit workflow. \\n\\nThis represents KPMG’s ambition to: \\n\\ntransform audit execution for our people and clients through new, modern technology-enabled interfaces and collaboration functionality; \\n\\nintegrate the required capability to digitize the audit and deliver new D&A routines; \\n\\nenable an enhanced and re-designed workflow; \\n\\nincorporate the development of monitoring capabilities at the engagement-level and across engagement portfolios for use by engagement teams and member firms; \\n\\nsupport global leadership’s monitoring of the effectiveness of member firm systems of quality control; \\n\\ndevelop an extendable audit platform to enable member firm customization and scale, as well as future capabilities.\\n\\n\\n\\n\\n\\nKPMG Clara Workflow\\n\\nBuilding on the launch of KPMG Clara in 2017, KPMG International is creating a new workflow tool that will be used by KPMG audit teams to execute and document KPMG audits. It will be intuitive, user-friendly, and modern. The new system will genuinely be a workflow guiding audit teams through a series of steps in a logical sequence, with clearer display of information and visuals, knowledge and guidance available as and when needded, and with embedded advanced D&A capabilities. The workflow and methodology will also be scalable — adjusting the requirements to the size and complexity of the audit engagement. This globally driven project will significantly overhaul and redesign the execution of an audit by KPMG professionals and drive improvements in audit quality. \\n\\n\\n\\nAudit data & analytics (D&A)\\n\\nKPMG’s audit, powered by D&A:\\n\\nIt enhances audit quality by providing a deeper understanding of data populations, giving focus to higher risk transactions. \\n\\nIt is secure as it restricts access to data both in transit and within KPMG’s IT environments. \\n\\nIt provides transparency by facilitating detailed analysis to uncover the reasons behind, and root causes of, outliers and anomalies as well as providing increased visibility into higher risk transactions and process areas. \\n\\nD&A tools and routines are built on principles and professional standards underlying an audit and do not relieve auditors of their responsibilities. \\n\\n\\n\\nIndependence, integrity, ethics, and objectivity \\n\\nOverview\\n\\nAuditor independence is a cornerstone of international professional standards and regulatory requirements.\\n\\nKPMG International has detailed independence policies and procedures, incorporating the requirements of the IESBA Code of Ethics. These are set out in KPMG’s Global Q&RM Manual. Automated tools facilitate compliance with these requirements.\\u3000\\n\\nThese policies are supplemented by other processes to ensure compliance with the standards issued by the Certified Public Accountant Law and Code of Ethics issued by the JICPA.\\n\\nThese policies and processes cover areas such as firm independence, personal independence, firm financial relationships, post-employment relationships, partner rotation, and approval of audit and non-audit services. \\n\\nKPMG International has a Partner-in-Charge of the Global Independence Group, who is supported by a core team of specialists to help ensure that robust and consistent independence policies and procedures are in place at KPMG member firms, and that tools are available to help them and their personnel comply with these requirements.   \\n\\nKPMG AZSA has a designated Ethics and Independence Partner (EIP) who has primary responsibility for the direction and execution of ethics and independence policies and procedures. \\n\\nAmendments to KPMG International's ethics and independence policies in the course of the year are included in regular quality and risk communications.\\n\\nMember firms are required to implement changes as specified in the email alerts, and this is checked through the internal monitoring programs.\\n\\nKPMG AZSA personnel are required to consult with the EIP on certain matters as defined in our internal rules. Consultations may also be required with the Global Independence Group, depending upon the facts and circumstances.\\n\\n\\n\\nPersonal financial independence\\n\\nKPMG International policies require that KPMG member firms and KPMG professionals are free from prohibited financial interests in, and prohibited relationships with, KPMG member firm audit clients, their management, directors, and significant owners. The policies also extend the IESBA Code of Ethics restrictions on ownership of audit client securities to every partner and all staff who are manager grade or above in our firm in respect of any audit client of any member firm.\\n\\nKPMG AZSA professionals are responsible for making appropriate inquiries and taking other appropriate actions on an ongoing basis to ensure that they do not have any personal financial, business or family interests that are restricted for independence purposes. \\n\\nIn common with other KPMG member firms, we use a web-based independence compliance system (KICS) to assist our professionals in complying with personal independence investment policies. This system contains an inventory of publicly available investments. \\n\\nPartners and all manager grade and above client-facing personnel are required to use the KICS system prior to entering into an investment to identify whether they are permitted to do so. They are also required to maintain a record of all of their investments in KICS, which automatically notifies them if any investment subsequently becomes restricted. Newly restricted investments must be disposed of within five business days of the notification. \\n\\nKPMG monitors partner and manager compliance with this requirement as part of our program of independence compliance audits of a sample of professionals.\\n\\n\\n\\nEmployment relationships\\n\\nAny professional providing services to an audit client irrespective of function is required to notify our EIP, the engagement partner of an audit client, and the HR department if he or she intends to enter into employment negotiations with that audit client.\\n\\nFormer members of the audit team or former partners of KPMG AZSA are prohibited from joining an audit client in certain roles unless they have disengaged from all significant connections to KPMG AZSA, including payments which are not fixed and determined and/or would be material to KPMG AZSA and ceased participating in KPMG AZSA business and professional activities.\\n\\nKey audit partners and members of the chain of command for an audit client that is a public interest entity are subject to time restrictions (referred to as ‘cooling-off’ periods) that preclude them from joining that client in certain roles until a defined period of time has passed. \\n\\nWe communicate and monitor requirements in relation to the employment of KPMG AZSA professionals by audit clients.\\n\\n\\n\\nFirm financial independence\\n\\nKPMG member firms must also be free from prohibited interests in, and prohibited relationships with, audit clients, their management, directors, and significant owners.\\n\\nIn common with other KPMG member firms, KPMG AZSA uses KICS to record its own investments (made, for example, through pension and retirement plans and treasury activities) in the web-based independence tracking system. This record is monitored through our compliance process.\\n\\n\\n\\nBusiness relationships/suppliers\\n\\nKPMG AZSA has policies and procedures in place that are designed to ensure its business relationships are maintained in accordance with the IESBA Code of Ethics, Japanese Certified Public Accountant Law, Code of Ethics issued by the JICPA and SEC, US PCAOB rule requirements.\\n\\n\\n\\nIndependence clearance process\\n\\nKPMG AZSA follows specific procedures to identify and evaluate threats to independence related to prospective audit clients that are public interest entities; these procedures, also referred to as ‘the independence clearance process,’ must be completed prior to accepting an audit engagement for these entities. \\n\\n\\n\\nIndependence training and confirmations\\n\\nAll KPMG AZSA partners and client service professionals, as well as certain other individuals, must complete independence training that is appropriate to their grade and function upon joining KPMG AZSA and on an annual basis thereafter. New personnel who are required to complete this training must do so by the earlier of (a) thirty days after joining KPMG AZSA or (b) before providing any services to, or becoming a member of the chain of command for, any audit client, including any of its related entities or affiliates.\\n\\nWe also provide all personnel with training on the Global Code of Conduct, the KPMG AZSA Code of Conduct and ethical behavior, including KPMG’s anti-bribery policies, compliance with laws, regulations, and professional standards, and reporting suspected or actual non-compliance with laws, regulations, professional standards, and KPMG’s policies on a biennial basis. New personnel are required to complete this training within three months of joining KPMG AZSA.\\n\\nUpon acceptance of employment, all KPMG personnel are required to confirm that they are in compliance with, and will abide by, applicable ethics and independence rules and policies. \\n\\nThereafter, all KPMG personnel are required to sign an annual confirmation stating that they have remained in compliance with applicable ethics and independence policies throughout the year covered by the confirmation as well as their understanding of, and compliance with, the applicable Code of Conduct. This confirmation is used to evidence the individual’s compliance with and understanding of KPMG’s independence policies.\\n\\n\\n\\nPartner rotation\\n\\nOur rotation policies, which are consistent with the Certified Public Accountant Law and JICPA Code of Ethics, require our firm to comply with any stricter local applicable rotation requirements. \\n\\nKPMG AZSA partners are subject to periodic rotation of their responsibilities for audit clients under applicable laws, regulations, independence rules, and KPMG International policy. \\n\\nThese requirements place limits on the number of years that partners in certain roles may provide audit services to a client followed by a “time-out” period during which time these partners may not participate in the audit, provide quality control for the audit, consult with the engagement team or the client regarding technical or industry-specific issues or in any way influence the outcome of the audit.\\n\\nKPMG AZSA monitors the rotation of audit engagement leaders (and any other key roles, such as the Key Audit Partner and EQC Reviewer, where there is a rotation requirement) and develops transition plans to enable the allocation of partners with the necessary competence and capability to deliver a consistent quality of service to clients. The partner rotation monitoring is subject to compliance testing.\\n\\n\\n\\nNon-audit services\\n\\nWe have policies that are consistent with IESBA principles and applicable laws and regulations, related to the scope of services that can be provided to audit clients.\\n\\nWe are required to establish and maintain a process to review and approve all new and modified services that are developed by KPMG AZSA. KPMG AZSA’s EIP is involved in the review of potential independence issues and the Global Independence Group is involved in the case of services developed which are intended to be delivered to audit or assurance clients in more than one jurisdiction. \\n\\nIn addition to identifying potential conflicts of interest, Sentinel™ facilitates compliance with these policies. \\n\\nCertain information on all prospective engagements, including service descriptions and fees, must be entered into Sentinel™ as part of the engagement acceptance process. Lead audit engagement partners are required to maintain group structures for their publicly traded and certain other audit clients as well as their affiliates in Sentinel™, and they are also responsible for identifying and evaluating any independence threats that may arise from the provision of a proposed non-audit service and the safeguards available to address those threats. Sentinel™ enables lead audit engagement partners for entities for which group structures are maintained to review and approve, or deny, any proposed service for those entities worldwide.\\n\\n\\n\\nFee dependency\\n\\nKPMG International’s policies recognize that self-interest or intimidation threats may arise when the total fees from an audit client represent a large proportion of the total fees of the member firm expressing the audit opinion. \\n\\nThey require that in the event that the total fees from a public interest entity audit client and its related entities were to represent more than 10 percent of the total fees received by a particular member firm for two consecutive years. \\n\\n This would be disclosed to those charged with governance at the audit entity; and \\n\\nEQC reviewer from another KPMG member firm would be appointed.  \\n\\nNo audit client accounted for more than 10 percent of the total fees received by KPMG AZSA over the last two years.\\n\\n\\n\\nAvoiding conflicts of interest\\n\\nConflicts of interest can arise in situations where KPMG AZSA personnel have a personal connection with the client which may interfere, or be perceived to interfere, with their ability to remain objective, or where they are personally in possession of confidential information relating to another party to a transaction. Consultation with the RMP or the EIP is required in these situations.\\u3000\\n\\nAll KPMG member firms and personnel are responsible for identifying and managing conflicts of interest, which are circumstances or situations that have, or may be perceived by a fully informed, reasonable observer, to have an impact on a member firm or its personnel in their ability to be objective or otherwise act without bias.\\n\\nAll KPMG member firms must use Sentinel™ for potential conflict identification so that these can be addressed in accordance with legal and professional requirements. KPMG AZSA has risk management resource/s (‘Resolver/s’) who is/are responsible for reviewing an identified potential conflict and working with the affected member firms to resolve the conflict, the outcome of which must be documented.\\n\\nIt may be necessary to apply specific procedures to manage the potential for a conflict of interest to arise, or be perceived to arise, so that the confidentiality of all clients’ affairs is maintained. Such procedures may, for example, include establishing formal dividers between engagement teams serving different clients, and making arrangements to monitor the operation of such dividers.\\n\\nEscalation and dispute resolution procedures are in place for situations in which agreement cannot be reached on how to manage a conflict. \\n\\nIf a potential conflict issue cannot be appropriately mitigated, the engagement is declined or terminated.\\n\\n\\n\\nBreaches of independence policy\\n\\nAll KPMG personnel are required to report an independence breach as soon as they become aware of it to the EIP. In the event of failure to comply with our independence policies, whether identified in the compliance review, self-declared or otherwise, professionals are subject to an independence disciplinary policy. \\n\\n\\n\\nKPMG AZSA has a documented disciplinary policy in relation to breaches of independence policies. The disciplinary policy is communicated to all professionals and applies to all breaches of independence rules, incorporating incremental sanctions reflecting the seriousness of any violations. \\n\\n\\n\\nAny breaches of auditor independence regulations are reported to those charged with governance at the audit client, on the basis agreed with them but at a minimum on an annual basis.\\u3000\\n\\n\\n\\nCompliance with laws, regulations, and anti-bribery and corruption \\n\\nCompliance with laws, regulation, and standards is a key aspect for all KPMG AZSA personnel. In particular, we have zero tolerance of bribery and corruption. \\n\\nWe prohibit involvement in any type of bribery — even if such conduct is legal or permitted under applicable law or local practice. We also do not tolerate bribery by third parties, including by our clients, suppliers or public officials.\\n\\nFurther information on KPMG International anti-bribery and corruption policies can be found on the anti-bribery and corruption site.\\n\\n\\nInsider trading prevention\\n\\nIn order to prevent insider trading, KPMG AZSA has internal rules and procedures that aim to establish information credibility in the capital markets. These include the prohibition of holding or trading in the securities of audited entities and registration on a web-based independence tracking system to monitor personal investments in publicly traded companies in Japan and other jurisdictions. \\n\\nAll partners and employees understand our insider trading policy through appropriate training and provide an annual confirmation that they have remained in compliance with applicable policies throughout the period.\\n\\n\\n\\n Recruitment, development, and assignment of appropriately qualified personnel\\n\\nOne of the key drivers of quality is ensuring that our professionals have the appropriate skills and experience, passion and purpose, to deliver the highest quality in audit. This requires appropriate recruitment, development, promotion, and retention assignment of professionals. The KPMG performance development approach, linked to the KPMG values, is designed to articulate what is required for success — both individually and collectively. Ensuring audit quality is an essential element of the training, planning, and development underway to support the KPMG Clara Workflow roll-out and the associated updated KPMG audit methodology, with processes embedded in all KPMG learning programs.\\n\\n\\n\\nRecruitment\\n\\nKPMG AZSA strives to be an employer of choice by creating an environment where our people can fulfill their potential and feel proud and motivated to give their best.  \\n\\n\\n\\nAll candidates submit an application and are employed following a variety of selection processes, which may include application screening, competency-based interviews, psychometric and ability testing.\\n\\n\\n\\nKPMG AZSA does not accept any confidential information belonging to the candidate’s former firm/employer. Where individuals are recruited for senior grades (i.e. partner, director), a formal independence discussion is conducted with them by the EIP. \\n\\n\\n\\nThe Partner hire process is rigorous and thorough, involving appropriate members of leadership, including the Partners’ Meeting and the Senior Executive Board. Our criteria for Partner hires are consistent with our commitment to professionalism and integrity, quality, and being an employer of choice. \\n\\n\\n\\nPersonal development\\n\\nIt is important that all our professionals have the necessary business and leadership skills in addition to technical skills to be able to perform quality work.\\n\\n\\n\\nIn relation to audit, opportunities are provided for professionals to develop the skills, behaviors, and personal qualities that form the foundations of a career in auditing. Courses are available to enhance personal effectiveness and develop technical, leadership, and business skills.\\n\\nIn addition, training sessions are successively provided for each partner and employer to ensure the importance of  enhancing, keeping and exhibiting professional skepticism throughout the audit and also to provide member the appropriate opportunities of instruction and training about fraud. \\n\\nKPMG AZSA professionals are also developed for high performance through access to coaching and mentoring on the job, stretch assignments, and country rotational and global mobility opportunities.\\n\\n\\n\\nInclusion and Diversity programs\\n\\nKPMG AZSA works hard to foster an inclusive culture. Being inclusive enables us to bring together successful teams with the broadest range of skills, experiences, and perspectives.\\n\\nWe encourage each partner and employee with diverse personalities to achieve high performance toward the common goal of “contributing to audit clients and society through the provision of high-quality services”, while respecting and making the most of each other’s differences. \\n\\nKPMG AZSA adopts a variety of approaches to establish an environment conducive to more diverse and flexible work styles. Specific initiatives include: developing globally minded personnel; promoting women’s participation in the workforce; supporting our people as they balance work and childbirth, childcare, and nursing care; promoting employment of persons with disabilities; creating a corporate culture that allows and encourages our people to embrace diversity; and introducing teleworking, as well as changing the office work style more generally.\\n\\nFor more information about Inclusion & Diversity at KPMG, read here.\\n\\n\\nEvaluation process including quality and compliance metrics\\n\\nKPMG AZSA professionals, including partners, have annual goal-setting and performance reviews. Each professional is evaluated on his or her agreed-upon goals, demonstration of our leadership competencies, technical capabilities, and market knowledge. A culture of continuous improvement is encouraged to drive feedback, both formal and informal, from junior and senior colleagues, as well as peers. Feedback gathered forms an integral part of performance reviews. \\n\\n\\n\\nKPMG AZSA monitors quality and compliance incidents and maintains quality metrics in assessing the overall evaluation, promotion, and remuneration of partners, directors, and managers.\\n\\nPartners are also evaluated on key quality and compliance metrics. \\n\\nThese evaluations are conducted by performance managers and partners who are in a position to assess their performance and propose a performance rating. KPMG AZSA’s policy prohibits audit partners from being evaluated on or compensated based on their success in selling non-assurance services to audit clients.\\n\\n\\n\\n\\n\\n\\n\\nReward\\n\\nWe have compensation and promotion policies that are clear, simple, and linked to the performance review process which, for partners, includes the achievement of key audit quality and compliance metrics. This helps our partners and employees know what is expected of them, and what they can expect to receive in return. \\n\\nReward decisions are based on the consideration of both individual and organizational (member firm) performance. The extent to which our people feel their performance has been reflected in their reward is measured through the GPS, with action plans developed accordingly.\\n\\n\\n\\nPromotion\\n\\nThe results of performance evaluations directly affect the promotion and remuneration of partners and staff and, in some cases, their continued association with KPMG.\\n\\n\\n\\nPartner admissions\\n\\nOur process for admission to partnership is rigorous and thorough, involving appropriate members of leadership, including the Partners’ Meeting and the Senior Executive Board. \\n\\nOur criteria for admission to the KPMG AZSA partnership are consistent with our commitment to professionalism and integrity, quality and being an employer of choice. These are strongly aligned to KPMG’s behavioral capabilities and are based on consistent principles.\\n\\n\\n\\nAssignment of professionals\\n\\nKPMG AZSA has procedures in place to assign both the engagement partners and other professionals to a specific engagement on the basis of their skill sets, relevant professional and industry experience, and the nature of the assignment or engagement. \\n\\nFunction heads are responsible for the partner assignment process. Key considerations include partner experience and capacity based on an annual partner portfolio review to perform the engagement taking into account the size, complexity, and risk profile of the engagement and the type of support to be provided (i.e. the engagement team composition and specialist involvement). \\n\\nAudit engagement partners are required to be satisfied that their engagement teams have appropriate competencies, training and capabilities, including time, to perform audit engagements in accordance with KAM, professional standards, and applicable legal and regulatory requirements. This may include involving specialists from our own firm or other KPMG member firms. \\n\\n\\n\\nWhen considering the appropriate competence and capabilities expected of the engagement team as a whole, the engagement partner’s considerations may include the following: \\n\\nan understanding of, and practical experience with, audit engagements of a similar nature and complexity through appropriate training and participation;\\n\\nan understanding of professional standards and legal and regulatory requirements;\\n\\nappropriate technical skills, including those related to relevant information technology and specialized areas of accounting or auditing; \\n\\nknowledge of relevant industries in which the client operates;\\n\\nability to apply professional judgment; \\n\\nan understanding of KPMG AZSA’s quality control policies and procedures; \\n\\nQPR results and results of regulatory inspections, as well as ;\\n\\nInsights from our people (GPS). \\n\\n\\n\\nfrom our people —People Survey (GPS)\\n\\nBiennially, KPMG Japan invites all our people to participate in an independent GPS to share their perception about their experience working for KPMG. \\n\\nThe GPS provides an overall measure of our people’s engagement through an Employee Engagement Index (EEI) as well as insights into areas driving engagement which may be strengths or opportunities. The survey also identifies opportunities to strengthen those levels of engagement. Results can be analyzed by functional or geographic area, grade, role, gender to provide additional insight. Additional insight is provided on how we are faring on categories known to impact employee engagement.\\n\\nThe survey also specifically provides KPMG AZSA leadership and KPMG global leadership with results related to audit quality, upholding the KPMG values, employee and partner attitudes to quality, leadership, and tone at the top. \\n\\nKPMG AZSA participates in the GPS, monitors results, and takes appropriate actions to communicate and respond to the findings of the survey. \\n\\nThis includes monitoring GPS results including those related to:\\n\\naudit quality and tone at the top;\\n\\nemployee engagement through the EEI.\\n\\nThe GPS results are also aggregated for the KPMG network and are presented to the Global Board each year and appropriate follow-up actions agreed.\\n\\n\\n\\n Commitment to technical excellence and quality service delivery\\n\\nAll KPMG AZSA professionals are provided with the technical training and support they need. This includes access to specialists and the professional practice department, which are made up of senior professionals with extensive experience in audit, reporting, and risk management, either to provide resources to the engagement team or for consultation.\\u3000\\n\\nWhere the right resource is not available within KPMG AZSA, access is provided to a network of highly skilled KPMG professionals in other KPMG member firms. \\n\\nAt the same time, audit policies require professionals to have the appropriate knowledge and experience for their assigned engagements. \\n\\n\\n\\nLifetime learning strategy\\n\\nIn addition to personal development discussed in the section above, our lifetime learning strategy is underpinned by policies requiring all professionals to maintain their technical competence as well as comply with applicable regulatory and professional development requirements. \\n\\n\\n\\nFormal training\\n\\nAnnual training priorities for development and delivery are identified by the Audit Learning and Development steering groups at global, regional and KPMG AZSA levels. Training is delivered using a blend of classroom, digital learning, and performance support to assist auditors on the job.\\u3000\\n\\nAudit Learning and Development teams work with subject matter experts and leaders from the GSC, the ISG and member firm Department of Professional Practice (DPP) as appropriate, to ensure the training is of the highest quality, is relevant to performance on the job, and is delivered on a timely basis. \\n\\n\\n\\nLicensing and mandatory requirements for IFRS and U.S. GAAP engagements\\n\\nLicensing\\n\\nAll KPMG AZSA professionals are required to comply with applicable professional license rules and satisfy the Continuing Professional Development (CPD) requirements in the jurisdiction where they practice. \\n\\nPolicies and procedures are designed to facilitate compliance with license requirements.\\n\\nWe are responsible for ensuring that audit professionals working on engagements have appropriate audit, accounting and industry knowledge, and experience in the local predominant financial reporting framework. \\n\\n\\n\\nMandatory requirements — IFRS and U.S.GAAP engagements\\n\\nWe have specific requirements for partners, managers, and EQC reviewers working on IFRS engagements, in countries where IFRS is not the predominant financial reporting framework. Similar policies apply to engagements performed outside the U.S. to report on financial statements or financial information prepared in accordance with U.S. GAAP and/or audited in accordance with the U.S. auditing standards, including reporting on the effectiveness of the entity’s internal control over financial reporting (ICOFR). \\n\\nThese require that the partner, manager, and EQC reviewer have completed relevant training and that the engagement team, collectively, has sufficient experience to perform the engagement or has implemented appropriate safeguards to address any shortfalls.\\n\\n\\n\\nAccess to specialist networks\\n\\nKPMG AZSA engagement teams have access to a network of local KPMG specialists as well as specialists in other KPMG member firms.  \\n\\nSpecialists who are members of an audit team and have overall responsibility for specialist involvement on an audit engagement have the competencies, capabilities, and objectivity to appropriately fulfill their role. Training on audit concepts is provided to these specialists.\\n\\nThe need for specialists (e.g. Information Technology, Tax, Actuarial, Forensic, Valuation) to be assigned to a specific audit engagement is considered as part of the audit engagement acceptance and continuance process.\\n\\n\\n\\nCulture of Consultation\\n\\nKPMG encourages a strong culture of consultation that supports member firm teams throughout their decision-making processes and is a fundamental contributor to audit quality.\\n\\nKPMG AZSA promotes a culture in which consultation is recognized as a strength and that encourages personnel to consult on difficult or contentious matters. \\n\\nTo assist audit engagement professionals in addressing difficult or contentious matters, protocols have been established for consultation and documentation of significant accounting and auditing matters, including procedures to facilitate resolution of differences of opinion on engagement issues. \\n\\nThese protocols include the policies and procedures for consultation when indicators suggesting material misstatements due to fraud are identified.\\n\\nAppropriate consultation support is provided to audit engagement professionals through our professional practice resources.\\n\\nTechnical auditing and accounting support is available to all member firms and their professionals through the GSC and ISG as well as the US Capital Markets Group for SEC foreign registrants. \\n\\n\\n\\nGlobal Services Centre (GSC)\\n\\nThe GSC’s mission is to drive success for KPMG’s global network of audit practices through collaboration, innovation, and technology. The GSC develops, maintains, and deploys KPMG’s audit methodology and technology-based tools used by KPMG audit professionals to facilitate effective and efficient audits. With three global locations, one in each region, the GSC audit team is made up of professionals with backgrounds in audit, IT, data science, mathematics, statistics, and more from around the world who bring diverse experiences and innovative ways of thinking to further evolve KPMG’s audit capabilities.\\n\\n\\n\\nInternational Standards Group (ISG)\\n\\nThe ISG works with Global IFRS and ISAs topic teams with geographic representation from around the world to promote consistency of interpretation of IFRS and auditing requirements between member firms, identify emerging issues, and develop global guidance on a timely basis. \\n\\nFurther details about the GSC and ISG and its activities are available in the KPMG International Transparency Report.\\n\\n\\n\\nMember firm professional practice resource\\n\\nAppropriate consultation support on auditing and technical accounting matters is provided to audit engagement professionals through our professional practice resources (referred to as Department of Professional Practice or DPP). DPP also assists engagement teams where there are differences of opinion either within teams or with the EQC reviewer. Unresolved differences are required to be escalated to senior partners for final resolution. The ISG is also available for consultation when required.\\n\\nKPMG International policies include minimum requirements for member firm DPPs.\\n\\n\\n\\nDeveloping business understanding and industry knowledge\\n\\nA key part of quality is having a detailed understanding of the client’s business and industry.\\n\\nFor significant industries, global audit sector leads are appointed to support the development of relevant industry information, which is made available to audit professionals through the KPMG audit workflow. \\n\\nThis knowledge comprises examples of industry audit procedures and other information (such as typical risks and accounting processes). In addition, industry overviews are available that provide general and business information in respect of particular industries as well as a summary of the industry knowledge provided in the KPMG audit workflow.\\n\\n\\n\\n\\n\\n\\n\\n\\n\\n\\n\\n Performance of effective and efficient audits\\n\\nHow an audit is conducted is as important as the final result. KPMG AZSA personnel are expected to demonstrate certain key behaviors and follow certain policies and procedures in the performance of effective and efficient audits.\\n\\n\\n\\nOngoing mentoring, supervision, and review\\n\\nWe understand that skills are developed over time and through exposure to different experiences. To invest in the development of skills and capabilities of KPMG professionals, without compromising on quality, KPMG AZSA promotes a continuous learning environment and supports a coaching culture.  \\n\\nThe engagement partner, supported by the engagement manager, is responsible for driving a culture of coaching and continuous learning throughout the audit process and setting an example in the performance of the audit to drive a culture of continuous audit quality improvement.\\n\\nWe also have policies and procedures on supervision and review throughout the audit to respond appropriately to fraud risks. \\n\\nOngoing mentoring, coaching, and supervision during an audit involves:\\n\\nengagement partner participation in planning discussions;\\n\\ntracking the progress of the audit engagement;\\n\\nconsidering the competence and capabilities of the individual members of the engagement team, including whether they have sufficient time to carry out their work, whether they understand their instructions, and whether the work is being carried out in accordance with the planned approach to the engagement; \\n\\nhelping engagement team members address any significant matters that arise during the audit and modifying the planned approach appropriately;\\n\\nidentifying matters for consultation with more experienced team members during the engagement.\\n\\nA key part of effective mentoring and supervision is timely review of the work performed so that significant matters are promptly identified, discussed, and addressed.\\n\\nKPMG AZSA has policies and procedures to supervise and review the audit response to fraud risk.\\n\\n\\n\\nTimely engagement quality control (EQC) reviewers \\n\\nEQC reviewers are independent of the engagement team and have the appropriate experience and knowledge to perform an objective review of the more critical decisions and judgments made by the engagement team and the appropriateness of the financial statements.  \\n\\nAn EQC reviewer is required to be appointed for audits, including any related review(s) of interim financial information, of all listed entities, non-listed entities with a high public profile, engagements that require an EQC review under applicable laws or regulations, and other engagements as designated by the Risk Management Partner or country Head of Audit.\\n\\nThe EQC review takes place before the date of the auditor’s report and includes, among other matters:\\n\\nreview of selected audit documentation relating to significant judgments the engagement team made and the conclusions it reached; \\n\\nreview of the financial statements and proposed auditor’s report;\\n\\nevaluation of the conclusions reached in formulating the auditors’ report and consideration of whether the proposed report is appropriate.  \\n\\nAlthough the engagement partner is ultimately responsible for the resolution of financial reporting and auditing matters, the EQC reviewer must be satisfied that all significant questions raised have been resolved before an audit can be considered complete. \\n\\nWhere any possibility of material misstatements due to fraud is identified, an EQC reviewer is required to evaluate the appropriateness of the risk assessment, audit procedures performed, and audit evidence obtained by the audit team.\\n\\nKPMG AZSA is continually seeking to strengthen and improve the EQC reviewer’s role in audits, as this is a fundamental part of the system of audit quality control. To reinforce this, a number of actions have been taken, including: \\n\\nestablishing basic policies for EQC review on audit engagements;\\n\\nissuing guidance on EQC review to facilitate effective reviews;\\n\\nobtaining understandings about audit risks, inquiring EQC reviewers of issues on EQC reviews, and monitoring current status of EQC reviews.\\n\\nThe Senior Review Board, which consists of partners who have appropriate experience and knowledge to perform an objective review, monitors the status of the EQC review process and evaluates significant judgments made in the audit. \\n\\n\\n\\nReporting\\n\\nAuditing standards and related laws and regulations in Japan largely dictate the format and content of the auditors’ report that includes an opinion on the fair presentation of the client’s financial statements in all material respects. Experienced engagement partners form all audit opinions based on the audit performed.  \\n\\n\\n\\nIn preparing auditors’ reports, engagement partners have access to extensive reporting guidance and technical support through consultations with our DPP. Engagement partners have to request involvement of Senior Review Board where there are significant matters to be reported to users of the auditors' report, either as a qualification to the audit report or through the inclusion of an emphasis of matter paragraph. \\n\\n\\n\\nInsightful, open, and honest two-way communication \\n\\nTwo-way communication with those charged with governance, often identified as Audit & Supervisory Board, is key to audit quality and is a key aspect of reporting and service delivery. \\n\\nAt KPMG AZSA, we stress the importance of keeping those charged with governance informed of issues arising throughout the audit and the need to listen to and understand their views. We achieve this through a combination of reports and presentations, attendance at the Audit & Supervisory Board, and when appropriate ongoing discussions with management and members of the Audit & Supervisory Board. \\n\\n\\n\\nWe deliver insights such as our assessment of the appropriateness of significant accounting practices, including accounting policies, accounting estimates, financial statement disclosures, significant deficiencies in the design and operation of financial reporting systems, controls when such deficiencies come to our attention during the course of the audit and any uncorrected misstatements.\\n\\n\\n\\nKPMG Institute\\n\\nKPMG’s Global IFRS Institute provides the latest information about accounting and audit which influence many companies, to assist KPMG member firms and external parties. \\n\\nFor example, IFRS Institute (https://home.kpmg/xx/en/home/services/audit/international-financial-reporting-standards.html） provided by KPMG Global and KPMG AZSA web site provide  easy access to the information.\\n\\n\\n\\nCommunications between predecessor auditor and successor auditor\\n\\nWe have established policies and procedures about communications between predecessor auditor and successor auditor when there is a change of auditors. These communications are monitored at the firm level. \\n\\n\\n\\nClient confidentiality, information security, and data privacy\\n\\nThe importance of maintaining client confidentiality is emphasized through a variety of mechanisms including the Global and KPMG AZSA Code of Conduct, training, and the annual affidavit/confirmation process, that all KPMG professionals are required to complete. \\n\\nWe have a formal document retention policy concerning the retention period for audit documentation and other records relevant to an engagement in accordance with the relevant IESBA requirements as well as other applicable laws, standards, and regulations. \\n\\nWe have clear policies on information security that cover a wide range of areas. Data Privacy policies, which comply with the local Personal Information Protection Law, are in place governing the handling of personal information and associated training is required for all KPMG AZSA personnel.\\n\\n\\n\\nRisk associated information\\n\\nWe have a system in place for managing information relating to risk assessment and processes that ensure that significant auditing issues, including fraud risk, are communicated to succeeding engagement partners when there is a change of engagement partners.\\n\\n\\n\\n Commitment to continuous improvement\\n\\nKPMG is committed to continually improving the quality, consistency and efficiency of its audits. Integrated quality monitoring and compliance programs enable member firms to identify quality deficiencies, to perform root cause analysis as well as develop, implement, and report remedial action plans both in respect of individual audit engagements and KPMG system of quality control.\\n\\nKPMG International’s integrated quality and monitoring programs include the Quality Performance Review (QPR) program, the Risk Compliance Program (RCP), and the Global Compliance Review (GCR) program.\\n\\nThe quality monitoring and compliance programs are globally administered and consistent in their approach across all member firms, including the nature and extent of testing and reporting. KPMG AZSA compares the results of its internal monitoring programs with the results of those of any external inspection programs and takes appropriate action.\\n\\n\\n\\nInternal monitoring and compliance programs\\n\\nOur monitoring programs evaluate both:\\n\\nengagement performance in compliance with the applicable standards, applicable laws and regulation, and KPMG International policies and procedures;\\n\\nKPMG AZSA’s compliance with KPMG International policies and procedures and the relevance, adequacy and effective operation of key quality control policies and procedures.\\n\\nThe results and lessons from the integrated monitoring programs are communicated internally, and the overall results and lessons from the programs are considered and appropriate action is taken at the local, regional and global levels.\\n\\nOur internal monitoring program also contributes to the assessment of whether our system of quality control has been appropriately designed and effectively implemented as well as whether it operates effectively.\\u3000\\n\\nTwo inspection programs, developed and administered by KPMG International, are conducted annually across the Audit and Advisory functions, QPR and RCP.  \\n\\nAdditionally, all member firms are covered at least every three years by the cross-functional GCR program.\\n\\nParticipation in QPR, RCP, and GCR is a condition of ongoing membership of the KPMG network.\\n\\nFurther, in accordance with our system of quality control, we ensure the following processes are performed in order to  monitoraudit response to fraud risks.\\n\\nacceptance and continuance of clients and engagements;\\n\\ninstruction and training:\\n\\naudit process (including supervision and review, response to information arising from within and outside the firm, consultation, timely EQC reviewers and partner rotation);\\n\\ncommunications between predecessor auditor and successor auditor.\\n\\n\\n\\nAudit Quality Performance Reviews (QPRs)\\n\\nThe QPR program assesses engagement level performance and identifies opportunities to improve engagement quality. \\n\\nEach engagement leader is reviewed at least once in a three-year cycle. A risk-based approach is used to select engagements.\\n\\nKPMG AZSA conducts the annual QPR program in accordance with KPMG International QPR instructions.\\n\\nThe reviews are performed at the KPMG AZSA level and are monitored regionally and globally.\\n\\nMember firm Audit QPR reviews are overseen by a senior experienced lead reviewer independent from the member firm.\\n\\n\\n\\n(Reviewer selection, preparation, and process) \\n\\nThere are robust criteria for the selection of reviewers. \\n\\nTraining is provided to review teams and others overseeing the process, with a focus on topics of concern identified by audit oversight regulators and the need to be as rigorous as external reviewers.\\n\\n\\n\\n(Evaluations from Audit QPR)\\n\\nConsistent criteria are used to determine engagement ratings and member firm Audit practice evaluations. Audit engagements selected for review are rated as ‘Satisfactory’, ‘Performance Improvement Needed’ or ‘Unsatisfactory’. \\n\\n\\n\\n(Reporting)\\n\\nFindings from the QPR program are disseminated to member firm professionals through written communications; internal training tools; and periodic partner, manager and staff meetings. These areas are also emphasized in subsequent inspection programs to gauge the extent of continuous improvement.\\n\\nLead audit engagement partners are notified of less-than-satisfactory engagement (defined as ‘Performance Improvement Needed’ or ‘Unsatisfactory’) ratings on their respective cross-border engagements. \\n\\nAdditionally, lead audit engagement partners of parent companies/head offices are notified where a subsidiary/affiliate of their client group is audited by a member firm where significant quality issues have been identified during the QPR.\\n\\n\\n\\nRisk Compliance Program (RCP)\\n\\nKPMG International develops and maintains quality control policies and processes that apply to all member firms. These policies and processes, and their related procedures, include the requirements of ISQC 1. \\n\\nDuring the annual RCP, we perform a robust assessment program consisting of documentation of quality controls and procedures; related compliance testing; and reporting of exceptions, action plans, and conclusions.\\n\\nThe objectives of the RCP are to:\\n\\nmonitor, document, and assess the extent of compliance of KPMG AZSA system of quality control with Global Quality & Risk Management policies and key legal and regulatory requirements relating to the delivery of professional services; \\n\\nprovide the basis for KPMG AZSA to evaluate whether the firm and its personnel comply with relevant professional standards and applicable legal and regulatory requirements.\\n\\nWhere deficiencies are identified, we are required to develop appropriate action plans and monitor the status of each action item.\\n\\n\\n\\nGlobal Compliance Review (GCR) program\\n\\nEach member firm is subject to a GCR conducted by KPMG International’s GCR team, independent of the member firm, at least once in a three-year cycle. \\n\\nThe GCR team performing the reviews is independent of the KPMG member firm and is objective and knowledgeable of Global Quality and Risk Management policies. GCRs assess compliance with selected KPMG International policies and procedures and share best practices among member firms. \\n\\n The GCR provides an independent assessment of:\\n\\na member firm’s commitment to quality and risk management (tone at the top) and the extent to which its overall structure, governance, and financing support and reinforce this commitment;\\n\\na member firm’s compliance with key KPMG policies and procedures; \\n\\nthe robustness with which the member firm performs its own compliance program (RCP).\\n\\nWe develop action plans to respond to all GCR findings and agree these with the GCR team. Our progress on action plans is monitored by the GCR central team. Results are reported to the Global Quality & Risk Management Steering Group (GQ&RMSG), and where necessary to appropriate KPMG International and regional leadership, to help ensure timely remedial actions taken by the member firm.\\n\\n\\n\\nRoot Cause Analysis (RCA)\\n\\nKPMG AZSA performs RCA to identify and address audit quality issues in order to prevent them from recurring and help identify good practices as part of continuous improvement. \\n\\nIt is the responsibility of member firms to perform RCA and thereby identify and subsequently develop appropriate remediation plans for the audit quality issues identified.\\n\\nKPMG AZSA’s Head of Audit is responsible for the development and implementation of action plans as a result of RCA, including identification of solution owners. The Risk Management Partner monitors their implementation.\\n\\n\\n\\nRecommendations for improvements\\n\\nAt a global level, through the GAQSC and the GQ&RMSG, KPMG International reviews the results of the quality monitoring programs, analyzes member firm root causes and action plans, and develops additional global actions as required. \\n\\nTo date, global remediation plans developed by KPMG International have been aimed at changing culture and behavior across the KPMG network and at driving consistent engagement team performance within KPMG member firms. The remediation plans have been implemented through the development of global training, tools, and guidance to drive consistency as well as ensure the fundamentals are right and that best practice is shared across the KPMG network.\\n\\n\\n\\nExternal feedback and dialogue\\n\\nRegulators \\n\\nThe Certified Public Accountants and Auditing Oversight Board (CPAAOB), as a regulator, monitors the quality control reviews performed by the JICPA to ascertain fairness, neutrality, and affectivity of the JICPA. \\n\\nThe CPAAOB reviews and examines reports of quality control reviews by the JICPA and, if deemed necessary, conducts on-site inspections of the JICPA, audit firms, etc.\\n\\nAt an international level, KPMG International has regular two-way communication with the International Forum of Independent Audit Regulators (IFIAR) to discuss audit quality findings and actions taken to address such issues at a network level.\\n\\n\\n\\nClient feedback\\n\\nWe proactively seek feedback from clients to monitor their satisfaction with services delivered. \\n\\nWe endeavor to take this feedback and make dynamic changes at both the engagement level and firm level to meet clients’ needs.\\n\\n\\n\\n23\\n\\n\\n\\nTyp済_cleanコメント集約版131条通知記載事項_Complete_201907w.docx - 2019/08/05\\n\\n\\n\\n© 2019 . All rights reserved.\\n\\n© 2019 . All rights reserved.1\""
      ]
     },
     "execution_count": 5,
     "metadata": {},
     "output_type": "execute_result"
    }
   ],
   "source": [
    "extracted_doctext"
   ]
  },
  {
   "cell_type": "code",
   "execution_count": 65,
   "id": "3bad902f-201c-4331-97b9-eb946b3c9f77",
   "metadata": {},
   "outputs": [
    {
     "data": {
      "text/plain": [
       "13652"
      ]
     },
     "execution_count": 65,
     "metadata": {},
     "output_type": "execute_result"
    }
   ],
   "source": [
    "tiktoken_len(extracted_doctext)"
   ]
  },
  {
   "cell_type": "code",
   "execution_count": null,
   "id": "ebfc6655-9cf2-4a34-a446-3942fff1ac44",
   "metadata": {},
   "outputs": [],
   "source": []
  },
  {
   "cell_type": "code",
   "execution_count": 11,
   "id": "f75ef037-65d4-4b89-b380-0bca237572f1",
   "metadata": {},
   "outputs": [],
   "source": [
    "extracted_doctext_modified = extract_text_from_filepath(\"131条通知記載事項_EN_201907_modified.docx\")"
   ]
  },
  {
   "cell_type": "code",
   "execution_count": 12,
   "id": "26820438-e097-4f29-a36b-327fdb36aadf",
   "metadata": {
    "collapsed": true,
    "jupyter": {
     "outputs_hidden": true
    }
   },
   "outputs": [
    {
     "data": {
      "text/plain": [
       "\"ABCD\\n\\n○○○○株式会社御中\\n\\n有限責任 あずさ監査法人の品質管理システム\\n\\nJune 2012\\n\\n\\n\\n\\n\\n\\n\\nEnglish Translation-Reference Purpose Only\\n\\nThis is an unofficial translation of the Japanese original version prepared solely for the convenience of readers outside Japan.  If there is any discrepancy between the Japanese original and this translation, the Japanese original will prevail.\\n\\n\\n\\n\\n\\nNotification of the matters reported to the corporate auditors, etc. in accordance with Article 131 of the Corporate Calculation Regulations\\n\\n\\n\\n\\n\\nXX  2019\\n\\nKPMG AZSA LLC\\n\\nTable of Contents\\n\\n1. System of quality control\\t1\\n\\n2. Tone at the top\\t3\\n\\n(1)\\tLeadership responsibilities for quality and risk management\\t4\\n\\n3. Association with the right clients\\t5\\n\\n(1)\\tAcceptance and continuance of clients and engagements\\t5\\n\\n(2)\\tProspective client and engagement acceptance process\\t5\\n\\n(3)\\tContinuance process\\t6\\n\\n(4)\\tWithdrawal\\t6\\n\\n(5)\\tClient portfolio management\\t6\\n\\n4. Clear standards and robust audit tools\\t7\\n\\n(1)\\tOur approach to audit\\t7\\n\\n(2)\\tIndependence, integrity, ethics and objectivity\\t9\\n\\n5. Recruitment, development and assignment of appropriately qualified personnel\\t13\\n\\n(1)\\tRecruitment\\t14\\n\\n(2)\\tPersonal development\\t14\\n\\n(3)\\tInclusion and Diversity programs\\t14\\n\\n(4)\\tEvaluation process including quality and compliance metrics\\t15\\n\\n(5)\\tPartner admissions\\t15\\n\\n(6)\\tAssignment of professionals\\t15\\n\\n(7)\\tfrom our people - Global People Survey (GPS)\\t16\\n\\n6. Commitment to technical excellence and quality service delivery\\t17\\n\\n(1)\\tLifetime learning strategy\\t17\\n\\n(2)\\tLicensing and mandatory requirements for IFRS and U.S. GAAP engagements\\t17\\n\\n(3)\\tAccess to specialist networks\\t18\\n\\n(4)\\tCulture of Consultation\\t18\\n\\n(5)\\tDeveloping business understanding and industry knowledge\\t19\\n\\n7. Performance of effective and efficient audits\\t19\\n\\n(1)\\tOngoing mentoring, supervision and review\\t19\\n\\n(2)\\tTimely engagement quality control (EQC) reviewers\\t20\\n\\n(3)\\tReporting\\t20\\n\\n(4)\\tInsightful, open and honest two-way communication\\t21\\n\\n(5)\\tCommunications between predecessor auditor and successor auditor\\t21\\n\\n(6)\\tClient confidentiality, information security and data privacy\\t21\\n\\n(7)\\tRisk associated information\\t21\\n\\n8. Commitment to continuous improvement\\t22\\n\\n(1)\\tInternal monitoring and compliance programs\\t22\\n\\n(2)\\tExternal feedback and dialogue\\t24\\n\\n\\n\\n\\n\\n\\n\\n\\n System of quality control \\n\\nOverview\\n\\nKPMG AZSA implements KPMG International policies and procedures as well as adopts additional policies and procedures that are designed to address rules and standards issued by the Business Accounting Council of the Financial Service Agency, Japanese Government and the Japanese Institute of Certified Public Accountants (JICPA), and other regulators as well as local laws, such as the Certified Public Accountants Law, Companies Act, Financial Instruments and Exchange Law, other applicable related regulations, the Auditing Standards and Quality Control Standards related auditing by laws of the JICPA, and the Code of Ethics and practical guidance on auditing from the JICPA. \\n\\n\\n\\nA robust and consistent system of quality control is an essential requirement in performing high-quality services. Accordingly, KPMG International has quality control policies that apply to all member firms. These are included in KPMG’s Global Quality & Risk Management Manual (Global Q&RM Manual) available to all KPMG personnel. \\n\\n\\n\\nThese policies and associated procedures are designed to assist member firms in complying with relevant professional standards, regulatory and legal requirements, and in issuing reports that are appropriate in the circumstances, as well as help member firm personnel act with integrity and objectivity and perform their work with diligence. These policies and procedures are based on the International Standard on Quality Control 1 (ISQC 1) issued by the International Auditing and Assurance Standards Board (IAASB), and on the Code of Ethics for Professional Accountants issued by the International Ethics Standards Board for Accountants (IESBA). Both of these are relevant to member firms that perform statutory audits and other assurance and related services engagements.\\n\\n\\n\\nKPMG AZSA is required to implement KPMG International policies and procedures and also adopts additional policies and procedures that are designed to address rules and standards issued by the Financial Services Agency and JICPA, and other relevant regulators as well as applicable legal and regulatory requirements. Amendments to risk and quality policies, including ethics and independence policies, are included in quality and risk management alerts and are communicated by email.\\n\\nKPMG AZSA is required to implement changes specified in the email alerts and this is checked through internal monitoring.\\n\\nQuality control and risk management are the responsibility of all KPMG AZSA personnel. This responsibility includes the need to understand and adhere to firm policies and associated procedures in carrying out their day-to-day activities. The system of quality control applies to all KPMG personnel wherever they are based.\\n\\nWhile many KPMG’s quality control processes are cross-functional and apply equally to advisory work, the remainder of this section focuses on the delivery of quality audits.  \\n\\n\\n\\nAudit quality framework\\n\\nAt KPMG AZSA, audit quality is not just about reaching the right opinion but how that opinion is reached. It is about the processes, thought, and integrity behind the auditors’ report. The outcome of a quality audit is the delivery of an appropriate and independent opinion in compliance with relevant professional standards and applicable legal and regulatory requirements.\\n\\nTo help all audit professionals concentrate on the fundamental skills and behaviors required to deliver a quality audit, KPMG International has developed the Audit Quality Framework. This framework uses a common language that is adopted by all KPMG member firms, including KPMG AZSA, to describe what the KPMG network believes drives audit quality, and to highlight how every audit professional at each KPMG member firm contributes to the delivery of audit quality. \\n\\n\\n\\nTone at the top sits at the core of the Audit Quality Framework’s seven drivers of audit quality and helps ensure that the right behaviors permeate across the entire KPMG network. All of the other drivers create a virtuous circle because each driver is intended to reinforce the others. Each of the seven drivers is described in more detail in the following sections of this report.\\n\\n\\n\\n \\n\\n\\n\\n\\n\\n\\n\\n\\n\\n\\n\\n\\n\\n\\n\\n\\n\\n\\n\\n\\n\\n\\n\\n\\n\\n\\n\\n\\n\\n\\n\\n\\n\\n\\n\\n\\n\\n\\n\\n Tone at the top\\n\\nThe culture of KPMG International and KPMG member firms is underpinned by a strong set of values and supporting policies and processes, which enable the right attitudes and behaviors to permeate throughout the KPMG network. \\n\\nOur global leadership, working with regional and member firm leaderships, plays a critical role in establishing our commitment to quality and the highest standards of professional excellence. A culture based on quality, integrity and ethics is essential in an organization that carries out audits and other services on which stakeholders and investors rely. \\n\\nAt KPMG AZSA, we promote a culture in which consultation is encouraged and recognized as a strength.\\n\\n\\n\\nTone at the top means that KPMG AZSA leadership demonstrates commitment to quality, ethics, and integrity as well as communicates its commitment to clients, stakeholders, and society at large. Integrity is a critical characteristic that stakeholders expect and rely on. It is also the key KPMG value — “Above all, we act with integrity”. Integrity means constantly striving to uphold the highest professional standards, providing sound good-quality advice, and rigorously maintaining our independence. \\n\\nThe KPMG values, which have been explicitly codified for a number of years, are embedded into working practices and compliance culture at KPMG AZSA. \\n\\nThe KPMG values form the foundation of our culture and set the tone at the top. They also form the foundation of the KPMG approach to audit and shape how we work together. We communicate the KPMG values clearly to our people and embed them into our people processes — induction, performance development, and reward.\\n\\n\\n\\nKPMG Global Code of Conduct \\n\\nKPMG’s commitment to integrity and quality is enshrined in the KPMG values that lie at the heart of the way we do things. They define KPMG’s diverse and inclusive culture and our commitment to the right personal and professional conduct. The KPMG values emphasize that, above all, KPMG personnel act with integrity, uphold the highest professional standards, and provide sound advice while rigorously maintaining independence and complying with laws, regulations, and professional standards. The KPMG values are communicated clearly to all people and are embedded into member firms’ people processes — induction, performance development, and reward.\\n\\nBuilding on the KPMG values is the KPMG Global Code of Conduct.\\n\\nMember firms, including KPMG AZSA, are required to adopt, as a minimum, the Global Code of Conduct.  \\n\\n\\n\\nKPMG AZSA Code of Conduct \\n\\nThe KPMG AZSA Code of Conduct lays out the expectations of ethical behavior for all partners and employees at KPMG AZSA and is built on the foundation of the KPMG values, the shared set of beliefs and principles at KPMG. In addition, the KPMG AZSA Code of Conduct emphasizes that each partner and employee is personally responsible for following the legal, professional, and ethical standards that apply to his or her job function and level of responsibility. The KPMG AZSA Code of Conduct sets out our commitments and includes provisions that require KPMG personnel, in summary, to:\\n\\ncomply with all applicable laws, regulations, professional standards, and KPMG AZSA policies;\\n\\nwork with the right clients and third parties;\\n\\nfocus on quality;\\n\\nnot tolerate any illegal or unethical acts, committed within KPMG AZSA, by clients or suppliers, or public officials with whom we deal;\\n\\nprotect information;\\n\\ncompete fairly;\\n\\nhelp our people to be extraordinary;\\n\\nbe responsible corporate citizens;\\n\\nbuild public trust.\\n\\n\\n\\nAll KPMG AZSA personnel are required to:\\n\\ncomply with both the Global Code of Conduct and the KPMG AZSA Code of Conduct and confirm their compliance with the Code of Conduct upon joining the firm and annually thereafter; \\n\\ncomplete regular training covering the Code of Conduct upon joining the firm and annually thereafter. \\n\\nIndividuals are encouraged to speak up when they see something that makes them uncomfortable or that is inconsistent with the KPMG values. Moreover, everyone at KPMG is responsible for reporting, and is required to report, any activity that could potentially be illegal or in violation of the KPMG values, KPMG policies, applicable laws, regulations, or professional standards.\\n\\nWe have procedures and established channels of communication so that our personnel can report ethical and quality issues. Retaliation is prohibited against individuals who ‘raise their hand’ and speak up in good faith. Also, all the information, including that related to fraud risk ( i.e., risks of material misstatements due to fraud) posted from KPMG internal and external parties are communicated with relating engagement partners, and their audit response is to be reported to head office. \\n\\nIn addition, the KPMG International hotline is a mechanism for all KPMG partners, employees, clients, and other external parties to confidentially report their concerns related to certain areas of activity by KPMG International itself, KPMG member firms or the senior leadership or employees of a KPMG member firm. At KPMG AZSA, we regularly monitor the extent to which our people feel we live the KPMG values through the Global People Survey (GPS) (refer to section 5. (7)).\\u3000\\n\\n\\nLeadership responsibilities for quality and risk management\\n\\nKPMG AZSA demonstrates commitment to quality, ethics, and integrity as well as communicates our focus on quality to clients, stakeholders, and society. Our leadership plays a critical role in setting the right tone and leading by example demonstrating an unwavering commitment to the highest standards of professional excellence and championing and supporting major initiatives.  \\n\\nOur leadership team is committed to building a culture based on quality, integrity, and ethics, demonstrated through their actions — written and video communications, presentations to teams, and one-to-one discussions. \\n\\nThe following individuals have leadership responsibilities for quality and risk management at KPMG AZSA.\\n\\n\\n\\nManaging partner\\n\\nIn accordance with the principles in ISQC1, our Managing Partner has assumed ultimate responsibility for KPMG AZSA’s system of quality control including audit response to fraud risk. \\n\\n\\n\\nThe Executive Board member in charge of Quality\\n\\nOperational responsibility for the system of quality control, risk management, and compliance in KPMG AZSA has been delegated to the Executive Board member in charge of Quality who is responsible for setting overall professional risk management and quality control policies and monitoring compliance for the firm. \\n\\nManaging Partner and the Executive Board member in charge of Quality communicate our internal policy about our system of quality control, and behavior and message prioritizing audit quality to professionals, through internal meetings and newsletters. \\n\\nEngagement partner is responsible for quality and risk management of each engagement involved.\\n\\n\\n\\n Association with the right clients\\n\\nAcceptance and continuance of clients and engagements\\n\\nOne of the keys to managing audit quality is to understand the nature of our clients and the issues they face and build a robust audit response to the identified risks.\\n\\nWe understand our clients are linked to the quality of our work and our reputation. \\n\\nRigorous client and engagement acceptance and continuance policies and processes help protect KPMG’s reputation, support the KPMG brand and are an important part to our ability to provide high-quality professional services. Accordingly, KPMG International has established policies and procedures which all member firms are required to implement in order to decide whether to accept or continue a client relationship, and whether to perform a specific engagement for that client.\\n\\n\\n\\nProspective client and engagement acceptance process  \\n\\nKPMG AZSA undertakes an evaluation of every prospective client.  \\n\\nThis involves background checks on the prospective client, its key management, and significant beneficial owners and then properly analyzing the information to be able to make an informed acceptance decision. This evaluation includes the completion of a questionnaire to assess the client’s risk profile and obtaining background information on the client, its key management, directors, and owners. We also obtain additional information required to satisfy our local legal and/or regulatory requirements.  \\n\\nA second partner, as well as the evaluating partner, approves each prospective client evaluation. Where the client is considered to be ‘high risk’, additional approvals by the Risk Management Partner and, in some cases, the office managing partner, or the Executive Board member in charge of Quality, are required.\\n\\n\\n\\nEngagement evaluation \\n\\nEach prospective engagement is also evaluated to identify potential risks in relation to the engagement. A range of factors are considered as part of this evaluation, including potential independence and conflict of interest issues (using Sentinel™, KPMG’s conflicts and independence checking system), intended purpose and use of engagement deliverables, as well as factors specific to the type of engagement. For audit services, these include the competence of the client’s financial management team, the skills and experience of personnel assigned to staff the engagement and fraud risk. The evaluation is made in consultation with other senior KPMG AZSA personnel and includes review by quality and risk management leadership as required.\\n\\nWhere audit services are to be provided for the first time, the prospective engagement team is required to perform additional independence evaluation procedures including a review of any non-audit services provided to the client and of other relevant business and personal relationships. \\n\\nSimilar independence evaluations are performed when an existing audit client becomes a public interest entity or additional independence restrictions apply following a change in the circumstances of the client. We follow specific procedures (detailed further in section 4.(2) ⑦) to identify and evaluate threats to independence for prospective audit clients that are public interest entities. \\n\\nDepending on the overall risk assessment of the prospective client and engagement, additional safeguards may be introduced to help mitigate the identified risks. Any potential independence or conflict of interest issues are required to be documented and resolved prior to acceptance.\\u3000\\n\\nA prospective client or engagement will be declined if a potential independence or conflict issue cannot be resolved satisfactorily in accordance with professional standards and our policies, or if there are other quality and risk issues that cannot be appropriately mitigated.\\n\\n\\n\\nContinuance process\\n\\nKPMG AZSA undertakes an annual re-evaluation of all its audit clients. The re-evaluation identifies any issues in relation to continuing association and any mitigating procedures that need to be put in place. \\n\\nRecurring or long-running non-audit engagements are also subject to the re-evaluation. In addition, clients and engagements are required to be re-evaluated if there is an indication that there may be a change in their risk profile. \\n\\n\\n\\nWithdrawal\\n\\nWhere we obtain information that indicates that we should withdraw from an engagement or from a client relationship, we consult internally and identify any required legal, professional, and regulatory responsibilities. We also communicate as necessary with those charged with governance and appropriate authority.\\n\\n\\n\\nClient portfolio management\\n\\nOur leadership appoints engagement partners who have the appropriate competence, capabilities, time and authority to perform the role for each engagement. \\n\\nWe review each audit partner’s client portfolio at least annually in individual discussions with the audit partner. The reviews consider the industry, nature, and risk of the client portfolio as a whole along with the competence, capabilities, and capacity of the partner to deliver a quality audit for every client.\\n\\n\\n\\n\\n\\n\\n\\n\\n\\n\\n\\n\\n\\n\\n\\n\\n\\n\\n\\n\\n\\n\\n\\n\\n\\n\\n\\n\\n\\n\\n\\n\\n\\n\\n\\n\\n\\n\\n\\n Clear standards and robust audit tools\\n\\nAll KPMG AZSA professionals are expected to adhere to KPMG International and KPMG AZSA policies and procedures, including independence policies. They are provided with a range of tools and guidance in order to meet these expectations. \\n\\nThe policies and procedures set for audit engagements incorporate the relevant requirements of accounting, auditing, ethical, and quality control standards, as well as other relevant laws and regulations.\\n\\n\\n\\nOur approach to audit\\n\\nKPMG has been investing significantly in evolving the network’s audit capabilities and will continue to do so in the coming years including a new global electronic audit workflow delivered through KPMG Clara platform — KPMG’s smart, modular audit platform — capable of continually integrating new and emerging technologies, with advanced capabilities embedded that leverage data, automation, and visualization. Data & Analytics (D&A) is integral to the way how KPMG member firms obtain audit evidence and interact with clients in the digital era. \\n\\nKPMG’s high-quality audit process will continue to include: \\n\\ntimely partner and manager involvement throughout the engagement;\\n\\naccess to the right knowledge including involvement of specialists, training and experience requirements, and relevant industry expertise;\\n\\ncritical assessment of all audit evidence obtained during the audit, exercising appropriate professional judgment;\\n\\nongoing mentoring, supervision, and review of the engagement team.\\n\\n\\n\\nConsistent audit methodology and tools\\n\\nSignificant resources are dedicated to keeping KPMG’s standards and tools complete and up to date. The KPMG audit methodology, developed by the Global Service Centre (GSC), is based on the requirements of the International Standards on Auditing (ISAs). The KPMG audit methodology is set out in KPMG Audit Manual (KAM) and includes additional requirements that go beyond the ISAs, which KPMG International believes enhance the audit quality. The methodology emphasizes applying appropriate professional skepticism in the execution of audit procedures and requires compliance with relevant ethical requirements, including independence. Enhancements to the audit methodology, guidance, and tools are made regularly to be in compliance with standards, emerging auditing areas of focus, and audit quality results (internal and external). Key topics include accounting estimates, internal control, revenue recognition, group audits, audit sampling and risk assessment.\\n\\n\\n\\nKPMG member firms may add local requirements and/or guidance in KAM to comply with additional professional, legal, or regulatory requirements. \\n\\nKAM contains examples and guidance for, among other things, procedures intended to identify and assess the risk of material misstatement and procedures to respond to those assessed risks. \\n\\nThe KPMG audit methodology encourages the use of specialists when appropriate, and also requires the involvement of relevant specialists in the core audit engagement team when certain criteria are met or where the audit team considers it appropriate or necessary. \\n\\nThe policies and procedures set out in KAM are specific to audits and supplement the policies and procedures set out in the Global Q&RM Manual that is applicable to all KPMG member firms, functions, and personnel. \\n\\nThe KPMG audit workflow is enabled through eAudIT, an activity-based workflow and electronic audit file. eAudIT is KPMG’s audit documentation workflow that allows 75,000+ professionals to complete high-quality and consistent audits. eAudIT integrates KPMG’s audit methodology, guidance, and industry knowledge as well as the tools needed to execute and document the audit work performed. \\n\\neAudIT can be “scaled” to present the relevant requirements and guidance, depending on the nature of the entity to be audited and in accordance with professional standards and applicable legal and regulatory requirements. It provides direct access to our audit guidance, professional standards, and documentation templates. \\n\\nSignificant investments are underway to revise and enhance the KPMG audit methodology (KAM) and workflow tool (eAudIT), with the deployment of KPMG Clara Workflow which was piloted in 2018 and is planned for initial deployment globally in 2019 and full deployment beginning in 2020..\\n\\n\\n\\nKPMG Clara, KPMG Clara Workflow and Audit Data & Analytics (D&A) \\n\\nKPMG International is making significant investments to improve audit quality, drive consistency in the execution of audits, and strengthen both the member firm and global monitoring of engagements. \\n\\n\\n\\n\\n\\n\\n\\nKPMG Clara\\n\\nIn 2017, KPMG International commenced the global launch of KPMG Clara — KPMG’s Smart Audit Platform — bringing together KPMG’s Audit Data & Analytics (D&A) capabilities, innovative new technologies, collaboration capabilities, and audit workflow. \\n\\nThis represents KPMG’s ambition to: \\n\\ntransform audit execution for our people and clients through new, modern technology-enabled interfaces and collaboration functionality; \\n\\nintegrate the required capability to digitize the audit and deliver new D&A routines; \\n\\nenable an enhanced and re-designed workflow; \\n\\nincorporate the development of monitoring capabilities at the engagement-level and across engagement portfolios for use by engagement teams and member firms; \\n\\nsupport global leadership’s monitoring of the effectiveness of member firm systems of quality control; \\n\\ndevelop an extendable audit platform to enable member firm customization and scale, as well as future capabilities.\\n\\n\\n\\n\\n\\nKPMG Clara Workflow\\n\\nBuilding on the launch of KPMG Clara in 2017, KPMG International is creating a new workflow tool that will be used by KPMG audit teams to execute and document KPMG audits. It will be intuitive, user-friendly, and modern. The new system will genuinely be a workflow guiding audit teams through a series of steps in a logical sequence, with clearer display of information and visuals, knowledge and guidance available as and when needded, and with embedded advanced D&A capabilities. The workflow and methodology will also be scalable — adjusting the requirements to the size and complexity of the audit engagement. This globally driven project will significantly overhaul and redesign the execution of an audit by KPMG professionals and drive improvements in audit quality. \\n\\n\\n\\nAudit data & analytics (D&A)\\n\\nKPMG’s audit, powered by D&A:\\n\\nIt enhances audit quality by providing a deeper understanding of data populations, giving focus to higher risk transactions. \\n\\nIt is secure as it restricts access to data both in transit and within KPMG’s IT environments. \\n\\nIt provides transparency by facilitating detailed analysis to uncover the reasons behind, and root causes of, outliers and anomalies as well as providing increased visibility into higher risk transactions and process areas. \\n\\nD&A tools and routines are built on principles and professional standards underlying an audit and do not relieve auditors of their responsibilities. \\n\\n\\n\\nIndependence, integrity, ethics, and objectivity \\n\\nOverview\\n\\nAuditor independence is a cornerstone of international professional standards and regulatory requirements.\\n\\nKPMG International has detailed independence policies and procedures, incorporating the requirements of the IESBA Code of Ethics. These are set out in KPMG’s Global Q&RM Manual. Automated tools facilitate compliance with these requirements.\\u3000\\n\\nThese policies are supplemented by other processes to ensure compliance with the standards issued by the Certified Public Accountant Law and Code of Ethics issued by the JICPA.\\n\\nThese policies and processes cover areas such as firm independence, personal independence, firm financial relationships, post-employment relationships, partner rotation, and approval of audit and non-audit services. \\n\\nKPMG International has a Partner-in-Charge of the Global Independence Group, who is supported by a core team of specialists to help ensure that robust and consistent independence policies and procedures are in place at KPMG member firms, and that tools are available to help them and their personnel comply with these requirements.   \\n\\nKPMG AZSA has a designated Ethics and Independence Partner (EIP) who has primary responsibility for the direction and execution of ethics and independence policies and procedures. \\n\\nAmendments to KPMG International's ethics and independence policies in the course of the year are included in regular quality and risk communications.\\n\\nMember firms are required to implement changes as specified in the email alerts, and this is checked through the internal monitoring programs.\\n\\nKPMG AZSA personnel are required to consult with the EIP on certain matters as defined in our internal rules. Consultations may also be required with the Global Independence Group, depending upon the facts and circumstances.\\n\\n\\n\\nPersonal financial independence\\n\\nKPMG International policies require that KPMG member firms and KPMG professionals are free from prohibited financial interests in, and prohibited relationships with, KPMG member firm audit clients, their management, directors, and significant owners. The policies also extend the IESBA Code of Ethics restrictions on ownership of audit client securities to every partner and all staff who are manager grade or above in our firm in respect of any audit client of any member firm.\\n\\nKPMG AZSA professionals are responsible for making appropriate inquiries and taking other appropriate actions on an ongoing basis to ensure that they do not have any personal financial, business or family interests that are restricted for independence purposes. \\n\\nIn common with other KPMG member firms, we use a web-based independence compliance system (KICS) to assist our professionals in complying with personal independence investment policies. This system contains an inventory of publicly available investments. \\n\\nPartners and all manager grade and above client-facing personnel are required to use the KICS system prior to entering into an investment to identify whether they are permitted to do so. They are also required to maintain a record of all of their investments in KICS, which automatically notifies them if any investment subsequently becomes restricted. Newly restricted investments must be disposed of within five business days of the notification. \\n\\nKPMG monitors partner and manager compliance with this requirement as part of our program of independence compliance audits of a sample of professionals.\\n\\n\\n\\nEmployment relationships\\n\\nAny professional providing services to an audit client irrespective of function is required to notify our EIP, the engagement partner of an audit client, and the HR department if he or she intends to enter into employment negotiations with that audit client.\\n\\nFormer members of the audit team or former partners of KPMG AZSA are prohibited from joining an audit client in certain roles unless they have disengaged from all significant connections to KPMG AZSA, including payments which are not fixed and determined and/or would be material to KPMG AZSA and ceased participating in KPMG AZSA business and professional activities.\\n\\nKey audit partners and members of the chain of command for an audit client that is a public interest entity are subject to time restrictions (referred to as ‘cooling-off’ periods) that preclude them from joining that client in certain roles until a defined period of time has passed. \\n\\nWe communicate and monitor requirements in relation to the employment of KPMG AZSA professionals by audit clients.\\n\\n\\n\\nFirm financial independence\\n\\nKPMG member firms must also be free from prohibited interests in, and prohibited relationships with, audit clients, their management, directors, and significant owners.\\n\\nIn common with other KPMG member firms, KPMG AZSA uses KICS to record its own investments (made, for example, through pension and retirement plans and treasury activities) in the web-based independence tracking system. This record is monitored through our compliance process.\\n\\n\\n\\nBusiness relationships/suppliers\\n\\nKPMG AZSA has policies and procedures in place that are designed to ensure its business relationships are maintained in accordance with the IESBA Code of Ethics, Japanese Certified Public Accountant Law, Code of Ethics issued by the JICPA and SEC, US PCAOB rule requirements.\\n\\n\\n\\nIndependence clearance process\\n\\nKPMG AZSA follows specific procedures to identify and evaluate threats to independence related to prospective audit clients that are public interest entities; these procedures, also referred to as ‘the independence clearance process,’ must be completed prior to accepting an audit engagement for these entities. \\n\\n\\n\\nIndependence training and confirmations\\n\\nAll KPMG AZSA partners and client service professionals, as well as certain other individuals, must complete independence training that is appropriate to their grade and function upon joining KPMG AZSA and on an annual basis thereafter. New personnel who are required to complete this training must do so by the earlier of (a) thirty days after joining KPMG AZSA or (b) before providing any services to, or becoming a member of the chain of command for, any audit client, including any of its related entities or affiliates.\\n\\nWe also provide all personnel with training on the Global Code of Conduct, the KPMG AZSA Code of Conduct and ethical behavior, including KPMG’s anti-bribery policies, compliance with laws, regulations, and professional standards, and reporting suspected or actual non-compliance with laws, regulations, professional standards, and KPMG’s policies on a biennial basis. New personnel are required to complete this training within three months of joining KPMG AZSA.\\n\\nUpon acceptance of employment, all KPMG personnel are required to confirm that they are in compliance with, and will abide by, applicable ethics and independence rules and policies. \\n\\nThereafter, all KPMG personnel are required to sign an annual confirmation stating that they have remained in compliance with applicable ethics and independence policies throughout the year covered by the confirmation as well as their understanding of, and compliance with, the applicable Code of Conduct. This confirmation is used to evidence the individual’s compliance with and understanding of KPMG’s independence policies.\\n\\n\\n\\nPartner rotation\\n\\nOur rotation policies, which are consistent with the Certified Public Accountant Law and JICPA Code of Ethics, require our firm to comply with any stricter local applicable rotation requirements. \\n\\nKPMG AZSA partners are subject to periodic rotation of their responsibilities for audit clients under applicable laws, regulations, independence rules, and KPMG International policy. \\n\\nThese requirements place limits on the number of years that partners in certain roles may provide audit services to a client followed by a “time-out” period during which time these partners may not participate in the audit, provide quality control for the audit, consult with the engagement team or the client regarding technical or industry-specific issues or in any way influence the outcome of the audit.\\n\\nKPMG AZSA monitors the rotation of audit engagement leaders (and any other key roles, such as the Key Audit Partner and EQC Reviewer, where there is a rotation requirement) and develops transition plans to enable the allocation of partners with the necessary competence and capability to deliver a consistent quality of service to clients. The partner rotation monitoring is subject to compliance testing.\\n\\n\\n\\nNon-audit services\\n\\nWe have policies that are consistent with IESBA principles and applicable laws and regulations, related to the scope of services that can be provided to audit clients.\\n\\nWe are required to establish and maintain a process to review and approve all new and modified services that are developed by KPMG AZSA. KPMG AZSA’s EIP is involved in the review of potential independence issues and the Global Independence Group is involved in the case of services developed which are intended to be delivered to audit or assurance clients in more than one jurisdiction. \\n\\nIn addition to identifying potential conflicts of interest, Sentinel™ facilitates compliance with these policies. \\n\\nCertain information on all prospective engagements, including service descriptions and fees, must be entered into Sentinel™ as part of the engagement acceptance process. Lead audit engagement partners are required to maintain group structures for their publicly traded and certain other audit clients as well as their affiliates in Sentinel™, and they are also responsible for identifying and evaluating any independence threats that may arise from the provision of a proposed non-audit service and the safeguards available to address those threats. Sentinel™ enables lead audit engagement partners for entities for which group structures are maintained to review and approve, or deny, any proposed service for those entities worldwide.\\n\\n\\n\\nFee dependency\\n\\nKPMG International’s policies recognize that self-interest or intimidation threats may arise when the total fees from an audit client represent a large proportion of the total fees of the member firm expressing the audit opinion. \\n\\nThey require that in the event that the total fees from a public interest entity audit client and its related entities were to represent more than 10 percent of the total fees received by a particular member firm for two consecutive years. \\n\\n This would be disclosed to those charged with governance at the audit entity; and \\n\\nEQC reviewer from another KPMG member firm would be appointed.  \\n\\nNo audit client accounted for more than 10 percent of the total fees received by KPMG AZSA over the last two years.\\n\\n\\n\\nAvoiding conflicts of interest\\n\\nConflicts of interest can arise in situations where KPMG AZSA personnel have a personal connection with the client which may interfere, or be perceived to interfere, with their ability to remain objective, or where they are personally in possession of confidential information relating to another party to a transaction. Consultation with the RMP or the EIP is required in these situations.\\u3000\\n\\nAll KPMG member firms and personnel are responsible for identifying and managing conflicts of interest, which are circumstances or situations that have, or may be perceived by a fully informed, reasonable observer, to have an impact on a member firm or its personnel in their ability to be objective or otherwise act without bias.\\n\\nAll KPMG member firms must use Sentinel™ for potential conflict identification so that these can be addressed in accordance with legal and professional requirements. KPMG AZSA has risk management resource/s (‘Resolver/s’) who is/are responsible for reviewing an identified potential conflict and working with the affected member firms to resolve the conflict, the outcome of which must be documented.\\n\\nIt may be necessary to apply specific procedures to manage the potential for a conflict of interest to arise, or be perceived to arise, so that the confidentiality of all clients’ affairs is maintained. Such procedures may, for example, include establishing formal dividers between engagement teams serving different clients, and making arrangements to monitor the operation of such dividers.\\n\\nEscalation and dispute resolution procedures are in place for situations in which agreement cannot be reached on how to manage a conflict. \\n\\nIf a potential conflict issue cannot be appropriately mitigated, the engagement is declined or terminated.\\n\\n\\n\\nBreaches of independence policy\\n\\nAll KPMG personnel are required to report an independence breach as soon as they become aware of it to the EIP. In the event of failure to comply with our independence policies, whether identified in the compliance review, self-declared or otherwise, professionals are subject to an independence disciplinary policy. \\n\\n\\n\\nKPMG AZSA has a documented disciplinary policy in relation to breaches of independence policies. The disciplinary policy is communicated to all professionals and applies to all breaches of independence rules, incorporating incremental sanctions reflecting the seriousness of any violations. \\n\\n\\n\\nAny breaches of auditor independence regulations are reported to those charged with governance at the audit client, on the basis agreed with them but at a minimum on an annual basis.\\u3000\\n\\n\\n\\nCompliance with laws, regulations, and anti-bribery and corruption \\n\\nCompliance with laws, regulation, and standards is a key aspect for all KPMG AZSA personnel. In particular, we have zero tolerance of bribery and corruption. \\n\\nWe prohibit involvement in any type of bribery — even if such conduct is legal or permitted under applicable law or local practice. We also do not tolerate bribery by third parties, including by our clients, suppliers or public officials.\\n\\nFurther information on KPMG International anti-bribery and corruption policies can be found on the anti-bribery and corruption site.\\n\\n\\nInsider trading prevention\\n\\nIn order to prevent insider trading, KPMG AZSA has internal rules and procedures that aim to establish information credibility in the capital markets. These include the prohibition of holding or trading in the securities of audited entities and registration on a web-based independence tracking system to monitor personal investments in publicly traded companies in Japan and other jurisdictions. \\n\\nAll partners and employees understand our insider trading policy through appropriate training and provide an annual confirmation that they have remained in compliance with applicable policies throughout the period.\\n\\n\\n\\n Recruitment, development, and assignment of appropriately qualified personnel\\n\\nOne of the key drivers of quality is ensuring that our professionals have the appropriate skills and experience, passion and purpose, to deliver the highest quality in audit. This requires appropriate recruitment, development, promotion, and retention assignment of professionals. The KPMG performance development approach, linked to the KPMG values, is designed to articulate what is required for success — both individually and collectively. Ensuring audit quality is an essential element of the training, planning, and development underway to support the KPMG Clara Workflow roll-out and the associated updated KPMG audit methodology, with processes embedded in all KPMG learning programs.\\n\\n\\n\\nRecruitment\\n\\nKPMG AZSA strives to be an employer of choice by creating an environment where our people can fulfill their potential and feel proud and motivated to give their best.  \\n\\n\\n\\nAll candidates submit an application and are employed following a variety of selection processes, which may include application screening, competency-based interviews, psychometric and ability testing.\\n\\n\\n\\nKPMG AZSA does not accept any confidential information belonging to the candidate’s former firm/employer. Where individuals are recruited for senior grades (i.e. partner, director), a formal independence discussion is conducted with them by the EIP. \\n\\n\\n\\nThe Partner hire process is rigorous and thorough, involving appropriate members of leadership, including the Partners’ Meeting and the Senior Executive Board. Our criteria for Partner hires are consistent with our commitment to professionalism and integrity, quality, and being an employer of choice. \\n\\n\\n\\nPersonal development\\n\\nIt is important that all our professionals have the necessary business and leadership skills in addition to technical skills to be able to perform quality work.\\n\\n\\n\\nIn relation to audit, opportunities are provided for professionals to develop the skills, behaviors, and personal qualities that form the foundations of a career in auditing. Courses are available to enhance personal effectiveness and develop technical, leadership, and business skills.\\n\\nIn addition, training sessions are successively provided for each partner and employer to ensure the importance of  enhancing, keeping and exhibiting professional skepticism throughout the audit and also to provide member the appropriate opportunities of instruction and training about fraud. \\n\\nKPMG AZSA professionals are also developed for high performance through access to coaching and mentoring on the job, stretch assignments, and country rotational and global mobility opportunities.\\n\\n\\n\\nInclusion and Diversity programs\\n\\nKPMG AZSA works hard to foster an inclusive culture. Being inclusive enables us to bring together successful teams with the broadest range of skills, experiences, and perspectives.\\n\\nWe encourage each partner and employee with diverse personalities to achieve high performance toward the common goal of “contributing to audit clients and society through the provision of high-quality services”, while respecting and making the most of each other’s differences. \\n\\nKPMG AZSA adopts a variety of approaches to establish an environment conducive to more diverse and flexible work styles. Specific initiatives include: developing globally minded personnel; promoting women’s participation in the workforce; supporting our people as they balance work and childbirth, childcare, and nursing care; promoting employment of persons with disabilities; creating a corporate culture that allows and encourages our people to embrace diversity; and introducing teleworking, as well as changing the office work style more generally.\\n\\nFor more information about Inclusion & Diversity at KPMG, read here.\\n\\n\\nEvaluation process including quality and compliance metrics\\n\\nKPMG AZSA professionals, including partners, have annual goal-setting and performance reviews. Each professional is evaluated on his or her agreed-upon goals, demonstration of our leadership competencies, technical capabilities, and market knowledge. A culture of continuous improvement is encouraged to drive feedback, both formal and informal, from junior and senior colleagues, as well as peers. Feedback gathered forms an integral part of performance reviews. \\n\\n\\n\\nKPMG AZSA monitors quality and compliance incidents and maintains quality metrics in assessing the overall evaluation, promotion, and remuneration of partners, directors, and managers.\\n\\nPartners are also evaluated on key quality and compliance metrics. \\n\\nThese evaluations are conducted by performance managers and partners who are in a position to assess their performance and propose a performance rating. KPMG AZSA’s policy prohibits audit partners from being evaluated on or compensated based on their success in selling non-assurance services to audit clients.\\n\\n\\n\\n\\n\\n\\n\\nReward\\n\\nWe have compensation and promotion policies that are clear, simple, and linked to the performance review process which, for partners, includes the achievement of key audit quality and compliance metrics. This helps our partners and employees know what is expected of them, and what they can expect to receive in return. \\n\\nReward decisions are based on the consideration of both individual and organizational (member firm) performance. The extent to which our people feel their performance has been reflected in their reward is measured through the GPS, with action plans developed accordingly.\\n\\n\\n\\nPromotion\\n\\nThe results of performance evaluations directly affect the promotion and remuneration of partners and staff and, in some cases, their continued association with KPMG.\\n\\n\\n\\nPartner admissions\\n\\nOur process for admission to partnership is rigorous and thorough, involving appropriate members of leadership, including the Partners’ Meeting and the Senior Executive Board. \\n\\nOur criteria for admission to the KPMG AZSA partnership are consistent with our commitment to professionalism and integrity, quality and being an employer of choice. These are strongly aligned to KPMG’s behavioral capabilities and are based on consistent principles.\\n\\n\\n\\nAssignment of professionals\\n\\nKPMG AZSA has procedures in place to assign both the engagement partners and other professionals to a specific engagement on the basis of their skill sets, relevant professional and industry experience, and the nature of the assignment or engagement. \\n\\nFunction heads are responsible for the partner assignment process. Key considerations include partner experience and capacity based on an annual partner portfolio review to perform the engagement taking into account the size, complexity, and risk profile of the engagement and the type of support to be provided (i.e. the engagement team composition and specialist involvement). \\n\\nAudit engagement partners are required to be satisfied that their engagement teams have appropriate competencies, training and capabilities, including time, to perform audit engagements in accordance with KAM, professional standards, and applicable legal and regulatory requirements. This may include involving specialists from our own firm or other KPMG member firms. \\n\\n\\n\\nWhen considering the appropriate competence and capabilities expected of the engagement team as a whole, the engagement partner’s considerations may include the following: \\n\\nan understanding of, and practical experience with, audit engagements of a similar nature and complexity through appropriate training and participation;\\n\\nan understanding of professional standards and legal and regulatory requirements;\\n\\nappropriate technical skills, including those related to relevant information technology and specialized areas of accounting or auditing; \\n\\nknowledge of relevant industries in which the client operates;\\n\\nability to apply professional judgment; \\n\\nan understanding of KPMG AZSA’s quality control policies and procedures; \\n\\nQPR results and results of regulatory inspections, as well as ;\\n\\nInsights from our people (GPS). \\n\\n\\n\\nfrom our people —People Survey (GPS)\\n\\nBiennially, KPMG Japan invites all our people to participate in an independent GPS to share their perception about their experience working for KPMG. \\n\\nThe GPS provides an overall measure of our people’s engagement through an Employee Engagement Index (EEI) as well as insights into areas driving engagement which may be strengths or opportunities. The survey also identifies opportunities to strengthen those levels of engagement. Results can be analyzed by functional or geographic area, grade, role, gender to provide additional insight. Additional insight is provided on how we are faring on categories known to impact employee engagement.\\n\\nThe survey also specifically provides KPMG AZSA leadership and KPMG global leadership with results related to audit quality, upholding the KPMG values, employee and partner attitudes to quality, leadership, and tone at the top. \\n\\nKPMG AZSA participates in the GPS, monitors results, and takes appropriate actions to communicate and respond to the findings of the survey. \\n\\nThis includes monitoring GPS results including those related to:\\n\\naudit quality and tone at the top;\\n\\nemployee engagement through the EEI.\\n\\nThe GPS results are also aggregated for the KPMG network and are presented to the Global Board each year and appropriate follow-up actions agreed.\\n\\n\\n\\n Commitment to technical excellence and quality service delivery\\n\\nAll KPMG AZSA professionals are provided with the technical training and support they need. This includes access to specialists and the professional practice department, which are made up of senior professionals with extensive experience in audit, reporting, and risk management, either to provide resources to the engagement team or for consultation.\\u3000\\n\\nWhere the right resource is not available within KPMG AZSA, access is provided to a network of highly skilled KPMG professionals in other KPMG member firms. \\n\\nAt the same time, audit policies require professionals to have the appropriate knowledge and experience for their assigned engagements. \\n\\n\\n\\nLifetime learning strategy\\n\\nIn addition to personal development discussed in the section above, our lifetime learning strategy is underpinned by policies requiring all professionals to maintain their technical competence as well as comply with applicable regulatory and professional development requirements. \\n\\n\\n\\nFormal training\\n\\nAnnual training priorities for development and delivery are identified by the Audit Learning and Development steering groups at global, regional and KPMG AZSA levels. Training is delivered using a blend of classroom, digital learning, and performance support to assist auditors on the job.\\u3000\\n\\nAudit Learning and Development teams work with subject matter experts and leaders from the GSC, the ISG and member firm Department of Professional Practice (DPP) as appropriate, to ensure the training is of the highest quality, is relevant to performance on the job, and is delivered on a timely basis. \\n\\n\\n\\nLicensing and mandatory requirements for IFRS and U.S. GAAP engagements\\n\\nLicensing\\n\\nAll KPMG AZSA professionals are required to comply with applicable professional license rules and satisfy the Continuing Professional Development (CPD) requirements in the jurisdiction where they practice. \\n\\nPolicies and procedures are designed to facilitate compliance with license requirements.\\n\\nWe are responsible for ensuring that audit professionals working on engagements have appropriate audit, accounting and industry knowledge, and experience in the local predominant financial reporting framework. \\n\\n\\n\\nMandatory requirements — IFRS and U.S.GAAP engagements\\n\\nWe have specific requirements for partners, managers, and EQC reviewers working on IFRS engagements, in countries where IFRS is not the predominant financial reporting framework. Similar policies apply to engagements performed outside the U.S. to report on financial statements or financial information prepared in accordance with U.S. GAAP and/or audited in accordance with the U.S. auditing standards, including reporting on the effectiveness of the entity’s internal control over financial reporting (ICOFR). \\n\\nThese require that the partner, manager, and EQC reviewer have completed relevant training and that the engagement team, collectively, has sufficient experience to perform the engagement or has implemented appropriate safeguards to address any shortfalls.\\n\\n\\n\\nAccess to specialist networks\\n\\nKPMG AZSA engagement teams have access to a network of local KPMG specialists as well as specialists in other KPMG member firms.  \\n\\nSpecialists who are members of an audit team and have overall responsibility for specialist involvement on an audit engagement have the competencies, capabilities, and objectivity to appropriately fulfill their role. Training on audit concepts is provided to these specialists.\\n\\nThe need for specialists (e.g. Information Technology, Tax, Actuarial, Forensic, Valuation) to be assigned to a specific audit engagement is considered as part of the audit engagement acceptance and continuance process.\\n\\n\\n\\nCulture of Consultation\\n\\nKPMG encourages a strong culture of consultation that supports member firm teams throughout their decision-making processes and is a fundamental contributor to audit quality.\\n\\nKPMG AZSA promotes a culture in which consultation is recognized as a strength and that encourages personnel to consult on difficult or contentious matters. \\n\\nTo assist audit engagement professionals in addressing difficult or contentious matters, protocols have been established for consultation and documentation of significant accounting and auditing matters, including procedures to facilitate resolution of differences of opinion on engagement issues. \\n\\nThese protocols include the policies and procedures for consultation when indicators suggesting material misstatements due to fraud are identified.\\n\\nAppropriate consultation support is provided to audit engagement professionals through our professional practice resources.\\n\\nTechnical auditing and accounting support is available to all member firms and their professionals through the GSC and ISG as well as the US Capital Markets Group for SEC foreign registrants. \\n\\n\\n\\nGlobal Services Centre (GSC)\\n\\nThe GSC’s mission is to drive success for KPMG’s global network of audit practices through collaboration, innovation, and technology. The GSC develops, maintains, and deploys KPMG’s audit methodology and technology-based tools used by KPMG audit professionals to facilitate effective and efficient audits. With three global locations, one in each region, the GSC audit team is made up of professionals with backgrounds in audit, IT, data science, mathematics, statistics, and more from around the world who bring diverse experiences and innovative ways of thinking to further evolve KPMG’s audit capabilities.\\n\\n\\n\\n\\n\\n\\n\\nInternational Standards Group (ISG)\\n\\nThe ISG works with Global IFRS and ISAs topic teams with geographic representation from around the world to promote consistency of interpretation of IFRS and auditing requirements between member firms, identify emerging issues, and develop global guidance on a timely basis. \\n\\nFurther details about the GSC and ISG and its activities are available in the KPMG International Transparency Report.\\n\\n\\n\\nMember firm professional practice resource\\n\\nAppropriate consultation support on auditing and technical accounting matters is provided to audit engagement professionals through our professional practice resources (referred to as Department of Professional Practice or DPP). DPP also assists engagement teams where there are differences of opinion either within teams or with the EQC reviewer. Unresolved differences are required to be escalated to senior partners for final resolution. The ISG is also available for consultation when required.\\n\\nKPMG International policies include minimum requirements for member firm DPPs.\\n\\n\\n\\nDeveloping business understanding and industry knowledge\\n\\nA key part of quality is having a detailed understanding of the client’s business and industry.\\n\\nFor significant industries, global audit sector leads are appointed to support the development of relevant industry information, which is made available to audit professionals through the KPMG audit workflow. \\n\\nThis knowledge comprises examples of industry audit procedures and other information (such as typical risks and accounting processes). In addition, industry overviews are available that provide general and business information in respect of particular industries as well as a summary of the industry knowledge provided in the KPMG audit workflow.\\n\\n\\n\\n\\n\\n\\n\\n\\n\\n\\n\\n Performance of effective and efficient audits\\n\\nHow an audit is conducted is as important as the final result. KPMG AZSA personnel are expected to demonstrate certain key behaviors and follow certain policies and procedures in the performance of effective and efficient audits.\\n\\n\\n\\nOngoing mentoring, supervision, and review\\n\\nWe understand that skills are developed over time and through exposure to different experiences. To invest in the development of skills and capabilities of KPMG professionals, without compromising on quality, KPMG AZSA promotes a continuous learning environment and supports a coaching culture.  \\n\\nThe engagement partner, supported by the engagement manager, is responsible for driving a culture of coaching and continuous learning throughout the audit process and setting an example in the performance of the audit to drive a culture of continuous audit quality improvement.\\n\\nWe also have policies and procedures on supervision and review throughout the audit to respond appropriately to fraud risks. \\n\\nOngoing mentoring, coaching, and supervision during an audit involves:\\n\\nengagement partner participation in planning discussions;\\n\\ntracking the progress of the audit engagement;\\n\\nconsidering the competence and capabilities of the individual members of the engagement team, including whether they have sufficient time to carry out their work, whether they understand their instructions, and whether the work is being carried out in accordance with the planned approach to the engagement; \\n\\nhelping engagement team members address any significant matters that arise during the audit and modifying the planned approach appropriately;\\n\\nidentifying matters for consultation with more experienced team members during the engagement.\\n\\nA key part of effective mentoring and supervision is timely review of the work performed so that significant matters are promptly identified, discussed, and addressed.\\n\\nKPMG AZSA has policies and procedures to supervise and review the audit response to fraud risk.\\n\\n\\n\\nTimely engagement quality control (EQC) reviewers \\n\\nEQC reviewers are independent of the engagement team and have the appropriate experience and knowledge to perform an objective review of the more critical decisions and judgments made by the engagement team and the appropriateness of the financial statements.  \\n\\nAn EQC reviewer is required to be appointed for audits, including any related review(s) of interim financial information, of all listed entities, non-listed entities with a high public profile, engagements that require an EQC review under applicable laws or regulations, and other engagements as designated by the Risk Management Partner or country Head of Audit.\\n\\nThe EQC review takes place before the date of the auditor’s report and includes, among other matters:\\n\\nreview of selected audit documentation relating to significant judgments the engagement team made and the conclusions it reached; \\n\\nreview of the financial statements and proposed auditor’s report;\\n\\nevaluation of the conclusions reached in formulating the auditors’ report and consideration of whether the proposed report is appropriate.  \\n\\nAlthough the engagement partner is ultimately responsible for the resolution of financial reporting and auditing matters, the EQC reviewer must be satisfied that all significant questions raised have been resolved before an audit can be considered complete. \\n\\nWhere any possibility of material misstatements due to fraud is identified, an EQC reviewer is required to evaluate the appropriateness of the risk assessment, audit procedures performed, and audit evidence obtained by the audit team.\\n\\nKPMG AZSA is continually seeking to strengthen and improve the EQC reviewer’s role in audits, as this is a fundamental part of the system of audit quality control. To reinforce this, a number of actions have been taken, including: \\n\\nestablishing basic policies for EQC review on audit engagements;\\n\\nissuing guidance on EQC review to facilitate effective reviews;\\n\\nobtaining understandings about audit risks, inquiring EQC reviewers of issues on EQC reviews, and monitoring current status of EQC reviews.\\n\\nThe Senior Review Board, which consists of partners who have appropriate experience and knowledge to perform an objective review, monitors the status of the EQC review process and evaluates significant judgments made in the audit. \\n\\n\\n\\nReporting\\n\\nAuditing standards and related laws and regulations in Japan largely dictate the format and content of the auditors’ report that includes an opinion on the fair presentation of the client’s financial statements in all material respects. Experienced engagement partners form all audit opinions based on the audit performed.  \\n\\n\\n\\nIn preparing auditors’ reports, engagement partners have access to extensive reporting guidance and technical support through consultations with our DPP. Engagement partners have to request involvement of Senior Review Board where there are significant matters to be reported to users of the auditors' report, either as a qualification to the audit report or through the inclusion of an emphasis of matter paragraph. \\n\\n\\n\\nInsightful, open, and honest two-way communication \\n\\nTwo-way communication with those charged with governance, often identified as Audit & Supervisory Board, is key to audit quality and is a key aspect of reporting and service delivery. \\n\\nAt KPMG AZSA, we stress the importance of keeping those charged with governance informed of issues arising throughout the audit and the need to listen to and understand their views. We achieve this through a combination of reports and presentations, attendance at the Audit & Supervisory Board, and when appropriate ongoing discussions with management and members of the Audit & Supervisory Board. \\n\\n\\n\\nWe deliver insights such as our assessment of the appropriateness of significant accounting practices, including accounting policies, accounting estimates, financial statement disclosures, significant deficiencies in the design and operation of financial reporting systems, controls when such deficiencies come to our attention during the course of the audit and any uncorrected misstatements.\\n\\n\\n\\nKPMG Institute\\n\\nKPMG’s Global IFRS Institute provides the latest information about accounting and audit which influence many companies, to assist KPMG member firms and external parties. \\n\\nFor example, IFRS Institute (https://home.kpmg/xx/en/home/services/audit/international-financial-reporting-standards.html） provided by KPMG Global and KPMG AZSA web site provide  easy access to the information.\\n\\n\\n\\nCommunications between predecessor auditor and successor auditor\\n\\nWe have established policies and procedures about communications between predecessor auditor and successor auditor when there is a change of auditors. These communications are monitored at the firm level. \\n\\n\\n\\nClient confidentiality, information security, and data privacy\\n\\nThe importance of maintaining client confidentiality is emphasized through a variety of mechanisms including the Global and KPMG AZSA Code of Conduct, training, and the annual affidavit/confirmation process, that all KPMG professionals are required to complete. \\n\\nWe have a formal document retention policy concerning the retention period for audit documentation and other records relevant to an engagement in accordance with the relevant IESBA requirements as well as other applicable laws, standards, and regulations. \\n\\nWe have clear policies on information security that cover a wide range of areas. Data Privacy policies, which comply with the local Personal Information Protection Law, are in place governing the handling of personal information and associated training is required for all KPMG AZSA personnel.\\n\\n\\n\\nRisk associated information\\n\\nWe have a system in place for managing information relating to risk assessment and processes that ensure that significant auditing issues, including fraud risk, are communicated to succeeding engagement partners when there is a change of engagement partners.\\n\\n\\n\\n Commitment to continuous improvement\\n\\nKPMG is committed to continually improving the quality, consistency and efficiency of its audits. Integrated quality monitoring and compliance programs enable member firms to identify quality deficiencies, to perform root cause analysis as well as develop, implement, and report remedial action plans both in respect of individual audit engagements and KPMG system of quality control.\\n\\nKPMG International’s integrated quality and monitoring programs include the Quality Performance Review (QPR) program, the Risk Compliance Program (RCP), and the Global Compliance Review (GCR) program.\\n\\nThe quality monitoring and compliance programs are globally administered and consistent in their approach across all member firms, including the nature and extent of testing and reporting. KPMG AZSA compares the results of its internal monitoring programs with the results of those of any external inspection programs and takes appropriate action.\\n\\n\\n\\nInternal monitoring and compliance programs\\n\\nOur monitoring programs evaluate both:\\n\\nengagement performance in compliance with the applicable standards, applicable laws and regulation, and KPMG International policies and procedures;\\n\\nKPMG AZSA’s compliance with KPMG International policies and procedures and the relevance, adequacy and effective operation of key quality control policies and procedures.\\n\\nThe results and lessons from the integrated monitoring programs are communicated internally, and the overall results and lessons from the programs are considered and appropriate action is taken at the local, regional and global levels.\\n\\nOur internal monitoring program also contributes to the assessment of whether our system of quality control has been appropriately designed and effectively implemented as well as whether it operates effectively.\\u3000\\n\\nTwo inspection programs, developed and administered by KPMG International, are conducted annually across the Audit and Advisory functions, QPR and RCP.  \\n\\nAdditionally, all member firms are covered at least every three years by the cross-functional GCR program.\\n\\nParticipation in QPR, RCP, and GCR is a condition of ongoing membership of the KPMG network.\\n\\nFurther, in accordance with our system of quality control, we ensure the following processes are performed in order to  monitoraudit response to fraud risks.\\n\\nacceptance and continuance of clients and engagements;\\n\\ninstruction and training:\\n\\naudit process (including supervision and review, response to information arising from within and outside the firm, consultation, timely EQC reviewers and partner rotation);\\n\\ncommunications between predecessor auditor and successor auditor.\\n\\n\\n\\nAudit Quality Performance Reviews (QPRs)\\n\\nThe QPR program assesses engagement level performance and identifies opportunities to improve engagement quality. \\n\\nEach engagement leader is reviewed at least once in a three-year cycle. A risk-based approach is used to select engagements.\\n\\nKPMG AZSA conducts the annual QPR program in accordance with KPMG International QPR instructions.\\n\\nThe reviews are performed at the KPMG AZSA level and are monitored regionally and globally.\\n\\nMember firm Audit QPR reviews are overseen by a senior experienced lead reviewer independent from the member firm.\\n\\n\\n\\n(Reviewer selection, preparation, and process) \\n\\nThere are robust criteria for the selection of reviewers. \\n\\nTraining is provided to review teams and others overseeing the process, with a focus on topics of concern identified by audit oversight regulators and the need to be as rigorous as external reviewers.\\n\\n\\n\\n(Evaluations from Audit QPR)\\n\\nConsistent criteria are used to determine engagement ratings and member firm Audit practice evaluations. Audit engagements selected for review are rated as ‘Satisfactory’, ‘Performance Improvement Needed’ or ‘Unsatisfactory’. \\n\\n\\n\\n(Reporting)\\n\\nFindings from the QPR program are disseminated to member firm professionals through written communications; internal training tools; and periodic partner, manager and staff meetings. These areas are also emphasized in subsequent inspection programs to gauge the extent of continuous improvement.\\n\\nLead audit engagement partners are notified of less-than-satisfactory engagement (defined as ‘Performance Improvement Needed’ or ‘Unsatisfactory’) ratings on their respective cross-border engagements. \\n\\nAdditionally, lead audit engagement partners of parent companies/head offices are notified where a subsidiary/affiliate of their client group is audited by a member firm where significant quality issues have been identified during the QPR.\\n\\n\\n\\nRisk Compliance Program (RCP)\\n\\nKPMG International develops and maintains quality control policies and processes that apply to all member firms. These policies and processes, and their related procedures, include the requirements of ISQC 1. \\n\\nDuring the annual RCP, we perform a robust assessment program consisting of documentation of quality controls and procedures; related compliance testing; and reporting of exceptions, action plans, and conclusions.\\n\\nThe objectives of the RCP are to:\\n\\nmonitor, document, and assess the extent of compliance of KPMG AZSA system of quality control with Global Quality & Risk Management policies and key legal and regulatory requirements relating to the delivery of professional services; \\n\\nprovide the basis for KPMG AZSA to evaluate whether the firm and its personnel comply with relevant professional standards and applicable legal and regulatory requirements.\\n\\nWhere deficiencies are identified, we are required to develop appropriate action plans and monitor the status of each action item.\\n\\n\\n\\nGlobal Compliance Review (GCR) program\\n\\nEach member firm is subject to a GCR conducted by KPMG International’s GCR team, independent of the member firm, at least once in a three-year cycle. \\n\\nThe GCR team performing the reviews is independent of the KPMG member firm and is objective and knowledgeable of Global Quality and Risk Management policies. GCRs assess compliance with selected KPMG International policies and procedures and share best practices among member firms. \\n\\n The GCR provides an independent assessment of:\\n\\na member firm’s commitment to quality and risk management (tone at the top) and the extent to which its overall structure, governance, and financing support and reinforce this commitment;\\n\\na member firm’s compliance with key KPMG policies and procedures; \\n\\nthe robustness with which the member firm performs its own compliance program (RCP).\\n\\nWe develop action plans to respond to all GCR findings and agree these with the GCR team. Our progress on action plans is monitored by the GCR central team. Results are reported to the Global Quality & Risk Management Steering Group (GQ&RMSG), and where necessary to appropriate KPMG International and regional leadership, to help ensure timely remedial actions taken by the member firm.\\n\\n\\n\\nRoot Cause Analysis (RCA)\\n\\nKPMG AZSA performs RCA to identify and address audit quality issues in order to prevent them from recurring and help identify good practices as part of continuous improvement. \\n\\nIt is the responsibility of member firms to perform RCA and thereby identify and subsequently develop appropriate remediation plans for the audit quality issues identified.\\n\\nKPMG AZSA’s Head of Audit is responsible for the development and implementation of action plans as a result of RCA, including identification of solution owners. The Risk Management Partner monitors their implementation.\\n\\n\\n\\nRecommendations for improvements\\n\\nAt a global level, through the GAQSC and the GQ&RMSG, KPMG International reviews the results of the quality monitoring programs, analyzes member firm root causes and action plans, and develops additional global actions as required. \\n\\nTo date, global remediation plans developed by KPMG International have been aimed at changing culture and behavior across the KPMG network and at driving consistent engagement team performance within KPMG member firms. The remediation plans have been implemented through the development of global training, tools, and guidance to drive consistency as well as ensure the fundamentals are right and that best practice is shared across the KPMG network.\\n\\n\\n\\nExternal feedback and dialogue\\n\\nRegulators \\n\\nThe Certified Public Accountants and Auditing Oversight Board (CPAAOB), as a regulator, monitors the quality control reviews performed by the JICPA to ascertain fairness, neutrality, and affectivity of the JICPA. \\n\\nThe CPAAOB reviews and examines reports of quality control reviews by the JICPA and, if deemed necessary, conducts on-site inspections of the JICPA, audit firms, etc.\\n\\nAt an international level, KPMG International has regular two-way communication with the International Forum of Independent Audit Regulators (IFIAR) to discuss audit quality findings and actions taken to address such issues at a network level.\\n\\n\\n\\nClient feedback\\n\\nWe proactively seek feedback from clients to monitor their satisfaction with services delivered. \\n\\nWe endeavor to take this feedback and make dynamic changes at both the engagement level and firm level to meet clients’ needs.\\n\\n\\n\\n23\\n\\n\\n\\nTyp済_cleanコメント集約版131条通知記載事項_Complete_201907w.docx - 2020/03/28\\n\\n\\n\\n© 2020 . All rights reserved.\\n\\n© 2020 . All rights reserved.1\""
      ]
     },
     "execution_count": 12,
     "metadata": {},
     "output_type": "execute_result"
    }
   ],
   "source": [
    "extracted_doctext_modified"
   ]
  },
  {
   "cell_type": "code",
   "execution_count": null,
   "id": "44ad769d-d9d8-48e3-9039-502ca97cbc62",
   "metadata": {},
   "outputs": [],
   "source": []
  },
  {
   "cell_type": "code",
   "execution_count": 19,
   "id": "87adf79c-ac87-4e18-b528-73fff0455e50",
   "metadata": {},
   "outputs": [],
   "source": [
    "import pptx\n",
    "extracted_pptxtext = extract_text_from_filepath(\"DocGCN_Work_Review.pptx\")"
   ]
  },
  {
   "cell_type": "code",
   "execution_count": 20,
   "id": "61122f95-fb38-45b3-93be-e8d0851d6807",
   "metadata": {
    "collapsed": true,
    "jupyter": {
     "outputs_hidden": true
    }
   },
   "outputs": [
    {
     "data": {
      "text/plain": [
       "'ICA : Multimodal  Document Layout  Components Classifier  [ DocGCN ] \\nShashank Sahoo 6 th  July 2023 \\nKPMG UK \\nKPMG Framework Slides v1 \\nFebruary 2022 \\nIntroduction \\n01 \\nIntroduction \\nDigital documents (incl. scanned document images and PDF files) are popular and convenient for storing written textual information, as almost 2.5 trillion documents worldwide are available in the digital format. Recognizing the layout of unstructured digital documents ( pdf ,  png , jpg, tiff etc. ) is crucial when parsing the documents into the structured, machine-readable format for downstream application.  Generally, document layout components comprises of  Text, Title, List, Table, Figure, Question, Answer, Header, Footer etc. Current Document Layout Analysis ( DLA ) algorithms usually rely on visual cues to understand documents while ignoring other information, such as contextual information or the relationships between document layout components, which are vital to boost better layout analysis performance. The DLA task aims at understanding the documents from either  the physical analysis by detecting the document structure and the boundaries of each layout region or the logical analysis by categorizing the detected layout components (segments) into the predefined document element classes, such as Title, Date, Author, and Figure. \\n\\nSample DLA Components  Text Title List Table Figure Question Answer Header Footer Other \\n\\nSource :  AG Keim - Datenanalyse und Visualisierung (uni-konstanz.de)   \\nProposal Goal \\n02 \\nProposal Goal \\nGoal The comprehensive aspect of DLA is generally missed with existing approaches as they ignore to comprehend the visual and logical relationship between components and focus purely on key-value pair relationships only. We have devised a method called  DocGCN  using Graph Convolutional Networks (GCNs) for DLA which incorporates a holistic perspective to achieve better and enhanced representation of all document features. DocGCN  stands for Heterogenous Graph Convolutional Networks for DLA We propose  DocGCN  as an open-source alternative to achieve enhanced feature extraction and representation of document components to perform critical analysis such as identification and classification of components into its constituent elements and provide relation mapping based metadata. Plan The idea is to design, build and deploy a heterogeneous/multimodal deep-learning based model to perform document layout analysis using Graph Convolution Networks on unstructured digital documents. Furthermore, we intend create an  inferencing microservice  with the support of MSP team to deploy the weights from the trained model for inferencing on any sample digital document. Currently, it will be scoped as part of ICA offering for Phase II release. DocGCN  microservice  could also be leveraged by other solution teams at KIT to perform DLA for their respective downstream tasks. \\nDocGCN  :  Solution Components \\n03 \\nSolution Components \\nDoc-GCN presents an effective way to harmonize and integrate heterogeneous aspects for Document Layout Analysis. The proposed Doc-GCN contains graphs covering four different aspects of properties of digital document pages, including syntactic, semantic, density, and appearance/visual information . It used graph as a fundamental data structure to represent the document features for Graph based convolutional neural networks Typically the entire solution can be segregated into the following components as a way forward for implementation: Density-aspect and Appearance-aspect Graph construction  Characteristics such as text density, total characters, text colour, format, font-size etc is considered. Syntactic-aspect and Semantic-aspect Graph construction Characteristics such as parts of speech (Noun, Verb, Adjectives, Adverbs) and self-attention based text embeddings is considered. Relation Prediction Model to classify components \\nSolution Components  [ cntd .] \\nDensity-aspect and Appearance-aspect Graph \\nSyntactic-aspect and Semantic-aspect Graph \\nRelation Prediction Model \\nDetectron2 Module \\nDetectron2 is Facebook AI Research’s (FAIR) next generation library that provides state-of-the-art object detection and  segmentation algorithms. It is the successor of\\xa0 Detectron \\xa0and\\xa0 maskrcnn-benchmark . It is now implemented in  PyTorch .  Detectron2 is flexible and extensible, and able to provide fast training on single or  multiple GPU servers.  Lots of pre-trained models available in Model Zoo to experiment with. Includes new capabilities such as panoptic segmentation,  Densepose , Cascade R-CNN, rotated bounding boxes,  PointRend ,  DeepLab ,  ViTDet , MViTv2 etc. Detectron2 based models can be exported to  TorchScript  format or  Caffe2 format for deployment. It\\xa0 trains much faster  than  predecessor. Its extensible design makes it easy to implement  cutting-edge research projects without having to fork the entire codebase. Outputs  Class Label  Prediction %  Bounding box  Segmented Masks  Object bare skeleton \\nTesseract OCR \\nTesseract \\xa0is an open-source OCR engine developed primarily by HP and later managed by Google that\\xa0recognizes more than  100 languages, along with the support of ideographic and right-to-left languages.\\xa0Also,\\xa0we can train Tesseract to recognize other languages. It contains\\xa0two OCR engines for image processing and character recognition\\xa0– a default LSTM (Long Short Term Memory) OCR engine  and a legacy OCR engine that works by recognizing character patterns. The OCR engine uses the\\xa0 Leptonica library \\xa0to open the images and supports\\xa0various output formats like plain text,  hOCR  (HTML for OCR), PDF, and TSV. First part is to read the image using OpenCV and then pass the  image to\\xa0 image_to_string () or  image_to_data () method of the  pytesseract  class along with the language ( eng ). Operation Modes 0 Legacy engine only.  1 Neural nets LSTM engine only.  2 Legacy + LSTM engines.  3 Default, based on what is available. \\nPretrained  BERT \\nBERT is a transformers model pretrained on a large corpus of English data in a self-supervised fashion.  This means it was pretrained on the raw texts only, with no humans labelling them in any way with an  automatic process to generate inputs and labels from those texts. Masked language  modeling  (MLM):  Taking a sentence, the model randomly masks 15% of the words in the   input then run the entire masked sentence through the model and it  has to predict the masked words.\\xa0 Next sentence prediction (NSP):  The models concatenates two masked sentences as inputs during pretraining.  Sometimes they correspond to sentences that were next to each other in the  original text, sometimes not. The model then has to predict if the two  sentences were following each other or not. This way, the model learns an inner representation of the English language  that can then be used to extract features useful for downstream tasks.  A standard classifier uses the features produced by the BERT model as as inputs. \\nDataset \\nGraph Convolutional Networks - GCN \\nGraphs \\xa0are among the most versatile data structures, thanks to their great expressive power. Used typically to extract and predict information on data lying on graphs, to model complex elements and their relations. Here are just some examples. Traffic patterns forecasting on road networks Inferring missing information in a Knowledge Graph Predicting protein interactions for drug discovery Recommender systems based on social networks data Graph data are non-structured and non-Euclidean \\nGraph Convolutional Networks – GCN (contd.) \\nDocGCN  :  Code Overview \\n04 \\nCode Overview \\nAzure  Devops  : kit-docgcn-layout-segment-classifier - Repos (azure.com) \\nDocGCN  :  Architecture & Pipelines  \\n05 \\nDesign Solution Architecture  \\nTraining Architecture  \\nDocGCN  – Training Pipeline \\n\\nImage Pre-processing and visual features  \\nText Pre-processing and textual features  \\nRelational Scene Graph generation (Global) \\nLayout Gap Distance based weighted GCN \\nParent Child relation hierarchy based GCN \\nDocGCN  Layout Multi-class classifier model \\nRaw Image + Annotations \\nStep 1 \\nStep 2 \\nStep 3 \\nStep 4 \\nStep 5 \\nStep 6 \\nInference Architecture  \\nDocGCN  – Inference Pipeline \\n\\nPyTesseract  OCR to get Text and  Bboxes   \\nImage features extraction \\nText features extraction \\nNode embeddings from GCNs \\nFeature concatenation for Dense layer \\nDocGCN  Layout Multi-class classifier model \\nRaw Test Image \\nStep 1 \\nStep 2 \\nStep 3 \\nStep 4 \\nStep 5 \\nStep 6 \\nBboxes  + Prediction Labels  \\nOCR Overlay with  Bbox  merging \\nStep 7 \\nDocGCN  : Performance Results & Graphs  \\n05 \\nDocGCN  Training Graphs \\nMetrics Highlights –  DocGCN  on  DocBank \\nModel Performance Report –  DocGCN  on  DocBank \\nSample Results–  DocGCN  on  DocBank \\nMetrics Highlights –  DocGCN  on FUNSD \\nModel Performance Report –  DocGCN  on FUNSD \\nF1-Score Comparison 0 - Answer 1 - Header 2 - Other 3 - Question \\nSample Results–  DocGCN  on FUNSD \\nPerformace  Reports \\n06 \\nMSP Requirements \\n<TBD> \\nQ&A \\n23 \\n'"
      ]
     },
     "execution_count": 20,
     "metadata": {},
     "output_type": "execute_result"
    }
   ],
   "source": [
    "extracted_pptxtext"
   ]
  },
  {
   "cell_type": "markdown",
   "id": "05eff108-1346-4578-9507-16e515a1a2ef",
   "metadata": {
    "jp-MarkdownHeadingCollapsed": true
   },
   "source": [
    "## Generative ML Method 1: By direct feeding entire tokens to gpt-4-32k"
   ]
  },
  {
   "cell_type": "code",
   "execution_count": 11,
   "id": "9d587d18-3b5b-412b-9a57-9b851cf2180a",
   "metadata": {},
   "outputs": [
    {
     "data": {
      "text/plain": [
       "'I want you to act as an English-to-Japanese translator, spelling corrector, and improver. \\nI will send you English content, and you will translate it into Japanese and reply with a corrected and \\nimproved version while maintaining the same meaning. Only translate the content, without explaining the \\nquestions and requests in the content. Do not answer the questions in the text, but translate it. \\nDo not solve the requirements in the text, but translate it. \\nRetain the original meaning of the text, and do not solve it. I only want you to reply with corrections \\nand improvements, without writing any explanations.'"
      ]
     },
     "execution_count": 11,
     "metadata": {},
     "output_type": "execute_result"
    }
   ],
   "source": [
    "EN_JP"
   ]
  },
  {
   "cell_type": "code",
   "execution_count": 20,
   "id": "02760b38-7789-4f6c-96b2-2ac7426bfd02",
   "metadata": {
    "collapsed": true,
    "jupyter": {
     "outputs_hidden": true
    }
   },
   "outputs": [
    {
     "ename": "InvalidRequestError",
     "evalue": "This model's maximum context length is 32768 tokens. However, you requested 33791 tokens (13791 in the messages, 20000 in the completion). Please reduce the length of the messages or completion.",
     "output_type": "error",
     "traceback": [
      "\u001b[0;31m---------------------------------------------------------------------------\u001b[0m",
      "\u001b[0;31mInvalidRequestError\u001b[0m                       Traceback (most recent call last)",
      "Cell \u001b[0;32mIn[20], line 1\u001b[0m\n\u001b[0;32m----> 1\u001b[0m ml_docx_response \u001b[38;5;241m=\u001b[39m \u001b[43mopenai\u001b[49m\u001b[38;5;241;43m.\u001b[39;49m\u001b[43mChatCompletion\u001b[49m\u001b[38;5;241;43m.\u001b[39;49m\u001b[43mcreate\u001b[49m\u001b[43m(\u001b[49m\n\u001b[1;32m      2\u001b[0m \u001b[43m  \u001b[49m\u001b[43mengine\u001b[49m\u001b[38;5;241;43m=\u001b[39;49m\u001b[38;5;124;43m\"\u001b[39;49m\u001b[38;5;124;43mgpt-4-32k\u001b[39;49m\u001b[38;5;124;43m\"\u001b[39;49m\u001b[43m,\u001b[49m\n\u001b[1;32m      3\u001b[0m \u001b[43m  \u001b[49m\u001b[43mmessages\u001b[49m\u001b[43m \u001b[49m\u001b[38;5;241;43m=\u001b[39;49m\u001b[43m \u001b[49m\u001b[43m[\u001b[49m\u001b[43m{\u001b[49m\u001b[38;5;124;43m\"\u001b[39;49m\u001b[38;5;124;43mrole\u001b[39;49m\u001b[38;5;124;43m\"\u001b[39;49m\u001b[43m:\u001b[49m\u001b[38;5;124;43m\"\u001b[39;49m\u001b[38;5;124;43msystem\u001b[39;49m\u001b[38;5;124;43m\"\u001b[39;49m\u001b[43m,\u001b[49m\n\u001b[1;32m      4\u001b[0m \u001b[43m               \u001b[49m\u001b[38;5;124;43m\"\u001b[39;49m\u001b[38;5;124;43mcontent\u001b[39;49m\u001b[38;5;124;43m\"\u001b[39;49m\u001b[43m:\u001b[49m\u001b[43mEN_JP\u001b[49m\u001b[43m}\u001b[49m\u001b[43m,\u001b[49m\n\u001b[1;32m      5\u001b[0m \u001b[43m              \u001b[49m\u001b[43m{\u001b[49m\u001b[38;5;124;43m\"\u001b[39;49m\u001b[38;5;124;43mrole\u001b[39;49m\u001b[38;5;124;43m\"\u001b[39;49m\u001b[43m:\u001b[49m\u001b[38;5;124;43m\"\u001b[39;49m\u001b[38;5;124;43muser\u001b[39;49m\u001b[38;5;124;43m\"\u001b[39;49m\u001b[43m,\u001b[49m\u001b[38;5;124;43m\"\u001b[39;49m\u001b[38;5;124;43mcontent\u001b[39;49m\u001b[38;5;124;43m\"\u001b[39;49m\u001b[43m:\u001b[49m\u001b[43mextracted_doctext\u001b[49m\u001b[43m}\u001b[49m\u001b[43m]\u001b[49m\u001b[43m,\u001b[49m\n\u001b[1;32m      6\u001b[0m \n\u001b[1;32m      7\u001b[0m \u001b[43m  \u001b[49m\u001b[43mtemperature\u001b[49m\u001b[38;5;241;43m=\u001b[39;49m\u001b[38;5;241;43m0.0\u001b[39;49m\u001b[43m,\u001b[49m\n\u001b[1;32m      8\u001b[0m \u001b[43m  \u001b[49m\u001b[43mmax_tokens\u001b[49m\u001b[38;5;241;43m=\u001b[39;49m\u001b[38;5;241;43m20000\u001b[39;49m\u001b[43m,\u001b[49m\n\u001b[1;32m      9\u001b[0m \u001b[43m  \u001b[49m\u001b[43mtop_p\u001b[49m\u001b[38;5;241;43m=\u001b[39;49m\u001b[38;5;241;43m0.95\u001b[39;49m\u001b[43m,\u001b[49m\n\u001b[1;32m     10\u001b[0m \u001b[43m  \u001b[49m\u001b[43mfrequency_penalty\u001b[49m\u001b[38;5;241;43m=\u001b[39;49m\u001b[38;5;241;43m0\u001b[39;49m\u001b[43m,\u001b[49m\n\u001b[1;32m     11\u001b[0m \u001b[43m  \u001b[49m\u001b[43mpresence_penalty\u001b[49m\u001b[38;5;241;43m=\u001b[39;49m\u001b[38;5;241;43m0\u001b[39;49m\u001b[43m,\u001b[49m\n\u001b[1;32m     12\u001b[0m \u001b[43m  \u001b[49m\u001b[43mstop\u001b[49m\u001b[38;5;241;43m=\u001b[39;49m\u001b[38;5;28;43;01mNone\u001b[39;49;00m\u001b[43m)\u001b[49m\n",
      "File \u001b[0;32m~/miniconda3/envs/openai-doctrans/lib/python3.9/site-packages/openai/api_resources/chat_completion.py:25\u001b[0m, in \u001b[0;36mChatCompletion.create\u001b[0;34m(cls, *args, **kwargs)\u001b[0m\n\u001b[1;32m     23\u001b[0m \u001b[38;5;28;01mwhile\u001b[39;00m \u001b[38;5;28;01mTrue\u001b[39;00m:\n\u001b[1;32m     24\u001b[0m     \u001b[38;5;28;01mtry\u001b[39;00m:\n\u001b[0;32m---> 25\u001b[0m         \u001b[38;5;28;01mreturn\u001b[39;00m \u001b[38;5;28;43msuper\u001b[39;49m\u001b[43m(\u001b[49m\u001b[43m)\u001b[49m\u001b[38;5;241;43m.\u001b[39;49m\u001b[43mcreate\u001b[49m\u001b[43m(\u001b[49m\u001b[38;5;241;43m*\u001b[39;49m\u001b[43margs\u001b[49m\u001b[43m,\u001b[49m\u001b[43m \u001b[49m\u001b[38;5;241;43m*\u001b[39;49m\u001b[38;5;241;43m*\u001b[39;49m\u001b[43mkwargs\u001b[49m\u001b[43m)\u001b[49m\n\u001b[1;32m     26\u001b[0m     \u001b[38;5;28;01mexcept\u001b[39;00m TryAgain \u001b[38;5;28;01mas\u001b[39;00m e:\n\u001b[1;32m     27\u001b[0m         \u001b[38;5;28;01mif\u001b[39;00m timeout \u001b[38;5;129;01mis\u001b[39;00m \u001b[38;5;129;01mnot\u001b[39;00m \u001b[38;5;28;01mNone\u001b[39;00m \u001b[38;5;129;01mand\u001b[39;00m time\u001b[38;5;241m.\u001b[39mtime() \u001b[38;5;241m>\u001b[39m start \u001b[38;5;241m+\u001b[39m timeout:\n",
      "File \u001b[0;32m~/miniconda3/envs/openai-doctrans/lib/python3.9/site-packages/openai/api_resources/abstract/engine_api_resource.py:153\u001b[0m, in \u001b[0;36mEngineAPIResource.create\u001b[0;34m(cls, api_key, api_base, api_type, request_id, api_version, organization, **params)\u001b[0m\n\u001b[1;32m    127\u001b[0m \u001b[38;5;129m@classmethod\u001b[39m\n\u001b[1;32m    128\u001b[0m \u001b[38;5;28;01mdef\u001b[39;00m \u001b[38;5;21mcreate\u001b[39m(\n\u001b[1;32m    129\u001b[0m     \u001b[38;5;28mcls\u001b[39m,\n\u001b[0;32m   (...)\u001b[0m\n\u001b[1;32m    136\u001b[0m     \u001b[38;5;241m*\u001b[39m\u001b[38;5;241m*\u001b[39mparams,\n\u001b[1;32m    137\u001b[0m ):\n\u001b[1;32m    138\u001b[0m     (\n\u001b[1;32m    139\u001b[0m         deployment_id,\n\u001b[1;32m    140\u001b[0m         engine,\n\u001b[0;32m   (...)\u001b[0m\n\u001b[1;32m    150\u001b[0m         api_key, api_base, api_type, api_version, organization, \u001b[38;5;241m*\u001b[39m\u001b[38;5;241m*\u001b[39mparams\n\u001b[1;32m    151\u001b[0m     )\n\u001b[0;32m--> 153\u001b[0m     response, _, api_key \u001b[38;5;241m=\u001b[39m \u001b[43mrequestor\u001b[49m\u001b[38;5;241;43m.\u001b[39;49m\u001b[43mrequest\u001b[49m\u001b[43m(\u001b[49m\n\u001b[1;32m    154\u001b[0m \u001b[43m        \u001b[49m\u001b[38;5;124;43m\"\u001b[39;49m\u001b[38;5;124;43mpost\u001b[39;49m\u001b[38;5;124;43m\"\u001b[39;49m\u001b[43m,\u001b[49m\n\u001b[1;32m    155\u001b[0m \u001b[43m        \u001b[49m\u001b[43murl\u001b[49m\u001b[43m,\u001b[49m\n\u001b[1;32m    156\u001b[0m \u001b[43m        \u001b[49m\u001b[43mparams\u001b[49m\u001b[38;5;241;43m=\u001b[39;49m\u001b[43mparams\u001b[49m\u001b[43m,\u001b[49m\n\u001b[1;32m    157\u001b[0m \u001b[43m        \u001b[49m\u001b[43mheaders\u001b[49m\u001b[38;5;241;43m=\u001b[39;49m\u001b[43mheaders\u001b[49m\u001b[43m,\u001b[49m\n\u001b[1;32m    158\u001b[0m \u001b[43m        \u001b[49m\u001b[43mstream\u001b[49m\u001b[38;5;241;43m=\u001b[39;49m\u001b[43mstream\u001b[49m\u001b[43m,\u001b[49m\n\u001b[1;32m    159\u001b[0m \u001b[43m        \u001b[49m\u001b[43mrequest_id\u001b[49m\u001b[38;5;241;43m=\u001b[39;49m\u001b[43mrequest_id\u001b[49m\u001b[43m,\u001b[49m\n\u001b[1;32m    160\u001b[0m \u001b[43m        \u001b[49m\u001b[43mrequest_timeout\u001b[49m\u001b[38;5;241;43m=\u001b[39;49m\u001b[43mrequest_timeout\u001b[49m\u001b[43m,\u001b[49m\n\u001b[1;32m    161\u001b[0m \u001b[43m    \u001b[49m\u001b[43m)\u001b[49m\n\u001b[1;32m    163\u001b[0m     \u001b[38;5;28;01mif\u001b[39;00m stream:\n\u001b[1;32m    164\u001b[0m         \u001b[38;5;66;03m# must be an iterator\u001b[39;00m\n\u001b[1;32m    165\u001b[0m         \u001b[38;5;28;01massert\u001b[39;00m \u001b[38;5;129;01mnot\u001b[39;00m \u001b[38;5;28misinstance\u001b[39m(response, OpenAIResponse)\n",
      "File \u001b[0;32m~/miniconda3/envs/openai-doctrans/lib/python3.9/site-packages/openai/api_requestor.py:298\u001b[0m, in \u001b[0;36mAPIRequestor.request\u001b[0;34m(self, method, url, params, headers, files, stream, request_id, request_timeout)\u001b[0m\n\u001b[1;32m    277\u001b[0m \u001b[38;5;28;01mdef\u001b[39;00m \u001b[38;5;21mrequest\u001b[39m(\n\u001b[1;32m    278\u001b[0m     \u001b[38;5;28mself\u001b[39m,\n\u001b[1;32m    279\u001b[0m     method,\n\u001b[0;32m   (...)\u001b[0m\n\u001b[1;32m    286\u001b[0m     request_timeout: Optional[Union[\u001b[38;5;28mfloat\u001b[39m, Tuple[\u001b[38;5;28mfloat\u001b[39m, \u001b[38;5;28mfloat\u001b[39m]]] \u001b[38;5;241m=\u001b[39m \u001b[38;5;28;01mNone\u001b[39;00m,\n\u001b[1;32m    287\u001b[0m ) \u001b[38;5;241m-\u001b[39m\u001b[38;5;241m>\u001b[39m Tuple[Union[OpenAIResponse, Iterator[OpenAIResponse]], \u001b[38;5;28mbool\u001b[39m, \u001b[38;5;28mstr\u001b[39m]:\n\u001b[1;32m    288\u001b[0m     result \u001b[38;5;241m=\u001b[39m \u001b[38;5;28mself\u001b[39m\u001b[38;5;241m.\u001b[39mrequest_raw(\n\u001b[1;32m    289\u001b[0m         method\u001b[38;5;241m.\u001b[39mlower(),\n\u001b[1;32m    290\u001b[0m         url,\n\u001b[0;32m   (...)\u001b[0m\n\u001b[1;32m    296\u001b[0m         request_timeout\u001b[38;5;241m=\u001b[39mrequest_timeout,\n\u001b[1;32m    297\u001b[0m     )\n\u001b[0;32m--> 298\u001b[0m     resp, got_stream \u001b[38;5;241m=\u001b[39m \u001b[38;5;28;43mself\u001b[39;49m\u001b[38;5;241;43m.\u001b[39;49m\u001b[43m_interpret_response\u001b[49m\u001b[43m(\u001b[49m\u001b[43mresult\u001b[49m\u001b[43m,\u001b[49m\u001b[43m \u001b[49m\u001b[43mstream\u001b[49m\u001b[43m)\u001b[49m\n\u001b[1;32m    299\u001b[0m     \u001b[38;5;28;01mreturn\u001b[39;00m resp, got_stream, \u001b[38;5;28mself\u001b[39m\u001b[38;5;241m.\u001b[39mapi_key\n",
      "File \u001b[0;32m~/miniconda3/envs/openai-doctrans/lib/python3.9/site-packages/openai/api_requestor.py:700\u001b[0m, in \u001b[0;36mAPIRequestor._interpret_response\u001b[0;34m(self, result, stream)\u001b[0m\n\u001b[1;32m    692\u001b[0m     \u001b[38;5;28;01mreturn\u001b[39;00m (\n\u001b[1;32m    693\u001b[0m         \u001b[38;5;28mself\u001b[39m\u001b[38;5;241m.\u001b[39m_interpret_response_line(\n\u001b[1;32m    694\u001b[0m             line, result\u001b[38;5;241m.\u001b[39mstatus_code, result\u001b[38;5;241m.\u001b[39mheaders, stream\u001b[38;5;241m=\u001b[39m\u001b[38;5;28;01mTrue\u001b[39;00m\n\u001b[1;32m    695\u001b[0m         )\n\u001b[1;32m    696\u001b[0m         \u001b[38;5;28;01mfor\u001b[39;00m line \u001b[38;5;129;01min\u001b[39;00m parse_stream(result\u001b[38;5;241m.\u001b[39miter_lines())\n\u001b[1;32m    697\u001b[0m     ), \u001b[38;5;28;01mTrue\u001b[39;00m\n\u001b[1;32m    698\u001b[0m \u001b[38;5;28;01melse\u001b[39;00m:\n\u001b[1;32m    699\u001b[0m     \u001b[38;5;28;01mreturn\u001b[39;00m (\n\u001b[0;32m--> 700\u001b[0m         \u001b[38;5;28;43mself\u001b[39;49m\u001b[38;5;241;43m.\u001b[39;49m\u001b[43m_interpret_response_line\u001b[49m\u001b[43m(\u001b[49m\n\u001b[1;32m    701\u001b[0m \u001b[43m            \u001b[49m\u001b[43mresult\u001b[49m\u001b[38;5;241;43m.\u001b[39;49m\u001b[43mcontent\u001b[49m\u001b[38;5;241;43m.\u001b[39;49m\u001b[43mdecode\u001b[49m\u001b[43m(\u001b[49m\u001b[38;5;124;43m\"\u001b[39;49m\u001b[38;5;124;43mutf-8\u001b[39;49m\u001b[38;5;124;43m\"\u001b[39;49m\u001b[43m)\u001b[49m\u001b[43m,\u001b[49m\n\u001b[1;32m    702\u001b[0m \u001b[43m            \u001b[49m\u001b[43mresult\u001b[49m\u001b[38;5;241;43m.\u001b[39;49m\u001b[43mstatus_code\u001b[49m\u001b[43m,\u001b[49m\n\u001b[1;32m    703\u001b[0m \u001b[43m            \u001b[49m\u001b[43mresult\u001b[49m\u001b[38;5;241;43m.\u001b[39;49m\u001b[43mheaders\u001b[49m\u001b[43m,\u001b[49m\n\u001b[1;32m    704\u001b[0m \u001b[43m            \u001b[49m\u001b[43mstream\u001b[49m\u001b[38;5;241;43m=\u001b[39;49m\u001b[38;5;28;43;01mFalse\u001b[39;49;00m\u001b[43m,\u001b[49m\n\u001b[1;32m    705\u001b[0m \u001b[43m        \u001b[49m\u001b[43m)\u001b[49m,\n\u001b[1;32m    706\u001b[0m         \u001b[38;5;28;01mFalse\u001b[39;00m,\n\u001b[1;32m    707\u001b[0m     )\n",
      "File \u001b[0;32m~/miniconda3/envs/openai-doctrans/lib/python3.9/site-packages/openai/api_requestor.py:763\u001b[0m, in \u001b[0;36mAPIRequestor._interpret_response_line\u001b[0;34m(self, rbody, rcode, rheaders, stream)\u001b[0m\n\u001b[1;32m    761\u001b[0m stream_error \u001b[38;5;241m=\u001b[39m stream \u001b[38;5;129;01mand\u001b[39;00m \u001b[38;5;124m\"\u001b[39m\u001b[38;5;124merror\u001b[39m\u001b[38;5;124m\"\u001b[39m \u001b[38;5;129;01min\u001b[39;00m resp\u001b[38;5;241m.\u001b[39mdata\n\u001b[1;32m    762\u001b[0m \u001b[38;5;28;01mif\u001b[39;00m stream_error \u001b[38;5;129;01mor\u001b[39;00m \u001b[38;5;129;01mnot\u001b[39;00m \u001b[38;5;241m200\u001b[39m \u001b[38;5;241m<\u001b[39m\u001b[38;5;241m=\u001b[39m rcode \u001b[38;5;241m<\u001b[39m \u001b[38;5;241m300\u001b[39m:\n\u001b[0;32m--> 763\u001b[0m     \u001b[38;5;28;01mraise\u001b[39;00m \u001b[38;5;28mself\u001b[39m\u001b[38;5;241m.\u001b[39mhandle_error_response(\n\u001b[1;32m    764\u001b[0m         rbody, rcode, resp\u001b[38;5;241m.\u001b[39mdata, rheaders, stream_error\u001b[38;5;241m=\u001b[39mstream_error\n\u001b[1;32m    765\u001b[0m     )\n\u001b[1;32m    766\u001b[0m \u001b[38;5;28;01mreturn\u001b[39;00m resp\n",
      "\u001b[0;31mInvalidRequestError\u001b[0m: This model's maximum context length is 32768 tokens. However, you requested 33791 tokens (13791 in the messages, 20000 in the completion). Please reduce the length of the messages or completion."
     ]
    }
   ],
   "source": [
    "ml_docx_response = openai.ChatCompletion.create(\n",
    "  engine=\"gpt-4-32k\",\n",
    "  messages = [{\"role\":\"system\",\n",
    "               \"content\":EN_JP},\n",
    "              {\"role\":\"user\",\"content\":extracted_doctext}],\n",
    "\n",
    "  temperature=0.0,\n",
    "  max_tokens=20000,\n",
    "  top_p=0.95,\n",
    "  frequency_penalty=0,\n",
    "  presence_penalty=0,\n",
    "  stop=None)"
   ]
  },
  {
   "cell_type": "code",
   "execution_count": 15,
   "id": "52371661-8271-4659-b73b-1104934cc816",
   "metadata": {
    "collapsed": true,
    "jupyter": {
     "outputs_hidden": true
    }
   },
   "outputs": [
    {
     "ename": "Timeout",
     "evalue": "Request timed out: HTTPSConnectionPool(host='icaopenaidev.openai.azure.com', port=443): Read timed out. (read timeout=600)",
     "output_type": "error",
     "traceback": [
      "\u001b[0;31m---------------------------------------------------------------------------\u001b[0m",
      "\u001b[0;31mtimeout\u001b[0m                                   Traceback (most recent call last)",
      "File \u001b[0;32m~/miniconda3/envs/openai-doctrans/lib/python3.9/site-packages/urllib3/connectionpool.py:536\u001b[0m, in \u001b[0;36mHTTPConnectionPool._make_request\u001b[0;34m(self, conn, method, url, body, headers, retries, timeout, chunked, response_conn, preload_content, decode_content, enforce_content_length)\u001b[0m\n\u001b[1;32m    535\u001b[0m \u001b[38;5;28;01mtry\u001b[39;00m:\n\u001b[0;32m--> 536\u001b[0m     response \u001b[38;5;241m=\u001b[39m \u001b[43mconn\u001b[49m\u001b[38;5;241;43m.\u001b[39;49m\u001b[43mgetresponse\u001b[49m\u001b[43m(\u001b[49m\u001b[43m)\u001b[49m\n\u001b[1;32m    537\u001b[0m \u001b[38;5;28;01mexcept\u001b[39;00m (BaseSSLError, \u001b[38;5;167;01mOSError\u001b[39;00m) \u001b[38;5;28;01mas\u001b[39;00m e:\n",
      "File \u001b[0;32m~/miniconda3/envs/openai-doctrans/lib/python3.9/site-packages/urllib3/connection.py:461\u001b[0m, in \u001b[0;36mHTTPConnection.getresponse\u001b[0;34m(self)\u001b[0m\n\u001b[1;32m    460\u001b[0m \u001b[38;5;66;03m# Get the response from http.client.HTTPConnection\u001b[39;00m\n\u001b[0;32m--> 461\u001b[0m httplib_response \u001b[38;5;241m=\u001b[39m \u001b[38;5;28;43msuper\u001b[39;49m\u001b[43m(\u001b[49m\u001b[43m)\u001b[49m\u001b[38;5;241;43m.\u001b[39;49m\u001b[43mgetresponse\u001b[49m\u001b[43m(\u001b[49m\u001b[43m)\u001b[49m\n\u001b[1;32m    463\u001b[0m \u001b[38;5;28;01mtry\u001b[39;00m:\n",
      "File \u001b[0;32m~/miniconda3/envs/openai-doctrans/lib/python3.9/http/client.py:1377\u001b[0m, in \u001b[0;36mHTTPConnection.getresponse\u001b[0;34m(self)\u001b[0m\n\u001b[1;32m   1376\u001b[0m \u001b[38;5;28;01mtry\u001b[39;00m:\n\u001b[0;32m-> 1377\u001b[0m     \u001b[43mresponse\u001b[49m\u001b[38;5;241;43m.\u001b[39;49m\u001b[43mbegin\u001b[49m\u001b[43m(\u001b[49m\u001b[43m)\u001b[49m\n\u001b[1;32m   1378\u001b[0m \u001b[38;5;28;01mexcept\u001b[39;00m \u001b[38;5;167;01mConnectionError\u001b[39;00m:\n",
      "File \u001b[0;32m~/miniconda3/envs/openai-doctrans/lib/python3.9/http/client.py:320\u001b[0m, in \u001b[0;36mHTTPResponse.begin\u001b[0;34m(self)\u001b[0m\n\u001b[1;32m    319\u001b[0m \u001b[38;5;28;01mwhile\u001b[39;00m \u001b[38;5;28;01mTrue\u001b[39;00m:\n\u001b[0;32m--> 320\u001b[0m     version, status, reason \u001b[38;5;241m=\u001b[39m \u001b[38;5;28;43mself\u001b[39;49m\u001b[38;5;241;43m.\u001b[39;49m\u001b[43m_read_status\u001b[49m\u001b[43m(\u001b[49m\u001b[43m)\u001b[49m\n\u001b[1;32m    321\u001b[0m     \u001b[38;5;28;01mif\u001b[39;00m status \u001b[38;5;241m!=\u001b[39m CONTINUE:\n",
      "File \u001b[0;32m~/miniconda3/envs/openai-doctrans/lib/python3.9/http/client.py:281\u001b[0m, in \u001b[0;36mHTTPResponse._read_status\u001b[0;34m(self)\u001b[0m\n\u001b[1;32m    280\u001b[0m \u001b[38;5;28;01mdef\u001b[39;00m \u001b[38;5;21m_read_status\u001b[39m(\u001b[38;5;28mself\u001b[39m):\n\u001b[0;32m--> 281\u001b[0m     line \u001b[38;5;241m=\u001b[39m \u001b[38;5;28mstr\u001b[39m(\u001b[38;5;28;43mself\u001b[39;49m\u001b[38;5;241;43m.\u001b[39;49m\u001b[43mfp\u001b[49m\u001b[38;5;241;43m.\u001b[39;49m\u001b[43mreadline\u001b[49m\u001b[43m(\u001b[49m\u001b[43m_MAXLINE\u001b[49m\u001b[43m \u001b[49m\u001b[38;5;241;43m+\u001b[39;49m\u001b[43m \u001b[49m\u001b[38;5;241;43m1\u001b[39;49m\u001b[43m)\u001b[49m, \u001b[38;5;124m\"\u001b[39m\u001b[38;5;124miso-8859-1\u001b[39m\u001b[38;5;124m\"\u001b[39m)\n\u001b[1;32m    282\u001b[0m     \u001b[38;5;28;01mif\u001b[39;00m \u001b[38;5;28mlen\u001b[39m(line) \u001b[38;5;241m>\u001b[39m _MAXLINE:\n",
      "File \u001b[0;32m~/miniconda3/envs/openai-doctrans/lib/python3.9/socket.py:704\u001b[0m, in \u001b[0;36mSocketIO.readinto\u001b[0;34m(self, b)\u001b[0m\n\u001b[1;32m    703\u001b[0m \u001b[38;5;28;01mtry\u001b[39;00m:\n\u001b[0;32m--> 704\u001b[0m     \u001b[38;5;28;01mreturn\u001b[39;00m \u001b[38;5;28;43mself\u001b[39;49m\u001b[38;5;241;43m.\u001b[39;49m\u001b[43m_sock\u001b[49m\u001b[38;5;241;43m.\u001b[39;49m\u001b[43mrecv_into\u001b[49m\u001b[43m(\u001b[49m\u001b[43mb\u001b[49m\u001b[43m)\u001b[49m\n\u001b[1;32m    705\u001b[0m \u001b[38;5;28;01mexcept\u001b[39;00m timeout:\n",
      "File \u001b[0;32m~/miniconda3/envs/openai-doctrans/lib/python3.9/ssl.py:1242\u001b[0m, in \u001b[0;36mSSLSocket.recv_into\u001b[0;34m(self, buffer, nbytes, flags)\u001b[0m\n\u001b[1;32m   1239\u001b[0m         \u001b[38;5;28;01mraise\u001b[39;00m \u001b[38;5;167;01mValueError\u001b[39;00m(\n\u001b[1;32m   1240\u001b[0m           \u001b[38;5;124m\"\u001b[39m\u001b[38;5;124mnon-zero flags not allowed in calls to recv_into() on \u001b[39m\u001b[38;5;132;01m%s\u001b[39;00m\u001b[38;5;124m\"\u001b[39m \u001b[38;5;241m%\u001b[39m\n\u001b[1;32m   1241\u001b[0m           \u001b[38;5;28mself\u001b[39m\u001b[38;5;241m.\u001b[39m\u001b[38;5;18m__class__\u001b[39m)\n\u001b[0;32m-> 1242\u001b[0m     \u001b[38;5;28;01mreturn\u001b[39;00m \u001b[38;5;28;43mself\u001b[39;49m\u001b[38;5;241;43m.\u001b[39;49m\u001b[43mread\u001b[49m\u001b[43m(\u001b[49m\u001b[43mnbytes\u001b[49m\u001b[43m,\u001b[49m\u001b[43m \u001b[49m\u001b[43mbuffer\u001b[49m\u001b[43m)\u001b[49m\n\u001b[1;32m   1243\u001b[0m \u001b[38;5;28;01melse\u001b[39;00m:\n",
      "File \u001b[0;32m~/miniconda3/envs/openai-doctrans/lib/python3.9/ssl.py:1100\u001b[0m, in \u001b[0;36mSSLSocket.read\u001b[0;34m(self, len, buffer)\u001b[0m\n\u001b[1;32m   1099\u001b[0m \u001b[38;5;28;01mif\u001b[39;00m buffer \u001b[38;5;129;01mis\u001b[39;00m \u001b[38;5;129;01mnot\u001b[39;00m \u001b[38;5;28;01mNone\u001b[39;00m:\n\u001b[0;32m-> 1100\u001b[0m     \u001b[38;5;28;01mreturn\u001b[39;00m \u001b[38;5;28;43mself\u001b[39;49m\u001b[38;5;241;43m.\u001b[39;49m\u001b[43m_sslobj\u001b[49m\u001b[38;5;241;43m.\u001b[39;49m\u001b[43mread\u001b[49m\u001b[43m(\u001b[49m\u001b[38;5;28;43mlen\u001b[39;49m\u001b[43m,\u001b[49m\u001b[43m \u001b[49m\u001b[43mbuffer\u001b[49m\u001b[43m)\u001b[49m\n\u001b[1;32m   1101\u001b[0m \u001b[38;5;28;01melse\u001b[39;00m:\n",
      "\u001b[0;31mtimeout\u001b[0m: The read operation timed out",
      "\nThe above exception was the direct cause of the following exception:\n",
      "\u001b[0;31mReadTimeoutError\u001b[0m                          Traceback (most recent call last)",
      "File \u001b[0;32m~/miniconda3/envs/openai-doctrans/lib/python3.9/site-packages/requests/adapters.py:486\u001b[0m, in \u001b[0;36mHTTPAdapter.send\u001b[0;34m(self, request, stream, timeout, verify, cert, proxies)\u001b[0m\n\u001b[1;32m    485\u001b[0m \u001b[38;5;28;01mtry\u001b[39;00m:\n\u001b[0;32m--> 486\u001b[0m     resp \u001b[38;5;241m=\u001b[39m \u001b[43mconn\u001b[49m\u001b[38;5;241;43m.\u001b[39;49m\u001b[43murlopen\u001b[49m\u001b[43m(\u001b[49m\n\u001b[1;32m    487\u001b[0m \u001b[43m        \u001b[49m\u001b[43mmethod\u001b[49m\u001b[38;5;241;43m=\u001b[39;49m\u001b[43mrequest\u001b[49m\u001b[38;5;241;43m.\u001b[39;49m\u001b[43mmethod\u001b[49m\u001b[43m,\u001b[49m\n\u001b[1;32m    488\u001b[0m \u001b[43m        \u001b[49m\u001b[43murl\u001b[49m\u001b[38;5;241;43m=\u001b[39;49m\u001b[43murl\u001b[49m\u001b[43m,\u001b[49m\n\u001b[1;32m    489\u001b[0m \u001b[43m        \u001b[49m\u001b[43mbody\u001b[49m\u001b[38;5;241;43m=\u001b[39;49m\u001b[43mrequest\u001b[49m\u001b[38;5;241;43m.\u001b[39;49m\u001b[43mbody\u001b[49m\u001b[43m,\u001b[49m\n\u001b[1;32m    490\u001b[0m \u001b[43m        \u001b[49m\u001b[43mheaders\u001b[49m\u001b[38;5;241;43m=\u001b[39;49m\u001b[43mrequest\u001b[49m\u001b[38;5;241;43m.\u001b[39;49m\u001b[43mheaders\u001b[49m\u001b[43m,\u001b[49m\n\u001b[1;32m    491\u001b[0m \u001b[43m        \u001b[49m\u001b[43mredirect\u001b[49m\u001b[38;5;241;43m=\u001b[39;49m\u001b[38;5;28;43;01mFalse\u001b[39;49;00m\u001b[43m,\u001b[49m\n\u001b[1;32m    492\u001b[0m \u001b[43m        \u001b[49m\u001b[43massert_same_host\u001b[49m\u001b[38;5;241;43m=\u001b[39;49m\u001b[38;5;28;43;01mFalse\u001b[39;49;00m\u001b[43m,\u001b[49m\n\u001b[1;32m    493\u001b[0m \u001b[43m        \u001b[49m\u001b[43mpreload_content\u001b[49m\u001b[38;5;241;43m=\u001b[39;49m\u001b[38;5;28;43;01mFalse\u001b[39;49;00m\u001b[43m,\u001b[49m\n\u001b[1;32m    494\u001b[0m \u001b[43m        \u001b[49m\u001b[43mdecode_content\u001b[49m\u001b[38;5;241;43m=\u001b[39;49m\u001b[38;5;28;43;01mFalse\u001b[39;49;00m\u001b[43m,\u001b[49m\n\u001b[1;32m    495\u001b[0m \u001b[43m        \u001b[49m\u001b[43mretries\u001b[49m\u001b[38;5;241;43m=\u001b[39;49m\u001b[38;5;28;43mself\u001b[39;49m\u001b[38;5;241;43m.\u001b[39;49m\u001b[43mmax_retries\u001b[49m\u001b[43m,\u001b[49m\n\u001b[1;32m    496\u001b[0m \u001b[43m        \u001b[49m\u001b[43mtimeout\u001b[49m\u001b[38;5;241;43m=\u001b[39;49m\u001b[43mtimeout\u001b[49m\u001b[43m,\u001b[49m\n\u001b[1;32m    497\u001b[0m \u001b[43m        \u001b[49m\u001b[43mchunked\u001b[49m\u001b[38;5;241;43m=\u001b[39;49m\u001b[43mchunked\u001b[49m\u001b[43m,\u001b[49m\n\u001b[1;32m    498\u001b[0m \u001b[43m    \u001b[49m\u001b[43m)\u001b[49m\n\u001b[1;32m    500\u001b[0m \u001b[38;5;28;01mexcept\u001b[39;00m (ProtocolError, \u001b[38;5;167;01mOSError\u001b[39;00m) \u001b[38;5;28;01mas\u001b[39;00m err:\n",
      "File \u001b[0;32m~/miniconda3/envs/openai-doctrans/lib/python3.9/site-packages/urllib3/connectionpool.py:844\u001b[0m, in \u001b[0;36mHTTPConnectionPool.urlopen\u001b[0;34m(self, method, url, body, headers, retries, redirect, assert_same_host, timeout, pool_timeout, release_conn, chunked, body_pos, preload_content, decode_content, **response_kw)\u001b[0m\n\u001b[1;32m    842\u001b[0m     new_e \u001b[38;5;241m=\u001b[39m ProtocolError(\u001b[38;5;124m\"\u001b[39m\u001b[38;5;124mConnection aborted.\u001b[39m\u001b[38;5;124m\"\u001b[39m, new_e)\n\u001b[0;32m--> 844\u001b[0m retries \u001b[38;5;241m=\u001b[39m \u001b[43mretries\u001b[49m\u001b[38;5;241;43m.\u001b[39;49m\u001b[43mincrement\u001b[49m\u001b[43m(\u001b[49m\n\u001b[1;32m    845\u001b[0m \u001b[43m    \u001b[49m\u001b[43mmethod\u001b[49m\u001b[43m,\u001b[49m\u001b[43m \u001b[49m\u001b[43murl\u001b[49m\u001b[43m,\u001b[49m\u001b[43m \u001b[49m\u001b[43merror\u001b[49m\u001b[38;5;241;43m=\u001b[39;49m\u001b[43mnew_e\u001b[49m\u001b[43m,\u001b[49m\u001b[43m \u001b[49m\u001b[43m_pool\u001b[49m\u001b[38;5;241;43m=\u001b[39;49m\u001b[38;5;28;43mself\u001b[39;49m\u001b[43m,\u001b[49m\u001b[43m \u001b[49m\u001b[43m_stacktrace\u001b[49m\u001b[38;5;241;43m=\u001b[39;49m\u001b[43msys\u001b[49m\u001b[38;5;241;43m.\u001b[39;49m\u001b[43mexc_info\u001b[49m\u001b[43m(\u001b[49m\u001b[43m)\u001b[49m\u001b[43m[\u001b[49m\u001b[38;5;241;43m2\u001b[39;49m\u001b[43m]\u001b[49m\n\u001b[1;32m    846\u001b[0m \u001b[43m\u001b[49m\u001b[43m)\u001b[49m\n\u001b[1;32m    847\u001b[0m retries\u001b[38;5;241m.\u001b[39msleep()\n",
      "File \u001b[0;32m~/miniconda3/envs/openai-doctrans/lib/python3.9/site-packages/urllib3/util/retry.py:470\u001b[0m, in \u001b[0;36mRetry.increment\u001b[0;34m(self, method, url, response, error, _pool, _stacktrace)\u001b[0m\n\u001b[1;32m    469\u001b[0m \u001b[38;5;28;01mif\u001b[39;00m read \u001b[38;5;129;01mis\u001b[39;00m \u001b[38;5;28;01mFalse\u001b[39;00m \u001b[38;5;129;01mor\u001b[39;00m method \u001b[38;5;129;01mis\u001b[39;00m \u001b[38;5;28;01mNone\u001b[39;00m \u001b[38;5;129;01mor\u001b[39;00m \u001b[38;5;129;01mnot\u001b[39;00m \u001b[38;5;28mself\u001b[39m\u001b[38;5;241m.\u001b[39m_is_method_retryable(method):\n\u001b[0;32m--> 470\u001b[0m     \u001b[38;5;28;01mraise\u001b[39;00m \u001b[43mreraise\u001b[49m\u001b[43m(\u001b[49m\u001b[38;5;28;43mtype\u001b[39;49m\u001b[43m(\u001b[49m\u001b[43merror\u001b[49m\u001b[43m)\u001b[49m\u001b[43m,\u001b[49m\u001b[43m \u001b[49m\u001b[43merror\u001b[49m\u001b[43m,\u001b[49m\u001b[43m \u001b[49m\u001b[43m_stacktrace\u001b[49m\u001b[43m)\u001b[49m\n\u001b[1;32m    471\u001b[0m \u001b[38;5;28;01melif\u001b[39;00m read \u001b[38;5;129;01mis\u001b[39;00m \u001b[38;5;129;01mnot\u001b[39;00m \u001b[38;5;28;01mNone\u001b[39;00m:\n",
      "File \u001b[0;32m~/miniconda3/envs/openai-doctrans/lib/python3.9/site-packages/urllib3/util/util.py:39\u001b[0m, in \u001b[0;36mreraise\u001b[0;34m(tp, value, tb)\u001b[0m\n\u001b[1;32m     38\u001b[0m         \u001b[38;5;28;01mraise\u001b[39;00m value\u001b[38;5;241m.\u001b[39mwith_traceback(tb)\n\u001b[0;32m---> 39\u001b[0m     \u001b[38;5;28;01mraise\u001b[39;00m value\n\u001b[1;32m     40\u001b[0m \u001b[38;5;28;01mfinally\u001b[39;00m:\n",
      "File \u001b[0;32m~/miniconda3/envs/openai-doctrans/lib/python3.9/site-packages/urllib3/connectionpool.py:790\u001b[0m, in \u001b[0;36mHTTPConnectionPool.urlopen\u001b[0;34m(self, method, url, body, headers, retries, redirect, assert_same_host, timeout, pool_timeout, release_conn, chunked, body_pos, preload_content, decode_content, **response_kw)\u001b[0m\n\u001b[1;32m    789\u001b[0m \u001b[38;5;66;03m# Make the request on the HTTPConnection object\u001b[39;00m\n\u001b[0;32m--> 790\u001b[0m response \u001b[38;5;241m=\u001b[39m \u001b[38;5;28;43mself\u001b[39;49m\u001b[38;5;241;43m.\u001b[39;49m\u001b[43m_make_request\u001b[49m\u001b[43m(\u001b[49m\n\u001b[1;32m    791\u001b[0m \u001b[43m    \u001b[49m\u001b[43mconn\u001b[49m\u001b[43m,\u001b[49m\n\u001b[1;32m    792\u001b[0m \u001b[43m    \u001b[49m\u001b[43mmethod\u001b[49m\u001b[43m,\u001b[49m\n\u001b[1;32m    793\u001b[0m \u001b[43m    \u001b[49m\u001b[43murl\u001b[49m\u001b[43m,\u001b[49m\n\u001b[1;32m    794\u001b[0m \u001b[43m    \u001b[49m\u001b[43mtimeout\u001b[49m\u001b[38;5;241;43m=\u001b[39;49m\u001b[43mtimeout_obj\u001b[49m\u001b[43m,\u001b[49m\n\u001b[1;32m    795\u001b[0m \u001b[43m    \u001b[49m\u001b[43mbody\u001b[49m\u001b[38;5;241;43m=\u001b[39;49m\u001b[43mbody\u001b[49m\u001b[43m,\u001b[49m\n\u001b[1;32m    796\u001b[0m \u001b[43m    \u001b[49m\u001b[43mheaders\u001b[49m\u001b[38;5;241;43m=\u001b[39;49m\u001b[43mheaders\u001b[49m\u001b[43m,\u001b[49m\n\u001b[1;32m    797\u001b[0m \u001b[43m    \u001b[49m\u001b[43mchunked\u001b[49m\u001b[38;5;241;43m=\u001b[39;49m\u001b[43mchunked\u001b[49m\u001b[43m,\u001b[49m\n\u001b[1;32m    798\u001b[0m \u001b[43m    \u001b[49m\u001b[43mretries\u001b[49m\u001b[38;5;241;43m=\u001b[39;49m\u001b[43mretries\u001b[49m\u001b[43m,\u001b[49m\n\u001b[1;32m    799\u001b[0m \u001b[43m    \u001b[49m\u001b[43mresponse_conn\u001b[49m\u001b[38;5;241;43m=\u001b[39;49m\u001b[43mresponse_conn\u001b[49m\u001b[43m,\u001b[49m\n\u001b[1;32m    800\u001b[0m \u001b[43m    \u001b[49m\u001b[43mpreload_content\u001b[49m\u001b[38;5;241;43m=\u001b[39;49m\u001b[43mpreload_content\u001b[49m\u001b[43m,\u001b[49m\n\u001b[1;32m    801\u001b[0m \u001b[43m    \u001b[49m\u001b[43mdecode_content\u001b[49m\u001b[38;5;241;43m=\u001b[39;49m\u001b[43mdecode_content\u001b[49m\u001b[43m,\u001b[49m\n\u001b[1;32m    802\u001b[0m \u001b[43m    \u001b[49m\u001b[38;5;241;43m*\u001b[39;49m\u001b[38;5;241;43m*\u001b[39;49m\u001b[43mresponse_kw\u001b[49m\u001b[43m,\u001b[49m\n\u001b[1;32m    803\u001b[0m \u001b[43m\u001b[49m\u001b[43m)\u001b[49m\n\u001b[1;32m    805\u001b[0m \u001b[38;5;66;03m# Everything went great!\u001b[39;00m\n",
      "File \u001b[0;32m~/miniconda3/envs/openai-doctrans/lib/python3.9/site-packages/urllib3/connectionpool.py:538\u001b[0m, in \u001b[0;36mHTTPConnectionPool._make_request\u001b[0;34m(self, conn, method, url, body, headers, retries, timeout, chunked, response_conn, preload_content, decode_content, enforce_content_length)\u001b[0m\n\u001b[1;32m    537\u001b[0m \u001b[38;5;28;01mexcept\u001b[39;00m (BaseSSLError, \u001b[38;5;167;01mOSError\u001b[39;00m) \u001b[38;5;28;01mas\u001b[39;00m e:\n\u001b[0;32m--> 538\u001b[0m     \u001b[38;5;28;43mself\u001b[39;49m\u001b[38;5;241;43m.\u001b[39;49m\u001b[43m_raise_timeout\u001b[49m\u001b[43m(\u001b[49m\u001b[43merr\u001b[49m\u001b[38;5;241;43m=\u001b[39;49m\u001b[43me\u001b[49m\u001b[43m,\u001b[49m\u001b[43m \u001b[49m\u001b[43murl\u001b[49m\u001b[38;5;241;43m=\u001b[39;49m\u001b[43murl\u001b[49m\u001b[43m,\u001b[49m\u001b[43m \u001b[49m\u001b[43mtimeout_value\u001b[49m\u001b[38;5;241;43m=\u001b[39;49m\u001b[43mread_timeout\u001b[49m\u001b[43m)\u001b[49m\n\u001b[1;32m    539\u001b[0m     \u001b[38;5;28;01mraise\u001b[39;00m\n",
      "File \u001b[0;32m~/miniconda3/envs/openai-doctrans/lib/python3.9/site-packages/urllib3/connectionpool.py:370\u001b[0m, in \u001b[0;36mHTTPConnectionPool._raise_timeout\u001b[0;34m(self, err, url, timeout_value)\u001b[0m\n\u001b[1;32m    369\u001b[0m \u001b[38;5;28;01mif\u001b[39;00m \u001b[38;5;28misinstance\u001b[39m(err, SocketTimeout):\n\u001b[0;32m--> 370\u001b[0m     \u001b[38;5;28;01mraise\u001b[39;00m ReadTimeoutError(\n\u001b[1;32m    371\u001b[0m         \u001b[38;5;28mself\u001b[39m, url, \u001b[38;5;124mf\u001b[39m\u001b[38;5;124m\"\u001b[39m\u001b[38;5;124mRead timed out. (read timeout=\u001b[39m\u001b[38;5;132;01m{\u001b[39;00mtimeout_value\u001b[38;5;132;01m}\u001b[39;00m\u001b[38;5;124m)\u001b[39m\u001b[38;5;124m\"\u001b[39m\n\u001b[1;32m    372\u001b[0m     ) \u001b[38;5;28;01mfrom\u001b[39;00m \u001b[38;5;21;01merr\u001b[39;00m\n\u001b[1;32m    374\u001b[0m \u001b[38;5;66;03m# See the above comment about EAGAIN in Python 3.\u001b[39;00m\n",
      "\u001b[0;31mReadTimeoutError\u001b[0m: HTTPSConnectionPool(host='icaopenaidev.openai.azure.com', port=443): Read timed out. (read timeout=600)",
      "\nDuring handling of the above exception, another exception occurred:\n",
      "\u001b[0;31mReadTimeout\u001b[0m                               Traceback (most recent call last)",
      "File \u001b[0;32m~/miniconda3/envs/openai-doctrans/lib/python3.9/site-packages/openai/api_requestor.py:596\u001b[0m, in \u001b[0;36mAPIRequestor.request_raw\u001b[0;34m(self, method, url, params, supplied_headers, files, stream, request_id, request_timeout)\u001b[0m\n\u001b[1;32m    595\u001b[0m \u001b[38;5;28;01mtry\u001b[39;00m:\n\u001b[0;32m--> 596\u001b[0m     result \u001b[38;5;241m=\u001b[39m \u001b[43m_thread_context\u001b[49m\u001b[38;5;241;43m.\u001b[39;49m\u001b[43msession\u001b[49m\u001b[38;5;241;43m.\u001b[39;49m\u001b[43mrequest\u001b[49m\u001b[43m(\u001b[49m\n\u001b[1;32m    597\u001b[0m \u001b[43m        \u001b[49m\u001b[43mmethod\u001b[49m\u001b[43m,\u001b[49m\n\u001b[1;32m    598\u001b[0m \u001b[43m        \u001b[49m\u001b[43mabs_url\u001b[49m\u001b[43m,\u001b[49m\n\u001b[1;32m    599\u001b[0m \u001b[43m        \u001b[49m\u001b[43mheaders\u001b[49m\u001b[38;5;241;43m=\u001b[39;49m\u001b[43mheaders\u001b[49m\u001b[43m,\u001b[49m\n\u001b[1;32m    600\u001b[0m \u001b[43m        \u001b[49m\u001b[43mdata\u001b[49m\u001b[38;5;241;43m=\u001b[39;49m\u001b[43mdata\u001b[49m\u001b[43m,\u001b[49m\n\u001b[1;32m    601\u001b[0m \u001b[43m        \u001b[49m\u001b[43mfiles\u001b[49m\u001b[38;5;241;43m=\u001b[39;49m\u001b[43mfiles\u001b[49m\u001b[43m,\u001b[49m\n\u001b[1;32m    602\u001b[0m \u001b[43m        \u001b[49m\u001b[43mstream\u001b[49m\u001b[38;5;241;43m=\u001b[39;49m\u001b[43mstream\u001b[49m\u001b[43m,\u001b[49m\n\u001b[1;32m    603\u001b[0m \u001b[43m        \u001b[49m\u001b[43mtimeout\u001b[49m\u001b[38;5;241;43m=\u001b[39;49m\u001b[43mrequest_timeout\u001b[49m\u001b[43m \u001b[49m\u001b[38;5;28;43;01mif\u001b[39;49;00m\u001b[43m \u001b[49m\u001b[43mrequest_timeout\u001b[49m\u001b[43m \u001b[49m\u001b[38;5;28;43;01melse\u001b[39;49;00m\u001b[43m \u001b[49m\u001b[43mTIMEOUT_SECS\u001b[49m\u001b[43m,\u001b[49m\n\u001b[1;32m    604\u001b[0m \u001b[43m        \u001b[49m\u001b[43mproxies\u001b[49m\u001b[38;5;241;43m=\u001b[39;49m\u001b[43m_thread_context\u001b[49m\u001b[38;5;241;43m.\u001b[39;49m\u001b[43msession\u001b[49m\u001b[38;5;241;43m.\u001b[39;49m\u001b[43mproxies\u001b[49m\u001b[43m,\u001b[49m\n\u001b[1;32m    605\u001b[0m \u001b[43m    \u001b[49m\u001b[43m)\u001b[49m\n\u001b[1;32m    606\u001b[0m \u001b[38;5;28;01mexcept\u001b[39;00m requests\u001b[38;5;241m.\u001b[39mexceptions\u001b[38;5;241m.\u001b[39mTimeout \u001b[38;5;28;01mas\u001b[39;00m e:\n",
      "File \u001b[0;32m~/miniconda3/envs/openai-doctrans/lib/python3.9/site-packages/requests/sessions.py:589\u001b[0m, in \u001b[0;36mSession.request\u001b[0;34m(self, method, url, params, data, headers, cookies, files, auth, timeout, allow_redirects, proxies, hooks, stream, verify, cert, json)\u001b[0m\n\u001b[1;32m    588\u001b[0m send_kwargs\u001b[38;5;241m.\u001b[39mupdate(settings)\n\u001b[0;32m--> 589\u001b[0m resp \u001b[38;5;241m=\u001b[39m \u001b[38;5;28;43mself\u001b[39;49m\u001b[38;5;241;43m.\u001b[39;49m\u001b[43msend\u001b[49m\u001b[43m(\u001b[49m\u001b[43mprep\u001b[49m\u001b[43m,\u001b[49m\u001b[43m \u001b[49m\u001b[38;5;241;43m*\u001b[39;49m\u001b[38;5;241;43m*\u001b[39;49m\u001b[43msend_kwargs\u001b[49m\u001b[43m)\u001b[49m\n\u001b[1;32m    591\u001b[0m \u001b[38;5;28;01mreturn\u001b[39;00m resp\n",
      "File \u001b[0;32m~/miniconda3/envs/openai-doctrans/lib/python3.9/site-packages/requests/sessions.py:703\u001b[0m, in \u001b[0;36mSession.send\u001b[0;34m(self, request, **kwargs)\u001b[0m\n\u001b[1;32m    702\u001b[0m \u001b[38;5;66;03m# Send the request\u001b[39;00m\n\u001b[0;32m--> 703\u001b[0m r \u001b[38;5;241m=\u001b[39m \u001b[43madapter\u001b[49m\u001b[38;5;241;43m.\u001b[39;49m\u001b[43msend\u001b[49m\u001b[43m(\u001b[49m\u001b[43mrequest\u001b[49m\u001b[43m,\u001b[49m\u001b[43m \u001b[49m\u001b[38;5;241;43m*\u001b[39;49m\u001b[38;5;241;43m*\u001b[39;49m\u001b[43mkwargs\u001b[49m\u001b[43m)\u001b[49m\n\u001b[1;32m    705\u001b[0m \u001b[38;5;66;03m# Total elapsed time of the request (approximately)\u001b[39;00m\n",
      "File \u001b[0;32m~/miniconda3/envs/openai-doctrans/lib/python3.9/site-packages/requests/adapters.py:532\u001b[0m, in \u001b[0;36mHTTPAdapter.send\u001b[0;34m(self, request, stream, timeout, verify, cert, proxies)\u001b[0m\n\u001b[1;32m    531\u001b[0m \u001b[38;5;28;01melif\u001b[39;00m \u001b[38;5;28misinstance\u001b[39m(e, ReadTimeoutError):\n\u001b[0;32m--> 532\u001b[0m     \u001b[38;5;28;01mraise\u001b[39;00m ReadTimeout(e, request\u001b[38;5;241m=\u001b[39mrequest)\n\u001b[1;32m    533\u001b[0m \u001b[38;5;28;01melif\u001b[39;00m \u001b[38;5;28misinstance\u001b[39m(e, _InvalidHeader):\n",
      "\u001b[0;31mReadTimeout\u001b[0m: HTTPSConnectionPool(host='icaopenaidev.openai.azure.com', port=443): Read timed out. (read timeout=600)",
      "\nThe above exception was the direct cause of the following exception:\n",
      "\u001b[0;31mTimeout\u001b[0m                                   Traceback (most recent call last)",
      "Cell \u001b[0;32mIn[15], line 1\u001b[0m\n\u001b[0;32m----> 1\u001b[0m ml_docx_response \u001b[38;5;241m=\u001b[39m \u001b[43mopenai\u001b[49m\u001b[38;5;241;43m.\u001b[39;49m\u001b[43mChatCompletion\u001b[49m\u001b[38;5;241;43m.\u001b[39;49m\u001b[43mcreate\u001b[49m\u001b[43m(\u001b[49m\n\u001b[1;32m      2\u001b[0m \u001b[43m  \u001b[49m\u001b[43mengine\u001b[49m\u001b[38;5;241;43m=\u001b[39;49m\u001b[38;5;124;43m\"\u001b[39;49m\u001b[38;5;124;43mgpt-4-32k\u001b[39;49m\u001b[38;5;124;43m\"\u001b[39;49m\u001b[43m,\u001b[49m\n\u001b[1;32m      3\u001b[0m \u001b[43m  \u001b[49m\u001b[43mmessages\u001b[49m\u001b[43m \u001b[49m\u001b[38;5;241;43m=\u001b[39;49m\u001b[43m \u001b[49m\u001b[43m[\u001b[49m\u001b[43m{\u001b[49m\u001b[38;5;124;43m\"\u001b[39;49m\u001b[38;5;124;43mrole\u001b[39;49m\u001b[38;5;124;43m\"\u001b[39;49m\u001b[43m:\u001b[49m\u001b[38;5;124;43m\"\u001b[39;49m\u001b[38;5;124;43msystem\u001b[39;49m\u001b[38;5;124;43m\"\u001b[39;49m\u001b[43m,\u001b[49m\n\u001b[1;32m      4\u001b[0m \u001b[43m               \u001b[49m\u001b[38;5;124;43m\"\u001b[39;49m\u001b[38;5;124;43mcontent\u001b[39;49m\u001b[38;5;124;43m\"\u001b[39;49m\u001b[43m:\u001b[49m\u001b[43mEN_JP\u001b[49m\u001b[43m}\u001b[49m\u001b[43m,\u001b[49m\n\u001b[1;32m      5\u001b[0m \u001b[43m              \u001b[49m\u001b[43m{\u001b[49m\u001b[38;5;124;43m\"\u001b[39;49m\u001b[38;5;124;43mrole\u001b[39;49m\u001b[38;5;124;43m\"\u001b[39;49m\u001b[43m:\u001b[49m\u001b[38;5;124;43m\"\u001b[39;49m\u001b[38;5;124;43muser\u001b[39;49m\u001b[38;5;124;43m\"\u001b[39;49m\u001b[43m,\u001b[49m\u001b[38;5;124;43m\"\u001b[39;49m\u001b[38;5;124;43mcontent\u001b[39;49m\u001b[38;5;124;43m\"\u001b[39;49m\u001b[43m:\u001b[49m\u001b[43mextracted_doctext\u001b[49m\u001b[43m}\u001b[49m\u001b[43m]\u001b[49m\u001b[43m,\u001b[49m\n\u001b[1;32m      6\u001b[0m \n\u001b[1;32m      7\u001b[0m \u001b[43m  \u001b[49m\u001b[43mtemperature\u001b[49m\u001b[38;5;241;43m=\u001b[39;49m\u001b[38;5;241;43m0.0\u001b[39;49m\u001b[43m,\u001b[49m\n\u001b[1;32m      8\u001b[0m \u001b[43m  \u001b[49m\u001b[43mmax_tokens\u001b[49m\u001b[38;5;241;43m=\u001b[39;49m\u001b[38;5;241;43m13800\u001b[39;49m\u001b[43m,\u001b[49m\n\u001b[1;32m      9\u001b[0m \u001b[43m  \u001b[49m\u001b[43mtop_p\u001b[49m\u001b[38;5;241;43m=\u001b[39;49m\u001b[38;5;241;43m0.95\u001b[39;49m\u001b[43m,\u001b[49m\n\u001b[1;32m     10\u001b[0m \u001b[43m  \u001b[49m\u001b[43mfrequency_penalty\u001b[49m\u001b[38;5;241;43m=\u001b[39;49m\u001b[38;5;241;43m0\u001b[39;49m\u001b[43m,\u001b[49m\n\u001b[1;32m     11\u001b[0m \u001b[43m  \u001b[49m\u001b[43mpresence_penalty\u001b[49m\u001b[38;5;241;43m=\u001b[39;49m\u001b[38;5;241;43m0\u001b[39;49m\u001b[43m,\u001b[49m\n\u001b[1;32m     12\u001b[0m \u001b[43m  \u001b[49m\u001b[43mstop\u001b[49m\u001b[38;5;241;43m=\u001b[39;49m\u001b[38;5;28;43;01mNone\u001b[39;49;00m\u001b[43m)\u001b[49m\n",
      "File \u001b[0;32m~/miniconda3/envs/openai-doctrans/lib/python3.9/site-packages/openai/api_resources/chat_completion.py:25\u001b[0m, in \u001b[0;36mChatCompletion.create\u001b[0;34m(cls, *args, **kwargs)\u001b[0m\n\u001b[1;32m     23\u001b[0m \u001b[38;5;28;01mwhile\u001b[39;00m \u001b[38;5;28;01mTrue\u001b[39;00m:\n\u001b[1;32m     24\u001b[0m     \u001b[38;5;28;01mtry\u001b[39;00m:\n\u001b[0;32m---> 25\u001b[0m         \u001b[38;5;28;01mreturn\u001b[39;00m \u001b[38;5;28;43msuper\u001b[39;49m\u001b[43m(\u001b[49m\u001b[43m)\u001b[49m\u001b[38;5;241;43m.\u001b[39;49m\u001b[43mcreate\u001b[49m\u001b[43m(\u001b[49m\u001b[38;5;241;43m*\u001b[39;49m\u001b[43margs\u001b[49m\u001b[43m,\u001b[49m\u001b[43m \u001b[49m\u001b[38;5;241;43m*\u001b[39;49m\u001b[38;5;241;43m*\u001b[39;49m\u001b[43mkwargs\u001b[49m\u001b[43m)\u001b[49m\n\u001b[1;32m     26\u001b[0m     \u001b[38;5;28;01mexcept\u001b[39;00m TryAgain \u001b[38;5;28;01mas\u001b[39;00m e:\n\u001b[1;32m     27\u001b[0m         \u001b[38;5;28;01mif\u001b[39;00m timeout \u001b[38;5;129;01mis\u001b[39;00m \u001b[38;5;129;01mnot\u001b[39;00m \u001b[38;5;28;01mNone\u001b[39;00m \u001b[38;5;129;01mand\u001b[39;00m time\u001b[38;5;241m.\u001b[39mtime() \u001b[38;5;241m>\u001b[39m start \u001b[38;5;241m+\u001b[39m timeout:\n",
      "File \u001b[0;32m~/miniconda3/envs/openai-doctrans/lib/python3.9/site-packages/openai/api_resources/abstract/engine_api_resource.py:153\u001b[0m, in \u001b[0;36mEngineAPIResource.create\u001b[0;34m(cls, api_key, api_base, api_type, request_id, api_version, organization, **params)\u001b[0m\n\u001b[1;32m    127\u001b[0m \u001b[38;5;129m@classmethod\u001b[39m\n\u001b[1;32m    128\u001b[0m \u001b[38;5;28;01mdef\u001b[39;00m \u001b[38;5;21mcreate\u001b[39m(\n\u001b[1;32m    129\u001b[0m     \u001b[38;5;28mcls\u001b[39m,\n\u001b[0;32m   (...)\u001b[0m\n\u001b[1;32m    136\u001b[0m     \u001b[38;5;241m*\u001b[39m\u001b[38;5;241m*\u001b[39mparams,\n\u001b[1;32m    137\u001b[0m ):\n\u001b[1;32m    138\u001b[0m     (\n\u001b[1;32m    139\u001b[0m         deployment_id,\n\u001b[1;32m    140\u001b[0m         engine,\n\u001b[0;32m   (...)\u001b[0m\n\u001b[1;32m    150\u001b[0m         api_key, api_base, api_type, api_version, organization, \u001b[38;5;241m*\u001b[39m\u001b[38;5;241m*\u001b[39mparams\n\u001b[1;32m    151\u001b[0m     )\n\u001b[0;32m--> 153\u001b[0m     response, _, api_key \u001b[38;5;241m=\u001b[39m \u001b[43mrequestor\u001b[49m\u001b[38;5;241;43m.\u001b[39;49m\u001b[43mrequest\u001b[49m\u001b[43m(\u001b[49m\n\u001b[1;32m    154\u001b[0m \u001b[43m        \u001b[49m\u001b[38;5;124;43m\"\u001b[39;49m\u001b[38;5;124;43mpost\u001b[39;49m\u001b[38;5;124;43m\"\u001b[39;49m\u001b[43m,\u001b[49m\n\u001b[1;32m    155\u001b[0m \u001b[43m        \u001b[49m\u001b[43murl\u001b[49m\u001b[43m,\u001b[49m\n\u001b[1;32m    156\u001b[0m \u001b[43m        \u001b[49m\u001b[43mparams\u001b[49m\u001b[38;5;241;43m=\u001b[39;49m\u001b[43mparams\u001b[49m\u001b[43m,\u001b[49m\n\u001b[1;32m    157\u001b[0m \u001b[43m        \u001b[49m\u001b[43mheaders\u001b[49m\u001b[38;5;241;43m=\u001b[39;49m\u001b[43mheaders\u001b[49m\u001b[43m,\u001b[49m\n\u001b[1;32m    158\u001b[0m \u001b[43m        \u001b[49m\u001b[43mstream\u001b[49m\u001b[38;5;241;43m=\u001b[39;49m\u001b[43mstream\u001b[49m\u001b[43m,\u001b[49m\n\u001b[1;32m    159\u001b[0m \u001b[43m        \u001b[49m\u001b[43mrequest_id\u001b[49m\u001b[38;5;241;43m=\u001b[39;49m\u001b[43mrequest_id\u001b[49m\u001b[43m,\u001b[49m\n\u001b[1;32m    160\u001b[0m \u001b[43m        \u001b[49m\u001b[43mrequest_timeout\u001b[49m\u001b[38;5;241;43m=\u001b[39;49m\u001b[43mrequest_timeout\u001b[49m\u001b[43m,\u001b[49m\n\u001b[1;32m    161\u001b[0m \u001b[43m    \u001b[49m\u001b[43m)\u001b[49m\n\u001b[1;32m    163\u001b[0m     \u001b[38;5;28;01mif\u001b[39;00m stream:\n\u001b[1;32m    164\u001b[0m         \u001b[38;5;66;03m# must be an iterator\u001b[39;00m\n\u001b[1;32m    165\u001b[0m         \u001b[38;5;28;01massert\u001b[39;00m \u001b[38;5;129;01mnot\u001b[39;00m \u001b[38;5;28misinstance\u001b[39m(response, OpenAIResponse)\n",
      "File \u001b[0;32m~/miniconda3/envs/openai-doctrans/lib/python3.9/site-packages/openai/api_requestor.py:288\u001b[0m, in \u001b[0;36mAPIRequestor.request\u001b[0;34m(self, method, url, params, headers, files, stream, request_id, request_timeout)\u001b[0m\n\u001b[1;32m    277\u001b[0m \u001b[38;5;28;01mdef\u001b[39;00m \u001b[38;5;21mrequest\u001b[39m(\n\u001b[1;32m    278\u001b[0m     \u001b[38;5;28mself\u001b[39m,\n\u001b[1;32m    279\u001b[0m     method,\n\u001b[0;32m   (...)\u001b[0m\n\u001b[1;32m    286\u001b[0m     request_timeout: Optional[Union[\u001b[38;5;28mfloat\u001b[39m, Tuple[\u001b[38;5;28mfloat\u001b[39m, \u001b[38;5;28mfloat\u001b[39m]]] \u001b[38;5;241m=\u001b[39m \u001b[38;5;28;01mNone\u001b[39;00m,\n\u001b[1;32m    287\u001b[0m ) \u001b[38;5;241m-\u001b[39m\u001b[38;5;241m>\u001b[39m Tuple[Union[OpenAIResponse, Iterator[OpenAIResponse]], \u001b[38;5;28mbool\u001b[39m, \u001b[38;5;28mstr\u001b[39m]:\n\u001b[0;32m--> 288\u001b[0m     result \u001b[38;5;241m=\u001b[39m \u001b[38;5;28;43mself\u001b[39;49m\u001b[38;5;241;43m.\u001b[39;49m\u001b[43mrequest_raw\u001b[49m\u001b[43m(\u001b[49m\n\u001b[1;32m    289\u001b[0m \u001b[43m        \u001b[49m\u001b[43mmethod\u001b[49m\u001b[38;5;241;43m.\u001b[39;49m\u001b[43mlower\u001b[49m\u001b[43m(\u001b[49m\u001b[43m)\u001b[49m\u001b[43m,\u001b[49m\n\u001b[1;32m    290\u001b[0m \u001b[43m        \u001b[49m\u001b[43murl\u001b[49m\u001b[43m,\u001b[49m\n\u001b[1;32m    291\u001b[0m \u001b[43m        \u001b[49m\u001b[43mparams\u001b[49m\u001b[38;5;241;43m=\u001b[39;49m\u001b[43mparams\u001b[49m\u001b[43m,\u001b[49m\n\u001b[1;32m    292\u001b[0m \u001b[43m        \u001b[49m\u001b[43msupplied_headers\u001b[49m\u001b[38;5;241;43m=\u001b[39;49m\u001b[43mheaders\u001b[49m\u001b[43m,\u001b[49m\n\u001b[1;32m    293\u001b[0m \u001b[43m        \u001b[49m\u001b[43mfiles\u001b[49m\u001b[38;5;241;43m=\u001b[39;49m\u001b[43mfiles\u001b[49m\u001b[43m,\u001b[49m\n\u001b[1;32m    294\u001b[0m \u001b[43m        \u001b[49m\u001b[43mstream\u001b[49m\u001b[38;5;241;43m=\u001b[39;49m\u001b[43mstream\u001b[49m\u001b[43m,\u001b[49m\n\u001b[1;32m    295\u001b[0m \u001b[43m        \u001b[49m\u001b[43mrequest_id\u001b[49m\u001b[38;5;241;43m=\u001b[39;49m\u001b[43mrequest_id\u001b[49m\u001b[43m,\u001b[49m\n\u001b[1;32m    296\u001b[0m \u001b[43m        \u001b[49m\u001b[43mrequest_timeout\u001b[49m\u001b[38;5;241;43m=\u001b[39;49m\u001b[43mrequest_timeout\u001b[49m\u001b[43m,\u001b[49m\n\u001b[1;32m    297\u001b[0m \u001b[43m    \u001b[49m\u001b[43m)\u001b[49m\n\u001b[1;32m    298\u001b[0m     resp, got_stream \u001b[38;5;241m=\u001b[39m \u001b[38;5;28mself\u001b[39m\u001b[38;5;241m.\u001b[39m_interpret_response(result, stream)\n\u001b[1;32m    299\u001b[0m     \u001b[38;5;28;01mreturn\u001b[39;00m resp, got_stream, \u001b[38;5;28mself\u001b[39m\u001b[38;5;241m.\u001b[39mapi_key\n",
      "File \u001b[0;32m~/miniconda3/envs/openai-doctrans/lib/python3.9/site-packages/openai/api_requestor.py:607\u001b[0m, in \u001b[0;36mAPIRequestor.request_raw\u001b[0;34m(self, method, url, params, supplied_headers, files, stream, request_id, request_timeout)\u001b[0m\n\u001b[1;32m    596\u001b[0m     result \u001b[38;5;241m=\u001b[39m _thread_context\u001b[38;5;241m.\u001b[39msession\u001b[38;5;241m.\u001b[39mrequest(\n\u001b[1;32m    597\u001b[0m         method,\n\u001b[1;32m    598\u001b[0m         abs_url,\n\u001b[0;32m   (...)\u001b[0m\n\u001b[1;32m    604\u001b[0m         proxies\u001b[38;5;241m=\u001b[39m_thread_context\u001b[38;5;241m.\u001b[39msession\u001b[38;5;241m.\u001b[39mproxies,\n\u001b[1;32m    605\u001b[0m     )\n\u001b[1;32m    606\u001b[0m \u001b[38;5;28;01mexcept\u001b[39;00m requests\u001b[38;5;241m.\u001b[39mexceptions\u001b[38;5;241m.\u001b[39mTimeout \u001b[38;5;28;01mas\u001b[39;00m e:\n\u001b[0;32m--> 607\u001b[0m     \u001b[38;5;28;01mraise\u001b[39;00m error\u001b[38;5;241m.\u001b[39mTimeout(\u001b[38;5;124m\"\u001b[39m\u001b[38;5;124mRequest timed out: \u001b[39m\u001b[38;5;132;01m{}\u001b[39;00m\u001b[38;5;124m\"\u001b[39m\u001b[38;5;241m.\u001b[39mformat(e)) \u001b[38;5;28;01mfrom\u001b[39;00m \u001b[38;5;21;01me\u001b[39;00m\n\u001b[1;32m    608\u001b[0m \u001b[38;5;28;01mexcept\u001b[39;00m requests\u001b[38;5;241m.\u001b[39mexceptions\u001b[38;5;241m.\u001b[39mRequestException \u001b[38;5;28;01mas\u001b[39;00m e:\n\u001b[1;32m    609\u001b[0m     \u001b[38;5;28;01mraise\u001b[39;00m error\u001b[38;5;241m.\u001b[39mAPIConnectionError(\n\u001b[1;32m    610\u001b[0m         \u001b[38;5;124m\"\u001b[39m\u001b[38;5;124mError communicating with OpenAI: \u001b[39m\u001b[38;5;132;01m{}\u001b[39;00m\u001b[38;5;124m\"\u001b[39m\u001b[38;5;241m.\u001b[39mformat(e)\n\u001b[1;32m    611\u001b[0m     ) \u001b[38;5;28;01mfrom\u001b[39;00m \u001b[38;5;21;01me\u001b[39;00m\n",
      "\u001b[0;31mTimeout\u001b[0m: Request timed out: HTTPSConnectionPool(host='icaopenaidev.openai.azure.com', port=443): Read timed out. (read timeout=600)"
     ]
    }
   ],
   "source": [
    "# Trail 1 - Timeout after 10 min wait time\n",
    "ml_docx_response = openai.ChatCompletion.create(\n",
    "  engine=\"gpt-4-32k\",\n",
    "  messages = [{\"role\":\"system\",\n",
    "               \"content\":EN_JP},\n",
    "              {\"role\":\"user\",\"content\":extracted_doctext}],\n",
    "\n",
    "  temperature=0.0,\n",
    "  max_tokens=13800,\n",
    "  top_p=0.95,\n",
    "  frequency_penalty=0,\n",
    "  presence_penalty=0,\n",
    "  stop=None)"
   ]
  },
  {
   "cell_type": "code",
   "execution_count": null,
   "id": "be27f69c-d616-4901-96ba-9954d43fb621",
   "metadata": {},
   "outputs": [],
   "source": [
    "# Trail 2"
   ]
  },
  {
   "cell_type": "code",
   "execution_count": null,
   "id": "496fe9df-add3-4df2-b462-28b3d2e1a0ef",
   "metadata": {},
   "outputs": [],
   "source": [
    "# Trail 3"
   ]
  },
  {
   "cell_type": "code",
   "execution_count": null,
   "id": "f3d90a40-9a5e-458d-8730-3a987108c7dc",
   "metadata": {},
   "outputs": [],
   "source": []
  },
  {
   "cell_type": "code",
   "execution_count": null,
   "id": "9d8590e4-f4f2-44bf-9761-6a030e90e082",
   "metadata": {},
   "outputs": [],
   "source": []
  },
  {
   "cell_type": "markdown",
   "id": "c51f1083-38d1-4390-b06c-03682700ac00",
   "metadata": {
    "jp-MarkdownHeadingCollapsed": true
   },
   "source": [
    "## Generative ML Method 2: Splitting text into chunks for fitting into OpenAI tokens limits"
   ]
  },
  {
   "cell_type": "code",
   "execution_count": 4,
   "id": "56413a34-0652-4a10-ac43-26fcd491ba12",
   "metadata": {},
   "outputs": [],
   "source": [
    "import tiktoken\n",
    "import langchain\n",
    "from langchain.text_splitter import RecursiveCharacterTextSplitter\n",
    "\n",
    "\n",
    "tokenizer = tiktoken.get_encoding('cl100k_base')\n",
    "\n",
    "# create the length function\n",
    "def tiktoken_len(text):\n",
    "    tokens = tokenizer.encode(\n",
    "        text,\n",
    "        disallowed_special=()\n",
    "    )\n",
    "    return len(tokens)\n",
    "  \n",
    "def text_splitter(chunk_size=1000):\n",
    "  text_splitter = RecursiveCharacterTextSplitter(\n",
    "      # Set a really small chunk size, just to show.\n",
    "      chunk_size = chunk_size,\n",
    "      chunk_overlap  = 5,\n",
    "      length_function = tiktoken_len,\n",
    "  )\n",
    "  return text_splitter"
   ]
  },
  {
   "cell_type": "code",
   "execution_count": 5,
   "id": "b79958c7-6b46-421d-a54d-7ed582132f19",
   "metadata": {},
   "outputs": [],
   "source": [
    "doc = Document(text=extracted_doctext)\n",
    "splitter = text_splitter()\n",
    "chunks = splitter.split_text(doc.text)\n",
    "documents = [Document(text=chunk) for chunk in chunks]"
   ]
  },
  {
   "cell_type": "code",
   "execution_count": 18,
   "id": "7a9a025f-b55f-430f-9ce5-45bb1d437ebb",
   "metadata": {
    "collapsed": true,
    "jupyter": {
     "outputs_hidden": true
    }
   },
   "outputs": [
    {
     "data": {
      "text/plain": [
       "[Document(id=None, text='ABCD\\n\\n○○○○株式会社御中\\n\\n有限責任 あずさ監査法人の品質管理システム\\n\\nJune 2012\\n\\n\\n\\n\\n\\n\\n\\nEnglish Translation-Reference Purpose Only\\n\\nThis is an unofficial translation of the Japanese original version prepared solely for the convenience of readers outside Japan.  If there is any discrepancy between the Japanese original and this translation, the Japanese original will prevail.\\n\\n\\n\\n\\n\\nNotification of the matters reported to the corporate auditors, etc. in accordance with Article 131 of the Corporate Calculation Regulations\\n\\n\\n\\n\\n\\nXX  2019\\n\\nKPMG AZSA LLC\\n\\nTable of Contents\\n\\n1. System of quality control\\t1\\n\\n2. Tone at the top\\t3\\n\\n(1)\\tLeadership responsibilities for quality and risk management\\t4\\n\\n3. Association with the right clients\\t5\\n\\n(1)\\tAcceptance and continuance of clients and engagements\\t5\\n\\n(2)\\tProspective client and engagement acceptance process\\t5\\n\\n(3)\\tContinuance process\\t6\\n\\n(4)\\tWithdrawal\\t6\\n\\n(5)\\tClient portfolio management\\t6\\n\\n4. Clear standards and robust audit tools\\t7\\n\\n(1)\\tOur approach to audit\\t7\\n\\n(2)\\tIndependence, integrity, ethics and objectivity\\t9\\n\\n5. Recruitment, development and assignment of appropriately qualified personnel\\t13\\n\\n(1)\\tRecruitment\\t14\\n\\n(2)\\tPersonal development\\t14\\n\\n(3)\\tInclusion and Diversity programs\\t14\\n\\n(4)\\tEvaluation process including quality and compliance metrics\\t15\\n\\n(5)\\tPartner admissions\\t15\\n\\n(6)\\tAssignment of professionals\\t15\\n\\n(7)\\tfrom our people - Global People Survey (GPS)\\t16\\n\\n6. Commitment to technical excellence and quality service delivery\\t17\\n\\n(1)\\tLifetime learning strategy\\t17\\n\\n(2)\\tLicensing and mandatory requirements for IFRS and U.S. GAAP engagements\\t17\\n\\n(3)\\tAccess to specialist networks\\t18\\n\\n(4)\\tCulture of Consultation\\t18\\n\\n(5)\\tDeveloping business understanding and industry knowledge\\t19\\n\\n7. Performance of effective and efficient audits\\t19\\n\\n(1)\\tOngoing mentoring, supervision and review\\t19\\n\\n(2)\\tTimely engagement quality control (EQC) reviewers\\t20\\n\\n(3)\\tReporting\\t20\\n\\n(4)\\tInsightful, open and honest two-way communication\\t21\\n\\n(5)\\tCommunications between predecessor auditor and successor auditor\\t21\\n\\n(6)\\tClient confidentiality, information security and data privacy\\t21\\n\\n(7)\\tRisk associated information\\t21\\n\\n8. Commitment to continuous improvement\\t22\\n\\n(1)\\tInternal monitoring and compliance programs\\t22\\n\\n(2)\\tExternal feedback and dialogue\\t24\\n\\n\\n\\n\\n\\n\\n\\n\\n System of quality control \\n\\nOverview\\n\\nKPMG AZSA implements KPMG International policies and procedures as well as adopts additional policies and procedures that are designed to address rules and standards issued by the Business Accounting Council of the Financial Service Agency, Japanese Government and the Japanese Institute of Certified Public Accountants (JICPA), and other regulators as well as local laws, such as the Certified Public Accountants Law, Companies Act, Financial Instruments and Exchange Law, other applicable related regulations, the Auditing Standards and Quality Control Standards related auditing by laws of the JICPA, and the Code of Ethics and practical guidance on auditing from the JICPA. \\n\\n\\n\\nA robust and consistent system of quality control is an essential requirement in performing high-quality services. Accordingly, KPMG International has quality control policies that apply to all member firms. These are included in KPMG’s Global Quality & Risk Management Manual (Global Q&RM Manual) available to all KPMG personnel. \\n\\n\\n\\nThese policies and associated procedures are designed to assist member firms in complying with relevant professional standards, regulatory and legal requirements, and in issuing reports that are appropriate in the circumstances, as well as help member firm personnel act with integrity and objectivity and perform their work with diligence. These policies and procedures are based on the International Standard on Quality Control 1 (ISQC 1) issued by the International Auditing and Assurance Standards Board (IAASB), and on the Code of Ethics for Professional Accountants issued by the International Ethics Standards Board for Accountants (IESBA). Both of these are relevant to member firms that perform statutory audits and other assurance and related services engagements.'),\n",
       " Document(id=None, text='KPMG AZSA is required to implement KPMG International policies and procedures and also adopts additional policies and procedures that are designed to address rules and standards issued by the Financial Services Agency and JICPA, and other relevant regulators as well as applicable legal and regulatory requirements. Amendments to risk and quality policies, including ethics and independence policies, are included in quality and risk management alerts and are communicated by email.\\n\\nKPMG AZSA is required to implement changes specified in the email alerts and this is checked through internal monitoring.\\n\\nQuality control and risk management are the responsibility of all KPMG AZSA personnel. This responsibility includes the need to understand and adhere to firm policies and associated procedures in carrying out their day-to-day activities. The system of quality control applies to all KPMG personnel wherever they are based.\\n\\nWhile many KPMG’s quality control processes are cross-functional and apply equally to advisory work, the remainder of this section focuses on the delivery of quality audits.  \\n\\n\\n\\nAudit quality framework\\n\\nAt KPMG AZSA, audit quality is not just about reaching the right opinion but how that opinion is reached. It is about the processes, thought, and integrity behind the auditors’ report. The outcome of a quality audit is the delivery of an appropriate and independent opinion in compliance with relevant professional standards and applicable legal and regulatory requirements.\\n\\nTo help all audit professionals concentrate on the fundamental skills and behaviors required to deliver a quality audit, KPMG International has developed the Audit Quality Framework. This framework uses a common language that is adopted by all KPMG member firms, including KPMG AZSA, to describe what the KPMG network believes drives audit quality, and to highlight how every audit professional at each KPMG member firm contributes to the delivery of audit quality. \\n\\n\\n\\nTone at the top sits at the core of the Audit Quality Framework’s seven drivers of audit quality and helps ensure that the right behaviors permeate across the entire KPMG network. All of the other drivers create a virtuous circle because each driver is intended to reinforce the others. Each of the seven drivers is described in more detail in the following sections of this report.\\n\\n\\n\\n \\n\\n\\n\\n\\n\\n\\n\\n\\n\\n\\n\\n\\n\\n\\n\\n\\n\\n\\n\\n\\n\\n\\n\\n\\n\\n\\n\\n\\n\\n\\n\\n\\n\\n\\n\\n\\n\\n\\n\\n Tone at the top\\n\\nThe culture of KPMG International and KPMG member firms is underpinned by a strong set of values and supporting policies and processes, which enable the right attitudes and behaviors to permeate throughout the KPMG network. \\n\\nOur global leadership, working with regional and member firm leaderships, plays a critical role in establishing our commitment to quality and the highest standards of professional excellence. A culture based on quality, integrity and ethics is essential in an organization that carries out audits and other services on which stakeholders and investors rely. \\n\\nAt KPMG AZSA, we promote a culture in which consultation is encouraged and recognized as a strength.\\n\\n\\n\\nTone at the top means that KPMG AZSA leadership demonstrates commitment to quality, ethics, and integrity as well as communicates its commitment to clients, stakeholders, and society at large. Integrity is a critical characteristic that stakeholders expect and rely on. It is also the key KPMG value — “Above all, we act with integrity”. Integrity means constantly striving to uphold the highest professional standards, providing sound good-quality advice, and rigorously maintaining our independence. \\n\\nThe KPMG values, which have been explicitly codified for a number of years, are embedded into working practices and compliance culture at KPMG AZSA. \\n\\nThe KPMG values form the foundation of our culture and set the tone at the top. They also form the foundation of the KPMG approach to audit and shape how we work together. We communicate the KPMG values clearly to our people and embed them into our people processes — induction, performance development, and reward.\\n\\n\\n\\nKPMG Global Code of Conduct \\n\\nKPMG’s commitment to integrity and quality is enshrined in the KPMG values that lie at the heart of the way we do things. They define KPMG’s diverse and inclusive culture and our commitment to the right personal and professional conduct. The KPMG values emphasize that, above all, KPMG personnel act with integrity, uphold the highest professional standards, and provide sound advice while rigorously maintaining independence and complying with laws, regulations, and professional standards. The KPMG values are communicated clearly to all people and are embedded into member firms’ people processes — induction, performance development, and reward.\\n\\nBuilding on the KPMG values is the KPMG Global Code of Conduct.\\n\\nMember firms, including KPMG AZSA, are required to adopt, as a minimum, the Global Code of Conduct.  \\n\\n\\n\\nKPMG AZSA Code of Conduct'),\n",
       " Document(id=None, text='The KPMG AZSA Code of Conduct lays out the expectations of ethical behavior for all partners and employees at KPMG AZSA and is built on the foundation of the KPMG values, the shared set of beliefs and principles at KPMG. In addition, the KPMG AZSA Code of Conduct emphasizes that each partner and employee is personally responsible for following the legal, professional, and ethical standards that apply to his or her job function and level of responsibility. The KPMG AZSA Code of Conduct sets out our commitments and includes provisions that require KPMG personnel, in summary, to:\\n\\ncomply with all applicable laws, regulations, professional standards, and KPMG AZSA policies;\\n\\nwork with the right clients and third parties;\\n\\nfocus on quality;\\n\\nnot tolerate any illegal or unethical acts, committed within KPMG AZSA, by clients or suppliers, or public officials with whom we deal;\\n\\nprotect information;\\n\\ncompete fairly;\\n\\nhelp our people to be extraordinary;\\n\\nbe responsible corporate citizens;\\n\\nbuild public trust.\\n\\n\\n\\nAll KPMG AZSA personnel are required to:\\n\\ncomply with both the Global Code of Conduct and the KPMG AZSA Code of Conduct and confirm their compliance with the Code of Conduct upon joining the firm and annually thereafter; \\n\\ncomplete regular training covering the Code of Conduct upon joining the firm and annually thereafter. \\n\\nIndividuals are encouraged to speak up when they see something that makes them uncomfortable or that is inconsistent with the KPMG values. Moreover, everyone at KPMG is responsible for reporting, and is required to report, any activity that could potentially be illegal or in violation of the KPMG values, KPMG policies, applicable laws, regulations, or professional standards.\\n\\nWe have procedures and established channels of communication so that our personnel can report ethical and quality issues. Retaliation is prohibited against individuals who ‘raise their hand’ and speak up in good faith. Also, all the information, including that related to fraud risk ( i.e., risks of material misstatements due to fraud) posted from KPMG internal and external parties are communicated with relating engagement partners, and their audit response is to be reported to head office. \\n\\nIn addition, the KPMG International hotline is a mechanism for all KPMG partners, employees, clients, and other external parties to confidentially report their concerns related to certain areas of activity by KPMG International itself, KPMG member firms or the senior leadership or employees of a KPMG member firm. At KPMG AZSA, we regularly monitor the extent to which our people feel we live the KPMG values through the Global People Survey (GPS) (refer to section 5. (7)).\\u3000\\n\\n\\nLeadership responsibilities for quality and risk management\\n\\nKPMG AZSA demonstrates commitment to quality, ethics, and integrity as well as communicates our focus on quality to clients, stakeholders, and society. Our leadership plays a critical role in setting the right tone and leading by example demonstrating an unwavering commitment to the highest standards of professional excellence and championing and supporting major initiatives.  \\n\\nOur leadership team is committed to building a culture based on quality, integrity, and ethics, demonstrated through their actions — written and video communications, presentations to teams, and one-to-one discussions. \\n\\nThe following individuals have leadership responsibilities for quality and risk management at KPMG AZSA.\\n\\n\\n\\nManaging partner\\n\\nIn accordance with the principles in ISQC1, our Managing Partner has assumed ultimate responsibility for KPMG AZSA’s system of quality control including audit response to fraud risk. \\n\\n\\n\\nThe Executive Board member in charge of Quality\\n\\nOperational responsibility for the system of quality control, risk management, and compliance in KPMG AZSA has been delegated to the Executive Board member in charge of Quality who is responsible for setting overall professional risk management and quality control policies and monitoring compliance for the firm. \\n\\nManaging Partner and the Executive Board member in charge of Quality communicate our internal policy about our system of quality control, and behavior and message prioritizing audit quality to professionals, through internal meetings and newsletters. \\n\\nEngagement partner is responsible for quality and risk management of each engagement involved.\\n\\n\\n\\n Association with the right clients\\n\\nAcceptance and continuance of clients and engagements\\n\\nOne of the keys to managing audit quality is to understand the nature of our clients and the issues they face and build a robust audit response to the identified risks.\\n\\nWe understand our clients are linked to the quality of our work and our reputation.'),\n",
       " Document(id=None, text='Rigorous client and engagement acceptance and continuance policies and processes help protect KPMG’s reputation, support the KPMG brand and are an important part to our ability to provide high-quality professional services. Accordingly, KPMG International has established policies and procedures which all member firms are required to implement in order to decide whether to accept or continue a client relationship, and whether to perform a specific engagement for that client.\\n\\n\\n\\nProspective client and engagement acceptance process  \\n\\nKPMG AZSA undertakes an evaluation of every prospective client.  \\n\\nThis involves background checks on the prospective client, its key management, and significant beneficial owners and then properly analyzing the information to be able to make an informed acceptance decision. This evaluation includes the completion of a questionnaire to assess the client’s risk profile and obtaining background information on the client, its key management, directors, and owners. We also obtain additional information required to satisfy our local legal and/or regulatory requirements.  \\n\\nA second partner, as well as the evaluating partner, approves each prospective client evaluation. Where the client is considered to be ‘high risk’, additional approvals by the Risk Management Partner and, in some cases, the office managing partner, or the Executive Board member in charge of Quality, are required.\\n\\n\\n\\nEngagement evaluation \\n\\nEach prospective engagement is also evaluated to identify potential risks in relation to the engagement. A range of factors are considered as part of this evaluation, including potential independence and conflict of interest issues (using Sentinel™, KPMG’s conflicts and independence checking system), intended purpose and use of engagement deliverables, as well as factors specific to the type of engagement. For audit services, these include the competence of the client’s financial management team, the skills and experience of personnel assigned to staff the engagement and fraud risk. The evaluation is made in consultation with other senior KPMG AZSA personnel and includes review by quality and risk management leadership as required.\\n\\nWhere audit services are to be provided for the first time, the prospective engagement team is required to perform additional independence evaluation procedures including a review of any non-audit services provided to the client and of other relevant business and personal relationships. \\n\\nSimilar independence evaluations are performed when an existing audit client becomes a public interest entity or additional independence restrictions apply following a change in the circumstances of the client. We follow specific procedures (detailed further in section 4.(2) ⑦) to identify and evaluate threats to independence for prospective audit clients that are public interest entities. \\n\\nDepending on the overall risk assessment of the prospective client and engagement, additional safeguards may be introduced to help mitigate the identified risks. Any potential independence or conflict of interest issues are required to be documented and resolved prior to acceptance.\\u3000\\n\\nA prospective client or engagement will be declined if a potential independence or conflict issue cannot be resolved satisfactorily in accordance with professional standards and our policies, or if there are other quality and risk issues that cannot be appropriately mitigated.\\n\\n\\n\\nContinuance process\\n\\nKPMG AZSA undertakes an annual re-evaluation of all its audit clients. The re-evaluation identifies any issues in relation to continuing association and any mitigating procedures that need to be put in place. \\n\\nRecurring or long-running non-audit engagements are also subject to the re-evaluation. In addition, clients and engagements are required to be re-evaluated if there is an indication that there may be a change in their risk profile. \\n\\n\\n\\nWithdrawal\\n\\nWhere we obtain information that indicates that we should withdraw from an engagement or from a client relationship, we consult internally and identify any required legal, professional, and regulatory responsibilities. We also communicate as necessary with those charged with governance and appropriate authority.\\n\\n\\n\\nClient portfolio management\\n\\nOur leadership appoints engagement partners who have the appropriate competence, capabilities, time and authority to perform the role for each engagement. \\n\\nWe review each audit partner’s client portfolio at least annually in individual discussions with the audit partner. The reviews consider the industry, nature, and risk of the client portfolio as a whole along with the competence, capabilities, and capacity of the partner to deliver a quality audit for every client.\\n\\n\\n\\n\\n\\n\\n\\n\\n\\n\\n\\n\\n\\n\\n\\n\\n\\n\\n\\n\\n\\n\\n\\n\\n\\n\\n\\n\\n\\n\\n\\n\\n\\n\\n\\n\\n\\n\\n\\n Clear standards and robust audit tools\\n\\nAll KPMG AZSA professionals are expected to adhere to KPMG International and KPMG AZSA policies and procedures, including independence policies. They are provided with a range of tools and guidance in order to meet these expectations. \\n\\nThe policies and procedures set for audit engagements incorporate the relevant requirements of accounting, auditing, ethical, and quality control standards, as well as other relevant laws and regulations.\\n\\n\\n\\nOur approach to audit'),\n",
       " Document(id=None, text='Our approach to audit\\n\\nKPMG has been investing significantly in evolving the network’s audit capabilities and will continue to do so in the coming years including a new global electronic audit workflow delivered through KPMG Clara platform — KPMG’s smart, modular audit platform — capable of continually integrating new and emerging technologies, with advanced capabilities embedded that leverage data, automation, and visualization. Data & Analytics (D&A) is integral to the way how KPMG member firms obtain audit evidence and interact with clients in the digital era. \\n\\nKPMG’s high-quality audit process will continue to include: \\n\\ntimely partner and manager involvement throughout the engagement;\\n\\naccess to the right knowledge including involvement of specialists, training and experience requirements, and relevant industry expertise;\\n\\ncritical assessment of all audit evidence obtained during the audit, exercising appropriate professional judgment;\\n\\nongoing mentoring, supervision, and review of the engagement team.\\n\\n\\n\\nConsistent audit methodology and tools\\n\\nSignificant resources are dedicated to keeping KPMG’s standards and tools complete and up to date. The KPMG audit methodology, developed by the Global Service Centre (GSC), is based on the requirements of the International Standards on Auditing (ISAs). The KPMG audit methodology is set out in KPMG Audit Manual (KAM) and includes additional requirements that go beyond the ISAs, which KPMG International believes enhance the audit quality. The methodology emphasizes applying appropriate professional skepticism in the execution of audit procedures and requires compliance with relevant ethical requirements, including independence. Enhancements to the audit methodology, guidance, and tools are made regularly to be in compliance with standards, emerging auditing areas of focus, and audit quality results (internal and external). Key topics include accounting estimates, internal control, revenue recognition, group audits, audit sampling and risk assessment.\\n\\n\\n\\nKPMG member firms may add local requirements and/or guidance in KAM to comply with additional professional, legal, or regulatory requirements. \\n\\nKAM contains examples and guidance for, among other things, procedures intended to identify and assess the risk of material misstatement and procedures to respond to those assessed risks. \\n\\nThe KPMG audit methodology encourages the use of specialists when appropriate, and also requires the involvement of relevant specialists in the core audit engagement team when certain criteria are met or where the audit team considers it appropriate or necessary. \\n\\nThe policies and procedures set out in KAM are specific to audits and supplement the policies and procedures set out in the Global Q&RM Manual that is applicable to all KPMG member firms, functions, and personnel. \\n\\nThe KPMG audit workflow is enabled through eAudIT, an activity-based workflow and electronic audit file. eAudIT is KPMG’s audit documentation workflow that allows 75,000+ professionals to complete high-quality and consistent audits. eAudIT integrates KPMG’s audit methodology, guidance, and industry knowledge as well as the tools needed to execute and document the audit work performed. \\n\\neAudIT can be “scaled” to present the relevant requirements and guidance, depending on the nature of the entity to be audited and in accordance with professional standards and applicable legal and regulatory requirements. It provides direct access to our audit guidance, professional standards, and documentation templates. \\n\\nSignificant investments are underway to revise and enhance the KPMG audit methodology (KAM) and workflow tool (eAudIT), with the deployment of KPMG Clara Workflow which was piloted in 2018 and is planned for initial deployment globally in 2019 and full deployment beginning in 2020..\\n\\n\\n\\nKPMG Clara, KPMG Clara Workflow and Audit Data & Analytics (D&A) \\n\\nKPMG International is making significant investments to improve audit quality, drive consistency in the execution of audits, and strengthen both the member firm and global monitoring of engagements. \\n\\n\\n\\nKPMG Clara\\n\\nIn 2017, KPMG International commenced the global launch of KPMG Clara — KPMG’s Smart Audit Platform — bringing together KPMG’s Audit Data & Analytics (D&A) capabilities, innovative new technologies, collaboration capabilities, and audit workflow. \\n\\nThis represents KPMG’s ambition to: \\n\\ntransform audit execution for our people and clients through new, modern technology-enabled interfaces and collaboration functionality; \\n\\nintegrate the required capability to digitize the audit and deliver new D&A routines; \\n\\nenable an enhanced and re-designed workflow; \\n\\nincorporate the development of monitoring capabilities at the engagement-level and across engagement portfolios for use by engagement teams and member firms; \\n\\nsupport global leadership’s monitoring of the effectiveness of member firm systems of quality control; \\n\\ndevelop an extendable audit platform to enable member firm customization and scale, as well as future capabilities.\\n\\n\\n\\n\\n\\nKPMG Clara Workflow'),\n",
       " Document(id=None, text=\"Building on the launch of KPMG Clara in 2017, KPMG International is creating a new workflow tool that will be used by KPMG audit teams to execute and document KPMG audits. It will be intuitive, user-friendly, and modern. The new system will genuinely be a workflow guiding audit teams through a series of steps in a logical sequence, with clearer display of information and visuals, knowledge and guidance available as and when needded, and with embedded advanced D&A capabilities. The workflow and methodology will also be scalable — adjusting the requirements to the size and complexity of the audit engagement. This globally driven project will significantly overhaul and redesign the execution of an audit by KPMG professionals and drive improvements in audit quality. \\n\\n\\n\\nAudit data & analytics (D&A)\\n\\nKPMG’s audit, powered by D&A:\\n\\nIt enhances audit quality by providing a deeper understanding of data populations, giving focus to higher risk transactions. \\n\\nIt is secure as it restricts access to data both in transit and within KPMG’s IT environments. \\n\\nIt provides transparency by facilitating detailed analysis to uncover the reasons behind, and root causes of, outliers and anomalies as well as providing increased visibility into higher risk transactions and process areas. \\n\\nD&A tools and routines are built on principles and professional standards underlying an audit and do not relieve auditors of their responsibilities. \\n\\n\\n\\nIndependence, integrity, ethics, and objectivity \\n\\nOverview\\n\\nAuditor independence is a cornerstone of international professional standards and regulatory requirements.\\n\\nKPMG International has detailed independence policies and procedures, incorporating the requirements of the IESBA Code of Ethics. These are set out in KPMG’s Global Q&RM Manual. Automated tools facilitate compliance with these requirements.\\u3000\\n\\nThese policies are supplemented by other processes to ensure compliance with the standards issued by the Certified Public Accountant Law and Code of Ethics issued by the JICPA.\\n\\nThese policies and processes cover areas such as firm independence, personal independence, firm financial relationships, post-employment relationships, partner rotation, and approval of audit and non-audit services. \\n\\nKPMG International has a Partner-in-Charge of the Global Independence Group, who is supported by a core team of specialists to help ensure that robust and consistent independence policies and procedures are in place at KPMG member firms, and that tools are available to help them and their personnel comply with these requirements.   \\n\\nKPMG AZSA has a designated Ethics and Independence Partner (EIP) who has primary responsibility for the direction and execution of ethics and independence policies and procedures. \\n\\nAmendments to KPMG International's ethics and independence policies in the course of the year are included in regular quality and risk communications.\\n\\nMember firms are required to implement changes as specified in the email alerts, and this is checked through the internal monitoring programs.\\n\\nKPMG AZSA personnel are required to consult with the EIP on certain matters as defined in our internal rules. Consultations may also be required with the Global Independence Group, depending upon the facts and circumstances.\\n\\n\\n\\nPersonal financial independence\\n\\nKPMG International policies require that KPMG member firms and KPMG professionals are free from prohibited financial interests in, and prohibited relationships with, KPMG member firm audit clients, their management, directors, and significant owners. The policies also extend the IESBA Code of Ethics restrictions on ownership of audit client securities to every partner and all staff who are manager grade or above in our firm in respect of any audit client of any member firm.\\n\\nKPMG AZSA professionals are responsible for making appropriate inquiries and taking other appropriate actions on an ongoing basis to ensure that they do not have any personal financial, business or family interests that are restricted for independence purposes. \\n\\nIn common with other KPMG member firms, we use a web-based independence compliance system (KICS) to assist our professionals in complying with personal independence investment policies. This system contains an inventory of publicly available investments. \\n\\nPartners and all manager grade and above client-facing personnel are required to use the KICS system prior to entering into an investment to identify whether they are permitted to do so. They are also required to maintain a record of all of their investments in KICS, which automatically notifies them if any investment subsequently becomes restricted. Newly restricted investments must be disposed of within five business days of the notification. \\n\\nKPMG monitors partner and manager compliance with this requirement as part of our program of independence compliance audits of a sample of professionals.\\n\\n\\n\\nEmployment relationships\\n\\nAny professional providing services to an audit client irrespective of function is required to notify our EIP, the engagement partner of an audit client, and the HR department if he or she intends to enter into employment negotiations with that audit client.\"),\n",
       " Document(id=None, text='Former members of the audit team or former partners of KPMG AZSA are prohibited from joining an audit client in certain roles unless they have disengaged from all significant connections to KPMG AZSA, including payments which are not fixed and determined and/or would be material to KPMG AZSA and ceased participating in KPMG AZSA business and professional activities.\\n\\nKey audit partners and members of the chain of command for an audit client that is a public interest entity are subject to time restrictions (referred to as ‘cooling-off’ periods) that preclude them from joining that client in certain roles until a defined period of time has passed. \\n\\nWe communicate and monitor requirements in relation to the employment of KPMG AZSA professionals by audit clients.\\n\\n\\n\\nFirm financial independence\\n\\nKPMG member firms must also be free from prohibited interests in, and prohibited relationships with, audit clients, their management, directors, and significant owners.\\n\\nIn common with other KPMG member firms, KPMG AZSA uses KICS to record its own investments (made, for example, through pension and retirement plans and treasury activities) in the web-based independence tracking system. This record is monitored through our compliance process.\\n\\n\\n\\nBusiness relationships/suppliers\\n\\nKPMG AZSA has policies and procedures in place that are designed to ensure its business relationships are maintained in accordance with the IESBA Code of Ethics, Japanese Certified Public Accountant Law, Code of Ethics issued by the JICPA and SEC, US PCAOB rule requirements.\\n\\n\\n\\nIndependence clearance process\\n\\nKPMG AZSA follows specific procedures to identify and evaluate threats to independence related to prospective audit clients that are public interest entities; these procedures, also referred to as ‘the independence clearance process,’ must be completed prior to accepting an audit engagement for these entities. \\n\\n\\n\\nIndependence training and confirmations\\n\\nAll KPMG AZSA partners and client service professionals, as well as certain other individuals, must complete independence training that is appropriate to their grade and function upon joining KPMG AZSA and on an annual basis thereafter. New personnel who are required to complete this training must do so by the earlier of (a) thirty days after joining KPMG AZSA or (b) before providing any services to, or becoming a member of the chain of command for, any audit client, including any of its related entities or affiliates.\\n\\nWe also provide all personnel with training on the Global Code of Conduct, the KPMG AZSA Code of Conduct and ethical behavior, including KPMG’s anti-bribery policies, compliance with laws, regulations, and professional standards, and reporting suspected or actual non-compliance with laws, regulations, professional standards, and KPMG’s policies on a biennial basis. New personnel are required to complete this training within three months of joining KPMG AZSA.\\n\\nUpon acceptance of employment, all KPMG personnel are required to confirm that they are in compliance with, and will abide by, applicable ethics and independence rules and policies. \\n\\nThereafter, all KPMG personnel are required to sign an annual confirmation stating that they have remained in compliance with applicable ethics and independence policies throughout the year covered by the confirmation as well as their understanding of, and compliance with, the applicable Code of Conduct. This confirmation is used to evidence the individual’s compliance with and understanding of KPMG’s independence policies.\\n\\n\\n\\nPartner rotation\\n\\nOur rotation policies, which are consistent with the Certified Public Accountant Law and JICPA Code of Ethics, require our firm to comply with any stricter local applicable rotation requirements. \\n\\nKPMG AZSA partners are subject to periodic rotation of their responsibilities for audit clients under applicable laws, regulations, independence rules, and KPMG International policy. \\n\\nThese requirements place limits on the number of years that partners in certain roles may provide audit services to a client followed by a “time-out” period during which time these partners may not participate in the audit, provide quality control for the audit, consult with the engagement team or the client regarding technical or industry-specific issues or in any way influence the outcome of the audit.\\n\\nKPMG AZSA monitors the rotation of audit engagement leaders (and any other key roles, such as the Key Audit Partner and EQC Reviewer, where there is a rotation requirement) and develops transition plans to enable the allocation of partners with the necessary competence and capability to deliver a consistent quality of service to clients. The partner rotation monitoring is subject to compliance testing.\\n\\n\\n\\nNon-audit services\\n\\nWe have policies that are consistent with IESBA principles and applicable laws and regulations, related to the scope of services that can be provided to audit clients.'),\n",
       " Document(id=None, text='We are required to establish and maintain a process to review and approve all new and modified services that are developed by KPMG AZSA. KPMG AZSA’s EIP is involved in the review of potential independence issues and the Global Independence Group is involved in the case of services developed which are intended to be delivered to audit or assurance clients in more than one jurisdiction. \\n\\nIn addition to identifying potential conflicts of interest, Sentinel™ facilitates compliance with these policies. \\n\\nCertain information on all prospective engagements, including service descriptions and fees, must be entered into Sentinel™ as part of the engagement acceptance process. Lead audit engagement partners are required to maintain group structures for their publicly traded and certain other audit clients as well as their affiliates in Sentinel™, and they are also responsible for identifying and evaluating any independence threats that may arise from the provision of a proposed non-audit service and the safeguards available to address those threats. Sentinel™ enables lead audit engagement partners for entities for which group structures are maintained to review and approve, or deny, any proposed service for those entities worldwide.\\n\\n\\n\\nFee dependency\\n\\nKPMG International’s policies recognize that self-interest or intimidation threats may arise when the total fees from an audit client represent a large proportion of the total fees of the member firm expressing the audit opinion. \\n\\nThey require that in the event that the total fees from a public interest entity audit client and its related entities were to represent more than 10 percent of the total fees received by a particular member firm for two consecutive years. \\n\\n This would be disclosed to those charged with governance at the audit entity; and \\n\\nEQC reviewer from another KPMG member firm would be appointed.  \\n\\nNo audit client accounted for more than 10 percent of the total fees received by KPMG AZSA over the last two years.\\n\\n\\n\\nAvoiding conflicts of interest\\n\\nConflicts of interest can arise in situations where KPMG AZSA personnel have a personal connection with the client which may interfere, or be perceived to interfere, with their ability to remain objective, or where they are personally in possession of confidential information relating to another party to a transaction. Consultation with the RMP or the EIP is required in these situations.\\u3000\\n\\nAll KPMG member firms and personnel are responsible for identifying and managing conflicts of interest, which are circumstances or situations that have, or may be perceived by a fully informed, reasonable observer, to have an impact on a member firm or its personnel in their ability to be objective or otherwise act without bias.\\n\\nAll KPMG member firms must use Sentinel™ for potential conflict identification so that these can be addressed in accordance with legal and professional requirements. KPMG AZSA has risk management resource/s (‘Resolver/s’) who is/are responsible for reviewing an identified potential conflict and working with the affected member firms to resolve the conflict, the outcome of which must be documented.\\n\\nIt may be necessary to apply specific procedures to manage the potential for a conflict of interest to arise, or be perceived to arise, so that the confidentiality of all clients’ affairs is maintained. Such procedures may, for example, include establishing formal dividers between engagement teams serving different clients, and making arrangements to monitor the operation of such dividers.\\n\\nEscalation and dispute resolution procedures are in place for situations in which agreement cannot be reached on how to manage a conflict. \\n\\nIf a potential conflict issue cannot be appropriately mitigated, the engagement is declined or terminated.\\n\\n\\n\\nBreaches of independence policy\\n\\nAll KPMG personnel are required to report an independence breach as soon as they become aware of it to the EIP. In the event of failure to comply with our independence policies, whether identified in the compliance review, self-declared or otherwise, professionals are subject to an independence disciplinary policy. \\n\\n\\n\\nKPMG AZSA has a documented disciplinary policy in relation to breaches of independence policies. The disciplinary policy is communicated to all professionals and applies to all breaches of independence rules, incorporating incremental sanctions reflecting the seriousness of any violations. \\n\\n\\n\\nAny breaches of auditor independence regulations are reported to those charged with governance at the audit client, on the basis agreed with them but at a minimum on an annual basis.\\u3000\\n\\n\\n\\nCompliance with laws, regulations, and anti-bribery and corruption \\n\\nCompliance with laws, regulation, and standards is a key aspect for all KPMG AZSA personnel. In particular, we have zero tolerance of bribery and corruption. \\n\\nWe prohibit involvement in any type of bribery — even if such conduct is legal or permitted under applicable law or local practice. We also do not tolerate bribery by third parties, including by our clients, suppliers or public officials.\\n\\nFurther information on KPMG International anti-bribery and corruption policies can be found on the anti-bribery and corruption site.\\n\\n\\nInsider trading prevention'),\n",
       " Document(id=None, text='Insider trading prevention\\n\\nIn order to prevent insider trading, KPMG AZSA has internal rules and procedures that aim to establish information credibility in the capital markets. These include the prohibition of holding or trading in the securities of audited entities and registration on a web-based independence tracking system to monitor personal investments in publicly traded companies in Japan and other jurisdictions. \\n\\nAll partners and employees understand our insider trading policy through appropriate training and provide an annual confirmation that they have remained in compliance with applicable policies throughout the period.\\n\\n\\n\\n Recruitment, development, and assignment of appropriately qualified personnel\\n\\nOne of the key drivers of quality is ensuring that our professionals have the appropriate skills and experience, passion and purpose, to deliver the highest quality in audit. This requires appropriate recruitment, development, promotion, and retention assignment of professionals. The KPMG performance development approach, linked to the KPMG values, is designed to articulate what is required for success — both individually and collectively. Ensuring audit quality is an essential element of the training, planning, and development underway to support the KPMG Clara Workflow roll-out and the associated updated KPMG audit methodology, with processes embedded in all KPMG learning programs.\\n\\n\\n\\nRecruitment\\n\\nKPMG AZSA strives to be an employer of choice by creating an environment where our people can fulfill their potential and feel proud and motivated to give their best.  \\n\\n\\n\\nAll candidates submit an application and are employed following a variety of selection processes, which may include application screening, competency-based interviews, psychometric and ability testing.\\n\\n\\n\\nKPMG AZSA does not accept any confidential information belonging to the candidate’s former firm/employer. Where individuals are recruited for senior grades (i.e. partner, director), a formal independence discussion is conducted with them by the EIP. \\n\\n\\n\\nThe Partner hire process is rigorous and thorough, involving appropriate members of leadership, including the Partners’ Meeting and the Senior Executive Board. Our criteria for Partner hires are consistent with our commitment to professionalism and integrity, quality, and being an employer of choice. \\n\\n\\n\\nPersonal development\\n\\nIt is important that all our professionals have the necessary business and leadership skills in addition to technical skills to be able to perform quality work.\\n\\n\\n\\nIn relation to audit, opportunities are provided for professionals to develop the skills, behaviors, and personal qualities that form the foundations of a career in auditing. Courses are available to enhance personal effectiveness and develop technical, leadership, and business skills.\\n\\nIn addition, training sessions are successively provided for each partner and employer to ensure the importance of  enhancing, keeping and exhibiting professional skepticism throughout the audit and also to provide member the appropriate opportunities of instruction and training about fraud. \\n\\nKPMG AZSA professionals are also developed for high performance through access to coaching and mentoring on the job, stretch assignments, and country rotational and global mobility opportunities.\\n\\n\\n\\nInclusion and Diversity programs\\n\\nKPMG AZSA works hard to foster an inclusive culture. Being inclusive enables us to bring together successful teams with the broadest range of skills, experiences, and perspectives.\\n\\nWe encourage each partner and employee with diverse personalities to achieve high performance toward the common goal of “contributing to audit clients and society through the provision of high-quality services”, while respecting and making the most of each other’s differences. \\n\\nKPMG AZSA adopts a variety of approaches to establish an environment conducive to more diverse and flexible work styles. Specific initiatives include: developing globally minded personnel; promoting women’s participation in the workforce; supporting our people as they balance work and childbirth, childcare, and nursing care; promoting employment of persons with disabilities; creating a corporate culture that allows and encourages our people to embrace diversity; and introducing teleworking, as well as changing the office work style more generally.\\n\\nFor more information about Inclusion & Diversity at KPMG, read here.\\n\\n\\nEvaluation process including quality and compliance metrics\\n\\nKPMG AZSA professionals, including partners, have annual goal-setting and performance reviews. Each professional is evaluated on his or her agreed-upon goals, demonstration of our leadership competencies, technical capabilities, and market knowledge. A culture of continuous improvement is encouraged to drive feedback, both formal and informal, from junior and senior colleagues, as well as peers. Feedback gathered forms an integral part of performance reviews. \\n\\n\\n\\nKPMG AZSA monitors quality and compliance incidents and maintains quality metrics in assessing the overall evaluation, promotion, and remuneration of partners, directors, and managers.\\n\\nPartners are also evaluated on key quality and compliance metrics. \\n\\nThese evaluations are conducted by performance managers and partners who are in a position to assess their performance and propose a performance rating. KPMG AZSA’s policy prohibits audit partners from being evaluated on or compensated based on their success in selling non-assurance services to audit clients.\\n\\n\\n\\n\\n\\n\\n\\nReward'),\n",
       " Document(id=None, text='Reward\\n\\nWe have compensation and promotion policies that are clear, simple, and linked to the performance review process which, for partners, includes the achievement of key audit quality and compliance metrics. This helps our partners and employees know what is expected of them, and what they can expect to receive in return. \\n\\nReward decisions are based on the consideration of both individual and organizational (member firm) performance. The extent to which our people feel their performance has been reflected in their reward is measured through the GPS, with action plans developed accordingly.\\n\\n\\n\\nPromotion\\n\\nThe results of performance evaluations directly affect the promotion and remuneration of partners and staff and, in some cases, their continued association with KPMG.\\n\\n\\n\\nPartner admissions\\n\\nOur process for admission to partnership is rigorous and thorough, involving appropriate members of leadership, including the Partners’ Meeting and the Senior Executive Board. \\n\\nOur criteria for admission to the KPMG AZSA partnership are consistent with our commitment to professionalism and integrity, quality and being an employer of choice. These are strongly aligned to KPMG’s behavioral capabilities and are based on consistent principles.\\n\\n\\n\\nAssignment of professionals\\n\\nKPMG AZSA has procedures in place to assign both the engagement partners and other professionals to a specific engagement on the basis of their skill sets, relevant professional and industry experience, and the nature of the assignment or engagement. \\n\\nFunction heads are responsible for the partner assignment process. Key considerations include partner experience and capacity based on an annual partner portfolio review to perform the engagement taking into account the size, complexity, and risk profile of the engagement and the type of support to be provided (i.e. the engagement team composition and specialist involvement). \\n\\nAudit engagement partners are required to be satisfied that their engagement teams have appropriate competencies, training and capabilities, including time, to perform audit engagements in accordance with KAM, professional standards, and applicable legal and regulatory requirements. This may include involving specialists from our own firm or other KPMG member firms. \\n\\n\\n\\nWhen considering the appropriate competence and capabilities expected of the engagement team as a whole, the engagement partner’s considerations may include the following: \\n\\nan understanding of, and practical experience with, audit engagements of a similar nature and complexity through appropriate training and participation;\\n\\nan understanding of professional standards and legal and regulatory requirements;\\n\\nappropriate technical skills, including those related to relevant information technology and specialized areas of accounting or auditing; \\n\\nknowledge of relevant industries in which the client operates;\\n\\nability to apply professional judgment; \\n\\nan understanding of KPMG AZSA’s quality control policies and procedures; \\n\\nQPR results and results of regulatory inspections, as well as ;\\n\\nInsights from our people (GPS). \\n\\n\\n\\nfrom our people —People Survey (GPS)\\n\\nBiennially, KPMG Japan invites all our people to participate in an independent GPS to share their perception about their experience working for KPMG. \\n\\nThe GPS provides an overall measure of our people’s engagement through an Employee Engagement Index (EEI) as well as insights into areas driving engagement which may be strengths or opportunities. The survey also identifies opportunities to strengthen those levels of engagement. Results can be analyzed by functional or geographic area, grade, role, gender to provide additional insight. Additional insight is provided on how we are faring on categories known to impact employee engagement.\\n\\nThe survey also specifically provides KPMG AZSA leadership and KPMG global leadership with results related to audit quality, upholding the KPMG values, employee and partner attitudes to quality, leadership, and tone at the top. \\n\\nKPMG AZSA participates in the GPS, monitors results, and takes appropriate actions to communicate and respond to the findings of the survey. \\n\\nThis includes monitoring GPS results including those related to:\\n\\naudit quality and tone at the top;\\n\\nemployee engagement through the EEI.\\n\\nThe GPS results are also aggregated for the KPMG network and are presented to the Global Board each year and appropriate follow-up actions agreed.\\n\\n\\n\\n Commitment to technical excellence and quality service delivery\\n\\nAll KPMG AZSA professionals are provided with the technical training and support they need. This includes access to specialists and the professional practice department, which are made up of senior professionals with extensive experience in audit, reporting, and risk management, either to provide resources to the engagement team or for consultation.\\u3000\\n\\nWhere the right resource is not available within KPMG AZSA, access is provided to a network of highly skilled KPMG professionals in other KPMG member firms. \\n\\nAt the same time, audit policies require professionals to have the appropriate knowledge and experience for their assigned engagements. \\n\\n\\n\\nLifetime learning strategy'),\n",
       " Document(id=None, text='Lifetime learning strategy\\n\\nIn addition to personal development discussed in the section above, our lifetime learning strategy is underpinned by policies requiring all professionals to maintain their technical competence as well as comply with applicable regulatory and professional development requirements. \\n\\n\\n\\nFormal training\\n\\nAnnual training priorities for development and delivery are identified by the Audit Learning and Development steering groups at global, regional and KPMG AZSA levels. Training is delivered using a blend of classroom, digital learning, and performance support to assist auditors on the job.\\u3000\\n\\nAudit Learning and Development teams work with subject matter experts and leaders from the GSC, the ISG and member firm Department of Professional Practice (DPP) as appropriate, to ensure the training is of the highest quality, is relevant to performance on the job, and is delivered on a timely basis. \\n\\n\\n\\nLicensing and mandatory requirements for IFRS and U.S. GAAP engagements\\n\\nLicensing\\n\\nAll KPMG AZSA professionals are required to comply with applicable professional license rules and satisfy the Continuing Professional Development (CPD) requirements in the jurisdiction where they practice. \\n\\nPolicies and procedures are designed to facilitate compliance with license requirements.\\n\\nWe are responsible for ensuring that audit professionals working on engagements have appropriate audit, accounting and industry knowledge, and experience in the local predominant financial reporting framework. \\n\\n\\n\\nMandatory requirements — IFRS and U.S.GAAP engagements\\n\\nWe have specific requirements for partners, managers, and EQC reviewers working on IFRS engagements, in countries where IFRS is not the predominant financial reporting framework. Similar policies apply to engagements performed outside the U.S. to report on financial statements or financial information prepared in accordance with U.S. GAAP and/or audited in accordance with the U.S. auditing standards, including reporting on the effectiveness of the entity’s internal control over financial reporting (ICOFR). \\n\\nThese require that the partner, manager, and EQC reviewer have completed relevant training and that the engagement team, collectively, has sufficient experience to perform the engagement or has implemented appropriate safeguards to address any shortfalls.\\n\\n\\n\\nAccess to specialist networks\\n\\nKPMG AZSA engagement teams have access to a network of local KPMG specialists as well as specialists in other KPMG member firms.  \\n\\nSpecialists who are members of an audit team and have overall responsibility for specialist involvement on an audit engagement have the competencies, capabilities, and objectivity to appropriately fulfill their role. Training on audit concepts is provided to these specialists.\\n\\nThe need for specialists (e.g. Information Technology, Tax, Actuarial, Forensic, Valuation) to be assigned to a specific audit engagement is considered as part of the audit engagement acceptance and continuance process.\\n\\n\\n\\nCulture of Consultation\\n\\nKPMG encourages a strong culture of consultation that supports member firm teams throughout their decision-making processes and is a fundamental contributor to audit quality.\\n\\nKPMG AZSA promotes a culture in which consultation is recognized as a strength and that encourages personnel to consult on difficult or contentious matters. \\n\\nTo assist audit engagement professionals in addressing difficult or contentious matters, protocols have been established for consultation and documentation of significant accounting and auditing matters, including procedures to facilitate resolution of differences of opinion on engagement issues. \\n\\nThese protocols include the policies and procedures for consultation when indicators suggesting material misstatements due to fraud are identified.\\n\\nAppropriate consultation support is provided to audit engagement professionals through our professional practice resources.\\n\\nTechnical auditing and accounting support is available to all member firms and their professionals through the GSC and ISG as well as the US Capital Markets Group for SEC foreign registrants. \\n\\n\\n\\nGlobal Services Centre (GSC)\\n\\nThe GSC’s mission is to drive success for KPMG’s global network of audit practices through collaboration, innovation, and technology. The GSC develops, maintains, and deploys KPMG’s audit methodology and technology-based tools used by KPMG audit professionals to facilitate effective and efficient audits. With three global locations, one in each region, the GSC audit team is made up of professionals with backgrounds in audit, IT, data science, mathematics, statistics, and more from around the world who bring diverse experiences and innovative ways of thinking to further evolve KPMG’s audit capabilities.\\n\\n\\n\\nInternational Standards Group (ISG)\\n\\nThe ISG works with Global IFRS and ISAs topic teams with geographic representation from around the world to promote consistency of interpretation of IFRS and auditing requirements between member firms, identify emerging issues, and develop global guidance on a timely basis. \\n\\nFurther details about the GSC and ISG and its activities are available in the KPMG International Transparency Report.\\n\\n\\n\\nMember firm professional practice resource'),\n",
       " Document(id=None, text='Appropriate consultation support on auditing and technical accounting matters is provided to audit engagement professionals through our professional practice resources (referred to as Department of Professional Practice or DPP). DPP also assists engagement teams where there are differences of opinion either within teams or with the EQC reviewer. Unresolved differences are required to be escalated to senior partners for final resolution. The ISG is also available for consultation when required.\\n\\nKPMG International policies include minimum requirements for member firm DPPs.\\n\\n\\n\\nDeveloping business understanding and industry knowledge\\n\\nA key part of quality is having a detailed understanding of the client’s business and industry.\\n\\nFor significant industries, global audit sector leads are appointed to support the development of relevant industry information, which is made available to audit professionals through the KPMG audit workflow. \\n\\nThis knowledge comprises examples of industry audit procedures and other information (such as typical risks and accounting processes). In addition, industry overviews are available that provide general and business information in respect of particular industries as well as a summary of the industry knowledge provided in the KPMG audit workflow.\\n\\n\\n\\n\\n\\n\\n\\n\\n\\n\\n\\n Performance of effective and efficient audits\\n\\nHow an audit is conducted is as important as the final result. KPMG AZSA personnel are expected to demonstrate certain key behaviors and follow certain policies and procedures in the performance of effective and efficient audits.\\n\\n\\n\\nOngoing mentoring, supervision, and review\\n\\nWe understand that skills are developed over time and through exposure to different experiences. To invest in the development of skills and capabilities of KPMG professionals, without compromising on quality, KPMG AZSA promotes a continuous learning environment and supports a coaching culture.  \\n\\nThe engagement partner, supported by the engagement manager, is responsible for driving a culture of coaching and continuous learning throughout the audit process and setting an example in the performance of the audit to drive a culture of continuous audit quality improvement.\\n\\nWe also have policies and procedures on supervision and review throughout the audit to respond appropriately to fraud risks. \\n\\nOngoing mentoring, coaching, and supervision during an audit involves:\\n\\nengagement partner participation in planning discussions;\\n\\ntracking the progress of the audit engagement;\\n\\nconsidering the competence and capabilities of the individual members of the engagement team, including whether they have sufficient time to carry out their work, whether they understand their instructions, and whether the work is being carried out in accordance with the planned approach to the engagement; \\n\\nhelping engagement team members address any significant matters that arise during the audit and modifying the planned approach appropriately;\\n\\nidentifying matters for consultation with more experienced team members during the engagement.\\n\\nA key part of effective mentoring and supervision is timely review of the work performed so that significant matters are promptly identified, discussed, and addressed.\\n\\nKPMG AZSA has policies and procedures to supervise and review the audit response to fraud risk.\\n\\n\\n\\nTimely engagement quality control (EQC) reviewers \\n\\nEQC reviewers are independent of the engagement team and have the appropriate experience and knowledge to perform an objective review of the more critical decisions and judgments made by the engagement team and the appropriateness of the financial statements.  \\n\\nAn EQC reviewer is required to be appointed for audits, including any related review(s) of interim financial information, of all listed entities, non-listed entities with a high public profile, engagements that require an EQC review under applicable laws or regulations, and other engagements as designated by the Risk Management Partner or country Head of Audit.\\n\\nThe EQC review takes place before the date of the auditor’s report and includes, among other matters:\\n\\nreview of selected audit documentation relating to significant judgments the engagement team made and the conclusions it reached; \\n\\nreview of the financial statements and proposed auditor’s report;\\n\\nevaluation of the conclusions reached in formulating the auditors’ report and consideration of whether the proposed report is appropriate.  \\n\\nAlthough the engagement partner is ultimately responsible for the resolution of financial reporting and auditing matters, the EQC reviewer must be satisfied that all significant questions raised have been resolved before an audit can be considered complete. \\n\\nWhere any possibility of material misstatements due to fraud is identified, an EQC reviewer is required to evaluate the appropriateness of the risk assessment, audit procedures performed, and audit evidence obtained by the audit team.\\n\\nKPMG AZSA is continually seeking to strengthen and improve the EQC reviewer’s role in audits, as this is a fundamental part of the system of audit quality control. To reinforce this, a number of actions have been taken, including: \\n\\nestablishing basic policies for EQC review on audit engagements;\\n\\nissuing guidance on EQC review to facilitate effective reviews;\\n\\nobtaining understandings about audit risks, inquiring EQC reviewers of issues on EQC reviews, and monitoring current status of EQC reviews.'),\n",
       " Document(id=None, text=\"The Senior Review Board, which consists of partners who have appropriate experience and knowledge to perform an objective review, monitors the status of the EQC review process and evaluates significant judgments made in the audit. \\n\\n\\n\\nReporting\\n\\nAuditing standards and related laws and regulations in Japan largely dictate the format and content of the auditors’ report that includes an opinion on the fair presentation of the client’s financial statements in all material respects. Experienced engagement partners form all audit opinions based on the audit performed.  \\n\\n\\n\\nIn preparing auditors’ reports, engagement partners have access to extensive reporting guidance and technical support through consultations with our DPP. Engagement partners have to request involvement of Senior Review Board where there are significant matters to be reported to users of the auditors' report, either as a qualification to the audit report or through the inclusion of an emphasis of matter paragraph. \\n\\n\\n\\nInsightful, open, and honest two-way communication \\n\\nTwo-way communication with those charged with governance, often identified as Audit & Supervisory Board, is key to audit quality and is a key aspect of reporting and service delivery. \\n\\nAt KPMG AZSA, we stress the importance of keeping those charged with governance informed of issues arising throughout the audit and the need to listen to and understand their views. We achieve this through a combination of reports and presentations, attendance at the Audit & Supervisory Board, and when appropriate ongoing discussions with management and members of the Audit & Supervisory Board. \\n\\n\\n\\nWe deliver insights such as our assessment of the appropriateness of significant accounting practices, including accounting policies, accounting estimates, financial statement disclosures, significant deficiencies in the design and operation of financial reporting systems, controls when such deficiencies come to our attention during the course of the audit and any uncorrected misstatements.\\n\\n\\n\\nKPMG Institute\\n\\nKPMG’s Global IFRS Institute provides the latest information about accounting and audit which influence many companies, to assist KPMG member firms and external parties. \\n\\nFor example, IFRS Institute (https://home.kpmg/xx/en/home/services/audit/international-financial-reporting-standards.html） provided by KPMG Global and KPMG AZSA web site provide  easy access to the information.\\n\\n\\n\\nCommunications between predecessor auditor and successor auditor\\n\\nWe have established policies and procedures about communications between predecessor auditor and successor auditor when there is a change of auditors. These communications are monitored at the firm level. \\n\\n\\n\\nClient confidentiality, information security, and data privacy\\n\\nThe importance of maintaining client confidentiality is emphasized through a variety of mechanisms including the Global and KPMG AZSA Code of Conduct, training, and the annual affidavit/confirmation process, that all KPMG professionals are required to complete. \\n\\nWe have a formal document retention policy concerning the retention period for audit documentation and other records relevant to an engagement in accordance with the relevant IESBA requirements as well as other applicable laws, standards, and regulations. \\n\\nWe have clear policies on information security that cover a wide range of areas. Data Privacy policies, which comply with the local Personal Information Protection Law, are in place governing the handling of personal information and associated training is required for all KPMG AZSA personnel.\\n\\n\\n\\nRisk associated information\\n\\nWe have a system in place for managing information relating to risk assessment and processes that ensure that significant auditing issues, including fraud risk, are communicated to succeeding engagement partners when there is a change of engagement partners.\\n\\n\\n\\n Commitment to continuous improvement\\n\\nKPMG is committed to continually improving the quality, consistency and efficiency of its audits. Integrated quality monitoring and compliance programs enable member firms to identify quality deficiencies, to perform root cause analysis as well as develop, implement, and report remedial action plans both in respect of individual audit engagements and KPMG system of quality control.\\n\\nKPMG International’s integrated quality and monitoring programs include the Quality Performance Review (QPR) program, the Risk Compliance Program (RCP), and the Global Compliance Review (GCR) program.\\n\\nThe quality monitoring and compliance programs are globally administered and consistent in their approach across all member firms, including the nature and extent of testing and reporting. KPMG AZSA compares the results of its internal monitoring programs with the results of those of any external inspection programs and takes appropriate action.\\n\\n\\n\\nInternal monitoring and compliance programs\\n\\nOur monitoring programs evaluate both:\\n\\nengagement performance in compliance with the applicable standards, applicable laws and regulation, and KPMG International policies and procedures;\\n\\nKPMG AZSA’s compliance with KPMG International policies and procedures and the relevance, adequacy and effective operation of key quality control policies and procedures.\\n\\nThe results and lessons from the integrated monitoring programs are communicated internally, and the overall results and lessons from the programs are considered and appropriate action is taken at the local, regional and global levels.\"),\n",
       " Document(id=None, text='Our internal monitoring program also contributes to the assessment of whether our system of quality control has been appropriately designed and effectively implemented as well as whether it operates effectively.\\u3000\\n\\nTwo inspection programs, developed and administered by KPMG International, are conducted annually across the Audit and Advisory functions, QPR and RCP.  \\n\\nAdditionally, all member firms are covered at least every three years by the cross-functional GCR program.\\n\\nParticipation in QPR, RCP, and GCR is a condition of ongoing membership of the KPMG network.\\n\\nFurther, in accordance with our system of quality control, we ensure the following processes are performed in order to  monitoraudit response to fraud risks.\\n\\nacceptance and continuance of clients and engagements;\\n\\ninstruction and training:\\n\\naudit process (including supervision and review, response to information arising from within and outside the firm, consultation, timely EQC reviewers and partner rotation);\\n\\ncommunications between predecessor auditor and successor auditor.\\n\\n\\n\\nAudit Quality Performance Reviews (QPRs)\\n\\nThe QPR program assesses engagement level performance and identifies opportunities to improve engagement quality. \\n\\nEach engagement leader is reviewed at least once in a three-year cycle. A risk-based approach is used to select engagements.\\n\\nKPMG AZSA conducts the annual QPR program in accordance with KPMG International QPR instructions.\\n\\nThe reviews are performed at the KPMG AZSA level and are monitored regionally and globally.\\n\\nMember firm Audit QPR reviews are overseen by a senior experienced lead reviewer independent from the member firm.\\n\\n\\n\\n(Reviewer selection, preparation, and process) \\n\\nThere are robust criteria for the selection of reviewers. \\n\\nTraining is provided to review teams and others overseeing the process, with a focus on topics of concern identified by audit oversight regulators and the need to be as rigorous as external reviewers.\\n\\n\\n\\n(Evaluations from Audit QPR)\\n\\nConsistent criteria are used to determine engagement ratings and member firm Audit practice evaluations. Audit engagements selected for review are rated as ‘Satisfactory’, ‘Performance Improvement Needed’ or ‘Unsatisfactory’. \\n\\n\\n\\n(Reporting)\\n\\nFindings from the QPR program are disseminated to member firm professionals through written communications; internal training tools; and periodic partner, manager and staff meetings. These areas are also emphasized in subsequent inspection programs to gauge the extent of continuous improvement.\\n\\nLead audit engagement partners are notified of less-than-satisfactory engagement (defined as ‘Performance Improvement Needed’ or ‘Unsatisfactory’) ratings on their respective cross-border engagements. \\n\\nAdditionally, lead audit engagement partners of parent companies/head offices are notified where a subsidiary/affiliate of their client group is audited by a member firm where significant quality issues have been identified during the QPR.\\n\\n\\n\\nRisk Compliance Program (RCP)\\n\\nKPMG International develops and maintains quality control policies and processes that apply to all member firms. These policies and processes, and their related procedures, include the requirements of ISQC 1. \\n\\nDuring the annual RCP, we perform a robust assessment program consisting of documentation of quality controls and procedures; related compliance testing; and reporting of exceptions, action plans, and conclusions.\\n\\nThe objectives of the RCP are to:\\n\\nmonitor, document, and assess the extent of compliance of KPMG AZSA system of quality control with Global Quality & Risk Management policies and key legal and regulatory requirements relating to the delivery of professional services; \\n\\nprovide the basis for KPMG AZSA to evaluate whether the firm and its personnel comply with relevant professional standards and applicable legal and regulatory requirements.\\n\\nWhere deficiencies are identified, we are required to develop appropriate action plans and monitor the status of each action item.\\n\\n\\n\\nGlobal Compliance Review (GCR) program\\n\\nEach member firm is subject to a GCR conducted by KPMG International’s GCR team, independent of the member firm, at least once in a three-year cycle. \\n\\nThe GCR team performing the reviews is independent of the KPMG member firm and is objective and knowledgeable of Global Quality and Risk Management policies. GCRs assess compliance with selected KPMG International policies and procedures and share best practices among member firms. \\n\\n The GCR provides an independent assessment of:\\n\\na member firm’s commitment to quality and risk management (tone at the top) and the extent to which its overall structure, governance, and financing support and reinforce this commitment;\\n\\na member firm’s compliance with key KPMG policies and procedures; \\n\\nthe robustness with which the member firm performs its own compliance program (RCP).'),\n",
       " Document(id=None, text='We develop action plans to respond to all GCR findings and agree these with the GCR team. Our progress on action plans is monitored by the GCR central team. Results are reported to the Global Quality & Risk Management Steering Group (GQ&RMSG), and where necessary to appropriate KPMG International and regional leadership, to help ensure timely remedial actions taken by the member firm.\\n\\n\\n\\nRoot Cause Analysis (RCA)\\n\\nKPMG AZSA performs RCA to identify and address audit quality issues in order to prevent them from recurring and help identify good practices as part of continuous improvement. \\n\\nIt is the responsibility of member firms to perform RCA and thereby identify and subsequently develop appropriate remediation plans for the audit quality issues identified.\\n\\nKPMG AZSA’s Head of Audit is responsible for the development and implementation of action plans as a result of RCA, including identification of solution owners. The Risk Management Partner monitors their implementation.\\n\\n\\n\\nRecommendations for improvements\\n\\nAt a global level, through the GAQSC and the GQ&RMSG, KPMG International reviews the results of the quality monitoring programs, analyzes member firm root causes and action plans, and develops additional global actions as required. \\n\\nTo date, global remediation plans developed by KPMG International have been aimed at changing culture and behavior across the KPMG network and at driving consistent engagement team performance within KPMG member firms. The remediation plans have been implemented through the development of global training, tools, and guidance to drive consistency as well as ensure the fundamentals are right and that best practice is shared across the KPMG network.\\n\\n\\n\\nExternal feedback and dialogue\\n\\nRegulators \\n\\nThe Certified Public Accountants and Auditing Oversight Board (CPAAOB), as a regulator, monitors the quality control reviews performed by the JICPA to ascertain fairness, neutrality, and affectivity of the JICPA. \\n\\nThe CPAAOB reviews and examines reports of quality control reviews by the JICPA and, if deemed necessary, conducts on-site inspections of the JICPA, audit firms, etc.\\n\\nAt an international level, KPMG International has regular two-way communication with the International Forum of Independent Audit Regulators (IFIAR) to discuss audit quality findings and actions taken to address such issues at a network level.\\n\\n\\n\\nClient feedback\\n\\nWe proactively seek feedback from clients to monitor their satisfaction with services delivered. \\n\\nWe endeavor to take this feedback and make dynamic changes at both the engagement level and firm level to meet clients’ needs.\\n\\n\\n\\n23\\n\\n\\n\\nTyp済_cleanコメント集約版131条通知記載事項_Complete_201907w.docx - 2019/08/05\\n\\n\\n\\n© 2019 . All rights reserved.\\n\\n© 2019 . All rights reserved.1')]"
      ]
     },
     "execution_count": 18,
     "metadata": {},
     "output_type": "execute_result"
    }
   ],
   "source": [
    "documents"
   ]
  },
  {
   "cell_type": "code",
   "execution_count": 6,
   "id": "e2ab51f5-84b3-47cb-9c1f-f84eb3eaace2",
   "metadata": {},
   "outputs": [
    {
     "data": {
      "text/plain": [
       "15"
      ]
     },
     "execution_count": 6,
     "metadata": {},
     "output_type": "execute_result"
    }
   ],
   "source": [
    "len(documents)"
   ]
  },
  {
   "cell_type": "code",
   "execution_count": 8,
   "id": "34193c4c-b5a6-4a4c-b2c1-8a5337347798",
   "metadata": {
    "collapsed": true,
    "jupyter": {
     "outputs_hidden": true
    }
   },
   "outputs": [
    {
     "data": {
      "text/plain": [
       "Document(id=None, text='KPMG AZSA is required to implement KPMG International policies and procedures and also adopts additional policies and procedures that are designed to address rules and standards issued by the Financial Services Agency and JICPA, and other relevant regulators as well as applicable legal and regulatory requirements. Amendments to risk and quality policies, including ethics and independence policies, are included in quality and risk management alerts and are communicated by email.\\n\\nKPMG AZSA is required to implement changes specified in the email alerts and this is checked through internal monitoring.\\n\\nQuality control and risk management are the responsibility of all KPMG AZSA personnel. This responsibility includes the need to understand and adhere to firm policies and associated procedures in carrying out their day-to-day activities. The system of quality control applies to all KPMG personnel wherever they are based.\\n\\nWhile many KPMG’s quality control processes are cross-functional and apply equally to advisory work, the remainder of this section focuses on the delivery of quality audits.  \\n\\n\\n\\nAudit quality framework\\n\\nAt KPMG AZSA, audit quality is not just about reaching the right opinion but how that opinion is reached. It is about the processes, thought, and integrity behind the auditors’ report. The outcome of a quality audit is the delivery of an appropriate and independent opinion in compliance with relevant professional standards and applicable legal and regulatory requirements.\\n\\nTo help all audit professionals concentrate on the fundamental skills and behaviors required to deliver a quality audit, KPMG International has developed the Audit Quality Framework. This framework uses a common language that is adopted by all KPMG member firms, including KPMG AZSA, to describe what the KPMG network believes drives audit quality, and to highlight how every audit professional at each KPMG member firm contributes to the delivery of audit quality. \\n\\n\\n\\nTone at the top sits at the core of the Audit Quality Framework’s seven drivers of audit quality and helps ensure that the right behaviors permeate across the entire KPMG network. All of the other drivers create a virtuous circle because each driver is intended to reinforce the others. Each of the seven drivers is described in more detail in the following sections of this report.\\n\\n\\n\\n \\n\\n\\n\\n\\n\\n\\n\\n\\n\\n\\n\\n\\n\\n\\n\\n\\n\\n\\n\\n\\n\\n\\n\\n\\n\\n\\n\\n\\n\\n\\n\\n\\n\\n\\n\\n\\n\\n\\n\\n Tone at the top\\n\\nThe culture of KPMG International and KPMG member firms is underpinned by a strong set of values and supporting policies and processes, which enable the right attitudes and behaviors to permeate throughout the KPMG network. \\n\\nOur global leadership, working with regional and member firm leaderships, plays a critical role in establishing our commitment to quality and the highest standards of professional excellence. A culture based on quality, integrity and ethics is essential in an organization that carries out audits and other services on which stakeholders and investors rely. \\n\\nAt KPMG AZSA, we promote a culture in which consultation is encouraged and recognized as a strength.\\n\\n\\n\\nTone at the top means that KPMG AZSA leadership demonstrates commitment to quality, ethics, and integrity as well as communicates its commitment to clients, stakeholders, and society at large. Integrity is a critical characteristic that stakeholders expect and rely on. It is also the key KPMG value — “Above all, we act with integrity”. Integrity means constantly striving to uphold the highest professional standards, providing sound good-quality advice, and rigorously maintaining our independence. \\n\\nThe KPMG values, which have been explicitly codified for a number of years, are embedded into working practices and compliance culture at KPMG AZSA. \\n\\nThe KPMG values form the foundation of our culture and set the tone at the top. They also form the foundation of the KPMG approach to audit and shape how we work together. We communicate the KPMG values clearly to our people and embed them into our people processes — induction, performance development, and reward.\\n\\n\\n\\nKPMG Global Code of Conduct \\n\\nKPMG’s commitment to integrity and quality is enshrined in the KPMG values that lie at the heart of the way we do things. They define KPMG’s diverse and inclusive culture and our commitment to the right personal and professional conduct. The KPMG values emphasize that, above all, KPMG personnel act with integrity, uphold the highest professional standards, and provide sound advice while rigorously maintaining independence and complying with laws, regulations, and professional standards. The KPMG values are communicated clearly to all people and are embedded into member firms’ people processes — induction, performance development, and reward.\\n\\nBuilding on the KPMG values is the KPMG Global Code of Conduct.\\n\\nMember firms, including KPMG AZSA, are required to adopt, as a minimum, the Global Code of Conduct.  \\n\\n\\n\\nKPMG AZSA Code of Conduct')"
      ]
     },
     "execution_count": 8,
     "metadata": {},
     "output_type": "execute_result"
    }
   ],
   "source": [
    "documents[1]"
   ]
  },
  {
   "cell_type": "markdown",
   "id": "5de02e9a-da93-4042-b264-d722a8f19de1",
   "metadata": {
    "jp-MarkdownHeadingCollapsed": true
   },
   "source": [
    "## Azure OpenAI Models Translate document chunks to Japanese form"
   ]
  },
  {
   "cell_type": "code",
   "execution_count": 7,
   "id": "0366a98f-bbfa-4742-a73d-7f023f991b2e",
   "metadata": {},
   "outputs": [
    {
     "name": "stdout",
     "output_type": "stream",
     "text": [
      "The dotenv extension is already loaded. To reload it, use:\n",
      "  %reload_ext dotenv\n"
     ]
    }
   ],
   "source": [
    "%load_ext dotenv\n",
    "%dotenv"
   ]
  },
  {
   "cell_type": "code",
   "execution_count": 26,
   "id": "f4c9e034-f172-45c5-8147-99e3b5846443",
   "metadata": {},
   "outputs": [],
   "source": [
    "import os \n",
    "from typing import List\n",
    "import time\n",
    "# from dotenv import load_dotenv, find_dotenv\n",
    "# from models.models import Document, TranslateResult, ApiType, TranslateType\n",
    "import openai\n",
    "\n",
    "\n",
    "\n",
    "def call_openai(sys_prompt: str, user_prompt: str, api_type: str):\n",
    "    \n",
    "    messages = [\n",
    "        {\"role\": \"system\", \"content\": sys_prompt},\n",
    "        {\"role\": \"user\", \"content\": user_prompt}\n",
    "    ]\n",
    "    \n",
    "    \n",
    "    if api_type not in ApiType.__members__:\n",
    "        raise HTTPException(status_code=500, detail=f\"Only support Azure and OpenAI\")\n",
    "        \n",
    "        \n",
    "    if api_type == ApiType.azure.value:\n",
    "        print(\"You are here already\")\n",
    "        # engine=\"gpt-35-turbo\"\n",
    "        engine=\"gpt-4\"\n",
    "        openai.api_type = api_type\n",
    "        openai.api_key = os.environ['AZURE_API_KEY']\n",
    "        openai.api_base = os.environ['AZURE_API_BASE']\n",
    "        openai.api_version = os.environ['AZURE_API_VERSION']\n",
    "        response = openai.ChatCompletion.create(\n",
    "            engine=engine,\n",
    "            messages=messages,\n",
    "            temperature=float(os.environ['TEMPERATURE']),\n",
    "            max_tokens=3000,\n",
    "            # request_timeout=240,\n",
    "            top_p=0.95,\n",
    "            frequency_penalty=0,\n",
    "            presence_penalty=0,\n",
    "            stop=None\n",
    "        )\n",
    "        return response\n",
    "    \n",
    "    \n",
    "    elif api_type == ApiType.open_ai.value:\n",
    "        openai.api_key = os.environ['OPENAI_API_KEY']\n",
    "        openai.organization = os.environ[\"OPENAI_ORG\"] \n",
    "        response = openai.ChatCompletion.create(\n",
    "            model=os.environ[\"OPENAI_MODEL\"],\n",
    "            messages=messages,\n",
    "            temperature=float(os.environ['TEMPERATURE'])\n",
    "        )\n",
    "        return response\n",
    "\n",
    "\n",
    "def get_translate_results(batch_id, texts: List[Document], translate_type:str, api_type: str) -> List[TranslateResult]:\n",
    "    \n",
    "    results = []\n",
    "    retries = 3   \n",
    "    missed_batch_indexes = []\n",
    "\n",
    "    sys_prompt = os.environ[translate_type.upper()]\n",
    "    # print(sys_prompt)\n",
    "    \n",
    "    # while retries > 0: \n",
    "    for i, text in enumerate(texts):\n",
    "        print(i)\n",
    "        # print(text.text)\n",
    "        \n",
    "        try:\n",
    "            response = call_openai(sys_prompt=sys_prompt, user_prompt=text.text, api_type=api_type)\n",
    "            time.sleep(5)\n",
    "            if response:\n",
    "                choices = response[\"choices\"] \n",
    "                completion = choices[0].message.content.strip()\n",
    "                print(completion)\n",
    "                result = TranslateResult(original_content=text.text, translated_content=completion)\n",
    "                results.append(result)\n",
    "                # retries -= 1\n",
    "        except Exception as e:    \n",
    "             if e: \n",
    "                 print(e)   \n",
    "                 print('Timeout error, retrying...')  \n",
    "                 missed_batch_indexes.append([i, batch_id])\n",
    "                 # retries -= 1    \n",
    "                 time.sleep(5)    \n",
    "             else:    \n",
    "                 raise e\n",
    "        # retries = -1\n",
    "      \n",
    "    return results, missed_batch_indexes"
   ]
  },
  {
   "cell_type": "code",
   "execution_count": 27,
   "id": "d6bebc91-2785-41b6-b739-8eecfcc21e43",
   "metadata": {},
   "outputs": [
    {
     "data": {
      "text/plain": [
       "15"
      ]
     },
     "execution_count": 27,
     "metadata": {},
     "output_type": "execute_result"
    }
   ],
   "source": [
    "len(documents)"
   ]
  },
  {
   "cell_type": "code",
   "execution_count": 28,
   "id": "ff62f441-a365-43e4-9db6-0cd93717d1d9",
   "metadata": {
    "collapsed": true,
    "jupyter": {
     "outputs_hidden": true
    }
   },
   "outputs": [
    {
     "name": "stdout",
     "output_type": "stream",
     "text": [
      "Handling batch no 0\n",
      "0\n",
      "You are here already\n",
      "ABCD\n",
      "\n",
      "○○○○株式会社御中\n",
      "\n",
      "有限責任あずさ監査法人の品質管理システム\n",
      "\n",
      "2012年6月\n",
      "\n",
      "英語翻訳-参照用のみ\n",
      "\n",
      "これは、日本国外の読者の便宜のために作成された日本語オリジナル版の非公式な翻訳です。日本語オリジナルとこの翻訳の間に相違がある場合は、日本語オリジナルが優先されます。\n",
      "\n",
      "法人計算規則第131条に基づく法人監査人等への報告事項の通知\n",
      "\n",
      "XX 2019\n",
      "\n",
      "KPMG AZSA LLC\n",
      "\n",
      "目次\n",
      "\n",
      "1. 品質管理システム\t1\n",
      "\n",
      "2. トップのトーン\t3\n",
      "\n",
      "(1)\t品質とリスク管理のリーダーシップ責任\t4\n",
      "\n",
      "3. 適切なクライアントとの関わり\t5\n",
      "\n",
      "(1)\tクライアントとエンゲージメントの受け入れと継続\t5\n",
      "\n",
      "(2)\t見込みクライアントとエンゲージメント受け入れプロセス\t5\n",
      "\n",
      "(3)\t継続プロセス\t6\n",
      "\n",
      "(4)\t撤退\t6\n",
      "\n",
      "(5)\tクライアントポートフォリオ管理\t6\n",
      "\n",
      "4. 明確な基準と堅牢な監査ツール\t7\n",
      "\n",
      "(1)\t監査へのアプローチ\t7\n",
      "\n",
      "(2)\t独立性、誠実性、倫理性、客観性\t9\n",
      "\n",
      "5. 適切に資格を持った人材の採用、育成、配置\t13\n",
      "\n",
      "(1)\t採用\t14\n",
      "\n",
      "(2)\t個人の成長\t14\n",
      "\n",
      "(3)\tインクルージョンとダイバーシティプログラム\t14\n",
      "\n",
      "(4)\t品質とコンプライアンス指標を含む評価プロセス\t15\n",
      "\n",
      "(5)\tパートナーの採用\t15\n",
      "\n",
      "(6)\t専門家の配置\t15\n",
      "\n",
      "(7)\t私たちの人々から - グローバル・ピープル・サーベイ（GPS）\t16\n",
      "\n",
      "6. 技術的卓越性と品質サービス提供への取り組み\t17\n",
      "\n",
      "(1)\tライフタイム・ラーニング戦略\t17\n",
      "\n",
      "(2)\tIFRSおよび米国GAAPエンゲージメントに対するライセンスおよび必須要件\t17\n",
      "\n",
      "(3)\t専門家ネットワークへのアクセス\t18\n",
      "\n",
      "(4)\tコンサルテーション文化\t18\n",
      "\n",
      "(5)\tビジネス理解と業界知識の開発\t19\n",
      "\n",
      "7. 効果的かつ効率的な監査の実施\t19\n",
      "\n",
      "(1)\t継続的な指導、監督、レビュー\t19\n",
      "\n",
      "(2)\t適時なエンゲージメント品質管理（EQC）レビュアー\t20\n",
      "\n",
      "(3)\t報告\t20\n",
      "\n",
      "(4)\t洞察力のある、オープンで正直な双方向コミュニケーション\t21\n",
      "\n",
      "(5)\t前任監査人と後任監査人間のコミュニケーション\t21\n",
      "\n",
      "(6)\tクライアントの機密性、情報セキュリティ、データプライバシー\t21\n",
      "\n",
      "(7)\tリスク関連情報\t21\n",
      "\n",
      "8. 持続的な改善への取り組み\t22\n",
      "\n",
      "(1)\t内部監査およびコンプライアンスプログラム\t22\n",
      "\n",
      "(2)\t外部からのフィードバックと対話\t24\n",
      "\n",
      "品質管理システム\n",
      "\n",
      "概要\n",
      "\n",
      "KPMG AZSAは、KPMGインターナショナルの方針と手順を実施し、金融庁の企業会計審議会、日本政府、日本公認会計士協会（JICPA）およびその他の規制当局が発行する規則および基準、公認会計士法、会社法、金融商品取引法、その他の関連法規、JICPAの監査に関する監査基準および品質管理基準、JICPAの倫理規程および監査に関する実務指針に対処するための追加の方針と手順を採用しています。\n",
      "\n",
      "堅牢で一貫した品質管理システムは、高品質なサービスを提供する上で不可欠な要件です。したがって、KPMGインターナショナルには、すべてのメンバーファームに適用される品質管理方針があります。これらは、すべてのKPMGスタッフが利用できるKPMGのグローバル品質＆リスク管理マニュアル（グローバルQ＆RMマニュアル）に含まれています。\n",
      "\n",
      "これらの方針と関連する手順は、メンバーファームが関連する専門基準、規制および法的要件に準拠し、状況に適した報告書を発行するのを支援するために設計されており、メンバーファームの人員が誠実さと客観性を持って仕事を遂行するのを助けます。これらの方針と手順は、国際監査および保証基準審議会（IAASB）が発行した国際品質管理基準1（ISQC 1）および国際倫理基準審議会（IESBA）が発行した専門会計士の倫理規程に基づいています。これらは、法定監査およびその他の保証および関連サービスエンゲージメントを実施するメンバーファームに関連しています。\n",
      "1\n",
      "You are here already\n",
      "KPMG AZSAは、KPMGインターナショナルのポリシーと手順を実施することが求められており、また、金融庁やJICPA、その他の関連規制当局が発行する規則や基準、適用される法律や規制要件に対処するために設計された追加のポリシーと手順を採用しています。リスクおよび品質ポリシーの改訂、倫理および独立性ポリシーを含む、品質およびリスク管理アラートに含まれ、メールで通知されます。\n",
      "\n",
      "KPMG AZSAは、メールアラートで指定された変更を実施することが求められており、これは内部監視を通じて確認されます。\n",
      "\n",
      "品質管理とリスク管理は、すべてのKPMG AZSAスタッフの責任です。この責任には、日常業務を行う際に、企業のポリシーおよび関連手順を理解し、遵守する必要性が含まれます。品質管理システムは、どこに拠点を置いているかに関係なく、すべてのKPMGスタッフに適用されます。\n",
      "\n",
      "多くのKPMGの品質管理プロセスは横断的であり、アドバイザリー業務にも同様に適用されますが、このセクションの残りの部分は、品質監査の提供に焦点を当てています。\n",
      "\n",
      "\n",
      "\n",
      "監査品質フレームワーク\n",
      "\n",
      "KPMG AZSAでは、監査品質は正しい意見に達するだけでなく、その意見がどのように達成されるかについても重要です。それは、監査報告書の背後にあるプロセス、思考、および誠実さについてです。品質監査の結果は、関連する専門基準および適用される法律および規制要件に準拠した適切で独立した意見の提供です。\n",
      "\n",
      "すべての監査専門家が品質監査を提供するために必要な基本的なスキルと行動に集中できるように、KPMGインターナショナルは監査品質フレームワークを開発しました。このフレームワークは、KPMGネットワークが監査品質を駆動すると考えるものを説明するために、KPMG AZSAを含むすべてのKPMGメンバーファームが採用する共通の言語を使用しています。そして、各KPMGメンバーファームのすべての監査専門家が監査品質の提供に貢献する方法を強調しています。\n",
      "\n",
      "\n",
      "\n",
      "トップのトーンは、監査品質フレームワークの7つの監査品質ドライバーの中核に位置し、適切な行動がKPMGネットワーク全体に浸透することを確認します。他のすべてのドライバーは、それぞれが他のドライバーを強化することを目的としているため、徳の円を作ります。この報告書の以下のセクションで、7つのドライバーのそれぞれが詳しく説明されています。\n",
      "\n",
      "\n",
      "\n",
      "トップのトーン\n",
      "\n",
      "KPMGインターナショナルおよびKPMGメンバーファームの文化は、強力な価値観および支援ポリシーおよびプロセスに基づいており、これにより、適切な態度と行動がKPMGネットワーク全体に浸透します。\n",
      "\n",
      "グローバルリーダーシップは、地域およびメンバーファームのリーダーシップと連携して、品質と最高の専門的卓越性への取り組みを確立する重要な役割を果たしています。品質、誠実さ、倫理に基づく文化は、利害関係者や投資家が依存する監査およびその他のサービスを実施する組織にとって不可欠です。\n",
      "\n",
      "KPMG AZSAでは、相談が奨励され、強みとして認識される文化を推進しています。\n",
      "\n",
      "トップのトーンは、KPMG AZSAのリーダーシップが品質、倫理、誠実さに対するコミットメントを示し、顧客、利害関係者、および社会全体にそのコミットメントを伝えることを意味します。誠実さは、利害関係者が期待し、依存する重要な特性です。また、KPMGの主要な価値でもあります。「何よりも、誠実に行動する」。誠実さとは、最高の専門基準を常に維持し、適切で良質なアドバイスを提供し、独立性を厳密に維持することを意味します。\n",
      "\n",
      "KPMGの価値観は、長年にわたって明確に規定されており、KPMG AZSAの業務慣行およびコンプライアンス文化に組み込まれています。\n",
      "\n",
      "KPMGの価値観は、私たちの文化の基盤であり、トップのトーンを設定します。また、KPMGの監査アプローチの基盤を形成し、私たちがどのように協力して働くかを形作ります。私たちは、KPMGの価値観を明確に伝え、それらを人々のプロセス（入社、業績開発、報酬）に組み込みます。\n",
      "\n",
      "\n",
      "\n",
      "KPMGグローバル行動規範\n",
      "\n",
      "KPMGの誠実さと品質への取り組みは、私たちが物事を行う方法の中心にあるKPMGの価値観に具体化されています。それらは、KPMGの多様で包括的な文化と、適切な個人的および専門的行動への取り組みを定義しています。KPMGの価値観は、何よりも、KPMGの人々が誠実に行動し、最高の専門基準を維持し、適切なアドバイスを提供しながら、独立性を厳密に維持し、法律、規制、および専門基準に準拠することを強調しています。KPMGの価値観は、すべての人々に明確に伝えられ、メンバーファームの人々のプロセス（入社、業績開発、報酬）に組み込まれています。\n",
      "\n",
      "KPMGの価値観に基づいて、KPMGグローバル行動規範が構築されています。\n",
      "\n",
      "メンバーファーム、KPMG AZSAを含む、は、最低限、グローバル行動規範を採用することが求められています。\n",
      "\n",
      "\n",
      "\n",
      "KPMG AZSA行動規範\n",
      "2\n",
      "You are here already\n",
      "KPMG AZSA行動規範は、KPMG AZSAのすべてのパートナーと従業員に対する倫理的行動の期待を示し、KPMGの価値観、KPMGの信念と原則の共有セットを基盤としています。また、KPMG AZSA行動規範は、各パートナーと従業員が、自分の職務機能と責任レベルに適用される法的、専門的、倫理的基準を遵守する個人的責任を強調しています。KPMG AZSA行動規範は、私たちのコミットメントを示し、要約すると、KPMGの人員に以下のことを求める規定を含んでいます。\n",
      "\n",
      "すべての適用法、規制、専門基準、およびKPMG AZSAの方針を遵守する;\n",
      "\n",
      "適切なクライアントや第三者と協力する;\n",
      "\n",
      "品質に重点を置く;\n",
      "\n",
      "KPMG AZSA内で行われた違法行為や不正行為、クライアントやサプライヤーによる違法行為や不正行為、取引する公務員による違法行為や不正行為を容認しない;\n",
      "\n",
      "情報を保護する;\n",
      "\n",
      "公正に競争する;\n",
      "\n",
      "私たちの人々を卓越した存在にする手助けをする;\n",
      "\n",
      "責任ある企業市民である;\n",
      "\n",
      "公の信頼を築く。\n",
      "\n",
      "\n",
      "\n",
      "すべてのKPMG AZSAの人員は、以下を行うことが求められます。\n",
      "\n",
      "グローバル行動規範およびKPMG AZSA行動規範を遵守し、入社時およびその後毎年、行動規範の遵守を確認する;\n",
      "\n",
      "入社時およびその後毎年、行動規範に関する定期的な研修を受ける。\n",
      "\n",
      "個人は、自分が不快に感じることやKPMGの価値観と矛盾することを見たときに声を上げることが奨励されています。また、KPMGのすべての人々は、報告する責任があり、違法行為やKPMGの価値観、KPMGの方針、適用法、規制、専門基準に違反する可能性のある活動を報告することが求められています。\n",
      "\n",
      "私たちは、倫理的および品質問題を報告できる手続きとコミュニケーションチャネルを確立しています。善意で手を挙げて声を上げる個人に対する報復は禁止されています。また、KPMGの内部および外部の関係者からの詐欺リスク（つまり、詐欺による重要な誤りのリスク）に関連する情報は、関連するエンゲージメントパートナーに伝えられ、その監査対応が本社に報告されることになっています。\n",
      "\n",
      "さらに、KPMGインターナショナルホットラインは、KPMGのパートナー、従業員、クライアント、および他の外部関係者が、KPMGインターナショナル自体、KPMGメンバーファーム、またはKPMGメンバーファームの上級リーダーシップまたは従業員による特定の活動領域に関連する懸念を機密で報告できる仕組みです。KPMG AZSAでは、Global People Survey（GPS）（セクション5.（7）を参照）を通じて、私たちの人々がKPMGの価値観をどの程度実践しているかを定期的に監視しています。\n",
      "\n",
      "\n",
      "\n",
      "品質とリスク管理のリーダーシップ責任\n",
      "\n",
      "KPMG AZSAは、品質、倫理、誠実さへのコミットメントを示し、クライアント、ステークホルダー、社会に品質への焦点を伝えます。リーダーシップは、適切なトーンを設定し、模範となる行動を示すことで重要な役割を果たし、最高水準の専門的卓越性への揺るぎないコミットメントを示し、主要なイニシアチブを支援しています。\n",
      "\n",
      "リーダーシップチームは、品質、誠実さ、倫理に基づく文化を築くことにコミットしており、その行動（書面およびビデオコミュニケーション、チームへのプレゼンテーション、1対1のディスカッション）を通じて示しています。\n",
      "\n",
      "以下の個人が、KPMG AZSAで品質とリスク管理のリーダーシップ責任を持っています。\n",
      "\n",
      "\n",
      "\n",
      "マネージングパートナー\n",
      "\n",
      "ISQC1の原則に従って、マネージングパートナーは、KPMG AZSAの品質管理システム、詐欺リスクへの監査対応を含む最終責任を負っています。\n",
      "\n",
      "\n",
      "\n",
      "品質担当の執行役員\n",
      "\n",
      "KPMG AZSAの品質管理システム、リスク管理、コンプライアンスの運用責任は、品質担当の執行役員に委任されており、全体的な専門的リスク管理および品質管理方針の策定とファームのコンプライアンス監視を担当しています。\n",
      "\n",
      "マネージングパートナーと品質担当の執行役員は、内部会議やニュースレターを通じて、品質管理システムに関する内部方針、監査品質を優先する行動とメッセージを専門家に伝えています。\n",
      "\n",
      "エンゲージメントパートナーは、関与する各エンゲージメントの品質とリスク管理を担当しています。\n",
      "\n",
      "\n",
      "\n",
      "適切なクライアントとの関与\n",
      "\n",
      "クライアントおよびエンゲージメントの受け入れと継続\n",
      "\n",
      "監査品質を管理するための鍵は、クライアントの性質と彼らが直面する問題を理解し、特定されたリスクに対する強力な監査対応を構築することです。\n",
      "\n",
      "私たちは、クライアントが私たちの仕事の品質と評判に関連していることを理解しています。\n",
      "3\n",
      "You are here already\n",
      "厳格なクライアントおよびエンゲージメントの受け入れおよび継続ポリシーとプロセスは、KPMGの評判を保護し、KPMGブランドをサポートし、高品質の専門サービスを提供する能力の重要な部分を支えています。したがって、KPMGインターナショナルは、すべてのメンバーファームがクライアントとの関係を受け入れるか継続するか、そのクライアントに対して特定のエンゲージメントを実行するかどうかを決定するために実施する必要があるポリシーと手順を確立しました。\n",
      "\n",
      "見込みクライアントおよびエンゲージメント受け入れプロセス\n",
      "\n",
      "KPMG AZSAは、すべての見込みクライアントを評価します。\n",
      "\n",
      "これには、見込みクライアント、その主要な経営陣、および重要な有益所有者に対するバックグラウンドチェックが含まれ、適切に情報を分析して受け入れ決定を行うことができます。この評価には、クライアントのリスクプロファイルを評価するためのアンケートの記入と、クライアント、その主要な経営陣、取締役、および所有者に関する背景情報の取得が含まれます。また、地域の法的および/または規制要件を満たすために必要な追加情報も取得します。\n",
      "\n",
      "評価パートナーと同様に、2番目のパートナーが各見込みクライアントの評価を承認します。クライアントが「高リスク」と見なされる場合、リスク管理パートナー、場合によってはオフィスマネージングパートナー、または品質担当のエグゼクティブボードメンバーによる追加の承認が必要です。\n",
      "\n",
      "エンゲージメント評価\n",
      "\n",
      "各見込みエンゲージメントも、エンゲージメントに関連する潜在的なリスクを特定するために評価されます。この評価には、潜在的な独立性および利益相反の問題（Sentinel™、KPMGの利益相反および独立性チェックシステムを使用）、エンゲージメント成果物の目的および使用、およびエンゲージメントの種類に特有の要因など、さまざまな要因が考慮されます。監査サービスの場合、これにはクライアントの財務管理チームの能力、エンゲージメントのスタッフに割り当てられた人員のスキルと経験、および詐欺リスクが含まれます。評価は、他の上級KPMG AZSA職員と協議し、必要に応じて品質およびリスク管理リーダーシップによるレビューを含みます。\n",
      "\n",
      "初めて監査サービスが提供される場合、見込みエンゲージメントチームは、クライアントに提供された非監査サービスおよび他の関連するビジネスおよび個人関係のレビューを含む、追加の独立性評価手順を実行する必要があります。\n",
      "\n",
      "既存の監査クライアントが公共利益法人になるか、クライアントの状況の変更に伴って追加の独立性制限が適用される場合も、同様の独立性評価が実施されます。公共利益法人である見込み監査クライアントに対して独立性への脅威を特定および評価するための特定の手順（セクション4.（2）⑦で詳細に説明）に従います。\n",
      "\n",
      "見込みクライアントおよびエンゲージメントの全体的なリスク評価に応じて、特定されたリスクを軽減するための追加のセーフガードが導入される場合があります。潜在的な独立性または利益相反の問題は、受け入れ前に文書化および解決する必要があります。\n",
      "\n",
      "潜在的な独立性または利益相反の問題が、専門基準および当社のポリシーに従って満足のいく方法で解決できない場合、または他の品質およびリスク問題が適切に軽減できない場合、見込みクライアントまたはエンゲージメントは拒否されます。\n",
      "\n",
      "継続プロセス\n",
      "\n",
      "KPMG AZSAは、すべての監査クライアントを毎年再評価します。再評価では、継続的な関連性に関する問題と、実施する必要がある緩和手順を特定します。\n",
      "\n",
      "定期的または長期間続く非監査エンゲージメントも再評価の対象となります。また、クライアントおよびエンゲージメントのリスクプロファイルに変更がある可能性があることを示す指標がある場合、再評価が必要です。\n",
      "\n",
      "撤退\n",
      "\n",
      "エンゲージメントまたはクライアント関係から撤退すべきことを示す情報を入手した場合、社内で相談し、必要な法的、専門的、および規制上の責任を特定します。また、必要に応じて、ガバナンスおよび適切な権限に関与する者と連絡を取ります。\n",
      "\n",
      "クライアントポートフォリオ管理\n",
      "\n",
      "当社のリーダーシップは、各エンゲージメントに対して適切な能力、能力、時間、および権限を持つエンゲージメントパートナーを任命します。\n",
      "\n",
      "監査パートナーのクライアントポートフォリオは、監査パートナーとの個別の会話で少なくとも年1回レビューされます。レビューでは、クライアントポートフォリオ全体の業界、性質、およびリスクと、パートナーがすべてのクライアントに対して品質の高い監査を提供する能力、能力、および容量が考慮されます。\n",
      "\n",
      "明確な基準と堅牢な監査ツール\n",
      "\n",
      "すべてのKPMG AZSAプロフェッショナルは、KPMGインターナショナルおよびKPMG AZSAのポリシーおよび手順、独立性ポリシーを含む、これらの期待に応えるために、さまざまなツールとガイダンスが提供されます。\n",
      "\n",
      "監査エンゲージメントのために設定されたポリシーと手順は、会計、監査、倫理、品質管理の基準、およびその他の関連する法律および規制の関連要件を組み込んでいます。\n",
      "\n",
      "監査へのアプローチ\n",
      "4\n",
      "You are here already\n",
      "監査へのアプローチ\n",
      "\n",
      "KPMGは、ネットワークの監査能力を進化させるために大幅な投資を行っており、今後もKPMGクララプラットフォームを通じて提供される新しいグローバル電子監査ワークフローを含む、データ、自動化、可視化を活用した高度な機能を組み込んだ新技術や新興技術を継続的に統合できるスマートでモジュール式の監査プラットフォームであるKPMGクララプラットフォームの開発に取り組んでいます。データ＆アナリティクス（D&A）は、KPMGメンバーファームが監査証拠を入手し、デジタル時代のクライアントとやり取りする方法に不可欠です。\n",
      "\n",
      "KPMGの高品質な監査プロセスは、引き続き以下を含みます。\n",
      "\n",
      "エンゲージメント全体を通じたタイムリーなパートナーとマネージャーの関与;\n",
      "\n",
      "適切な知識へのアクセス、専門家の関与、研修と経験の要件、関連する業界の専門知識を含む;\n",
      "\n",
      "監査中に入手したすべての監査証拠の批判的評価、適切な専門的判断の行使;\n",
      "\n",
      "エンゲージメントチームの継続的な指導、監督、レビュー。\n",
      "\n",
      "\n",
      "\n",
      "一貫した監査方法論とツール\n",
      "\n",
      "KPMGの基準とツールを完全かつ最新の状態に保つために、多くのリソースが投入されています。KPMGの監査方法論は、グローバルサービスセンター（GSC）が開発し、国際監査基準（ISA）の要件に基づいています。KPMG監査マニュアル（KAM）に記載されているKPMGの監査方法論には、ISAを超える追加の要件が含まれており、KPMGインターナショナルは監査品質を向上させると考えています。方法論は、監査手続きの実施において適切な専門的懐疑心を適用することを強調し、関連する倫理的要件（独立性を含む）の遵守を求めています。監査方法論、ガイダンス、ツールの改善は、標準、新興監査の焦点領域、監査品質結果（内部および外部）に準拠して定期的に行われます。主要なトピックには、会計見積もり、内部統制、収益認識、グループ監査、監査サンプリング、リスク評価が含まれます。\n",
      "\n",
      "\n",
      "\n",
      "KPMGメンバーファームは、KAMに追加の専門的、法的、規制上の要件に準拠するためのローカル要件および/またはガイダンスを追加することができます。\n",
      "\n",
      "KAMには、重要な誤りのリスクを特定および評価する手続きや、評価されたリスクに対応する手続きなどの例やガイダンスが含まれています。\n",
      "\n",
      "KPMGの監査方法論は、適切な場合に専門家の使用を奨励し、また、特定の基準が満たされている場合や、監査チームが適切または必要と判断する場合には、コア監査エンゲージメントチームに関連する専門家の関与を求めています。\n",
      "\n",
      "KAMに記載されている方針と手続きは、監査に特化しており、すべてのKPMGメンバーファーム、機能、および人員に適用されるグローバルQ＆RMマニュアルに記載されている方針と手続きを補完しています。\n",
      "\n",
      "KPMGの監査ワークフローは、eAudITというアクティビティベースのワークフローおよび電子監査ファイルを通じて実現されています。eAudITは、KPMGの監査方法論、ガイダンス、業界知識、および監査業務の実行と文書化に必要なツールを統合したKPMGの監査文書化ワークフローであり、75,000人以上の専門家が高品質で一貫した監査を完了することができます。\n",
      "\n",
      "eAudITは、監査対象となるエンティティの性質に応じて、および専門的な基準および適用可能な法的および規制上の要件に従って、関連する要件とガイダンスを提示するように「スケール」することができます。監査ガイダンス、専門基準、および文書化テンプレートへの直接アクセスが提供されます。\n",
      "\n",
      "KPMG監査方法論（KAM）およびワークフローツール（eAudIT）の改訂および強化に向けた大規模な投資が進行中であり、2018年に試験運用されたKPMGクララワークフローの導入が、2019年に初期導入が予定され、2020年から本格導入が開始される予定です。\n",
      "\n",
      "\n",
      "\n",
      "KPMGクララ、KPMGクララワークフロー、および監査データ＆アナリティクス（D&A）\n",
      "\n",
      "KPMGインターナショナルは、監査品質の向上、監査の実施における一貫性の確保、およびメンバーファームおよびグローバルなエンゲージメントの監視の強化に向けて、大幅な投資を行っています。\n",
      "\n",
      "\n",
      "\n",
      "KPMGクララ\n",
      "\n",
      "2017年、KPMGインターナショナルは、KPMGの監査データ＆アナリティクス（D&A）機能、革新的な新技術、コラボレーション機能、および監査ワークフローを統合したKPMGクララ（KPMGのスマート監査プラットフォーム）のグローバル展開を開始しました。\n",
      "\n",
      "これは、KPMGの以下の野心を表しています。\n",
      "\n",
      "新しい、現代的な技術を活用したインターフェースとコラボレーション機能を通じて、当社の人々とクライアントの監査実施を変革する;\n",
      "\n",
      "監査をデジタル化し、新しいD&Aルーチンを提供するために必要な機能を統合する;\n",
      "\n",
      "強化され、再設計されたワークフローを実現する;\n",
      "\n",
      "エンゲージメントレベルおよびエンゲージメントポートフォリオ全体での監視機能の開発を、エンゲージメントチームおよびメンバーファームが使用するために組み込む;\n",
      "\n",
      "グローバルリーダーシップがメンバーファームの品質管理システムの効果を監視することを支援する;\n",
      "\n",
      "メンバーファームのカスタマイズとスケール、および将来の機能を可能にする拡張可能な監査プラットフォームを開発する。\n",
      "\n",
      "\n",
      "\n",
      "\n",
      "\n",
      "KPMGクララワークフロー\n",
      "Handling batch no 1\n",
      "0\n",
      "You are here already\n",
      "Request timed out: HTTPSConnectionPool(host='icaopenaidev.openai.azure.com', port=443): Read timed out. (read timeout=600)\n",
      "Timeout error, retrying...\n",
      "1\n",
      "You are here already\n",
      "監査チームの元メンバーやKPMG AZSAの元パートナーは、KPMG AZSAとのすべての重要な関係を解消し、固定されていない支払いやKPMG AZSAにとって重要な支払いを含む、KPMG AZSAのビジネスや専門活動に参加しなくなるまで、監査クライアントに特定の役割で参加することが禁止されています。\n",
      "\n",
      "公益性のある監査クライアントのキーオーディットパートナーや監査チェーンのコマンドメンバーは、所定の期間が経過するまで、特定の役割でクライアントに参加することができない「クーリングオフ」期間が適用されます。\n",
      "\n",
      "KPMG AZSAの専門家が監査クライアントに雇用されることに関連する要件を伝達し、監視しています。\n",
      "\n",
      "\n",
      "\n",
      "ファームの財務独立性\n",
      "\n",
      "KPMGメンバーファームは、監査クライアント、その経営陣、取締役、および重要な所有者との禁止された利益や関係からも自由である必要があります。\n",
      "\n",
      "KPMG AZSAをはじめとする他のKPMGメンバーファームでは、KICSを使用して、ウェブベースの独立性追跡システムに自社の投資（たとえば、年金や退職金プラン、財務活動を通じて行われる投資）を記録しています。この記録は、コンプライアンスプロセスを通じて監視されています。\n",
      "\n",
      "\n",
      "\n",
      "ビジネス関係/サプライヤー\n",
      "\n",
      "KPMG AZSAは、IESBAの倫理規定、日本公認会計士法、JICPAが発行する倫理規定、SEC、米国PCAOBルール要件に従ってビジネス関係を維持するように設計されたポリシーと手順を持っています。\n",
      "\n",
      "\n",
      "\n",
      "独立性クリアランスプロセス\n",
      "\n",
      "KPMG AZSAは、公益性のある見込み監査クライアントに関連する独立性への脅威を特定および評価するための特定の手順を実施しており、これらの手順は、「独立性クリアランスプロセス」とも呼ばれ、これらのエンティティに対する監査業務の受託前に完了しなければなりません。\n",
      "\n",
      "\n",
      "\n",
      "独立性の研修と確認\n",
      "\n",
      "KPMG AZSAのすべてのパートナーおよびクライアントサービス専門家、および特定の他の個人は、KPMG AZSAに参加した際およびその後毎年、自分のグレードと機能に適した独立性研修を受講しなければなりません。この研修を受講する必要がある新入社員は、KPMG AZSAに参加してから30日以内または監査クライアント（その関連会社や関連団体を含む）にサービスを提供する前に、いずれか早い方を選択して研修を受講しなければなりません。\n",
      "\n",
      "また、すべての社員に対して、グローバル行動規範、KPMG AZSA行動規範、倫理的行動、KPMGの贈賄防止ポリシー、法令、規制、専門基準の遵守、法令、規制、専門基準、KPMGのポリシーに対する疑わしいまたは実際の違反の報告に関する研修を2年ごとに提供しています。新入社員は、KPMG AZSAに入社してから3か月以内にこの研修を受講する必要があります。\n",
      "\n",
      "雇用の受諾時に、すべてのKPMG社員は、適用される倫理および独立性のルールおよびポリシーを遵守し、遵守することを確認する必要があります。\n",
      "\n",
      "その後、すべてのKPMG社員は、確認書に記載された年間を通じて適用される倫理および独立性ポリシーを遵守し続けたこと、および適用される行動規範を理解し遵守したことを示す年次確認書に署名する必要があります。この確認は、個人がKPMGの独立性ポリシーを遵守し理解していることを証明するために使用されます。\n",
      "\n",
      "\n",
      "\n",
      "パートナーのローテーション\n",
      "\n",
      "当社のローテーションポリシーは、公認会計士法およびJICPAの倫理規定と一致しており、当社はより厳格な現地適用ローテーション要件に準拠する必要があります。\n",
      "\n",
      "KPMG AZSAのパートナーは、適用される法律、規制、独立性ルール、およびKPMGインターナショナルポリシーに基づいて、監査クライアントに対する責任を定期的にローテーションさせる対象となります。\n",
      "\n",
      "これらの要件は、特定の役割を担うパートナーがクライアントに監査サービスを提供できる年数に制限を設け、その後、これらのパートナーが監査に参加しない期間（監査の品質管理を提供しない期間、エンゲージメントチームやクライアントと技術的または業界固有の問題について相談しない期間、または監査の結果に何らかの影響を与えない期間）を設けます。\n",
      "\n",
      "KPMG AZSAは、監査業務責任者（およびローテーション要件がある場合のその他のキーロール、たとえばキーオーディットパートナーやEQCレビュアー）のローテーションを監視し、必要なコンピテンスと能力を持つパートナーを割り当てて、クライアントに一貫した品質のサービスを提供できるように移行計画を策定しています。パートナーのローテーション監視は、コンプライアンステストの対象となります。\n",
      "\n",
      "\n",
      "\n",
      "非監査サービス\n",
      "\n",
      "監査クライアントに提供できるサービスの範囲に関連する、IESBAの原則および適用される法律および規制と一致したポリシーを持っています。\n",
      "2\n",
      "You are here already\n",
      "KPMG AZSAによって開発されるすべての新規および改訂されたサービスを審査および承認するプロセスを確立および維持することが求められています。KPMG AZSAのEIPは、潜在的な独立性の問題の審査に関与し、複数の管轄区域で監査または保証クライアントに提供することを意図した開発されたサービスの場合、グローバル・インデペンデンス・グループが関与します。\n",
      "\n",
      "Sentinel™は、これらのポリシーに準拠することを容易にするだけでなく、利益相反の潜在的な問題を特定するのにも役立ちます。\n",
      "\n",
      "すべての見込みエンゲージメントに関する特定の情報（サービスの説明や料金など）は、エンゲージメント受け入れプロセスの一部としてSentinel™に入力する必要があります。リード監査エンゲージメントパートナーは、上場企業および特定の他の監査クライアントおよびその関連会社のグループ構造をSentinel™で維持することが求められており、また、提案された非監査サービスの提供から生じる可能性のある独立性の脅威と、それらの脅威に対処するための利用可能なセーフガードを特定および評価する責任も負っています。Sentinel™は、グループ構造が維持されているエンティティのリード監査エンゲージメントパートナーが、それらのエンティティに対する提案されたサービスを世界中で承認または拒否することを可能にします。\n",
      "\n",
      "料金依存性\n",
      "\n",
      "KPMGインターナショナルのポリシーは、監査クライアントからの総料金が、監査意見を表明するメンバーファームの総料金の大部分を占める場合、自己利益または脅迫の脅威が生じる可能性があることを認識しています。\n",
      "\n",
      "公共利益エンティティ監査クライアントおよびその関連エンティティからの総料金が、2年連続で特定のメンバーファームが受け取る総料金の10％を超える場合、以下の要件が適用されます。\n",
      "\n",
      "1. 監査エンティティのガバナンスを担当する者に対して開示される。\n",
      "2. 別のKPMGメンバーファームからEQCレビュアーが任命される。\n",
      "\n",
      "過去2年間で、KPMG AZSAが受け取った総料金の10％を超える監査クライアントはありませんでした。\n",
      "\n",
      "利益相反の回避\n",
      "\n",
      "利益相反は、KPMG AZSAのスタッフがクライアントとの個人的なつながりを持っており、それが客観性を維持する能力に干渉するか、または干渉すると認識される可能性がある状況、または取引の他の当事者に関する機密情報を個人的に保有している場合に生じる可能性があります。このような状況では、RMPまたはEIPとの相談が必要です。\n",
      "\n",
      "すべてのKPMGメンバーファームおよびスタッフは、利益相反を特定および管理する責任があります。利益相反とは、十分に情報を持つ合理的な観察者が、メンバーファームまたはそのスタッフが客観的であるか、または偏りなく行動する能力に影響を与えるかもしれないと認識される状況または状況です。\n",
      "\n",
      "すべてのKPMGメンバーファームは、法的および専門的要件に従ってこれらの問題に対処できるように、潜在的な利益相反の特定のためにSentinel™を使用する必要があります。KPMG AZSAには、潜在的な利益相反を特定し、影響を受けるメンバーファームと協力して利益相反を解決する責任を持つリスク管理リソース（「リゾルバ」）があります。その結果は文書化されなければなりません。\n",
      "\n",
      "利益相反が生じるか、または生じると認識される可能性を管理するために、特定の手順を適用する必要がある場合があります。これにより、すべてのクライアントの機密性が維持されます。たとえば、異なるクライアントを担当するエンゲージメントチーム間に正式な仕切りを設け、その仕切りの運用を監視する手配をすることが含まれます。\n",
      "\n",
      "エスカレーションおよび紛争解決手順は、利益相反の管理方法について合意に達することができない状況に適用されます。\n",
      "\n",
      "潜在的な利益相反の問題が適切に緩和できない場合、エンゲージメントは辞退または終了されます。\n",
      "\n",
      "独立性ポリシーの違反\n",
      "\n",
      "すべてのKPMGスタッフは、独立性違反に気付いたらすぐにEIPに報告することが求められています。独立性ポリシーに違反した場合、コンプライアンスレビューで特定された場合、自己申告された場合、またはその他の場合に、専門家は独立性懲戒ポリシーの対象となります。\n",
      "\n",
      "KPMG AZSAは、独立性ポリシー違反に関する文書化された懲戒ポリシーを持っています。懲戒ポリシーは、すべての専門家に通知され、独立性規則のすべての違反に適用され、違反の深刻さを反映した段階的な制裁が含まれます。\n",
      "\n",
      "監査人の独立性規制の違反は、監査クライアントのガバナンスを担当する者に報告されます。これは、彼らとの合意に基づいて行われますが、最低限年1回行われます。\n",
      "\n",
      "法令、規制、および贈賄および腐敗防止への遵守\n",
      "\n",
      "法令、規制、および基準の遵守は、すべてのKPMG AZSAスタッフにとって重要な側面です。特に、贈賄と腐敗に対してはゼロトレランスです。\n",
      "\n",
      "適用法または現地の慣行で合法または許可されている場合であっても、あらゆる種類の贈賄への関与を禁止しています。また、第三者による贈賄も容認しません。これには、クライアント、サプライヤー、または公務員による贈賄が含まれます。\n",
      "\n",
      "KPMGインターナショナルの贈賄および腐敗防止ポリシーに関する詳細情報は、贈賄および腐敗防止サイトで見つけることができます。\n",
      "\n",
      "インサイダー取引防止\n",
      "3\n",
      "You are here already\n",
      "インサイダー取引防止\n",
      "\n",
      "インサイダー取引を防止するために、KPMG AZSAは、資本市場における情報の信頼性を確立することを目的とした内部規則および手続きを持っています。これには、監査対象の証券の保有や取引の禁止、ウェブベースの独立性追跡システムへの登録を通じて、日本および他の管轄区域での上場企業への個人投資を監視することが含まれます。\n",
      "\n",
      "すべてのパートナーと従業員は、適切な研修を通じてインサイダー取引ポリシーを理解し、期間中適用されるポリシーに従っていることを毎年確認します。\n",
      "\n",
      "\n",
      "\n",
      "適切に資格を持った人材の採用、育成、配置\n",
      "\n",
      "品質の主要な要因の1つは、専門家が適切なスキルと経験、情熱と目的を持って、最高品質の監査を提供できることを確保することです。これには、適切な採用、育成、昇進、および専門家の配置が必要です。KPMGの業績開発アプローチは、KPMGの価値観にリンクし、個人的および集団的な成功に必要なものを明確にするように設計されています。監査品質の確保は、KPMGクララワークフローの展開とそれに関連する更新されたKPMG監査方法論をサポートするための研修、計画、および開発に不可欠な要素であり、すべてのKPMG研修プログラムに組み込まれています。\n",
      "\n",
      "\n",
      "\n",
      "採用\n",
      "\n",
      "KPMG AZSAは、従業員が潜在能力を発揮し、最善を尽くすことに誇りと意欲を持てる環境を作り出すことで、優れた雇用主であることを目指しています。\n",
      "\n",
      "\n",
      "\n",
      "すべての候補者は、応募書類の提出と、応募書類の審査、コンピテンシーに基づく面接、心理テストおよび能力テストを含むさまざまな選考プロセスを経て採用されます。\n",
      "\n",
      "\n",
      "\n",
      "KPMG AZSAは、候補者の以前の会社/雇用主からの機密情報を受け入れません。シニアグレード（つまり、パートナー、ディレクター）の個人が採用される場合、EIPによって彼らとの独立性に関する正式な議論が行われます。\n",
      "\n",
      "\n",
      "\n",
      "パートナー採用プロセスは厳格で徹底的であり、パートナーズミーティングやシニアエグゼクティブボードを含む適切なリーダーシップメンバーが関与します。パートナー採用の基準は、プロフェッショナリズムと誠実さ、品質、優れた雇用主であることへのコミットメントと一致しています。\n",
      "\n",
      "\n",
      "\n",
      "個人の成長\n",
      "\n",
      "すべての専門家が、技術スキルに加えて、ビジネススキルとリーダーシップスキルを持って質の高い仕事を行うことが重要です。\n",
      "\n",
      "\n",
      "\n",
      "監査に関連して、専門家が監査業務におけるキャリアの基盤となるスキル、行動、および個人的資質を開発する機会が提供されます。個人の効果を高め、技術、リーダーシップ、ビジネススキルを開発するためのコースが利用可能です。\n",
      "\n",
      "さらに、各パートナーおよび従業員に対して、監査全体を通じて専門的懐疑心を高め、維持し、展示する重要性を確保し、詐欺に関する指導および研修の適切な機会を提供するために、研修セッションが継続的に提供されます。\n",
      "\n",
      "KPMG AZSAの専門家は、仕事でのコーチングやメンタリング、厳しい課題、国内のローテーションおよびグローバルな機動性の機会を通じて、高いパフォーマンスを発揮するために育成されます。\n",
      "\n",
      "\n",
      "\n",
      "インクルージョンとダイバーシティプログラム\n",
      "\n",
      "KPMG AZSAは、包括的な文化を育成するために努力しています。包括的であることにより、最も幅広いスキル、経験、および視点を持つ成功したチームを結集することができます。\n",
      "\n",
      "私たちは、異なる個性を持つ各パートナーおよび従業員が、互いの違いを尊重し、最大限に活用しながら、「高品質なサービスを提供することで監査クライアントと社会に貢献する」という共通の目標に向かって高いパフォーマンスを達成することを奨励しています。\n",
      "\n",
      "KPMG AZSAは、さまざまなアプローチを採用して、より多様で柔軟な働き方に適した環境を整備しています。具体的な取り組みには、グローバル志向の人材の育成、女性の労働力参加の促進、出産・育児・介護と仕事の両立を支援する取り組み、障害者の雇用促進、多様性を受け入れ、活用する企業文化の創造、テレワークの導入、オフィスの働き方の変革などがあります。\n",
      "\n",
      "KPMGのインクルージョン＆ダイバーシティに関する詳細は、こちらをご覧ください。\n",
      "\n",
      "\n",
      "\n",
      "品質とコンプライアンス指標を含む評価プロセス\n",
      "\n",
      "KPMG AZSAの専門家、パートナーを含む、は年間の目標設定と業績評価を行います。各専門家は、合意された目標、リーダーシップ能力の実証、技術能力、市場知識に基づいて評価されます。継続的な改善の文化が、ジュニアおよびシニアの同僚、同僚からのフィードバックを促進するように励まされます。収集されたフィードバックは、業績評価の重要な部分を形成します。\n",
      "\n",
      "\n",
      "\n",
      "KPMG AZSAは、品質とコンプライアンスの事故を監視し、パートナー、ディレクター、およびマネージャーの全体的な評価、昇進、および報酬の決定に品質指標を維持します。\n",
      "\n",
      "パートナーも、主要な品質およびコンプライアンス指標に基づいて評価されます。\n",
      "\n",
      "これらの評価は、業績評価を行い、パフォーマンス評価を提案できる立場にあるパフォーマンスマネージャーおよびパートナーによって行われます。KPMG AZSAの方針では、監査パートナーが監査クライアントに対する非保証サービスの販売成功に基づいて評価されたり、報酬を受け取ることが禁止されています。\n",
      "\n",
      "\n",
      "\n",
      "報酬\n",
      "4\n",
      "You are here already\n",
      "報酬\n",
      "\n",
      "報酬と昇進のポリシーは、明確でシンプルであり、パートナーにとっては、主要な監査品質とコンプライアンス指標の達成を含むパフォーマンス評価プロセスにリンクしています。これにより、パートナーや従業員が自分たちに何が求められているか、そして報酬として何を受け取ることができるかを理解することができます。\n",
      "\n",
      "報酬の決定は、個人と組織（メンバーファーム）のパフォーマンスの両方を考慮して行われます。GPSを通じて、従業員が自分のパフォーマンスが報酬に反映されていると感じる程度が測定され、それに応じた行動計画が策定されます。\n",
      "\n",
      "\n",
      "\n",
      "昇進\n",
      "\n",
      "パフォーマンス評価の結果は、パートナーやスタッフの昇進や報酬に直接影響し、場合によってはKPMGとの継続的な関係にも影響します。\n",
      "\n",
      "\n",
      "\n",
      "パートナー入会\n",
      "\n",
      "パートナーシップへの入会プロセスは厳格で徹底的であり、パートナーズミーティングやシニアエグゼクティブボードを含む適切なリーダーシップメンバーが関与します。\n",
      "\n",
      "KPMG AZSAパートナーシップへの入会基準は、プロフェッショナリズムと誠実さ、品質、優れた雇用主であることへのコミットメントと一致しており、KPMGの行動能力と強く連携しており、一貫した原則に基づいています。\n",
      "\n",
      "\n",
      "\n",
      "プロフェッショナルの割り当て\n",
      "\n",
      "KPMG AZSAは、エンゲージメントパートナーとその他のプロフェッショナルを、彼らのスキルセット、関連する専門知識や業界経験、および割り当てやエンゲージメントの性質に基づいて特定のエンゲージメントに割り当てるための手続きを整えています。\n",
      "\n",
      "機能責任者は、パートナー割り当てプロセスを担当します。主な考慮事項には、パートナーの経験と、エンゲージメントの規模、複雑さ、リスクプロファイル、および提供されるサポートの種類（つまり、エンゲージメントチームの構成と専門家の関与）を考慮して、年次パートナーポートフォリオレビューに基づくキャパシティが含まれます。\n",
      "\n",
      "監査エンゲージメントパートナーは、エンゲージメントチームがKAM、専門基準、および適用される法的および規制要件に従って監査エンゲージメントを実施するための適切な能力、研修、および能力（時間を含む）を持っていることを確認する必要があります。これには、自社や他のKPMGメンバーファームの専門家を巻き込むことが含まれる場合があります。\n",
      "\n",
      "\n",
      "\n",
      "エンゲージメントチーム全体として適切な能力と能力が期待されることを考慮する際、エンゲージメントパートナーの考慮事項には、以下が含まれる場合があります。\n",
      "\n",
      "適切な研修と参加を通じて、同様の性質と複雑さの監査エンゲージメントに対する理解と実践的な経験;\n",
      "\n",
      "専門基準および法的および規制要件の理解;\n",
      "\n",
      "関連する情報技術や会計や監査の専門分野に関連する適切な技術スキル;\n",
      "\n",
      "クライアントが事業を展開する関連業界の知識;\n",
      "\n",
      "専門的判断力の適用;\n",
      "\n",
      "KPMG AZSAの品質管理ポリシーおよび手順の理解;\n",
      "\n",
      "QPRの結果と規制検査の結果、および;\n",
      "\n",
      "従業員からの洞察（GPS）。\n",
      "\n",
      "\n",
      "\n",
      "従業員からのフィードバック - 人々の調査（GPS）\n",
      "\n",
      "KPMG Japanは、2年に1度、すべての従業員を対象に、独立したGPSに参加して、KPMGでの働く経験に関する認識を共有するよう招待します。\n",
      "\n",
      "GPSは、従業員エンゲージメント指数（EEI）を通じて従業員のエンゲージメントの全体的な測定を提供するとともに、エンゲージメントを促進する要因が強みであるか、または機会であるかに関する洞察を提供します。また、エンゲージメントレベルを強化する機会を特定します。結果は、機能や地域、グレード、役割、性別によって分析することができ、追加の洞察を提供します。従業員エンゲージメントに影響を与えることが知られているカテゴリーに関して、どのように進んでいるかについての追加の洞察が提供されます。\n",
      "\n",
      "また、調査は、監査品質、KPMGの価値観の維持、従業員とパートナーの品質、リーダーシップ、トップのトーンに関する態度に関連する結果をKPMG AZSAリーダーシップおよびKPMGグローバルリーダーシップに提供します。\n",
      "\n",
      "KPMG AZSAは、GPSに参加し、結果を監視し、調査の結果に対して適切な対応を行います。\n",
      "\n",
      "これには、以下に関連するGPS結果の監視が含まれます。\n",
      "\n",
      "監査品質とトップのトーン;\n",
      "\n",
      "EEIを通じた従業員のエンゲージメント。\n",
      "\n",
      "GPSの結果は、KPMGネットワーク全体で集計され、毎年グローバルボードに提出され、適切なフォローアップアクションが合意されます。\n",
      "\n",
      "\n",
      "\n",
      "技術的卓越性と品質サービス提供へのコミットメント\n",
      "\n",
      "すべてのKPMG AZSAプロフェッショナルには、必要な技術研修とサポートが提供されます。これには、専門家やプロフェッショナルプラクティス部門へのアクセスが含まれ、監査、報告、リスク管理の分野で豊富な経験を持つ上級プロフェッショナルがエンゲージメントチームにリソースを提供するか、相談に応じるために構成されています。\n",
      "\n",
      "KPMG AZSA内に適切なリソースがない場合、他のKPMGメンバーファームの高度にスキルを持つKPMGプロフェッショナルのネットワークへのアクセスが提供されます。\n",
      "\n",
      "同時に、監査ポリシーでは、プロフェッショナルが割り当てられたエンゲージメントに適切な知識と経験を持っていることが求められます。\n",
      "\n",
      "\n",
      "\n",
      "ライフタイムラーニング戦略\n",
      "Handling batch no 2\n",
      "0\n",
      "You are here already\n",
      "終身学習戦略\n",
      "\n",
      "上記のセクションで説明した個人の成長に加えて、終身学習戦略は、すべての専門家が技術的な能力を維持し、適用される規制および専門的な開発要件に準拠することを求めるポリシーによって支えられています。\n",
      "\n",
      "フォーマルトレーニング\n",
      "\n",
      "開発と提供のための年間トレーニングの優先順位は、グローバル、地域、およびKPMG AZSAレベルの監査学習および開発の指導グループによって特定されます。トレーニングは、教室、デジタル学習、およびオンザジョブで監査人を支援するためのパフォーマンスサポートを組み合わせて提供されます。\n",
      "\n",
      "監査学習および開発チームは、GSC、ISG、および適切な場合はメンバーファームの専門職業実践部門（DPP）の主題専門家およびリーダーと連携して、トレーニングが最高品質であり、仕事でのパフォーマンスに関連し、タイムリーに提供されることを確認します。\n",
      "\n",
      "IFRSおよび米国GAAPエンゲージメントのライセンスと必須要件\n",
      "\n",
      "ライセンス\n",
      "\n",
      "すべてのKPMG AZSAの専門家は、適用される専門職のライセンス規則に準拠し、彼らが実践する管轄区域での継続的な専門開発（CPD）要件を満たすことが求められます。\n",
      "\n",
      "ポリシーと手順は、ライセンス要件の遵守を容易にするように設計されています。\n",
      "\n",
      "私たちは、エンゲージメントで働く監査専門家が、適切な監査、会計、業界の知識と経験を持ち、主要な財務報告フレームワークに精通していることを確認する責任があります。\n",
      "\n",
      "必須要件 - IFRSおよび米国GAAPエンゲージメント\n",
      "\n",
      "IFRSが主要な財務報告フレームワークでない国でのIFRSエンゲージメントに従事するパートナー、マネージャー、およびEQCレビュアーには、特定の要件があります。同様のポリシーは、米国GAAPおよび/または米国監査基準に従って監査された財務報告書または財務情報に関する報告を行うために、米国外で実施されたエンゲージメントに適用されます。これには、エンティティの財務報告に対する内部統制の有効性に関する報告も含まれます。\n",
      "\n",
      "これらは、パートナー、マネージャー、およびEQCレビュアーが関連するトレーニングを完了し、エンゲージメントチームが全体として十分な経験を持ってエンゲージメントを実施するか、または不足を解消するための適切なセーフガードを実施していることを要求しています。\n",
      "\n",
      "専門家ネットワークへのアクセス\n",
      "\n",
      "KPMG AZSAのエンゲージメントチームは、地元のKPMG専門家のネットワークおよび他のKPMGメンバーファームの専門家にアクセスできます。\n",
      "\n",
      "監査チームのメンバーであり、監査エンゲージメントでの専門家の関与に全体的な責任を持つ専門家は、役割を適切に果たすための能力、能力、および客観性を持っています。これらの専門家には、監査の概念に関するトレーニングが提供されます。\n",
      "\n",
      "特定の監査エンゲージメントに専門家（例：情報技術、税務、精算、法医学、評価）を割り当てる必要性は、監査エンゲージメントの受諾および継続プロセスの一部として検討されます。\n",
      "\n",
      "コンサルテーションの文化\n",
      "\n",
      "KPMGは、メンバーファームチームの意思決定プロセス全体を支援し、監査品質に大きく貢献するコンサルテーションの強力な文化を奨励しています。\n",
      "\n",
      "KPMG AZSAは、コンサルテーションが強みと認識され、困難または論争のある問題について相談することを奨励する文化を推進しています。\n",
      "\n",
      "監査エンゲージメントの専門家が困難または論争のある問題に対処するために、重要な会計および監査問題の相談および文書化、およびエンゲージメント問題に関する意見の相違の解決を容易にする手順が確立されています。\n",
      "\n",
      "これらのプロトコルには、詐欺による重大な誤りの兆候が特定された場合の相談のポリシーと手順が含まれています。\n",
      "\n",
      "適切なコンサルテーションサポートが、専門職業実践リソースを通じて監査エンゲージメントの専門家に提供されます。\n",
      "\n",
      "GSCおよびISGを通じて、すべてのメンバーファームおよびその専門家に技術監査および会計サポートが提供されます。また、SEC外国登録者向けの米国キャピタルマーケットグループも利用できます。\n",
      "\n",
      "グローバルサービスセンター（GSC）\n",
      "\n",
      "GSCのミッションは、協力、革新、および技術を通じてKPMGのグローバル監査事業ネットワークの成功を促進することです。 GSCは、KPMGの監査専門家が効果的かつ効率的な監査を実施するのを支援するために使用されるKPMGの監査方法論および技術ベースのツールを開発、維持、および展開します。 3つのグローバル拠点があり、それぞれの地域に1つずつあり、GSC監査チームは、監査、IT、データサイエンス、数学、統計などの分野の専門家で構成され、世界中から多様な経験と革新的な考え方をもたらしてKPMGの監査能力をさらに進化させています。\n",
      "\n",
      "国際基準グループ（ISG）\n",
      "\n",
      "ISGは、世界中からの地理的な代表性を持つグローバルIFRSおよびISAトピックチームと連携して、メンバーファーム間のIFRSおよび監査要件の解釈の一貫性を促進し、新興問題を特定し、タイムリーな基準に基づくグローバルガイダンスを開発します。\n",
      "\n",
      "GSCおよびISGおよびその活動に関する詳細は、KPMG International Transparency Reportで入手できます。\n",
      "\n",
      "メンバーファームの専門職業実践リソース\n",
      "1\n",
      "You are here already\n",
      "監査および技術的会計事項に関する適切な相談支援は、専門職業資源（専門職業実践部門またはDPPとして言及される）を通じて監査エンゲージメント専門家に提供されます。DPPは、チーム内またはEQCレビュアーとの意見の相違がある場合に、エンゲージメントチームを支援します。未解決の相違は、最終決定のためにシニアパートナーにエスカレートする必要があります。必要に応じてISGも相談に利用できます。\n",
      "\n",
      "KPMGインターナショナルのポリシーには、メンバーファームDPPの最低要件が含まれています。\n",
      "\n",
      "ビジネス理解と業界知識の開発\n",
      "\n",
      "品質の重要な部分は、クライアントのビジネスと業界を詳細に理解することです。\n",
      "\n",
      "重要な業界については、グローバル監査セクターリードが任命され、関連する業界情報の開発を支援し、KPMG監査ワークフローを通じて監査専門家に提供されます。\n",
      "\n",
      "この知識には、業界監査手順の例やその他の情報（典型的なリスクや会計プロセスなど）が含まれています。また、特定の業界に関する一般的なビジネス情報や業界知識の概要が提供されています。\n",
      "\n",
      "効果的かつ効率的な監査の実施\n",
      "\n",
      "監査の実施方法は、最終結果と同じくらい重要です。KPMG AZSAのスタッフは、効果的かつ効率的な監査の実施にあたって、特定の主要な行動を示し、特定のポリシーと手順に従うことが期待されています。\n",
      "\n",
      "継続的なメンタリング、監督、およびレビュー\n",
      "\n",
      "スキルは時間とさまざまな経験を通じて開発されることを理解しています。KPMG AZSAは、品質を妥協することなく、KPMGの専門家のスキルと能力の開発に投資するために、継続的な学習環境を推進し、コーチング文化を支援しています。\n",
      "\n",
      "エンゲージメントパートナーは、エンゲージメントマネージャーの支援を受けて、監査プロセス全体でコーチングと継続的な学習の文化を推進し、監査の実施において模範を示すことで、継続的な監査品質向上の文化を推進する責任があります。\n",
      "\n",
      "また、監査中に適切に詐欺リスクに対応するための監督とレビューに関するポリシーと手順があります。\n",
      "\n",
      "監査中の継続的なメンタリング、コーチング、および監督には、以下が含まれます。\n",
      "\n",
      "エンゲージメントパートナーが計画の議論に参加すること;\n",
      "\n",
      "監査エンゲージメントの進捗状況を追跡すること;\n",
      "\n",
      "エンゲージメントチームの個々のメンバーの能力と能力を考慮し、彼らが十分な時間を持って仕事を行うかどうか、指示を理解しているかどうか、そして仕事が計画されたアプローチに従って行われているかどうかを判断すること;\n",
      "\n",
      "監査中に発生する重要な問題に対処するために、エンゲージメントチームのメンバーを支援し、計画されたアプローチを適切に修正すること;\n",
      "\n",
      "エンゲージメント中により経験豊富なチームメンバーとの相談事項を特定すること。\n",
      "\n",
      "効果的なメンタリングと監督の重要な部分は、実施された作業のタイムリーなレビューであり、重要な問題が迅速に特定、議論、対処されることです。\n",
      "\n",
      "KPMG AZSAは、詐欺リスクに対する監査対応を監督およびレビューするためのポリシーおよび手順を持っています。\n",
      "\n",
      "タイムリーなエンゲージメント品質管理（EQC）レビュアー\n",
      "\n",
      "EQCレビュアーは、エンゲージメントチームとは独立しており、エンゲージメントチームが行ったより重要な決定や判断、および財務諸表の適切性について客観的なレビューを行うための適切な経験と知識を持っています。\n",
      "\n",
      "すべての上場企業、非上場企業で公的プロファイルが高い企業、適用法令または規制に基づいてEQCレビューが必要なエンゲージメント、およびリスク管理パートナーまたは国の監査責任者が指定するその他のエンゲージメントについて、EQCレビュアーが任命される必要があります。\n",
      "\n",
      "EQCレビューは、監査報告書の日付の前に行われ、以下の事項が含まれます。\n",
      "\n",
      "エンゲージメントチームが行った重要な判断に関連する監査文書の選択されたレビューおよびチームが得た結論;\n",
      "\n",
      "財務諸表と提案された監査報告書のレビュー;\n",
      "\n",
      "監査報告書の策定における結論の評価および提案された報告書が適切であるかどうかの検討。\n",
      "\n",
      "エンゲージメントパートナーは、財務報告および監査事項の解決に最終的な責任を負いますが、監査が完了と見なされる前に、EQCレビュアーはすべての重要な質問が解決されたことに満足しなければなりません。\n",
      "\n",
      "詐欺による重大な誤りの可能性が特定された場合、EQCレビュアーは、監査チームが行ったリスク評価、監査手順、および取得した監査証拠の適切性を評価する必要があります。\n",
      "\n",
      "KPMG AZSAは、監査品質管理システムの基本的な部分であるEQCレビュアーの役割を強化および改善するために、継続的に努力しています。これを強化するために、いくつかの行動が取られています。\n",
      "\n",
      "監査エンゲージメントにおけるEQCレビューの基本方針を策定すること;\n",
      "\n",
      "効果的なレビューを促進するためのEQCレビューに関するガイダンスを発行すること;\n",
      "\n",
      "監査リスクに関する理解を得るために、EQCレビュアーにEQCレビューの問題を問い合わせ、EQCレビューの現状を監視すること。\n",
      "2\n",
      "You are here already\n",
      "シニア・レビュー・ボードは、客観的なレビューを行うための適切な経験と知識を持つパートナーで構成され、EQCレビュー・プロセスの状況を監視し、監査で行われた重要な判断を評価します。\n",
      "\n",
      "報告\n",
      "\n",
      "日本の監査基準および関連法規は、監査報告書の形式と内容を大幅に規定しており、クライアントの財務諸表がすべての重要な点で適正に表示されているかどうかについての意見が含まれます。経験豊富なエンゲージメント・パートナーは、実施された監査に基づいてすべての監査意見を形成します。\n",
      "\n",
      "監査報告書の作成にあたって、エンゲージメント・パートナーは、DPPとの相談を通じて、広範な報告ガイダンスと技術サポートを利用できます。エンゲージメント・パートナーは、監査報告書のユーザーに報告すべき重要な事項がある場合、監査報告書への適格性の追加または強調事項の段落の追加を求める必要があります。\n",
      "\n",
      "洞察力のある、オープンで正直な双方向のコミュニケーション\n",
      "\n",
      "監督・監査役会との双方向のコミュニケーションは、監査品質の鍵であり、報告とサービス提供の重要な側面です。\n",
      "\n",
      "KPMG AZSAでは、監査を通じて発生する問題について、監督・監査役会に情報を提供し、彼らの意見を聞き、理解することの重要性を強調しています。これは、報告書やプレゼンテーション、監査・監査役会への出席、および適切な場合には経営陣や監査・監査役会のメンバーとの継続的な議論を通じて実現しています。\n",
      "\n",
      "私たちは、重要な会計慣行の適切性に関する評価、会計方針、会計見積もり、財務諸表の開示、監査の過程で注意が向けられた財務報告システムの設計と運用における重大な欠陥、および未訂正の誤りに関する洞察を提供します。\n",
      "\n",
      "KPMGインスティテュート\n",
      "\n",
      "KPMGのグローバルIFRSインスティテュートは、多くの企業に影響を与える会計および監査に関する最新情報を提供し、KPMGメンバーファームおよび外部関係者を支援します。\n",
      "\n",
      "例えば、KPMGグローバルが提供するIFRSインスティテュート（https://home.kpmg/xx/en/home/services/audit/international-financial-reporting-standards.html）やKPMG AZSAのウェブサイトでは、情報へのアクセスが容易になっています。\n",
      "\n",
      "前任監査人と後任監査人とのコミュニケーション\n",
      "\n",
      "監査人が変更された場合の前任監査人と後任監査人とのコミュニケーションに関するポリシーと手順を確立しており、これらのコミュニケーションはファームレベルで監視されています。\n",
      "\n",
      "クライアントの機密保持、情報セキュリティ、データプライバシー\n",
      "\n",
      "クライアントの機密性を維持する重要性は、グローバルおよびKPMG AZSAの行動規範、研修、およびすべてのKPMGプロフェッショナルが完了する必要がある年次宣誓/確認プロセスを含むさまざまなメカニズムを通じて強調されています。\n",
      "\n",
      "監査文書や関連する記録の保管期間に関する正式な文書保管ポリシーを策定し、関連するIESBA要件およびその他の適用可能な法律、基準、規制に従っています。\n",
      "\n",
      "情報セキュリティに関する明確なポリシーを策定しており、幅広い分野をカバーしています。現地の個人情報保護法に準拠したデータプライバシーポリシーがあり、個人情報の取り扱いに関するポリシーと関連する研修がKPMG AZSAの全従業員に必要とされています。\n",
      "\n",
      "リスク関連情報\n",
      "\n",
      "エンゲージメント・パートナーが変更された場合に、監査上の重要な問題（詐欺リスクを含む）が後継のエンゲージメント・パートナーに伝達されるように、リスク評価に関する情報を管理するシステムとプロセスを整備しています。\n",
      "\n",
      "継続的な改善への取り組み\n",
      "\n",
      "KPMGは、監査の品質、一貫性、効率を継続的に向上させることに取り組んでいます。統合された品質監視およびコンプライアンスプログラムにより、メンバーファームは品質不足を特定し、根本原因分析を行い、個々の監査エンゲージメントおよびKPMGの品質管理システムに関する改善策の策定、実施、報告を行うことができます。\n",
      "\n",
      "KPMGインターナショナルの統合品質監視およびコンプライアンスプログラムには、品質パフォーマンスレビュー（QPR）プログラム、リスクコンプライアンスプログラム（RCP）、およびグローバルコンプライアンスレビュー（GCR）プログラムが含まれています。\n",
      "\n",
      "品質監視およびコンプライアンスプログラムは、すべてのメンバーファームでグローバルに管理され、テストおよび報告の方法および範囲が一貫しています。KPMG AZSAは、内部監視プログラムの結果と外部検査プログラムの結果を比較し、適切な対策を講じます。\n",
      "\n",
      "内部監視およびコンプライアンスプログラム\n",
      "\n",
      "監視プログラムは、以下の両方を評価します。\n",
      "\n",
      "適用される基準、適用される法律および規制、およびKPMGインターナショナルのポリシーおよび手順に準拠したエンゲージメントの実施;\n",
      "\n",
      "KPMG AZSAのKPMGインターナショナルのポリシーおよび手順への遵守および主要な品質管理ポリシーおよび手順の関連性、適切性、および効果的な運用。\n",
      "\n",
      "統合監視プログラムの結果と教訓は、内部で伝達され、プログラム全体の結果と教訓は、ローカル、地域、およびグローバルレベルで検討され、適切な対策が講じられます。\n",
      "3\n",
      "You are here already\n",
      "私たちの内部監視プログラムは、品質管理システムが適切に設計され、効果的に実施されているかどうか、また効果的に機能しているかどうかを評価するのにも寄与しています。\n",
      "\n",
      "KPMGインターナショナルが開発・運営する2つの検査プログラム、QPRおよびRCPが、監査およびアドバイザリー機能全体で毎年実施されています。\n",
      "\n",
      "さらに、すべての加盟事務所は、クロスファンクショナルなGCRプログラムによって、少なくとも3年に1回カバーされています。\n",
      "\n",
      "QPR、RCP、およびGCRへの参加は、KPMGネットワークの継続的なメンバーシップの条件です。\n",
      "\n",
      "さらに、品質管理システムに従って、以下のプロセスを実施して、詐欺リスクへの監査対応を監視することを確認します。\n",
      "\n",
      "クライアントおよびエンゲージメントの受け入れと継続;\n",
      "\n",
      "指導と研修：\n",
      "\n",
      "監査プロセス（監督とレビュー、事務所内外からの情報への対応、相談、適時なEQCレビュアーとパートナーのローテーションを含む）;\n",
      "\n",
      "前任監査人と後任監査人とのコミュニケーション。\n",
      "\n",
      "\n",
      "\n",
      "監査品質パフォーマンスレビュー（QPR）\n",
      "\n",
      "QPRプログラムは、エンゲージメントレベルのパフォーマンスを評価し、エンゲージメント品質を向上させる機会を特定します。\n",
      "\n",
      "各エンゲージメントリーダーは、3年周期で少なくとも1回レビューされます。リスクベースのアプローチがエンゲージメントの選択に使用されます。\n",
      "\n",
      "KPMG AZSAは、KPMGインターナショナルのQPR指示に従って、年次QPRプログラムを実施しています。\n",
      "\n",
      "レビューはKPMG AZSAレベルで実施され、地域およびグローバルで監視されています。\n",
      "\n",
      "加盟事務所の監査QPRレビューは、加盟事務所から独立した経験豊富なリードレビュアーによって監督されています。\n",
      "\n",
      "\n",
      "\n",
      "（レビュアーの選択、準備、およびプロセス）\n",
      "\n",
      "レビュアーの選択には厳格な基準があります。\n",
      "\n",
      "レビューチームおよびプロセスを監督する他の者に対して研修が提供され、監査監督機関が特定した懸念事項や外部レビュアーと同じくらい厳格である必要性に焦点を当てています。\n",
      "\n",
      "\n",
      "\n",
      "（監査QPRからの評価）\n",
      "\n",
      "一貫した基準が、エンゲージメント評価および加盟事務所の監査業務評価を決定するために使用されます。レビューの対象となる監査エンゲージメントは、「満足」「改善が必要」「不満足」のいずれかで評価されます。\n",
      "\n",
      "\n",
      "\n",
      "（報告）\n",
      "\n",
      "QPRプログラムからの調査結果は、書面によるコミュニケーション、内部研修ツール、定期的なパートナー、マネージャー、およびスタッフ会議を通じて、加盟事務所の専門家に伝達されます。これらの分野は、継続的な改善の程度を測定するために、後続の検査プログラムでも強調されます。\n",
      "\n",
      "リード監査エンゲージメントパートナーは、それぞれのクロスボーダーエンゲージメントにおいて、「改善が必要」または「不満足」と評価された不十分なエンゲージメントについて通知されます。\n",
      "\n",
      "さらに、親会社/本社のリード監査エンゲージメントパートナーは、クライアントグループの子会社/関連会社がQPR中に重大な品質問題が特定された加盟事務所によって監査された場合に通知されます。\n",
      "\n",
      "\n",
      "\n",
      "リスクコンプライアンスプログラム（RCP）\n",
      "\n",
      "KPMGインターナショナルは、すべての加盟事務所に適用される品質管理ポリシーおよびプロセスを開発および維持しています。これらのポリシーおよびプロセス、および関連する手順には、ISQC 1の要件が含まれています。\n",
      "\n",
      "年次RCPでは、品質管理および手順の文書化、関連するコンプライアンステスト、および例外、アクションプラン、および結論の報告からなる堅牢な評価プログラムを実施します。\n",
      "\n",
      "RCPの目的は、以下の通りです。\n",
      "\n",
      "KPMG AZSAの品質管理システムが、グローバル品質およびリスク管理ポリシーおよび専門サービスの提供に関連する主要な法的および規制要件との適合性を監視、文書化、および評価すること；\n",
      "\n",
      "KPMG AZSAが、関連する専門基準および適用される法的および規制要件を遵守しているかどうかを評価するための基盤を提供すること。\n",
      "\n",
      "不備が特定された場合、適切なアクションプランを策定し、各アクション項目の状況を監視することが求められます。\n",
      "\n",
      "\n",
      "\n",
      "グローバルコンプライアンスレビュー（GCR）プログラム\n",
      "\n",
      "各加盟事務所は、少なくとも3年に1回、KPMGインターナショナルのGCRチームが実施するGCRを受けることになっています。\n",
      "\n",
      "GCRチームは、KPMG加盟事務所とは独立しており、客観的であり、グローバル品質およびリスク管理ポリシーに精通しています。GCRは、KPMGインターナショナルの選択されたポリシーおよび手順の遵守を評価し、加盟事務所間でベストプラクティスを共有します。\n",
      "\n",
      "GCRは、以下の独立した評価を提供します。\n",
      "\n",
      "加盟事務所の品質およびリスク管理への取り組み（トーン・アット・ザ・トップ）と、その全体的な構造、ガバナンス、および資金調達がこの取り組みを支援および強化する程度；\n",
      "\n",
      "加盟事務所が主要なKPMGポリシーおよび手順を遵守しているかどうか；\n",
      "\n",
      "加盟事務所が自身のコンプライアンスプログラム（RCP）をどの程度堅牢に実施しているか。\n",
      "4\n",
      "You are here already\n",
      "すべてのGCR調査結果に対応するアクションプランを策定し、GCRチームと合意します。アクションプランの進捗は、GCR中央チームによって監視されます。結果は、Global Quality & Risk Management Steering Group（GQ&RMSG）に報告され、必要に応じて適切なKPMG Internationalおよび地域のリーダーシップに報告され、メンバーファームによる迅速な是正措置が確保されます。\n",
      "\n",
      "ルート原因分析（RCA）\n",
      "\n",
      "KPMG AZSAは、RCAを実施して監査品質の問題を特定・対処し、それらが再発しないようにし、継続的な改善の一環として良い実践を特定することを目的としています。\n",
      "\n",
      "メンバーファームの責任は、RCAを実施し、それによって監査品質の問題を特定し、適切な是正計画を策定することです。\n",
      "\n",
      "KPMG AZSAの監査責任者は、RCAの結果としてのアクションプランの策定と実施、およびソリューションオーナーの特定に責任を持ちます。リスク管理パートナーは、その実施を監視します。\n",
      "\n",
      "改善のための推奨事項\n",
      "\n",
      "グローバルレベルでは、GAQSCおよびGQ&RMSGを通じて、KPMG Internationalは品質監視プログラムの結果をレビューし、メンバーファームのルート原因とアクションプランを分析し、必要に応じて追加のグローバルアクションを開発します。\n",
      "\n",
      "これまでに、KPMG Internationalが開発したグローバルな是正計画は、KPMGネットワーク全体での文化と行動の変革を目指し、KPMGメンバーファーム内での一貫したエンゲージメントチームのパフォーマンスを促進することを目的としています。是正計画は、一貫性を確保し、基本が正しく、ベストプラクティスがKPMGネットワーク全体で共有されるように、グローバルなトレーニング、ツール、ガイダンスの開発を通じて実施されています。\n",
      "\n",
      "外部からのフィードバックと対話\n",
      "\n",
      "規制当局\n",
      "\n",
      "公認会計士・監査審査委員会（CPAAOB）は、規制当局として、JICPAによる品質管理レビューの公平性、中立性、有効性を確認するために監視を行っています。\n",
      "\n",
      "CPAAOBは、JICPAによる品質管理レビューの報告書をレビュー・検討し、必要に応じてJICPA、監査事務所などの現地検査を実施します。\n",
      "\n",
      "国際レベルでは、KPMG Internationalは、International Forum of Independent Audit Regulators（IFIAR）と定期的に双方向のコミュニケーションを行い、監査品質の調査結果やネットワークレベルでの問題対処に関するアクションを議論します。\n",
      "\n",
      "クライアントからのフィードバック\n",
      "\n",
      "クライアントからのフィードバックを積極的に求め、提供されたサービスに対する満足度を監視します。\n",
      "\n",
      "このフィードバックを受けて、エンゲージメントレベルおよびファームレベルでのダイナミックな変更を行い、クライアントのニーズに応えるよう努めます。\n",
      "\n",
      "23\n",
      "\n",
      "Typ済_cleanコメント集約版131条通知記載事項_Complete_201907w.docx - 2019/08/05\n",
      "\n",
      "© 2019 . All rights reserved.\n",
      "\n",
      "© 2019 . All rights reserved.1\n"
     ]
    }
   ],
   "source": [
    "batch_size = 5\n",
    "full_results = []\n",
    "\n",
    "for batch_id, i in enumerate(range(0, len(documents), batch_size)):\n",
    "    print(f\"Handling batch no {batch_id}\")\n",
    "\n",
    "    if (i+batch_size) <= len(documents): \n",
    "        batch_results, missed_batch_indexes = get_translate_results(batch_id, documents[i:i+batch_size], translate_type=\"en_jp\", api_type=\"azure\")\n",
    "    else :\n",
    "        batch_results, missed_batch_indexes = get_translate_results(batch_id, documents[i:], translate_type=\"en_jp\", api_type=\"azure\")\n",
    "\n",
    "    full_results.append(batch_results)"
   ]
  },
  {
   "cell_type": "code",
   "execution_count": 31,
   "id": "86a8a3ff-4e13-479c-95a8-79597b35ef8a",
   "metadata": {},
   "outputs": [
    {
     "data": {
      "text/plain": [
       "(5, 4, 5)"
      ]
     },
     "execution_count": 31,
     "metadata": {},
     "output_type": "execute_result"
    }
   ],
   "source": [
    "len(full_results[0]), len(full_results[1]), len(full_results[2])"
   ]
  },
  {
   "cell_type": "code",
   "execution_count": 35,
   "id": "b5d1652b-9e38-4a36-ae78-c594ad661c25",
   "metadata": {
    "collapsed": true,
    "jupyter": {
     "outputs_hidden": true
    }
   },
   "outputs": [
    {
     "data": {
      "text/plain": [
       "[TranslateResult(original_content='Former members of the audit team or former partners of KPMG AZSA are prohibited from joining an audit client in certain roles unless they have disengaged from all significant connections to KPMG AZSA, including payments which are not fixed and determined and/or would be material to KPMG AZSA and ceased participating in KPMG AZSA business and professional activities.\\n\\nKey audit partners and members of the chain of command for an audit client that is a public interest entity are subject to time restrictions (referred to as ‘cooling-off’ periods) that preclude them from joining that client in certain roles until a defined period of time has passed. \\n\\nWe communicate and monitor requirements in relation to the employment of KPMG AZSA professionals by audit clients.\\n\\n\\n\\nFirm financial independence\\n\\nKPMG member firms must also be free from prohibited interests in, and prohibited relationships with, audit clients, their management, directors, and significant owners.\\n\\nIn common with other KPMG member firms, KPMG AZSA uses KICS to record its own investments (made, for example, through pension and retirement plans and treasury activities) in the web-based independence tracking system. This record is monitored through our compliance process.\\n\\n\\n\\nBusiness relationships/suppliers\\n\\nKPMG AZSA has policies and procedures in place that are designed to ensure its business relationships are maintained in accordance with the IESBA Code of Ethics, Japanese Certified Public Accountant Law, Code of Ethics issued by the JICPA and SEC, US PCAOB rule requirements.\\n\\n\\n\\nIndependence clearance process\\n\\nKPMG AZSA follows specific procedures to identify and evaluate threats to independence related to prospective audit clients that are public interest entities; these procedures, also referred to as ‘the independence clearance process,’ must be completed prior to accepting an audit engagement for these entities. \\n\\n\\n\\nIndependence training and confirmations\\n\\nAll KPMG AZSA partners and client service professionals, as well as certain other individuals, must complete independence training that is appropriate to their grade and function upon joining KPMG AZSA and on an annual basis thereafter. New personnel who are required to complete this training must do so by the earlier of (a) thirty days after joining KPMG AZSA or (b) before providing any services to, or becoming a member of the chain of command for, any audit client, including any of its related entities or affiliates.\\n\\nWe also provide all personnel with training on the Global Code of Conduct, the KPMG AZSA Code of Conduct and ethical behavior, including KPMG’s anti-bribery policies, compliance with laws, regulations, and professional standards, and reporting suspected or actual non-compliance with laws, regulations, professional standards, and KPMG’s policies on a biennial basis. New personnel are required to complete this training within three months of joining KPMG AZSA.\\n\\nUpon acceptance of employment, all KPMG personnel are required to confirm that they are in compliance with, and will abide by, applicable ethics and independence rules and policies. \\n\\nThereafter, all KPMG personnel are required to sign an annual confirmation stating that they have remained in compliance with applicable ethics and independence policies throughout the year covered by the confirmation as well as their understanding of, and compliance with, the applicable Code of Conduct. This confirmation is used to evidence the individual’s compliance with and understanding of KPMG’s independence policies.\\n\\n\\n\\nPartner rotation\\n\\nOur rotation policies, which are consistent with the Certified Public Accountant Law and JICPA Code of Ethics, require our firm to comply with any stricter local applicable rotation requirements. \\n\\nKPMG AZSA partners are subject to periodic rotation of their responsibilities for audit clients under applicable laws, regulations, independence rules, and KPMG International policy. \\n\\nThese requirements place limits on the number of years that partners in certain roles may provide audit services to a client followed by a “time-out” period during which time these partners may not participate in the audit, provide quality control for the audit, consult with the engagement team or the client regarding technical or industry-specific issues or in any way influence the outcome of the audit.\\n\\nKPMG AZSA monitors the rotation of audit engagement leaders (and any other key roles, such as the Key Audit Partner and EQC Reviewer, where there is a rotation requirement) and develops transition plans to enable the allocation of partners with the necessary competence and capability to deliver a consistent quality of service to clients. The partner rotation monitoring is subject to compliance testing.\\n\\n\\n\\nNon-audit services\\n\\nWe have policies that are consistent with IESBA principles and applicable laws and regulations, related to the scope of services that can be provided to audit clients.', translated_content='監査チームの元メンバーやKPMG AZSAの元パートナーは、KPMG AZSAとのすべての重要な関係を解消し、固定されていない支払いやKPMG AZSAにとって重要な支払いを含む、KPMG AZSAのビジネスや専門活動に参加しなくなるまで、監査クライアントに特定の役割で参加することが禁止されています。\\n\\n公益性のある監査クライアントのキーオーディットパートナーや監査チェーンのコマンドメンバーは、所定の期間が経過するまで、特定の役割でクライアントに参加することができない「クーリングオフ」期間が適用されます。\\n\\nKPMG AZSAの専門家が監査クライアントに雇用されることに関連する要件を伝達し、監視しています。\\n\\n\\n\\nファームの財務独立性\\n\\nKPMGメンバーファームは、監査クライアント、その経営陣、取締役、および重要な所有者との禁止された利益や関係からも自由である必要があります。\\n\\nKPMG AZSAをはじめとする他のKPMGメンバーファームでは、KICSを使用して、ウェブベースの独立性追跡システムに自社の投資（たとえば、年金や退職金プラン、財務活動を通じて行われる投資）を記録しています。この記録は、コンプライアンスプロセスを通じて監視されています。\\n\\n\\n\\nビジネス関係/サプライヤー\\n\\nKPMG AZSAは、IESBAの倫理規定、日本公認会計士法、JICPAが発行する倫理規定、SEC、米国PCAOBルール要件に従ってビジネス関係を維持するように設計されたポリシーと手順を持っています。\\n\\n\\n\\n独立性クリアランスプロセス\\n\\nKPMG AZSAは、公益性のある見込み監査クライアントに関連する独立性への脅威を特定および評価するための特定の手順を実施しており、これらの手順は、「独立性クリアランスプロセス」とも呼ばれ、これらのエンティティに対する監査業務の受託前に完了しなければなりません。\\n\\n\\n\\n独立性の研修と確認\\n\\nKPMG AZSAのすべてのパートナーおよびクライアントサービス専門家、および特定の他の個人は、KPMG AZSAに参加した際およびその後毎年、自分のグレードと機能に適した独立性研修を受講しなければなりません。この研修を受講する必要がある新入社員は、KPMG AZSAに参加してから30日以内または監査クライアント（その関連会社や関連団体を含む）にサービスを提供する前に、いずれか早い方を選択して研修を受講しなければなりません。\\n\\nまた、すべての社員に対して、グローバル行動規範、KPMG AZSA行動規範、倫理的行動、KPMGの贈賄防止ポリシー、法令、規制、専門基準の遵守、法令、規制、専門基準、KPMGのポリシーに対する疑わしいまたは実際の違反の報告に関する研修を2年ごとに提供しています。新入社員は、KPMG AZSAに入社してから3か月以内にこの研修を受講する必要があります。\\n\\n雇用の受諾時に、すべてのKPMG社員は、適用される倫理および独立性のルールおよびポリシーを遵守し、遵守することを確認する必要があります。\\n\\nその後、すべてのKPMG社員は、確認書に記載された年間を通じて適用される倫理および独立性ポリシーを遵守し続けたこと、および適用される行動規範を理解し遵守したことを示す年次確認書に署名する必要があります。この確認は、個人がKPMGの独立性ポリシーを遵守し理解していることを証明するために使用されます。\\n\\n\\n\\nパートナーのローテーション\\n\\n当社のローテーションポリシーは、公認会計士法およびJICPAの倫理規定と一致しており、当社はより厳格な現地適用ローテーション要件に準拠する必要があります。\\n\\nKPMG AZSAのパートナーは、適用される法律、規制、独立性ルール、およびKPMGインターナショナルポリシーに基づいて、監査クライアントに対する責任を定期的にローテーションさせる対象となります。\\n\\nこれらの要件は、特定の役割を担うパートナーがクライアントに監査サービスを提供できる年数に制限を設け、その後、これらのパートナーが監査に参加しない期間（監査の品質管理を提供しない期間、エンゲージメントチームやクライアントと技術的または業界固有の問題について相談しない期間、または監査の結果に何らかの影響を与えない期間）を設けます。\\n\\nKPMG AZSAは、監査業務責任者（およびローテーション要件がある場合のその他のキーロール、たとえばキーオーディットパートナーやEQCレビュアー）のローテーションを監視し、必要なコンピテンスと能力を持つパートナーを割り当てて、クライアントに一貫した品質のサービスを提供できるように移行計画を策定しています。パートナーのローテーション監視は、コンプライアンステストの対象となります。\\n\\n\\n\\n非監査サービス\\n\\n監査クライアントに提供できるサービスの範囲に関連する、IESBAの原則および適用される法律および規制と一致したポリシーを持っています。'),\n",
       " TranslateResult(original_content='We are required to establish and maintain a process to review and approve all new and modified services that are developed by KPMG AZSA. KPMG AZSA’s EIP is involved in the review of potential independence issues and the Global Independence Group is involved in the case of services developed which are intended to be delivered to audit or assurance clients in more than one jurisdiction. \\n\\nIn addition to identifying potential conflicts of interest, Sentinel™ facilitates compliance with these policies. \\n\\nCertain information on all prospective engagements, including service descriptions and fees, must be entered into Sentinel™ as part of the engagement acceptance process. Lead audit engagement partners are required to maintain group structures for their publicly traded and certain other audit clients as well as their affiliates in Sentinel™, and they are also responsible for identifying and evaluating any independence threats that may arise from the provision of a proposed non-audit service and the safeguards available to address those threats. Sentinel™ enables lead audit engagement partners for entities for which group structures are maintained to review and approve, or deny, any proposed service for those entities worldwide.\\n\\n\\n\\nFee dependency\\n\\nKPMG International’s policies recognize that self-interest or intimidation threats may arise when the total fees from an audit client represent a large proportion of the total fees of the member firm expressing the audit opinion. \\n\\nThey require that in the event that the total fees from a public interest entity audit client and its related entities were to represent more than 10 percent of the total fees received by a particular member firm for two consecutive years. \\n\\n This would be disclosed to those charged with governance at the audit entity; and \\n\\nEQC reviewer from another KPMG member firm would be appointed.  \\n\\nNo audit client accounted for more than 10 percent of the total fees received by KPMG AZSA over the last two years.\\n\\n\\n\\nAvoiding conflicts of interest\\n\\nConflicts of interest can arise in situations where KPMG AZSA personnel have a personal connection with the client which may interfere, or be perceived to interfere, with their ability to remain objective, or where they are personally in possession of confidential information relating to another party to a transaction. Consultation with the RMP or the EIP is required in these situations.\\u3000\\n\\nAll KPMG member firms and personnel are responsible for identifying and managing conflicts of interest, which are circumstances or situations that have, or may be perceived by a fully informed, reasonable observer, to have an impact on a member firm or its personnel in their ability to be objective or otherwise act without bias.\\n\\nAll KPMG member firms must use Sentinel™ for potential conflict identification so that these can be addressed in accordance with legal and professional requirements. KPMG AZSA has risk management resource/s (‘Resolver/s’) who is/are responsible for reviewing an identified potential conflict and working with the affected member firms to resolve the conflict, the outcome of which must be documented.\\n\\nIt may be necessary to apply specific procedures to manage the potential for a conflict of interest to arise, or be perceived to arise, so that the confidentiality of all clients’ affairs is maintained. Such procedures may, for example, include establishing formal dividers between engagement teams serving different clients, and making arrangements to monitor the operation of such dividers.\\n\\nEscalation and dispute resolution procedures are in place for situations in which agreement cannot be reached on how to manage a conflict. \\n\\nIf a potential conflict issue cannot be appropriately mitigated, the engagement is declined or terminated.\\n\\n\\n\\nBreaches of independence policy\\n\\nAll KPMG personnel are required to report an independence breach as soon as they become aware of it to the EIP. In the event of failure to comply with our independence policies, whether identified in the compliance review, self-declared or otherwise, professionals are subject to an independence disciplinary policy. \\n\\n\\n\\nKPMG AZSA has a documented disciplinary policy in relation to breaches of independence policies. The disciplinary policy is communicated to all professionals and applies to all breaches of independence rules, incorporating incremental sanctions reflecting the seriousness of any violations. \\n\\n\\n\\nAny breaches of auditor independence regulations are reported to those charged with governance at the audit client, on the basis agreed with them but at a minimum on an annual basis.\\u3000\\n\\n\\n\\nCompliance with laws, regulations, and anti-bribery and corruption \\n\\nCompliance with laws, regulation, and standards is a key aspect for all KPMG AZSA personnel. In particular, we have zero tolerance of bribery and corruption. \\n\\nWe prohibit involvement in any type of bribery — even if such conduct is legal or permitted under applicable law or local practice. We also do not tolerate bribery by third parties, including by our clients, suppliers or public officials.\\n\\nFurther information on KPMG International anti-bribery and corruption policies can be found on the anti-bribery and corruption site.\\n\\n\\nInsider trading prevention', translated_content='KPMG AZSAによって開発されるすべての新規および改訂されたサービスを審査および承認するプロセスを確立および維持することが求められています。KPMG AZSAのEIPは、潜在的な独立性の問題の審査に関与し、複数の管轄区域で監査または保証クライアントに提供することを意図した開発されたサービスの場合、グローバル・インデペンデンス・グループが関与します。\\n\\nSentinel™は、これらのポリシーに準拠することを容易にするだけでなく、利益相反の潜在的な問題を特定するのにも役立ちます。\\n\\nすべての見込みエンゲージメントに関する特定の情報（サービスの説明や料金など）は、エンゲージメント受け入れプロセスの一部としてSentinel™に入力する必要があります。リード監査エンゲージメントパートナーは、上場企業および特定の他の監査クライアントおよびその関連会社のグループ構造をSentinel™で維持することが求められており、また、提案された非監査サービスの提供から生じる可能性のある独立性の脅威と、それらの脅威に対処するための利用可能なセーフガードを特定および評価する責任も負っています。Sentinel™は、グループ構造が維持されているエンティティのリード監査エンゲージメントパートナーが、それらのエンティティに対する提案されたサービスを世界中で承認または拒否することを可能にします。\\n\\n料金依存性\\n\\nKPMGインターナショナルのポリシーは、監査クライアントからの総料金が、監査意見を表明するメンバーファームの総料金の大部分を占める場合、自己利益または脅迫の脅威が生じる可能性があることを認識しています。\\n\\n公共利益エンティティ監査クライアントおよびその関連エンティティからの総料金が、2年連続で特定のメンバーファームが受け取る総料金の10％を超える場合、以下の要件が適用されます。\\n\\n1. 監査エンティティのガバナンスを担当する者に対して開示される。\\n2. 別のKPMGメンバーファームからEQCレビュアーが任命される。\\n\\n過去2年間で、KPMG AZSAが受け取った総料金の10％を超える監査クライアントはありませんでした。\\n\\n利益相反の回避\\n\\n利益相反は、KPMG AZSAのスタッフがクライアントとの個人的なつながりを持っており、それが客観性を維持する能力に干渉するか、または干渉すると認識される可能性がある状況、または取引の他の当事者に関する機密情報を個人的に保有している場合に生じる可能性があります。このような状況では、RMPまたはEIPとの相談が必要です。\\n\\nすべてのKPMGメンバーファームおよびスタッフは、利益相反を特定および管理する責任があります。利益相反とは、十分に情報を持つ合理的な観察者が、メンバーファームまたはそのスタッフが客観的であるか、または偏りなく行動する能力に影響を与えるかもしれないと認識される状況または状況です。\\n\\nすべてのKPMGメンバーファームは、法的および専門的要件に従ってこれらの問題に対処できるように、潜在的な利益相反の特定のためにSentinel™を使用する必要があります。KPMG AZSAには、潜在的な利益相反を特定し、影響を受けるメンバーファームと協力して利益相反を解決する責任を持つリスク管理リソース（「リゾルバ」）があります。その結果は文書化されなければなりません。\\n\\n利益相反が生じるか、または生じると認識される可能性を管理するために、特定の手順を適用する必要がある場合があります。これにより、すべてのクライアントの機密性が維持されます。たとえば、異なるクライアントを担当するエンゲージメントチーム間に正式な仕切りを設け、その仕切りの運用を監視する手配をすることが含まれます。\\n\\nエスカレーションおよび紛争解決手順は、利益相反の管理方法について合意に達することができない状況に適用されます。\\n\\n潜在的な利益相反の問題が適切に緩和できない場合、エンゲージメントは辞退または終了されます。\\n\\n独立性ポリシーの違反\\n\\nすべてのKPMGスタッフは、独立性違反に気付いたらすぐにEIPに報告することが求められています。独立性ポリシーに違反した場合、コンプライアンスレビューで特定された場合、自己申告された場合、またはその他の場合に、専門家は独立性懲戒ポリシーの対象となります。\\n\\nKPMG AZSAは、独立性ポリシー違反に関する文書化された懲戒ポリシーを持っています。懲戒ポリシーは、すべての専門家に通知され、独立性規則のすべての違反に適用され、違反の深刻さを反映した段階的な制裁が含まれます。\\n\\n監査人の独立性規制の違反は、監査クライアントのガバナンスを担当する者に報告されます。これは、彼らとの合意に基づいて行われますが、最低限年1回行われます。\\n\\n法令、規制、および贈賄および腐敗防止への遵守\\n\\n法令、規制、および基準の遵守は、すべてのKPMG AZSAスタッフにとって重要な側面です。特に、贈賄と腐敗に対してはゼロトレランスです。\\n\\n適用法または現地の慣行で合法または許可されている場合であっても、あらゆる種類の贈賄への関与を禁止しています。また、第三者による贈賄も容認しません。これには、クライアント、サプライヤー、または公務員による贈賄が含まれます。\\n\\nKPMGインターナショナルの贈賄および腐敗防止ポリシーに関する詳細情報は、贈賄および腐敗防止サイトで見つけることができます。\\n\\nインサイダー取引防止'),\n",
       " TranslateResult(original_content='Insider trading prevention\\n\\nIn order to prevent insider trading, KPMG AZSA has internal rules and procedures that aim to establish information credibility in the capital markets. These include the prohibition of holding or trading in the securities of audited entities and registration on a web-based independence tracking system to monitor personal investments in publicly traded companies in Japan and other jurisdictions. \\n\\nAll partners and employees understand our insider trading policy through appropriate training and provide an annual confirmation that they have remained in compliance with applicable policies throughout the period.\\n\\n\\n\\n Recruitment, development, and assignment of appropriately qualified personnel\\n\\nOne of the key drivers of quality is ensuring that our professionals have the appropriate skills and experience, passion and purpose, to deliver the highest quality in audit. This requires appropriate recruitment, development, promotion, and retention assignment of professionals. The KPMG performance development approach, linked to the KPMG values, is designed to articulate what is required for success — both individually and collectively. Ensuring audit quality is an essential element of the training, planning, and development underway to support the KPMG Clara Workflow roll-out and the associated updated KPMG audit methodology, with processes embedded in all KPMG learning programs.\\n\\n\\n\\nRecruitment\\n\\nKPMG AZSA strives to be an employer of choice by creating an environment where our people can fulfill their potential and feel proud and motivated to give their best.  \\n\\n\\n\\nAll candidates submit an application and are employed following a variety of selection processes, which may include application screening, competency-based interviews, psychometric and ability testing.\\n\\n\\n\\nKPMG AZSA does not accept any confidential information belonging to the candidate’s former firm/employer. Where individuals are recruited for senior grades (i.e. partner, director), a formal independence discussion is conducted with them by the EIP. \\n\\n\\n\\nThe Partner hire process is rigorous and thorough, involving appropriate members of leadership, including the Partners’ Meeting and the Senior Executive Board. Our criteria for Partner hires are consistent with our commitment to professionalism and integrity, quality, and being an employer of choice. \\n\\n\\n\\nPersonal development\\n\\nIt is important that all our professionals have the necessary business and leadership skills in addition to technical skills to be able to perform quality work.\\n\\n\\n\\nIn relation to audit, opportunities are provided for professionals to develop the skills, behaviors, and personal qualities that form the foundations of a career in auditing. Courses are available to enhance personal effectiveness and develop technical, leadership, and business skills.\\n\\nIn addition, training sessions are successively provided for each partner and employer to ensure the importance of  enhancing, keeping and exhibiting professional skepticism throughout the audit and also to provide member the appropriate opportunities of instruction and training about fraud. \\n\\nKPMG AZSA professionals are also developed for high performance through access to coaching and mentoring on the job, stretch assignments, and country rotational and global mobility opportunities.\\n\\n\\n\\nInclusion and Diversity programs\\n\\nKPMG AZSA works hard to foster an inclusive culture. Being inclusive enables us to bring together successful teams with the broadest range of skills, experiences, and perspectives.\\n\\nWe encourage each partner and employee with diverse personalities to achieve high performance toward the common goal of “contributing to audit clients and society through the provision of high-quality services”, while respecting and making the most of each other’s differences. \\n\\nKPMG AZSA adopts a variety of approaches to establish an environment conducive to more diverse and flexible work styles. Specific initiatives include: developing globally minded personnel; promoting women’s participation in the workforce; supporting our people as they balance work and childbirth, childcare, and nursing care; promoting employment of persons with disabilities; creating a corporate culture that allows and encourages our people to embrace diversity; and introducing teleworking, as well as changing the office work style more generally.\\n\\nFor more information about Inclusion & Diversity at KPMG, read here.\\n\\n\\nEvaluation process including quality and compliance metrics\\n\\nKPMG AZSA professionals, including partners, have annual goal-setting and performance reviews. Each professional is evaluated on his or her agreed-upon goals, demonstration of our leadership competencies, technical capabilities, and market knowledge. A culture of continuous improvement is encouraged to drive feedback, both formal and informal, from junior and senior colleagues, as well as peers. Feedback gathered forms an integral part of performance reviews. \\n\\n\\n\\nKPMG AZSA monitors quality and compliance incidents and maintains quality metrics in assessing the overall evaluation, promotion, and remuneration of partners, directors, and managers.\\n\\nPartners are also evaluated on key quality and compliance metrics. \\n\\nThese evaluations are conducted by performance managers and partners who are in a position to assess their performance and propose a performance rating. KPMG AZSA’s policy prohibits audit partners from being evaluated on or compensated based on their success in selling non-assurance services to audit clients.\\n\\n\\n\\n\\n\\n\\n\\nReward', translated_content='インサイダー取引防止\\n\\nインサイダー取引を防止するために、KPMG AZSAは、資本市場における情報の信頼性を確立することを目的とした内部規則および手続きを持っています。これには、監査対象の証券の保有や取引の禁止、ウェブベースの独立性追跡システムへの登録を通じて、日本および他の管轄区域での上場企業への個人投資を監視することが含まれます。\\n\\nすべてのパートナーと従業員は、適切な研修を通じてインサイダー取引ポリシーを理解し、期間中適用されるポリシーに従っていることを毎年確認します。\\n\\n\\n\\n適切に資格を持った人材の採用、育成、配置\\n\\n品質の主要な要因の1つは、専門家が適切なスキルと経験、情熱と目的を持って、最高品質の監査を提供できることを確保することです。これには、適切な採用、育成、昇進、および専門家の配置が必要です。KPMGの業績開発アプローチは、KPMGの価値観にリンクし、個人的および集団的な成功に必要なものを明確にするように設計されています。監査品質の確保は、KPMGクララワークフローの展開とそれに関連する更新されたKPMG監査方法論をサポートするための研修、計画、および開発に不可欠な要素であり、すべてのKPMG研修プログラムに組み込まれています。\\n\\n\\n\\n採用\\n\\nKPMG AZSAは、従業員が潜在能力を発揮し、最善を尽くすことに誇りと意欲を持てる環境を作り出すことで、優れた雇用主であることを目指しています。\\n\\n\\n\\nすべての候補者は、応募書類の提出と、応募書類の審査、コンピテンシーに基づく面接、心理テストおよび能力テストを含むさまざまな選考プロセスを経て採用されます。\\n\\n\\n\\nKPMG AZSAは、候補者の以前の会社/雇用主からの機密情報を受け入れません。シニアグレード（つまり、パートナー、ディレクター）の個人が採用される場合、EIPによって彼らとの独立性に関する正式な議論が行われます。\\n\\n\\n\\nパートナー採用プロセスは厳格で徹底的であり、パートナーズミーティングやシニアエグゼクティブボードを含む適切なリーダーシップメンバーが関与します。パートナー採用の基準は、プロフェッショナリズムと誠実さ、品質、優れた雇用主であることへのコミットメントと一致しています。\\n\\n\\n\\n個人の成長\\n\\nすべての専門家が、技術スキルに加えて、ビジネススキルとリーダーシップスキルを持って質の高い仕事を行うことが重要です。\\n\\n\\n\\n監査に関連して、専門家が監査業務におけるキャリアの基盤となるスキル、行動、および個人的資質を開発する機会が提供されます。個人の効果を高め、技術、リーダーシップ、ビジネススキルを開発するためのコースが利用可能です。\\n\\nさらに、各パートナーおよび従業員に対して、監査全体を通じて専門的懐疑心を高め、維持し、展示する重要性を確保し、詐欺に関する指導および研修の適切な機会を提供するために、研修セッションが継続的に提供されます。\\n\\nKPMG AZSAの専門家は、仕事でのコーチングやメンタリング、厳しい課題、国内のローテーションおよびグローバルな機動性の機会を通じて、高いパフォーマンスを発揮するために育成されます。\\n\\n\\n\\nインクルージョンとダイバーシティプログラム\\n\\nKPMG AZSAは、包括的な文化を育成するために努力しています。包括的であることにより、最も幅広いスキル、経験、および視点を持つ成功したチームを結集することができます。\\n\\n私たちは、異なる個性を持つ各パートナーおよび従業員が、互いの違いを尊重し、最大限に活用しながら、「高品質なサービスを提供することで監査クライアントと社会に貢献する」という共通の目標に向かって高いパフォーマンスを達成することを奨励しています。\\n\\nKPMG AZSAは、さまざまなアプローチを採用して、より多様で柔軟な働き方に適した環境を整備しています。具体的な取り組みには、グローバル志向の人材の育成、女性の労働力参加の促進、出産・育児・介護と仕事の両立を支援する取り組み、障害者の雇用促進、多様性を受け入れ、活用する企業文化の創造、テレワークの導入、オフィスの働き方の変革などがあります。\\n\\nKPMGのインクルージョン＆ダイバーシティに関する詳細は、こちらをご覧ください。\\n\\n\\n\\n品質とコンプライアンス指標を含む評価プロセス\\n\\nKPMG AZSAの専門家、パートナーを含む、は年間の目標設定と業績評価を行います。各専門家は、合意された目標、リーダーシップ能力の実証、技術能力、市場知識に基づいて評価されます。継続的な改善の文化が、ジュニアおよびシニアの同僚、同僚からのフィードバックを促進するように励まされます。収集されたフィードバックは、業績評価の重要な部分を形成します。\\n\\n\\n\\nKPMG AZSAは、品質とコンプライアンスの事故を監視し、パートナー、ディレクター、およびマネージャーの全体的な評価、昇進、および報酬の決定に品質指標を維持します。\\n\\nパートナーも、主要な品質およびコンプライアンス指標に基づいて評価されます。\\n\\nこれらの評価は、業績評価を行い、パフォーマンス評価を提案できる立場にあるパフォーマンスマネージャーおよびパートナーによって行われます。KPMG AZSAの方針では、監査パートナーが監査クライアントに対する非保証サービスの販売成功に基づいて評価されたり、報酬を受け取ることが禁止されています。\\n\\n\\n\\n報酬'),\n",
       " TranslateResult(original_content='Reward\\n\\nWe have compensation and promotion policies that are clear, simple, and linked to the performance review process which, for partners, includes the achievement of key audit quality and compliance metrics. This helps our partners and employees know what is expected of them, and what they can expect to receive in return. \\n\\nReward decisions are based on the consideration of both individual and organizational (member firm) performance. The extent to which our people feel their performance has been reflected in their reward is measured through the GPS, with action plans developed accordingly.\\n\\n\\n\\nPromotion\\n\\nThe results of performance evaluations directly affect the promotion and remuneration of partners and staff and, in some cases, their continued association with KPMG.\\n\\n\\n\\nPartner admissions\\n\\nOur process for admission to partnership is rigorous and thorough, involving appropriate members of leadership, including the Partners’ Meeting and the Senior Executive Board. \\n\\nOur criteria for admission to the KPMG AZSA partnership are consistent with our commitment to professionalism and integrity, quality and being an employer of choice. These are strongly aligned to KPMG’s behavioral capabilities and are based on consistent principles.\\n\\n\\n\\nAssignment of professionals\\n\\nKPMG AZSA has procedures in place to assign both the engagement partners and other professionals to a specific engagement on the basis of their skill sets, relevant professional and industry experience, and the nature of the assignment or engagement. \\n\\nFunction heads are responsible for the partner assignment process. Key considerations include partner experience and capacity based on an annual partner portfolio review to perform the engagement taking into account the size, complexity, and risk profile of the engagement and the type of support to be provided (i.e. the engagement team composition and specialist involvement). \\n\\nAudit engagement partners are required to be satisfied that their engagement teams have appropriate competencies, training and capabilities, including time, to perform audit engagements in accordance with KAM, professional standards, and applicable legal and regulatory requirements. This may include involving specialists from our own firm or other KPMG member firms. \\n\\n\\n\\nWhen considering the appropriate competence and capabilities expected of the engagement team as a whole, the engagement partner’s considerations may include the following: \\n\\nan understanding of, and practical experience with, audit engagements of a similar nature and complexity through appropriate training and participation;\\n\\nan understanding of professional standards and legal and regulatory requirements;\\n\\nappropriate technical skills, including those related to relevant information technology and specialized areas of accounting or auditing; \\n\\nknowledge of relevant industries in which the client operates;\\n\\nability to apply professional judgment; \\n\\nan understanding of KPMG AZSA’s quality control policies and procedures; \\n\\nQPR results and results of regulatory inspections, as well as ;\\n\\nInsights from our people (GPS). \\n\\n\\n\\nfrom our people —People Survey (GPS)\\n\\nBiennially, KPMG Japan invites all our people to participate in an independent GPS to share their perception about their experience working for KPMG. \\n\\nThe GPS provides an overall measure of our people’s engagement through an Employee Engagement Index (EEI) as well as insights into areas driving engagement which may be strengths or opportunities. The survey also identifies opportunities to strengthen those levels of engagement. Results can be analyzed by functional or geographic area, grade, role, gender to provide additional insight. Additional insight is provided on how we are faring on categories known to impact employee engagement.\\n\\nThe survey also specifically provides KPMG AZSA leadership and KPMG global leadership with results related to audit quality, upholding the KPMG values, employee and partner attitudes to quality, leadership, and tone at the top. \\n\\nKPMG AZSA participates in the GPS, monitors results, and takes appropriate actions to communicate and respond to the findings of the survey. \\n\\nThis includes monitoring GPS results including those related to:\\n\\naudit quality and tone at the top;\\n\\nemployee engagement through the EEI.\\n\\nThe GPS results are also aggregated for the KPMG network and are presented to the Global Board each year and appropriate follow-up actions agreed.\\n\\n\\n\\n Commitment to technical excellence and quality service delivery\\n\\nAll KPMG AZSA professionals are provided with the technical training and support they need. This includes access to specialists and the professional practice department, which are made up of senior professionals with extensive experience in audit, reporting, and risk management, either to provide resources to the engagement team or for consultation.\\u3000\\n\\nWhere the right resource is not available within KPMG AZSA, access is provided to a network of highly skilled KPMG professionals in other KPMG member firms. \\n\\nAt the same time, audit policies require professionals to have the appropriate knowledge and experience for their assigned engagements. \\n\\n\\n\\nLifetime learning strategy', translated_content='報酬\\n\\n報酬と昇進のポリシーは、明確でシンプルであり、パートナーにとっては、主要な監査品質とコンプライアンス指標の達成を含むパフォーマンス評価プロセスにリンクしています。これにより、パートナーや従業員が自分たちに何が求められているか、そして報酬として何を受け取ることができるかを理解することができます。\\n\\n報酬の決定は、個人と組織（メンバーファーム）のパフォーマンスの両方を考慮して行われます。GPSを通じて、従業員が自分のパフォーマンスが報酬に反映されていると感じる程度が測定され、それに応じた行動計画が策定されます。\\n\\n\\n\\n昇進\\n\\nパフォーマンス評価の結果は、パートナーやスタッフの昇進や報酬に直接影響し、場合によってはKPMGとの継続的な関係にも影響します。\\n\\n\\n\\nパートナー入会\\n\\nパートナーシップへの入会プロセスは厳格で徹底的であり、パートナーズミーティングやシニアエグゼクティブボードを含む適切なリーダーシップメンバーが関与します。\\n\\nKPMG AZSAパートナーシップへの入会基準は、プロフェッショナリズムと誠実さ、品質、優れた雇用主であることへのコミットメントと一致しており、KPMGの行動能力と強く連携しており、一貫した原則に基づいています。\\n\\n\\n\\nプロフェッショナルの割り当て\\n\\nKPMG AZSAは、エンゲージメントパートナーとその他のプロフェッショナルを、彼らのスキルセット、関連する専門知識や業界経験、および割り当てやエンゲージメントの性質に基づいて特定のエンゲージメントに割り当てるための手続きを整えています。\\n\\n機能責任者は、パートナー割り当てプロセスを担当します。主な考慮事項には、パートナーの経験と、エンゲージメントの規模、複雑さ、リスクプロファイル、および提供されるサポートの種類（つまり、エンゲージメントチームの構成と専門家の関与）を考慮して、年次パートナーポートフォリオレビューに基づくキャパシティが含まれます。\\n\\n監査エンゲージメントパートナーは、エンゲージメントチームがKAM、専門基準、および適用される法的および規制要件に従って監査エンゲージメントを実施するための適切な能力、研修、および能力（時間を含む）を持っていることを確認する必要があります。これには、自社や他のKPMGメンバーファームの専門家を巻き込むことが含まれる場合があります。\\n\\n\\n\\nエンゲージメントチーム全体として適切な能力と能力が期待されることを考慮する際、エンゲージメントパートナーの考慮事項には、以下が含まれる場合があります。\\n\\n適切な研修と参加を通じて、同様の性質と複雑さの監査エンゲージメントに対する理解と実践的な経験;\\n\\n専門基準および法的および規制要件の理解;\\n\\n関連する情報技術や会計や監査の専門分野に関連する適切な技術スキル;\\n\\nクライアントが事業を展開する関連業界の知識;\\n\\n専門的判断力の適用;\\n\\nKPMG AZSAの品質管理ポリシーおよび手順の理解;\\n\\nQPRの結果と規制検査の結果、および;\\n\\n従業員からの洞察（GPS）。\\n\\n\\n\\n従業員からのフィードバック - 人々の調査（GPS）\\n\\nKPMG Japanは、2年に1度、すべての従業員を対象に、独立したGPSに参加して、KPMGでの働く経験に関する認識を共有するよう招待します。\\n\\nGPSは、従業員エンゲージメント指数（EEI）を通じて従業員のエンゲージメントの全体的な測定を提供するとともに、エンゲージメントを促進する要因が強みであるか、または機会であるかに関する洞察を提供します。また、エンゲージメントレベルを強化する機会を特定します。結果は、機能や地域、グレード、役割、性別によって分析することができ、追加の洞察を提供します。従業員エンゲージメントに影響を与えることが知られているカテゴリーに関して、どのように進んでいるかについての追加の洞察が提供されます。\\n\\nまた、調査は、監査品質、KPMGの価値観の維持、従業員とパートナーの品質、リーダーシップ、トップのトーンに関する態度に関連する結果をKPMG AZSAリーダーシップおよびKPMGグローバルリーダーシップに提供します。\\n\\nKPMG AZSAは、GPSに参加し、結果を監視し、調査の結果に対して適切な対応を行います。\\n\\nこれには、以下に関連するGPS結果の監視が含まれます。\\n\\n監査品質とトップのトーン;\\n\\nEEIを通じた従業員のエンゲージメント。\\n\\nGPSの結果は、KPMGネットワーク全体で集計され、毎年グローバルボードに提出され、適切なフォローアップアクションが合意されます。\\n\\n\\n\\n技術的卓越性と品質サービス提供へのコミットメント\\n\\nすべてのKPMG AZSAプロフェッショナルには、必要な技術研修とサポートが提供されます。これには、専門家やプロフェッショナルプラクティス部門へのアクセスが含まれ、監査、報告、リスク管理の分野で豊富な経験を持つ上級プロフェッショナルがエンゲージメントチームにリソースを提供するか、相談に応じるために構成されています。\\n\\nKPMG AZSA内に適切なリソースがない場合、他のKPMGメンバーファームの高度にスキルを持つKPMGプロフェッショナルのネットワークへのアクセスが提供されます。\\n\\n同時に、監査ポリシーでは、プロフェッショナルが割り当てられたエンゲージメントに適切な知識と経験を持っていることが求められます。\\n\\n\\n\\nライフタイムラーニング戦略')]"
      ]
     },
     "execution_count": 35,
     "metadata": {},
     "output_type": "execute_result"
    }
   ],
   "source": [
    "full_results[1]"
   ]
  },
  {
   "cell_type": "code",
   "execution_count": 32,
   "id": "174287aa-e2d3-4d65-8a72-93896fab53f6",
   "metadata": {
    "collapsed": true,
    "jupyter": {
     "outputs_hidden": true
    }
   },
   "outputs": [
    {
     "name": "stdout",
     "output_type": "stream",
     "text": [
      "0\n",
      "You are here already\n",
      "2017年のKPMGクララの立ち上げを受けて、KPMGインターナショナルは、KPMG監査チームがKPMG監査を実行および文書化するために使用する新しいワークフローツールを作成しています。直感的で使いやすく、モダンなデザインです。新しいシステムは、監査チームを一連のステップで論理的に案内するワークフローであり、情報やビジュアルの表示がより明確で、必要に応じて知識やガイダンスが利用でき、高度なD&A機能が組み込まれています。ワークフローと方法論はスケーラブルであり、監査エンゲージメントの規模と複雑さに応じて要件を調整します。このグローバルに推進されるプロジェクトは、KPMGプロフェッショナルによる監査の実行を大幅に刷新し、監査品質の向上を促進します。\n",
      "\n",
      "監査データ＆アナリティクス（D&A）\n",
      "\n",
      "KPMGの監査は、D&Aによって強化されています。\n",
      "\n",
      "データ集団に対する理解を深め、高リスク取引に焦点を当てることで監査品質が向上します。\n",
      "\n",
      "KPMGのIT環境内およびデータ転送中のアクセス制限により、セキュリティが確保されています。\n",
      "\n",
      "詳細な分析により、外れ値や異常の背後にある理由や根本原因を明らかにし、高リスク取引やプロセス領域の可視性を向上させることで透明性が提供されます。\n",
      "\n",
      "D&Aツールとルーチンは、監査に関する原則と専門的な基準に基づいて構築されており、監査人の責任を免除するものではありません。\n",
      "\n",
      "独立性、誠実性、倫理、客観性\n",
      "\n",
      "概要\n",
      "\n",
      "監査人の独立性は、国際的な専門基準と規制要件の基石です。\n",
      "\n",
      "KPMGインターナショナルは、IESBAの倫理規定の要件を取り入れた詳細な独立性ポリシーと手順を持っており、KPMGのグローバルQ＆RMマニュアルに記載されています。自動化ツールがこれらの要件の遵守を支援します。\n",
      "\n",
      "これらのポリシーは、公認会計士法およびJICPAが発行する倫理規定によって発行された基準の遵守を確保するための他のプロセスによって補完されています。\n",
      "\n",
      "これらのポリシーとプロセスは、事業の独立性、個人の独立性、事業の財務関係、雇用後の関係、パートナーのローテーション、監査および非監査サービスの承認などの分野をカバーしています。\n",
      "\n",
      "KPMGインターナショナルには、グローバル独立性グループの責任者であるパートナーがおり、KPMGメンバーファームで堅牢で一貫した独立性ポリシーと手順が確立され、それらの要件を遵守するためのツールが利用できるように、専門家チームがサポートしています。\n",
      "\n",
      "KPMG AZSAには、倫理および独立性パートナー（EIP）が指定されており、倫理および独立性ポリシーおよび手順の方向性と実行を主に担当しています。\n",
      "\n",
      "年間を通じてKPMGインターナショナルの倫理および独立性ポリシーに対する修正は、定期的な品質およびリスク通信に含まれています。\n",
      "\n",
      "メンバーファームは、電子メールアラートで指定された変更を実施する必要があり、これは内部監視プログラムを通じて確認されます。\n",
      "\n",
      "KPMG AZSAの職員は、内部規則で定められた事項についてEIPに相談することが求められます。事実や状況によっては、グローバル独立性グループとの相談も必要になる場合があります。\n",
      "\n",
      "個人の財政独立\n",
      "\n",
      "KPMGインターナショナルのポリシーでは、KPMGメンバーファームおよびKPMGプロフェッショナルが、KPMGメンバーファームの監査クライアント、その経営陣、取締役、および重要な所有者との禁止された金融利益および禁止された関係から解放されることが求められています。また、ポリシーは、IESBAの倫理規定による監査クライアント証券の所有制限を、当社のすべてのパートナーおよびマネージャー以上のスタッフに適用しています。\n",
      "\n",
      "KPMG AZSAのプロフェッショナルは、継続的に適切な問い合わせを行い、他の適切な行動を取ることにより、独立性の目的で制限されている個人の財政、ビジネス、または家族の利益を持っていないことを確認する責任があります。\n",
      "\n",
      "他のKPMGメンバーファームと同様に、私たちは独立性遵守システム（KICS）というウェブベースのシステムを使用して、プロフェッショナルが個人の独立性投資ポリシーを遵守するのを支援しています。このシステムには、一般に入手可能な投資の在庫が含まれています。\n",
      "\n",
      "パートナーおよびすべてのマネージャー以上のクライアント対応者は、投資を行う前にKICSシステムを使用して、それが許可されているかどうかを特定する必要があります。また、KICSで自分のすべての投資の記録を維持することも求められます。これにより、投資が制限されると自動的に通知されます。新たに制限された投資は、通知から5営業日以内に処分する必要があります。\n",
      "\n",
      "KPMGは、プロフェッショナルのサンプルに対する独立性遵守監査のプログラムの一環として、パートナーおよびマネージャーのこの要件の遵守を監視しています。\n",
      "\n",
      "雇用関係\n",
      "\n",
      "監査クライアントにサービスを提供するプロフェッショナルは、機能に関係なく、その監査クライアントとの雇用交渉に入る予定である場合、EIP、監査クライアントのエンゲージメントパートナー、および人事部に通知する必要があります。\n"
     ]
    }
   ],
   "source": [
    "missed_results = get_translate_results(documents[5:6], translate_type=\"en_jp\", api_type=\"azure\")"
   ]
  },
  {
   "cell_type": "code",
   "execution_count": 37,
   "id": "6cee8613-bb4c-48f1-a56c-37dc0e98d366",
   "metadata": {},
   "outputs": [
    {
     "data": {
      "text/plain": [
       "__main__.TranslateResult"
      ]
     },
     "execution_count": 37,
     "metadata": {},
     "output_type": "execute_result"
    }
   ],
   "source": [
    "type(missed_results[0])"
   ]
  },
  {
   "cell_type": "code",
   "execution_count": 38,
   "id": "a314763d-1798-4d88-b536-b7868d8087b2",
   "metadata": {},
   "outputs": [],
   "source": [
    "# inserting missed results to desired index\n",
    "full_results[1].insert(0, missed_results[0])"
   ]
  },
  {
   "cell_type": "code",
   "execution_count": 39,
   "id": "7336a78b-1acd-45b1-a71e-26d7ed99b852",
   "metadata": {},
   "outputs": [
    {
     "data": {
      "text/plain": [
       "(5, 5, 5)"
      ]
     },
     "execution_count": 39,
     "metadata": {},
     "output_type": "execute_result"
    }
   ],
   "source": [
    "len(full_results[0]), len(full_results[1]), len(full_results[2])"
   ]
  },
  {
   "cell_type": "code",
   "execution_count": null,
   "id": "a1d97cab-395e-4390-af5d-5d87ee453289",
   "metadata": {},
   "outputs": [],
   "source": []
  },
  {
   "cell_type": "code",
   "execution_count": null,
   "id": "20ef8fd6-1a56-4c5c-8080-10369c83860e",
   "metadata": {},
   "outputs": [],
   "source": []
  },
  {
   "cell_type": "code",
   "execution_count": 40,
   "id": "471a6bea-bcd3-4d43-9e32-b6b35b16530b",
   "metadata": {},
   "outputs": [],
   "source": [
    "final_results = []\n",
    "for res_batch in full_results:\n",
    "    final_results = final_results + res_batch"
   ]
  },
  {
   "cell_type": "code",
   "execution_count": 44,
   "id": "45b1da47-7a6e-4429-bd6e-a2d70da1b15b",
   "metadata": {},
   "outputs": [
    {
     "data": {
      "text/plain": [
       "15"
      ]
     },
     "execution_count": 44,
     "metadata": {},
     "output_type": "execute_result"
    }
   ],
   "source": [
    "len(final_results)"
   ]
  },
  {
   "cell_type": "code",
   "execution_count": 42,
   "id": "3bf18bbf-c945-47b9-b1a2-f838e9a18535",
   "metadata": {
    "collapsed": true,
    "jupyter": {
     "outputs_hidden": true
    }
   },
   "outputs": [
    {
     "data": {
      "text/plain": [
       "'ABCD\\n\\n○○○○株式会社御中\\n\\n有限責任あずさ監査法人の品質管理システム\\n\\n2012年6月\\n\\n英語翻訳-参照用のみ\\n\\nこれは、日本国外の読者の便宜のために作成された日本語オリジナル版の非公式な翻訳です。日本語オリジナルとこの翻訳の間に相違がある場合は、日本語オリジナルが優先されます。\\n\\n法人計算規則第131条に基づく法人監査人等への報告事項の通知\\n\\nXX 2019\\n\\nKPMG AZSA LLC\\n\\n目次\\n\\n1. 品質管理システム\\t1\\n\\n2. トップのトーン\\t3\\n\\n(1)\\t品質とリスク管理のリーダーシップ責任\\t4\\n\\n3. 適切なクライアントとの関わり\\t5\\n\\n(1)\\tクライアントとエンゲージメントの受け入れと継続\\t5\\n\\n(2)\\t見込みクライアントとエンゲージメント受け入れプロセス\\t5\\n\\n(3)\\t継続プロセス\\t6\\n\\n(4)\\t撤退\\t6\\n\\n(5)\\tクライアントポートフォリオ管理\\t6\\n\\n4. 明確な基準と堅牢な監査ツール\\t7\\n\\n(1)\\t監査へのアプローチ\\t7\\n\\n(2)\\t独立性、誠実性、倫理性、客観性\\t9\\n\\n5. 適切に資格を持った人材の採用、育成、配置\\t13\\n\\n(1)\\t採用\\t14\\n\\n(2)\\t個人の成長\\t14\\n\\n(3)\\tインクルージョンとダイバーシティプログラム\\t14\\n\\n(4)\\t品質とコンプライアンス指標を含む評価プロセス\\t15\\n\\n(5)\\tパートナーの採用\\t15\\n\\n(6)\\t専門家の配置\\t15\\n\\n(7)\\t私たちの人々から - グローバル・ピープル・サーベイ（GPS）\\t16\\n\\n6. 技術的卓越性と品質サービス提供への取り組み\\t17\\n\\n(1)\\tライフタイム・ラーニング戦略\\t17\\n\\n(2)\\tIFRSおよび米国GAAPエンゲージメントに対するライセンスおよび必須要件\\t17\\n\\n(3)\\t専門家ネットワークへのアクセス\\t18\\n\\n(4)\\tコンサルテーション文化\\t18\\n\\n(5)\\tビジネス理解と業界知識の開発\\t19\\n\\n7. 効果的かつ効率的な監査の実施\\t19\\n\\n(1)\\t継続的な指導、監督、レビュー\\t19\\n\\n(2)\\t適時なエンゲージメント品質管理（EQC）レビュアー\\t20\\n\\n(3)\\t報告\\t20\\n\\n(4)\\t洞察力のある、オープンで正直な双方向コミュニケーション\\t21\\n\\n(5)\\t前任監査人と後任監査人間のコミュニケーション\\t21\\n\\n(6)\\tクライアントの機密性、情報セキュリティ、データプライバシー\\t21\\n\\n(7)\\tリスク関連情報\\t21\\n\\n8. 持続的な改善への取り組み\\t22\\n\\n(1)\\t内部監査およびコンプライアンスプログラム\\t22\\n\\n(2)\\t外部からのフィードバックと対話\\t24\\n\\n品質管理システム\\n\\n概要\\n\\nKPMG AZSAは、KPMGインターナショナルの方針と手順を実施し、金融庁の企業会計審議会、日本政府、日本公認会計士協会（JICPA）およびその他の規制当局が発行する規則および基準、公認会計士法、会社法、金融商品取引法、その他の関連法規、JICPAの監査に関する監査基準および品質管理基準、JICPAの倫理規程および監査に関する実務指針に対処するための追加の方針と手順を採用しています。\\n\\n堅牢で一貫した品質管理システムは、高品質なサービスを提供する上で不可欠な要件です。したがって、KPMGインターナショナルには、すべてのメンバーファームに適用される品質管理方針があります。これらは、すべてのKPMGスタッフが利用できるKPMGのグローバル品質＆リスク管理マニュアル（グローバルQ＆RMマニュアル）に含まれています。\\n\\nこれらの方針と関連する手順は、メンバーファームが関連する専門基準、規制および法的要件に準拠し、状況に適した報告書を発行するのを支援するために設計されており、メンバーファームの人員が誠実さと客観性を持って仕事を遂行するのを助けます。これらの方針と手順は、国際監査および保証基準審議会（IAASB）が発行した国際品質管理基準1（ISQC 1）および国際倫理基準審議会（IESBA）が発行した専門会計士の倫理規程に基づいています。これらは、法定監査およびその他の保証および関連サービスエンゲージメントを実施するメンバーファームに関連しています。'"
      ]
     },
     "execution_count": 42,
     "metadata": {},
     "output_type": "execute_result"
    }
   ],
   "source": [
    "full_results[0][0].translated_content"
   ]
  },
  {
   "cell_type": "code",
   "execution_count": 43,
   "id": "71a29d1c-6737-4429-82a6-9ddcc5968f12",
   "metadata": {
    "collapsed": true,
    "jupyter": {
     "outputs_hidden": true
    }
   },
   "outputs": [
    {
     "ename": "NameError",
     "evalue": "name 'results' is not defined",
     "output_type": "error",
     "traceback": [
      "\u001b[0;31m---------------------------------------------------------------------------\u001b[0m",
      "\u001b[0;31mNameError\u001b[0m                                 Traceback (most recent call last)",
      "Cell \u001b[0;32mIn[43], line 6\u001b[0m\n\u001b[1;32m      3\u001b[0m \u001b[38;5;28;01mclass\u001b[39;00m \u001b[38;5;21;01mTranslateResponse\u001b[39;00m(BaseModel):\n\u001b[1;32m      4\u001b[0m     results: List[TranslateResult]\n\u001b[0;32m----> 6\u001b[0m TranslateResponse(results\u001b[38;5;241m=\u001b[39m\u001b[43mresults\u001b[49m)\n",
      "\u001b[0;31mNameError\u001b[0m: name 'results' is not defined"
     ]
    }
   ],
   "source": [
    "from typing import List, Optional\n",
    "\n",
    "class TranslateResponse(BaseModel):\n",
    "    results: List[TranslateResult]\n",
    "    \n",
    "TranslateResponse(results=results)"
   ]
  },
  {
   "cell_type": "markdown",
   "id": "2aa0ea66-15f9-4697-b787-6263ca56b012",
   "metadata": {
    "jp-MarkdownHeadingCollapsed": true
   },
   "source": [
    "## Postprocessing and Saving as DOCX"
   ]
  },
  {
   "cell_type": "code",
   "execution_count": 195,
   "id": "8041c80e-dc4a-4de0-a97a-998d6c62cfd8",
   "metadata": {},
   "outputs": [],
   "source": [
    "gpt_35_res_data = \" \".join([result.translated_content for result in final_results])\n",
    "\n",
    "with open(\"gpt_35_turbo_2000_translated.txt\", \"w\") as foo:\n",
    "    foo.write(gpt_35_res_data)"
   ]
  },
  {
   "cell_type": "code",
   "execution_count": 27,
   "id": "995b6728-f296-4034-a312-63adc8b45aaf",
   "metadata": {
    "collapsed": true,
    "jupyter": {
     "outputs_hidden": true
    }
   },
   "outputs": [
    {
     "ename": "NameError",
     "evalue": "name 'final_results' is not defined",
     "output_type": "error",
     "traceback": [
      "\u001b[0;31m---------------------------------------------------------------------------\u001b[0m",
      "\u001b[0;31mNameError\u001b[0m                                 Traceback (most recent call last)",
      "Cell \u001b[0;32mIn[27], line 1\u001b[0m\n\u001b[0;32m----> 1\u001b[0m gpt_4_res_data \u001b[38;5;241m=\u001b[39m \u001b[38;5;124m\"\u001b[39m\u001b[38;5;124m \u001b[39m\u001b[38;5;124m\"\u001b[39m\u001b[38;5;241m.\u001b[39mjoin([result\u001b[38;5;241m.\u001b[39mtranslated_content \u001b[38;5;28;01mfor\u001b[39;00m result \u001b[38;5;129;01min\u001b[39;00m \u001b[43mfinal_results\u001b[49m])\n\u001b[1;32m      3\u001b[0m \u001b[38;5;28;01mwith\u001b[39;00m \u001b[38;5;28mopen\u001b[39m(\u001b[38;5;124m\"\u001b[39m\u001b[38;5;124mgpt_4_1000_translated.txt\u001b[39m\u001b[38;5;124m\"\u001b[39m, \u001b[38;5;124m\"\u001b[39m\u001b[38;5;124mw\u001b[39m\u001b[38;5;124m\"\u001b[39m) \u001b[38;5;28;01mas\u001b[39;00m foo:\n\u001b[1;32m      4\u001b[0m     foo\u001b[38;5;241m.\u001b[39mwrite(gpt_4_res_data)\n",
      "\u001b[0;31mNameError\u001b[0m: name 'final_results' is not defined"
     ]
    }
   ],
   "source": [
    "gpt_4_res_data = \" \".join([result.translated_content for result in final_results])\n",
    "\n",
    "with open(\"gpt_4_1000_translated.txt\", \"w\") as foo:\n",
    "    foo.write(gpt_4_res_data)"
   ]
  },
  {
   "cell_type": "code",
   "execution_count": 62,
   "id": "cb199904-9f2b-4cde-b14e-7d62f5ab9492",
   "metadata": {},
   "outputs": [],
   "source": [
    "from docx import Document\n",
    "from docx.shared import Inches\n",
    "document = Document()\n",
    "\n",
    "document.add_heading('GPT 4 Translated Docx', 0)\n",
    "\n",
    "for result in final_results:\n",
    "    # document.add_paragraph(result.translated_content)\n",
    "\n",
    "    p = document.add_paragraph()\n",
    "    \n",
    "    r = p.add_run()\n",
    "    r.add_text(result)\n",
    "    # r.add_picture('./imgs/image1.png')\n",
    "    \n",
    "    if len(re.findall(r'<INSERT_IMG_1*>', result)) >0:\n",
    "        # print(\"True\")\n",
    "        # print(re.findall(r'<INSERT_IMG_1*>', gpt_4_res_data)[0])\n",
    "        r.add_picture('./imgs/image1.png')\n",
    "        result = re.sub(r'<INSERT_IMG_1>', \"\", result)\n",
    "    \n",
    "    # re.sub(r'<INSERT_IMG_1*>', r.add_picture('./imgs/image1.png'), gpt_4_res_data)\n",
    "\n",
    "document.save('gpt_4_1000_translated_postscript.docx')"
   ]
  },
  {
   "cell_type": "code",
   "execution_count": null,
   "id": "19c55710-75eb-4850-aba2-9ee2fdf88700",
   "metadata": {},
   "outputs": [],
   "source": []
  },
  {
   "cell_type": "code",
   "execution_count": null,
   "id": "98acfaac-2919-4485-bca2-4ab5d1a91e2e",
   "metadata": {},
   "outputs": [],
   "source": []
  },
  {
   "cell_type": "code",
   "execution_count": 46,
   "id": "124a19f5-2bfb-4525-bcd4-562b98e4c6ce",
   "metadata": {},
   "outputs": [
    {
     "data": {
      "text/plain": [
       "<docx.text.paragraph.Paragraph at 0x121676f70>"
      ]
     },
     "execution_count": 46,
     "metadata": {},
     "output_type": "execute_result"
    }
   ],
   "source": [
    "from docx import Document\n",
    "from docx.shared import Inches\n",
    "document = Document()\n",
    "\n",
    "document.add_heading('GPT 4 Translated Docx', 0)"
   ]
  },
  {
   "cell_type": "code",
   "execution_count": 197,
   "id": "53459e21-592c-4c29-bee7-b7b66310659d",
   "metadata": {},
   "outputs": [],
   "source": [
    "for result in final_results:\n",
    "    document.add_paragraph(result.translated_content)\n",
    "document.save('gpt_35_turbo_2000_translated.docx')"
   ]
  },
  {
   "cell_type": "code",
   "execution_count": 47,
   "id": "f3ae4de9-f7df-4bf2-b1c6-609327d5f094",
   "metadata": {},
   "outputs": [],
   "source": [
    "for result in final_results:\n",
    "    document.add_paragraph(result.translated_content)\n",
    "document.save('gpt_4_1000_translated.docx')"
   ]
  },
  {
   "cell_type": "code",
   "execution_count": null,
   "id": "f8df6afc-ea3a-403f-99c7-372effb1771a",
   "metadata": {},
   "outputs": [],
   "source": []
  },
  {
   "cell_type": "code",
   "execution_count": null,
   "id": "67be46b4-25b8-4560-8184-a220e6d26f8d",
   "metadata": {},
   "outputs": [],
   "source": []
  },
  {
   "cell_type": "markdown",
   "id": "48ae0733-0295-4081-a597-12b5e2780577",
   "metadata": {
    "jp-MarkdownHeadingCollapsed": true
   },
   "source": [
    "## Azure OpenAI Experiment metrics\n",
    "\n",
    "|Model |Chunk_size| Total Doc Chunks | Success | Failures (Time outs)| API Efficiency | Request timeout | Translation Status |\n",
    "|-----|--------|-----|-----|------|------|-----|-----|\n",
    "|gpt-4|1000 | 15 | 15 | 0| 100% | 240 | Complete |\n",
    "|gpt-4|1024 | 15 | 14 | 1| 93.33% | 240 | Incomplete |\n",
    "|gpt-4|2048 | 7 | 5 | 2| 71%| 300 | Incomplete |\n",
    "|gpt-4|2048 | 7 | 5 | 2| 71%| 300 | Incomplete |\n",
    "|gpt-4-32k|FULL | 1 | 0 | 1| 0%| 600 (default) | Incomplete |\n",
    "|gpt-35-turbo|1000 | 15 | 15 | 0| 100%| 600 (default) | Complete |\n",
    "|gpt-35-turbo|2000 | 15 | 15 | 0| 100%| 600 (default) | Complete |"
   ]
  },
  {
   "cell_type": "markdown",
   "id": "1358b444-c6f0-47b9-85e8-4eab4e9958d0",
   "metadata": {
    "jp-MarkdownHeadingCollapsed": true
   },
   "source": [
    "## Azure OpenAI : Key considerations and comparative analysis\n",
    "\n",
    "|Particulars |GPT 3.5| GPT 4 |\n",
    "|-----|--------|-----|\n",
    "|Chunck size | 1000 | 1000 | \n",
    "|BLEU Score| 0.7214570559938 | 0.7469914570559938 | \n",
    "|Deterministic temp| 0.0 | 0.0 |\n",
    "|top_p| 1 | 1 |\n",
    "|max_tokens per batch| 3000 | 3000 |\n"
   ]
  },
  {
   "cell_type": "markdown",
   "id": "dae25e57-9959-40dd-b2e4-2c2f1ea04e0a",
   "metadata": {},
   "source": [
    "## Azure OpenAI Costing Calculation "
   ]
  },
  {
   "cell_type": "code",
   "execution_count": 75,
   "id": "913d94de-81db-4617-b2c2-ae4543aaa182",
   "metadata": {},
   "outputs": [
    {
     "name": "stdout",
     "output_type": "stream",
     "text": [
      "GPT4 per doc translation cost in JPY = 185.53964000000002\n",
      "GPT3.5 per doc translation cost in JPY = 8.130666580000002\n"
     ]
    }
   ],
   "source": [
    "\n",
    "sys_message_tokens = 128\n",
    "user_messge_tokens = 13652\n",
    "ai_generated_tokens = 15000\n",
    "\n",
    "Total_tokens = sys_message_tokens + user_messge_tokens + ai_generated_tokens\n",
    "\n",
    "GPT4_Cost = ((ai_generated_tokens/1000)*8.476) + (((sys_message_tokens + user_messge_tokens)/1000)*4.238)\n",
    "GPT35_Cost = (Total_tokens/1000)*0.282511\n",
    "print(f\"GPT4 per doc translation cost in JPY = {GPT4_Cost}\") \n",
    "print(f\"GPT3.5 per doc translation cost in JPY = {GPT35_Cost}\") \n",
    "\n",
    "print(\"\\n\\n\")"
   ]
  },
  {
   "cell_type": "code",
   "execution_count": null,
   "id": "129e0f75-5942-4dcc-80eb-2f18f4567885",
   "metadata": {},
   "outputs": [],
   "source": []
  },
  {
   "cell_type": "markdown",
   "id": "e09c9c9b-6a15-4121-9903-f4a6f336a077",
   "metadata": {},
   "source": [
    "## Not addressed properly\n",
    "\n",
    "1. Does not take into account text formattings (bold, italic, capitalized etc.)\n",
    "2. Does on replace image, figures or charts back in translated docx\n",
    "3. No plug-ins or third-party software used, only programatically\n",
    "4. How timeouts cost will be calculated for direct feeding?\n",
    "5. Human evaluation of translated doc is not considered for the moment."
   ]
  },
  {
   "cell_type": "code",
   "execution_count": null,
   "id": "9ef97bd1-ee3a-4469-95f8-5744f340ab12",
   "metadata": {},
   "outputs": [],
   "source": []
  }
 ],
 "metadata": {
  "kernelspec": {
   "display_name": "Python 3 (ipykernel)",
   "language": "python",
   "name": "python3"
  },
  "language_info": {
   "codemirror_mode": {
    "name": "ipython",
    "version": 3
   },
   "file_extension": ".py",
   "mimetype": "text/x-python",
   "name": "python",
   "nbconvert_exporter": "python",
   "pygments_lexer": "ipython3",
   "version": "3.9.16"
  }
 },
 "nbformat": 4,
 "nbformat_minor": 5
}
